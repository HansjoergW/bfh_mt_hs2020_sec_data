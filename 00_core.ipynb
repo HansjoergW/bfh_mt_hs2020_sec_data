{
 "cells": [
  {
   "cell_type": "code",
   "execution_count": null,
   "metadata": {},
   "outputs": [],
   "source": [
    "# default_exp core"
   ]
  },
  {
   "cell_type": "markdown",
   "metadata": {},
   "source": [
    "# Core\n",
    "> API details."
   ]
  },
  {
   "cell_type": "code",
   "execution_count": null,
   "metadata": {},
   "outputs": [],
   "source": [
    "#hide\n",
    "from nbdev.showdoc import *"
   ]
  },
  {
   "cell_type": "markdown",
   "metadata": {},
   "source": [
    "## Init Spark"
   ]
  },
  {
   "cell_type": "code",
   "execution_count": null,
   "metadata": {},
   "outputs": [],
   "source": [
    "#export\n",
    "import findspark\n",
    "from pyspark.sql import SparkSession\n",
    "def get_spark_session(appname = \"default\"):\n",
    "    \"\"\"\n",
    "    Initialises a spark session. \n",
    "    Parameters:\n",
    "    appname - default is \"default\"\n",
    "    \"\"\"\n",
    "    findspark.init()\n",
    "    return SparkSession.builder \\\n",
    "                        .appName(appname) \\\n",
    "                        .getOrCreate()"
   ]
  },
  {
   "cell_type": "markdown",
   "metadata": {},
   "source": [
    "## File handling related functions"
   ]
  },
  {
   "cell_type": "code",
   "execution_count": null,
   "metadata": {},
   "outputs": [],
   "source": [
    "#export\n",
    "# code copied from https://www.thepythoncode.com/article/get-directory-size-in-bytes-using-python \n",
    "import os\n",
    "def get_directory_size(directory):\n",
    "    \"\"\"\n",
    "    Returns the `directory` size in bytes.\n",
    "    code copied from https://www.thepythoncode.com/article/get-directory-size-in-bytes-using-python \n",
    "    \"\"\"\n",
    "    total = 0\n",
    "    try:\n",
    "        # print(\"[+] Getting the size of\", directory)\n",
    "        for entry in os.scandir(directory):\n",
    "            if entry.is_file():\n",
    "                # if it's a file, use stat() function\n",
    "                total += entry.stat().st_size\n",
    "            elif entry.is_dir():\n",
    "                # if it's a directory, recursively call this function\n",
    "                total += get_directory_size(entry.path)\n",
    "    except NotADirectoryError:\n",
    "        # if `directory` isn't a directory, get the file size then\n",
    "        return os.path.getsize(directory)\n",
    "    except PermissionError:\n",
    "        # if for whatever reason we can't open the folder, return 0\n",
    "        return 0\n",
    "    return total"
   ]
  },
  {
   "cell_type": "code",
   "execution_count": null,
   "metadata": {},
   "outputs": [],
   "source": [
    "#export\n",
    "# code copied from https://www.thepythoncode.com/article/get-directory-size-in-bytes-using-python \n",
    "def get_size_format(b, factor=1024, suffix=\"B\"):\n",
    "    \"\"\"\n",
    "    Scale bytes to its proper byte format\n",
    "    e.g:\n",
    "        1253656 => '1.20MB'\n",
    "        1253656678 => '1.17GB'\n",
    "    code copied from https://www.thepythoncode.com/article/get-directory-size-in-bytes-using-python \n",
    "    \"\"\"\n",
    "    for unit in [\"\", \"K\", \"M\", \"G\", \"T\", \"P\", \"E\", \"Z\"]:\n",
    "        if b < factor:\n",
    "            return f\"{b:.2f}{unit}{suffix}\"\n",
    "        b /= factor\n",
    "    return f\"{b:.2f}Y{suffix}\""
   ]
  },
  {
   "cell_type": "code",
   "execution_count": null,
   "metadata": {},
   "outputs": [
    {
     "data": {
      "text/plain": [
       "'3.30MB'"
      ]
     },
     "execution_count": null,
     "metadata": {},
     "output_type": "execute_result"
    }
   ],
   "source": [
    "#hide\n",
    "get_size_format(get_directory_size(\".\"))"
   ]
  },
  {
   "cell_type": "code",
   "execution_count": null,
   "metadata": {},
   "outputs": [],
   "source": []
  }
 ],
 "metadata": {
  "kernelspec": {
   "display_name": "Python 3",
   "language": "python",
   "name": "python3"
  }
 },
 "nbformat": 4,
 "nbformat_minor": 4
}
