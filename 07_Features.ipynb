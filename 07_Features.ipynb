{
 "cells": [
  {
   "cell_type": "code",
   "execution_count": null,
   "metadata": {},
   "outputs": [],
   "source": [
    "# default_exp features"
   ]
  },
  {
   "cell_type": "code",
   "execution_count": null,
   "metadata": {},
   "outputs": [],
   "source": [
    "#hide\n",
    "from nbdev.showdoc import *"
   ]
  },
  {
   "cell_type": "code",
   "execution_count": null,
   "metadata": {},
   "outputs": [],
   "source": [
    "#hide\n",
    "# stellt sicher, dass beim verändern der core library diese wieder neu geladen wird\n",
    "%load_ext autoreload\n",
    "%autoreload 2"
   ]
  },
  {
   "cell_type": "markdown",
   "metadata": {},
   "source": [
    "# Features\n",
    "\n",
    "Generally, when we create the features (which are mainly ratios or growth rates) we have to ensure that we don't create null/nan or infinite values, since this can cause problem when the data is feed into MachineLearning/RL Algorithms. Moreover, we have to ensure that the datapoint lie in a meaningful range. This mainly means, that we have to handle outliers, which are way out of the normal spectrum.\n",
    "<br>\n",
    "Therefore, when we create the features, we will:\n",
    "- caculate the feature\n",
    "- handle null/nan values\n",
    "- ensuring the data lies in a meaningful range\n",
    "<br>\n",
    "We mainly use the boxplot visualisation in order to define a meaningful range."
   ]
  },
  {
   "cell_type": "code",
   "execution_count": null,
   "metadata": {},
   "outputs": [],
   "source": [
    "# imports\n",
    "from bfh_mt_hs2020_sec_data.core import * \n",
    "from pathlib import Path\n",
    "from typing import List, Tuple, Union, Set\n",
    "\n",
    "import pandas as pd\n",
    "import numpy as np\n",
    "\n",
    "import shutil          # provides high level file operations\n",
    "import time            # used to measure execution time\n",
    "import os\n",
    "import sys\n",
    "\n",
    "import matplotlib.pyplot as plt\n",
    "import seaborn as sns; sns.set()"
   ]
  },
  {
   "cell_type": "code",
   "execution_count": null,
   "metadata": {},
   "outputs": [],
   "source": [
    "all_data_local_folder = \"./data/\"\n",
    "\n",
    "join_group = [\"cik\",\"ticker\",\"adsh\",\"period\",\"filed\",\"form\",\"fp\"]"
   ]
  },
  {
   "cell_type": "markdown",
   "metadata": {},
   "source": [
    "## 00_Tools"
   ]
  },
  {
   "cell_type": "code",
   "execution_count": null,
   "metadata": {},
   "outputs": [],
   "source": [
    "def load_combined_data() -> pd.DataFrame:\n",
    "    df = pd.read_csv(all_data_local_folder + \"06_all_combined.csv\")\n",
    "\n",
    "    df.period = pd.to_datetime(df.period)\n",
    "    df.filed = pd.to_datetime(df.filed)\n",
    "    \n",
    "    df.sort_values('period', inplace = True)\n",
    "    df.reset_index(inplace = True)\n",
    "    df = df.drop(['index'], axis=1)\n",
    "    return df"
   ]
  },
  {
   "cell_type": "code",
   "execution_count": null,
   "metadata": {},
   "outputs": [],
   "source": [
    "def print_null_counts(df, cols):\n",
    "    for col in cols:\n",
    "        null_count = df[col].isnull().sum()\n",
    "        if null_count > 0:\n",
    "            print('null: ', col, ' ', null_count)"
   ]
  },
  {
   "cell_type": "code",
   "execution_count": null,
   "metadata": {},
   "outputs": [],
   "source": [
    "def print_inf_counts(df, cols):\n",
    "    for col in cols:\n",
    "        inf_count = ((df[col] == np.inf) | (df[col] == -np.inf)).sum()\n",
    "        if inf_count > 0:\n",
    "            print('inf: ', col, ' ', inf_count)"
   ]
  },
  {
   "cell_type": "code",
   "execution_count": null,
   "metadata": {},
   "outputs": [],
   "source": [
    "def cap_ratios(df, col, min_value, max_value):\n",
    "    df.loc[(df[col] ==    np.inf), col] = max_value\n",
    "    df.loc[(df[col]  > max_value), col] = max_value\n",
    "    df.loc[(df[col] ==   -np.inf), col] = min_value\n",
    "    df.loc[(df[col]  < min_value), col] = min_value"
   ]
  },
  {
   "cell_type": "markdown",
   "metadata": {},
   "source": [
    "## 01_Load"
   ]
  },
  {
   "cell_type": "code",
   "execution_count": null,
   "metadata": {},
   "outputs": [
    {
     "name": "stdout",
     "output_type": "stream",
     "text": [
      "(94819, 31)\n",
      "{'Liabilities', 'AssetsCurrent', 'GrossProfit', 'CashIncreaseDecrease_hj', 'Revenues_hj', 'CashFromOperating', 'AssetsNoncurrent', 'index', 'PaymentsForRepurchaseOfStockTotal_hj', 'Equity_hj', 'Assets', 'LiabilitiesCurrent', 'cf_qtrs', 'is_qtrs', 'NetIncomeLoss', 'NetIncomeLoss_hj', 'LiabilitiesNoncurrent', 'ProfitLoss', 'CashFromFinancing', 'PaymentsOfDividendsTotal_hj', 'OperatingIncomeLoss_hj', 'bs_qtrs', 'CashFromInvesting', 'RetainedEarnings_hj'}\n"
     ]
    }
   ],
   "source": [
    "df = load_combined_data()\n",
    "print(df.shape)\n",
    "print((set(df.columns) - set(join_group)))"
   ]
  },
  {
   "cell_type": "markdown",
   "metadata": {},
   "source": [
    "## 02_Basic Features"
   ]
  },
  {
   "cell_type": "code",
   "execution_count": null,
   "metadata": {},
   "outputs": [],
   "source": [
    "df['period_day_of_week']   = df.period.dt.dayofweek\n",
    "df['period_day_of_month']  = df.period.dt.day\n",
    "df['period_day_of_year']   = df.period.dt.dayofyear\n",
    "df['period_week_of_year']  = df.period.dt.weekofyear\n",
    "df['period_month_of_year'] = df.period.dt.month"
   ]
  },
  {
   "cell_type": "markdown",
   "metadata": {},
   "source": [
    "## 03_In-report Ratios Features\n",
    "\n",
    "Contains features, that are created based on the data inside a single report."
   ]
  },
  {
   "cell_type": "markdown",
   "metadata": {},
   "source": [
    "**BalanceSheet Ratios**\n",
    "- WorkingCapitalToAssets = (CurrentAssets - CurrentLiabilities) / CurrentAssets\n",
    "- CurrentRatio = CurrentAssets / CurrentLiabilities\n",
    "- DebtToEquity = Liabilities / Equity\n",
    "- DebtRatio = TotalLiabilities/TotalAssets\n",
    "\n",
    "\n",
    "**IncomeStatement Ratios**\n",
    "- NetProfitMargin  = GrossProfit / Revenues\n",
    "- OperatingMargin  = OperatingIncome / Revenues\n",
    "- NetIncomeMargin  = NetIncome / Revenues \n",
    "\n",
    "\n",
    "**Cashflow Ratios**\n",
    "- CashGeneratingPowerRatio = CashFromOperations / (CashFromOperations + CashFromFinancing + CashFromInvesting)\n",
    "- ExternalFinancingIndexRatio = CashFromFinancing / CashFromOperations)\n",
    "\n",
    "\n",
    "**IncomeStatment / BalanceSheet**\n",
    "- ReturnOnEquity = NetIncome / (Average) Equity \n",
    "- ReturnOnAssets = NetIncome / TotalAssets\n",
    "- AssetsTurnoverRatio = NetSales / TotalAssets\n",
    "\n",
    "(Variation: NetIncome: use TTM NetIncome -> NetIncome during the last 12 months)\n",
    "(Variation: Total Assets: Use average of Assets over the period)\n",
    "\n",
    "\n",
    "**IncomeStatement / CashFlow**\n",
    "- Dividend Payout Ratio = DividendsPaid / NetIncome\n",
    "- StockRepurchaseRatio = PaymentsForStockRepurchase / NetIncome \n",
    "- Operating Cash Flow Ratio = CashFromOperations / Revenue\n",
    "\n",
    "\n",
    "**BalanceSheet / CashFlow**\n",
    "- AssetEfficiencyRatio = CashFromOperations / Assets\n",
    "- CurrentLiabilityCoverageRatio = (CashFromOperations - DividendsPaid)/CurrentLiabilities\n",
    "- LongTermDebtCoverageRatio = (CashFromOperations - DividendsPaid)/NonCurrentLiabilities"
   ]
  },
  {
   "cell_type": "markdown",
   "metadata": {},
   "source": [
    "### BalanceSheet Ratios\n",
    "#### calculate"
   ]
  },
  {
   "cell_type": "code",
   "execution_count": null,
   "metadata": {},
   "outputs": [],
   "source": [
    "bs_ratio_cols = ['r_workcapToAssets','r_currentRatio','r_deptToEquity','r_deptRatio']"
   ]
  },
  {
   "cell_type": "code",
   "execution_count": null,
   "metadata": {},
   "outputs": [],
   "source": [
    "# WorkingCapitalToAssets = (CurrentAssets - CurrentLiabilities) / CurrentAssets\n",
    "df['r_workcapToAssets'] = (df.AssetsCurrent - df.LiabilitiesCurrent) / df.AssetsCurrent\n",
    "\n",
    "# CurrentRatio = CurrentAssets / CurrentLiabilities\n",
    "df['r_currentRatio']  = df.AssetsCurrent / df.LiabilitiesCurrent\n",
    "\n",
    "# DebtToEquity = Liabilities / Equity\n",
    "df['r_deptToEquity']  = df.Liabilities / df.Equity_hj\n",
    "\n",
    "# DebtRatio = TotalLiabilities/TotalAssets\n",
    "df['r_deptRatio']  = df.Liabilities / df.Assets"
   ]
  },
  {
   "cell_type": "code",
   "execution_count": null,
   "metadata": {},
   "outputs": [
    {
     "name": "stdout",
     "output_type": "stream",
     "text": [
      "inf:  r_currentRatio   2\n",
      "inf:  r_deptToEquity   5\n",
      "null:  r_workcapToAssets   4\n",
      "null:  r_currentRatio   4\n",
      "null:  r_deptToEquity   4\n",
      "null:  r_deptRatio   4\n"
     ]
    }
   ],
   "source": [
    "# check for null/nan and inf values\n",
    "print_inf_counts(df, bs_ratio_cols)\n",
    "print_null_counts(df, bs_ratio_cols)"
   ]
  },
  {
   "cell_type": "markdown",
   "metadata": {},
   "source": [
    "#### correct null/na"
   ]
  },
  {
   "cell_type": "code",
   "execution_count": null,
   "metadata": {},
   "outputs": [],
   "source": [
    "# WorkingCapitalToAssets = (CurrentAssets - CurrentLiabilities) / CurrentAssets\n",
    "df.loc[df.r_workcapToAssets.isnull() & (df.LiabilitiesCurrent == 0.0), 'r_workcapToAssets'] = 1.0\n",
    "\n",
    "# CurrentRatio = CurrentAssets / CurrentLiabilities\n",
    "# if there is no current dept, set the current ratio to 1\n",
    "df.loc[df.r_currentRatio.isnull() & (df.LiabilitiesCurrent == 0.0), 'r_currentRatio'] = 1.0\n",
    "\n",
    "# DebtToEquity = Liabilities / Equity\n",
    "df.loc[df.r_deptToEquity.isnull() & (df.Liabilities == 0.0), 'r_deptToEquity'] = 0.0\n",
    "\n",
    "# DebtRatio = TotalLiabilities/TotalAssets\n",
    "# if there is no total dept, set the deptRatio to 1\n",
    "df.loc[df.r_deptRatio.isnull() & (df.Liabilities == 0.0), 'r_deptRatio'] = 1.0"
   ]
  },
  {
   "cell_type": "markdown",
   "metadata": {},
   "source": [
    "#### correct range"
   ]
  },
  {
   "cell_type": "code",
   "execution_count": null,
   "metadata": {},
   "outputs": [],
   "source": [
    "cap_ratios(df, 'r_deptToEquity', -5, 7) # a good ratio is below 2\n",
    "cap_ratios(df, 'r_currentRatio', 0, 7) # a good current ratio is between 1..2, a 10\n",
    "cap_ratios(df, 'r_deptRatio',   0, 3) #  a good debt to asset ratio should be below 1, so a 5 is already a bad sign\n",
    "cap_ratios(df, 'r_workcapToAssets',   -2, 5) #  a good debt to asset ratio should be below 1, so a 5 is already a bad sign"
   ]
  },
  {
   "cell_type": "code",
   "execution_count": null,
   "metadata": {},
   "outputs": [
    {
     "data": {
      "text/plain": [
       "<AxesSubplot:>"
      ]
     },
     "execution_count": null,
     "metadata": {},
     "output_type": "execute_result"
    },
    {
     "data": {
      "image/png": "[encoded data removed]",
      "text/plain": [
       "<Figure size 432x288 with 1 Axes>"
      ]
     },
     "metadata": {},
     "output_type": "display_data"
    }
   ],
   "source": [
    "df[bs_ratio_cols].plot.box()"
   ]
  },
  {
   "cell_type": "code",
   "execution_count": null,
   "metadata": {},
   "outputs": [],
   "source": [
    "# final check for null/nan and inf values\n",
    "print_inf_counts(df, bs_ratio_cols)\n",
    "print_null_counts(df, bs_ratio_cols)"
   ]
  },
  {
   "cell_type": "markdown",
   "metadata": {},
   "source": [
    "### IncomeStatement Ratios\n",
    "#### calculate"
   ]
  },
  {
   "cell_type": "code",
   "execution_count": null,
   "metadata": {},
   "outputs": [],
   "source": [
    "is_ratio_cols = ['r_netProfitMargin','r_operatingMargin','r_netIncomeMargin']"
   ]
  },
  {
   "cell_type": "code",
   "execution_count": null,
   "metadata": {},
   "outputs": [],
   "source": [
    "# NetProfitMargin  = GrossProfit / Revenues\n",
    "df['r_netProfitMargin'] = df.GrossProfit / df.Revenues_hj\n",
    "\n",
    "# OperatingMargin  = OperatingIncome / Revenues\n",
    "df['r_operatingMargin'] = df.OperatingIncomeLoss_hj / df.Revenues_hj\n",
    "\n",
    "# NetIncomeMargin  = NetIncome / Revenues \n",
    "df['r_netIncomeMargin'] = df.NetIncomeLoss_hj / df.Revenues_hj"
   ]
  },
  {
   "cell_type": "code",
   "execution_count": null,
   "metadata": {},
   "outputs": [
    {
     "name": "stdout",
     "output_type": "stream",
     "text": [
      "inf:  r_netProfitMargin   2145\n",
      "inf:  r_operatingMargin   3428\n",
      "inf:  r_netIncomeMargin   3428\n",
      "null:  r_netProfitMargin   1283\n"
     ]
    }
   ],
   "source": [
    "# check for null/nan and inf values\n",
    "print_inf_counts(df, is_ratio_cols)\n",
    "print_null_counts(df, is_ratio_cols)"
   ]
  },
  {
   "cell_type": "markdown",
   "metadata": {},
   "source": [
    "#### correct null/na"
   ]
  },
  {
   "cell_type": "code",
   "execution_count": null,
   "metadata": {},
   "outputs": [],
   "source": [
    "# if there is no GrossProfit, set, netProfitMargin to 0.0\n",
    "df.loc[df.r_netProfitMargin.isnull() & (df.GrossProfit == 0.0), 'r_netProfitMargin'] = 0.0"
   ]
  },
  {
   "cell_type": "markdown",
   "metadata": {},
   "source": [
    "#### correct range"
   ]
  },
  {
   "cell_type": "code",
   "execution_count": null,
   "metadata": {},
   "outputs": [],
   "source": [
    "# this ratio should be between 0 and 1, everything else is not \"normal\". Therefore, we limit the range to -1..2\n",
    "cap_ratios(df, 'r_netProfitMargin', -1, 2)\n",
    "cap_ratios(df, 'r_operatingMargin', -1, 1)\n",
    "cap_ratios(df, 'r_netIncomeMargin', -1, 1)"
   ]
  },
  {
   "cell_type": "code",
   "execution_count": null,
   "metadata": {},
   "outputs": [
    {
     "data": {
      "text/plain": [
       "<AxesSubplot:>"
      ]
     },
     "execution_count": null,
     "metadata": {},
     "output_type": "execute_result"
    },
    {
     "data": {
      "image/png": "[encoded data removed]",
      "text/plain": [
       "<Figure size 432x288 with 1 Axes>"
      ]
     },
     "metadata": {},
     "output_type": "display_data"
    }
   ],
   "source": [
    "df[is_ratio_cols].plot.box()"
   ]
  },
  {
   "cell_type": "code",
   "execution_count": null,
   "metadata": {},
   "outputs": [],
   "source": [
    "# final check for null/nan and inf values\n",
    "print_inf_counts(df, is_ratio_cols)\n",
    "print_null_counts(df, is_ratio_cols)"
   ]
  },
  {
   "cell_type": "markdown",
   "metadata": {},
   "source": [
    "### CashFlow Ratios\n",
    "#### calculate"
   ]
  },
  {
   "cell_type": "code",
   "execution_count": null,
   "metadata": {},
   "outputs": [],
   "source": [
    "cf_ratio_cols = ['r_cashGenPowerRatio','r_extFinancingIndexRatio']"
   ]
  },
  {
   "cell_type": "code",
   "execution_count": null,
   "metadata": {},
   "outputs": [],
   "source": [
    "# CashGeneratingPowerRatio = CashFromOperations / (CashFromOperations + CashFromFinancing + CashFromInvesting)\n",
    "df['r_cashGenPowerRatio'] = df.CashFromOperating / (df.CashFromOperating + df.CashFromFinancing + df.CashFromInvesting)\n",
    "\n",
    "# ExternalFinancingIndexRatio = CashFromFinancing / CashFromOperations)\n",
    "df['r_extFinancingIndexRatio'] = df.CashFromFinancing / df.CashFromOperating"
   ]
  },
  {
   "cell_type": "code",
   "execution_count": null,
   "metadata": {},
   "outputs": [
    {
     "name": "stdout",
     "output_type": "stream",
     "text": [
      "inf:  r_cashGenPowerRatio   262\n",
      "inf:  r_extFinancingIndexRatio   3\n",
      "null:  r_cashGenPowerRatio   4\n",
      "null:  r_extFinancingIndexRatio   4\n"
     ]
    }
   ],
   "source": [
    "# check for null/nan and inf values\n",
    "print_inf_counts(df, cf_ratio_cols)\n",
    "print_null_counts(df, cf_ratio_cols)"
   ]
  },
  {
   "cell_type": "markdown",
   "metadata": {},
   "source": [
    "#### correct null/na"
   ]
  },
  {
   "cell_type": "code",
   "execution_count": null,
   "metadata": {},
   "outputs": [],
   "source": [
    "df.loc[df.r_cashGenPowerRatio.isnull() & (df.CashFromOperating == 0.0), 'r_cashGenPowerRatio'] = 0.0\n",
    "df.loc[df.r_extFinancingIndexRatio.isnull() & (df.CashFromFinancing == 0.0), 'r_extFinancingIndexRatio'] = 0.0"
   ]
  },
  {
   "cell_type": "markdown",
   "metadata": {},
   "source": [
    "#### correct range"
   ]
  },
  {
   "cell_type": "code",
   "execution_count": null,
   "metadata": {},
   "outputs": [],
   "source": [
    "cap_ratios(df, 'r_cashGenPowerRatio', -5, 10)\n",
    "cap_ratios(df, 'r_extFinancingIndexRatio', -5, 5)"
   ]
  },
  {
   "cell_type": "code",
   "execution_count": null,
   "metadata": {},
   "outputs": [
    {
     "data": {
      "text/plain": [
       "<AxesSubplot:>"
      ]
     },
     "execution_count": null,
     "metadata": {},
     "output_type": "execute_result"
    },
    {
     "data": {
      "image/png": "[encoded data removed]",
      "text/plain": [
       "<Figure size 432x288 with 1 Axes>"
      ]
     },
     "metadata": {},
     "output_type": "display_data"
    }
   ],
   "source": [
    "df[cf_ratio_cols].plot.box()"
   ]
  },
  {
   "cell_type": "code",
   "execution_count": null,
   "metadata": {},
   "outputs": [],
   "source": [
    "# final check for null/nan and inf values\n",
    "print_inf_counts(df, cf_ratio_cols)\n",
    "print_null_counts(df, cf_ratio_cols)"
   ]
  },
  {
   "cell_type": "markdown",
   "metadata": {},
   "source": [
    "### IncomeStatment / BalanceSheet Ratios\n",
    "#### calculate"
   ]
  },
  {
   "cell_type": "code",
   "execution_count": null,
   "metadata": {},
   "outputs": [],
   "source": [
    "isbs_ratio_cols = ['r_returnOnEquity','r_returnOnAssets','r_assetsTurnoverRatio']"
   ]
  },
  {
   "cell_type": "code",
   "execution_count": null,
   "metadata": {},
   "outputs": [],
   "source": [
    "# ReturnOnEquity = NetIncome / (Average) Equity \n",
    "df['r_returnOnEquity'] = df.NetIncomeLoss_hj / df.Equity_hj\n",
    "\n",
    "# ReturnOnAssets = NetIncome / TotalAssets\n",
    "df['r_returnOnAssets'] = df.NetIncomeLoss_hj / df.Assets\n",
    "\n",
    "# AssetsTurnoverRatio = NetSales / TotalAssets\n",
    "df['r_assetsTurnoverRatio'] = df.Revenues_hj / df.Assets "
   ]
  },
  {
   "cell_type": "code",
   "execution_count": null,
   "metadata": {},
   "outputs": [
    {
     "name": "stdout",
     "output_type": "stream",
     "text": [
      "inf:  r_returnOnEquity   9\n",
      "inf:  r_returnOnAssets   4\n",
      "inf:  r_assetsTurnoverRatio   4\n"
     ]
    }
   ],
   "source": [
    "# check for null/nan and inf values\n",
    "print_inf_counts(df, isbs_ratio_cols)\n",
    "print_null_counts(df, isbs_ratio_cols)"
   ]
  },
  {
   "cell_type": "markdown",
   "metadata": {},
   "source": [
    "#### correct range"
   ]
  },
  {
   "cell_type": "code",
   "execution_count": null,
   "metadata": {},
   "outputs": [],
   "source": [
    "cap_ratios(df, 'r_returnOnEquity',     -0.5, 0.5)\n",
    "cap_ratios(df, 'r_returnOnAssets',     -0.5, 0.5)\n",
    "cap_ratios(df, 'r_assetsTurnoverRatio',-1, 1)"
   ]
  },
  {
   "cell_type": "code",
   "execution_count": null,
   "metadata": {},
   "outputs": [
    {
     "data": {
      "text/plain": [
       "<AxesSubplot:>"
      ]
     },
     "execution_count": null,
     "metadata": {},
     "output_type": "execute_result"
    },
    {
     "data": {
      "image/png": "[encoded data removed]",
      "text/plain": [
       "<Figure size 432x288 with 1 Axes>"
      ]
     },
     "metadata": {},
     "output_type": "display_data"
    }
   ],
   "source": [
    "df[isbs_ratio_cols].plot.box()"
   ]
  },
  {
   "cell_type": "code",
   "execution_count": null,
   "metadata": {},
   "outputs": [],
   "source": [
    "# final check for null/nan and inf values\n",
    "print_inf_counts(df, isbs_ratio_cols)\n",
    "print_null_counts(df, isbs_ratio_cols)"
   ]
  },
  {
   "cell_type": "markdown",
   "metadata": {},
   "source": [
    "### IncomeStatement / CashFlow\n",
    "#### calculate"
   ]
  },
  {
   "cell_type": "code",
   "execution_count": null,
   "metadata": {},
   "outputs": [],
   "source": [
    "iscf_ratio_cols = ['r_dividendPayoutRatio','r_stockRepurchaseRatio','r_operatingCashFlowRatio']"
   ]
  },
  {
   "cell_type": "code",
   "execution_count": null,
   "metadata": {},
   "outputs": [],
   "source": [
    "# Dividend Payout Ratio = DividendsPaid / NetIncome\n",
    "df['r_dividendPayoutRatio'] = df.PaymentsOfDividendsTotal_hj / df.NetIncomeLoss_hj\n",
    "\n",
    "# StockRepurchaseRatio = PaymentsForStockRepurchase / NetIncome \n",
    "df['r_stockRepurchaseRatio'] = df.PaymentsForRepurchaseOfStockTotal_hj / df.NetIncomeLoss_hj\n",
    "\n",
    "# Operating Cash Flow Ratio = CashFromOperations / Revenue\n",
    "df['r_operatingCashFlowRatio'] = df.CashFromOperating / df.Revenues_hj"
   ]
  },
  {
   "cell_type": "code",
   "execution_count": null,
   "metadata": {},
   "outputs": [
    {
     "name": "stdout",
     "output_type": "stream",
     "text": [
      "inf:  r_dividendPayoutRatio   2\n",
      "inf:  r_stockRepurchaseRatio   3\n",
      "inf:  r_operatingCashFlowRatio   3428\n",
      "null:  r_dividendPayoutRatio   3\n",
      "null:  r_stockRepurchaseRatio   2\n"
     ]
    }
   ],
   "source": [
    "# check for null/nan and inf values\n",
    "print_inf_counts(df, iscf_ratio_cols)\n",
    "print_null_counts(df, iscf_ratio_cols)"
   ]
  },
  {
   "cell_type": "markdown",
   "metadata": {},
   "source": [
    "#### correct null/na"
   ]
  },
  {
   "cell_type": "code",
   "execution_count": null,
   "metadata": {},
   "outputs": [],
   "source": [
    "# df['r_dividendPayoutRatio'] = df.PaymentsOfDividendsTotal_hj / df.NetIncomeLoss_hj\n",
    "df.loc[df.r_dividendPayoutRatio.isnull() & (df.PaymentsOfDividendsTotal_hj == 0.0), 'r_dividendPayoutRatio'] = 0.0\n",
    "\n",
    "# df['r_stockRepurchaseRatio'] = df.PaymentsForRepurchaseOfStockTotal_hj / df.NetIncomeLoss_hj\n",
    "df.loc[df.r_stockRepurchaseRatio.isnull() & (df.PaymentsForRepurchaseOfStockTotal_hj == 0.0), 'r_stockRepurchaseRatio'] = 0.0"
   ]
  },
  {
   "cell_type": "markdown",
   "metadata": {},
   "source": [
    "#### correct range"
   ]
  },
  {
   "cell_type": "code",
   "execution_count": null,
   "metadata": {},
   "outputs": [],
   "source": [
    "cap_ratios(df, 'r_dividendPayoutRatio', -2, 2)\n",
    "cap_ratios(df, 'r_stockRepurchaseRatio', -2, 2)\n",
    "cap_ratios(df, 'r_operatingCashFlowRatio', -2, 2)"
   ]
  },
  {
   "cell_type": "code",
   "execution_count": null,
   "metadata": {},
   "outputs": [
    {
     "data": {
      "text/plain": [
       "<AxesSubplot:>"
      ]
     },
     "execution_count": null,
     "metadata": {},
     "output_type": "execute_result"
    },
    {
     "data": {
      "image/png": "[encoded data removed]",
      "text/plain": [
       "<Figure size 432x288 with 1 Axes>"
      ]
     },
     "metadata": {},
     "output_type": "display_data"
    }
   ],
   "source": [
    "df[iscf_ratio_cols].plot.box()"
   ]
  },
  {
   "cell_type": "code",
   "execution_count": null,
   "metadata": {},
   "outputs": [],
   "source": [
    "# final check for null/nan and inf values\n",
    "print_inf_counts(df, iscf_ratio_cols)\n",
    "print_null_counts(df, iscf_ratio_cols)"
   ]
  },
  {
   "cell_type": "markdown",
   "metadata": {},
   "source": [
    "### BalanceSheet / CashFlow\n",
    "#### calculate"
   ]
  },
  {
   "cell_type": "code",
   "execution_count": null,
   "metadata": {},
   "outputs": [],
   "source": [
    "bscf_ratio_cols = ['r_assetEfficiencyRatio','r_currentLiabCoverageRatio','r_longtermDeptCoverageRatio']"
   ]
  },
  {
   "cell_type": "code",
   "execution_count": null,
   "metadata": {},
   "outputs": [],
   "source": [
    "# AssetEfficiencyRatio = CashFromOperations / Assets\n",
    "df['r_assetEfficiencyRatio'] = df.CashFromOperating / df.Assets \n",
    "\n",
    "# CurrentLiabilityCoverageRatio = (CashFromOperations - DividendsPaid) / CurrentLiabilities\n",
    "df['r_currentLiabCoverageRatio'] = (df.CashFromOperating - df.PaymentsOfDividendsTotal_hj) / df.LiabilitiesCurrent  \n",
    "\n",
    "# LongTermDebtCoverageRatio = (CashFromOperations - DividendsPaid) / NonCurrentLiabilities\n",
    "df['r_longtermDeptCoverageRatio']  =  (df.CashFromOperating - df.PaymentsOfDividendsTotal_hj) / df.LiabilitiesNoncurrent"
   ]
  },
  {
   "cell_type": "code",
   "execution_count": null,
   "metadata": {},
   "outputs": [
    {
     "name": "stdout",
     "output_type": "stream",
     "text": [
      "inf:  r_assetEfficiencyRatio   4\n",
      "inf:  r_currentLiabCoverageRatio   6\n",
      "inf:  r_longtermDeptCoverageRatio   39048\n",
      "null:  r_longtermDeptCoverageRatio   23\n"
     ]
    }
   ],
   "source": [
    "# check for null/nan and inf values\n",
    "print_inf_counts(df, bscf_ratio_cols)\n",
    "print_null_counts(df, bscf_ratio_cols)"
   ]
  },
  {
   "cell_type": "markdown",
   "metadata": {},
   "source": [
    "#### correct null/na"
   ]
  },
  {
   "cell_type": "code",
   "execution_count": null,
   "metadata": {},
   "outputs": [],
   "source": [
    "df.loc[(df.r_longtermDeptCoverageRatio.isnull() &(df.LiabilitiesNoncurrent == 0.0)), 'r_longtermDeptCoverageRatio'] = 10.0"
   ]
  },
  {
   "cell_type": "markdown",
   "metadata": {},
   "source": [
    "#### correct range"
   ]
  },
  {
   "cell_type": "code",
   "execution_count": null,
   "metadata": {},
   "outputs": [],
   "source": [
    "cap_ratios(df, 'r_longtermDeptCoverageRatio', -10, 10)\n",
    "cap_ratios(df, 'r_currentLiabCoverageRatio', -1, 1)\n",
    "cap_ratios(df, 'r_assetEfficiencyRatio', -0.5, 0.5)"
   ]
  },
  {
   "cell_type": "code",
   "execution_count": null,
   "metadata": {},
   "outputs": [
    {
     "data": {
      "text/plain": [
       "<AxesSubplot:>"
      ]
     },
     "execution_count": null,
     "metadata": {},
     "output_type": "execute_result"
    },
    {
     "data": {
      "image/png": "[encoded data removed]",
      "text/plain": [
       "<Figure size 432x288 with 1 Axes>"
      ]
     },
     "metadata": {},
     "output_type": "display_data"
    },
    {
     "data": {
      "image/png": "[encoded data removed]",
      "text/plain": [
       "<Figure size 432x288 with 1 Axes>"
      ]
     },
     "metadata": {},
     "output_type": "display_data"
    }
   ],
   "source": [
    "df[bscf_ratio_cols].plot.box()\n",
    "df[['r_currentLiabCoverageRatio','r_assetEfficiencyRatio']].plot.box()"
   ]
  },
  {
   "cell_type": "code",
   "execution_count": null,
   "metadata": {},
   "outputs": [],
   "source": [
    "# final check for null/nan and inf values\n",
    "print_inf_counts(df, bscf_ratio_cols)\n",
    "print_null_counts(df, bscf_ratio_cols)"
   ]
  },
  {
   "cell_type": "markdown",
   "metadata": {},
   "source": [
    "### Save"
   ]
  },
  {
   "cell_type": "code",
   "execution_count": null,
   "metadata": {},
   "outputs": [
    {
     "data": {
      "text/plain": [
       "Index(['index', 'cik', 'ticker', 'adsh', 'period', 'filed', 'form', 'bs_qtrs',\n",
       "       'fp', 'Assets', 'AssetsNoncurrent', 'AssetsCurrent', 'Liabilities',\n",
       "       'LiabilitiesNoncurrent', 'LiabilitiesCurrent', 'Equity_hj',\n",
       "       'RetainedEarnings_hj', 'cf_qtrs', 'CashIncreaseDecrease_hj',\n",
       "       'NetIncomeLoss', 'ProfitLoss', 'CashFromOperating', 'CashFromInvesting',\n",
       "       'CashFromFinancing', 'PaymentsOfDividendsTotal_hj',\n",
       "       'PaymentsForRepurchaseOfStockTotal_hj', 'is_qtrs', 'Revenues_hj',\n",
       "       'GrossProfit', 'OperatingIncomeLoss_hj', 'NetIncomeLoss_hj',\n",
       "       'period_day_of_week', 'period_day_of_month', 'period_day_of_year',\n",
       "       'period_week_of_year', 'period_month_of_year', 'r_workcapToAssets',\n",
       "       'r_currentRatio', 'r_deptToEquity', 'r_deptRatio', 'r_netProfitMargin',\n",
       "       'r_operatingMargin', 'r_netIncomeMargin', 'r_cashGenPowerRatio',\n",
       "       'r_extFinancingIndexRatio', 'r_returnOnEquity', 'r_returnOnAssets',\n",
       "       'r_assetsTurnoverRatio', 'r_dividendPayoutRatio',\n",
       "       'r_stockRepurchaseRatio', 'r_operatingCashFlowRatio',\n",
       "       'r_assetEfficiencyRatio', 'r_currentLiabCoverageRatio',\n",
       "       'r_longtermDeptCoverageRatio'],\n",
       "      dtype='object')"
      ]
     },
     "execution_count": null,
     "metadata": {},
     "output_type": "execute_result"
    }
   ],
   "source": [
    "df.columns"
   ]
  },
  {
   "cell_type": "code",
   "execution_count": null,
   "metadata": {},
   "outputs": [],
   "source": [
    "df.to_csv(all_data_local_folder + \"07_all_features_ratios.csv\", index=False)"
   ]
  },
  {
   "cell_type": "markdown",
   "metadata": {},
   "source": [
    "## 04_Increase/Decrease Features - \"Change Ratios\""
   ]
  },
  {
   "cell_type": "markdown",
   "metadata": {},
   "source": [
    "The growthrate of an attribute is defined by <br>\n",
    "(newValue - lastValue) / lastValue\n",
    "\n",
    "For instance: lastYearsRevenue = 10 Mio, thisYearRevenue = 20 Mio => (20 - 10) / 10 = 2\n",
    "\n",
    "But we have distinguish if \"lastValue\" was negativ.<p>\n",
    "For instance: lastYearsRevenue = -10 Mio, thisYearRevenue = -20 Mio => (-20 - -10) / -10 => (-20 + 10) / -10 = 2<br>\n",
    "Would also equals to 2.0, as in the example with 20Mio and 10Mio\n",
    "<p>\n",
    "Therefore, for every \"growthrate\"-feature two features will be created. The first one ends with \"_p\" and contains the value when the \"lastValue\" was > 0 and the second names with \"_n\" and contains the results when \"lastValue\" was < 0.\n",
    "\n",
    "This is done based on the Quater, so Q1 data are compared with the last Q1, Q2 with the last Q2, Q3 with the last Q3 and FY with the last FY. \n",
    "\n",
    "Growth-Rates for the following positions will be calculated:\n",
    "<br>\n",
    "**BalanceSheet GrowthRatios for**\n",
    "- AssetsCurrent\n",
    "- AssetsNoncurrent\n",
    "- LiabilitiesCurrent\n",
    "- LiabilitiesNoncurrent\n",
    "- Equity_hj\n",
    "    \n",
    "**IncomeStatement GrowthRatios for**  \n",
    "- Revenues_hj\n",
    "- GrossProfit\n",
    "- OperatingIncomeLoss_hj\n",
    "- NetIncomeLoss_hj\n",
    "- RetainedEarnings_hj\n",
    "\n",
    "**CashflowStatement GrowthRatios for**\n",
    "- CashFromInvesting\n",
    "- CashFromFinancing\n",
    "- CashFromOperating\n",
    "- PaymentsOfDividendsTotal_hj\n",
    "\n"
   ]
  },
  {
   "cell_type": "code",
   "execution_count": null,
   "metadata": {},
   "outputs": [],
   "source": [
    "def calculate_growth(all_df: pd.DataFrame, grouped_df: pd.DataFrame, data_cols:List[str], new_cols_prefix:List[str]):\n",
    "    \n",
    "    for data_col, new_col_prefix in zip(data_cols, new_cols_prefix):\n",
    "        col_name_p = new_col_prefix + \"_p\"\n",
    "        col_name_n = new_col_prefix + \"_n\"\n",
    "        \n",
    "        all_df.loc[grouped_df.index[0], col_name_p] = 1.0\n",
    "        all_df.loc[grouped_df.index[0], col_name_n] = 0.0\n",
    "    \n",
    "        is_positiv_arr = (grouped_df[data_col] > 0.0).to_numpy()\n",
    "        is_negativ_arr = (grouped_df[data_col] < 0.0).to_numpy()\n",
    "        data_arr = all_df.loc[grouped_df.index, data_col].to_numpy()\n",
    "        \n",
    "        change_arr = ((data_arr[1:] - data_arr[:-1]) / data_arr[:-1])\n",
    "\n",
    "        all_df.loc[grouped_df.index[1:], col_name_p] =  is_positiv_arr[:-1] * change_arr\n",
    "        all_df.loc[grouped_df.index[1:], col_name_n] =  is_negativ_arr[:-1] * change_arr"
   ]
  },
  {
   "cell_type": "code",
   "execution_count": null,
   "metadata": {},
   "outputs": [],
   "source": [
    "list_data_cols = ['Revenues_hj', 'GrossProfit', 'OperatingIncomeLoss_hj', 'NetIncomeLoss_hj', 'RetainedEarnings_hj', 'Equity_hj']\n",
    "list_new_cols  = ['gr_revenue' , 'gr_grosspr' , 'gr_opiincome',           'gr_netincome',     'gr_earnings',         'gr_equity']\n",
    "\n",
    "list_data_cols.extend(['AssetsCurrent', 'AssetsNoncurrent', 'LiabilitiesCurrent', 'LiabilitiesNoncurrent'])\n",
    "list_new_cols.extend( ['gr_asscur',     'gr_assnoncur',     'gr_liabcur',         'gr_liabnoncur'        ])\n",
    "\n",
    "list_data_cols.extend(['CashFromInvesting', 'CashFromFinancing', 'CashFromOperating', 'PaymentsOfDividendsTotal_hj'])\n",
    "list_new_cols.extend( ['gr_cashfrominv',    'gr_cashfromfin',    'gr_cashfromope',    'gr_dividends'])"
   ]
  },
  {
   "cell_type": "code",
   "execution_count": null,
   "metadata": {},
   "outputs": [],
   "source": [
    "# multiprocessing is not really working in jupyter on windows\n",
    "# therfore there ist the 07_features_growth.py skript, which which enables multiprocessing\n",
    "\n",
    "start = time.time()\n",
    "for ticker, entry in df.groupby(['cik', 'fp']):\n",
    "    print('.',end=\"\")\n",
    "    calculate_growth(df, entry, list_data_cols, list_new_cols)\n",
    "print(\"duration: \", time.time() - start)"
   ]
  },
  {
   "cell_type": "markdown",
   "metadata": {},
   "source": [
    "### Save"
   ]
  },
  {
   "cell_type": "markdown",
   "metadata": {},
   "source": [
    "df.to_csv(all_data_local_folder + \"07_all_features_complete.csv\", index=False)"
   ]
  },
  {
   "cell_type": "markdown",
   "metadata": {},
   "source": [
    "## XX_Trials"
   ]
  },
  {
   "cell_type": "code",
   "execution_count": null,
   "metadata": {},
   "outputs": [
    {
     "data": {
      "text/html": [
       "<div>\n",
       "<style scoped>\n",
       "    .dataframe tbody tr th:only-of-type {\n",
       "        vertical-align: middle;\n",
       "    }\n",
       "\n",
       "    .dataframe tbody tr th {\n",
       "        vertical-align: top;\n",
       "    }\n",
       "\n",
       "    .dataframe thead th {\n",
       "        text-align: right;\n",
       "    }\n",
       "</style>\n",
       "<table border=\"1\" class=\"dataframe\">\n",
       "  <thead>\n",
       "    <tr style=\"text-align: right;\">\n",
       "      <th></th>\n",
       "      <th>period</th>\n",
       "      <th>period_year</th>\n",
       "      <th>fp</th>\n",
       "      <th>Revenues_hj</th>\n",
       "      <th>CashFromOperating</th>\n",
       "      <th>CashFromFinancing</th>\n",
       "      <th>CashFromInvesting</th>\n",
       "      <th>RetainedEarnings_hj</th>\n",
       "    </tr>\n",
       "  </thead>\n",
       "  <tbody>\n",
       "    <tr>\n",
       "      <th>91201</th>\n",
       "      <td>2012-03-31</td>\n",
       "      <td>2012</td>\n",
       "      <td>Q2</td>\n",
       "      <td>3.918600e+10</td>\n",
       "      <td>3.153100e+10</td>\n",
       "      <td>3.790000e+08</td>\n",
       "      <td>-3.160400e+10</td>\n",
       "      <td>8.712400e+10</td>\n",
       "    </tr>\n",
       "    <tr>\n",
       "      <th>17177</th>\n",
       "      <td>2012-06-30</td>\n",
       "      <td>2012</td>\n",
       "      <td>Q3</td>\n",
       "      <td>3.502300e+10</td>\n",
       "      <td>4.172000e+10</td>\n",
       "      <td>3.240000e+08</td>\n",
       "      <td>-4.391400e+10</td>\n",
       "      <td>9.564100e+10</td>\n",
       "    </tr>\n",
       "    <tr>\n",
       "      <th>87974</th>\n",
       "      <td>2012-09-30</td>\n",
       "      <td>2012</td>\n",
       "      <td>FY</td>\n",
       "      <td>1.565080e+11</td>\n",
       "      <td>5.085600e+10</td>\n",
       "      <td>-1.698000e+09</td>\n",
       "      <td>-4.822700e+10</td>\n",
       "      <td>1.012890e+11</td>\n",
       "    </tr>\n",
       "    <tr>\n",
       "      <th>83302</th>\n",
       "      <td>2012-12-31</td>\n",
       "      <td>2012</td>\n",
       "      <td>Q1</td>\n",
       "      <td>5.451200e+10</td>\n",
       "      <td>2.342600e+10</td>\n",
       "      <td>-4.497000e+09</td>\n",
       "      <td>-1.352100e+10</td>\n",
       "      <td>1.095670e+11</td>\n",
       "    </tr>\n",
       "    <tr>\n",
       "      <th>81220</th>\n",
       "      <td>2013-03-31</td>\n",
       "      <td>2013</td>\n",
       "      <td>Q2</td>\n",
       "      <td>4.360300e+10</td>\n",
       "      <td>3.593000e+10</td>\n",
       "      <td>-6.745000e+09</td>\n",
       "      <td>-2.787800e+10</td>\n",
       "      <td>1.165720e+11</td>\n",
       "    </tr>\n",
       "    <tr>\n",
       "      <th>25646</th>\n",
       "      <td>2013-06-30</td>\n",
       "      <td>2013</td>\n",
       "      <td>Q3</td>\n",
       "      <td>3.532300e+10</td>\n",
       "      <td>4.375800e+10</td>\n",
       "      <td>-8.871000e+09</td>\n",
       "      <td>-3.438500e+10</td>\n",
       "      <td>1.045640e+11</td>\n",
       "    </tr>\n",
       "    <tr>\n",
       "      <th>11380</th>\n",
       "      <td>2013-09-30</td>\n",
       "      <td>2013</td>\n",
       "      <td>FY</td>\n",
       "      <td>1.709100e+11</td>\n",
       "      <td>5.366600e+10</td>\n",
       "      <td>-1.637900e+10</td>\n",
       "      <td>-3.377400e+10</td>\n",
       "      <td>1.042560e+11</td>\n",
       "    </tr>\n",
       "    <tr>\n",
       "      <th>47724</th>\n",
       "      <td>2013-12-31</td>\n",
       "      <td>2013</td>\n",
       "      <td>Q1</td>\n",
       "      <td>5.759400e+10</td>\n",
       "      <td>2.267000e+10</td>\n",
       "      <td>-7.749000e+09</td>\n",
       "      <td>-1.510300e+10</td>\n",
       "      <td>1.094310e+11</td>\n",
       "    </tr>\n",
       "    <tr>\n",
       "      <th>48452</th>\n",
       "      <td>2014-03-31</td>\n",
       "      <td>2014</td>\n",
       "      <td>Q2</td>\n",
       "      <td>4.564600e+10</td>\n",
       "      <td>3.620800e+10</td>\n",
       "      <td>-2.815600e+10</td>\n",
       "      <td>-3.362000e+09</td>\n",
       "      <td>9.893400e+10</td>\n",
       "    </tr>\n",
       "    <tr>\n",
       "      <th>41986</th>\n",
       "      <td>2014-06-30</td>\n",
       "      <td>2014</td>\n",
       "      <td>Q3</td>\n",
       "      <td>3.743200e+10</td>\n",
       "      <td>4.646300e+10</td>\n",
       "      <td>-2.216900e+10</td>\n",
       "      <td>-2.557600e+10</td>\n",
       "      <td>9.871500e+10</td>\n",
       "    </tr>\n",
       "    <tr>\n",
       "      <th>39718</th>\n",
       "      <td>2014-09-30</td>\n",
       "      <td>2014</td>\n",
       "      <td>FY</td>\n",
       "      <td>1.827950e+11</td>\n",
       "      <td>5.971300e+10</td>\n",
       "      <td>-3.754900e+10</td>\n",
       "      <td>-2.257900e+10</td>\n",
       "      <td>8.715200e+10</td>\n",
       "    </tr>\n",
       "    <tr>\n",
       "      <th>24764</th>\n",
       "      <td>2014-12-31</td>\n",
       "      <td>2014</td>\n",
       "      <td>Q1</td>\n",
       "      <td>7.459900e+10</td>\n",
       "      <td>3.372200e+10</td>\n",
       "      <td>-6.923000e+09</td>\n",
       "      <td>-2.116500e+10</td>\n",
       "      <td>9.717800e+10</td>\n",
       "    </tr>\n",
       "    <tr>\n",
       "      <th>28062</th>\n",
       "      <td>2015-03-31</td>\n",
       "      <td>2015</td>\n",
       "      <td>Q2</td>\n",
       "      <td>5.801000e+10</td>\n",
       "      <td>5.280300e+10</td>\n",
       "      <td>-8.662000e+09</td>\n",
       "      <td>-4.349600e+10</td>\n",
       "      <td>1.009200e+11</td>\n",
       "    </tr>\n",
       "    <tr>\n",
       "      <th>55802</th>\n",
       "      <td>2015-06-30</td>\n",
       "      <td>2015</td>\n",
       "      <td>Q3</td>\n",
       "      <td>4.960500e+10</td>\n",
       "      <td>6.779100e+10</td>\n",
       "      <td>-1.141700e+10</td>\n",
       "      <td>-5.489900e+10</td>\n",
       "      <td>9.825200e+10</td>\n",
       "    </tr>\n",
       "    <tr>\n",
       "      <th>62602</th>\n",
       "      <td>2015-09-30</td>\n",
       "      <td>2015</td>\n",
       "      <td>FY</td>\n",
       "      <td>2.337150e+11</td>\n",
       "      <td>8.126600e+10</td>\n",
       "      <td>-1.771600e+10</td>\n",
       "      <td>-5.627400e+10</td>\n",
       "      <td>9.228400e+10</td>\n",
       "    </tr>\n",
       "    <tr>\n",
       "      <th>86365</th>\n",
       "      <td>2015-12-31</td>\n",
       "      <td>2015</td>\n",
       "      <td>Q1</td>\n",
       "      <td>7.587200e+10</td>\n",
       "      <td>2.746300e+10</td>\n",
       "      <td>-1.144400e+10</td>\n",
       "      <td>-2.045000e+10</td>\n",
       "      <td>1.014940e+11</td>\n",
       "    </tr>\n",
       "    <tr>\n",
       "      <th>43633</th>\n",
       "      <td>2016-03-31</td>\n",
       "      <td>2016</td>\n",
       "      <td>Q2</td>\n",
       "      <td>5.055700e+10</td>\n",
       "      <td>3.906400e+10</td>\n",
       "      <td>-4.560000e+09</td>\n",
       "      <td>-3.411000e+10</td>\n",
       "      <td>1.020210e+11</td>\n",
       "    </tr>\n",
       "    <tr>\n",
       "      <th>67883</th>\n",
       "      <td>2016-06-30</td>\n",
       "      <td>2016</td>\n",
       "      <td>Q3</td>\n",
       "      <td>4.235800e+10</td>\n",
       "      <td>4.969800e+10</td>\n",
       "      <td>-1.400100e+10</td>\n",
       "      <td>-3.858000e+10</td>\n",
       "      <td>9.654200e+10</td>\n",
       "    </tr>\n",
       "    <tr>\n",
       "      <th>35935</th>\n",
       "      <td>2016-09-30</td>\n",
       "      <td>2016</td>\n",
       "      <td>FY</td>\n",
       "      <td>2.156390e+11</td>\n",
       "      <td>6.582400e+10</td>\n",
       "      <td>-2.048300e+10</td>\n",
       "      <td>-4.597700e+10</td>\n",
       "      <td>9.636400e+10</td>\n",
       "    </tr>\n",
       "    <tr>\n",
       "      <th>84002</th>\n",
       "      <td>2016-12-31</td>\n",
       "      <td>2016</td>\n",
       "      <td>Q1</td>\n",
       "      <td>7.835100e+10</td>\n",
       "      <td>2.705600e+10</td>\n",
       "      <td>-1.204700e+10</td>\n",
       "      <td>-1.912200e+10</td>\n",
       "      <td>1.000010e+11</td>\n",
       "    </tr>\n",
       "    <tr>\n",
       "      <th>83929</th>\n",
       "      <td>2017-03-31</td>\n",
       "      <td>2017</td>\n",
       "      <td>Q2</td>\n",
       "      <td>5.289600e+10</td>\n",
       "      <td>3.957900e+10</td>\n",
       "      <td>-1.158200e+10</td>\n",
       "      <td>-3.332400e+10</td>\n",
       "      <td>1.009250e+11</td>\n",
       "    </tr>\n",
       "    <tr>\n",
       "      <th>11632</th>\n",
       "      <td>2017-06-30</td>\n",
       "      <td>2017</td>\n",
       "      <td>Q3</td>\n",
       "      <td>4.540800e+10</td>\n",
       "      <td>4.794200e+10</td>\n",
       "      <td>-1.335100e+10</td>\n",
       "      <td>-3.650400e+10</td>\n",
       "      <td>9.852500e+10</td>\n",
       "    </tr>\n",
       "    <tr>\n",
       "      <th>85301</th>\n",
       "      <td>2017-09-30</td>\n",
       "      <td>2017</td>\n",
       "      <td>FY</td>\n",
       "      <td>2.292340e+11</td>\n",
       "      <td>6.359800e+10</td>\n",
       "      <td>-1.734700e+10</td>\n",
       "      <td>-4.644600e+10</td>\n",
       "      <td>9.833000e+10</td>\n",
       "    </tr>\n",
       "    <tr>\n",
       "      <th>11381</th>\n",
       "      <td>2017-12-31</td>\n",
       "      <td>2017</td>\n",
       "      <td>Q1</td>\n",
       "      <td>8.829300e+10</td>\n",
       "      <td>2.829300e+10</td>\n",
       "      <td>-7.501000e+09</td>\n",
       "      <td>-1.359000e+10</td>\n",
       "      <td>1.045930e+11</td>\n",
       "    </tr>\n",
       "    <tr>\n",
       "      <th>65256</th>\n",
       "      <td>2018-03-31</td>\n",
       "      <td>2018</td>\n",
       "      <td>Q2</td>\n",
       "      <td>6.113700e+10</td>\n",
       "      <td>4.342300e+10</td>\n",
       "      <td>-3.377300e+10</td>\n",
       "      <td>1.512000e+10</td>\n",
       "      <td>9.189800e+10</td>\n",
       "    </tr>\n",
       "    <tr>\n",
       "      <th>61536</th>\n",
       "      <td>2018-06-30</td>\n",
       "      <td>2018</td>\n",
       "      <td>Q3</td>\n",
       "      <td>5.326500e+10</td>\n",
       "      <td>5.791100e+10</td>\n",
       "      <td>-6.529600e+10</td>\n",
       "      <td>1.906700e+10</td>\n",
       "      <td>7.943600e+10</td>\n",
       "    </tr>\n",
       "    <tr>\n",
       "      <th>48718</th>\n",
       "      <td>2018-09-30</td>\n",
       "      <td>2018</td>\n",
       "      <td>FY</td>\n",
       "      <td>2.655950e+11</td>\n",
       "      <td>7.743400e+10</td>\n",
       "      <td>-8.787600e+10</td>\n",
       "      <td>1.606600e+10</td>\n",
       "      <td>7.040000e+10</td>\n",
       "    </tr>\n",
       "    <tr>\n",
       "      <th>21180</th>\n",
       "      <td>2018-12-31</td>\n",
       "      <td>2018</td>\n",
       "      <td>Q1</td>\n",
       "      <td>8.431000e+10</td>\n",
       "      <td>2.669000e+10</td>\n",
       "      <td>-1.367600e+10</td>\n",
       "      <td>5.844000e+09</td>\n",
       "      <td>8.051000e+10</td>\n",
       "    </tr>\n",
       "    <tr>\n",
       "      <th>48717</th>\n",
       "      <td>2019-03-31</td>\n",
       "      <td>2019</td>\n",
       "      <td>Q2</td>\n",
       "      <td>5.801500e+10</td>\n",
       "      <td>3.784500e+10</td>\n",
       "      <td>-4.313300e+10</td>\n",
       "      <td>1.919200e+10</td>\n",
       "      <td>6.455800e+10</td>\n",
       "    </tr>\n",
       "    <tr>\n",
       "      <th>29712</th>\n",
       "      <td>2019-06-30</td>\n",
       "      <td>2019</td>\n",
       "      <td>Q3</td>\n",
       "      <td>5.380900e+10</td>\n",
       "      <td>4.948100e+10</td>\n",
       "      <td>-6.993700e+10</td>\n",
       "      <td>4.669400e+10</td>\n",
       "      <td>5.372400e+10</td>\n",
       "    </tr>\n",
       "    <tr>\n",
       "      <th>24717</th>\n",
       "      <td>2019-09-30</td>\n",
       "      <td>2019</td>\n",
       "      <td>FY</td>\n",
       "      <td>2.601740e+11</td>\n",
       "      <td>6.939100e+10</td>\n",
       "      <td>-9.097600e+10</td>\n",
       "      <td>4.589600e+10</td>\n",
       "      <td>4.589800e+10</td>\n",
       "    </tr>\n",
       "    <tr>\n",
       "      <th>46837</th>\n",
       "      <td>2019-12-31</td>\n",
       "      <td>2019</td>\n",
       "      <td>Q1</td>\n",
       "      <td>9.181900e+10</td>\n",
       "      <td>3.051600e+10</td>\n",
       "      <td>-2.540700e+10</td>\n",
       "      <td>-1.366800e+10</td>\n",
       "      <td>4.397700e+10</td>\n",
       "    </tr>\n",
       "    <tr>\n",
       "      <th>2270</th>\n",
       "      <td>2020-03-31</td>\n",
       "      <td>2020</td>\n",
       "      <td>Q2</td>\n",
       "      <td>5.831300e+10</td>\n",
       "      <td>4.382700e+10</td>\n",
       "      <td>-4.634700e+10</td>\n",
       "      <td>-4.655000e+09</td>\n",
       "      <td>3.318200e+10</td>\n",
       "    </tr>\n",
       "    <tr>\n",
       "      <th>19522</th>\n",
       "      <td>2020-06-30</td>\n",
       "      <td>2020</td>\n",
       "      <td>Q3</td>\n",
       "      <td>5.968500e+10</td>\n",
       "      <td>6.009800e+10</td>\n",
       "      <td>-6.546300e+10</td>\n",
       "      <td>-9.820000e+09</td>\n",
       "      <td>2.413600e+10</td>\n",
       "    </tr>\n",
       "  </tbody>\n",
       "</table>\n",
       "</div>"
      ],
      "text/plain": [
       "          period period_year  fp   Revenues_hj  CashFromOperating  \\\n",
       "91201 2012-03-31        2012  Q2  3.918600e+10       3.153100e+10   \n",
       "17177 2012-06-30        2012  Q3  3.502300e+10       4.172000e+10   \n",
       "87974 2012-09-30        2012  FY  1.565080e+11       5.085600e+10   \n",
       "83302 2012-12-31        2012  Q1  5.451200e+10       2.342600e+10   \n",
       "81220 2013-03-31        2013  Q2  4.360300e+10       3.593000e+10   \n",
       "25646 2013-06-30        2013  Q3  3.532300e+10       4.375800e+10   \n",
       "11380 2013-09-30        2013  FY  1.709100e+11       5.366600e+10   \n",
       "47724 2013-12-31        2013  Q1  5.759400e+10       2.267000e+10   \n",
       "48452 2014-03-31        2014  Q2  4.564600e+10       3.620800e+10   \n",
       "41986 2014-06-30        2014  Q3  3.743200e+10       4.646300e+10   \n",
       "39718 2014-09-30        2014  FY  1.827950e+11       5.971300e+10   \n",
       "24764 2014-12-31        2014  Q1  7.459900e+10       3.372200e+10   \n",
       "28062 2015-03-31        2015  Q2  5.801000e+10       5.280300e+10   \n",
       "55802 2015-06-30        2015  Q3  4.960500e+10       6.779100e+10   \n",
       "62602 2015-09-30        2015  FY  2.337150e+11       8.126600e+10   \n",
       "86365 2015-12-31        2015  Q1  7.587200e+10       2.746300e+10   \n",
       "43633 2016-03-31        2016  Q2  5.055700e+10       3.906400e+10   \n",
       "67883 2016-06-30        2016  Q3  4.235800e+10       4.969800e+10   \n",
       "35935 2016-09-30        2016  FY  2.156390e+11       6.582400e+10   \n",
       "84002 2016-12-31        2016  Q1  7.835100e+10       2.705600e+10   \n",
       "83929 2017-03-31        2017  Q2  5.289600e+10       3.957900e+10   \n",
       "11632 2017-06-30        2017  Q3  4.540800e+10       4.794200e+10   \n",
       "85301 2017-09-30        2017  FY  2.292340e+11       6.359800e+10   \n",
       "11381 2017-12-31        2017  Q1  8.829300e+10       2.829300e+10   \n",
       "65256 2018-03-31        2018  Q2  6.113700e+10       4.342300e+10   \n",
       "61536 2018-06-30        2018  Q3  5.326500e+10       5.791100e+10   \n",
       "48718 2018-09-30        2018  FY  2.655950e+11       7.743400e+10   \n",
       "21180 2018-12-31        2018  Q1  8.431000e+10       2.669000e+10   \n",
       "48717 2019-03-31        2019  Q2  5.801500e+10       3.784500e+10   \n",
       "29712 2019-06-30        2019  Q3  5.380900e+10       4.948100e+10   \n",
       "24717 2019-09-30        2019  FY  2.601740e+11       6.939100e+10   \n",
       "46837 2019-12-31        2019  Q1  9.181900e+10       3.051600e+10   \n",
       "2270  2020-03-31        2020  Q2  5.831300e+10       4.382700e+10   \n",
       "19522 2020-06-30        2020  Q3  5.968500e+10       6.009800e+10   \n",
       "\n",
       "       CashFromFinancing  CashFromInvesting  RetainedEarnings_hj  \n",
       "91201       3.790000e+08      -3.160400e+10         8.712400e+10  \n",
       "17177       3.240000e+08      -4.391400e+10         9.564100e+10  \n",
       "87974      -1.698000e+09      -4.822700e+10         1.012890e+11  \n",
       "83302      -4.497000e+09      -1.352100e+10         1.095670e+11  \n",
       "81220      -6.745000e+09      -2.787800e+10         1.165720e+11  \n",
       "25646      -8.871000e+09      -3.438500e+10         1.045640e+11  \n",
       "11380      -1.637900e+10      -3.377400e+10         1.042560e+11  \n",
       "47724      -7.749000e+09      -1.510300e+10         1.094310e+11  \n",
       "48452      -2.815600e+10      -3.362000e+09         9.893400e+10  \n",
       "41986      -2.216900e+10      -2.557600e+10         9.871500e+10  \n",
       "39718      -3.754900e+10      -2.257900e+10         8.715200e+10  \n",
       "24764      -6.923000e+09      -2.116500e+10         9.717800e+10  \n",
       "28062      -8.662000e+09      -4.349600e+10         1.009200e+11  \n",
       "55802      -1.141700e+10      -5.489900e+10         9.825200e+10  \n",
       "62602      -1.771600e+10      -5.627400e+10         9.228400e+10  \n",
       "86365      -1.144400e+10      -2.045000e+10         1.014940e+11  \n",
       "43633      -4.560000e+09      -3.411000e+10         1.020210e+11  \n",
       "67883      -1.400100e+10      -3.858000e+10         9.654200e+10  \n",
       "35935      -2.048300e+10      -4.597700e+10         9.636400e+10  \n",
       "84002      -1.204700e+10      -1.912200e+10         1.000010e+11  \n",
       "83929      -1.158200e+10      -3.332400e+10         1.009250e+11  \n",
       "11632      -1.335100e+10      -3.650400e+10         9.852500e+10  \n",
       "85301      -1.734700e+10      -4.644600e+10         9.833000e+10  \n",
       "11381      -7.501000e+09      -1.359000e+10         1.045930e+11  \n",
       "65256      -3.377300e+10       1.512000e+10         9.189800e+10  \n",
       "61536      -6.529600e+10       1.906700e+10         7.943600e+10  \n",
       "48718      -8.787600e+10       1.606600e+10         7.040000e+10  \n",
       "21180      -1.367600e+10       5.844000e+09         8.051000e+10  \n",
       "48717      -4.313300e+10       1.919200e+10         6.455800e+10  \n",
       "29712      -6.993700e+10       4.669400e+10         5.372400e+10  \n",
       "24717      -9.097600e+10       4.589600e+10         4.589800e+10  \n",
       "46837      -2.540700e+10      -1.366800e+10         4.397700e+10  \n",
       "2270       -4.634700e+10      -4.655000e+09         3.318200e+10  \n",
       "19522      -6.546300e+10      -9.820000e+09         2.413600e+10  "
      ]
     },
     "execution_count": null,
     "metadata": {},
     "output_type": "execute_result"
    }
   ],
   "source": [
    "#df[df.ticker == 'AAPL'].sort_values('period')[['adsh','period', 'period_year','fp','bs_qtrs','is_qtrs','cf_qtrs','CashFromOperating','CashFromFinancing','CashFromInvesting','RetainedEarnings_hj']]\n",
    "df[df.ticker == 'AAPL'].sort_values('period')[['period', 'period_year','fp','Revenues_hj','CashFromOperating','CashFromFinancing','CashFromInvesting','RetainedEarnings_hj']]"
   ]
  },
  {
   "cell_type": "code",
   "execution_count": null,
   "metadata": {},
   "outputs": [
    {
     "data": {
      "text/plain": [
       "<AxesSubplot:xlabel='period'>"
      ]
     },
     "execution_count": null,
     "metadata": {},
     "output_type": "execute_result"
    },
    {
     "data": {
      "image/png": "[encoded data removed]",
      "text/plain": [
       "<Figure size 432x288 with 1 Axes>"
      ]
     },
     "metadata": {},
     "output_type": "display_data"
    }
   ],
   "source": [
    "df[df.ticker == 'AAPL'].sort_values('period')[['Revenues_hj', 'period']].set_index('period').plot()"
   ]
  },
  {
   "cell_type": "code",
   "execution_count": null,
   "metadata": {},
   "outputs": [
    {
     "data": {
      "text/html": [
       "<div>\n",
       "<style scoped>\n",
       "    .dataframe tbody tr th:only-of-type {\n",
       "        vertical-align: middle;\n",
       "    }\n",
       "\n",
       "    .dataframe tbody tr th {\n",
       "        vertical-align: top;\n",
       "    }\n",
       "\n",
       "    .dataframe thead th {\n",
       "        text-align: right;\n",
       "    }\n",
       "</style>\n",
       "<table border=\"1\" class=\"dataframe\">\n",
       "  <thead>\n",
       "    <tr style=\"text-align: right;\">\n",
       "      <th></th>\n",
       "      <th>index</th>\n",
       "      <th>cik</th>\n",
       "      <th>ticker</th>\n",
       "      <th>adsh</th>\n",
       "      <th>period</th>\n",
       "      <th>filed</th>\n",
       "      <th>form</th>\n",
       "      <th>bs_qtrs</th>\n",
       "      <th>fp</th>\n",
       "      <th>Assets</th>\n",
       "      <th>...</th>\n",
       "      <th>r_returnOnAssets</th>\n",
       "      <th>r_assetsTurnoverRatio</th>\n",
       "      <th>r_dividendPayoutRatio</th>\n",
       "      <th>r_stockRepurchaseRatio</th>\n",
       "      <th>r_operatingCashFlowRatio</th>\n",
       "      <th>r_assetEfficiencyRatio</th>\n",
       "      <th>r_currentLiabCoverageRatio</th>\n",
       "      <th>r_longtermDeptCoverageRatio</th>\n",
       "      <th>period_year</th>\n",
       "      <th>period_month</th>\n",
       "    </tr>\n",
       "  </thead>\n",
       "  <tbody>\n",
       "    <tr>\n",
       "      <th>0</th>\n",
       "      <td>91201</td>\n",
       "      <td>320193</td>\n",
       "      <td>AAPL</td>\n",
       "      <td>0001193125-12-182321</td>\n",
       "      <td>2012-03-31</td>\n",
       "      <td>2012-04-25</td>\n",
       "      <td>10-Q</td>\n",
       "      <td>0.0</td>\n",
       "      <td>Q2</td>\n",
       "      <td>1.509340e+11</td>\n",
       "      <td>...</td>\n",
       "      <td>0.077001</td>\n",
       "      <td>0.259623</td>\n",
       "      <td>0.000000</td>\n",
       "      <td>0.000000</td>\n",
       "      <td>0.804650</td>\n",
       "      <td>0.208906</td>\n",
       "      <td>0.984236</td>\n",
       "      <td>1.922622</td>\n",
       "      <td>2012</td>\n",
       "      <td>2012-03</td>\n",
       "    </tr>\n",
       "    <tr>\n",
       "      <th>1</th>\n",
       "      <td>6675</td>\n",
       "      <td>50863</td>\n",
       "      <td>INTC</td>\n",
       "      <td>0001193125-12-212253</td>\n",
       "      <td>2012-03-31</td>\n",
       "      <td>2012-05-04</td>\n",
       "      <td>10-Q</td>\n",
       "      <td>0.0</td>\n",
       "      <td>Q1</td>\n",
       "      <td>7.181700e+10</td>\n",
       "      <td>...</td>\n",
       "      <td>0.038125</td>\n",
       "      <td>0.179707</td>\n",
       "      <td>0.383126</td>\n",
       "      <td>0.554785</td>\n",
       "      <td>0.230280</td>\n",
       "      <td>0.041383</td>\n",
       "      <td>0.161042</td>\n",
       "      <td>inf</td>\n",
       "      <td>2012</td>\n",
       "      <td>2012-03</td>\n",
       "    </tr>\n",
       "    <tr>\n",
       "      <th>2</th>\n",
       "      <td>32844</td>\n",
       "      <td>50863</td>\n",
       "      <td>INTC</td>\n",
       "      <td>0001193125-12-329132</td>\n",
       "      <td>2012-06-30</td>\n",
       "      <td>2012-08-01</td>\n",
       "      <td>10-Q</td>\n",
       "      <td>0.0</td>\n",
       "      <td>Q2</td>\n",
       "      <td>7.235200e+10</td>\n",
       "      <td>...</td>\n",
       "      <td>0.039073</td>\n",
       "      <td>0.186602</td>\n",
       "      <td>0.744959</td>\n",
       "      <td>1.031128</td>\n",
       "      <td>0.571143</td>\n",
       "      <td>0.106576</td>\n",
       "      <td>0.531885</td>\n",
       "      <td>inf</td>\n",
       "      <td>2012</td>\n",
       "      <td>2012-06</td>\n",
       "    </tr>\n",
       "    <tr>\n",
       "      <th>3</th>\n",
       "      <td>17177</td>\n",
       "      <td>320193</td>\n",
       "      <td>AAPL</td>\n",
       "      <td>0001193125-12-314552</td>\n",
       "      <td>2012-06-30</td>\n",
       "      <td>2012-07-25</td>\n",
       "      <td>10-Q</td>\n",
       "      <td>0.0</td>\n",
       "      <td>Q3</td>\n",
       "      <td>1.628960e+11</td>\n",
       "      <td>...</td>\n",
       "      <td>0.054170</td>\n",
       "      <td>0.215002</td>\n",
       "      <td>0.000000</td>\n",
       "      <td>0.000000</td>\n",
       "      <td>1.191217</td>\n",
       "      <td>0.256114</td>\n",
       "      <td>1.261948</td>\n",
       "      <td>2.306247</td>\n",
       "      <td>2012</td>\n",
       "      <td>2012-06</td>\n",
       "    </tr>\n",
       "    <tr>\n",
       "      <th>4</th>\n",
       "      <td>87974</td>\n",
       "      <td>320193</td>\n",
       "      <td>AAPL</td>\n",
       "      <td>0001193125-12-444068</td>\n",
       "      <td>2012-09-30</td>\n",
       "      <td>2012-10-31</td>\n",
       "      <td>10-K</td>\n",
       "      <td>0.0</td>\n",
       "      <td>FY</td>\n",
       "      <td>1.760640e+11</td>\n",
       "      <td>...</td>\n",
       "      <td>0.237033</td>\n",
       "      <td>0.888927</td>\n",
       "      <td>0.000000</td>\n",
       "      <td>0.000000</td>\n",
       "      <td>0.324942</td>\n",
       "      <td>0.288850</td>\n",
       "      <td>1.319496</td>\n",
       "      <td>2.633389</td>\n",
       "      <td>2012</td>\n",
       "      <td>2012-09</td>\n",
       "    </tr>\n",
       "    <tr>\n",
       "      <th>5</th>\n",
       "      <td>14308</td>\n",
       "      <td>50863</td>\n",
       "      <td>INTC</td>\n",
       "      <td>0001193125-12-444095</td>\n",
       "      <td>2012-09-30</td>\n",
       "      <td>2012-10-31</td>\n",
       "      <td>10-Q</td>\n",
       "      <td>0.0</td>\n",
       "      <td>Q3</td>\n",
       "      <td>7.444100e+10</td>\n",
       "      <td>...</td>\n",
       "      <td>0.039924</td>\n",
       "      <td>0.180774</td>\n",
       "      <td>1.087147</td>\n",
       "      <td>1.376178</td>\n",
       "      <td>0.955488</td>\n",
       "      <td>0.172727</td>\n",
       "      <td>0.805405</td>\n",
       "      <td>inf</td>\n",
       "      <td>2012</td>\n",
       "      <td>2012-09</td>\n",
       "    </tr>\n",
       "    <tr>\n",
       "      <th>6</th>\n",
       "      <td>83302</td>\n",
       "      <td>320193</td>\n",
       "      <td>AAPL</td>\n",
       "      <td>0001193125-13-022339</td>\n",
       "      <td>2012-12-31</td>\n",
       "      <td>2013-01-24</td>\n",
       "      <td>10-Q</td>\n",
       "      <td>0.0</td>\n",
       "      <td>Q1</td>\n",
       "      <td>1.960880e+11</td>\n",
       "      <td>...</td>\n",
       "      <td>0.066695</td>\n",
       "      <td>0.277998</td>\n",
       "      <td>0.000000</td>\n",
       "      <td>0.149105</td>\n",
       "      <td>0.429740</td>\n",
       "      <td>0.119467</td>\n",
       "      <td>0.499712</td>\n",
       "      <td>1.071491</td>\n",
       "      <td>2012</td>\n",
       "      <td>2012-12</td>\n",
       "    </tr>\n",
       "    <tr>\n",
       "      <th>7</th>\n",
       "      <td>20567</td>\n",
       "      <td>50863</td>\n",
       "      <td>INTC</td>\n",
       "      <td>0001193125-13-065416</td>\n",
       "      <td>2012-12-31</td>\n",
       "      <td>2013-02-19</td>\n",
       "      <td>10-K</td>\n",
       "      <td>0.0</td>\n",
       "      <td>FY</td>\n",
       "      <td>8.435100e+10</td>\n",
       "      <td>...</td>\n",
       "      <td>0.130467</td>\n",
       "      <td>0.632370</td>\n",
       "      <td>0.395275</td>\n",
       "      <td>0.464334</td>\n",
       "      <td>0.354024</td>\n",
       "      <td>0.223874</td>\n",
       "      <td>1.126841</td>\n",
       "      <td>inf</td>\n",
       "      <td>2012</td>\n",
       "      <td>2012-12</td>\n",
       "    </tr>\n",
       "    <tr>\n",
       "      <th>8</th>\n",
       "      <td>58808</td>\n",
       "      <td>50863</td>\n",
       "      <td>INTC</td>\n",
       "      <td>0000050863-13-000043</td>\n",
       "      <td>2013-03-31</td>\n",
       "      <td>2013-04-29</td>\n",
       "      <td>10-Q</td>\n",
       "      <td>0.0</td>\n",
       "      <td>Q1</td>\n",
       "      <td>8.308300e+10</td>\n",
       "      <td>...</td>\n",
       "      <td>0.024614</td>\n",
       "      <td>0.151415</td>\n",
       "      <td>0.544743</td>\n",
       "      <td>0.273350</td>\n",
       "      <td>0.340620</td>\n",
       "      <td>0.051575</td>\n",
       "      <td>0.268774</td>\n",
       "      <td>inf</td>\n",
       "      <td>2013</td>\n",
       "      <td>2013-03</td>\n",
       "    </tr>\n",
       "    <tr>\n",
       "      <th>9</th>\n",
       "      <td>81220</td>\n",
       "      <td>320193</td>\n",
       "      <td>AAPL</td>\n",
       "      <td>0001193125-13-168288</td>\n",
       "      <td>2013-03-31</td>\n",
       "      <td>2013-04-24</td>\n",
       "      <td>10-Q</td>\n",
       "      <td>0.0</td>\n",
       "      <td>Q2</td>\n",
       "      <td>1.947430e+11</td>\n",
       "      <td>...</td>\n",
       "      <td>0.049024</td>\n",
       "      <td>0.223900</td>\n",
       "      <td>0.000000</td>\n",
       "      <td>0.204253</td>\n",
       "      <td>0.824026</td>\n",
       "      <td>0.184500</td>\n",
       "      <td>1.011885</td>\n",
       "      <td>1.513161</td>\n",
       "      <td>2013</td>\n",
       "      <td>2013-03</td>\n",
       "    </tr>\n",
       "    <tr>\n",
       "      <th>10</th>\n",
       "      <td>59337</td>\n",
       "      <td>50863</td>\n",
       "      <td>INTC</td>\n",
       "      <td>0000050863-13-000087</td>\n",
       "      <td>2013-06-30</td>\n",
       "      <td>2013-07-29</td>\n",
       "      <td>10-Q</td>\n",
       "      <td>0.0</td>\n",
       "      <td>Q2</td>\n",
       "      <td>8.566100e+10</td>\n",
       "      <td>...</td>\n",
       "      <td>0.023348</td>\n",
       "      <td>0.149555</td>\n",
       "      <td>1.118500</td>\n",
       "      <td>0.677500</td>\n",
       "      <td>0.703068</td>\n",
       "      <td>0.105147</td>\n",
       "      <td>0.594433</td>\n",
       "      <td>inf</td>\n",
       "      <td>2013</td>\n",
       "      <td>2013-06</td>\n",
       "    </tr>\n",
       "    <tr>\n",
       "      <th>11</th>\n",
       "      <td>25646</td>\n",
       "      <td>320193</td>\n",
       "      <td>AAPL</td>\n",
       "      <td>0001193125-13-300670</td>\n",
       "      <td>2013-06-30</td>\n",
       "      <td>2013-07-24</td>\n",
       "      <td>10-Q</td>\n",
       "      <td>0.0</td>\n",
       "      <td>Q3</td>\n",
       "      <td>1.998560e+11</td>\n",
       "      <td>...</td>\n",
       "      <td>0.034525</td>\n",
       "      <td>0.176742</td>\n",
       "      <td>0.000000</td>\n",
       "      <td>2.601449</td>\n",
       "      <td>1.238796</td>\n",
       "      <td>0.218948</td>\n",
       "      <td>1.204824</td>\n",
       "      <td>1.088968</td>\n",
       "      <td>2013</td>\n",
       "      <td>2013-06</td>\n",
       "    </tr>\n",
       "    <tr>\n",
       "      <th>12</th>\n",
       "      <td>32618</td>\n",
       "      <td>50863</td>\n",
       "      <td>INTC</td>\n",
       "      <td>0000050863-13-000104</td>\n",
       "      <td>2013-09-30</td>\n",
       "      <td>2013-10-28</td>\n",
       "      <td>10-Q</td>\n",
       "      <td>0.0</td>\n",
       "      <td>Q3</td>\n",
       "      <td>9.055100e+10</td>\n",
       "      <td>...</td>\n",
       "      <td>0.032578</td>\n",
       "      <td>0.148900</td>\n",
       "      <td>1.138305</td>\n",
       "      <td>0.643729</td>\n",
       "      <td>1.093080</td>\n",
       "      <td>0.162759</td>\n",
       "      <td>0.820180</td>\n",
       "      <td>inf</td>\n",
       "      <td>2013</td>\n",
       "      <td>2013-09</td>\n",
       "    </tr>\n",
       "    <tr>\n",
       "      <th>13</th>\n",
       "      <td>11380</td>\n",
       "      <td>320193</td>\n",
       "      <td>AAPL</td>\n",
       "      <td>0001193125-13-416534</td>\n",
       "      <td>2013-09-30</td>\n",
       "      <td>2013-10-30</td>\n",
       "      <td>10-K</td>\n",
       "      <td>0.0</td>\n",
       "      <td>FY</td>\n",
       "      <td>2.070000e+11</td>\n",
       "      <td>...</td>\n",
       "      <td>0.178923</td>\n",
       "      <td>0.825652</td>\n",
       "      <td>0.000000</td>\n",
       "      <td>0.617221</td>\n",
       "      <td>0.314002</td>\n",
       "      <td>0.259256</td>\n",
       "      <td>1.229236</td>\n",
       "      <td>1.348629</td>\n",
       "      <td>2013</td>\n",
       "      <td>2013-09</td>\n",
       "    </tr>\n",
       "    <tr>\n",
       "      <th>14</th>\n",
       "      <td>49869</td>\n",
       "      <td>50863</td>\n",
       "      <td>INTC</td>\n",
       "      <td>0000050863-14-000020</td>\n",
       "      <td>2013-12-31</td>\n",
       "      <td>2014-02-14</td>\n",
       "      <td>10-K</td>\n",
       "      <td>0.0</td>\n",
       "      <td>FY</td>\n",
       "      <td>9.235800e+10</td>\n",
       "      <td>...</td>\n",
       "      <td>0.104160</td>\n",
       "      <td>0.570692</td>\n",
       "      <td>0.465593</td>\n",
       "      <td>0.253638</td>\n",
       "      <td>0.394172</td>\n",
       "      <td>0.224951</td>\n",
       "      <td>1.201135</td>\n",
       "      <td>inf</td>\n",
       "      <td>2013</td>\n",
       "      <td>2013-12</td>\n",
       "    </tr>\n",
       "  </tbody>\n",
       "</table>\n",
       "<p>15 rows × 51 columns</p>\n",
       "</div>"
      ],
      "text/plain": [
       "    index     cik ticker                  adsh     period      filed  form  \\\n",
       "0   91201  320193   AAPL  0001193125-12-182321 2012-03-31 2012-04-25  10-Q   \n",
       "1    6675   50863   INTC  0001193125-12-212253 2012-03-31 2012-05-04  10-Q   \n",
       "2   32844   50863   INTC  0001193125-12-329132 2012-06-30 2012-08-01  10-Q   \n",
       "3   17177  320193   AAPL  0001193125-12-314552 2012-06-30 2012-07-25  10-Q   \n",
       "4   87974  320193   AAPL  0001193125-12-444068 2012-09-30 2012-10-31  10-K   \n",
       "5   14308   50863   INTC  0001193125-12-444095 2012-09-30 2012-10-31  10-Q   \n",
       "6   83302  320193   AAPL  0001193125-13-022339 2012-12-31 2013-01-24  10-Q   \n",
       "7   20567   50863   INTC  0001193125-13-065416 2012-12-31 2013-02-19  10-K   \n",
       "8   58808   50863   INTC  0000050863-13-000043 2013-03-31 2013-04-29  10-Q   \n",
       "9   81220  320193   AAPL  0001193125-13-168288 2013-03-31 2013-04-24  10-Q   \n",
       "10  59337   50863   INTC  0000050863-13-000087 2013-06-30 2013-07-29  10-Q   \n",
       "11  25646  320193   AAPL  0001193125-13-300670 2013-06-30 2013-07-24  10-Q   \n",
       "12  32618   50863   INTC  0000050863-13-000104 2013-09-30 2013-10-28  10-Q   \n",
       "13  11380  320193   AAPL  0001193125-13-416534 2013-09-30 2013-10-30  10-K   \n",
       "14  49869   50863   INTC  0000050863-14-000020 2013-12-31 2014-02-14  10-K   \n",
       "\n",
       "    bs_qtrs  fp        Assets  ...  r_returnOnAssets  r_assetsTurnoverRatio  \\\n",
       "0       0.0  Q2  1.509340e+11  ...          0.077001               0.259623   \n",
       "1       0.0  Q1  7.181700e+10  ...          0.038125               0.179707   \n",
       "2       0.0  Q2  7.235200e+10  ...          0.039073               0.186602   \n",
       "3       0.0  Q3  1.628960e+11  ...          0.054170               0.215002   \n",
       "4       0.0  FY  1.760640e+11  ...          0.237033               0.888927   \n",
       "5       0.0  Q3  7.444100e+10  ...          0.039924               0.180774   \n",
       "6       0.0  Q1  1.960880e+11  ...          0.066695               0.277998   \n",
       "7       0.0  FY  8.435100e+10  ...          0.130467               0.632370   \n",
       "8       0.0  Q1  8.308300e+10  ...          0.024614               0.151415   \n",
       "9       0.0  Q2  1.947430e+11  ...          0.049024               0.223900   \n",
       "10      0.0  Q2  8.566100e+10  ...          0.023348               0.149555   \n",
       "11      0.0  Q3  1.998560e+11  ...          0.034525               0.176742   \n",
       "12      0.0  Q3  9.055100e+10  ...          0.032578               0.148900   \n",
       "13      0.0  FY  2.070000e+11  ...          0.178923               0.825652   \n",
       "14      0.0  FY  9.235800e+10  ...          0.104160               0.570692   \n",
       "\n",
       "    r_dividendPayoutRatio  r_stockRepurchaseRatio  r_operatingCashFlowRatio  \\\n",
       "0                0.000000                0.000000                  0.804650   \n",
       "1                0.383126                0.554785                  0.230280   \n",
       "2                0.744959                1.031128                  0.571143   \n",
       "3                0.000000                0.000000                  1.191217   \n",
       "4                0.000000                0.000000                  0.324942   \n",
       "5                1.087147                1.376178                  0.955488   \n",
       "6                0.000000                0.149105                  0.429740   \n",
       "7                0.395275                0.464334                  0.354024   \n",
       "8                0.544743                0.273350                  0.340620   \n",
       "9                0.000000                0.204253                  0.824026   \n",
       "10               1.118500                0.677500                  0.703068   \n",
       "11               0.000000                2.601449                  1.238796   \n",
       "12               1.138305                0.643729                  1.093080   \n",
       "13               0.000000                0.617221                  0.314002   \n",
       "14               0.465593                0.253638                  0.394172   \n",
       "\n",
       "    r_assetEfficiencyRatio  r_currentLiabCoverageRatio  \\\n",
       "0                 0.208906                    0.984236   \n",
       "1                 0.041383                    0.161042   \n",
       "2                 0.106576                    0.531885   \n",
       "3                 0.256114                    1.261948   \n",
       "4                 0.288850                    1.319496   \n",
       "5                 0.172727                    0.805405   \n",
       "6                 0.119467                    0.499712   \n",
       "7                 0.223874                    1.126841   \n",
       "8                 0.051575                    0.268774   \n",
       "9                 0.184500                    1.011885   \n",
       "10                0.105147                    0.594433   \n",
       "11                0.218948                    1.204824   \n",
       "12                0.162759                    0.820180   \n",
       "13                0.259256                    1.229236   \n",
       "14                0.224951                    1.201135   \n",
       "\n",
       "    r_longtermDeptCoverageRatio  period_year  period_month  \n",
       "0                      1.922622         2012       2012-03  \n",
       "1                           inf         2012       2012-03  \n",
       "2                           inf         2012       2012-06  \n",
       "3                      2.306247         2012       2012-06  \n",
       "4                      2.633389         2012       2012-09  \n",
       "5                           inf         2012       2012-09  \n",
       "6                      1.071491         2012       2012-12  \n",
       "7                           inf         2012       2012-12  \n",
       "8                           inf         2013       2013-03  \n",
       "9                      1.513161         2013       2013-03  \n",
       "10                          inf         2013       2013-06  \n",
       "11                     1.088968         2013       2013-06  \n",
       "12                          inf         2013       2013-09  \n",
       "13                     1.348629         2013       2013-09  \n",
       "14                          inf         2013       2013-12  \n",
       "\n",
       "[15 rows x 51 columns]"
      ]
     },
     "execution_count": null,
     "metadata": {},
     "output_type": "execute_result"
    }
   ],
   "source": [
    "test_df = df[df.ticker.isin(['AAPL','INTC'])].sort_values('period').copy().reset_index()\n",
    "test_df[:15]"
   ]
  },
  {
   "cell_type": "code",
   "execution_count": null,
   "metadata": {},
   "outputs": [],
   "source": [
    "df_sample = pd.DataFrame({'A' :  ['AAPL',  'AAPL', 'AAPL', 'AAPL', 'INTC',  'INTC',   'INTC'],\n",
    "                          'B' :  ['Q1',    'Q2',   'Q3',    'Q4',  'Q1',    'Q2',     'Q3'],\n",
    "                          'C' :  [ 1.0,    -1.0,    -2.0,   2.0,   1.0,      2.0,       3.0] \\\n",
    "                  })"
   ]
  },
  {
   "cell_type": "code",
   "execution_count": null,
   "metadata": {},
   "outputs": [
    {
     "name": "stdout",
     "output_type": "stream",
     "text": [
      "AAPL   (4, 3)\n",
      "[ True False False  True]\n",
      "\n",
      "\n",
      "INTC   (3, 3)\n",
      "[ True  True  True]\n",
      "\n",
      "\n"
     ]
    },
    {
     "data": {
      "text/html": [
       "<div>\n",
       "<style scoped>\n",
       "    .dataframe tbody tr th:only-of-type {\n",
       "        vertical-align: middle;\n",
       "    }\n",
       "\n",
       "    .dataframe tbody tr th {\n",
       "        vertical-align: top;\n",
       "    }\n",
       "\n",
       "    .dataframe thead th {\n",
       "        text-align: right;\n",
       "    }\n",
       "</style>\n",
       "<table border=\"1\" class=\"dataframe\">\n",
       "  <thead>\n",
       "    <tr style=\"text-align: right;\">\n",
       "      <th></th>\n",
       "      <th>A</th>\n",
       "      <th>B</th>\n",
       "      <th>C</th>\n",
       "      <th>D1</th>\n",
       "      <th>D2</th>\n",
       "    </tr>\n",
       "  </thead>\n",
       "  <tbody>\n",
       "    <tr>\n",
       "      <th>0</th>\n",
       "      <td>AAPL</td>\n",
       "      <td>Q1</td>\n",
       "      <td>1.0</td>\n",
       "      <td>1.0</td>\n",
       "      <td>0.0</td>\n",
       "    </tr>\n",
       "    <tr>\n",
       "      <th>1</th>\n",
       "      <td>AAPL</td>\n",
       "      <td>Q2</td>\n",
       "      <td>-1.0</td>\n",
       "      <td>-2.0</td>\n",
       "      <td>-0.0</td>\n",
       "    </tr>\n",
       "    <tr>\n",
       "      <th>2</th>\n",
       "      <td>AAPL</td>\n",
       "      <td>Q3</td>\n",
       "      <td>-2.0</td>\n",
       "      <td>0.0</td>\n",
       "      <td>1.0</td>\n",
       "    </tr>\n",
       "    <tr>\n",
       "      <th>3</th>\n",
       "      <td>AAPL</td>\n",
       "      <td>Q4</td>\n",
       "      <td>2.0</td>\n",
       "      <td>-0.0</td>\n",
       "      <td>-2.0</td>\n",
       "    </tr>\n",
       "    <tr>\n",
       "      <th>4</th>\n",
       "      <td>INTC</td>\n",
       "      <td>Q1</td>\n",
       "      <td>1.0</td>\n",
       "      <td>1.0</td>\n",
       "      <td>0.0</td>\n",
       "    </tr>\n",
       "    <tr>\n",
       "      <th>5</th>\n",
       "      <td>INTC</td>\n",
       "      <td>Q2</td>\n",
       "      <td>2.0</td>\n",
       "      <td>1.0</td>\n",
       "      <td>0.0</td>\n",
       "    </tr>\n",
       "    <tr>\n",
       "      <th>6</th>\n",
       "      <td>INTC</td>\n",
       "      <td>Q3</td>\n",
       "      <td>3.0</td>\n",
       "      <td>0.5</td>\n",
       "      <td>0.0</td>\n",
       "    </tr>\n",
       "  </tbody>\n",
       "</table>\n",
       "</div>"
      ],
      "text/plain": [
       "      A   B    C   D1   D2\n",
       "0  AAPL  Q1  1.0  1.0  0.0\n",
       "1  AAPL  Q2 -1.0 -2.0 -0.0\n",
       "2  AAPL  Q3 -2.0  0.0  1.0\n",
       "3  AAPL  Q4  2.0 -0.0 -2.0\n",
       "4  INTC  Q1  1.0  1.0  0.0\n",
       "5  INTC  Q2  2.0  1.0  0.0\n",
       "6  INTC  Q3  3.0  0.5  0.0"
      ]
     },
     "execution_count": null,
     "metadata": {},
     "output_type": "execute_result"
    }
   ],
   "source": [
    "\n",
    "for ticker, entry in df_sample.groupby(['A']):\n",
    "    print(ticker, \" \", entry.shape)\n",
    "\n",
    "    df_sample.loc[entry.index[0], 'D1'] = 1.0\n",
    "    df_sample.loc[entry.index[0], 'D2'] = 0.0\n",
    "        \n",
    "    pos_arr = (entry['C'] > 0.0).to_numpy()\n",
    "    arr = df_sample.loc[entry.index, 'C'].to_numpy()\n",
    "    \n",
    "    df_sample.loc[entry.index[1:], 'D1'] = pos_arr[:-1] * ((arr[1:] - arr[:-1]) / arr[:-1])\n",
    "    df_sample.loc[entry.index[1:], 'D2'] = (pos_arr[:-1] == False) * ((arr[1:] - arr[:-1]) / arr[:-1])\n",
    "        \n",
    "    print(\"\", end = \"\\n\\n\")\n",
    "    \n",
    "df_sample.sort_values('A')"
   ]
  },
  {
   "cell_type": "code",
   "execution_count": null,
   "metadata": {},
   "outputs": [],
   "source": [
    "def func(x):\n",
    "    print(type(x))\n",
    "    if type(x) == pd.DataFrame:\n",
    "        print(\"yes: \", x.columns)\n",
    "        x.C = x.C[1:] / x.C[:-1]\n",
    "        x.C[0] = 1.0\n",
    "        \n",
    "    print('-------')\n",
    "    return x"
   ]
  },
  {
   "cell_type": "code",
   "execution_count": null,
   "metadata": {},
   "outputs": [
    {
     "name": "stdout",
     "output_type": "stream",
     "text": [
      "<class 'pandas.core.series.Series'>\n",
      "-------\n",
      "<class 'pandas.core.series.Series'>\n",
      "-------\n",
      "<class 'pandas.core.series.Series'>\n",
      "-------\n",
      "<class 'pandas.core.frame.DataFrame'>\n",
      "yes:  Index(['B', 'C'], dtype='object')\n",
      "-------\n",
      "<class 'pandas.core.series.Series'>\n",
      "-------\n",
      "<class 'pandas.core.series.Series'>\n",
      "-------\n",
      "<class 'pandas.core.series.Series'>\n",
      "-------\n"
     ]
    },
    {
     "name": "stderr",
     "output_type": "stream",
     "text": [
      "C:\\ieu\\Anaconda3\\envs\\spark\\lib\\site-packages\\pandas\\core\\generic.py:5303: SettingWithCopyWarning: \n",
      "A value is trying to be set on a copy of a slice from a DataFrame.\n",
      "Try using .loc[row_indexer,col_indexer] = value instead\n",
      "\n",
      "See the caveats in the documentation: https://pandas.pydata.org/pandas-docs/stable/user_guide/indexing.html#returning-a-view-versus-a-copy\n",
      "  self[name] = value\n",
      "C:\\ieu\\Anaconda3\\envs\\spark\\lib\\site-packages\\ipykernel_launcher.py:6: SettingWithCopyWarning: \n",
      "A value is trying to be set on a copy of a slice from a DataFrame\n",
      "\n",
      "See the caveats in the documentation: https://pandas.pydata.org/pandas-docs/stable/user_guide/indexing.html#returning-a-view-versus-a-copy\n",
      "  \n",
      "C:\\ieu\\Anaconda3\\envs\\spark\\lib\\site-packages\\pandas\\core\\groupby\\generic.py:1474: SettingWithCopyWarning: \n",
      "A value is trying to be set on a copy of a slice from a DataFrame\n",
      "\n",
      "See the caveats in the documentation: https://pandas.pydata.org/pandas-docs/stable/user_guide/indexing.html#returning-a-view-versus-a-copy\n",
      "  fast_path = lambda group: func(group, *args, **kwargs)\n"
     ]
    },
    {
     "data": {
      "text/html": [
       "<div>\n",
       "<style scoped>\n",
       "    .dataframe tbody tr th:only-of-type {\n",
       "        vertical-align: middle;\n",
       "    }\n",
       "\n",
       "    .dataframe tbody tr th {\n",
       "        vertical-align: top;\n",
       "    }\n",
       "\n",
       "    .dataframe thead th {\n",
       "        text-align: right;\n",
       "    }\n",
       "</style>\n",
       "<table border=\"1\" class=\"dataframe\">\n",
       "  <thead>\n",
       "    <tr style=\"text-align: right;\">\n",
       "      <th></th>\n",
       "      <th>B</th>\n",
       "      <th>C</th>\n",
       "    </tr>\n",
       "  </thead>\n",
       "  <tbody>\n",
       "    <tr>\n",
       "      <th>0</th>\n",
       "      <td>Q1</td>\n",
       "      <td>1.0</td>\n",
       "    </tr>\n",
       "    <tr>\n",
       "      <th>1</th>\n",
       "      <td>Q1</td>\n",
       "      <td>1.0</td>\n",
       "    </tr>\n",
       "    <tr>\n",
       "      <th>2</th>\n",
       "      <td>Q2</td>\n",
       "      <td>3.0</td>\n",
       "    </tr>\n",
       "    <tr>\n",
       "      <th>3</th>\n",
       "      <td>Q2</td>\n",
       "      <td>2.0</td>\n",
       "    </tr>\n",
       "    <tr>\n",
       "      <th>4</th>\n",
       "      <td>Q3</td>\n",
       "      <td>5.0</td>\n",
       "    </tr>\n",
       "    <tr>\n",
       "      <th>5</th>\n",
       "      <td>Q3</td>\n",
       "      <td>3.0</td>\n",
       "    </tr>\n",
       "  </tbody>\n",
       "</table>\n",
       "</div>"
      ],
      "text/plain": [
       "    B    C\n",
       "0  Q1  1.0\n",
       "1  Q1  1.0\n",
       "2  Q2  3.0\n",
       "3  Q2  2.0\n",
       "4  Q3  5.0\n",
       "5  Q3  3.0"
      ]
     },
     "execution_count": null,
     "metadata": {},
     "output_type": "execute_result"
    }
   ],
   "source": [
    "df_sample.groupby(['A']).transform(func)"
   ]
  },
  {
   "cell_type": "code",
   "execution_count": null,
   "metadata": {},
   "outputs": [
    {
     "data": {
      "text/plain": [
       "0    1.0\n",
       "1    1.0\n",
       "2    3.0\n",
       "3    2.0\n",
       "4    5.0\n",
       "5    3.0\n",
       "Name: C, dtype: float64"
      ]
     },
     "execution_count": null,
     "metadata": {},
     "output_type": "execute_result"
    }
   ],
   "source": [
    "c = df_sample.C\n",
    "c"
   ]
  },
  {
   "cell_type": "code",
   "execution_count": null,
   "metadata": {},
   "outputs": [
    {
     "data": {
      "text/plain": [
       "<PandasArray>\n",
       "[1.0, 3.0, 0.6666666666666666, 2.5, 0.6]\n",
       "Length: 5, dtype: float64"
      ]
     },
     "execution_count": null,
     "metadata": {},
     "output_type": "execute_result"
    }
   ],
   "source": [
    "c[1:].array / c[:-1].array"
   ]
  },
  {
   "cell_type": "code",
   "execution_count": null,
   "metadata": {},
   "outputs": [
    {
     "name": "stdout",
     "output_type": "stream",
     "text": [
      "<PandasArray>\n",
      "[1.0, 1.0, 3.0, 2.0, 5.0, 3.0]\n",
      "Length: 6, dtype: float64\n",
      "<PandasArray>\n",
      "[1.0, 1.0, 3.0, 0.6666666666666666, 2.5, 0.6]\n",
      "Length: 6, dtype: float64\n"
     ]
    }
   ],
   "source": [
    "np_arr = c.array\n",
    "print(np_arr)\n",
    "np_arr[1:] = np_arr[1:] / np_arr[:-1]\n",
    "np_arr[0] = 1.0\n",
    "print(np_arr)"
   ]
  },
  {
   "cell_type": "code",
   "execution_count": null,
   "metadata": {},
   "outputs": [
    {
     "data": {
      "text/plain": [
       "0    1.000000\n",
       "1    1.000000\n",
       "2    3.000000\n",
       "3    0.666667\n",
       "4    2.500000\n",
       "5    0.600000\n",
       "Name: C, dtype: float64"
      ]
     },
     "execution_count": null,
     "metadata": {},
     "output_type": "execute_result"
    }
   ],
   "source": [
    "c"
   ]
  },
  {
   "cell_type": "code",
   "execution_count": null,
   "metadata": {},
   "outputs": [],
   "source": []
  }
 ],
 "metadata": {
  "kernelspec": {
   "display_name": "Python 3",
   "language": "python",
   "name": "python3"
  }
 },
 "nbformat": 4,
 "nbformat_minor": 4
}
