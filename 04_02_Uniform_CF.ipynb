{
 "cells": [
  {
   "cell_type": "code",
   "execution_count": null,
   "metadata": {},
   "outputs": [],
   "source": [
    "# default_exp uniformcf"
   ]
  },
  {
   "cell_type": "code",
   "execution_count": null,
   "metadata": {},
   "outputs": [],
   "source": [
    "#hide\n",
    "from nbdev.showdoc import *"
   ]
  },
  {
   "cell_type": "code",
   "execution_count": null,
   "metadata": {},
   "outputs": [],
   "source": [
    "#hide\n",
    "# stellt sicher, dass beim verändern der core library diese wieder neu geladen wird\n",
    "%load_ext autoreload\n",
    "%autoreload 2"
   ]
  },
  {
   "cell_type": "markdown",
   "metadata": {},
   "source": [
    "# Uniform CF"
   ]
  },
  {
   "cell_type": "markdown",
   "metadata": {},
   "source": [
    "## Basic Settings"
   ]
  },
  {
   "cell_type": "code",
   "execution_count": null,
   "metadata": {},
   "outputs": [],
   "source": [
    "# imports\n",
    "from bfh_mt_hs2020_sec_data.core import * \n",
    "from pathlib import Path\n",
    "from typing import List, Tuple, Union, Set\n",
    "from pyspark.sql.dataframe import DataFrame\n",
    "from pyspark.sql.functions import col\n",
    "\n",
    "import pandas as pd\n",
    "\n",
    "import shutil          # provides high level file operations\n",
    "import time            # used to measure execution time\n",
    "import os\n",
    "import sys"
   ]
  },
  {
   "cell_type": "code",
   "execution_count": null,
   "metadata": {},
   "outputs": [],
   "source": [
    "all_pivot_selected_folder  = \"D:/data_mt/03_1_selected_pivot_cols_parquet\" \n",
    "all_pivoted_folder         = \"D:/data_mt/03_2_split_pivot_parquet\"         \n",
    "all_processed_folder       = \"D:/data_mt/04_unified/\"\n",
    "\n",
    "col_list =    [\"stmt\",\"cik\",\"ticker\", \"adsh\",\"period\",\"filed\", \"form\",\"tag\",\"value\",\"report\", \"line\", \"fp\", \"uom\"]\n",
    "pivot_group = [\"cik\",\"ticker\",\"adsh\",\"form\",\"period\",\"filed\",\"fp\", \"qtrs\"]"
   ]
  },
  {
   "cell_type": "code",
   "execution_count": null,
   "metadata": {},
   "outputs": [
    {
     "data": {
      "text/html": [
       "\n",
       "            <div>\n",
       "                <p><b>SparkSession - in-memory</b></p>\n",
       "                \n",
       "        <div>\n",
       "            <p><b>SparkContext</b></p>\n",
       "\n",
       "            <p><a href=\"http://192.168.0.163:4040\">Spark UI</a></p>\n",
       "\n",
       "            <dl>\n",
       "              <dt>Version</dt>\n",
       "                <dd><code>v2.4.5</code></dd>\n",
       "              <dt>Master</dt>\n",
       "                <dd><code>local[*]</code></dd>\n",
       "              <dt>AppName</dt>\n",
       "                <dd><code>default</code></dd>\n",
       "            </dl>\n",
       "        </div>\n",
       "        \n",
       "            </div>\n",
       "        "
      ],
      "text/plain": [
       "<pyspark.sql.session.SparkSession at 0x26809d5f108>"
      ]
     },
     "execution_count": null,
     "metadata": {},
     "output_type": "execute_result"
    }
   ],
   "source": [
    "# init Spark\n",
    "spark = get_spark_session() # Session anlegen\n",
    "spark # display the moste important information of the session"
   ]
  },
  {
   "cell_type": "markdown",
   "metadata": {},
   "source": [
    "## 00_Raw_data"
   ]
  },
  {
   "cell_type": "code",
   "execution_count": null,
   "metadata": {},
   "outputs": [],
   "source": [
    "# loading the complete unpivoted dataset - if it is needed for debbuging\n",
    "df_all_selected = spark.read.parquet(all_pivot_selected_folder).cache()"
   ]
  },
  {
   "cell_type": "code",
   "execution_count": null,
   "metadata": {},
   "outputs": [],
   "source": [
    "# it happens sometimes, that the data could not be associated with a right sheet (bs, is, cf, ..). in this cases, the data can appea under \"UN\"\n",
    "# so if expected information cannot be found in the appropriate statement, we have to look in the un statement\n",
    "un_pivot_value = load_data(all_pivoted_folder, spark, \"UN\", \"value\")\n",
    "un_pivot_value = un_pivot_value.where(\"((form == '10-K' and qtrs == '4') or (form == '10-Q' and ((fp  == 'Q1' and qtrs == '1') or (fp  == 'Q2' and qtrs == '2') or (fp  == 'Q3' and qtrs == '3') or (fp  == 'Q4' and qtrs == '4'))))\")\n",
    "un_pivot_pd = un_pivot_value.toPandas()"
   ]
  },
  {
   "cell_type": "code",
   "execution_count": null,
   "metadata": {},
   "outputs": [
    {
     "data": {
      "text/plain": [
       "(2428, 1775)"
      ]
     },
     "execution_count": null,
     "metadata": {},
     "output_type": "execute_result"
    }
   ],
   "source": [
    "un_pivot_pd.shape"
   ]
  },
  {
   "cell_type": "code",
   "execution_count": null,
   "metadata": {},
   "outputs": [],
   "source": [
    "def prepare_un_values(df_to_merge_into, attr_list):\n",
    "    # add possible columns from un set to  cf data with prefix cpy_\n",
    "    attributes = pivot_group[:] # create copy\n",
    "    attributes.extend(attr_list)\n",
    "\n",
    "    un_prepared = un_pivot_pd[attributes].copy()\n",
    "    un_prepared.rename(columns=lambda x: x  if x in pivot_group else (\"cpy_\" + x), inplace=True)\n",
    "\n",
    "    return pd.merge(df_to_merge_into, un_prepared, how='left', on=pivot_group)"
   ]
  },
  {
   "cell_type": "markdown",
   "metadata": {},
   "source": [
    "## 01_CashFlow"
   ]
  },
  {
   "cell_type": "markdown",
   "metadata": {},
   "source": [
    "Operation\n",
    "- NetIncomeLoss\n",
    "- ProfitLoss\n",
    "- NetCashProvidedByUsedInOperatingActivities: NetIncome + other positions ergibt diese Position\n",
    "\n",
    "Investing\n",
    "- NetCashProvidedByUsedInInvestingActivities\n",
    "\n",
    "Financing activities\n",
    "- PaymentsForRepurchaseOfCommonStock: Aktienrückkäufe\n",
    "- PaymentsOfDividends\n",
    "- NetCashProvidedByUsedInFinancingActivities\n",
    "\n",
    "Cash Bestand unterschied\n",
    "- CashAndCashEquivalentsPeriodIncreaseDecrease: increase/decrease in cash"
   ]
  },
  {
   "cell_type": "code",
   "execution_count": null,
   "metadata": {},
   "outputs": [
    {
     "data": {
      "text/plain": [
       "(116187, 2436)"
      ]
     },
     "execution_count": null,
     "metadata": {},
     "output_type": "execute_result"
    }
   ],
   "source": [
    "cf_pivot_value = load_data(all_pivoted_folder, spark, \"CF\", \"value\")\n",
    "spark_shape(cf_pivot_value)"
   ]
  },
  {
   "cell_type": "code",
   "execution_count": null,
   "metadata": {},
   "outputs": [],
   "source": [
    "cf_pivot_pd = cf_pivot_value.toPandas()"
   ]
  },
  {
   "cell_type": "code",
   "execution_count": null,
   "metadata": {},
   "outputs": [],
   "source": [
    "cf_pivot_pd_copy = cf_pivot_pd.copy()"
   ]
  },
  {
   "cell_type": "code",
   "execution_count": null,
   "metadata": {},
   "outputs": [
    {
     "data": {
      "text/plain": [
       "(116187, 2436)"
      ]
     },
     "execution_count": null,
     "metadata": {},
     "output_type": "execute_result"
    }
   ],
   "source": [
    "cf_pivot_pd_copy.shape"
   ]
  },
  {
   "cell_type": "markdown",
   "metadata": {},
   "source": [
    "### Merge Data from \"unknown\" statement"
   ]
  },
  {
   "cell_type": "code",
   "execution_count": null,
   "metadata": {},
   "outputs": [
    {
     "data": {
      "text/plain": [
       "(116187, 2450)"
      ]
     },
     "execution_count": null,
     "metadata": {},
     "output_type": "execute_result"
    }
   ],
   "source": [
    "# merge relevant columns from the UN dataset\n",
    "cf_pivot_pd_copy = prepare_un_values(cf_pivot_pd_copy, [\n",
    "    'CashAndCashEquivalentsPeriodIncreaseDecrease',\n",
    "     # 'CashAndCashEquivalentsPeriodIncreaseDecreaseExcludingExchangeRateEffect',\n",
    "    'CashCashEquivalentsRestrictedCashAndRestrictedCashEquivalentsPeriodIncreaseDecreaseExcludingExchangeRateEffect',\n",
    "    'CashCashEquivalentsRestrictedCashAndRestrictedCashEquivalentsPeriodIncreaseDecreaseIncludingExchangeRateEffect',   \n",
    "    # 'CashPeriodIncreaseDecrease',\n",
    "    # 'CashPeriodIncreaseDecreaseExcludingExchangeRateEffect',\n",
    "    'NetCashProvidedByUsedInContinuingOperations',\n",
    "    \n",
    "    'ProfitLoss',\n",
    "    'NetIncomeLoss', \n",
    "    'NetIncomeLossAvailableToCommonStockholdersBasic',\n",
    "    'NetCashProvidedByUsedInOperatingActivities',\n",
    "    'NetCashProvidedByUsedInOperatingActivitiesContinuingOperations',\n",
    " \n",
    "    'NetCashProvidedByUsedInInvestingActivities',\n",
    "    'NetCashProvidedByUsedInFinancingActivities',\n",
    "    'NetCashProvidedByUsedInInvestingActivitiesContinuingOperations',\n",
    "    'CashProvidedByUsedInInvestingActivitiesDiscontinuedOperations',\n",
    "    \n",
    "    'NetCashProvidedByUsedInFinancingActivitiesContinuingOperations',\n",
    "    # 'CashProvidedByUsedInFinancingActivitiesDiscontinuedOperations' ,\n",
    "])\n",
    "cf_pivot_pd_copy.shape"
   ]
  },
  {
   "cell_type": "markdown",
   "metadata": {},
   "source": [
    "### Cash Increase/Decrease\n",
    "- 'CashAndCashEquivalentsPeriodIncreaseDecrease',\n",
    "- 'CashAndCashEquivalentsPeriodIncreaseDecreaseExcludingExchangeRateEffect',\n",
    "- 'CashCashEquivalentsRestrictedCashAndRestrictedCashEquivalentsPeriodIncreaseDecreaseExcludingExchangeRateEffect',\n",
    "- 'CashCashEquivalentsRestrictedCashAndRestrictedCashEquivalentsPeriodIncreaseDecreaseIncludingExchangeRateEffect',\n",
    "- 'CashPeriodIncreaseDecrease',\n",
    "- 'CashPeriodIncreaseDecreaseExcludingExchangeRateEffect',\n",
    "- 'NetCashProvidedByUsedInContinuingOperations'"
   ]
  },
  {
   "cell_type": "code",
   "execution_count": null,
   "metadata": {},
   "outputs": [
    {
     "name": "stdout",
     "output_type": "stream",
     "text": [
      "CashAndCashEquivalentsPeriodIncreaseDecrease   29201\n"
     ]
    }
   ],
   "source": [
    "print_null_count(cf_pivot_pd_copy, ['CashAndCashEquivalentsPeriodIncreaseDecrease'])"
   ]
  },
  {
   "cell_type": "code",
   "execution_count": null,
   "metadata": {},
   "outputs": [],
   "source": [
    "cf_pivot_pd_copy['c_CashIncreaseDecrease'] = None\n",
    "\n",
    "copy_if_not_empty(cf_pivot_pd_copy, 'cpy_CashAndCashEquivalentsPeriodIncreaseDecrease', 'CashAndCashEquivalentsPeriodIncreaseDecrease')\n",
    "copy_if_not_empty(cf_pivot_pd_copy, 'cpy_CashCashEquivalentsRestrictedCashAndRestrictedCashEquivalentsPeriodIncreaseDecreaseExcludingExchangeRateEffect', 'CashCashEquivalentsRestrictedCashAndRestrictedCashEquivalentsPeriodIncreaseDecreaseExcludingExchangeRateEffect')\n",
    "copy_if_not_empty(cf_pivot_pd_copy, 'cpy_CashCashEquivalentsRestrictedCashAndRestrictedCashEquivalentsPeriodIncreaseDecreaseIncludingExchangeRateEffect', 'CashCashEquivalentsRestrictedCashAndRestrictedCashEquivalentsPeriodIncreaseDecreaseIncludingExchangeRateEffect')\n",
    "\n",
    "\n",
    "copy_if_not_empty(cf_pivot_pd_copy, 'CashAndCashEquivalentsPeriodIncreaseDecrease', 'c_CashIncreaseDecrease')\n",
    "copy_if_not_empty(cf_pivot_pd_copy, 'CashCashEquivalentsRestrictedCashAndRestrictedCashEquivalentsPeriodIncreaseDecreaseIncludingExchangeRateEffect', 'c_CashIncreaseDecrease') # either or\n",
    "copy_if_not_empty(cf_pivot_pd_copy, 'CashCashEquivalentsRestrictedCashAndRestrictedCashEquivalentsPeriodIncreaseDecreaseExcludingExchangeRateEffect', 'c_CashIncreaseDecrease') # either or\n",
    "copy_if_not_empty(cf_pivot_pd_copy, 'CashPeriodIncreaseDecrease', 'c_CashIncreaseDecrease') # either or\n",
    "copy_if_not_empty(cf_pivot_pd_copy, 'CashAndCashEquivalentsPeriodIncreaseDecreaseExcludingExchangeRateEffect', 'c_CashIncreaseDecrease') # either or\n",
    "copy_if_not_empty(cf_pivot_pd_copy, 'CashPeriodIncreaseDecreaseExcludingExchangeRateEffect', 'c_CashIncreaseDecrease') # either or"
   ]
  },
  {
   "cell_type": "code",
   "execution_count": null,
   "metadata": {},
   "outputs": [
    {
     "name": "stdout",
     "output_type": "stream",
     "text": [
      "c_CashIncreaseDecrease   8566\n"
     ]
    }
   ],
   "source": [
    "print_null_count(cf_pivot_pd_copy, ['c_CashIncreaseDecrease'])"
   ]
  },
  {
   "cell_type": "markdown",
   "metadata": {},
   "source": [
    "### NetIncomeLoss / Operation CashFlow"
   ]
  },
  {
   "cell_type": "code",
   "execution_count": null,
   "metadata": {},
   "outputs": [
    {
     "name": "stdout",
     "output_type": "stream",
     "text": [
      "NetCashProvidedByUsedInOperatingActivities   30576\n"
     ]
    }
   ],
   "source": [
    "print_null_count(cf_pivot_pd_copy, ['NetCashProvidedByUsedInOperatingActivities'])"
   ]
  },
  {
   "cell_type": "code",
   "execution_count": null,
   "metadata": {},
   "outputs": [],
   "source": [
    "cf_pivot_pd_copy['c_CashFromOperating'] = None\n",
    "\n",
    "copy_if_not_empty(cf_pivot_pd_copy, 'cpy_NetCashProvidedByUsedInOperatingActivities', 'NetCashProvidedByUsedInOperatingActivities')\n",
    "copy_if_not_empty(cf_pivot_pd_copy, 'cpy_NetCashProvidedByUsedInOperatingActivitiesContinuingOperations', 'NetCashProvidedByUsedInOperatingActivitiesContinuingOperations')\n",
    "\n",
    "copy_if_not_empty(cf_pivot_pd_copy, 'NetCashProvidedByUsedInOperatingActivities', 'c_CashFromOperating')\n",
    "copy_if_not_empty(cf_pivot_pd_copy, 'NetCashProvidedByUsedInOperatingActivitiesContinuingOperations', 'c_CashFromOperating')"
   ]
  },
  {
   "cell_type": "code",
   "execution_count": null,
   "metadata": {},
   "outputs": [
    {
     "name": "stdout",
     "output_type": "stream",
     "text": [
      "c_CashFromOperating   377\n"
     ]
    }
   ],
   "source": [
    "print_null_count(cf_pivot_pd_copy, ['c_CashFromOperating'])"
   ]
  },
  {
   "cell_type": "markdown",
   "metadata": {},
   "source": [
    "### Investing\n",
    "- NetCashProvidedByUsedInInvestingActivities"
   ]
  },
  {
   "cell_type": "code",
   "execution_count": null,
   "metadata": {},
   "outputs": [
    {
     "name": "stdout",
     "output_type": "stream",
     "text": [
      "NetCashProvidedByUsedInInvestingActivities   31288\n"
     ]
    }
   ],
   "source": [
    "print_null_count(cf_pivot_pd_copy, ['NetCashProvidedByUsedInInvestingActivities'])"
   ]
  },
  {
   "cell_type": "code",
   "execution_count": null,
   "metadata": {},
   "outputs": [],
   "source": [
    "cf_pivot_pd_copy['c_CashFromInvesting'] = None\n",
    "\n",
    "copy_if_not_empty(cf_pivot_pd_copy, 'cpy_NetCashProvidedByUsedInInvestingActivities', 'NetCashProvidedByUsedInInvestingActivities')\n",
    "copy_if_not_empty(cf_pivot_pd_copy, 'cpy_NetCashProvidedByUsedInInvestingActivitiesContinuingOperations','NetCashProvidedByUsedInInvestingActivitiesContinuingOperations')\n",
    "copy_if_not_empty(cf_pivot_pd_copy, 'cpy_CashProvidedByUsedInInvestingActivitiesDiscontinuedOperations' ,'CashProvidedByUsedInInvestingActivitiesDiscontinuedOperations')\n",
    "\n",
    "copy_if_not_empty(cf_pivot_pd_copy, 'NetCashProvidedByUsedInInvestingActivities', 'c_CashFromInvesting')\n",
    "copy_if_not_empty(cf_pivot_pd_copy, 'NetCashProvidedByUsedInInvestingActivitiesContinuingOperations', 'c_CashFromInvesting')\n",
    "copy_if_not_empty(cf_pivot_pd_copy, 'CashProvidedByUsedInInvestingActivitiesDiscontinuedOperations', 'c_CashFromInvesting')\n",
    "\n",
    "set_to_zero_if_null(cf_pivot_pd_copy, 'c_CashFromInvesting') # it is absolutely possible, that there are no investing activities"
   ]
  },
  {
   "cell_type": "code",
   "execution_count": null,
   "metadata": {},
   "outputs": [
    {
     "name": "stdout",
     "output_type": "stream",
     "text": [
      "c_CashFromInvesting   0\n"
     ]
    }
   ],
   "source": [
    "print_null_count(cf_pivot_pd_copy, ['c_CashFromInvesting'])"
   ]
  },
  {
   "cell_type": "markdown",
   "metadata": {},
   "source": [
    "### Financing activities"
   ]
  },
  {
   "cell_type": "markdown",
   "metadata": {},
   "source": [
    "#### NetCashProvidedByUsedInFinancingActivities"
   ]
  },
  {
   "cell_type": "code",
   "execution_count": null,
   "metadata": {},
   "outputs": [
    {
     "name": "stdout",
     "output_type": "stream",
     "text": [
      "NetCashProvidedByUsedInFinancingActivities   31409\n"
     ]
    }
   ],
   "source": [
    "print_null_count(cf_pivot_pd_copy, ['NetCashProvidedByUsedInFinancingActivities'])"
   ]
  },
  {
   "cell_type": "code",
   "execution_count": null,
   "metadata": {},
   "outputs": [],
   "source": [
    "cf_pivot_pd_copy['c_CashFromFinancing'] = None\n",
    "\n",
    "copy_if_not_empty(cf_pivot_pd_copy, 'cpy_NetCashProvidedByUsedInFinancingActivities', 'NetCashProvidedByUsedInFinancingActivities')\n",
    "copy_if_not_empty(cf_pivot_pd_copy, 'cpy_NetCashProvidedByUsedInFinancingActivitiesContinuingOperations','NetCashProvidedByUsedInFinancingActivitiesContinuingOperations')\n",
    "\n",
    "sum_into_empty_target(cf_pivot_pd_copy, \n",
    "                      'NetCashProvidedByUsedInFinancingActivitiesContinuingOperations',\n",
    "                      'CashProvidedByUsedInFinancingActivitiesDiscontinuedOperations' ,\n",
    "                      'NetCashProvidedByUsedInFinancingActivities')\n",
    "\n",
    "copy_if_not_empty(cf_pivot_pd_copy, 'NetCashProvidedByUsedInFinancingActivities', 'c_CashFromFinancing')\n",
    "copy_if_not_empty(cf_pivot_pd_copy, 'NetCashProvidedByUsedInFinancingActivitiesContinuingOperations', 'c_CashFromFinancing')\n",
    "copy_if_not_empty(cf_pivot_pd_copy, 'CashProvidedByUsedInFinancingActivitiesDiscontinuedOperations', 'c_CashFromFinancing')\n",
    "\n",
    "set_to_zero_if_null(cf_pivot_pd_copy, 'c_CashFromFinancing') # it is absolutely possible, that there are no financing activities"
   ]
  },
  {
   "cell_type": "code",
   "execution_count": null,
   "metadata": {},
   "outputs": [
    {
     "name": "stdout",
     "output_type": "stream",
     "text": [
      "c_CashFromFinancing   0\n"
     ]
    }
   ],
   "source": [
    "print_null_count(cf_pivot_pd_copy, ['c_CashFromFinancing'])"
   ]
  },
  {
   "cell_type": "markdown",
   "metadata": {},
   "source": [
    "#### PaymentsOfDividends\n",
    "Simply set to 0.0 if no data is present\n",
    " 'PaymentsOfDividends',\n",
    " 'PaymentsOfDividendsCommonStock',\n",
    " 'PaymentsOfDividendsMinorityInterest',\n",
    " 'PaymentsOfDividendsPreferredStockAndPreferenceStock',\n",
    " 'PaymentsOfOrdinaryDividends',"
   ]
  },
  {
   "cell_type": "code",
   "execution_count": null,
   "metadata": {},
   "outputs": [],
   "source": [
    "cf_pivot_pd_copy = sum_cols_into_new_target(cf_pivot_pd_copy, 'c_PaymentsOfDividendsTotal', \n",
    "                                 ['PaymentsOfDividends',\n",
    "                                 'PaymentsOfDividendsCommonStock',\n",
    "                                 'PaymentsOfDividendsMinorityInterest',\n",
    "                                 'PaymentsOfDividendsPreferredStockAndPreferenceStock',\n",
    "                                 'PaymentsOfOrdinaryDividends'])"
   ]
  },
  {
   "cell_type": "markdown",
   "metadata": {},
   "source": [
    "#### PaymentsForRepurchaseOfCommonStock: Stock buybacks\n",
    " 'PaymentsForRepurchaseOfCommonStock',\n",
    " 'PaymentsForRepurchaseOfCommonStockForEmployeeTaxWithholdingObligations',\n",
    " 'PaymentsForRepurchaseOfConvertiblePreferredStock',\n",
    " 'PaymentsForRepurchaseOfPreferredStockAndPreferenceStock',\n",
    " 'PaymentsForRepurchaseOfRedeemableConvertiblePreferredStock',\n",
    " 'PaymentsForRepurchaseOfRedeemablePreferredStock'"
   ]
  },
  {
   "cell_type": "code",
   "execution_count": null,
   "metadata": {},
   "outputs": [],
   "source": [
    "cf_pivot_pd_copy = sum_cols_into_new_target(cf_pivot_pd_copy, 'c_PaymentsForRepurchaseOfStockTotal', \n",
    "                                 ['PaymentsForRepurchaseOfCommonStock',\n",
    "                                     'PaymentsForRepurchaseOfCommonStockForEmployeeTaxWithholdingObligations',\n",
    "                                     'PaymentsForRepurchaseOfConvertiblePreferredStock',\n",
    "                                     'PaymentsForRepurchaseOfPreferredStockAndPreferenceStock',\n",
    "                                     'PaymentsForRepurchaseOfRedeemableConvertiblePreferredStock',\n",
    "                                     'PaymentsForRepurchaseOfRedeemablePreferredStock'])"
   ]
  },
  {
   "cell_type": "markdown",
   "metadata": {},
   "source": [
    "### Corrections\n",
    "some Bookings are simply wrong. There are a few cases, when PayedDividends Appear as an inflow, which is wrong. The same holds true for PaymentsForRepurchaseOfStockTotal"
   ]
  },
  {
   "cell_type": "code",
   "execution_count": null,
   "metadata": {},
   "outputs": [],
   "source": [
    "cf_pivot_pd_copy.loc[cf_pivot_pd_copy.c_PaymentsOfDividendsTotal>0,'c_PaymentsOfDividendsTotal'] = -cf_pivot_pd_copy.loc[cf_pivot_pd_copy.c_PaymentsOfDividendsTotal>0].c_PaymentsOfDividendsTotal\n",
    "cf_pivot_pd_copy.loc[cf_pivot_pd_copy.c_PaymentsForRepurchaseOfStockTotal>0,'c_PaymentsForRepurchaseOfStockTotal'] = -cf_pivot_pd_copy.loc[cf_pivot_pd_copy.c_PaymentsForRepurchaseOfStockTotal>0].c_PaymentsForRepurchaseOfStockTotal"
   ]
  },
  {
   "cell_type": "markdown",
   "metadata": {},
   "source": [
    "### Save"
   ]
  },
  {
   "cell_type": "code",
   "execution_count": null,
   "metadata": {},
   "outputs": [],
   "source": [
    "cf_pivot_pd_copy[[\"cik\",\"ticker\", \"adsh\",\"period\",\"filed\", \"form\", \"qtrs\",\"fp\",\n",
    "                                     'c_CashIncreaseDecrease',\n",
    "                                     'c_CashFromOperating', \n",
    "                                     'c_CashFromInvesting',\n",
    "                                     'c_CashFromFinancing',\n",
    "                                     'c_PaymentsOfDividendsTotal',\n",
    "                                     'c_PaymentsForRepurchaseOfStockTotal']] \\\n",
    "                  .to_csv(all_processed_folder + \"04_cf_unified.csv\", index=False)"
   ]
  },
  {
   "cell_type": "code",
   "execution_count": null,
   "metadata": {},
   "outputs": [],
   "source": [
    "spark.stop()"
   ]
  },
  {
   "cell_type": "markdown",
   "metadata": {},
   "source": [
    "## XX_Trials"
   ]
  },
  {
   "cell_type": "code",
   "execution_count": null,
   "metadata": {},
   "outputs": [],
   "source": [
    "div_data = cf_pivot_pd_copy[cf_pivot_pd_copy.c_PaymentsForRepurchaseOfStockTotal>0][['ticker','cik','adsh', 'c_PaymentsForRepurchaseOfStockTotal',\n",
    "                                     'PaymentsForRepurchaseOfCommonStock',\n",
    "                                     'PaymentsForRepurchaseOfCommonStockForEmployeeTaxWithholdingObligations',\n",
    "                                     'PaymentsForRepurchaseOfConvertiblePreferredStock',\n",
    "                                     'PaymentsForRepurchaseOfPreferredStockAndPreferenceStock',\n",
    "                                     'PaymentsForRepurchaseOfRedeemableConvertiblePreferredStock',\n",
    "                                     'PaymentsForRepurchaseOfRedeemablePreferredStock']]"
   ]
  },
  {
   "cell_type": "code",
   "execution_count": null,
   "metadata": {},
   "outputs": [
    {
     "name": "stdout",
     "output_type": "stream",
     "text": [
      "547\n",
      "547\n",
      "218\n"
     ]
    }
   ],
   "source": [
    "print(cf_pivot_pd_copy[cf_pivot_pd_copy.c_PaymentsForRepurchaseOfStockTotal>0].shape[0])\n",
    "print(div_data.shape[0])\n",
    "print(len(div_data.ticker.unique()))"
   ]
  },
  {
   "cell_type": "code",
   "execution_count": null,
   "metadata": {},
   "outputs": [
    {
     "data": {
      "text/html": [
       "<div>\n",
       "<style scoped>\n",
       "    .dataframe tbody tr th:only-of-type {\n",
       "        vertical-align: middle;\n",
       "    }\n",
       "\n",
       "    .dataframe tbody tr th {\n",
       "        vertical-align: top;\n",
       "    }\n",
       "\n",
       "    .dataframe thead th {\n",
       "        text-align: right;\n",
       "    }\n",
       "</style>\n",
       "<table border=\"1\" class=\"dataframe\">\n",
       "  <thead>\n",
       "    <tr style=\"text-align: right;\">\n",
       "      <th></th>\n",
       "      <th>ticker</th>\n",
       "      <th>cik</th>\n",
       "      <th>adsh</th>\n",
       "      <th>c_PaymentsForRepurchaseOfStockTotal</th>\n",
       "      <th>PaymentsForRepurchaseOfCommonStock</th>\n",
       "      <th>PaymentsForRepurchaseOfCommonStockForEmployeeTaxWithholdingObligations</th>\n",
       "      <th>PaymentsForRepurchaseOfConvertiblePreferredStock</th>\n",
       "      <th>PaymentsForRepurchaseOfPreferredStockAndPreferenceStock</th>\n",
       "      <th>PaymentsForRepurchaseOfRedeemableConvertiblePreferredStock</th>\n",
       "      <th>PaymentsForRepurchaseOfRedeemablePreferredStock</th>\n",
       "    </tr>\n",
       "  </thead>\n",
       "  <tbody>\n",
       "  </tbody>\n",
       "</table>\n",
       "</div>"
      ],
      "text/plain": [
       "Empty DataFrame\n",
       "Columns: [ticker, cik, adsh, c_PaymentsForRepurchaseOfStockTotal, PaymentsForRepurchaseOfCommonStock, PaymentsForRepurchaseOfCommonStockForEmployeeTaxWithholdingObligations, PaymentsForRepurchaseOfConvertiblePreferredStock, PaymentsForRepurchaseOfPreferredStockAndPreferenceStock, PaymentsForRepurchaseOfRedeemableConvertiblePreferredStock, PaymentsForRepurchaseOfRedeemablePreferredStock]\n",
       "Index: []"
      ]
     },
     "execution_count": null,
     "metadata": {},
     "output_type": "execute_result"
    }
   ],
   "source": [
    "div_data[div_data.ticker=='AAPL'].sort_values('adsh')"
   ]
  },
  {
   "cell_type": "code",
   "execution_count": null,
   "metadata": {},
   "outputs": [],
   "source": [
    "aapl_pd = df_all_selected.where(\"adsh == '0000320193-17-000070' and stmt = 'CF'\").toPandas()"
   ]
  },
  {
   "cell_type": "code",
   "execution_count": null,
   "metadata": {},
   "outputs": [],
   "source": [
    "aapl_pd"
   ]
  },
  {
   "cell_type": "code",
   "execution_count": null,
   "metadata": {},
   "outputs": [],
   "source": [
    "# cf_pivot_value.select('adsh').distinct().count() # 116482\n",
    "# cf_pivot_value.select('adsh','form').where('form == \"10-K\"').distinct().count() # 27556\n",
    "# cf_pivot_value.select('adsh','form').where('form == \"10-Q\"').distinct().count() # 88926\n",
    "\n",
    "# cf_pivot_value.select('adsh','form', 'qtrs').where('form == \"10-K\" and qtrs=\"0\"').distinct().count() # 27264\n",
    "# cf_pivot_value.select('adsh','form', 'qtrs').where('form == \"10-K\" and qtrs=\"1\"').distinct().count() # 16405\n",
    "# cf_pivot_value.select('adsh','form', 'qtrs').where('form == \"10-K\" and qtrs=\"2\"').distinct().count() # 63\n",
    "# cf_pivot_value.select('adsh','form', 'qtrs').where('form == \"10-K\" and qtrs=\"3\"').distinct().count() # 44\n",
    "cf_pivot_value.select('adsh','form', 'qtrs').where('form == \"10-K\" and qtrs=\"4\"').distinct().count() # 27497\n",
    "\n",
    "# cf_pivot_value.select('adsh','form', 'qtrs').where('form == \"10-Q\" and qtrs=\"0\"').distinct().count() # 88076\n",
    "# cf_pivot_value.select('adsh','form', 'qtrs').where('form == \"10-Q\" and qtrs=\"1\"').distinct().count() # 86728\n",
    "# cf_pivot_value.select('adsh','form', 'qtrs').where('form == \"10-Q\" and qtrs=\"2\"').distinct().count() # 30215\n",
    "# cf_pivot_value.select('adsh','form', 'qtrs').where('form == \"10-Q\" and qtrs=\"3\"').distinct().count() # 28150\n",
    "# cf_pivot_value.select('adsh','form', 'qtrs').where('form == \"10-Q\" and qtrs=\"4\"').distinct().count() # 185"
   ]
  },
  {
   "cell_type": "code",
   "execution_count": null,
   "metadata": {},
   "outputs": [],
   "source": [
    "piv_by_qtrs_pd = cf_pivot_value.select('adsh','fp','form','qtrs').groupby(['adsh','fp','form']).pivot('qtrs').count().toPandas()\n",
    "\n",
    "\n",
    "#pd_frame = df_all_selected.where(\"adsh == '0001564590-20-043606' and stmt == 'IS' and qtrs=='1'\").toPandas()\n",
    "#pd_frame = df_all_selected.where(\"adsh == '0001628279-20-000210'\").toPandas()\n",
    "#pd_frame = df_all_selected.where(\"adsh == '0001193125-20-213555'\").toPandas()\n",
    "#print(pd_frame.sort_values(['report', 'line']))"
   ]
  },
  {
   "cell_type": "code",
   "execution_count": null,
   "metadata": {},
   "outputs": [
    {
     "data": {
      "text/html": [
       "<div>\n",
       "<style scoped>\n",
       "    .dataframe tbody tr th:only-of-type {\n",
       "        vertical-align: middle;\n",
       "    }\n",
       "\n",
       "    .dataframe tbody tr th {\n",
       "        vertical-align: top;\n",
       "    }\n",
       "\n",
       "    .dataframe thead th {\n",
       "        text-align: right;\n",
       "    }\n",
       "</style>\n",
       "<table border=\"1\" class=\"dataframe\">\n",
       "  <thead>\n",
       "    <tr style=\"text-align: right;\">\n",
       "      <th></th>\n",
       "      <th>adsh</th>\n",
       "      <th>fp</th>\n",
       "      <th>form</th>\n",
       "      <th>0</th>\n",
       "      <th>1</th>\n",
       "      <th>2</th>\n",
       "      <th>3</th>\n",
       "      <th>4</th>\n",
       "    </tr>\n",
       "  </thead>\n",
       "  <tbody>\n",
       "    <tr>\n",
       "      <th>0</th>\n",
       "      <td>0001193125-14-434590</td>\n",
       "      <td>Q2</td>\n",
       "      <td>10-Q</td>\n",
       "      <td>1.0</td>\n",
       "      <td>1.0</td>\n",
       "      <td>1.0</td>\n",
       "      <td>NaN</td>\n",
       "      <td>NaN</td>\n",
       "    </tr>\n",
       "    <tr>\n",
       "      <th>1</th>\n",
       "      <td>0001283699-17-000032</td>\n",
       "      <td>Q2</td>\n",
       "      <td>10-Q</td>\n",
       "      <td>1.0</td>\n",
       "      <td>1.0</td>\n",
       "      <td>1.0</td>\n",
       "      <td>NaN</td>\n",
       "      <td>NaN</td>\n",
       "    </tr>\n",
       "    <tr>\n",
       "      <th>2</th>\n",
       "      <td>0000946673-19-000012</td>\n",
       "      <td>Q1</td>\n",
       "      <td>10-Q</td>\n",
       "      <td>1.0</td>\n",
       "      <td>1.0</td>\n",
       "      <td>NaN</td>\n",
       "      <td>NaN</td>\n",
       "      <td>NaN</td>\n",
       "    </tr>\n",
       "    <tr>\n",
       "      <th>3</th>\n",
       "      <td>0001558370-19-008195</td>\n",
       "      <td>Q2</td>\n",
       "      <td>10-Q</td>\n",
       "      <td>1.0</td>\n",
       "      <td>1.0</td>\n",
       "      <td>1.0</td>\n",
       "      <td>NaN</td>\n",
       "      <td>NaN</td>\n",
       "    </tr>\n",
       "    <tr>\n",
       "      <th>4</th>\n",
       "      <td>0001654954-19-002486</td>\n",
       "      <td>FY</td>\n",
       "      <td>10-K</td>\n",
       "      <td>1.0</td>\n",
       "      <td>NaN</td>\n",
       "      <td>NaN</td>\n",
       "      <td>NaN</td>\n",
       "      <td>1.0</td>\n",
       "    </tr>\n",
       "    <tr>\n",
       "      <th>...</th>\n",
       "      <td>...</td>\n",
       "      <td>...</td>\n",
       "      <td>...</td>\n",
       "      <td>...</td>\n",
       "      <td>...</td>\n",
       "      <td>...</td>\n",
       "      <td>...</td>\n",
       "      <td>...</td>\n",
       "    </tr>\n",
       "    <tr>\n",
       "      <th>116477</th>\n",
       "      <td>0001564590-17-007757</td>\n",
       "      <td>Q1</td>\n",
       "      <td>10-Q</td>\n",
       "      <td>1.0</td>\n",
       "      <td>1.0</td>\n",
       "      <td>NaN</td>\n",
       "      <td>NaN</td>\n",
       "      <td>NaN</td>\n",
       "    </tr>\n",
       "    <tr>\n",
       "      <th>116478</th>\n",
       "      <td>0001437749-12-004522</td>\n",
       "      <td>Q1</td>\n",
       "      <td>10-Q</td>\n",
       "      <td>1.0</td>\n",
       "      <td>1.0</td>\n",
       "      <td>NaN</td>\n",
       "      <td>NaN</td>\n",
       "      <td>NaN</td>\n",
       "    </tr>\n",
       "    <tr>\n",
       "      <th>116479</th>\n",
       "      <td>0000078890-17-000026</td>\n",
       "      <td>Q1</td>\n",
       "      <td>10-Q</td>\n",
       "      <td>1.0</td>\n",
       "      <td>1.0</td>\n",
       "      <td>NaN</td>\n",
       "      <td>NaN</td>\n",
       "      <td>NaN</td>\n",
       "    </tr>\n",
       "    <tr>\n",
       "      <th>116480</th>\n",
       "      <td>0001193125-14-284514</td>\n",
       "      <td>Q2</td>\n",
       "      <td>10-Q</td>\n",
       "      <td>1.0</td>\n",
       "      <td>1.0</td>\n",
       "      <td>1.0</td>\n",
       "      <td>NaN</td>\n",
       "      <td>NaN</td>\n",
       "    </tr>\n",
       "    <tr>\n",
       "      <th>116481</th>\n",
       "      <td>0001193125-13-169761</td>\n",
       "      <td>Q1</td>\n",
       "      <td>10-Q</td>\n",
       "      <td>1.0</td>\n",
       "      <td>1.0</td>\n",
       "      <td>NaN</td>\n",
       "      <td>NaN</td>\n",
       "      <td>NaN</td>\n",
       "    </tr>\n",
       "  </tbody>\n",
       "</table>\n",
       "<p>116482 rows × 8 columns</p>\n",
       "</div>"
      ],
      "text/plain": [
       "                        adsh  fp  form    0    1    2   3    4\n",
       "0       0001193125-14-434590  Q2  10-Q  1.0  1.0  1.0 NaN  NaN\n",
       "1       0001283699-17-000032  Q2  10-Q  1.0  1.0  1.0 NaN  NaN\n",
       "2       0000946673-19-000012  Q1  10-Q  1.0  1.0  NaN NaN  NaN\n",
       "3       0001558370-19-008195  Q2  10-Q  1.0  1.0  1.0 NaN  NaN\n",
       "4       0001654954-19-002486  FY  10-K  1.0  NaN  NaN NaN  1.0\n",
       "...                      ...  ..   ...  ...  ...  ...  ..  ...\n",
       "116477  0001564590-17-007757  Q1  10-Q  1.0  1.0  NaN NaN  NaN\n",
       "116478  0001437749-12-004522  Q1  10-Q  1.0  1.0  NaN NaN  NaN\n",
       "116479  0000078890-17-000026  Q1  10-Q  1.0  1.0  NaN NaN  NaN\n",
       "116480  0001193125-14-284514  Q2  10-Q  1.0  1.0  1.0 NaN  NaN\n",
       "116481  0001193125-13-169761  Q1  10-Q  1.0  1.0  NaN NaN  NaN\n",
       "\n",
       "[116482 rows x 8 columns]"
      ]
     },
     "execution_count": null,
     "metadata": {},
     "output_type": "execute_result"
    }
   ],
   "source": [
    "pd.set_option('display.max_rows', 20)\n",
    "piv_by_qtrs_pd[['adsh','fp','form','0','1','2','3','4']]"
   ]
  },
  {
   "cell_type": "code",
   "execution_count": null,
   "metadata": {},
   "outputs": [],
   "source": [
    "# 0001392972-17-000128  Q3 / qtrs 0,1,3 -> 3 voll\n",
    "pd_frame = cf_pivot_value.where(\"adsh == '0001193125-13-315367'\").toPandas()"
   ]
  },
  {
   "cell_type": "code",
   "execution_count": null,
   "metadata": {},
   "outputs": [
    {
     "data": {
      "text/html": [
       "<div>\n",
       "<style scoped>\n",
       "    .dataframe tbody tr th:only-of-type {\n",
       "        vertical-align: middle;\n",
       "    }\n",
       "\n",
       "    .dataframe tbody tr th {\n",
       "        vertical-align: top;\n",
       "    }\n",
       "\n",
       "    .dataframe thead th {\n",
       "        text-align: right;\n",
       "    }\n",
       "</style>\n",
       "<table border=\"1\" class=\"dataframe\">\n",
       "  <thead>\n",
       "    <tr style=\"text-align: right;\">\n",
       "      <th></th>\n",
       "      <th>cik</th>\n",
       "      <th>ticker</th>\n",
       "      <th>adsh</th>\n",
       "      <th>form</th>\n",
       "      <th>period</th>\n",
       "      <th>filed</th>\n",
       "      <th>fp</th>\n",
       "      <th>qtrs</th>\n",
       "      <th>AmortizationOfFinancingCostsAndDiscounts</th>\n",
       "      <th>CashAndCashEquivalentsAtCarryingValue</th>\n",
       "      <th>...</th>\n",
       "      <th>PaymentsToAcquireIntangibleAssets</th>\n",
       "      <th>PaymentsToAcquirePropertyPlantAndEquipment</th>\n",
       "      <th>PaymentsToAcquireShortTermInvestments</th>\n",
       "      <th>ProceedsFromConvertibleDebt</th>\n",
       "      <th>ProceedsFromMaturitiesPrepaymentsAndCallsOfAvailableForSaleSecurities</th>\n",
       "      <th>ProceedsFromStockOptionsExercised</th>\n",
       "      <th>ProceedsFromStockPlans</th>\n",
       "      <th>ProvisionForDoubtfulAccounts</th>\n",
       "      <th>RepaymentsOfNotesPayable</th>\n",
       "      <th>ShareBasedCompensation</th>\n",
       "    </tr>\n",
       "  </thead>\n",
       "  <tbody>\n",
       "    <tr>\n",
       "      <th>1</th>\n",
       "      <td>1392972</td>\n",
       "      <td>PRO</td>\n",
       "      <td>0001392972-17-000128</td>\n",
       "      <td>10-Q</td>\n",
       "      <td>2017-09-30</td>\n",
       "      <td>2017-10-26</td>\n",
       "      <td>Q3</td>\n",
       "      <td>0</td>\n",
       "      <td>NaN</td>\n",
       "      <td>157359000.0</td>\n",
       "      <td>...</td>\n",
       "      <td>NaN</td>\n",
       "      <td>NaN</td>\n",
       "      <td>NaN</td>\n",
       "      <td>NaN</td>\n",
       "      <td>NaN</td>\n",
       "      <td>NaN</td>\n",
       "      <td>NaN</td>\n",
       "      <td>NaN</td>\n",
       "      <td>NaN</td>\n",
       "      <td>NaN</td>\n",
       "    </tr>\n",
       "    <tr>\n",
       "      <th>0</th>\n",
       "      <td>1392972</td>\n",
       "      <td>PRO</td>\n",
       "      <td>0001392972-17-000128</td>\n",
       "      <td>10-Q</td>\n",
       "      <td>2017-09-30</td>\n",
       "      <td>2017-10-26</td>\n",
       "      <td>Q3</td>\n",
       "      <td>1</td>\n",
       "      <td>NaN</td>\n",
       "      <td>NaN</td>\n",
       "      <td>...</td>\n",
       "      <td>NaN</td>\n",
       "      <td>NaN</td>\n",
       "      <td>NaN</td>\n",
       "      <td>NaN</td>\n",
       "      <td>NaN</td>\n",
       "      <td>NaN</td>\n",
       "      <td>NaN</td>\n",
       "      <td>NaN</td>\n",
       "      <td>NaN</td>\n",
       "      <td>NaN</td>\n",
       "    </tr>\n",
       "    <tr>\n",
       "      <th>2</th>\n",
       "      <td>1392972</td>\n",
       "      <td>PRO</td>\n",
       "      <td>0001392972-17-000128</td>\n",
       "      <td>10-Q</td>\n",
       "      <td>2017-09-30</td>\n",
       "      <td>2017-10-26</td>\n",
       "      <td>Q3</td>\n",
       "      <td>3</td>\n",
       "      <td>6363000.0</td>\n",
       "      <td>NaN</td>\n",
       "      <td>...</td>\n",
       "      <td>75000.0</td>\n",
       "      <td>1235000.0</td>\n",
       "      <td>0.0</td>\n",
       "      <td>93500000.0</td>\n",
       "      <td>15992000.0</td>\n",
       "      <td>6347000.0</td>\n",
       "      <td>1535000.0</td>\n",
       "      <td>0.0</td>\n",
       "      <td>155000.0</td>\n",
       "      <td>17665000.0</td>\n",
       "    </tr>\n",
       "  </tbody>\n",
       "</table>\n",
       "<p>3 rows × 34 columns</p>\n",
       "</div>"
      ],
      "text/plain": [
       "       cik ticker                  adsh  form      period       filed  fp  \\\n",
       "1  1392972    PRO  0001392972-17-000128  10-Q  2017-09-30  2017-10-26  Q3   \n",
       "0  1392972    PRO  0001392972-17-000128  10-Q  2017-09-30  2017-10-26  Q3   \n",
       "2  1392972    PRO  0001392972-17-000128  10-Q  2017-09-30  2017-10-26  Q3   \n",
       "\n",
       "  qtrs  AmortizationOfFinancingCostsAndDiscounts  \\\n",
       "1    0                                       NaN   \n",
       "0    1                                       NaN   \n",
       "2    3                                 6363000.0   \n",
       "\n",
       "   CashAndCashEquivalentsAtCarryingValue  ...  \\\n",
       "1                            157359000.0  ...   \n",
       "0                                    NaN  ...   \n",
       "2                                    NaN  ...   \n",
       "\n",
       "   PaymentsToAcquireIntangibleAssets  \\\n",
       "1                                NaN   \n",
       "0                                NaN   \n",
       "2                            75000.0   \n",
       "\n",
       "   PaymentsToAcquirePropertyPlantAndEquipment  \\\n",
       "1                                         NaN   \n",
       "0                                         NaN   \n",
       "2                                   1235000.0   \n",
       "\n",
       "   PaymentsToAcquireShortTermInvestments  ProceedsFromConvertibleDebt  \\\n",
       "1                                    NaN                          NaN   \n",
       "0                                    NaN                          NaN   \n",
       "2                                    0.0                   93500000.0   \n",
       "\n",
       "   ProceedsFromMaturitiesPrepaymentsAndCallsOfAvailableForSaleSecurities  \\\n",
       "1                                                NaN                       \n",
       "0                                                NaN                       \n",
       "2                                         15992000.0                       \n",
       "\n",
       "   ProceedsFromStockOptionsExercised  ProceedsFromStockPlans  \\\n",
       "1                                NaN                     NaN   \n",
       "0                                NaN                     NaN   \n",
       "2                          6347000.0               1535000.0   \n",
       "\n",
       "   ProvisionForDoubtfulAccounts  RepaymentsOfNotesPayable  \\\n",
       "1                           NaN                       NaN   \n",
       "0                           NaN                       NaN   \n",
       "2                           0.0                  155000.0   \n",
       "\n",
       "   ShareBasedCompensation  \n",
       "1                     NaN  \n",
       "0                     NaN  \n",
       "2              17665000.0  \n",
       "\n",
       "[3 rows x 34 columns]"
      ]
     },
     "execution_count": null,
     "metadata": {},
     "output_type": "execute_result"
    }
   ],
   "source": [
    "pd_frame = cf_pivot_value.where(\"adsh == ' 0001392972-17-000128'\").toPandas()\n",
    "pd.set_option('display.max_rows', pd_frame.shape[0]+1)\n",
    "pd_frame.sort_values(['qtrs']).dropna(how='all', axis=1)"
   ]
  },
  {
   "cell_type": "code",
   "execution_count": null,
   "metadata": {},
   "outputs": [
    {
     "data": {
      "text/html": [
       "<div>\n",
       "<style scoped>\n",
       "    .dataframe tbody tr th:only-of-type {\n",
       "        vertical-align: middle;\n",
       "    }\n",
       "\n",
       "    .dataframe tbody tr th {\n",
       "        vertical-align: top;\n",
       "    }\n",
       "\n",
       "    .dataframe thead th {\n",
       "        text-align: right;\n",
       "    }\n",
       "</style>\n",
       "<table border=\"1\" class=\"dataframe\">\n",
       "  <thead>\n",
       "    <tr style=\"text-align: right;\">\n",
       "      <th></th>\n",
       "      <th>cik</th>\n",
       "      <th>ticker</th>\n",
       "      <th>adsh</th>\n",
       "      <th>form</th>\n",
       "      <th>period</th>\n",
       "      <th>filed</th>\n",
       "      <th>fp</th>\n",
       "      <th>qtrs</th>\n",
       "      <th>CashAndCashEquivalentsAtCarryingValue</th>\n",
       "      <th>CashAndCashEquivalentsPeriodIncreaseDecrease</th>\n",
       "      <th>...</th>\n",
       "      <th>PaymentsForRepurchaseOfCommonStock</th>\n",
       "      <th>PaymentsToAcquireOtherInvestments</th>\n",
       "      <th>PaymentsToAcquirePropertyPlantAndEquipment</th>\n",
       "      <th>PaymentsToAcquireTradingSecuritiesHeldforinvestment</th>\n",
       "      <th>ProceedsFromSaleAndMaturityOfAvailableForSaleSecurities</th>\n",
       "      <th>ProceedsFromSaleAndMaturityOfOtherInvestments</th>\n",
       "      <th>ProceedsFromSaleAndMaturityOfTradingSecuritiesHeldforinvestment</th>\n",
       "      <th>ProceedsFromStockOptionsExercised</th>\n",
       "      <th>ShareBasedCompensation</th>\n",
       "      <th>UnrealizedGainLossOnInvestments</th>\n",
       "    </tr>\n",
       "  </thead>\n",
       "  <tbody>\n",
       "    <tr>\n",
       "      <th>2</th>\n",
       "      <td>1163348</td>\n",
       "      <td>AWH</td>\n",
       "      <td>0001193125-13-315367</td>\n",
       "      <td>10-Q</td>\n",
       "      <td>2013-06-30</td>\n",
       "      <td>2013-08-02</td>\n",
       "      <td>Q2</td>\n",
       "      <td>0</td>\n",
       "      <td>674103000.0</td>\n",
       "      <td>NaN</td>\n",
       "      <td>...</td>\n",
       "      <td>NaN</td>\n",
       "      <td>NaN</td>\n",
       "      <td>NaN</td>\n",
       "      <td>NaN</td>\n",
       "      <td>NaN</td>\n",
       "      <td>NaN</td>\n",
       "      <td>NaN</td>\n",
       "      <td>NaN</td>\n",
       "      <td>NaN</td>\n",
       "      <td>NaN</td>\n",
       "    </tr>\n",
       "    <tr>\n",
       "      <th>1</th>\n",
       "      <td>1163348</td>\n",
       "      <td>AWH</td>\n",
       "      <td>0001193125-13-315367</td>\n",
       "      <td>10-Q</td>\n",
       "      <td>2013-06-30</td>\n",
       "      <td>2013-08-02</td>\n",
       "      <td>Q2</td>\n",
       "      <td>1</td>\n",
       "      <td>NaN</td>\n",
       "      <td>NaN</td>\n",
       "      <td>...</td>\n",
       "      <td>NaN</td>\n",
       "      <td>NaN</td>\n",
       "      <td>NaN</td>\n",
       "      <td>NaN</td>\n",
       "      <td>NaN</td>\n",
       "      <td>NaN</td>\n",
       "      <td>NaN</td>\n",
       "      <td>NaN</td>\n",
       "      <td>NaN</td>\n",
       "      <td>NaN</td>\n",
       "    </tr>\n",
       "    <tr>\n",
       "      <th>0</th>\n",
       "      <td>1163348</td>\n",
       "      <td>AWH</td>\n",
       "      <td>0001193125-13-315367</td>\n",
       "      <td>10-Q</td>\n",
       "      <td>2013-06-30</td>\n",
       "      <td>2013-08-02</td>\n",
       "      <td>Q2</td>\n",
       "      <td>2</td>\n",
       "      <td>NaN</td>\n",
       "      <td>-7776000.0</td>\n",
       "      <td>...</td>\n",
       "      <td>82571000.0</td>\n",
       "      <td>141805000.0</td>\n",
       "      <td>3363000.0</td>\n",
       "      <td>3.186162e+09</td>\n",
       "      <td>0.0</td>\n",
       "      <td>126491000.0</td>\n",
       "      <td>3.171977e+09</td>\n",
       "      <td>5293000.0</td>\n",
       "      <td>6566000.0</td>\n",
       "      <td>-95698000.0</td>\n",
       "    </tr>\n",
       "  </tbody>\n",
       "</table>\n",
       "<p>3 rows × 35 columns</p>\n",
       "</div>"
      ],
      "text/plain": [
       "       cik ticker                  adsh  form      period       filed  fp  \\\n",
       "2  1163348    AWH  0001193125-13-315367  10-Q  2013-06-30  2013-08-02  Q2   \n",
       "1  1163348    AWH  0001193125-13-315367  10-Q  2013-06-30  2013-08-02  Q2   \n",
       "0  1163348    AWH  0001193125-13-315367  10-Q  2013-06-30  2013-08-02  Q2   \n",
       "\n",
       "  qtrs  CashAndCashEquivalentsAtCarryingValue  \\\n",
       "2    0                            674103000.0   \n",
       "1    1                                    NaN   \n",
       "0    2                                    NaN   \n",
       "\n",
       "   CashAndCashEquivalentsPeriodIncreaseDecrease  ...  \\\n",
       "2                                           NaN  ...   \n",
       "1                                           NaN  ...   \n",
       "0                                    -7776000.0  ...   \n",
       "\n",
       "   PaymentsForRepurchaseOfCommonStock  PaymentsToAcquireOtherInvestments  \\\n",
       "2                                 NaN                                NaN   \n",
       "1                                 NaN                                NaN   \n",
       "0                          82571000.0                        141805000.0   \n",
       "\n",
       "   PaymentsToAcquirePropertyPlantAndEquipment  \\\n",
       "2                                         NaN   \n",
       "1                                         NaN   \n",
       "0                                   3363000.0   \n",
       "\n",
       "   PaymentsToAcquireTradingSecuritiesHeldforinvestment  \\\n",
       "2                                                NaN     \n",
       "1                                                NaN     \n",
       "0                                       3.186162e+09     \n",
       "\n",
       "   ProceedsFromSaleAndMaturityOfAvailableForSaleSecurities  \\\n",
       "2                                                NaN         \n",
       "1                                                NaN         \n",
       "0                                                0.0         \n",
       "\n",
       "   ProceedsFromSaleAndMaturityOfOtherInvestments  \\\n",
       "2                                            NaN   \n",
       "1                                            NaN   \n",
       "0                                    126491000.0   \n",
       "\n",
       "   ProceedsFromSaleAndMaturityOfTradingSecuritiesHeldforinvestment  \\\n",
       "2                                                NaN                 \n",
       "1                                                NaN                 \n",
       "0                                       3.171977e+09                 \n",
       "\n",
       "   ProceedsFromStockOptionsExercised  ShareBasedCompensation  \\\n",
       "2                                NaN                     NaN   \n",
       "1                                NaN                     NaN   \n",
       "0                          5293000.0               6566000.0   \n",
       "\n",
       "   UnrealizedGainLossOnInvestments  \n",
       "2                              NaN  \n",
       "1                              NaN  \n",
       "0                      -95698000.0  \n",
       "\n",
       "[3 rows x 35 columns]"
      ]
     },
     "execution_count": null,
     "metadata": {},
     "output_type": "execute_result"
    }
   ],
   "source": [
    "pd_frame = cf_pivot_value.where(\"adsh == '0001193125-13-315367'\").toPandas()\n",
    "pd.set_option('display.max_rows', pd_frame.shape[0]+1)\n",
    "pd_frame.sort_values(['qtrs']).dropna(how='all', axis=1)"
   ]
  },
  {
   "cell_type": "code",
   "execution_count": null,
   "metadata": {},
   "outputs": [
    {
     "data": {
      "text/html": [
       "<div>\n",
       "<style scoped>\n",
       "    .dataframe tbody tr th:only-of-type {\n",
       "        vertical-align: middle;\n",
       "    }\n",
       "\n",
       "    .dataframe tbody tr th {\n",
       "        vertical-align: top;\n",
       "    }\n",
       "\n",
       "    .dataframe thead th {\n",
       "        text-align: right;\n",
       "    }\n",
       "</style>\n",
       "<table border=\"1\" class=\"dataframe\">\n",
       "  <thead>\n",
       "    <tr style=\"text-align: right;\">\n",
       "      <th></th>\n",
       "      <th>cik</th>\n",
       "      <th>ticker</th>\n",
       "      <th>adsh</th>\n",
       "      <th>form</th>\n",
       "      <th>period</th>\n",
       "      <th>filed</th>\n",
       "      <th>fp</th>\n",
       "      <th>qtrs</th>\n",
       "      <th>CashAndCashEquivalentsAtCarryingValue</th>\n",
       "      <th>CashAndCashEquivalentsPeriodIncreaseDecrease</th>\n",
       "      <th>...</th>\n",
       "      <th>ProceedsFromMaturitiesPrepaymentsAndCallsOfHeldToMaturitySecurities</th>\n",
       "      <th>ProceedsFromSaleOfAvailableForSaleSecurities</th>\n",
       "      <th>ProceedsFromSaleOfFederalHomeLoanBankStock</th>\n",
       "      <th>ProceedsFromSaleOfLoansHeldForInvestment</th>\n",
       "      <th>ProceedsFromSaleOfLoansHeldForSale</th>\n",
       "      <th>ProceedsFromSaleOfPropertyPlantAndEquipment</th>\n",
       "      <th>ProvisionForLoanAndLeaseLosses</th>\n",
       "      <th>ProvisionForLoanLeaseAndOtherLosses</th>\n",
       "      <th>ShareBasedCompensation</th>\n",
       "      <th>TransferToOtherRealEstate</th>\n",
       "    </tr>\n",
       "  </thead>\n",
       "  <tbody>\n",
       "    <tr>\n",
       "      <th>0</th>\n",
       "      <td>946673</td>\n",
       "      <td>BANR</td>\n",
       "      <td>0000946673-19-000012</td>\n",
       "      <td>10-Q</td>\n",
       "      <td>2019-03-31</td>\n",
       "      <td>2019-05-03</td>\n",
       "      <td>Q1</td>\n",
       "      <td>0</td>\n",
       "      <td>261538000.0</td>\n",
       "      <td>NaN</td>\n",
       "      <td>...</td>\n",
       "      <td>NaN</td>\n",
       "      <td>NaN</td>\n",
       "      <td>NaN</td>\n",
       "      <td>NaN</td>\n",
       "      <td>NaN</td>\n",
       "      <td>NaN</td>\n",
       "      <td>NaN</td>\n",
       "      <td>NaN</td>\n",
       "      <td>NaN</td>\n",
       "      <td>NaN</td>\n",
       "    </tr>\n",
       "    <tr>\n",
       "      <th>1</th>\n",
       "      <td>946673</td>\n",
       "      <td>BANR</td>\n",
       "      <td>0000946673-19-000012</td>\n",
       "      <td>10-Q</td>\n",
       "      <td>2019-03-31</td>\n",
       "      <td>2019-05-03</td>\n",
       "      <td>Q1</td>\n",
       "      <td>1</td>\n",
       "      <td>NaN</td>\n",
       "      <td>-10658000.0</td>\n",
       "      <td>...</td>\n",
       "      <td>14744000.0</td>\n",
       "      <td>516000.0</td>\n",
       "      <td>52372000.0</td>\n",
       "      <td>3186000.0</td>\n",
       "      <td>261978000.0</td>\n",
       "      <td>876000.0</td>\n",
       "      <td>2000000.0</td>\n",
       "      <td>0.0</td>\n",
       "      <td>1219000.0</td>\n",
       "      <td>0.0</td>\n",
       "    </tr>\n",
       "  </tbody>\n",
       "</table>\n",
       "<p>2 rows × 53 columns</p>\n",
       "</div>"
      ],
      "text/plain": [
       "      cik ticker                  adsh  form      period       filed  fp qtrs  \\\n",
       "0  946673   BANR  0000946673-19-000012  10-Q  2019-03-31  2019-05-03  Q1    0   \n",
       "1  946673   BANR  0000946673-19-000012  10-Q  2019-03-31  2019-05-03  Q1    1   \n",
       "\n",
       "   CashAndCashEquivalentsAtCarryingValue  \\\n",
       "0                            261538000.0   \n",
       "1                                    NaN   \n",
       "\n",
       "   CashAndCashEquivalentsPeriodIncreaseDecrease  ...  \\\n",
       "0                                           NaN  ...   \n",
       "1                                   -10658000.0  ...   \n",
       "\n",
       "   ProceedsFromMaturitiesPrepaymentsAndCallsOfHeldToMaturitySecurities  \\\n",
       "0                                                NaN                     \n",
       "1                                         14744000.0                     \n",
       "\n",
       "   ProceedsFromSaleOfAvailableForSaleSecurities  \\\n",
       "0                                           NaN   \n",
       "1                                      516000.0   \n",
       "\n",
       "   ProceedsFromSaleOfFederalHomeLoanBankStock  \\\n",
       "0                                         NaN   \n",
       "1                                  52372000.0   \n",
       "\n",
       "   ProceedsFromSaleOfLoansHeldForInvestment  \\\n",
       "0                                       NaN   \n",
       "1                                 3186000.0   \n",
       "\n",
       "   ProceedsFromSaleOfLoansHeldForSale  \\\n",
       "0                                 NaN   \n",
       "1                         261978000.0   \n",
       "\n",
       "   ProceedsFromSaleOfPropertyPlantAndEquipment  \\\n",
       "0                                          NaN   \n",
       "1                                     876000.0   \n",
       "\n",
       "   ProvisionForLoanAndLeaseLosses  ProvisionForLoanLeaseAndOtherLosses  \\\n",
       "0                             NaN                                  NaN   \n",
       "1                       2000000.0                                  0.0   \n",
       "\n",
       "   ShareBasedCompensation  TransferToOtherRealEstate  \n",
       "0                     NaN                        NaN  \n",
       "1               1219000.0                        0.0  \n",
       "\n",
       "[2 rows x 53 columns]"
      ]
     },
     "execution_count": null,
     "metadata": {},
     "output_type": "execute_result"
    }
   ],
   "source": [
    "pd_frame = cf_pivot_value.where(\"adsh == '0000946673-19-000012'\").toPandas()\n",
    "pd.set_option('display.max_rows', pd_frame.shape[0]+1)\n",
    "pd_frame.sort_values(['qtrs']).dropna(how='all', axis=1)"
   ]
  },
  {
   "cell_type": "code",
   "execution_count": null,
   "metadata": {},
   "outputs": [
    {
     "name": "stdout",
     "output_type": "stream",
     "text": [
      "+----+-------+------+--------------------+----------+----+----------+------------------------------------------------------+----------+------+----+---+---+----+-----------+\n",
      "|stmt|cik    |ticker|adsh                |period    |form|filed     |tag                                                   |value     |report|line|fp |uom|qtrs|period_year|\n",
      "+----+-------+------+--------------------+----------+----+----------+------------------------------------------------------+----------+------+----+---+---+----+-----------+\n",
      "|CF  |1104855|SPRT  |0001654954-19-002486|2018-12-31|10-K|2019-03-08|NetIncomeLoss                                         |-9100000.0|7     |2   |FY |USD|4   |2018       |\n",
      "|CF  |1104855|SPRT  |0001654954-19-002486|2018-12-31|10-K|2019-03-08|ShareBasedCompensation                                |680000.0  |7     |4   |FY |USD|4   |2018       |\n",
      "|CF  |1104855|SPRT  |0001654954-19-002486|2018-12-31|10-K|2019-03-08|AmortizationOfIntangibleAssets                        |0.0       |7     |5   |FY |USD|4   |2018       |\n",
      "|CF  |1104855|SPRT  |0001654954-19-002486|2018-12-31|10-K|2019-03-08|AccretionAmortizationOfDiscountsAndPremiumsInvestments|-176000.0 |7     |6   |FY |USD|4   |2018       |\n",
      "|CF  |1104855|SPRT  |0001654954-19-002486|2018-12-31|10-K|2019-03-08|Depreciation                                          |638000.0  |7     |7   |FY |USD|4   |2018       |\n",
      "|CF  |1104855|SPRT  |0001654954-19-002486|2018-12-31|10-K|2019-03-08|DeferredIncomeTaxExpenseBenefit                       |0.0       |7     |8   |FY |USD|4   |2018       |\n",
      "|CF  |1104855|SPRT  |0001654954-19-002486|2018-12-31|10-K|2019-03-08|GainLossOnDispositionOfAssets                         |0.0       |7     |9   |FY |USD|4   |2018       |\n",
      "|CF  |1104855|SPRT  |0001654954-19-002486|2018-12-31|10-K|2019-03-08|IncreaseDecreaseInAccountsReceivable                  |341000.0  |7     |11  |FY |USD|4   |2018       |\n",
      "|CF  |1104855|SPRT  |0001654954-19-002486|2018-12-31|10-K|2019-03-08|IncreaseDecreaseInPrepaidDeferredExpenseAndOtherAssets|210000.0  |7     |12  |FY |USD|4   |2018       |\n",
      "|CF  |1104855|SPRT  |0001654954-19-002486|2018-12-31|10-K|2019-03-08|IncreaseDecreaseInOtherOperatingAssets                |-159000.0 |7     |13  |FY |USD|4   |2018       |\n",
      "|CF  |1104855|SPRT  |0001654954-19-002486|2018-12-31|10-K|2019-03-08|IncreaseDecreaseInAccountsPayable                     |-136000.0 |7     |14  |FY |USD|4   |2018       |\n",
      "|CF  |1104855|SPRT  |0001654954-19-002486|2018-12-31|10-K|2019-03-08|IncreaseDecreaseInEmployeeRelatedLiabilities          |257000.0  |7     |16  |FY |USD|4   |2018       |\n",
      "|CF  |1104855|SPRT  |0001654954-19-002486|2018-12-31|10-K|2019-03-08|IncreaseDecreaseInOtherAccruedLiabilities             |-358000.0 |7     |17  |FY |USD|4   |2018       |\n",
      "|CF  |1104855|SPRT  |0001654954-19-002486|2018-12-31|10-K|2019-03-08|IncreaseDecreaseInOtherNoncurrentLiabilities          |-85000.0  |7     |18  |FY |USD|4   |2018       |\n",
      "|CF  |1104855|SPRT  |0001654954-19-002486|2018-12-31|10-K|2019-03-08|IncreaseDecreaseInDeferredRevenue                     |-884000.0 |7     |19  |FY |USD|4   |2018       |\n",
      "|CF  |1104855|SPRT  |0001654954-19-002486|2018-12-31|10-K|2019-03-08|NetCashProvidedByUsedInOperatingActivities            |796000.0  |7     |20  |FY |USD|4   |2018       |\n",
      "|CF  |1104855|SPRT  |0001654954-19-002486|2018-12-31|10-K|2019-03-08|PaymentsToAcquirePropertyPlantAndEquipment            |208000.0  |7     |22  |FY |USD|4   |2018       |\n",
      "|CF  |1104855|SPRT  |0001654954-19-002486|2018-12-31|10-K|2019-03-08|PaymentsToAcquireInvestments                          |3.0049E7  |7     |23  |FY |USD|4   |2018       |\n",
      "|CF  |1104855|SPRT  |0001654954-19-002486|2018-12-31|10-K|2019-03-08|ProceedsFromSaleAndMaturityOfMarketableSecurities     |3.6604E7  |7     |24  |FY |USD|4   |2018       |\n",
      "|CF  |1104855|SPRT  |0001654954-19-002486|2018-12-31|10-K|2019-03-08|NetCashProvidedByUsedInInvestingActivities            |6347000.0 |7     |25  |FY |USD|4   |2018       |\n",
      "|CF  |1104855|SPRT  |0001654954-19-002486|2018-12-31|10-K|2019-03-08|ProceedsFromStockOptionsExercised                     |185000.0  |7     |28  |FY |USD|4   |2018       |\n",
      "|CF  |1104855|SPRT  |0001654954-19-002486|2018-12-31|10-K|2019-03-08|ProceedsFromStockPlans                                |72000.0   |7     |29  |FY |USD|4   |2018       |\n",
      "|CF  |1104855|SPRT  |0001654954-19-002486|2018-12-31|10-K|2019-03-08|PaymentsForRepurchaseOfCommonStock                    |0.0       |7     |30  |FY |USD|4   |2018       |\n",
      "|CF  |1104855|SPRT  |0001654954-19-002486|2018-12-31|10-K|2019-03-08|NetCashProvidedByUsedInFinancingActivities            |257000.0  |7     |31  |FY |USD|4   |2018       |\n",
      "|CF  |1104855|SPRT  |0001654954-19-002486|2018-12-31|10-K|2019-03-08|CashAndCashEquivalentsPeriodIncreaseDecrease          |7400000.0 |7     |32  |FY |USD|4   |2018       |\n",
      "|CF  |1104855|SPRT  |0001654954-19-002486|2018-12-31|10-K|2019-03-08|EffectOfExchangeRateOnCashAndCashEquivalents          |-268000.0 |7     |33  |FY |USD|4   |2018       |\n",
      "|CF  |1104855|SPRT  |0001654954-19-002486|2018-12-31|10-K|2019-03-08|CashAndCashEquivalentsAtCarryingValue                 |2.5182E7  |7     |34  |FY |USD|0   |2018       |\n",
      "|CF  |1104855|SPRT  |0001654954-19-002486|2018-12-31|10-K|2019-03-08|CashAndCashEquivalentsAtCarryingValue                 |2.5182E7  |7     |35  |FY |USD|0   |2018       |\n",
      "|CF  |1104855|SPRT  |0001654954-19-002486|2018-12-31|10-K|2019-03-08|IncomeTaxesPaid                                       |72000.0   |7     |37  |FY |USD|4   |2018       |\n",
      "+----+-------+------+--------------------+----------+----+----------+------------------------------------------------------+----------+------+----+---+---+----+-----------+\n",
      "\n"
     ]
    }
   ],
   "source": [
    "df_all_selected.where(\"adsh == '0001654954-19-002486' and stmt = 'CF'\").orderBy('line').show(50,False)"
   ]
  },
  {
   "cell_type": "code",
   "execution_count": null,
   "metadata": {},
   "outputs": [],
   "source": []
  }
 ],
 "metadata": {
  "kernelspec": {
   "display_name": "Python 3",
   "language": "python",
   "name": "python3"
  }
 },
 "nbformat": 4,
 "nbformat_minor": 4
}
