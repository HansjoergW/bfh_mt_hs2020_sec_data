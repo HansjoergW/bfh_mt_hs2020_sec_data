{
 "cells": [
  {
   "cell_type": "code",
   "execution_count": null,
   "metadata": {},
   "outputs": [],
   "source": [
    "# default_exp uniformcf"
   ]
  },
  {
   "cell_type": "code",
   "execution_count": null,
   "metadata": {},
   "outputs": [],
   "source": [
    "#hide\n",
    "from nbdev.showdoc import *"
   ]
  },
  {
   "cell_type": "code",
   "execution_count": null,
   "metadata": {},
   "outputs": [],
   "source": [
    "#hide\n",
    "# stellt sicher, dass beim verändern der core library diese wieder neu geladen wird\n",
    "%load_ext autoreload\n",
    "%autoreload 2"
   ]
  },
  {
   "cell_type": "markdown",
   "metadata": {},
   "source": [
    "# todos\n",
    "\n",
    "\n",
    "- CF Statement hat noch mehrere Qrts drin. prüfen, ob alle qtrs=1 haben.\n"
   ]
  },
  {
   "cell_type": "markdown",
   "metadata": {},
   "source": [
    "# uniform CF"
   ]
  },
  {
   "cell_type": "markdown",
   "metadata": {},
   "source": [
    "## Basic Settings"
   ]
  },
  {
   "cell_type": "code",
   "execution_count": null,
   "metadata": {},
   "outputs": [],
   "source": [
    "# imports\n",
    "from bfh_mt_hs2020_sec_data.core import * \n",
    "from pathlib import Path\n",
    "from typing import List, Tuple, Union, Set\n",
    "from pyspark.sql.dataframe import DataFrame\n",
    "from pyspark.sql.functions import col\n",
    "\n",
    "import pandas as pd\n",
    "\n",
    "import shutil          # provides high level file operations\n",
    "import time            # used to measure execution time\n",
    "import os\n",
    "import sys"
   ]
  },
  {
   "cell_type": "code",
   "execution_count": null,
   "metadata": {},
   "outputs": [],
   "source": [
    "all_pivot_selected_folder  = \"D:/data/parq_pivot_select\"\n",
    "all_pivoted_folder = \"D:/data/parq_pivot_split\"\n",
    "all_processed_folder = \"D:/data/parq_processed/\"\n",
    "\n",
    "col_list =    [\"stmt\",\"cik\",\"ticker\", \"adsh\",\"period\",\"filed\", \"form\",\"tag\",\"value\",\"report\", \"line\", \"fp\", \"uom\"]\n",
    "pivot_group = [\"cik\",\"ticker\",\"adsh\",\"form\",\"period\",\"filed\",\"fp\", \"qtrs\"]"
   ]
  },
  {
   "cell_type": "code",
   "execution_count": null,
   "metadata": {},
   "outputs": [
    {
     "data": {
      "text/html": [
       "\n",
       "            <div>\n",
       "                <p><b>SparkSession - in-memory</b></p>\n",
       "                \n",
       "        <div>\n",
       "            <p><b>SparkContext</b></p>\n",
       "\n",
       "            <p><a href=\"http://192.168.0.163:4040\">Spark UI</a></p>\n",
       "\n",
       "            <dl>\n",
       "              <dt>Version</dt>\n",
       "                <dd><code>v2.4.5</code></dd>\n",
       "              <dt>Master</dt>\n",
       "                <dd><code>local[*]</code></dd>\n",
       "              <dt>AppName</dt>\n",
       "                <dd><code>default</code></dd>\n",
       "            </dl>\n",
       "        </div>\n",
       "        \n",
       "            </div>\n",
       "        "
      ],
      "text/plain": [
       "<pyspark.sql.session.SparkSession at 0x219a763c848>"
      ]
     },
     "execution_count": null,
     "metadata": {},
     "output_type": "execute_result"
    }
   ],
   "source": [
    "# init Spark\n",
    "spark = get_spark_session() # Session anlegen\n",
    "spark # display the moste important information of the session"
   ]
  },
  {
   "cell_type": "markdown",
   "metadata": {},
   "source": [
    "## 00_Raw_data"
   ]
  },
  {
   "cell_type": "code",
   "execution_count": null,
   "metadata": {},
   "outputs": [],
   "source": [
    "# loading the complete unpivoted dataset - if it is needed for debbuging\n",
    "df_all_selected = spark.read.parquet(all_pivot_selected_folder).cache()"
   ]
  },
  {
   "cell_type": "code",
   "execution_count": null,
   "metadata": {},
   "outputs": [],
   "source": [
    "# it happens sometimes, that the data could not be associated with a right sheet (bs, is, cf, ..). in this cases, the data can appea under \"UN\"\n",
    "# so if expected information cannot be found in the appropriate statement, we have to look in the un statement\n",
    "un_pivot_value = load_data(all_pivoted_folder, spark, \"UN\", \"value\")\n",
    "un_pivot_pd = un_pivot_value.toPandas()"
   ]
  },
  {
   "cell_type": "code",
   "execution_count": null,
   "metadata": {},
   "outputs": [
    {
     "data": {
      "text/plain": [
       "(5989, 1775)"
      ]
     },
     "execution_count": null,
     "metadata": {},
     "output_type": "execute_result"
    }
   ],
   "source": [
    "un_pivot_pd.shape"
   ]
  },
  {
   "cell_type": "code",
   "execution_count": null,
   "metadata": {},
   "outputs": [],
   "source": [
    "def prepare_un_values(df_to_merge_into, attr_list):\n",
    "    # add possible columns from un set to  cf data with prefix cpy_\n",
    "    attributes = pivot_group[:] # create copy\n",
    "    attributes.extend(attr_list)\n",
    "\n",
    "    un_prepared = un_pivot_pd[attributes].copy()\n",
    "    un_prepared.rename(columns=lambda x: x  if x in pivot_group else (\"cpy_\" + x), inplace=True)\n",
    "\n",
    "    return pd.merge(df_to_merge_into, un_prepared, how='left', on=pivot_group)"
   ]
  },
  {
   "cell_type": "markdown",
   "metadata": {},
   "source": [
    "## 01_CashFlow"
   ]
  },
  {
   "cell_type": "markdown",
   "metadata": {},
   "source": [
    "Operation\n",
    "- NetIncomeLoss\n",
    "- ProfitLoss\n",
    "- NetCashProvidedByUsedInOperatingActivities: NetIncome + other positions ergibt diese Position\n",
    "\n",
    "Investing\n",
    "- NetCashProvidedByUsedInInvestingActivities\n",
    "\n",
    "Financing activities\n",
    "- PaymentsForRepurchaseOfCommonStock: Aktienrückkäufe\n",
    "- PaymentsOfDividends\n",
    "- NetCashProvidedByUsedInFinancingActivities\n",
    "\n",
    "Cash Bestand unterschied\n",
    "- CashAndCashEquivalentsPeriodIncreaseDecrease: increase/decrease in cash"
   ]
  },
  {
   "cell_type": "code",
   "execution_count": null,
   "metadata": {},
   "outputs": [
    {
     "data": {
      "text/plain": [
       "(305903, 2910)"
      ]
     },
     "execution_count": null,
     "metadata": {},
     "output_type": "execute_result"
    }
   ],
   "source": [
    "cf_pivot_value = load_data(all_pivoted_folder, spark, \"CF\", \"value\")\n",
    "spark_shape(cf_pivot_value)"
   ]
  },
  {
   "cell_type": "code",
   "execution_count": null,
   "metadata": {},
   "outputs": [
    {
     "ename": "Py4JJavaError",
     "evalue": "An error occurred while calling o54.collectToPython.\n: java.lang.OutOfMemoryError: Java heap space\r\n\tat org.apache.spark.sql.execution.SparkPlan$$anon$1.next(SparkPlan.scala:282)\r\n\tat org.apache.spark.sql.execution.SparkPlan$$anon$1.next(SparkPlan.scala:278)\r\n\tat scala.collection.Iterator$class.foreach(Iterator.scala:891)\r\n\tat org.apache.spark.sql.execution.SparkPlan$$anon$1.foreach(SparkPlan.scala:278)\r\n\tat org.apache.spark.sql.execution.SparkPlan$$anonfun$executeCollect$1.apply(SparkPlan.scala:300)\r\n\tat org.apache.spark.sql.execution.SparkPlan$$anonfun$executeCollect$1.apply(SparkPlan.scala:299)\r\n\tat scala.collection.IndexedSeqOptimized$class.foreach(IndexedSeqOptimized.scala:33)\r\n\tat scala.collection.mutable.ArrayOps$ofRef.foreach(ArrayOps.scala:186)\r\n\tat org.apache.spark.sql.execution.SparkPlan.executeCollect(SparkPlan.scala:299)\r\n\tat org.apache.spark.sql.Dataset$$anonfun$collectToPython$1.apply(Dataset.scala:3263)\r\n\tat org.apache.spark.sql.Dataset$$anonfun$collectToPython$1.apply(Dataset.scala:3260)\r\n\tat org.apache.spark.sql.Dataset$$anonfun$52.apply(Dataset.scala:3370)\r\n\tat org.apache.spark.sql.execution.SQLExecution$$anonfun$withNewExecutionId$1.apply(SQLExecution.scala:80)\r\n\tat org.apache.spark.sql.execution.SQLExecution$.withSQLConfPropagated(SQLExecution.scala:127)\r\n\tat org.apache.spark.sql.execution.SQLExecution$.withNewExecutionId(SQLExecution.scala:75)\r\n\tat org.apache.spark.sql.Dataset.withAction(Dataset.scala:3369)\r\n\tat org.apache.spark.sql.Dataset.collectToPython(Dataset.scala:3260)\r\n\tat sun.reflect.NativeMethodAccessorImpl.invoke0(Native Method)\r\n\tat sun.reflect.NativeMethodAccessorImpl.invoke(Unknown Source)\r\n\tat sun.reflect.DelegatingMethodAccessorImpl.invoke(Unknown Source)\r\n\tat java.lang.reflect.Method.invoke(Unknown Source)\r\n\tat py4j.reflection.MethodInvoker.invoke(MethodInvoker.java:244)\r\n\tat py4j.reflection.ReflectionEngine.invoke(ReflectionEngine.java:357)\r\n\tat py4j.Gateway.invoke(Gateway.java:282)\r\n\tat py4j.commands.AbstractCommand.invokeMethod(AbstractCommand.java:132)\r\n\tat py4j.commands.CallCommand.execute(CallCommand.java:79)\r\n\tat py4j.GatewayConnection.run(GatewayConnection.java:238)\r\n\tat java.lang.Thread.run(Unknown Source)\r\n",
     "output_type": "error",
     "traceback": [
      "\u001b[1;31m---------------------------------------------------------------------------\u001b[0m",
      "\u001b[1;31mPy4JJavaError\u001b[0m                             Traceback (most recent call last)",
      "\u001b[1;32m<ipython-input-16-ace685b28977>\u001b[0m in \u001b[0;36m<module>\u001b[1;34m\u001b[0m\n\u001b[1;32m----> 1\u001b[1;33m \u001b[0mcf_pivot_pd\u001b[0m \u001b[1;33m=\u001b[0m \u001b[0mcf_pivot_value\u001b[0m\u001b[1;33m.\u001b[0m\u001b[0mtoPandas\u001b[0m\u001b[1;33m(\u001b[0m\u001b[1;33m)\u001b[0m\u001b[1;33m\u001b[0m\u001b[1;33m\u001b[0m\u001b[0m\n\u001b[0m",
      "\u001b[1;32mC:\\ieu\\Anaconda3\\envs\\spark\\lib\\site-packages\\pyspark\\sql\\dataframe.py\u001b[0m in \u001b[0;36mtoPandas\u001b[1;34m(self)\u001b[0m\n\u001b[0;32m   2148\u001b[0m \u001b[1;33m\u001b[0m\u001b[0m\n\u001b[0;32m   2149\u001b[0m         \u001b[1;31m# Below is toPandas without Arrow optimization.\u001b[0m\u001b[1;33m\u001b[0m\u001b[1;33m\u001b[0m\u001b[1;33m\u001b[0m\u001b[0m\n\u001b[1;32m-> 2150\u001b[1;33m         \u001b[0mpdf\u001b[0m \u001b[1;33m=\u001b[0m \u001b[0mpd\u001b[0m\u001b[1;33m.\u001b[0m\u001b[0mDataFrame\u001b[0m\u001b[1;33m.\u001b[0m\u001b[0mfrom_records\u001b[0m\u001b[1;33m(\u001b[0m\u001b[0mself\u001b[0m\u001b[1;33m.\u001b[0m\u001b[0mcollect\u001b[0m\u001b[1;33m(\u001b[0m\u001b[1;33m)\u001b[0m\u001b[1;33m,\u001b[0m \u001b[0mcolumns\u001b[0m\u001b[1;33m=\u001b[0m\u001b[0mself\u001b[0m\u001b[1;33m.\u001b[0m\u001b[0mcolumns\u001b[0m\u001b[1;33m)\u001b[0m\u001b[1;33m\u001b[0m\u001b[1;33m\u001b[0m\u001b[0m\n\u001b[0m\u001b[0;32m   2151\u001b[0m \u001b[1;33m\u001b[0m\u001b[0m\n\u001b[0;32m   2152\u001b[0m         \u001b[0mdtype\u001b[0m \u001b[1;33m=\u001b[0m \u001b[1;33m{\u001b[0m\u001b[1;33m}\u001b[0m\u001b[1;33m\u001b[0m\u001b[1;33m\u001b[0m\u001b[0m\n",
      "\u001b[1;32mC:\\ieu\\Anaconda3\\envs\\spark\\lib\\site-packages\\pyspark\\sql\\dataframe.py\u001b[0m in \u001b[0;36mcollect\u001b[1;34m(self)\u001b[0m\n\u001b[0;32m    532\u001b[0m         \"\"\"\n\u001b[0;32m    533\u001b[0m         \u001b[1;32mwith\u001b[0m \u001b[0mSCCallSiteSync\u001b[0m\u001b[1;33m(\u001b[0m\u001b[0mself\u001b[0m\u001b[1;33m.\u001b[0m\u001b[0m_sc\u001b[0m\u001b[1;33m)\u001b[0m \u001b[1;32mas\u001b[0m \u001b[0mcss\u001b[0m\u001b[1;33m:\u001b[0m\u001b[1;33m\u001b[0m\u001b[1;33m\u001b[0m\u001b[0m\n\u001b[1;32m--> 534\u001b[1;33m             \u001b[0msock_info\u001b[0m \u001b[1;33m=\u001b[0m \u001b[0mself\u001b[0m\u001b[1;33m.\u001b[0m\u001b[0m_jdf\u001b[0m\u001b[1;33m.\u001b[0m\u001b[0mcollectToPython\u001b[0m\u001b[1;33m(\u001b[0m\u001b[1;33m)\u001b[0m\u001b[1;33m\u001b[0m\u001b[1;33m\u001b[0m\u001b[0m\n\u001b[0m\u001b[0;32m    535\u001b[0m         \u001b[1;32mreturn\u001b[0m \u001b[0mlist\u001b[0m\u001b[1;33m(\u001b[0m\u001b[0m_load_from_socket\u001b[0m\u001b[1;33m(\u001b[0m\u001b[0msock_info\u001b[0m\u001b[1;33m,\u001b[0m \u001b[0mBatchedSerializer\u001b[0m\u001b[1;33m(\u001b[0m\u001b[0mPickleSerializer\u001b[0m\u001b[1;33m(\u001b[0m\u001b[1;33m)\u001b[0m\u001b[1;33m)\u001b[0m\u001b[1;33m)\u001b[0m\u001b[1;33m)\u001b[0m\u001b[1;33m\u001b[0m\u001b[1;33m\u001b[0m\u001b[0m\n\u001b[0;32m    536\u001b[0m \u001b[1;33m\u001b[0m\u001b[0m\n",
      "\u001b[1;32mC:\\ieu\\Anaconda3\\envs\\spark\\lib\\site-packages\\py4j\\java_gateway.py\u001b[0m in \u001b[0;36m__call__\u001b[1;34m(self, *args)\u001b[0m\n\u001b[0;32m   1255\u001b[0m         \u001b[0manswer\u001b[0m \u001b[1;33m=\u001b[0m \u001b[0mself\u001b[0m\u001b[1;33m.\u001b[0m\u001b[0mgateway_client\u001b[0m\u001b[1;33m.\u001b[0m\u001b[0msend_command\u001b[0m\u001b[1;33m(\u001b[0m\u001b[0mcommand\u001b[0m\u001b[1;33m)\u001b[0m\u001b[1;33m\u001b[0m\u001b[1;33m\u001b[0m\u001b[0m\n\u001b[0;32m   1256\u001b[0m         return_value = get_return_value(\n\u001b[1;32m-> 1257\u001b[1;33m             answer, self.gateway_client, self.target_id, self.name)\n\u001b[0m\u001b[0;32m   1258\u001b[0m \u001b[1;33m\u001b[0m\u001b[0m\n\u001b[0;32m   1259\u001b[0m         \u001b[1;32mfor\u001b[0m \u001b[0mtemp_arg\u001b[0m \u001b[1;32min\u001b[0m \u001b[0mtemp_args\u001b[0m\u001b[1;33m:\u001b[0m\u001b[1;33m\u001b[0m\u001b[1;33m\u001b[0m\u001b[0m\n",
      "\u001b[1;32mC:\\ieu\\Anaconda3\\envs\\spark\\lib\\site-packages\\pyspark\\sql\\utils.py\u001b[0m in \u001b[0;36mdeco\u001b[1;34m(*a, **kw)\u001b[0m\n\u001b[0;32m     61\u001b[0m     \u001b[1;32mdef\u001b[0m \u001b[0mdeco\u001b[0m\u001b[1;33m(\u001b[0m\u001b[1;33m*\u001b[0m\u001b[0ma\u001b[0m\u001b[1;33m,\u001b[0m \u001b[1;33m**\u001b[0m\u001b[0mkw\u001b[0m\u001b[1;33m)\u001b[0m\u001b[1;33m:\u001b[0m\u001b[1;33m\u001b[0m\u001b[1;33m\u001b[0m\u001b[0m\n\u001b[0;32m     62\u001b[0m         \u001b[1;32mtry\u001b[0m\u001b[1;33m:\u001b[0m\u001b[1;33m\u001b[0m\u001b[1;33m\u001b[0m\u001b[0m\n\u001b[1;32m---> 63\u001b[1;33m             \u001b[1;32mreturn\u001b[0m \u001b[0mf\u001b[0m\u001b[1;33m(\u001b[0m\u001b[1;33m*\u001b[0m\u001b[0ma\u001b[0m\u001b[1;33m,\u001b[0m \u001b[1;33m**\u001b[0m\u001b[0mkw\u001b[0m\u001b[1;33m)\u001b[0m\u001b[1;33m\u001b[0m\u001b[1;33m\u001b[0m\u001b[0m\n\u001b[0m\u001b[0;32m     64\u001b[0m         \u001b[1;32mexcept\u001b[0m \u001b[0mpy4j\u001b[0m\u001b[1;33m.\u001b[0m\u001b[0mprotocol\u001b[0m\u001b[1;33m.\u001b[0m\u001b[0mPy4JJavaError\u001b[0m \u001b[1;32mas\u001b[0m \u001b[0me\u001b[0m\u001b[1;33m:\u001b[0m\u001b[1;33m\u001b[0m\u001b[1;33m\u001b[0m\u001b[0m\n\u001b[0;32m     65\u001b[0m             \u001b[0ms\u001b[0m \u001b[1;33m=\u001b[0m \u001b[0me\u001b[0m\u001b[1;33m.\u001b[0m\u001b[0mjava_exception\u001b[0m\u001b[1;33m.\u001b[0m\u001b[0mtoString\u001b[0m\u001b[1;33m(\u001b[0m\u001b[1;33m)\u001b[0m\u001b[1;33m\u001b[0m\u001b[1;33m\u001b[0m\u001b[0m\n",
      "\u001b[1;32mC:\\ieu\\Anaconda3\\envs\\spark\\lib\\site-packages\\py4j\\protocol.py\u001b[0m in \u001b[0;36mget_return_value\u001b[1;34m(answer, gateway_client, target_id, name)\u001b[0m\n\u001b[0;32m    326\u001b[0m                 raise Py4JJavaError(\n\u001b[0;32m    327\u001b[0m                     \u001b[1;34m\"An error occurred while calling {0}{1}{2}.\\n\"\u001b[0m\u001b[1;33m.\u001b[0m\u001b[1;33m\u001b[0m\u001b[1;33m\u001b[0m\u001b[0m\n\u001b[1;32m--> 328\u001b[1;33m                     format(target_id, \".\", name), value)\n\u001b[0m\u001b[0;32m    329\u001b[0m             \u001b[1;32melse\u001b[0m\u001b[1;33m:\u001b[0m\u001b[1;33m\u001b[0m\u001b[1;33m\u001b[0m\u001b[0m\n\u001b[0;32m    330\u001b[0m                 raise Py4JError(\n",
      "\u001b[1;31mPy4JJavaError\u001b[0m: An error occurred while calling o54.collectToPython.\n: java.lang.OutOfMemoryError: Java heap space\r\n\tat org.apache.spark.sql.execution.SparkPlan$$anon$1.next(SparkPlan.scala:282)\r\n\tat org.apache.spark.sql.execution.SparkPlan$$anon$1.next(SparkPlan.scala:278)\r\n\tat scala.collection.Iterator$class.foreach(Iterator.scala:891)\r\n\tat org.apache.spark.sql.execution.SparkPlan$$anon$1.foreach(SparkPlan.scala:278)\r\n\tat org.apache.spark.sql.execution.SparkPlan$$anonfun$executeCollect$1.apply(SparkPlan.scala:300)\r\n\tat org.apache.spark.sql.execution.SparkPlan$$anonfun$executeCollect$1.apply(SparkPlan.scala:299)\r\n\tat scala.collection.IndexedSeqOptimized$class.foreach(IndexedSeqOptimized.scala:33)\r\n\tat scala.collection.mutable.ArrayOps$ofRef.foreach(ArrayOps.scala:186)\r\n\tat org.apache.spark.sql.execution.SparkPlan.executeCollect(SparkPlan.scala:299)\r\n\tat org.apache.spark.sql.Dataset$$anonfun$collectToPython$1.apply(Dataset.scala:3263)\r\n\tat org.apache.spark.sql.Dataset$$anonfun$collectToPython$1.apply(Dataset.scala:3260)\r\n\tat org.apache.spark.sql.Dataset$$anonfun$52.apply(Dataset.scala:3370)\r\n\tat org.apache.spark.sql.execution.SQLExecution$$anonfun$withNewExecutionId$1.apply(SQLExecution.scala:80)\r\n\tat org.apache.spark.sql.execution.SQLExecution$.withSQLConfPropagated(SQLExecution.scala:127)\r\n\tat org.apache.spark.sql.execution.SQLExecution$.withNewExecutionId(SQLExecution.scala:75)\r\n\tat org.apache.spark.sql.Dataset.withAction(Dataset.scala:3369)\r\n\tat org.apache.spark.sql.Dataset.collectToPython(Dataset.scala:3260)\r\n\tat sun.reflect.NativeMethodAccessorImpl.invoke0(Native Method)\r\n\tat sun.reflect.NativeMethodAccessorImpl.invoke(Unknown Source)\r\n\tat sun.reflect.DelegatingMethodAccessorImpl.invoke(Unknown Source)\r\n\tat java.lang.reflect.Method.invoke(Unknown Source)\r\n\tat py4j.reflection.MethodInvoker.invoke(MethodInvoker.java:244)\r\n\tat py4j.reflection.ReflectionEngine.invoke(ReflectionEngine.java:357)\r\n\tat py4j.Gateway.invoke(Gateway.java:282)\r\n\tat py4j.commands.AbstractCommand.invokeMethod(AbstractCommand.java:132)\r\n\tat py4j.commands.CallCommand.execute(CallCommand.java:79)\r\n\tat py4j.GatewayConnection.run(GatewayConnection.java:238)\r\n\tat java.lang.Thread.run(Unknown Source)\r\n"
     ]
    }
   ],
   "source": [
    "cf_pivot_pd = cf_pivot_value.toPandas()"
   ]
  },
  {
   "cell_type": "code",
   "execution_count": null,
   "metadata": {},
   "outputs": [],
   "source": [
    "cf_pivot_pd_copy = cf_pivot_pd.copy()"
   ]
  },
  {
   "cell_type": "code",
   "execution_count": null,
   "metadata": {},
   "outputs": [
    {
     "data": {
      "text/plain": [
       "(305903, 2909)"
      ]
     },
     "execution_count": null,
     "metadata": {},
     "output_type": "execute_result"
    }
   ],
   "source": [
    "cf_pivot_pd.shape"
   ]
  },
  {
   "cell_type": "markdown",
   "metadata": {},
   "source": [
    "## 02_CashFlow"
   ]
  },
  {
   "cell_type": "markdown",
   "metadata": {},
   "source": [
    "Operation\n",
    "- NetIncomeLoss\n",
    "- ProfitLoss\n",
    "- NetCashProvidedByUsedInOperatingActivities: NetIncome + other positions ergibt diese Position\n",
    "\n",
    "Investing\n",
    "- NetCashProvidedByUsedInInvestingActivities\n",
    "\n",
    "Financing activities\n",
    "- PaymentsForRepurchaseOfCommonStock: Aktienrückkäufe\n",
    "- PaymentsOfDividends\n",
    "- NetCashProvidedByUsedInFinancingActivities\n",
    "\n",
    "Cash Bestand unterschied\n",
    "- CashAndCashEquivalentsPeriodIncreaseDecrease: increase/decrease in cash"
   ]
  },
  {
   "cell_type": "code",
   "execution_count": null,
   "metadata": {},
   "outputs": [
    {
     "data": {
      "text/plain": [
       "(305903, 2909)"
      ]
     },
     "execution_count": null,
     "metadata": {},
     "output_type": "execute_result"
    }
   ],
   "source": [
    "cf_pivot_value = load_data(\"CF\", \"value\")\n",
    "spark_shape(cf_pivot_value)"
   ]
  },
  {
   "cell_type": "code",
   "execution_count": null,
   "metadata": {},
   "outputs": [],
   "source": [
    "cf_pivot_pd = cf_pivot_value.toPandas()"
   ]
  },
  {
   "cell_type": "code",
   "execution_count": null,
   "metadata": {},
   "outputs": [],
   "source": [
    "cf_pivot_pd_copy = cf_pivot_pd.copy()"
   ]
  },
  {
   "cell_type": "markdown",
   "metadata": {},
   "source": [
    "### Merge Data from \"unknown\" statement"
   ]
  },
  {
   "cell_type": "code",
   "execution_count": null,
   "metadata": {},
   "outputs": [
    {
     "data": {
      "text/plain": [
       "(305903, 2912)"
      ]
     },
     "execution_count": null,
     "metadata": {},
     "output_type": "execute_result"
    }
   ],
   "source": [
    "# merge relevant columns from the UN dataset\n",
    "cf_pivot_pd_copy = prepare_un_values(cf_pivot_pd_copy, [\n",
    "    'CashAndCashEquivalentsPeriodIncreaseDecrease',\n",
    "    'CashCashEquivalentsRestrictedCashAndRestrictedCashEquivalentsPeriodIncreaseDecreaseIncludingExchangeRateEffect',\n",
    "    'CashCashEquivalentsRestrictedCashAndRestrictedCashEquivalentsPeriodIncreaseDecreaseExcludingExchangeRateEffect'\n",
    "])\n",
    "cf_pivot_pd_copy.shape"
   ]
  },
  {
   "cell_type": "markdown",
   "metadata": {},
   "source": [
    "### Cash Increase/Decrease\n",
    "- 'CashAndCashEquivalentsPeriodIncreaseDecrease',\n",
    "- 'CashAndCashEquivalentsPeriodIncreaseDecreaseExcludingExchangeRateEffect',\n",
    "- 'CashCashEquivalentsRestrictedCashAndRestrictedCashEquivalentsPeriodIncreaseDecreaseExcludingExchangeRateEffect',\n",
    "- 'CashCashEquivalentsRestrictedCashAndRestrictedCashEquivalentsPeriodIncreaseDecreaseIncludingExchangeRateEffect',\n",
    "- 'CashPeriodIncreaseDecrease',\n",
    "- 'CashPeriodIncreaseDecreaseExcludingExchangeRateEffect',\n",
    "- 'NetCashProvidedByUsedInContinuingOperations'"
   ]
  },
  {
   "cell_type": "code",
   "execution_count": null,
   "metadata": {},
   "outputs": [
    {
     "name": "stdout",
     "output_type": "stream",
     "text": [
      "CashAndCashEquivalentsPeriodIncreaseDecrease   217223\n"
     ]
    }
   ],
   "source": [
    "print_null_count(cf_pivot_pd_copy, ['CashAndCashEquivalentsPeriodIncreaseDecrease'])"
   ]
  },
  {
   "cell_type": "code",
   "execution_count": null,
   "metadata": {},
   "outputs": [],
   "source": [
    "\n",
    "copy_if_not_empty(cf_pivot_pd_copy, 'CashCashEquivalentsRestrictedCashAndRestrictedCashEquivalentsPeriodIncreaseDecreaseIncludingExchangeRateEffect', \n",
    "                                    'CashAndCashEquivalentsPeriodIncreaseDecrease') # either or\n",
    "copy_if_not_empty(cf_pivot_pd_copy, 'CashCashEquivalentsRestrictedCashAndRestrictedCashEquivalentsPeriodIncreaseDecreaseExcludingExchangeRateEffect', \n",
    "                                    'CashAndCashEquivalentsPeriodIncreaseDecrease') # either or\n",
    "copy_if_not_empty(cf_pivot_pd_copy, 'CashPeriodIncreaseDecrease', \n",
    "                                    'CashAndCashEquivalentsPeriodIncreaseDecrease') # either or\n",
    "copy_if_not_empty(cf_pivot_pd_copy, 'CashAndCashEquivalentsPeriodIncreaseDecreaseExcludingExchangeRateEffect', \n",
    "                                    'CashAndCashEquivalentsPeriodIncreaseDecrease') # either or\n",
    "copy_if_not_empty(cf_pivot_pd_copy, 'CashPeriodIncreaseDecreaseExcludingExchangeRateEffect', \n",
    "                                    'CashAndCashEquivalentsPeriodIncreaseDecrease') # either or\n",
    "copy_if_not_empty(cf_pivot_pd_copy, 'NetCashProvidedByUsedInContinuingOperations', \n",
    "                                    'CashAndCashEquivalentsPeriodIncreaseDecrease') # either or\n",
    "\n",
    "\n",
    "# try to find data in joined un data\n",
    "copy_if_not_empty(cf_pivot_pd_copy, 'cpy_CashAndCashEquivalentsPeriodIncreaseDecrease', \n",
    "                                    'CashAndCashEquivalentsPeriodIncreaseDecrease') # either or\n",
    "copy_if_not_empty(cf_pivot_pd_copy, 'cpy_CashCashEquivalentsRestrictedCashAndRestrictedCashEquivalentsPeriodIncreaseDecreaseIncludingExchangeRateEffect', \n",
    "                                    'CashAndCashEquivalentsPeriodIncreaseDecrease') # either or\n",
    "copy_if_not_empty(cf_pivot_pd_copy, 'cpy_CashCashEquivalentsRestrictedCashAndRestrictedCashEquivalentsPeriodIncreaseDecreaseExcludingExchangeRateEffect', \n",
    "                                    'CashAndCashEquivalentsPeriodIncreaseDecrease') # either or"
   ]
  },
  {
   "cell_type": "code",
   "execution_count": null,
   "metadata": {},
   "outputs": [
    {
     "name": "stdout",
     "output_type": "stream",
     "text": [
      "CashAndCashEquivalentsPeriodIncreaseDecrease   188780\n"
     ]
    }
   ],
   "source": [
    "print_null_count(cf_pivot_pd_copy, ['CashAndCashEquivalentsPeriodIncreaseDecrease'])"
   ]
  },
  {
   "cell_type": "markdown",
   "metadata": {},
   "source": [
    "### Operation\n",
    "- NetIncomeLoss\n",
    "- NetCashProvidedByUsedInOperatingActivities: NetIncome + other positions ergibt diese Position"
   ]
  },
  {
   "cell_type": "code",
   "execution_count": null,
   "metadata": {},
   "outputs": [
    {
     "name": "stdout",
     "output_type": "stream",
     "text": [
      "NetIncomeLoss   195814\n",
      "ProfitLoss   240347\n",
      "NetCashProvidedByUsedInOperatingActivities   218636\n"
     ]
    }
   ],
   "source": [
    "print_null_count(cf_pivot_pd_copy, ['NetIncomeLoss', 'ProfitLoss', 'NetCashProvidedByUsedInOperatingActivities'])"
   ]
  },
  {
   "cell_type": "code",
   "execution_count": null,
   "metadata": {},
   "outputs": [],
   "source": [
    "# if only ProfitLoss is set, copy content to NetIncomeLoss\n",
    "# if onlyNetIncomeLoss is set, copy to ProfitLoss\n",
    "copy_if_not_empty(cf_pivot_pd_copy, 'ProfitLoss', 'NetIncomeLoss')\n",
    "copy_if_not_empty(cf_pivot_pd_copy, 'NetIncomeLoss', 'ProfitLoss')\n",
    "copy_if_not_empty(cf_pivot_pd_copy, 'NetIncomeLossAvailableToCommonStockholdersBasic', 'ProfitLoss') # certain CFs just have this position\n",
    "copy_if_not_empty(cf_pivot_pd_copy, 'NetIncomeLossAvailableToCommonStockholdersBasic', 'NetIncomeLoss')\n",
    "\n",
    "copy_if_not_empty(cf_pivot_pd_copy, 'NetCashProvidedByUsedInOperatingActivitiesContinuingOperations', 'NetCashProvidedByUsedInOperatingActivities')\n",
    "\n",
    "copy_if_not_empty(cf_pivot_pd_copy, 'NetCashProvidedByUsedInOperatingActivities', 'ProfitLoss') # certain CFs just have this position\n",
    "copy_if_not_empty(cf_pivot_pd_copy, 'NetCashProvidedByUsedInOperatingActivities', 'NetIncomeLoss')"
   ]
  },
  {
   "cell_type": "code",
   "execution_count": null,
   "metadata": {},
   "outputs": [
    {
     "name": "stdout",
     "output_type": "stream",
     "text": [
      "NetIncomeLoss   119998\n",
      "ProfitLoss   119998\n",
      "NetCashProvidedByUsedInOperatingActivities   187825\n"
     ]
    }
   ],
   "source": [
    "print_null_count(cf_pivot_pd_copy, ['NetIncomeLoss', 'ProfitLoss', 'NetCashProvidedByUsedInOperatingActivities'])"
   ]
  },
  {
   "cell_type": "markdown",
   "metadata": {},
   "source": [
    "### Investing\n",
    "- NetCashProvidedByUsedInInvestingActivities"
   ]
  },
  {
   "cell_type": "code",
   "execution_count": null,
   "metadata": {},
   "outputs": [
    {
     "name": "stdout",
     "output_type": "stream",
     "text": [
      "NetCashProvidedByUsedInInvestingActivities   219410\n"
     ]
    }
   ],
   "source": [
    "print_null_count(cf_pivot_pd_copy, ['NetCashProvidedByUsedInInvestingActivities'])"
   ]
  },
  {
   "cell_type": "code",
   "execution_count": null,
   "metadata": {},
   "outputs": [],
   "source": [
    "sum_into_empty_target(cf_pivot_pd_copy, \n",
    "                      'NetCashProvidedByUsedInInvestingActivitiesContinuingOperations',\n",
    "                      'CashProvidedByUsedInInvestingActivitiesDiscontinuedOperations',\n",
    "                      'NetCashProvidedByUsedInInvestingActivities')\n",
    "\n",
    "copy_if_not_empty(cf_pivot_pd_copy, 'NetCashProvidedByUsedInInvestingActivitiesContinuingOperations', 'NetCashProvidedByUsedInInvestingActivities')\n",
    "copy_if_not_empty(cf_pivot_pd_copy, 'CashProvidedByUsedInInvestingActivitiesDiscontinuedOperations', 'NetCashProvidedByUsedInInvestingActivities')\n",
    "\n",
    "set_to_zero_if_null(cf_pivot_pd_copy, 'NetCashProvidedByUsedInInvestingActivities')"
   ]
  },
  {
   "cell_type": "code",
   "execution_count": null,
   "metadata": {},
   "outputs": [
    {
     "name": "stdout",
     "output_type": "stream",
     "text": [
      "NetCashProvidedByUsedInInvestingActivities   0\n"
     ]
    }
   ],
   "source": [
    "print_null_count(cf_pivot_pd_copy, ['NetCashProvidedByUsedInInvestingActivities'])"
   ]
  },
  {
   "cell_type": "markdown",
   "metadata": {},
   "source": [
    "### Financing activities\n",
    "- PaymentsForRepurchaseOfCommonStock: Aktienrückkäufe\n",
    "- PaymentsOfDividends\n",
    "- NetCashProvidedByUsedInFinancingActivities\n",
    "\n",
    "('CashProvidedByUsedInDiscontinuedOperationsFinancingActivities',\n",
    " 'CashProvidedByUsedInFinancingActivitiesDiscontinuedOperations',\n",
    " 'NetCashProvidedByUsedInFinancingActivities',\n",
    " 'NetCashProvidedByUsedInFinancingActivitiesContinuingOperations')"
   ]
  },
  {
   "cell_type": "markdown",
   "metadata": {},
   "source": [
    "#### NetCashProvidedByUsedInFinancingActivities"
   ]
  },
  {
   "cell_type": "code",
   "execution_count": null,
   "metadata": {},
   "outputs": [
    {
     "name": "stdout",
     "output_type": "stream",
     "text": [
      "NetCashProvidedByUsedInFinancingActivities   219518\n"
     ]
    }
   ],
   "source": [
    "print_null_count(cf_pivot_pd_copy, ['NetCashProvidedByUsedInFinancingActivities'])"
   ]
  },
  {
   "cell_type": "code",
   "execution_count": null,
   "metadata": {},
   "outputs": [],
   "source": [
    "sum_into_empty_target(cf_pivot_pd_copy, \n",
    "                      'NetCashProvidedByUsedInFinancingActivitiesContinuingOperations',\n",
    "                      'CashProvidedByUsedInFinancingActivitiesDiscontinuedOperations',\n",
    "                      'NetCashProvidedByUsedInFinancingActivities')\n",
    "\n",
    "copy_if_not_empty(cf_pivot_pd_copy, 'NetCashProvidedByUsedInFinancingActivitiesContinuingOperations', 'NetCashProvidedByUsedInFinancingActivities')\n",
    "copy_if_not_empty(cf_pivot_pd_copy, 'CashProvidedByUsedInFinancingActivitiesDiscontinuedOperations', 'NetCashProvidedByUsedInFinancingActivities')\n",
    "\n",
    "set_to_zero_if_null(cf_pivot_pd_copy, 'NetCashProvidedByUsedInFinancingActivities')"
   ]
  },
  {
   "cell_type": "code",
   "execution_count": null,
   "metadata": {},
   "outputs": [
    {
     "name": "stdout",
     "output_type": "stream",
     "text": [
      "NetCashProvidedByUsedInFinancingActivities   0\n"
     ]
    }
   ],
   "source": [
    "print_null_count(cf_pivot_pd_copy, ['NetCashProvidedByUsedInFinancingActivities'])"
   ]
  },
  {
   "cell_type": "markdown",
   "metadata": {},
   "source": [
    "#### PaymentsOfDividends\n",
    "Simply set to 0.0 if no data is present\n",
    " 'PaymentsOfDividends',\n",
    " 'PaymentsOfDividendsCommonStock',\n",
    " 'PaymentsOfDividendsMinorityInterest',\n",
    " 'PaymentsOfDividendsPreferredStockAndPreferenceStock',\n",
    " 'PaymentsOfOrdinaryDividends',"
   ]
  },
  {
   "cell_type": "code",
   "execution_count": null,
   "metadata": {},
   "outputs": [],
   "source": [
    "cf_pivot_pd_copy = sum_cols_into_new_target(cf_pivot_pd_copy, 'PaymentsOfDividendsTotal', \n",
    "                                 ['PaymentsOfDividends',\n",
    "                                 'PaymentsOfDividendsCommonStock',\n",
    "                                 'PaymentsOfDividendsMinorityInterest',\n",
    "                                 'PaymentsOfDividendsPreferredStockAndPreferenceStock',\n",
    "                                 'PaymentsOfOrdinaryDividends'])"
   ]
  },
  {
   "cell_type": "markdown",
   "metadata": {},
   "source": [
    "#### PaymentsForRepurchaseOfCommonStock: Stock buybacks\n",
    " 'PaymentsForRepurchaseOfCommonStock',\n",
    " 'PaymentsForRepurchaseOfCommonStockForEmployeeTaxWithholdingObligations',\n",
    " 'PaymentsForRepurchaseOfConvertiblePreferredStock',\n",
    " 'PaymentsForRepurchaseOfPreferredStockAndPreferenceStock',\n",
    " 'PaymentsForRepurchaseOfRedeemableConvertiblePreferredStock',\n",
    " 'PaymentsForRepurchaseOfRedeemablePreferredStock'"
   ]
  },
  {
   "cell_type": "code",
   "execution_count": null,
   "metadata": {},
   "outputs": [],
   "source": [
    "cf_pivot_pd_copy = sum_cols_into_new_target(cf_pivot_pd_copy, 'PaymentsForRepurchaseOfStockTotal', \n",
    "                                 ['PaymentsForRepurchaseOfCommonStock',\n",
    "                                     'PaymentsForRepurchaseOfCommonStockForEmployeeTaxWithholdingObligations',\n",
    "                                     'PaymentsForRepurchaseOfConvertiblePreferredStock',\n",
    "                                     'PaymentsForRepurchaseOfPreferredStockAndPreferenceStock',\n",
    "                                     'PaymentsForRepurchaseOfRedeemableConvertiblePreferredStock',\n",
    "                                     'PaymentsForRepurchaseOfRedeemablePreferredStock'])"
   ]
  },
  {
   "cell_type": "markdown",
   "metadata": {},
   "source": [
    "### Save"
   ]
  },
  {
   "cell_type": "code",
   "execution_count": null,
   "metadata": {},
   "outputs": [],
   "source": [
    "cf_pivot_pd_copy[[\"cik\",\"ticker\", \"adsh\",\"period\",\"form\", \"qtrs\",\"fp\",\n",
    "                                     'CashAndCashEquivalentsPeriodIncreaseDecrease',\n",
    "                                     'NetIncomeLoss', \n",
    "                                     'ProfitLoss', \n",
    "                                     'NetCashProvidedByUsedInOperatingActivities', \n",
    "                                     'NetCashProvidedByUsedInInvestingActivities',\n",
    "                                     'NetCashProvidedByUsedInFinancingActivities',\n",
    "                                     'PaymentsOfDividendsTotal',\n",
    "                                     'PaymentsForRepurchaseOfStockTotal']] \\\n",
    "                  .to_csv(all_processed_folder + \"cf_not_cleaned.csv\", index=False)"
   ]
  },
  {
   "cell_type": "code",
   "execution_count": null,
   "metadata": {},
   "outputs": [],
   "source": []
  },
  {
   "cell_type": "code",
   "execution_count": null,
   "metadata": {},
   "outputs": [],
   "source": [
    "spark.stop()"
   ]
  },
  {
   "cell_type": "markdown",
   "metadata": {},
   "source": [
    "## XX_Trials"
   ]
  },
  {
   "cell_type": "code",
   "execution_count": null,
   "metadata": {},
   "outputs": [],
   "source": [
    "index = cf_pivot_pd_copy.form == '10-K'\n",
    "print('10-Ks', len(pd.unique(cf_pivot_pd_copy[index].adsh))) # 32283\n",
    "\n",
    "#is_pivot_pd_copy[(is_pivot_pd_copy.form == '10-K') & (is_pivot_pd_copy.fp == 'FY') & (is_pivot_pd_copy.qtrs == '4')].count() # 32188\n",
    "#is_pivot_pd_copy[(is_pivot_pd_copy.form == '10-K') & (is_pivot_pd_copy.fp == 'FY') & (is_pivot_pd_copy.qtrs == '0')].count() # 96\n",
    "\n",
    "# len(pd.unique(is_pivot_pd_copy[(is_pivot_pd_copy.form == '10-K') & \n",
    "#                                (is_pivot_pd_copy.fp == 'FY') & \n",
    "#                                (is_pivot_pd_copy.qtrs.isin(['0','4']) )].adsh) )# 32207\n",
    "\n",
    "# index = is_pivot_pd_copy.form == '10-Q'\n",
    "# print('10-Qs', len(pd.unique(is_pivot_pd_copy[index].adsh))) # 101521\n",
    "# is_pivot_pd_copy[(is_pivot_pd_copy.form == '10-Q') & (is_pivot_pd_copy.qtrs == '1')].count() # 101378\n",
    "# is_pivot_pd_copy[(is_pivot_pd_copy.form == '10-Q') & (is_pivot_pd_copy.qtrs == '2')].count() # 101378\n",
    "# is_pivot_pd_copy[(is_pivot_pd_copy.form == '10-Q') & (is_pivot_pd_copy.qtrs == '3')].count() # 101378\n",
    "#is_pivot_pd_copy[(is_pivot_pd_copy.form == '10-Q') & (is_pivot_pd_copy.qtrs == '4')].count() # 101378"
   ]
  },
  {
   "cell_type": "code",
   "execution_count": null,
   "metadata": {},
   "outputs": [],
   "source": [
    "# cf_pivot_value.select('adsh').distinct().count() # 116482\n",
    "# cf_pivot_value.select('adsh','form').where('form == \"10-K\"').distinct().count() # 27556\n",
    "# cf_pivot_value.select('adsh','form').where('form == \"10-Q\"').distinct().count() # 88926\n",
    "\n",
    "# cf_pivot_value.select('adsh','form', 'qtrs').where('form == \"10-K\" and qtrs=\"0\"').distinct().count() # 27264\n",
    "# cf_pivot_value.select('adsh','form', 'qtrs').where('form == \"10-K\" and qtrs=\"1\"').distinct().count() # 16405\n",
    "# cf_pivot_value.select('adsh','form', 'qtrs').where('form == \"10-K\" and qtrs=\"2\"').distinct().count() # 63\n",
    "# cf_pivot_value.select('adsh','form', 'qtrs').where('form == \"10-K\" and qtrs=\"3\"').distinct().count() # 44\n",
    "cf_pivot_value.select('adsh','form', 'qtrs').where('form == \"10-K\" and qtrs=\"4\"').distinct().count() # 27497\n",
    "\n",
    "# cf_pivot_value.select('adsh','form', 'qtrs').where('form == \"10-Q\" and qtrs=\"0\"').distinct().count() # 88076\n",
    "# cf_pivot_value.select('adsh','form', 'qtrs').where('form == \"10-Q\" and qtrs=\"1\"').distinct().count() # 86728\n",
    "# cf_pivot_value.select('adsh','form', 'qtrs').where('form == \"10-Q\" and qtrs=\"2\"').distinct().count() # 30215\n",
    "# cf_pivot_value.select('adsh','form', 'qtrs').where('form == \"10-Q\" and qtrs=\"3\"').distinct().count() # 28150\n",
    "# cf_pivot_value.select('adsh','form', 'qtrs').where('form == \"10-Q\" and qtrs=\"4\"').distinct().count() # 185"
   ]
  },
  {
   "cell_type": "code",
   "execution_count": null,
   "metadata": {},
   "outputs": [],
   "source": [
    "piv_by_qtrs_pd = cf_pivot_value.select('adsh','fp','form','qtrs').groupby(['adsh','fp','form']).pivot('qtrs').count().toPandas()\n",
    "\n",
    "\n",
    "#pd_frame = df_all_selected.where(\"adsh == '0001564590-20-043606' and stmt == 'IS' and qtrs=='1'\").toPandas()\n",
    "#pd_frame = df_all_selected.where(\"adsh == '0001628279-20-000210'\").toPandas()\n",
    "#pd_frame = df_all_selected.where(\"adsh == '0001193125-20-213555'\").toPandas()\n",
    "#print(pd_frame.sort_values(['report', 'line']))"
   ]
  },
  {
   "cell_type": "code",
   "execution_count": null,
   "metadata": {},
   "outputs": [
    {
     "data": {
      "text/html": [
       "<div>\n",
       "<style scoped>\n",
       "    .dataframe tbody tr th:only-of-type {\n",
       "        vertical-align: middle;\n",
       "    }\n",
       "\n",
       "    .dataframe tbody tr th {\n",
       "        vertical-align: top;\n",
       "    }\n",
       "\n",
       "    .dataframe thead th {\n",
       "        text-align: right;\n",
       "    }\n",
       "</style>\n",
       "<table border=\"1\" class=\"dataframe\">\n",
       "  <thead>\n",
       "    <tr style=\"text-align: right;\">\n",
       "      <th></th>\n",
       "      <th>adsh</th>\n",
       "      <th>fp</th>\n",
       "      <th>form</th>\n",
       "      <th>0</th>\n",
       "      <th>1</th>\n",
       "      <th>2</th>\n",
       "      <th>3</th>\n",
       "      <th>4</th>\n",
       "    </tr>\n",
       "  </thead>\n",
       "  <tbody>\n",
       "    <tr>\n",
       "      <th>0</th>\n",
       "      <td>0001193125-14-434590</td>\n",
       "      <td>Q2</td>\n",
       "      <td>10-Q</td>\n",
       "      <td>1.0</td>\n",
       "      <td>1.0</td>\n",
       "      <td>1.0</td>\n",
       "      <td>NaN</td>\n",
       "      <td>NaN</td>\n",
       "    </tr>\n",
       "    <tr>\n",
       "      <th>1</th>\n",
       "      <td>0001283699-17-000032</td>\n",
       "      <td>Q2</td>\n",
       "      <td>10-Q</td>\n",
       "      <td>1.0</td>\n",
       "      <td>1.0</td>\n",
       "      <td>1.0</td>\n",
       "      <td>NaN</td>\n",
       "      <td>NaN</td>\n",
       "    </tr>\n",
       "    <tr>\n",
       "      <th>2</th>\n",
       "      <td>0000946673-19-000012</td>\n",
       "      <td>Q1</td>\n",
       "      <td>10-Q</td>\n",
       "      <td>1.0</td>\n",
       "      <td>1.0</td>\n",
       "      <td>NaN</td>\n",
       "      <td>NaN</td>\n",
       "      <td>NaN</td>\n",
       "    </tr>\n",
       "    <tr>\n",
       "      <th>3</th>\n",
       "      <td>0001558370-19-008195</td>\n",
       "      <td>Q2</td>\n",
       "      <td>10-Q</td>\n",
       "      <td>1.0</td>\n",
       "      <td>1.0</td>\n",
       "      <td>1.0</td>\n",
       "      <td>NaN</td>\n",
       "      <td>NaN</td>\n",
       "    </tr>\n",
       "    <tr>\n",
       "      <th>4</th>\n",
       "      <td>0001654954-19-002486</td>\n",
       "      <td>FY</td>\n",
       "      <td>10-K</td>\n",
       "      <td>1.0</td>\n",
       "      <td>NaN</td>\n",
       "      <td>NaN</td>\n",
       "      <td>NaN</td>\n",
       "      <td>1.0</td>\n",
       "    </tr>\n",
       "    <tr>\n",
       "      <th>...</th>\n",
       "      <td>...</td>\n",
       "      <td>...</td>\n",
       "      <td>...</td>\n",
       "      <td>...</td>\n",
       "      <td>...</td>\n",
       "      <td>...</td>\n",
       "      <td>...</td>\n",
       "      <td>...</td>\n",
       "    </tr>\n",
       "    <tr>\n",
       "      <th>116477</th>\n",
       "      <td>0001564590-17-007757</td>\n",
       "      <td>Q1</td>\n",
       "      <td>10-Q</td>\n",
       "      <td>1.0</td>\n",
       "      <td>1.0</td>\n",
       "      <td>NaN</td>\n",
       "      <td>NaN</td>\n",
       "      <td>NaN</td>\n",
       "    </tr>\n",
       "    <tr>\n",
       "      <th>116478</th>\n",
       "      <td>0001437749-12-004522</td>\n",
       "      <td>Q1</td>\n",
       "      <td>10-Q</td>\n",
       "      <td>1.0</td>\n",
       "      <td>1.0</td>\n",
       "      <td>NaN</td>\n",
       "      <td>NaN</td>\n",
       "      <td>NaN</td>\n",
       "    </tr>\n",
       "    <tr>\n",
       "      <th>116479</th>\n",
       "      <td>0000078890-17-000026</td>\n",
       "      <td>Q1</td>\n",
       "      <td>10-Q</td>\n",
       "      <td>1.0</td>\n",
       "      <td>1.0</td>\n",
       "      <td>NaN</td>\n",
       "      <td>NaN</td>\n",
       "      <td>NaN</td>\n",
       "    </tr>\n",
       "    <tr>\n",
       "      <th>116480</th>\n",
       "      <td>0001193125-14-284514</td>\n",
       "      <td>Q2</td>\n",
       "      <td>10-Q</td>\n",
       "      <td>1.0</td>\n",
       "      <td>1.0</td>\n",
       "      <td>1.0</td>\n",
       "      <td>NaN</td>\n",
       "      <td>NaN</td>\n",
       "    </tr>\n",
       "    <tr>\n",
       "      <th>116481</th>\n",
       "      <td>0001193125-13-169761</td>\n",
       "      <td>Q1</td>\n",
       "      <td>10-Q</td>\n",
       "      <td>1.0</td>\n",
       "      <td>1.0</td>\n",
       "      <td>NaN</td>\n",
       "      <td>NaN</td>\n",
       "      <td>NaN</td>\n",
       "    </tr>\n",
       "  </tbody>\n",
       "</table>\n",
       "<p>116482 rows × 8 columns</p>\n",
       "</div>"
      ],
      "text/plain": [
       "                        adsh  fp  form    0    1    2   3    4\n",
       "0       0001193125-14-434590  Q2  10-Q  1.0  1.0  1.0 NaN  NaN\n",
       "1       0001283699-17-000032  Q2  10-Q  1.0  1.0  1.0 NaN  NaN\n",
       "2       0000946673-19-000012  Q1  10-Q  1.0  1.0  NaN NaN  NaN\n",
       "3       0001558370-19-008195  Q2  10-Q  1.0  1.0  1.0 NaN  NaN\n",
       "4       0001654954-19-002486  FY  10-K  1.0  NaN  NaN NaN  1.0\n",
       "...                      ...  ..   ...  ...  ...  ...  ..  ...\n",
       "116477  0001564590-17-007757  Q1  10-Q  1.0  1.0  NaN NaN  NaN\n",
       "116478  0001437749-12-004522  Q1  10-Q  1.0  1.0  NaN NaN  NaN\n",
       "116479  0000078890-17-000026  Q1  10-Q  1.0  1.0  NaN NaN  NaN\n",
       "116480  0001193125-14-284514  Q2  10-Q  1.0  1.0  1.0 NaN  NaN\n",
       "116481  0001193125-13-169761  Q1  10-Q  1.0  1.0  NaN NaN  NaN\n",
       "\n",
       "[116482 rows x 8 columns]"
      ]
     },
     "execution_count": null,
     "metadata": {},
     "output_type": "execute_result"
    }
   ],
   "source": [
    "pd.set_option('display.max_rows', 20)\n",
    "piv_by_qtrs_pd[['adsh','fp','form','0','1','2','3','4']]"
   ]
  },
  {
   "cell_type": "code",
   "execution_count": null,
   "metadata": {},
   "outputs": [],
   "source": [
    "# 0001392972-17-000128  Q3 / qtrs 0,1,3 -> 3 voll\n",
    "pd_frame = cf_pivot_value.where(\"adsh == '0001193125-13-315367'\").toPandas()"
   ]
  },
  {
   "cell_type": "code",
   "execution_count": null,
   "metadata": {},
   "outputs": [
    {
     "data": {
      "text/html": [
       "<div>\n",
       "<style scoped>\n",
       "    .dataframe tbody tr th:only-of-type {\n",
       "        vertical-align: middle;\n",
       "    }\n",
       "\n",
       "    .dataframe tbody tr th {\n",
       "        vertical-align: top;\n",
       "    }\n",
       "\n",
       "    .dataframe thead th {\n",
       "        text-align: right;\n",
       "    }\n",
       "</style>\n",
       "<table border=\"1\" class=\"dataframe\">\n",
       "  <thead>\n",
       "    <tr style=\"text-align: right;\">\n",
       "      <th></th>\n",
       "      <th>cik</th>\n",
       "      <th>ticker</th>\n",
       "      <th>adsh</th>\n",
       "      <th>form</th>\n",
       "      <th>period</th>\n",
       "      <th>filed</th>\n",
       "      <th>fp</th>\n",
       "      <th>qtrs</th>\n",
       "      <th>AmortizationOfFinancingCostsAndDiscounts</th>\n",
       "      <th>CashAndCashEquivalentsAtCarryingValue</th>\n",
       "      <th>...</th>\n",
       "      <th>PaymentsToAcquireIntangibleAssets</th>\n",
       "      <th>PaymentsToAcquirePropertyPlantAndEquipment</th>\n",
       "      <th>PaymentsToAcquireShortTermInvestments</th>\n",
       "      <th>ProceedsFromConvertibleDebt</th>\n",
       "      <th>ProceedsFromMaturitiesPrepaymentsAndCallsOfAvailableForSaleSecurities</th>\n",
       "      <th>ProceedsFromStockOptionsExercised</th>\n",
       "      <th>ProceedsFromStockPlans</th>\n",
       "      <th>ProvisionForDoubtfulAccounts</th>\n",
       "      <th>RepaymentsOfNotesPayable</th>\n",
       "      <th>ShareBasedCompensation</th>\n",
       "    </tr>\n",
       "  </thead>\n",
       "  <tbody>\n",
       "    <tr>\n",
       "      <th>1</th>\n",
       "      <td>1392972</td>\n",
       "      <td>PRO</td>\n",
       "      <td>0001392972-17-000128</td>\n",
       "      <td>10-Q</td>\n",
       "      <td>2017-09-30</td>\n",
       "      <td>2017-10-26</td>\n",
       "      <td>Q3</td>\n",
       "      <td>0</td>\n",
       "      <td>NaN</td>\n",
       "      <td>157359000.0</td>\n",
       "      <td>...</td>\n",
       "      <td>NaN</td>\n",
       "      <td>NaN</td>\n",
       "      <td>NaN</td>\n",
       "      <td>NaN</td>\n",
       "      <td>NaN</td>\n",
       "      <td>NaN</td>\n",
       "      <td>NaN</td>\n",
       "      <td>NaN</td>\n",
       "      <td>NaN</td>\n",
       "      <td>NaN</td>\n",
       "    </tr>\n",
       "    <tr>\n",
       "      <th>0</th>\n",
       "      <td>1392972</td>\n",
       "      <td>PRO</td>\n",
       "      <td>0001392972-17-000128</td>\n",
       "      <td>10-Q</td>\n",
       "      <td>2017-09-30</td>\n",
       "      <td>2017-10-26</td>\n",
       "      <td>Q3</td>\n",
       "      <td>1</td>\n",
       "      <td>NaN</td>\n",
       "      <td>NaN</td>\n",
       "      <td>...</td>\n",
       "      <td>NaN</td>\n",
       "      <td>NaN</td>\n",
       "      <td>NaN</td>\n",
       "      <td>NaN</td>\n",
       "      <td>NaN</td>\n",
       "      <td>NaN</td>\n",
       "      <td>NaN</td>\n",
       "      <td>NaN</td>\n",
       "      <td>NaN</td>\n",
       "      <td>NaN</td>\n",
       "    </tr>\n",
       "    <tr>\n",
       "      <th>2</th>\n",
       "      <td>1392972</td>\n",
       "      <td>PRO</td>\n",
       "      <td>0001392972-17-000128</td>\n",
       "      <td>10-Q</td>\n",
       "      <td>2017-09-30</td>\n",
       "      <td>2017-10-26</td>\n",
       "      <td>Q3</td>\n",
       "      <td>3</td>\n",
       "      <td>6363000.0</td>\n",
       "      <td>NaN</td>\n",
       "      <td>...</td>\n",
       "      <td>75000.0</td>\n",
       "      <td>1235000.0</td>\n",
       "      <td>0.0</td>\n",
       "      <td>93500000.0</td>\n",
       "      <td>15992000.0</td>\n",
       "      <td>6347000.0</td>\n",
       "      <td>1535000.0</td>\n",
       "      <td>0.0</td>\n",
       "      <td>155000.0</td>\n",
       "      <td>17665000.0</td>\n",
       "    </tr>\n",
       "  </tbody>\n",
       "</table>\n",
       "<p>3 rows × 34 columns</p>\n",
       "</div>"
      ],
      "text/plain": [
       "       cik ticker                  adsh  form      period       filed  fp  \\\n",
       "1  1392972    PRO  0001392972-17-000128  10-Q  2017-09-30  2017-10-26  Q3   \n",
       "0  1392972    PRO  0001392972-17-000128  10-Q  2017-09-30  2017-10-26  Q3   \n",
       "2  1392972    PRO  0001392972-17-000128  10-Q  2017-09-30  2017-10-26  Q3   \n",
       "\n",
       "  qtrs  AmortizationOfFinancingCostsAndDiscounts  \\\n",
       "1    0                                       NaN   \n",
       "0    1                                       NaN   \n",
       "2    3                                 6363000.0   \n",
       "\n",
       "   CashAndCashEquivalentsAtCarryingValue  ...  \\\n",
       "1                            157359000.0  ...   \n",
       "0                                    NaN  ...   \n",
       "2                                    NaN  ...   \n",
       "\n",
       "   PaymentsToAcquireIntangibleAssets  \\\n",
       "1                                NaN   \n",
       "0                                NaN   \n",
       "2                            75000.0   \n",
       "\n",
       "   PaymentsToAcquirePropertyPlantAndEquipment  \\\n",
       "1                                         NaN   \n",
       "0                                         NaN   \n",
       "2                                   1235000.0   \n",
       "\n",
       "   PaymentsToAcquireShortTermInvestments  ProceedsFromConvertibleDebt  \\\n",
       "1                                    NaN                          NaN   \n",
       "0                                    NaN                          NaN   \n",
       "2                                    0.0                   93500000.0   \n",
       "\n",
       "   ProceedsFromMaturitiesPrepaymentsAndCallsOfAvailableForSaleSecurities  \\\n",
       "1                                                NaN                       \n",
       "0                                                NaN                       \n",
       "2                                         15992000.0                       \n",
       "\n",
       "   ProceedsFromStockOptionsExercised  ProceedsFromStockPlans  \\\n",
       "1                                NaN                     NaN   \n",
       "0                                NaN                     NaN   \n",
       "2                          6347000.0               1535000.0   \n",
       "\n",
       "   ProvisionForDoubtfulAccounts  RepaymentsOfNotesPayable  \\\n",
       "1                           NaN                       NaN   \n",
       "0                           NaN                       NaN   \n",
       "2                           0.0                  155000.0   \n",
       "\n",
       "   ShareBasedCompensation  \n",
       "1                     NaN  \n",
       "0                     NaN  \n",
       "2              17665000.0  \n",
       "\n",
       "[3 rows x 34 columns]"
      ]
     },
     "execution_count": null,
     "metadata": {},
     "output_type": "execute_result"
    }
   ],
   "source": [
    "pd_frame = cf_pivot_value.where(\"adsh == ' 0001392972-17-000128'\").toPandas()\n",
    "pd.set_option('display.max_rows', pd_frame.shape[0]+1)\n",
    "pd_frame.sort_values(['qtrs']).dropna(how='all', axis=1)"
   ]
  },
  {
   "cell_type": "code",
   "execution_count": null,
   "metadata": {},
   "outputs": [
    {
     "data": {
      "text/html": [
       "<div>\n",
       "<style scoped>\n",
       "    .dataframe tbody tr th:only-of-type {\n",
       "        vertical-align: middle;\n",
       "    }\n",
       "\n",
       "    .dataframe tbody tr th {\n",
       "        vertical-align: top;\n",
       "    }\n",
       "\n",
       "    .dataframe thead th {\n",
       "        text-align: right;\n",
       "    }\n",
       "</style>\n",
       "<table border=\"1\" class=\"dataframe\">\n",
       "  <thead>\n",
       "    <tr style=\"text-align: right;\">\n",
       "      <th></th>\n",
       "      <th>cik</th>\n",
       "      <th>ticker</th>\n",
       "      <th>adsh</th>\n",
       "      <th>form</th>\n",
       "      <th>period</th>\n",
       "      <th>filed</th>\n",
       "      <th>fp</th>\n",
       "      <th>qtrs</th>\n",
       "      <th>CashAndCashEquivalentsAtCarryingValue</th>\n",
       "      <th>CashAndCashEquivalentsPeriodIncreaseDecrease</th>\n",
       "      <th>...</th>\n",
       "      <th>PaymentsForRepurchaseOfCommonStock</th>\n",
       "      <th>PaymentsToAcquireOtherInvestments</th>\n",
       "      <th>PaymentsToAcquirePropertyPlantAndEquipment</th>\n",
       "      <th>PaymentsToAcquireTradingSecuritiesHeldforinvestment</th>\n",
       "      <th>ProceedsFromSaleAndMaturityOfAvailableForSaleSecurities</th>\n",
       "      <th>ProceedsFromSaleAndMaturityOfOtherInvestments</th>\n",
       "      <th>ProceedsFromSaleAndMaturityOfTradingSecuritiesHeldforinvestment</th>\n",
       "      <th>ProceedsFromStockOptionsExercised</th>\n",
       "      <th>ShareBasedCompensation</th>\n",
       "      <th>UnrealizedGainLossOnInvestments</th>\n",
       "    </tr>\n",
       "  </thead>\n",
       "  <tbody>\n",
       "    <tr>\n",
       "      <th>2</th>\n",
       "      <td>1163348</td>\n",
       "      <td>AWH</td>\n",
       "      <td>0001193125-13-315367</td>\n",
       "      <td>10-Q</td>\n",
       "      <td>2013-06-30</td>\n",
       "      <td>2013-08-02</td>\n",
       "      <td>Q2</td>\n",
       "      <td>0</td>\n",
       "      <td>674103000.0</td>\n",
       "      <td>NaN</td>\n",
       "      <td>...</td>\n",
       "      <td>NaN</td>\n",
       "      <td>NaN</td>\n",
       "      <td>NaN</td>\n",
       "      <td>NaN</td>\n",
       "      <td>NaN</td>\n",
       "      <td>NaN</td>\n",
       "      <td>NaN</td>\n",
       "      <td>NaN</td>\n",
       "      <td>NaN</td>\n",
       "      <td>NaN</td>\n",
       "    </tr>\n",
       "    <tr>\n",
       "      <th>1</th>\n",
       "      <td>1163348</td>\n",
       "      <td>AWH</td>\n",
       "      <td>0001193125-13-315367</td>\n",
       "      <td>10-Q</td>\n",
       "      <td>2013-06-30</td>\n",
       "      <td>2013-08-02</td>\n",
       "      <td>Q2</td>\n",
       "      <td>1</td>\n",
       "      <td>NaN</td>\n",
       "      <td>NaN</td>\n",
       "      <td>...</td>\n",
       "      <td>NaN</td>\n",
       "      <td>NaN</td>\n",
       "      <td>NaN</td>\n",
       "      <td>NaN</td>\n",
       "      <td>NaN</td>\n",
       "      <td>NaN</td>\n",
       "      <td>NaN</td>\n",
       "      <td>NaN</td>\n",
       "      <td>NaN</td>\n",
       "      <td>NaN</td>\n",
       "    </tr>\n",
       "    <tr>\n",
       "      <th>0</th>\n",
       "      <td>1163348</td>\n",
       "      <td>AWH</td>\n",
       "      <td>0001193125-13-315367</td>\n",
       "      <td>10-Q</td>\n",
       "      <td>2013-06-30</td>\n",
       "      <td>2013-08-02</td>\n",
       "      <td>Q2</td>\n",
       "      <td>2</td>\n",
       "      <td>NaN</td>\n",
       "      <td>-7776000.0</td>\n",
       "      <td>...</td>\n",
       "      <td>82571000.0</td>\n",
       "      <td>141805000.0</td>\n",
       "      <td>3363000.0</td>\n",
       "      <td>3.186162e+09</td>\n",
       "      <td>0.0</td>\n",
       "      <td>126491000.0</td>\n",
       "      <td>3.171977e+09</td>\n",
       "      <td>5293000.0</td>\n",
       "      <td>6566000.0</td>\n",
       "      <td>-95698000.0</td>\n",
       "    </tr>\n",
       "  </tbody>\n",
       "</table>\n",
       "<p>3 rows × 35 columns</p>\n",
       "</div>"
      ],
      "text/plain": [
       "       cik ticker                  adsh  form      period       filed  fp  \\\n",
       "2  1163348    AWH  0001193125-13-315367  10-Q  2013-06-30  2013-08-02  Q2   \n",
       "1  1163348    AWH  0001193125-13-315367  10-Q  2013-06-30  2013-08-02  Q2   \n",
       "0  1163348    AWH  0001193125-13-315367  10-Q  2013-06-30  2013-08-02  Q2   \n",
       "\n",
       "  qtrs  CashAndCashEquivalentsAtCarryingValue  \\\n",
       "2    0                            674103000.0   \n",
       "1    1                                    NaN   \n",
       "0    2                                    NaN   \n",
       "\n",
       "   CashAndCashEquivalentsPeriodIncreaseDecrease  ...  \\\n",
       "2                                           NaN  ...   \n",
       "1                                           NaN  ...   \n",
       "0                                    -7776000.0  ...   \n",
       "\n",
       "   PaymentsForRepurchaseOfCommonStock  PaymentsToAcquireOtherInvestments  \\\n",
       "2                                 NaN                                NaN   \n",
       "1                                 NaN                                NaN   \n",
       "0                          82571000.0                        141805000.0   \n",
       "\n",
       "   PaymentsToAcquirePropertyPlantAndEquipment  \\\n",
       "2                                         NaN   \n",
       "1                                         NaN   \n",
       "0                                   3363000.0   \n",
       "\n",
       "   PaymentsToAcquireTradingSecuritiesHeldforinvestment  \\\n",
       "2                                                NaN     \n",
       "1                                                NaN     \n",
       "0                                       3.186162e+09     \n",
       "\n",
       "   ProceedsFromSaleAndMaturityOfAvailableForSaleSecurities  \\\n",
       "2                                                NaN         \n",
       "1                                                NaN         \n",
       "0                                                0.0         \n",
       "\n",
       "   ProceedsFromSaleAndMaturityOfOtherInvestments  \\\n",
       "2                                            NaN   \n",
       "1                                            NaN   \n",
       "0                                    126491000.0   \n",
       "\n",
       "   ProceedsFromSaleAndMaturityOfTradingSecuritiesHeldforinvestment  \\\n",
       "2                                                NaN                 \n",
       "1                                                NaN                 \n",
       "0                                       3.171977e+09                 \n",
       "\n",
       "   ProceedsFromStockOptionsExercised  ShareBasedCompensation  \\\n",
       "2                                NaN                     NaN   \n",
       "1                                NaN                     NaN   \n",
       "0                          5293000.0               6566000.0   \n",
       "\n",
       "   UnrealizedGainLossOnInvestments  \n",
       "2                              NaN  \n",
       "1                              NaN  \n",
       "0                      -95698000.0  \n",
       "\n",
       "[3 rows x 35 columns]"
      ]
     },
     "execution_count": null,
     "metadata": {},
     "output_type": "execute_result"
    }
   ],
   "source": [
    "pd_frame = cf_pivot_value.where(\"adsh == '0001193125-13-315367'\").toPandas()\n",
    "pd.set_option('display.max_rows', pd_frame.shape[0]+1)\n",
    "pd_frame.sort_values(['qtrs']).dropna(how='all', axis=1)"
   ]
  },
  {
   "cell_type": "code",
   "execution_count": null,
   "metadata": {},
   "outputs": [
    {
     "data": {
      "text/html": [
       "<div>\n",
       "<style scoped>\n",
       "    .dataframe tbody tr th:only-of-type {\n",
       "        vertical-align: middle;\n",
       "    }\n",
       "\n",
       "    .dataframe tbody tr th {\n",
       "        vertical-align: top;\n",
       "    }\n",
       "\n",
       "    .dataframe thead th {\n",
       "        text-align: right;\n",
       "    }\n",
       "</style>\n",
       "<table border=\"1\" class=\"dataframe\">\n",
       "  <thead>\n",
       "    <tr style=\"text-align: right;\">\n",
       "      <th></th>\n",
       "      <th>cik</th>\n",
       "      <th>ticker</th>\n",
       "      <th>adsh</th>\n",
       "      <th>form</th>\n",
       "      <th>period</th>\n",
       "      <th>filed</th>\n",
       "      <th>fp</th>\n",
       "      <th>qtrs</th>\n",
       "      <th>CashAndCashEquivalentsAtCarryingValue</th>\n",
       "      <th>CashAndCashEquivalentsPeriodIncreaseDecrease</th>\n",
       "      <th>...</th>\n",
       "      <th>ProceedsFromMaturitiesPrepaymentsAndCallsOfHeldToMaturitySecurities</th>\n",
       "      <th>ProceedsFromSaleOfAvailableForSaleSecurities</th>\n",
       "      <th>ProceedsFromSaleOfFederalHomeLoanBankStock</th>\n",
       "      <th>ProceedsFromSaleOfLoansHeldForInvestment</th>\n",
       "      <th>ProceedsFromSaleOfLoansHeldForSale</th>\n",
       "      <th>ProceedsFromSaleOfPropertyPlantAndEquipment</th>\n",
       "      <th>ProvisionForLoanAndLeaseLosses</th>\n",
       "      <th>ProvisionForLoanLeaseAndOtherLosses</th>\n",
       "      <th>ShareBasedCompensation</th>\n",
       "      <th>TransferToOtherRealEstate</th>\n",
       "    </tr>\n",
       "  </thead>\n",
       "  <tbody>\n",
       "    <tr>\n",
       "      <th>0</th>\n",
       "      <td>946673</td>\n",
       "      <td>BANR</td>\n",
       "      <td>0000946673-19-000012</td>\n",
       "      <td>10-Q</td>\n",
       "      <td>2019-03-31</td>\n",
       "      <td>2019-05-03</td>\n",
       "      <td>Q1</td>\n",
       "      <td>0</td>\n",
       "      <td>261538000.0</td>\n",
       "      <td>NaN</td>\n",
       "      <td>...</td>\n",
       "      <td>NaN</td>\n",
       "      <td>NaN</td>\n",
       "      <td>NaN</td>\n",
       "      <td>NaN</td>\n",
       "      <td>NaN</td>\n",
       "      <td>NaN</td>\n",
       "      <td>NaN</td>\n",
       "      <td>NaN</td>\n",
       "      <td>NaN</td>\n",
       "      <td>NaN</td>\n",
       "    </tr>\n",
       "    <tr>\n",
       "      <th>1</th>\n",
       "      <td>946673</td>\n",
       "      <td>BANR</td>\n",
       "      <td>0000946673-19-000012</td>\n",
       "      <td>10-Q</td>\n",
       "      <td>2019-03-31</td>\n",
       "      <td>2019-05-03</td>\n",
       "      <td>Q1</td>\n",
       "      <td>1</td>\n",
       "      <td>NaN</td>\n",
       "      <td>-10658000.0</td>\n",
       "      <td>...</td>\n",
       "      <td>14744000.0</td>\n",
       "      <td>516000.0</td>\n",
       "      <td>52372000.0</td>\n",
       "      <td>3186000.0</td>\n",
       "      <td>261978000.0</td>\n",
       "      <td>876000.0</td>\n",
       "      <td>2000000.0</td>\n",
       "      <td>0.0</td>\n",
       "      <td>1219000.0</td>\n",
       "      <td>0.0</td>\n",
       "    </tr>\n",
       "  </tbody>\n",
       "</table>\n",
       "<p>2 rows × 53 columns</p>\n",
       "</div>"
      ],
      "text/plain": [
       "      cik ticker                  adsh  form      period       filed  fp qtrs  \\\n",
       "0  946673   BANR  0000946673-19-000012  10-Q  2019-03-31  2019-05-03  Q1    0   \n",
       "1  946673   BANR  0000946673-19-000012  10-Q  2019-03-31  2019-05-03  Q1    1   \n",
       "\n",
       "   CashAndCashEquivalentsAtCarryingValue  \\\n",
       "0                            261538000.0   \n",
       "1                                    NaN   \n",
       "\n",
       "   CashAndCashEquivalentsPeriodIncreaseDecrease  ...  \\\n",
       "0                                           NaN  ...   \n",
       "1                                   -10658000.0  ...   \n",
       "\n",
       "   ProceedsFromMaturitiesPrepaymentsAndCallsOfHeldToMaturitySecurities  \\\n",
       "0                                                NaN                     \n",
       "1                                         14744000.0                     \n",
       "\n",
       "   ProceedsFromSaleOfAvailableForSaleSecurities  \\\n",
       "0                                           NaN   \n",
       "1                                      516000.0   \n",
       "\n",
       "   ProceedsFromSaleOfFederalHomeLoanBankStock  \\\n",
       "0                                         NaN   \n",
       "1                                  52372000.0   \n",
       "\n",
       "   ProceedsFromSaleOfLoansHeldForInvestment  \\\n",
       "0                                       NaN   \n",
       "1                                 3186000.0   \n",
       "\n",
       "   ProceedsFromSaleOfLoansHeldForSale  \\\n",
       "0                                 NaN   \n",
       "1                         261978000.0   \n",
       "\n",
       "   ProceedsFromSaleOfPropertyPlantAndEquipment  \\\n",
       "0                                          NaN   \n",
       "1                                     876000.0   \n",
       "\n",
       "   ProvisionForLoanAndLeaseLosses  ProvisionForLoanLeaseAndOtherLosses  \\\n",
       "0                             NaN                                  NaN   \n",
       "1                       2000000.0                                  0.0   \n",
       "\n",
       "   ShareBasedCompensation  TransferToOtherRealEstate  \n",
       "0                     NaN                        NaN  \n",
       "1               1219000.0                        0.0  \n",
       "\n",
       "[2 rows x 53 columns]"
      ]
     },
     "execution_count": null,
     "metadata": {},
     "output_type": "execute_result"
    }
   ],
   "source": [
    "pd_frame = cf_pivot_value.where(\"adsh == '0000946673-19-000012'\").toPandas()\n",
    "pd.set_option('display.max_rows', pd_frame.shape[0]+1)\n",
    "pd_frame.sort_values(['qtrs']).dropna(how='all', axis=1)"
   ]
  },
  {
   "cell_type": "code",
   "execution_count": null,
   "metadata": {},
   "outputs": [
    {
     "name": "stdout",
     "output_type": "stream",
     "text": [
      "+----+-------+------+--------------------+----------+----+----------+------------------------------------------------------+----------+------+----+---+---+----+-----------+\n",
      "|stmt|cik    |ticker|adsh                |period    |form|filed     |tag                                                   |value     |report|line|fp |uom|qtrs|period_year|\n",
      "+----+-------+------+--------------------+----------+----+----------+------------------------------------------------------+----------+------+----+---+---+----+-----------+\n",
      "|CF  |1104855|SPRT  |0001654954-19-002486|2018-12-31|10-K|2019-03-08|NetIncomeLoss                                         |-9100000.0|7     |2   |FY |USD|4   |2018       |\n",
      "|CF  |1104855|SPRT  |0001654954-19-002486|2018-12-31|10-K|2019-03-08|ShareBasedCompensation                                |680000.0  |7     |4   |FY |USD|4   |2018       |\n",
      "|CF  |1104855|SPRT  |0001654954-19-002486|2018-12-31|10-K|2019-03-08|AmortizationOfIntangibleAssets                        |0.0       |7     |5   |FY |USD|4   |2018       |\n",
      "|CF  |1104855|SPRT  |0001654954-19-002486|2018-12-31|10-K|2019-03-08|AccretionAmortizationOfDiscountsAndPremiumsInvestments|-176000.0 |7     |6   |FY |USD|4   |2018       |\n",
      "|CF  |1104855|SPRT  |0001654954-19-002486|2018-12-31|10-K|2019-03-08|Depreciation                                          |638000.0  |7     |7   |FY |USD|4   |2018       |\n",
      "|CF  |1104855|SPRT  |0001654954-19-002486|2018-12-31|10-K|2019-03-08|DeferredIncomeTaxExpenseBenefit                       |0.0       |7     |8   |FY |USD|4   |2018       |\n",
      "|CF  |1104855|SPRT  |0001654954-19-002486|2018-12-31|10-K|2019-03-08|GainLossOnDispositionOfAssets                         |0.0       |7     |9   |FY |USD|4   |2018       |\n",
      "|CF  |1104855|SPRT  |0001654954-19-002486|2018-12-31|10-K|2019-03-08|IncreaseDecreaseInAccountsReceivable                  |341000.0  |7     |11  |FY |USD|4   |2018       |\n",
      "|CF  |1104855|SPRT  |0001654954-19-002486|2018-12-31|10-K|2019-03-08|IncreaseDecreaseInPrepaidDeferredExpenseAndOtherAssets|210000.0  |7     |12  |FY |USD|4   |2018       |\n",
      "|CF  |1104855|SPRT  |0001654954-19-002486|2018-12-31|10-K|2019-03-08|IncreaseDecreaseInOtherOperatingAssets                |-159000.0 |7     |13  |FY |USD|4   |2018       |\n",
      "|CF  |1104855|SPRT  |0001654954-19-002486|2018-12-31|10-K|2019-03-08|IncreaseDecreaseInAccountsPayable                     |-136000.0 |7     |14  |FY |USD|4   |2018       |\n",
      "|CF  |1104855|SPRT  |0001654954-19-002486|2018-12-31|10-K|2019-03-08|IncreaseDecreaseInEmployeeRelatedLiabilities          |257000.0  |7     |16  |FY |USD|4   |2018       |\n",
      "|CF  |1104855|SPRT  |0001654954-19-002486|2018-12-31|10-K|2019-03-08|IncreaseDecreaseInOtherAccruedLiabilities             |-358000.0 |7     |17  |FY |USD|4   |2018       |\n",
      "|CF  |1104855|SPRT  |0001654954-19-002486|2018-12-31|10-K|2019-03-08|IncreaseDecreaseInOtherNoncurrentLiabilities          |-85000.0  |7     |18  |FY |USD|4   |2018       |\n",
      "|CF  |1104855|SPRT  |0001654954-19-002486|2018-12-31|10-K|2019-03-08|IncreaseDecreaseInDeferredRevenue                     |-884000.0 |7     |19  |FY |USD|4   |2018       |\n",
      "|CF  |1104855|SPRT  |0001654954-19-002486|2018-12-31|10-K|2019-03-08|NetCashProvidedByUsedInOperatingActivities            |796000.0  |7     |20  |FY |USD|4   |2018       |\n",
      "|CF  |1104855|SPRT  |0001654954-19-002486|2018-12-31|10-K|2019-03-08|PaymentsToAcquirePropertyPlantAndEquipment            |208000.0  |7     |22  |FY |USD|4   |2018       |\n",
      "|CF  |1104855|SPRT  |0001654954-19-002486|2018-12-31|10-K|2019-03-08|PaymentsToAcquireInvestments                          |3.0049E7  |7     |23  |FY |USD|4   |2018       |\n",
      "|CF  |1104855|SPRT  |0001654954-19-002486|2018-12-31|10-K|2019-03-08|ProceedsFromSaleAndMaturityOfMarketableSecurities     |3.6604E7  |7     |24  |FY |USD|4   |2018       |\n",
      "|CF  |1104855|SPRT  |0001654954-19-002486|2018-12-31|10-K|2019-03-08|NetCashProvidedByUsedInInvestingActivities            |6347000.0 |7     |25  |FY |USD|4   |2018       |\n",
      "|CF  |1104855|SPRT  |0001654954-19-002486|2018-12-31|10-K|2019-03-08|ProceedsFromStockOptionsExercised                     |185000.0  |7     |28  |FY |USD|4   |2018       |\n",
      "|CF  |1104855|SPRT  |0001654954-19-002486|2018-12-31|10-K|2019-03-08|ProceedsFromStockPlans                                |72000.0   |7     |29  |FY |USD|4   |2018       |\n",
      "|CF  |1104855|SPRT  |0001654954-19-002486|2018-12-31|10-K|2019-03-08|PaymentsForRepurchaseOfCommonStock                    |0.0       |7     |30  |FY |USD|4   |2018       |\n",
      "|CF  |1104855|SPRT  |0001654954-19-002486|2018-12-31|10-K|2019-03-08|NetCashProvidedByUsedInFinancingActivities            |257000.0  |7     |31  |FY |USD|4   |2018       |\n",
      "|CF  |1104855|SPRT  |0001654954-19-002486|2018-12-31|10-K|2019-03-08|CashAndCashEquivalentsPeriodIncreaseDecrease          |7400000.0 |7     |32  |FY |USD|4   |2018       |\n",
      "|CF  |1104855|SPRT  |0001654954-19-002486|2018-12-31|10-K|2019-03-08|EffectOfExchangeRateOnCashAndCashEquivalents          |-268000.0 |7     |33  |FY |USD|4   |2018       |\n",
      "|CF  |1104855|SPRT  |0001654954-19-002486|2018-12-31|10-K|2019-03-08|CashAndCashEquivalentsAtCarryingValue                 |2.5182E7  |7     |34  |FY |USD|0   |2018       |\n",
      "|CF  |1104855|SPRT  |0001654954-19-002486|2018-12-31|10-K|2019-03-08|CashAndCashEquivalentsAtCarryingValue                 |2.5182E7  |7     |35  |FY |USD|0   |2018       |\n",
      "|CF  |1104855|SPRT  |0001654954-19-002486|2018-12-31|10-K|2019-03-08|IncomeTaxesPaid                                       |72000.0   |7     |37  |FY |USD|4   |2018       |\n",
      "+----+-------+------+--------------------+----------+----+----------+------------------------------------------------------+----------+------+----+---+---+----+-----------+\n",
      "\n"
     ]
    }
   ],
   "source": [
    "df_all_selected.where(\"adsh == '0001654954-19-002486' and stmt = 'CF'\").orderBy('line').show(50,False)"
   ]
  },
  {
   "cell_type": "code",
   "execution_count": null,
   "metadata": {},
   "outputs": [],
   "source": []
  }
 ],
 "metadata": {
  "kernelspec": {
   "display_name": "Python 3",
   "language": "python",
   "name": "python3"
  }
 },
 "nbformat": 4,
 "nbformat_minor": 4
}
