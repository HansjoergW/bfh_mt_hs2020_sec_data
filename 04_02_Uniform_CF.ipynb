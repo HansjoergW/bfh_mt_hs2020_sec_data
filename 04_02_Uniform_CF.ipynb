{
 "cells": [
  {
   "cell_type": "code",
   "execution_count": null,
   "metadata": {},
   "outputs": [],
   "source": [
    "# default_exp uniformcf"
   ]
  },
  {
   "cell_type": "code",
   "execution_count": null,
   "metadata": {},
   "outputs": [],
   "source": [
    "#hide\n",
    "from nbdev.showdoc import *"
   ]
  },
  {
   "cell_type": "code",
   "execution_count": null,
   "metadata": {},
   "outputs": [],
   "source": [
    "#hide\n",
    "# stellt sicher, dass beim verändern der core library diese wieder neu geladen wird\n",
    "%load_ext autoreload\n",
    "%autoreload 2"
   ]
  },
  {
   "cell_type": "markdown",
   "metadata": {},
   "source": [
    "# todos\n",
    "\n",
    "\n",
    "- CF Statement hat noch mehrere Qrts drin. prüfen, ob alle qtrs=1 haben.\n"
   ]
  },
  {
   "cell_type": "markdown",
   "metadata": {},
   "source": [
    "# uniform CF"
   ]
  },
  {
   "cell_type": "markdown",
   "metadata": {},
   "source": [
    "## Basic Settings"
   ]
  },
  {
   "cell_type": "code",
   "execution_count": null,
   "metadata": {},
   "outputs": [],
   "source": [
    "# imports\n",
    "from bfh_mt_hs2020_sec_data.core import * \n",
    "from pathlib import Path\n",
    "from typing import List, Tuple, Union, Set\n",
    "from pyspark.sql.dataframe import DataFrame\n",
    "from pyspark.sql.functions import col\n",
    "\n",
    "import pandas as pd\n",
    "\n",
    "import shutil          # provides high level file operations\n",
    "import time            # used to measure execution time\n",
    "import os\n",
    "import sys"
   ]
  },
  {
   "cell_type": "code",
   "execution_count": null,
   "metadata": {},
   "outputs": [],
   "source": [
    "all_pivot_selected_folder  = \"D:/data/parq_pivot_select\"\n",
    "all_pivoted_folder = \"D:/data/parq_pivot_split\"\n",
    "all_processed_folder = \"D:/data/parq_processed/\"\n",
    "\n",
    "col_list =    [\"stmt\",\"cik\",\"ticker\", \"adsh\",\"period\",\"filed\", \"form\",\"tag\",\"value\",\"report\", \"line\", \"fp\", \"uom\"]\n",
    "pivot_group = [\"cik\",\"ticker\",\"adsh\",\"form\",\"period\",\"filed\",\"fp\", \"qtrs\"]"
   ]
  },
  {
   "cell_type": "code",
   "execution_count": null,
   "metadata": {},
   "outputs": [
    {
     "data": {
      "text/html": [
       "\n",
       "            <div>\n",
       "                <p><b>SparkSession - in-memory</b></p>\n",
       "                \n",
       "        <div>\n",
       "            <p><b>SparkContext</b></p>\n",
       "\n",
       "            <p><a href=\"http://192.168.0.163:4040\">Spark UI</a></p>\n",
       "\n",
       "            <dl>\n",
       "              <dt>Version</dt>\n",
       "                <dd><code>v2.4.5</code></dd>\n",
       "              <dt>Master</dt>\n",
       "                <dd><code>local[*]</code></dd>\n",
       "              <dt>AppName</dt>\n",
       "                <dd><code>default</code></dd>\n",
       "            </dl>\n",
       "        </div>\n",
       "        \n",
       "            </div>\n",
       "        "
      ],
      "text/plain": [
       "<pyspark.sql.session.SparkSession at 0x242e8497e88>"
      ]
     },
     "execution_count": null,
     "metadata": {},
     "output_type": "execute_result"
    }
   ],
   "source": [
    "# init Spark\n",
    "spark = get_spark_session() # Session anlegen\n",
    "spark # display the moste important information of the session"
   ]
  },
  {
   "cell_type": "markdown",
   "metadata": {},
   "source": [
    "## 00_Raw_data"
   ]
  },
  {
   "cell_type": "code",
   "execution_count": null,
   "metadata": {},
   "outputs": [],
   "source": [
    "# loading the complete unpivoted dataset - if it is needed for debbuging\n",
    "df_all_selected = spark.read.parquet(all_pivot_selected_folder).cache()"
   ]
  },
  {
   "cell_type": "code",
   "execution_count": null,
   "metadata": {},
   "outputs": [],
   "source": [
    "# it happens sometimes, that the data could not be associated with a right sheet (bs, is, cf, ..). in this cases, the data can appea under \"UN\"\n",
    "# so if expected information cannot be found in the appropriate statement, we have to look in the un statement\n",
    "un_pivot_value = load_data(\"UN\", \"value\")\n",
    "un_pivot_pd = un_pivot_value.toPandas()"
   ]
  },
  {
   "cell_type": "code",
   "execution_count": null,
   "metadata": {},
   "outputs": [
    {
     "data": {
      "text/plain": [
       "(5989, 1774)"
      ]
     },
     "execution_count": null,
     "metadata": {},
     "output_type": "execute_result"
    }
   ],
   "source": [
    "un_pivot_pd.shape"
   ]
  },
  {
   "cell_type": "code",
   "execution_count": null,
   "metadata": {},
   "outputs": [],
   "source": [
    "def prepare_un_values(df_to_merge_into, attr_list):\n",
    "    # add possible columns from un set to  cf data with prefix cpy_\n",
    "    attributes = pivot_group[:] # create copy\n",
    "    attributes.extend(attr_list)\n",
    "\n",
    "    un_prepared = un_pivot_pd[attributes].copy()\n",
    "    un_prepared.rename(columns=lambda x: x  if x in pivot_group else (\"cpy_\" + x), inplace=True)\n",
    "\n",
    "    return pd.merge(df_to_merge_into, un_prepared, how='left', on=pivot_group)"
   ]
  },
  {
   "cell_type": "markdown",
   "metadata": {},
   "source": [
    "## 01_CashFlow"
   ]
  },
  {
   "cell_type": "markdown",
   "metadata": {},
   "source": [
    "Operation\n",
    "- NetIncomeLoss\n",
    "- ProfitLoss\n",
    "- NetCashProvidedByUsedInOperatingActivities: NetIncome + other positions ergibt diese Position\n",
    "\n",
    "Investing\n",
    "- NetCashProvidedByUsedInInvestingActivities\n",
    "\n",
    "Financing activities\n",
    "- PaymentsForRepurchaseOfCommonStock: Aktienrückkäufe\n",
    "- PaymentsOfDividends\n",
    "- NetCashProvidedByUsedInFinancingActivities\n",
    "\n",
    "Cash Bestand unterschied\n",
    "- CashAndCashEquivalentsPeriodIncreaseDecrease: increase/decrease in cash"
   ]
  },
  {
   "cell_type": "code",
   "execution_count": null,
   "metadata": {},
   "outputs": [
    {
     "data": {
      "text/plain": [
       "(305903, 2909)"
      ]
     },
     "execution_count": null,
     "metadata": {},
     "output_type": "execute_result"
    }
   ],
   "source": [
    "cf_pivot_value = load_data(\"CF\", \"value\")\n",
    "spark_shape(cf_pivot_value)"
   ]
  },
  {
   "cell_type": "code",
   "execution_count": null,
   "metadata": {},
   "outputs": [],
   "source": [
    "#cf_empty_count = get_empty_count(cf_pivot_value)"
   ]
  },
  {
   "cell_type": "code",
   "execution_count": null,
   "metadata": {},
   "outputs": [],
   "source": [
    "cf_pivot_pd = cf_pivot_value.toPandas()"
   ]
  },
  {
   "cell_type": "code",
   "execution_count": null,
   "metadata": {},
   "outputs": [],
   "source": [
    "cf_pivot_pd_copy = cf_pivot_pd.copy()"
   ]
  },
  {
   "cell_type": "code",
   "execution_count": null,
   "metadata": {},
   "outputs": [
    {
     "data": {
      "text/plain": [
       "(305903, 2909)"
      ]
     },
     "execution_count": null,
     "metadata": {},
     "output_type": "execute_result"
    }
   ],
   "source": [
    "cf_pivot_pd.shape"
   ]
  },
  {
   "cell_type": "markdown",
   "metadata": {},
   "source": [
    "## 02_CashFlow"
   ]
  },
  {
   "cell_type": "markdown",
   "metadata": {},
   "source": [
    "Operation\n",
    "- NetIncomeLoss\n",
    "- ProfitLoss\n",
    "- NetCashProvidedByUsedInOperatingActivities: NetIncome + other positions ergibt diese Position\n",
    "\n",
    "Investing\n",
    "- NetCashProvidedByUsedInInvestingActivities\n",
    "\n",
    "Financing activities\n",
    "- PaymentsForRepurchaseOfCommonStock: Aktienrückkäufe\n",
    "- PaymentsOfDividends\n",
    "- NetCashProvidedByUsedInFinancingActivities\n",
    "\n",
    "Cash Bestand unterschied\n",
    "- CashAndCashEquivalentsPeriodIncreaseDecrease: increase/decrease in cash"
   ]
  },
  {
   "cell_type": "code",
   "execution_count": null,
   "metadata": {},
   "outputs": [
    {
     "data": {
      "text/plain": [
       "(305903, 2909)"
      ]
     },
     "execution_count": null,
     "metadata": {},
     "output_type": "execute_result"
    }
   ],
   "source": [
    "cf_pivot_value = load_data(\"CF\", \"value\")\n",
    "spark_shape(cf_pivot_value)"
   ]
  },
  {
   "cell_type": "code",
   "execution_count": null,
   "metadata": {},
   "outputs": [],
   "source": [
    "cf_pivot_pd = cf_pivot_value.toPandas()"
   ]
  },
  {
   "cell_type": "code",
   "execution_count": null,
   "metadata": {},
   "outputs": [],
   "source": [
    "cf_pivot_pd_copy = cf_pivot_pd.copy()"
   ]
  },
  {
   "cell_type": "markdown",
   "metadata": {},
   "source": [
    "### Merge Data from \"unknown\" statement"
   ]
  },
  {
   "cell_type": "code",
   "execution_count": null,
   "metadata": {},
   "outputs": [
    {
     "data": {
      "text/plain": [
       "(305903, 2912)"
      ]
     },
     "execution_count": null,
     "metadata": {},
     "output_type": "execute_result"
    }
   ],
   "source": [
    "# merge relevant columns from the UN dataset\n",
    "cf_pivot_pd_copy = prepare_un_values(cf_pivot_pd_copy, [\n",
    "    'CashAndCashEquivalentsPeriodIncreaseDecrease',\n",
    "    'CashCashEquivalentsRestrictedCashAndRestrictedCashEquivalentsPeriodIncreaseDecreaseIncludingExchangeRateEffect',\n",
    "    'CashCashEquivalentsRestrictedCashAndRestrictedCashEquivalentsPeriodIncreaseDecreaseExcludingExchangeRateEffect'\n",
    "])\n",
    "cf_pivot_pd_copy.shape"
   ]
  },
  {
   "cell_type": "markdown",
   "metadata": {},
   "source": [
    "### Cash Increase/Decrease\n",
    "- 'CashAndCashEquivalentsPeriodIncreaseDecrease',\n",
    "- 'CashAndCashEquivalentsPeriodIncreaseDecreaseExcludingExchangeRateEffect',\n",
    "- 'CashCashEquivalentsRestrictedCashAndRestrictedCashEquivalentsPeriodIncreaseDecreaseExcludingExchangeRateEffect',\n",
    "- 'CashCashEquivalentsRestrictedCashAndRestrictedCashEquivalentsPeriodIncreaseDecreaseIncludingExchangeRateEffect',\n",
    "- 'CashPeriodIncreaseDecrease',\n",
    "- 'CashPeriodIncreaseDecreaseExcludingExchangeRateEffect',\n",
    "- 'NetCashProvidedByUsedInContinuingOperations'"
   ]
  },
  {
   "cell_type": "code",
   "execution_count": null,
   "metadata": {},
   "outputs": [
    {
     "name": "stdout",
     "output_type": "stream",
     "text": [
      "CashAndCashEquivalentsPeriodIncreaseDecrease   217223\n"
     ]
    }
   ],
   "source": [
    "print_null_count(cf_pivot_pd_copy, ['CashAndCashEquivalentsPeriodIncreaseDecrease'])"
   ]
  },
  {
   "cell_type": "code",
   "execution_count": null,
   "metadata": {},
   "outputs": [],
   "source": [
    "\n",
    "copy_if_not_empty(cf_pivot_pd_copy, 'CashCashEquivalentsRestrictedCashAndRestrictedCashEquivalentsPeriodIncreaseDecreaseIncludingExchangeRateEffect', \n",
    "                                    'CashAndCashEquivalentsPeriodIncreaseDecrease') # either or\n",
    "copy_if_not_empty(cf_pivot_pd_copy, 'CashCashEquivalentsRestrictedCashAndRestrictedCashEquivalentsPeriodIncreaseDecreaseExcludingExchangeRateEffect', \n",
    "                                    'CashAndCashEquivalentsPeriodIncreaseDecrease') # either or\n",
    "copy_if_not_empty(cf_pivot_pd_copy, 'CashPeriodIncreaseDecrease', \n",
    "                                    'CashAndCashEquivalentsPeriodIncreaseDecrease') # either or\n",
    "copy_if_not_empty(cf_pivot_pd_copy, 'CashAndCashEquivalentsPeriodIncreaseDecreaseExcludingExchangeRateEffect', \n",
    "                                    'CashAndCashEquivalentsPeriodIncreaseDecrease') # either or\n",
    "copy_if_not_empty(cf_pivot_pd_copy, 'CashPeriodIncreaseDecreaseExcludingExchangeRateEffect', \n",
    "                                    'CashAndCashEquivalentsPeriodIncreaseDecrease') # either or\n",
    "copy_if_not_empty(cf_pivot_pd_copy, 'NetCashProvidedByUsedInContinuingOperations', \n",
    "                                    'CashAndCashEquivalentsPeriodIncreaseDecrease') # either or\n",
    "\n",
    "\n",
    "# try to find data in joined un data\n",
    "copy_if_not_empty(cf_pivot_pd_copy, 'cpy_CashAndCashEquivalentsPeriodIncreaseDecrease', \n",
    "                                    'CashAndCashEquivalentsPeriodIncreaseDecrease') # either or\n",
    "copy_if_not_empty(cf_pivot_pd_copy, 'cpy_CashCashEquivalentsRestrictedCashAndRestrictedCashEquivalentsPeriodIncreaseDecreaseIncludingExchangeRateEffect', \n",
    "                                    'CashAndCashEquivalentsPeriodIncreaseDecrease') # either or\n",
    "copy_if_not_empty(cf_pivot_pd_copy, 'cpy_CashCashEquivalentsRestrictedCashAndRestrictedCashEquivalentsPeriodIncreaseDecreaseExcludingExchangeRateEffect', \n",
    "                                    'CashAndCashEquivalentsPeriodIncreaseDecrease') # either or"
   ]
  },
  {
   "cell_type": "code",
   "execution_count": null,
   "metadata": {},
   "outputs": [
    {
     "name": "stdout",
     "output_type": "stream",
     "text": [
      "CashAndCashEquivalentsPeriodIncreaseDecrease   188780\n"
     ]
    }
   ],
   "source": [
    "print_null_count(cf_pivot_pd_copy, ['CashAndCashEquivalentsPeriodIncreaseDecrease'])"
   ]
  },
  {
   "cell_type": "markdown",
   "metadata": {},
   "source": [
    "### Operation\n",
    "- NetIncomeLoss\n",
    "- NetCashProvidedByUsedInOperatingActivities: NetIncome + other positions ergibt diese Position"
   ]
  },
  {
   "cell_type": "code",
   "execution_count": null,
   "metadata": {},
   "outputs": [
    {
     "name": "stdout",
     "output_type": "stream",
     "text": [
      "NetIncomeLoss   195814\n",
      "ProfitLoss   240347\n",
      "NetCashProvidedByUsedInOperatingActivities   218636\n"
     ]
    }
   ],
   "source": [
    "print_null_count(cf_pivot_pd_copy, ['NetIncomeLoss', 'ProfitLoss', 'NetCashProvidedByUsedInOperatingActivities'])"
   ]
  },
  {
   "cell_type": "code",
   "execution_count": null,
   "metadata": {},
   "outputs": [],
   "source": [
    "# if only ProfitLoss is set, copy content to NetIncomeLoss\n",
    "# if onlyNetIncomeLoss is set, copy to ProfitLoss\n",
    "copy_if_not_empty(cf_pivot_pd_copy, 'ProfitLoss', 'NetIncomeLoss')\n",
    "copy_if_not_empty(cf_pivot_pd_copy, 'NetIncomeLoss', 'ProfitLoss')\n",
    "copy_if_not_empty(cf_pivot_pd_copy, 'NetIncomeLossAvailableToCommonStockholdersBasic', 'ProfitLoss') # certain CFs just have this position\n",
    "copy_if_not_empty(cf_pivot_pd_copy, 'NetIncomeLossAvailableToCommonStockholdersBasic', 'NetIncomeLoss')\n",
    "\n",
    "copy_if_not_empty(cf_pivot_pd_copy, 'NetCashProvidedByUsedInOperatingActivitiesContinuingOperations', 'NetCashProvidedByUsedInOperatingActivities')\n",
    "\n",
    "copy_if_not_empty(cf_pivot_pd_copy, 'NetCashProvidedByUsedInOperatingActivities', 'ProfitLoss') # certain CFs just have this position\n",
    "copy_if_not_empty(cf_pivot_pd_copy, 'NetCashProvidedByUsedInOperatingActivities', 'NetIncomeLoss')"
   ]
  },
  {
   "cell_type": "code",
   "execution_count": null,
   "metadata": {},
   "outputs": [
    {
     "name": "stdout",
     "output_type": "stream",
     "text": [
      "NetIncomeLoss   119998\n",
      "ProfitLoss   119998\n",
      "NetCashProvidedByUsedInOperatingActivities   187825\n"
     ]
    }
   ],
   "source": [
    "print_null_count(cf_pivot_pd_copy, ['NetIncomeLoss', 'ProfitLoss', 'NetCashProvidedByUsedInOperatingActivities'])"
   ]
  },
  {
   "cell_type": "markdown",
   "metadata": {},
   "source": [
    "### Investing\n",
    "- NetCashProvidedByUsedInInvestingActivities"
   ]
  },
  {
   "cell_type": "code",
   "execution_count": null,
   "metadata": {},
   "outputs": [
    {
     "name": "stdout",
     "output_type": "stream",
     "text": [
      "NetCashProvidedByUsedInInvestingActivities   219410\n"
     ]
    }
   ],
   "source": [
    "print_null_count(cf_pivot_pd_copy, ['NetCashProvidedByUsedInInvestingActivities'])"
   ]
  },
  {
   "cell_type": "code",
   "execution_count": null,
   "metadata": {},
   "outputs": [],
   "source": [
    "sum_into_empty_target(cf_pivot_pd_copy, \n",
    "                      'NetCashProvidedByUsedInInvestingActivitiesContinuingOperations',\n",
    "                      'CashProvidedByUsedInInvestingActivitiesDiscontinuedOperations',\n",
    "                      'NetCashProvidedByUsedInInvestingActivities')\n",
    "\n",
    "copy_if_not_empty(cf_pivot_pd_copy, 'NetCashProvidedByUsedInInvestingActivitiesContinuingOperations', 'NetCashProvidedByUsedInInvestingActivities')\n",
    "copy_if_not_empty(cf_pivot_pd_copy, 'CashProvidedByUsedInInvestingActivitiesDiscontinuedOperations', 'NetCashProvidedByUsedInInvestingActivities')\n",
    "\n",
    "set_to_zero_if_null(cf_pivot_pd_copy, 'NetCashProvidedByUsedInInvestingActivities')"
   ]
  },
  {
   "cell_type": "code",
   "execution_count": null,
   "metadata": {},
   "outputs": [
    {
     "name": "stdout",
     "output_type": "stream",
     "text": [
      "NetCashProvidedByUsedInInvestingActivities   0\n"
     ]
    }
   ],
   "source": [
    "print_null_count(cf_pivot_pd_copy, ['NetCashProvidedByUsedInInvestingActivities'])"
   ]
  },
  {
   "cell_type": "markdown",
   "metadata": {},
   "source": [
    "### Financing activities\n",
    "- PaymentsForRepurchaseOfCommonStock: Aktienrückkäufe\n",
    "- PaymentsOfDividends\n",
    "- NetCashProvidedByUsedInFinancingActivities\n",
    "\n",
    "('CashProvidedByUsedInDiscontinuedOperationsFinancingActivities',\n",
    " 'CashProvidedByUsedInFinancingActivitiesDiscontinuedOperations',\n",
    " 'NetCashProvidedByUsedInFinancingActivities',\n",
    " 'NetCashProvidedByUsedInFinancingActivitiesContinuingOperations')"
   ]
  },
  {
   "cell_type": "markdown",
   "metadata": {},
   "source": [
    "#### NetCashProvidedByUsedInFinancingActivities"
   ]
  },
  {
   "cell_type": "code",
   "execution_count": null,
   "metadata": {},
   "outputs": [
    {
     "name": "stdout",
     "output_type": "stream",
     "text": [
      "NetCashProvidedByUsedInFinancingActivities   219518\n"
     ]
    }
   ],
   "source": [
    "print_null_count(cf_pivot_pd_copy, ['NetCashProvidedByUsedInFinancingActivities'])"
   ]
  },
  {
   "cell_type": "code",
   "execution_count": null,
   "metadata": {},
   "outputs": [],
   "source": [
    "sum_into_empty_target(cf_pivot_pd_copy, \n",
    "                      'NetCashProvidedByUsedInFinancingActivitiesContinuingOperations',\n",
    "                      'CashProvidedByUsedInFinancingActivitiesDiscontinuedOperations',\n",
    "                      'NetCashProvidedByUsedInFinancingActivities')\n",
    "\n",
    "copy_if_not_empty(cf_pivot_pd_copy, 'NetCashProvidedByUsedInFinancingActivitiesContinuingOperations', 'NetCashProvidedByUsedInFinancingActivities')\n",
    "copy_if_not_empty(cf_pivot_pd_copy, 'CashProvidedByUsedInFinancingActivitiesDiscontinuedOperations', 'NetCashProvidedByUsedInFinancingActivities')\n",
    "\n",
    "set_to_zero_if_null(cf_pivot_pd_copy, 'NetCashProvidedByUsedInFinancingActivities')"
   ]
  },
  {
   "cell_type": "code",
   "execution_count": null,
   "metadata": {},
   "outputs": [
    {
     "name": "stdout",
     "output_type": "stream",
     "text": [
      "NetCashProvidedByUsedInFinancingActivities   0\n"
     ]
    }
   ],
   "source": [
    "print_null_count(cf_pivot_pd_copy, ['NetCashProvidedByUsedInFinancingActivities'])"
   ]
  },
  {
   "cell_type": "markdown",
   "metadata": {},
   "source": [
    "#### PaymentsOfDividends\n",
    "Simply set to 0.0 if no data is present\n",
    " 'PaymentsOfDividends',\n",
    " 'PaymentsOfDividendsCommonStock',\n",
    " 'PaymentsOfDividendsMinorityInterest',\n",
    " 'PaymentsOfDividendsPreferredStockAndPreferenceStock',\n",
    " 'PaymentsOfOrdinaryDividends',"
   ]
  },
  {
   "cell_type": "code",
   "execution_count": null,
   "metadata": {},
   "outputs": [],
   "source": [
    "cf_pivot_pd_copy = sum_cols_into_new_target(cf_pivot_pd_copy, 'PaymentsOfDividendsTotal', \n",
    "                                 ['PaymentsOfDividends',\n",
    "                                 'PaymentsOfDividendsCommonStock',\n",
    "                                 'PaymentsOfDividendsMinorityInterest',\n",
    "                                 'PaymentsOfDividendsPreferredStockAndPreferenceStock',\n",
    "                                 'PaymentsOfOrdinaryDividends'])"
   ]
  },
  {
   "cell_type": "markdown",
   "metadata": {},
   "source": [
    "#### PaymentsForRepurchaseOfCommonStock: Stock buybacks\n",
    " 'PaymentsForRepurchaseOfCommonStock',\n",
    " 'PaymentsForRepurchaseOfCommonStockForEmployeeTaxWithholdingObligations',\n",
    " 'PaymentsForRepurchaseOfConvertiblePreferredStock',\n",
    " 'PaymentsForRepurchaseOfPreferredStockAndPreferenceStock',\n",
    " 'PaymentsForRepurchaseOfRedeemableConvertiblePreferredStock',\n",
    " 'PaymentsForRepurchaseOfRedeemablePreferredStock'"
   ]
  },
  {
   "cell_type": "code",
   "execution_count": null,
   "metadata": {},
   "outputs": [],
   "source": [
    "cf_pivot_pd_copy = sum_cols_into_new_target(cf_pivot_pd_copy, 'PaymentsForRepurchaseOfStockTotal', \n",
    "                                 ['PaymentsForRepurchaseOfCommonStock',\n",
    "                                     'PaymentsForRepurchaseOfCommonStockForEmployeeTaxWithholdingObligations',\n",
    "                                     'PaymentsForRepurchaseOfConvertiblePreferredStock',\n",
    "                                     'PaymentsForRepurchaseOfPreferredStockAndPreferenceStock',\n",
    "                                     'PaymentsForRepurchaseOfRedeemableConvertiblePreferredStock',\n",
    "                                     'PaymentsForRepurchaseOfRedeemablePreferredStock'])"
   ]
  },
  {
   "cell_type": "markdown",
   "metadata": {},
   "source": [
    "### Save"
   ]
  },
  {
   "cell_type": "code",
   "execution_count": null,
   "metadata": {},
   "outputs": [],
   "source": [
    "cf_pivot_pd_copy[[\"cik\",\"ticker\", \"adsh\",\"period\",\"form\", \"qtrs\",\"fp\",\n",
    "                                     'CashAndCashEquivalentsPeriodIncreaseDecrease',\n",
    "                                     'NetIncomeLoss', \n",
    "                                     'ProfitLoss', \n",
    "                                     'NetCashProvidedByUsedInOperatingActivities', \n",
    "                                     'NetCashProvidedByUsedInInvestingActivities',\n",
    "                                     'NetCashProvidedByUsedInFinancingActivities',\n",
    "                                     'PaymentsOfDividendsTotal',\n",
    "                                     'PaymentsForRepurchaseOfStockTotal']] \\\n",
    "                  .to_csv(all_processed_folder + \"cf_not_cleaned.csv\", index=False)"
   ]
  }
 ],
 "metadata": {
  "kernelspec": {
   "display_name": "Python 3",
   "language": "python",
   "name": "python3"
  }
 },
 "nbformat": 4,
 "nbformat_minor": 4
}
