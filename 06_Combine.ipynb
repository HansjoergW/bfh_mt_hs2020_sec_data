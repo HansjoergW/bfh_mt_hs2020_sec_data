{
 "cells": [
  {
   "cell_type": "code",
   "execution_count": null,
   "metadata": {},
   "outputs": [],
   "source": [
    "# default_exp combine"
   ]
  },
  {
   "cell_type": "code",
   "execution_count": null,
   "metadata": {},
   "outputs": [],
   "source": [
    "#hide\n",
    "from nbdev.showdoc import *"
   ]
  },
  {
   "cell_type": "code",
   "execution_count": null,
   "metadata": {},
   "outputs": [],
   "source": [
    "#hide\n",
    "# stellt sicher, dass beim verändern der core library diese wieder neu geladen wird\n",
    "%load_ext autoreload\n",
    "%autoreload 2"
   ]
  },
  {
   "cell_type": "markdown",
   "metadata": {},
   "source": [
    "# Combine"
   ]
  },
  {
   "cell_type": "markdown",
   "metadata": {},
   "source": [
    "## Basic Settings"
   ]
  },
  {
   "cell_type": "code",
   "execution_count": null,
   "metadata": {},
   "outputs": [],
   "source": [
    "# imports\n",
    "from bfh_mt_hs2020_sec_data.core import * \n",
    "from pathlib import Path\n",
    "from typing import List, Tuple, Union, Set\n",
    "\n",
    "import pandas as pd\n",
    "\n",
    "import shutil          # provides high level file operations\n",
    "import time            # used to measure execution time\n",
    "import os\n",
    "import sys\n",
    "\n",
    "import matplotlib.pyplot as plt\n",
    "import seaborn as sns; sns.set()"
   ]
  },
  {
   "cell_type": "code",
   "execution_count": null,
   "metadata": {},
   "outputs": [],
   "source": [
    "all_data_local_folder = \"./data/\"\n",
    "\n",
    "join_group = [\"cik\",\"ticker\",\"adsh\",\"period\",\"filed\",\"form\",\"fp\"]\n",
    "analyze_cols = ['value_count','null_count']"
   ]
  },
  {
   "cell_type": "markdown",
   "metadata": {},
   "source": [
    "## 00_Tools"
   ]
  },
  {
   "cell_type": "code",
   "execution_count": null,
   "metadata": {},
   "outputs": [],
   "source": [
    "def check_number_of_reports(df: pd.DataFrame):\n",
    "    \"\"\"\n",
    "    check if there is only one entry per report (unique adsh)\n",
    "    \"\"\"\n",
    "    print(\"is there just one report per ADSH: \", len(df.adsh.unique()) == df.shape[0])"
   ]
  },
  {
   "cell_type": "code",
   "execution_count": null,
   "metadata": {},
   "outputs": [],
   "source": [
    "def load_data(stmt:str) -> pd.DataFrame:\n",
    "    df = pd.read_csv(all_data_local_folder + stmt + \"_completed.csv\")\n",
    "\n",
    "    df.period = pd.to_datetime(df.period)\n",
    "    df.filed = pd.to_datetime(df.filed)\n",
    "\n",
    "    df = df.rename(columns={'qtrs':stmt + '_qtrs'})\n",
    "    \n",
    "    return df"
   ]
  },
  {
   "cell_type": "code",
   "execution_count": null,
   "metadata": {},
   "outputs": [],
   "source": [
    "def count_null(df: pd.DataFrame):\n",
    "    columns = list(df.columns)\n",
    "    value_cols = set(columns) -  set(join_group)\n",
    "    value_cols = value_cols -  set(['bs_qtrs','is_qtrs','cf_qtrs'])\n",
    "    \n",
    "    df['value_count'] = df[value_cols].notnull().sum(axis=1)\n",
    "    df['null_count'] = df[value_cols].isnull().sum(axis=1)\n",
    "    \n",
    "    print(\"lines with missing values: \", df[df.null_count > 0].shape[0])"
   ]
  },
  {
   "cell_type": "code",
   "execution_count": null,
   "metadata": {},
   "outputs": [],
   "source": [
    "def print_stats(df: pd.DataFrame):\n",
    "    print('number of reports:   ', df.shape[0])\n",
    "    print('number of companies: ', len(df.cik.unique()))"
   ]
  },
  {
   "cell_type": "markdown",
   "metadata": {},
   "source": [
    "## 01_Load data"
   ]
  },
  {
   "cell_type": "code",
   "execution_count": null,
   "metadata": {},
   "outputs": [
    {
     "name": "stdout",
     "output_type": "stream",
     "text": [
      "bs:  (116519, 16)\n",
      "cf:  (116187, 16)\n",
      "is:  (115899, 14)\n"
     ]
    }
   ],
   "source": [
    "bs_df = load_data(\"bs\")\n",
    "cf_df = load_data(\"cf\")\n",
    "is_df = load_data(\"is\")\n",
    "print(\"bs: \", bs_df.shape)\n",
    "print(\"cf: \", cf_df.shape)\n",
    "print(\"is: \", is_df.shape)"
   ]
  },
  {
   "cell_type": "markdown",
   "metadata": {},
   "source": [
    "### drop columns"
   ]
  },
  {
   "cell_type": "code",
   "execution_count": null,
   "metadata": {},
   "outputs": [],
   "source": [
    "is_df = is_df.drop(columns=['SharesOutstanding_hj','EarningsPerShare_hj'])"
   ]
  },
  {
   "cell_type": "markdown",
   "metadata": {},
   "source": [
    "### column names simplifications"
   ]
  },
  {
   "cell_type": "code",
   "execution_count": null,
   "metadata": {},
   "outputs": [],
   "source": [
    "bs_df = bs_df.rename(columns={'RetainedEarningsAccumulatedDeficit':'RetainedEarnings_hj'})\n",
    "cf_df = cf_df.rename(columns={'NetCashProvidedByUsedInOperatingActivities':'CashFromOperating',\n",
    "                              'NetCashProvidedByUsedInInvestingActivities':'CashFromInvesting',\n",
    "                              'NetCashProvidedByUsedInFinancingActivities':'CashFromFinancing'})"
   ]
  },
  {
   "cell_type": "markdown",
   "metadata": {},
   "source": [
    "## 02_Join data"
   ]
  },
  {
   "cell_type": "code",
   "execution_count": null,
   "metadata": {},
   "outputs": [],
   "source": [
    "joined_df = pd.merge(bs_df, cf_df, how='outer', on=join_group)\n",
    "joined_df = pd.merge(joined_df, is_df, how='outer', on=join_group)"
   ]
  },
  {
   "cell_type": "code",
   "execution_count": null,
   "metadata": {},
   "outputs": [
    {
     "data": {
      "text/plain": [
       "(116632, 30)"
      ]
     },
     "execution_count": null,
     "metadata": {},
     "output_type": "execute_result"
    }
   ],
   "source": [
    "joined_df.shape"
   ]
  },
  {
   "cell_type": "markdown",
   "metadata": {},
   "source": [
    "## 03_Check data_"
   ]
  },
  {
   "cell_type": "code",
   "execution_count": null,
   "metadata": {},
   "outputs": [
    {
     "name": "stdout",
     "output_type": "stream",
     "text": [
      "is there just one report per ADSH:  True\n"
     ]
    }
   ],
   "source": [
    "# checkdata -> every adsh should only appear once\n",
    "check_number_of_reports(joined_df)"
   ]
  },
  {
   "cell_type": "code",
   "execution_count": null,
   "metadata": {},
   "outputs": [
    {
     "name": "stdout",
     "output_type": "stream",
     "text": [
      "lines with missing values:  1727\n"
     ]
    }
   ],
   "source": [
    "count_null(joined_df)"
   ]
  },
  {
   "cell_type": "code",
   "execution_count": null,
   "metadata": {},
   "outputs": [
    {
     "data": {
      "text/plain": [
       "<AxesSubplot:>"
      ]
     },
     "execution_count": null,
     "metadata": {},
     "output_type": "execute_result"
    },
    {
     "data": {
      "image/png": "[encoded data removed]",
      "text/plain": [
       "<Figure size 432x288 with 1 Axes>"
      ]
     },
     "metadata": {},
     "output_type": "display_data"
    }
   ],
   "source": [
    "# plot count of missing values. y-axis shows the number of reports, x-axis shows how many values are missing\n",
    "joined_df.null_count.value_counts().sort_index()[1:].plot.bar()"
   ]
  },
  {
   "cell_type": "code",
   "execution_count": null,
   "metadata": {},
   "outputs": [
    {
     "name": "stdout",
     "output_type": "stream",
     "text": [
      "companies with just one incomplete report:  120\n"
     ]
    }
   ],
   "source": [
    "print(\"companies with just one incomplete report: \", len(set(joined_df[joined_df.null_count == 1].cik.unique()) - set(joined_df[joined_df.null_count > 1].cik.unique())))"
   ]
  },
  {
   "cell_type": "code",
   "execution_count": null,
   "metadata": {},
   "outputs": [
    {
     "data": {
      "text/plain": [
       "<AxesSubplot:>"
      ]
     },
     "execution_count": null,
     "metadata": {},
     "output_type": "execute_result"
    },
    {
     "data": {
      "image/png": "[encoded data removed]",
      "text/plain": [
       "<Figure size 432x288 with 1 Axes>"
      ]
     },
     "metadata": {},
     "output_type": "display_data"
    }
   ],
   "source": [
    "# plount count of available reports: y-axis shows the number of companies, x-axis shows number of reports available\n",
    "joined_df.cik.value_counts().value_counts().sort_index(ascending=False).plot.bar()"
   ]
  },
  {
   "cell_type": "markdown",
   "metadata": {},
   "source": [
    "## 04_Remove Companies with missing data"
   ]
  },
  {
   "cell_type": "code",
   "execution_count": null,
   "metadata": {},
   "outputs": [
    {
     "name": "stdout",
     "output_type": "stream",
     "text": [
      "number of reports:    116632\n",
      "number of companies:  4356\n"
     ]
    }
   ],
   "source": [
    "joined_cleaned_df = joined_df.copy()\n",
    "print_stats(joined_cleaned_df)"
   ]
  },
  {
   "cell_type": "markdown",
   "metadata": {},
   "source": [
    "### only consider companies with at least 4 years of data"
   ]
  },
  {
   "cell_type": "code",
   "execution_count": null,
   "metadata": {},
   "outputs": [
    {
     "data": {
      "text/plain": [
       "3533"
      ]
     },
     "execution_count": null,
     "metadata": {},
     "output_type": "execute_result"
    }
   ],
   "source": [
    "filtered = joined_cleaned_df.cik.value_counts()>15\n",
    "ciks_with_4yrplus = filtered[filtered].index.tolist()\n",
    "len(ciks_with_4yrplus)"
   ]
  },
  {
   "cell_type": "code",
   "execution_count": null,
   "metadata": {},
   "outputs": [],
   "source": [
    "joined_cleaned_df = joined_cleaned_df[joined_cleaned_df.cik.isin(ciks_with_4yrplus)]"
   ]
  },
  {
   "cell_type": "code",
   "execution_count": null,
   "metadata": {},
   "outputs": [
    {
     "name": "stdout",
     "output_type": "stream",
     "text": [
      "number of reports:    109147\n",
      "number of companies:  3533\n"
     ]
    }
   ],
   "source": [
    "print_stats(joined_cleaned_df)"
   ]
  },
  {
   "cell_type": "markdown",
   "metadata": {},
   "source": [
    "### remove ciks who have reports with missing values"
   ]
  },
  {
   "cell_type": "code",
   "execution_count": null,
   "metadata": {},
   "outputs": [
    {
     "name": "stdout",
     "output_type": "stream",
     "text": [
      "473\n"
     ]
    }
   ],
   "source": [
    "incomplete_ciks = joined_cleaned_df[joined_cleaned_df.null_count > 0].cik.unique()\n",
    "print(len(incomplete_ciks))"
   ]
  },
  {
   "cell_type": "code",
   "execution_count": null,
   "metadata": {},
   "outputs": [],
   "source": [
    "joined_cleaned_df = joined_cleaned_df[~joined_cleaned_df.cik.isin(incomplete_ciks)]"
   ]
  },
  {
   "cell_type": "code",
   "execution_count": null,
   "metadata": {},
   "outputs": [
    {
     "name": "stdout",
     "output_type": "stream",
     "text": [
      "number of reports:    94819\n",
      "number of companies:  3060\n"
     ]
    }
   ],
   "source": [
    "print_stats(joined_cleaned_df)"
   ]
  },
  {
   "cell_type": "markdown",
   "metadata": {},
   "source": [
    "### other cleaning that could/should be done\n",
    "\n",
    "- either ensure that the first entry for a cik is a yearly report or ensure that it is quarter 1\n",
    "- ensure that there are no reports missing\n",
    "- since there many reports with just a single value missing"
   ]
  },
  {
   "cell_type": "markdown",
   "metadata": {},
   "source": [
    "## 05_Save"
   ]
  },
  {
   "cell_type": "code",
   "execution_count": null,
   "metadata": {},
   "outputs": [],
   "source": [
    "joined_cleaned_df.drop(columns = analyze_cols).to_csv(all_data_local_folder + \"complete.csv\", index=False)"
   ]
  },
  {
   "cell_type": "code",
   "execution_count": null,
   "metadata": {},
   "outputs": [],
   "source": []
  }
 ],
 "metadata": {
  "kernelspec": {
   "display_name": "Python 3",
   "language": "python",
   "name": "python3"
  }
 },
 "nbformat": 4,
 "nbformat_minor": 4
}
