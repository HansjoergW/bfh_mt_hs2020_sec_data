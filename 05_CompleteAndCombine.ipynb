{
 "cells": [
  {
   "cell_type": "code",
   "execution_count": null,
   "metadata": {},
   "outputs": [],
   "source": [
    "# default_exp complete"
   ]
  },
  {
   "cell_type": "code",
   "execution_count": null,
   "metadata": {},
   "outputs": [],
   "source": [
    "#hide\n",
    "from nbdev.showdoc import *"
   ]
  },
  {
   "cell_type": "code",
   "execution_count": null,
   "metadata": {},
   "outputs": [],
   "source": [
    "#hide\n",
    "# stellt sicher, dass beim verändern der core library diese wieder neu geladen wird\n",
    "%load_ext autoreload\n",
    "%autoreload 2"
   ]
  },
  {
   "cell_type": "markdown",
   "metadata": {},
   "source": [
    "# Complete and Combine"
   ]
  },
  {
   "cell_type": "markdown",
   "metadata": {},
   "source": [
    "## Basic Settings"
   ]
  },
  {
   "cell_type": "code",
   "execution_count": null,
   "metadata": {},
   "outputs": [],
   "source": [
    "# imports\n",
    "from bfh_mt_hs2020_sec_data.core import * \n",
    "from pathlib import Path\n",
    "from typing import List, Tuple, Union, Set\n",
    "\n",
    "import pandas as pd\n",
    "\n",
    "import shutil          # provides high level file operations\n",
    "import time            # used to measure execution time\n",
    "import os\n",
    "import sys\n",
    "\n",
    "import matplotlib.pyplot as plt\n",
    "import seaborn as sns; sns.set()"
   ]
  },
  {
   "cell_type": "code",
   "execution_count": null,
   "metadata": {},
   "outputs": [],
   "source": [
    "all_pivot_selected_folder  = \"D:/data/parq_pivot_select\"\n",
    "all_pivoted_folder = \"D:/data/parq_pivot_split\"\n",
    "all_processed_folder = \"D:/data/parq_processed/\"\n",
    "\n",
    "pivot_group = [\"cik\",\"ticker\",\"adsh\",\"period\",\"filed\",\"form\",\"qtrs\",\"fp\"]\n",
    "analyze_fields = [\"value_count\",\"null_count\",\"difference\"]"
   ]
  },
  {
   "cell_type": "markdown",
   "metadata": {},
   "source": [
    "## 02_Tools"
   ]
  },
  {
   "cell_type": "code",
   "execution_count": null,
   "metadata": {},
   "outputs": [],
   "source": [
    "def count_null(df: pd.DataFrame):\n",
    "    columns = list(df.columns)\n",
    "    value_cols = set(columns) -  set(pivot_group)\n",
    "    value_cols = value_cols -  set(analyze_fields)\n",
    "    \n",
    "    df['value_count'] = df[value_cols].notnull().sum(axis=1)\n",
    "    df['null_count'] = df[value_cols].isnull().sum(axis=1)\n",
    "    \n",
    "    print(\"lines with missing values: \", df[df.null_count > 0].shape[0])"
   ]
  },
  {
   "cell_type": "code",
   "execution_count": null,
   "metadata": {},
   "outputs": [],
   "source": [
    "def load_data(stmt:str) -> pd.DataFrame:\n",
    "    df = pd.read_csv(all_processed_folder + stmt + \"_not_cleaned.csv\")\n",
    "    df.period = pd.to_datetime(df.period)\n",
    "    df.filed = pd.to_datetime(df.filed)\n",
    "    \n",
    "    return df"
   ]
  },
  {
   "cell_type": "code",
   "execution_count": null,
   "metadata": {},
   "outputs": [],
   "source": [
    "def check_number_of_reports(df: pd.DataFrame):\n",
    "    \"\"\"\n",
    "    check if there is only one entry per report (unique adsh)\n",
    "    \"\"\"\n",
    "    print(\"is there just one report per ADSH: \", len(df.adsh.unique()) == df.shape[0])"
   ]
  },
  {
   "cell_type": "code",
   "execution_count": null,
   "metadata": {},
   "outputs": [],
   "source": [
    "def missing_value_report(df: pd.DataFrame):\n",
    "    df_missing = df[df.null_count > 0]\n",
    "    print(df_missing.shape[0])\n",
    "    sns.catplot(x='null_count', kind='count', data=df_missing)"
   ]
  },
  {
   "cell_type": "markdown",
   "metadata": {},
   "source": [
    "## 01_Complete BS"
   ]
  },
  {
   "cell_type": "markdown",
   "metadata": {},
   "source": [
    "### load data"
   ]
  },
  {
   "cell_type": "code",
   "execution_count": null,
   "metadata": {},
   "outputs": [
    {
     "name": "stdout",
     "output_type": "stream",
     "text": [
      "lines with missing values:  1301\n"
     ]
    }
   ],
   "source": [
    "bs_df = load_data(\"bs\")\n",
    "count_null(bs_df)"
   ]
  },
  {
   "cell_type": "code",
   "execution_count": null,
   "metadata": {},
   "outputs": [
    {
     "data": {
      "text/plain": [
       "(116519, 18)"
      ]
     },
     "execution_count": null,
     "metadata": {},
     "output_type": "execute_result"
    }
   ],
   "source": [
    "bs_df.shape"
   ]
  },
  {
   "cell_type": "code",
   "execution_count": null,
   "metadata": {},
   "outputs": [
    {
     "name": "stdout",
     "output_type": "stream",
     "text": [
      "is there just one report per ADSH:  True\n"
     ]
    }
   ],
   "source": [
    "check_number_of_reports(bs_df)"
   ]
  },
  {
   "cell_type": "markdown",
   "metadata": {},
   "source": [
    "### complete missing Equity"
   ]
  },
  {
   "cell_type": "code",
   "execution_count": null,
   "metadata": {},
   "outputs": [],
   "source": [
    "# complete Equity_hj = Assets - Liabilities\n",
    "do_set_equity = (bs_df.Equity_hj.isnull()  & bs_df.Assets.notnull() & bs_df.Liabilities.notnull())\n",
    "bs_df.loc[do_set_equity, 'Equity_hj'] = bs_df.loc[do_set_equity, 'Assets'] - bs_df.loc[do_set_equity, 'Liabilities']"
   ]
  },
  {
   "cell_type": "code",
   "execution_count": null,
   "metadata": {},
   "outputs": [
    {
     "name": "stdout",
     "output_type": "stream",
     "text": [
      "lines with missing values:  559\n"
     ]
    }
   ],
   "source": [
    "count_null(bs_df)"
   ]
  },
  {
   "cell_type": "markdown",
   "metadata": {},
   "source": [
    "### complete missing liabilities"
   ]
  },
  {
   "cell_type": "code",
   "execution_count": null,
   "metadata": {},
   "outputs": [],
   "source": [
    "do_set_liab = (bs_df.Assets.notnull()  & bs_df.Equity_hj.notnull()  & bs_df.Liabilities.isnull() & bs_df.LiabilitiesCurrent.isnull() & bs_df.LiabilitiesNoncurrent.isnull())\n",
    "bs_df.loc[do_set_liab, 'Liabilities'] = bs_df.loc[do_set_liab, 'Assets'] - bs_df.loc[do_set_liab, 'Equity_hj']\n",
    "bs_df.loc[do_set_liab, 'LiabilitiesCurrent'] = bs_df.loc[do_set_liab, 'Liabilities']\n",
    "bs_df.loc[do_set_liab, 'LiabilitiesNoncurrent'] = 0.0"
   ]
  },
  {
   "cell_type": "code",
   "execution_count": null,
   "metadata": {},
   "outputs": [
    {
     "name": "stdout",
     "output_type": "stream",
     "text": [
      "lines with missing values:  282\n"
     ]
    }
   ],
   "source": [
    "count_null(bs_df)"
   ]
  },
  {
   "cell_type": "markdown",
   "metadata": {},
   "source": [
    "### complete missing assets"
   ]
  },
  {
   "cell_type": "code",
   "execution_count": null,
   "metadata": {},
   "outputs": [],
   "source": [
    "do_set_liab = (bs_df.Liabilities.notnull()  & bs_df.Equity_hj.notnull()  & bs_df.Assets.isnull() & bs_df.AssetsCurrent.isnull() & bs_df.AssetsNoncurrent.isnull())\n",
    "bs_df.loc[do_set_liab, 'Assets'] = bs_df.loc[do_set_liab, 'Liabilities'] + bs_df.loc[do_set_liab, 'Equity_hj']\n",
    "bs_df.loc[do_set_liab, 'AssetsCurrent'] = bs_df.loc[do_set_liab, 'Liabilities']\n",
    "bs_df.loc[do_set_liab, 'AssetsNoncurrent'] = 0.0"
   ]
  },
  {
   "cell_type": "code",
   "execution_count": null,
   "metadata": {},
   "outputs": [
    {
     "name": "stdout",
     "output_type": "stream",
     "text": [
      "lines with missing values:  274\n"
     ]
    }
   ],
   "source": [
    "count_null(bs_df)"
   ]
  },
  {
   "cell_type": "markdown",
   "metadata": {},
   "source": [
    "### remove companies with incomplete balancesheets"
   ]
  },
  {
   "cell_type": "code",
   "execution_count": null,
   "metadata": {},
   "outputs": [
    {
     "name": "stdout",
     "output_type": "stream",
     "text": [
      "82\n"
     ]
    }
   ],
   "source": [
    "incomplete_ciks = bs_df[bs_df.null_count > 3].cik.unique()\n",
    "print(len(incomplete_ciks))"
   ]
  },
  {
   "cell_type": "code",
   "execution_count": null,
   "metadata": {},
   "outputs": [],
   "source": [
    "bs_cleaned = bs_df[~bs_df.cik.isin(incomplete_ciks)]"
   ]
  },
  {
   "cell_type": "code",
   "execution_count": null,
   "metadata": {},
   "outputs": [
    {
     "data": {
      "text/plain": [
       "(114481, 18)"
      ]
     },
     "execution_count": null,
     "metadata": {},
     "output_type": "execute_result"
    }
   ],
   "source": [
    "bs_cleaned.shape"
   ]
  },
  {
   "cell_type": "markdown",
   "metadata": {},
   "source": [
    "### save"
   ]
  },
  {
   "cell_type": "code",
   "execution_count": null,
   "metadata": {},
   "outputs": [],
   "source": [
    "bs_cleaned.drop(columns=analyze_fields).to_csv(all_processed_folder + \"bs_clean.csv\", index=False)"
   ]
  },
  {
   "cell_type": "markdown",
   "metadata": {},
   "source": [
    "## 02_Complete CF"
   ]
  },
  {
   "cell_type": "markdown",
   "metadata": {},
   "source": [
    "### load data"
   ]
  },
  {
   "cell_type": "code",
   "execution_count": null,
   "metadata": {},
   "outputs": [
    {
     "name": "stdout",
     "output_type": "stream",
     "text": [
      "lines with missing values:  1359\n"
     ]
    }
   ],
   "source": [
    "cf_df = load_data(\"cf\")\n",
    "count_null(cf_df)"
   ]
  },
  {
   "cell_type": "code",
   "execution_count": null,
   "metadata": {},
   "outputs": [
    {
     "data": {
      "text/plain": [
       "(116187, 18)"
      ]
     },
     "execution_count": null,
     "metadata": {},
     "output_type": "execute_result"
    }
   ],
   "source": [
    "cf_df.shape"
   ]
  },
  {
   "cell_type": "code",
   "execution_count": null,
   "metadata": {},
   "outputs": [
    {
     "name": "stdout",
     "output_type": "stream",
     "text": [
      "is there just one report per ADSH:  True\n"
     ]
    }
   ],
   "source": [
    "check_number_of_reports(cf_df)"
   ]
  },
  {
   "cell_type": "markdown",
   "metadata": {},
   "source": [
    "### complete CashIncreaseDecrease"
   ]
  },
  {
   "cell_type": "code",
   "execution_count": null,
   "metadata": {},
   "outputs": [],
   "source": [
    "# per definition CashIncreaseDecrease = NetCashProvidedByUsedInOperatingActivities + NetCashProvidedByUsedInInvestingActivities + NetCashProvidedByUsedInFinancingActivities\n",
    "do_set_cshinc = (cf_df.CashIncreaseDecrease_hj.isnull()  & cf_df.NetCashProvidedByUsedInOperatingActivities.notnull()  & \n",
    "                 cf_df.NetCashProvidedByUsedInInvestingActivities.notnull() & cf_df.NetCashProvidedByUsedInFinancingActivities.notnull())\n",
    "cf_df.loc[do_set_cshinc, 'CashIncreaseDecrease_hj'] = cf_df.loc[do_set_cshinc, 'NetCashProvidedByUsedInOperatingActivities'] \\\n",
    "                                                    + cf_df.loc[do_set_cshinc, 'NetCashProvidedByUsedInInvestingActivities'] \\\n",
    "                                                    + cf_df.loc[do_set_cshinc, 'NetCashProvidedByUsedInFinancingActivities'] "
   ]
  },
  {
   "cell_type": "code",
   "execution_count": null,
   "metadata": {},
   "outputs": [
    {
     "name": "stdout",
     "output_type": "stream",
     "text": [
      "lines with missing values:  377\n"
     ]
    }
   ],
   "source": [
    "count_null(cf_df)"
   ]
  },
  {
   "cell_type": "markdown",
   "metadata": {},
   "source": [
    "### complete NetCashProvidedByUsedInOperatingActivities"
   ]
  },
  {
   "cell_type": "code",
   "execution_count": null,
   "metadata": {},
   "outputs": [],
   "source": [
    "# per definition CashIncreaseDecrease = NetCashProvidedByUsedInOperatingActivities + NetCashProvidedByUsedInInvestingActivities + NetCashProvidedByUsedInFinancingActivities\n",
    "# hence NetCashProvidedByUsedInOperatingActivities = CashIncreaseDecrease - (NetCashProvidedByUsedInInvestingActivities + NetCashProvidedByUsedInFinancingActivities)\n",
    "do_set_netop = (cf_df.CashIncreaseDecrease_hj.notnull()  & cf_df.NetCashProvidedByUsedInOperatingActivities.isnull()  & \n",
    "                 cf_df.NetCashProvidedByUsedInInvestingActivities.notnull() & cf_df.NetCashProvidedByUsedInFinancingActivities.notnull())\n",
    "cf_df.loc[do_set_netop, 'NetCashProvidedByUsedInOperatingActivities'] = cf_df.loc[do_set_netop, 'CashIncreaseDecrease_hj'] \\\n",
    "                                                                      - (cf_df.loc[do_set_netop, 'NetCashProvidedByUsedInInvestingActivities']  + cf_df.loc[do_set_netop, 'NetCashProvidedByUsedInFinancingActivities'] )"
   ]
  },
  {
   "cell_type": "code",
   "execution_count": null,
   "metadata": {},
   "outputs": [
    {
     "name": "stdout",
     "output_type": "stream",
     "text": [
      "lines with missing values:  316\n"
     ]
    }
   ],
   "source": [
    "count_null(cf_df)"
   ]
  },
  {
   "cell_type": "markdown",
   "metadata": {},
   "source": [
    "### remove companies with incomplete cash flow statment"
   ]
  },
  {
   "cell_type": "code",
   "execution_count": null,
   "metadata": {},
   "outputs": [
    {
     "name": "stdout",
     "output_type": "stream",
     "text": [
      "146\n"
     ]
    }
   ],
   "source": [
    "incomplete_ciks = cf_df[cf_df.null_count > 1].cik.unique()\n",
    "print(len(incomplete_ciks))"
   ]
  },
  {
   "cell_type": "code",
   "execution_count": null,
   "metadata": {},
   "outputs": [],
   "source": [
    "cf_cleaned = cf_df[~cf_df.cik.isin(incomplete_ciks)]"
   ]
  },
  {
   "cell_type": "code",
   "execution_count": null,
   "metadata": {},
   "outputs": [
    {
     "data": {
      "text/plain": [
       "(112417, 18)"
      ]
     },
     "execution_count": null,
     "metadata": {},
     "output_type": "execute_result"
    }
   ],
   "source": [
    "cf_cleaned.shape"
   ]
  },
  {
   "cell_type": "markdown",
   "metadata": {},
   "source": [
    "### save"
   ]
  },
  {
   "cell_type": "code",
   "execution_count": null,
   "metadata": {},
   "outputs": [],
   "source": [
    "cf_cleaned.drop(columns=analyze_fields).to_csv(all_processed_folder + \"cf_clean.csv\", index=False)"
   ]
  },
  {
   "cell_type": "markdown",
   "metadata": {},
   "source": [
    "## 03_Complete IS"
   ]
  },
  {
   "cell_type": "markdown",
   "metadata": {},
   "source": [
    "### load data"
   ]
  },
  {
   "cell_type": "code",
   "execution_count": null,
   "metadata": {},
   "outputs": [
    {
     "name": "stdout",
     "output_type": "stream",
     "text": [
      "lines with missing values:  115883\n"
     ]
    }
   ],
   "source": [
    "is_df = load_data(\"is\")\n",
    "count_null(is_df)"
   ]
  },
  {
   "cell_type": "code",
   "execution_count": null,
   "metadata": {},
   "outputs": [
    {
     "data": {
      "text/plain": [
       "(115899, 21)"
      ]
     },
     "execution_count": null,
     "metadata": {},
     "output_type": "execute_result"
    }
   ],
   "source": [
    "is_df.shape"
   ]
  },
  {
   "cell_type": "code",
   "execution_count": null,
   "metadata": {},
   "outputs": [
    {
     "name": "stdout",
     "output_type": "stream",
     "text": [
      "is there just one report per ADSH:  True\n"
     ]
    }
   ],
   "source": [
    "check_number_of_reports(is_df)"
   ]
  },
  {
   "cell_type": "markdown",
   "metadata": {},
   "source": [
    "### complete GrossProfit"
   ]
  },
  {
   "cell_type": "code",
   "execution_count": null,
   "metadata": {},
   "outputs": [],
   "source": [
    "# per definition Grossprofit = Revenues - CostOfRevenue\n",
    "do_set_grossp = (is_df.Revenues_hj.notnull()  & is_df.CostOfRevenue_hj.notnull()  & is_df.GrossProfit.isnull())\n",
    "is_df.loc[do_set_grossp, 'GrossProfit'] = is_df.loc[do_set_grossp, 'Revenues_hj'] - is_df.loc[do_set_grossp, 'CostOfRevenue_hj']"
   ]
  },
  {
   "cell_type": "code",
   "execution_count": null,
   "metadata": {},
   "outputs": [],
   "source": [
    "# per definition: grossprofit - opexpenses = op-income -> grossprofit = opincome + opexpenses\n",
    "do_set_grossp1 = (is_df.OperatingExpenses.notnull()  & is_df.OperatingIncomeLoss_hj.notnull()  & is_df.GrossProfit.isnull())\n",
    "is_df.loc[do_set_grossp1, 'GrossProfit'] = is_df.loc[do_set_grossp1, 'OperatingIncomeLoss_hj'] + is_df.loc[do_set_grossp1, 'OperatingExpenses']"
   ]
  },
  {
   "cell_type": "markdown",
   "metadata": {},
   "source": [
    "### complete Revenues"
   ]
  },
  {
   "cell_type": "code",
   "execution_count": null,
   "metadata": {},
   "outputs": [],
   "source": [
    "# per definition Grossprofit = Revenues - CostOfRevenue -> Revenues = Grossprofit + CostOfRevenue\n",
    "do_set_rev = (is_df.Revenues_hj.isnull()  & is_df.CostOfRevenue_hj.notnull()  & is_df.GrossProfit.notnull())\n",
    "is_df.loc[do_set_rev, 'Revenues_hj'] = is_df.loc[do_set_rev, 'CostOfRevenue_hj'] - is_df.loc[do_set_rev, 'GrossProfit']\n",
    "set_to_zero_if_null(is_df,'Revenues_hj')"
   ]
  },
  {
   "cell_type": "markdown",
   "metadata": {},
   "source": [
    "### complete CostOfRevenue"
   ]
  },
  {
   "cell_type": "code",
   "execution_count": null,
   "metadata": {},
   "outputs": [],
   "source": [
    "# per definition Grossprofit = Revenues - CostOfRevenue -> CostOfRevenue = Revenues - Grossprofit\n",
    "do_set_cstrev = (is_df.Revenues_hj.notnull()  & is_df.CostOfRevenue_hj.isnull()  & is_df.GrossProfit.notnull())\n",
    "is_df.loc[do_set_cstrev, 'CostOfRevenue_hj'] = is_df.loc[do_set_cstrev, 'Revenues_hj'] - is_df.loc[do_set_cstrev, 'GrossProfit']"
   ]
  },
  {
   "cell_type": "markdown",
   "metadata": {},
   "source": [
    "### complete OperatingIncomeLoss"
   ]
  },
  {
   "cell_type": "code",
   "execution_count": null,
   "metadata": {},
   "outputs": [],
   "source": [
    "# per definition: opIncomeLoss = grossprofit - opexpenses\n",
    "do_set_opinc = (is_df.OperatingExpenses.notnull()  & is_df.GrossProfit.notnull()  & is_df.OperatingIncomeLoss_hj.isnull())\n",
    "is_df.loc[do_set_opinc, 'OperatingIncomeLoss_hj'] = is_df.loc[do_set_opinc, 'GrossProfit'] - is_df.loc[do_set_opinc, 'OperatingExpenses']"
   ]
  },
  {
   "cell_type": "markdown",
   "metadata": {},
   "source": [
    "### estimate OperatingIncomeLoss_hj based on GrossProfit and NetIncomeLoss"
   ]
  },
  {
   "cell_type": "code",
   "execution_count": null,
   "metadata": {},
   "outputs": [],
   "source": [
    "todo"
   ]
  },
  {
   "cell_type": "markdown",
   "metadata": {},
   "source": [
    "### estimate OperatingIncomeLoss_hj based on Revenues and NetIncomeLoss"
   ]
  },
  {
   "cell_type": "code",
   "execution_count": null,
   "metadata": {},
   "outputs": [],
   "source": [
    "todo"
   ]
  },
  {
   "cell_type": "markdown",
   "metadata": {},
   "source": [
    "### estimate GrossProfit based on Revenue and OperatingIncomeLoss"
   ]
  },
  {
   "cell_type": "code",
   "execution_count": null,
   "metadata": {},
   "outputs": [],
   "source": [
    "# if Grossprofit is not set, we can try to estimate it based on the average\n",
    "\n",
    "# based on existing GrossProfit Values, we calculate the average grossprofit between Revenue and OperatingIncome (in percent)\n",
    "calc_mean_gp_selection = ((is_df.Revenues_hj > 0.0)  & (is_df.GrossProfit.notnull()  & is_df.OperatingIncomeLoss_hj.notnull()))\n",
    "selected_cols = is_df[calc_mean_gp_selection][['Revenues_hj','GrossProfit','OperatingIncomeLoss_hj']].copy()\n",
    "\n",
    "avg_gross = ((selected_cols.Revenues_hj-selected_cols.GrossProfit)/(selected_cols.Revenues_hj-selected_cols.OperatingIncomeLoss_hj)).mean()\n",
    "\n",
    "# if we have revenue and operatingincome, we try estimate grossprofit based on the average position\n",
    "do_updated_grossprofit = (is_df.Revenues_hj.notnull() & is_df.OperatingIncomeLoss_hj.notnull() & is_df.GrossProfit.isnull())\n",
    "\n",
    "is_df.loc[do_updated_grossprofit,'GrossProfit'] = is_df.loc[do_updated_grossprofit,'Revenues_hj'] \\\n",
    "                                    - avg_gross * (is_df.loc[do_updated_grossprofit,'Revenues_hj'] - is_df.loc[do_updated_grossprofit,'OperatingIncomeLoss_hj'])\n"
   ]
  },
  {
   "cell_type": "code",
   "execution_count": null,
   "metadata": {},
   "outputs": [
    {
     "data": {
      "text/html": [
       "<div>\n",
       "<style scoped>\n",
       "    .dataframe tbody tr th:only-of-type {\n",
       "        vertical-align: middle;\n",
       "    }\n",
       "\n",
       "    .dataframe tbody tr th {\n",
       "        vertical-align: top;\n",
       "    }\n",
       "\n",
       "    .dataframe thead th {\n",
       "        text-align: right;\n",
       "    }\n",
       "</style>\n",
       "<table border=\"1\" class=\"dataframe\">\n",
       "  <thead>\n",
       "    <tr style=\"text-align: right;\">\n",
       "      <th></th>\n",
       "      <th>cik</th>\n",
       "      <th>ticker</th>\n",
       "      <th>adsh</th>\n",
       "      <th>Revenues_hj</th>\n",
       "      <th>GrossProfit</th>\n",
       "      <th>OperatingIncomeLoss_hj</th>\n",
       "    </tr>\n",
       "  </thead>\n",
       "  <tbody>\n",
       "    <tr>\n",
       "      <th>1</th>\n",
       "      <td>1465112</td>\n",
       "      <td>DTV</td>\n",
       "      <td>0001047469-14-001182</td>\n",
       "      <td>3.175400e+10</td>\n",
       "      <td>1.804006e+10</td>\n",
       "      <td>5.150000e+09</td>\n",
       "    </tr>\n",
       "    <tr>\n",
       "      <th>3</th>\n",
       "      <td>726854</td>\n",
       "      <td>CHCO</td>\n",
       "      <td>0000726854-19-000112</td>\n",
       "      <td>6.667900e+07</td>\n",
       "      <td>4.703133e+07</td>\n",
       "      <td>2.856400e+07</td>\n",
       "    </tr>\n",
       "    <tr>\n",
       "      <th>10</th>\n",
       "      <td>1527590</td>\n",
       "      <td>ZFC</td>\n",
       "      <td>0001558370-18-006746</td>\n",
       "      <td>6.157600e+07</td>\n",
       "      <td>3.836530e+07</td>\n",
       "      <td>1.654900e+07</td>\n",
       "    </tr>\n",
       "    <tr>\n",
       "      <th>11</th>\n",
       "      <td>1098972</td>\n",
       "      <td>AGEN</td>\n",
       "      <td>0001564590-16-018449</td>\n",
       "      <td>5.958876e+06</td>\n",
       "      <td>-1.153046e+07</td>\n",
       "      <td>-2.796912e+07</td>\n",
       "    </tr>\n",
       "    <tr>\n",
       "      <th>12</th>\n",
       "      <td>1275229</td>\n",
       "      <td>GMO</td>\n",
       "      <td>0001558370-18-002006</td>\n",
       "      <td>0.000000e+00</td>\n",
       "      <td>-3.674885e+06</td>\n",
       "      <td>-7.129000e+06</td>\n",
       "    </tr>\n",
       "    <tr>\n",
       "      <th>...</th>\n",
       "      <td>...</td>\n",
       "      <td>...</td>\n",
       "      <td>...</td>\n",
       "      <td>...</td>\n",
       "      <td>...</td>\n",
       "      <td>...</td>\n",
       "    </tr>\n",
       "    <tr>\n",
       "      <th>115885</th>\n",
       "      <td>1481506</td>\n",
       "      <td>PNG</td>\n",
       "      <td>0001104659-12-075408</td>\n",
       "      <td>6.612700e+07</td>\n",
       "      <td>4.228071e+07</td>\n",
       "      <td>1.986700e+07</td>\n",
       "    </tr>\n",
       "    <tr>\n",
       "      <th>115888</th>\n",
       "      <td>1297996</td>\n",
       "      <td>DLR</td>\n",
       "      <td>0001297996-17-000057</td>\n",
       "      <td>5.505690e+08</td>\n",
       "      <td>3.375267e+08</td>\n",
       "      <td>1.372830e+08</td>\n",
       "    </tr>\n",
       "    <tr>\n",
       "      <th>115895</th>\n",
       "      <td>1008586</td>\n",
       "      <td>STRM</td>\n",
       "      <td>0001558370-19-008592</td>\n",
       "      <td>4.793000e+06</td>\n",
       "      <td>2.099081e+06</td>\n",
       "      <td>-4.330000e+05</td>\n",
       "    </tr>\n",
       "    <tr>\n",
       "      <th>115896</th>\n",
       "      <td>44689</td>\n",
       "      <td>GYRO</td>\n",
       "      <td>0001437749-14-014713</td>\n",
       "      <td>6.349990e+05</td>\n",
       "      <td>-3.549586e+05</td>\n",
       "      <td>-1.285444e+06</td>\n",
       "    </tr>\n",
       "    <tr>\n",
       "      <th>115897</th>\n",
       "      <td>1125345</td>\n",
       "      <td>MGNX</td>\n",
       "      <td>0001125345-16-000070</td>\n",
       "      <td>3.255000e+06</td>\n",
       "      <td>-1.608596e+07</td>\n",
       "      <td>-3.426500e+07</td>\n",
       "    </tr>\n",
       "  </tbody>\n",
       "</table>\n",
       "<p>33065 rows × 6 columns</p>\n",
       "</div>"
      ],
      "text/plain": [
       "            cik ticker                  adsh   Revenues_hj   GrossProfit  \\\n",
       "1       1465112    DTV  0001047469-14-001182  3.175400e+10  1.804006e+10   \n",
       "3        726854   CHCO  0000726854-19-000112  6.667900e+07  4.703133e+07   \n",
       "10      1527590    ZFC  0001558370-18-006746  6.157600e+07  3.836530e+07   \n",
       "11      1098972   AGEN  0001564590-16-018449  5.958876e+06 -1.153046e+07   \n",
       "12      1275229    GMO  0001558370-18-002006  0.000000e+00 -3.674885e+06   \n",
       "...         ...    ...                   ...           ...           ...   \n",
       "115885  1481506    PNG  0001104659-12-075408  6.612700e+07  4.228071e+07   \n",
       "115888  1297996    DLR  0001297996-17-000057  5.505690e+08  3.375267e+08   \n",
       "115895  1008586   STRM  0001558370-19-008592  4.793000e+06  2.099081e+06   \n",
       "115896    44689   GYRO  0001437749-14-014713  6.349990e+05 -3.549586e+05   \n",
       "115897  1125345   MGNX  0001125345-16-000070  3.255000e+06 -1.608596e+07   \n",
       "\n",
       "        OperatingIncomeLoss_hj  \n",
       "1                 5.150000e+09  \n",
       "3                 2.856400e+07  \n",
       "10                1.654900e+07  \n",
       "11               -2.796912e+07  \n",
       "12               -7.129000e+06  \n",
       "...                        ...  \n",
       "115885            1.986700e+07  \n",
       "115888            1.372830e+08  \n",
       "115895           -4.330000e+05  \n",
       "115896           -1.285444e+06  \n",
       "115897           -3.426500e+07  \n",
       "\n",
       "[33065 rows x 6 columns]"
      ]
     },
     "execution_count": null,
     "metadata": {},
     "output_type": "execute_result"
    }
   ],
   "source": [
    "is_df[do_updated_grossprofit][['cik','ticker','adsh','Revenues_hj','GrossProfit','OperatingIncomeLoss_hj']]"
   ]
  },
  {
   "cell_type": "code",
   "execution_count": null,
   "metadata": {},
   "outputs": [],
   "source": []
  },
  {
   "cell_type": "code",
   "execution_count": null,
   "metadata": {},
   "outputs": [
    {
     "data": {
      "text/plain": [
       "4478"
      ]
     },
     "execution_count": null,
     "metadata": {},
     "output_type": "execute_result"
    }
   ],
   "source": [
    "(is_df.Revenues_hj.isnull() | is_df.GrossProfit.isnull() | is_df.OperatingIncomeLoss_hj.isnull() | is_df.NetIncomeLoss_hj.isnull()).sum()"
   ]
  },
  {
   "cell_type": "code",
   "execution_count": null,
   "metadata": {},
   "outputs": [],
   "source": []
  },
  {
   "cell_type": "markdown",
   "metadata": {},
   "source": [
    "OperatingIncome\n",
    "- können wir nur von oben nauch unten nachrechnen, da keine differenz zu netincome vorhanden ist\n",
    "- man könnte opertating income schätzen, falls REvenue und NetIncome vorhanden ist -> gleich wie auch GrossProfit geschätzt werden kann\n",
    "\n",
    "Grossprofit if null\n",
    "- falls CostAndExpenses + OperationgIncome ~= Revenue\n",
    "  dann könnte man grossprofit schätzen -> Operating income + 0.5* CostAndExpenses\n",
    "  \n",
    "  "
   ]
  },
  {
   "cell_type": "markdown",
   "metadata": {},
   "source": [
    "## XX_Trials"
   ]
  },
  {
   "cell_type": "code",
   "execution_count": null,
   "metadata": {},
   "outputs": [
    {
     "data": {
      "text/html": [
       "<div>\n",
       "<style scoped>\n",
       "    .dataframe tbody tr th:only-of-type {\n",
       "        vertical-align: middle;\n",
       "    }\n",
       "\n",
       "    .dataframe tbody tr th {\n",
       "        vertical-align: top;\n",
       "    }\n",
       "\n",
       "    .dataframe thead th {\n",
       "        text-align: right;\n",
       "    }\n",
       "</style>\n",
       "<table border=\"1\" class=\"dataframe\">\n",
       "  <thead>\n",
       "    <tr style=\"text-align: right;\">\n",
       "      <th></th>\n",
       "      <th>cik</th>\n",
       "      <th>adsh</th>\n",
       "      <th>Revenues_hj</th>\n",
       "      <th>GrossProfit</th>\n",
       "      <th>OperatingIncomeLoss_hj</th>\n",
       "      <th>NetIncomeLoss_hj</th>\n",
       "      <th>OperatingExpenses</th>\n",
       "      <th>CostsAndExpenses</th>\n",
       "    </tr>\n",
       "  </thead>\n",
       "  <tbody>\n",
       "    <tr>\n",
       "      <th>386</th>\n",
       "      <td>918646</td>\n",
       "      <td>0001564590-15-008677</td>\n",
       "      <td>3.289880e+08</td>\n",
       "      <td>4.429400e+07</td>\n",
       "      <td>NaN</td>\n",
       "      <td>2.981900e+07</td>\n",
       "      <td>NaN</td>\n",
       "      <td>NaN</td>\n",
       "    </tr>\n",
       "    <tr>\n",
       "      <th>638</th>\n",
       "      <td>701374</td>\n",
       "      <td>0001047469-13-001833</td>\n",
       "      <td>1.070332e+09</td>\n",
       "      <td>9.901630e+08</td>\n",
       "      <td>NaN</td>\n",
       "      <td>3.540090e+08</td>\n",
       "      <td>NaN</td>\n",
       "      <td>NaN</td>\n",
       "    </tr>\n",
       "    <tr>\n",
       "      <th>673</th>\n",
       "      <td>1298675</td>\n",
       "      <td>0001298675-19-000015</td>\n",
       "      <td>1.528450e+08</td>\n",
       "      <td>1.014200e+08</td>\n",
       "      <td>NaN</td>\n",
       "      <td>3.549800e+07</td>\n",
       "      <td>NaN</td>\n",
       "      <td>99014000.0</td>\n",
       "    </tr>\n",
       "    <tr>\n",
       "      <th>713</th>\n",
       "      <td>799850</td>\n",
       "      <td>0001171843-16-012077</td>\n",
       "      <td>1.458400e+08</td>\n",
       "      <td>7.032700e+07</td>\n",
       "      <td>NaN</td>\n",
       "      <td>7.099000e+06</td>\n",
       "      <td>NaN</td>\n",
       "      <td>134502000.0</td>\n",
       "    </tr>\n",
       "    <tr>\n",
       "      <th>1100</th>\n",
       "      <td>914025</td>\n",
       "      <td>0000914025-19-000045</td>\n",
       "      <td>4.477670e+08</td>\n",
       "      <td>2.126460e+08</td>\n",
       "      <td>NaN</td>\n",
       "      <td>-4.487100e+07</td>\n",
       "      <td>NaN</td>\n",
       "      <td>NaN</td>\n",
       "    </tr>\n",
       "    <tr>\n",
       "      <th>...</th>\n",
       "      <td>...</td>\n",
       "      <td>...</td>\n",
       "      <td>...</td>\n",
       "      <td>...</td>\n",
       "      <td>...</td>\n",
       "      <td>...</td>\n",
       "      <td>...</td>\n",
       "      <td>...</td>\n",
       "    </tr>\n",
       "    <tr>\n",
       "      <th>113606</th>\n",
       "      <td>29915</td>\n",
       "      <td>0000029915-15-000055</td>\n",
       "      <td>1.203600e+10</td>\n",
       "      <td>2.687000e+09</td>\n",
       "      <td>NaN</td>\n",
       "      <td>1.375000e+09</td>\n",
       "      <td>NaN</td>\n",
       "      <td>NaN</td>\n",
       "    </tr>\n",
       "    <tr>\n",
       "      <th>113696</th>\n",
       "      <td>895051</td>\n",
       "      <td>0001144204-17-017953</td>\n",
       "      <td>0.000000e+00</td>\n",
       "      <td>0.000000e+00</td>\n",
       "      <td>NaN</td>\n",
       "      <td>-9.453488e+06</td>\n",
       "      <td>NaN</td>\n",
       "      <td>9420610.0</td>\n",
       "    </tr>\n",
       "    <tr>\n",
       "      <th>115371</th>\n",
       "      <td>918646</td>\n",
       "      <td>0001564590-18-025641</td>\n",
       "      <td>3.814990e+08</td>\n",
       "      <td>9.793100e+07</td>\n",
       "      <td>NaN</td>\n",
       "      <td>7.260300e+07</td>\n",
       "      <td>NaN</td>\n",
       "      <td>NaN</td>\n",
       "    </tr>\n",
       "    <tr>\n",
       "      <th>115748</th>\n",
       "      <td>1466085</td>\n",
       "      <td>0001564590-20-005043</td>\n",
       "      <td>2.032230e+08</td>\n",
       "      <td>1.954970e+08</td>\n",
       "      <td>NaN</td>\n",
       "      <td>4.589600e+07</td>\n",
       "      <td>NaN</td>\n",
       "      <td>152854000.0</td>\n",
       "    </tr>\n",
       "    <tr>\n",
       "      <th>115889</th>\n",
       "      <td>217346</td>\n",
       "      <td>0001104659-19-055774</td>\n",
       "      <td>3.259000e+09</td>\n",
       "      <td>5.120000e+08</td>\n",
       "      <td>NaN</td>\n",
       "      <td>2.200000e+08</td>\n",
       "      <td>NaN</td>\n",
       "      <td>NaN</td>\n",
       "    </tr>\n",
       "  </tbody>\n",
       "</table>\n",
       "<p>306 rows × 8 columns</p>\n",
       "</div>"
      ],
      "text/plain": [
       "            cik                  adsh   Revenues_hj   GrossProfit  \\\n",
       "386      918646  0001564590-15-008677  3.289880e+08  4.429400e+07   \n",
       "638      701374  0001047469-13-001833  1.070332e+09  9.901630e+08   \n",
       "673     1298675  0001298675-19-000015  1.528450e+08  1.014200e+08   \n",
       "713      799850  0001171843-16-012077  1.458400e+08  7.032700e+07   \n",
       "1100     914025  0000914025-19-000045  4.477670e+08  2.126460e+08   \n",
       "...         ...                   ...           ...           ...   \n",
       "113606    29915  0000029915-15-000055  1.203600e+10  2.687000e+09   \n",
       "113696   895051  0001144204-17-017953  0.000000e+00  0.000000e+00   \n",
       "115371   918646  0001564590-18-025641  3.814990e+08  9.793100e+07   \n",
       "115748  1466085  0001564590-20-005043  2.032230e+08  1.954970e+08   \n",
       "115889   217346  0001104659-19-055774  3.259000e+09  5.120000e+08   \n",
       "\n",
       "        OperatingIncomeLoss_hj  NetIncomeLoss_hj  OperatingExpenses  \\\n",
       "386                        NaN      2.981900e+07                NaN   \n",
       "638                        NaN      3.540090e+08                NaN   \n",
       "673                        NaN      3.549800e+07                NaN   \n",
       "713                        NaN      7.099000e+06                NaN   \n",
       "1100                       NaN     -4.487100e+07                NaN   \n",
       "...                        ...               ...                ...   \n",
       "113606                     NaN      1.375000e+09                NaN   \n",
       "113696                     NaN     -9.453488e+06                NaN   \n",
       "115371                     NaN      7.260300e+07                NaN   \n",
       "115748                     NaN      4.589600e+07                NaN   \n",
       "115889                     NaN      2.200000e+08                NaN   \n",
       "\n",
       "        CostsAndExpenses  \n",
       "386                  NaN  \n",
       "638                  NaN  \n",
       "673           99014000.0  \n",
       "713          134502000.0  \n",
       "1100                 NaN  \n",
       "...                  ...  \n",
       "113606               NaN  \n",
       "113696         9420610.0  \n",
       "115371               NaN  \n",
       "115748       152854000.0  \n",
       "115889               NaN  \n",
       "\n",
       "[306 rows x 8 columns]"
      ]
     },
     "execution_count": null,
     "metadata": {},
     "output_type": "execute_result"
    }
   ],
   "source": [
    "is_df[((is_df.Revenues_hj.notnull() & is_df.GrossProfit.notnull() & is_df.OperatingIncomeLoss_hj.isnull() & is_df.NetIncomeLoss_hj.notnull() ))] \\\n",
    "  [['cik','adsh','Revenues_hj','GrossProfit','OperatingIncomeLoss_hj', 'NetIncomeLoss_hj', 'OperatingExpenses','CostsAndExpenses']] #721"
   ]
  },
  {
   "cell_type": "code",
   "execution_count": null,
   "metadata": {},
   "outputs": [
    {
     "data": {
      "text/html": [
       "<div>\n",
       "<style scoped>\n",
       "    .dataframe tbody tr th:only-of-type {\n",
       "        vertical-align: middle;\n",
       "    }\n",
       "\n",
       "    .dataframe tbody tr th {\n",
       "        vertical-align: top;\n",
       "    }\n",
       "\n",
       "    .dataframe thead th {\n",
       "        text-align: right;\n",
       "    }\n",
       "</style>\n",
       "<table border=\"1\" class=\"dataframe\">\n",
       "  <thead>\n",
       "    <tr style=\"text-align: right;\">\n",
       "      <th></th>\n",
       "      <th>cik</th>\n",
       "      <th>adsh</th>\n",
       "      <th>Revenues_hj</th>\n",
       "      <th>GrossProfit</th>\n",
       "      <th>OperatingIncomeLoss_hj</th>\n",
       "      <th>NetIncomeLoss_hj</th>\n",
       "      <th>OperatingExpenses</th>\n",
       "      <th>CostsAndExpenses</th>\n",
       "    </tr>\n",
       "  </thead>\n",
       "  <tbody>\n",
       "    <tr>\n",
       "      <th>55</th>\n",
       "      <td>1399541</td>\n",
       "      <td>0001193125-12-462451</td>\n",
       "      <td>1.797200e+06</td>\n",
       "      <td>NaN</td>\n",
       "      <td>NaN</td>\n",
       "      <td>-631900.0</td>\n",
       "      <td>NaN</td>\n",
       "      <td>2429200.0</td>\n",
       "    </tr>\n",
       "    <tr>\n",
       "      <th>58</th>\n",
       "      <td>1571283</td>\n",
       "      <td>0001571283-18-000030</td>\n",
       "      <td>4.853600e+07</td>\n",
       "      <td>NaN</td>\n",
       "      <td>NaN</td>\n",
       "      <td>14766000.0</td>\n",
       "      <td>37574000.0</td>\n",
       "      <td>NaN</td>\n",
       "    </tr>\n",
       "    <tr>\n",
       "      <th>75</th>\n",
       "      <td>1507986</td>\n",
       "      <td>0001144204-12-029739</td>\n",
       "      <td>0.000000e+00</td>\n",
       "      <td>NaN</td>\n",
       "      <td>NaN</td>\n",
       "      <td>-286262.0</td>\n",
       "      <td>NaN</td>\n",
       "      <td>290266.0</td>\n",
       "    </tr>\n",
       "    <tr>\n",
       "      <th>84</th>\n",
       "      <td>1046050</td>\n",
       "      <td>0000939057-18-000051</td>\n",
       "      <td>1.317200e+07</td>\n",
       "      <td>NaN</td>\n",
       "      <td>NaN</td>\n",
       "      <td>3614000.0</td>\n",
       "      <td>278000.0</td>\n",
       "      <td>NaN</td>\n",
       "    </tr>\n",
       "    <tr>\n",
       "      <th>85</th>\n",
       "      <td>1405528</td>\n",
       "      <td>0001104659-20-058630</td>\n",
       "      <td>-2.501457e+07</td>\n",
       "      <td>NaN</td>\n",
       "      <td>NaN</td>\n",
       "      <td>-25119958.0</td>\n",
       "      <td>NaN</td>\n",
       "      <td>NaN</td>\n",
       "    </tr>\n",
       "    <tr>\n",
       "      <th>...</th>\n",
       "      <td>...</td>\n",
       "      <td>...</td>\n",
       "      <td>...</td>\n",
       "      <td>...</td>\n",
       "      <td>...</td>\n",
       "      <td>...</td>\n",
       "      <td>...</td>\n",
       "      <td>...</td>\n",
       "    </tr>\n",
       "    <tr>\n",
       "      <th>115889</th>\n",
       "      <td>217346</td>\n",
       "      <td>0001104659-19-055774</td>\n",
       "      <td>3.259000e+09</td>\n",
       "      <td>512000000.0</td>\n",
       "      <td>NaN</td>\n",
       "      <td>220000000.0</td>\n",
       "      <td>NaN</td>\n",
       "      <td>NaN</td>\n",
       "    </tr>\n",
       "    <tr>\n",
       "      <th>115892</th>\n",
       "      <td>65172</td>\n",
       "      <td>0001104659-14-044501</td>\n",
       "      <td>5.034350e+05</td>\n",
       "      <td>NaN</td>\n",
       "      <td>NaN</td>\n",
       "      <td>137218.0</td>\n",
       "      <td>NaN</td>\n",
       "      <td>NaN</td>\n",
       "    </tr>\n",
       "    <tr>\n",
       "      <th>115893</th>\n",
       "      <td>825313</td>\n",
       "      <td>0000825313-18-000058</td>\n",
       "      <td>0.000000e+00</td>\n",
       "      <td>NaN</td>\n",
       "      <td>NaN</td>\n",
       "      <td>65900000.0</td>\n",
       "      <td>NaN</td>\n",
       "      <td>NaN</td>\n",
       "    </tr>\n",
       "    <tr>\n",
       "      <th>115894</th>\n",
       "      <td>60086</td>\n",
       "      <td>0001193125-12-441141</td>\n",
       "      <td>3.715000e+09</td>\n",
       "      <td>NaN</td>\n",
       "      <td>NaN</td>\n",
       "      <td>177000000.0</td>\n",
       "      <td>NaN</td>\n",
       "      <td>NaN</td>\n",
       "    </tr>\n",
       "    <tr>\n",
       "      <th>115898</th>\n",
       "      <td>1103601</td>\n",
       "      <td>0001193125-12-208968</td>\n",
       "      <td>0.000000e+00</td>\n",
       "      <td>NaN</td>\n",
       "      <td>NaN</td>\n",
       "      <td>74179000.0</td>\n",
       "      <td>NaN</td>\n",
       "      <td>NaN</td>\n",
       "    </tr>\n",
       "  </tbody>\n",
       "</table>\n",
       "<p>4478 rows × 8 columns</p>\n",
       "</div>"
      ],
      "text/plain": [
       "            cik                  adsh   Revenues_hj  GrossProfit  \\\n",
       "55      1399541  0001193125-12-462451  1.797200e+06          NaN   \n",
       "58      1571283  0001571283-18-000030  4.853600e+07          NaN   \n",
       "75      1507986  0001144204-12-029739  0.000000e+00          NaN   \n",
       "84      1046050  0000939057-18-000051  1.317200e+07          NaN   \n",
       "85      1405528  0001104659-20-058630 -2.501457e+07          NaN   \n",
       "...         ...                   ...           ...          ...   \n",
       "115889   217346  0001104659-19-055774  3.259000e+09  512000000.0   \n",
       "115892    65172  0001104659-14-044501  5.034350e+05          NaN   \n",
       "115893   825313  0000825313-18-000058  0.000000e+00          NaN   \n",
       "115894    60086  0001193125-12-441141  3.715000e+09          NaN   \n",
       "115898  1103601  0001193125-12-208968  0.000000e+00          NaN   \n",
       "\n",
       "        OperatingIncomeLoss_hj  NetIncomeLoss_hj  OperatingExpenses  \\\n",
       "55                         NaN         -631900.0                NaN   \n",
       "58                         NaN        14766000.0         37574000.0   \n",
       "75                         NaN         -286262.0                NaN   \n",
       "84                         NaN         3614000.0           278000.0   \n",
       "85                         NaN       -25119958.0                NaN   \n",
       "...                        ...               ...                ...   \n",
       "115889                     NaN       220000000.0                NaN   \n",
       "115892                     NaN          137218.0                NaN   \n",
       "115893                     NaN        65900000.0                NaN   \n",
       "115894                     NaN       177000000.0                NaN   \n",
       "115898                     NaN        74179000.0                NaN   \n",
       "\n",
       "        CostsAndExpenses  \n",
       "55             2429200.0  \n",
       "58                   NaN  \n",
       "75              290266.0  \n",
       "84                   NaN  \n",
       "85                   NaN  \n",
       "...                  ...  \n",
       "115889               NaN  \n",
       "115892               NaN  \n",
       "115893               NaN  \n",
       "115894               NaN  \n",
       "115898               NaN  \n",
       "\n",
       "[4478 rows x 8 columns]"
      ]
     },
     "execution_count": null,
     "metadata": {},
     "output_type": "execute_result"
    }
   ],
   "source": [
    "is_df[((is_df.Revenues_hj.isnull() | is_df.GrossProfit.isnull() | is_df.OperatingIncomeLoss_hj.isnull() | is_df.NetIncomeLoss_hj.isnull() ))] \\\n",
    "  [['cik','adsh','Revenues_hj','GrossProfit','OperatingIncomeLoss_hj', 'NetIncomeLoss_hj', 'OperatingExpenses','CostsAndExpenses']] #721"
   ]
  },
  {
   "cell_type": "code",
   "execution_count": null,
   "metadata": {},
   "outputs": [
    {
     "data": {
      "text/html": [
       "<div>\n",
       "<style scoped>\n",
       "    .dataframe tbody tr th:only-of-type {\n",
       "        vertical-align: middle;\n",
       "    }\n",
       "\n",
       "    .dataframe tbody tr th {\n",
       "        vertical-align: top;\n",
       "    }\n",
       "\n",
       "    .dataframe thead th {\n",
       "        text-align: right;\n",
       "    }\n",
       "</style>\n",
       "<table border=\"1\" class=\"dataframe\">\n",
       "  <thead>\n",
       "    <tr style=\"text-align: right;\">\n",
       "      <th></th>\n",
       "      <th>cik</th>\n",
       "      <th>adsh</th>\n",
       "      <th>CostsAndExpenses</th>\n",
       "      <th>OperatingExpenses</th>\n",
       "      <th>GrossProfit</th>\n",
       "      <th>OperatingIncomeLoss_hj</th>\n",
       "    </tr>\n",
       "  </thead>\n",
       "  <tbody>\n",
       "    <tr>\n",
       "      <th>55</th>\n",
       "      <td>1399541</td>\n",
       "      <td>0001193125-12-462451</td>\n",
       "      <td>2.429200e+06</td>\n",
       "      <td>NaN</td>\n",
       "      <td>NaN</td>\n",
       "      <td>NaN</td>\n",
       "    </tr>\n",
       "    <tr>\n",
       "      <th>124</th>\n",
       "      <td>1399542</td>\n",
       "      <td>0001193125-13-135825</td>\n",
       "      <td>7.784700e+06</td>\n",
       "      <td>NaN</td>\n",
       "      <td>NaN</td>\n",
       "      <td>NaN</td>\n",
       "    </tr>\n",
       "    <tr>\n",
       "      <th>150</th>\n",
       "      <td>820027</td>\n",
       "      <td>0000820027-14-000020</td>\n",
       "      <td>9.229000e+09</td>\n",
       "      <td>NaN</td>\n",
       "      <td>NaN</td>\n",
       "      <td>NaN</td>\n",
       "    </tr>\n",
       "    <tr>\n",
       "      <th>156</th>\n",
       "      <td>1283810</td>\n",
       "      <td>0001193125-12-462787</td>\n",
       "      <td>4.129000e+05</td>\n",
       "      <td>NaN</td>\n",
       "      <td>NaN</td>\n",
       "      <td>NaN</td>\n",
       "    </tr>\n",
       "    <tr>\n",
       "      <th>184</th>\n",
       "      <td>1393311</td>\n",
       "      <td>0001393311-19-000041</td>\n",
       "      <td>3.710000e+08</td>\n",
       "      <td>NaN</td>\n",
       "      <td>NaN</td>\n",
       "      <td>NaN</td>\n",
       "    </tr>\n",
       "    <tr>\n",
       "      <th>...</th>\n",
       "      <td>...</td>\n",
       "      <td>...</td>\n",
       "      <td>...</td>\n",
       "      <td>...</td>\n",
       "      <td>...</td>\n",
       "      <td>...</td>\n",
       "    </tr>\n",
       "    <tr>\n",
       "      <th>115241</th>\n",
       "      <td>1357361</td>\n",
       "      <td>0001193125-13-135714</td>\n",
       "      <td>6.750500e+06</td>\n",
       "      <td>NaN</td>\n",
       "      <td>NaN</td>\n",
       "      <td>NaN</td>\n",
       "    </tr>\n",
       "    <tr>\n",
       "      <th>115365</th>\n",
       "      <td>1399542</td>\n",
       "      <td>0001564590-15-007375</td>\n",
       "      <td>7.840000e+05</td>\n",
       "      <td>NaN</td>\n",
       "      <td>NaN</td>\n",
       "      <td>NaN</td>\n",
       "    </tr>\n",
       "    <tr>\n",
       "      <th>115606</th>\n",
       "      <td>1037540</td>\n",
       "      <td>0001656423-20-000007</td>\n",
       "      <td>1.914925e+09</td>\n",
       "      <td>NaN</td>\n",
       "      <td>NaN</td>\n",
       "      <td>NaN</td>\n",
       "    </tr>\n",
       "    <tr>\n",
       "      <th>115685</th>\n",
       "      <td>1479094</td>\n",
       "      <td>0001104659-12-035291</td>\n",
       "      <td>1.543100e+07</td>\n",
       "      <td>NaN</td>\n",
       "      <td>NaN</td>\n",
       "      <td>NaN</td>\n",
       "    </tr>\n",
       "    <tr>\n",
       "      <th>115827</th>\n",
       "      <td>1524358</td>\n",
       "      <td>0001524358-20-000011</td>\n",
       "      <td>3.897000e+09</td>\n",
       "      <td>NaN</td>\n",
       "      <td>NaN</td>\n",
       "      <td>NaN</td>\n",
       "    </tr>\n",
       "  </tbody>\n",
       "</table>\n",
       "<p>850 rows × 6 columns</p>\n",
       "</div>"
      ],
      "text/plain": [
       "            cik                  adsh  CostsAndExpenses  OperatingExpenses  \\\n",
       "55      1399541  0001193125-12-462451      2.429200e+06                NaN   \n",
       "124     1399542  0001193125-13-135825      7.784700e+06                NaN   \n",
       "150      820027  0000820027-14-000020      9.229000e+09                NaN   \n",
       "156     1283810  0001193125-12-462787      4.129000e+05                NaN   \n",
       "184     1393311  0001393311-19-000041      3.710000e+08                NaN   \n",
       "...         ...                   ...               ...                ...   \n",
       "115241  1357361  0001193125-13-135714      6.750500e+06                NaN   \n",
       "115365  1399542  0001564590-15-007375      7.840000e+05                NaN   \n",
       "115606  1037540  0001656423-20-000007      1.914925e+09                NaN   \n",
       "115685  1479094  0001104659-12-035291      1.543100e+07                NaN   \n",
       "115827  1524358  0001524358-20-000011      3.897000e+09                NaN   \n",
       "\n",
       "        GrossProfit  OperatingIncomeLoss_hj  \n",
       "55              NaN                     NaN  \n",
       "124             NaN                     NaN  \n",
       "150             NaN                     NaN  \n",
       "156             NaN                     NaN  \n",
       "184             NaN                     NaN  \n",
       "...             ...                     ...  \n",
       "115241          NaN                     NaN  \n",
       "115365          NaN                     NaN  \n",
       "115606          NaN                     NaN  \n",
       "115685          NaN                     NaN  \n",
       "115827          NaN                     NaN  \n",
       "\n",
       "[850 rows x 6 columns]"
      ]
     },
     "execution_count": null,
     "metadata": {},
     "output_type": "execute_result"
    }
   ],
   "source": [
    "is_df[((is_df.CostsAndExpenses.notnull() & is_df.GrossProfit.isnull() & is_df.OperatingIncomeLoss_hj.isnull()))][['cik','adsh','CostsAndExpenses', 'OperatingExpenses','GrossProfit','OperatingIncomeLoss_hj']] #721\n",
    "#is_df[((is_df.OperatingExpenses.notnull() & is_df.GrossProfit.isnull() & is_df.OperatingIncomeLoss_hj.notnull()))][['cik','adsh','OperatingExpenses','GrossProfit','OperatingIncomeLoss_hj']] #11618"
   ]
  },
  {
   "cell_type": "code",
   "execution_count": null,
   "metadata": {},
   "outputs": [
    {
     "data": {
      "text/plain": [
       "cik                           0\n",
       "ticker                        0\n",
       "adsh                          0\n",
       "period                        0\n",
       "filed                         0\n",
       "form                          0\n",
       "qtrs                          0\n",
       "fp                            1\n",
       "Revenues_hj                   0\n",
       "CostOfRevenue_hj          36655\n",
       "GrossProfit                3590\n",
       "OperatingExpenses         73773\n",
       "OperatingIncomeLoss_hj     3903\n",
       "CostsAndExpenses          87531\n",
       "NetIncomeLoss_hj            621\n",
       "NetIncomeLoss             15026\n",
       "ProfitLoss                76441\n",
       "SharesOutstanding_hj      40947\n",
       "EarningsPerShare_hj        7099\n",
       "value_count                   0\n",
       "null_count                    0\n",
       "dtype: int64"
      ]
     },
     "execution_count": null,
     "metadata": {},
     "output_type": "execute_result"
    }
   ],
   "source": [
    "is_df.isnull().sum(axis=0)"
   ]
  },
  {
   "cell_type": "code",
   "execution_count": null,
   "metadata": {},
   "outputs": [
    {
     "data": {
      "text/plain": [
       "0000049826-16-000259    1\n",
       "0001193125-13-432993    1\n",
       "0000023666-13-000019    1\n",
       "0001437749-17-013867    1\n",
       "0001104659-15-059052    1\n",
       "                       ..\n",
       "0001564590-16-014500    1\n",
       "0000808326-17-000011    1\n",
       "0001144204-14-064668    1\n",
       "0001104659-15-075802    1\n",
       "0001628280-19-012903    1\n",
       "Name: adsh, Length: 115899, dtype: int64"
      ]
     },
     "execution_count": null,
     "metadata": {},
     "output_type": "execute_result"
    }
   ],
   "source": [
    "is_df.adsh.value_counts()"
   ]
  },
  {
   "cell_type": "code",
   "execution_count": null,
   "metadata": {},
   "outputs": [
    {
     "name": "stdout",
     "output_type": "stream",
     "text": [
      "316\n"
     ]
    },
    {
     "data": {
      "image/png": "[encoded data removed]",
      "text/plain": [
       "<Figure size 360x360 with 1 Axes>"
      ]
     },
     "metadata": {},
     "output_type": "display_data"
    }
   ],
   "source": [
    "missing_value_report(cf_df)"
   ]
  },
  {
   "cell_type": "code",
   "execution_count": null,
   "metadata": {},
   "outputs": [
    {
     "data": {
      "text/plain": [
       "True"
      ]
     },
     "execution_count": null,
     "metadata": {},
     "output_type": "execute_result"
    }
   ],
   "source": [
    "len(bs_df.adsh.unique()) == bs_df.shape[0]"
   ]
  },
  {
   "cell_type": "code",
   "execution_count": null,
   "metadata": {},
   "outputs": [
    {
     "data": {
      "text/plain": [
       "cik                                                    int64\n",
       "ticker                                                object\n",
       "adsh                                                  object\n",
       "period                                        datetime64[ns]\n",
       "filed                                         datetime64[ns]\n",
       "form                                                  object\n",
       "qtrs                                                   int64\n",
       "fp                                                    object\n",
       "CashIncreaseDecrease_hj                              float64\n",
       "NetIncomeLoss                                        float64\n",
       "ProfitLoss                                           float64\n",
       "NetCashProvidedByUsedInOperatingActivities           float64\n",
       "NetCashProvidedByUsedInInvestingActivities           float64\n",
       "NetCashProvidedByUsedInFinancingActivities           float64\n",
       "PaymentsOfDividendsTotal_hj                          float64\n",
       "PaymentsForRepurchaseOfStockTotal_hj                 float64\n",
       "value_count                                            int64\n",
       "null_count                                             int64\n",
       "dtype: object"
      ]
     },
     "execution_count": null,
     "metadata": {},
     "output_type": "execute_result"
    }
   ],
   "source": [
    "cf_df.dtypes"
   ]
  },
  {
   "cell_type": "code",
   "execution_count": null,
   "metadata": {},
   "outputs": [
    {
     "data": {
      "text/plain": [
       "1349"
      ]
     },
     "execution_count": null,
     "metadata": {},
     "output_type": "execute_result"
    }
   ],
   "source": [
    "sum(bs_df.qtrs>0)"
   ]
  },
  {
   "cell_type": "markdown",
   "metadata": {},
   "source": [
    "\n",
    "IS\n",
    "Was kann man alles berechnen, wenn vorhanden\n",
    "GrossProfit = Revenues - costofsales\n",
    "OperatingIncome = (GrossProfit) - CostsAndExpenses\n",
    "OperatingIncome = Revenues - CostsAndExpenses"
   ]
  },
  {
   "cell_type": "code",
   "execution_count": null,
   "metadata": {},
   "outputs": [
    {
     "name": "stdout",
     "output_type": "stream",
     "text": [
      "132\n",
      "REG     20\n",
      "LM      19\n",
      "SKT      5\n",
      "WLS      4\n",
      "BMR      3\n",
      "        ..\n",
      "PAH      1\n",
      "WGL      1\n",
      "KODK     1\n",
      "WM       1\n",
      "AEE      1\n",
      "Name: ticker, Length: 66, dtype: int64\n"
     ]
    }
   ],
   "source": [
    "df = cf_df[(cf_df.null_count == 4)]\n",
    "print(df.shape[0])\n",
    "print(df.ticker.value_counts())"
   ]
  },
  {
   "cell_type": "code",
   "execution_count": null,
   "metadata": {},
   "outputs": [
    {
     "data": {
      "text/html": [
       "<div>\n",
       "<style scoped>\n",
       "    .dataframe tbody tr th:only-of-type {\n",
       "        vertical-align: middle;\n",
       "    }\n",
       "\n",
       "    .dataframe tbody tr th {\n",
       "        vertical-align: top;\n",
       "    }\n",
       "\n",
       "    .dataframe thead th {\n",
       "        text-align: right;\n",
       "    }\n",
       "</style>\n",
       "<table border=\"1\" class=\"dataframe\">\n",
       "  <thead>\n",
       "    <tr style=\"text-align: right;\">\n",
       "      <th></th>\n",
       "      <th>cik</th>\n",
       "      <th>ticker</th>\n",
       "      <th>adsh</th>\n",
       "      <th>period</th>\n",
       "      <th>filed</th>\n",
       "      <th>form</th>\n",
       "      <th>qtrs</th>\n",
       "      <th>fp</th>\n",
       "      <th>CashIncreaseDecrease_hj</th>\n",
       "      <th>NetIncomeLoss</th>\n",
       "      <th>ProfitLoss</th>\n",
       "      <th>NetCashProvidedByUsedInOperatingActivities</th>\n",
       "      <th>NetCashProvidedByUsedInInvestingActivities</th>\n",
       "      <th>NetCashProvidedByUsedInFinancingActivities</th>\n",
       "      <th>PaymentsOfDividendsTotal_hj</th>\n",
       "      <th>PaymentsForRepurchaseOfStockTotal_hj</th>\n",
       "      <th>value_count</th>\n",
       "      <th>null_count</th>\n",
       "    </tr>\n",
       "  </thead>\n",
       "  <tbody>\n",
       "    <tr>\n",
       "      <th>4076</th>\n",
       "      <td>910606</td>\n",
       "      <td>REG</td>\n",
       "      <td>0000910606-13-000009</td>\n",
       "      <td>2012-12-31</td>\n",
       "      <td>2013-03-01</td>\n",
       "      <td>10-K</td>\n",
       "      <td>4</td>\n",
       "      <td>FY</td>\n",
       "      <td>NaN</td>\n",
       "      <td>NaN</td>\n",
       "      <td>NaN</td>\n",
       "      <td>NaN</td>\n",
       "      <td>0.0</td>\n",
       "      <td>0.0</td>\n",
       "      <td>0.0</td>\n",
       "      <td>323125000.0</td>\n",
       "      <td>4</td>\n",
       "      <td>4</td>\n",
       "    </tr>\n",
       "    <tr>\n",
       "      <th>9886</th>\n",
       "      <td>910606</td>\n",
       "      <td>REG</td>\n",
       "      <td>0000910606-14-000008</td>\n",
       "      <td>2014-03-31</td>\n",
       "      <td>2014-05-08</td>\n",
       "      <td>10-Q</td>\n",
       "      <td>1</td>\n",
       "      <td>Q1</td>\n",
       "      <td>NaN</td>\n",
       "      <td>NaN</td>\n",
       "      <td>NaN</td>\n",
       "      <td>NaN</td>\n",
       "      <td>0.0</td>\n",
       "      <td>0.0</td>\n",
       "      <td>0.0</td>\n",
       "      <td>0.0</td>\n",
       "      <td>4</td>\n",
       "      <td>4</td>\n",
       "    </tr>\n",
       "    <tr>\n",
       "      <th>30704</th>\n",
       "      <td>910606</td>\n",
       "      <td>REG</td>\n",
       "      <td>0000910606-14-000033</td>\n",
       "      <td>2014-09-30</td>\n",
       "      <td>2014-11-04</td>\n",
       "      <td>10-Q</td>\n",
       "      <td>3</td>\n",
       "      <td>Q3</td>\n",
       "      <td>NaN</td>\n",
       "      <td>NaN</td>\n",
       "      <td>NaN</td>\n",
       "      <td>NaN</td>\n",
       "      <td>0.0</td>\n",
       "      <td>0.0</td>\n",
       "      <td>0.0</td>\n",
       "      <td>0.0</td>\n",
       "      <td>4</td>\n",
       "      <td>4</td>\n",
       "    </tr>\n",
       "    <tr>\n",
       "      <th>42848</th>\n",
       "      <td>910606</td>\n",
       "      <td>REG</td>\n",
       "      <td>0000910606-16-000073</td>\n",
       "      <td>2016-06-30</td>\n",
       "      <td>2016-08-05</td>\n",
       "      <td>10-Q</td>\n",
       "      <td>2</td>\n",
       "      <td>Q2</td>\n",
       "      <td>NaN</td>\n",
       "      <td>NaN</td>\n",
       "      <td>NaN</td>\n",
       "      <td>NaN</td>\n",
       "      <td>0.0</td>\n",
       "      <td>0.0</td>\n",
       "      <td>0.0</td>\n",
       "      <td>0.0</td>\n",
       "      <td>4</td>\n",
       "      <td>4</td>\n",
       "    </tr>\n",
       "    <tr>\n",
       "      <th>44157</th>\n",
       "      <td>910606</td>\n",
       "      <td>REG</td>\n",
       "      <td>0000910606-13-000030</td>\n",
       "      <td>2013-09-30</td>\n",
       "      <td>2013-11-01</td>\n",
       "      <td>10-Q</td>\n",
       "      <td>3</td>\n",
       "      <td>Q3</td>\n",
       "      <td>NaN</td>\n",
       "      <td>NaN</td>\n",
       "      <td>NaN</td>\n",
       "      <td>NaN</td>\n",
       "      <td>0.0</td>\n",
       "      <td>0.0</td>\n",
       "      <td>0.0</td>\n",
       "      <td>0.0</td>\n",
       "      <td>4</td>\n",
       "      <td>4</td>\n",
       "    </tr>\n",
       "    <tr>\n",
       "      <th>45278</th>\n",
       "      <td>910606</td>\n",
       "      <td>REG</td>\n",
       "      <td>0000910606-13-000026</td>\n",
       "      <td>2013-06-30</td>\n",
       "      <td>2013-08-02</td>\n",
       "      <td>10-Q</td>\n",
       "      <td>2</td>\n",
       "      <td>Q2</td>\n",
       "      <td>NaN</td>\n",
       "      <td>NaN</td>\n",
       "      <td>NaN</td>\n",
       "      <td>NaN</td>\n",
       "      <td>0.0</td>\n",
       "      <td>0.0</td>\n",
       "      <td>0.0</td>\n",
       "      <td>0.0</td>\n",
       "      <td>4</td>\n",
       "      <td>4</td>\n",
       "    </tr>\n",
       "    <tr>\n",
       "      <th>49340</th>\n",
       "      <td>910606</td>\n",
       "      <td>REG</td>\n",
       "      <td>0000910606-18-000030</td>\n",
       "      <td>2018-06-30</td>\n",
       "      <td>2018-08-03</td>\n",
       "      <td>10-Q</td>\n",
       "      <td>2</td>\n",
       "      <td>Q2</td>\n",
       "      <td>NaN</td>\n",
       "      <td>NaN</td>\n",
       "      <td>NaN</td>\n",
       "      <td>NaN</td>\n",
       "      <td>0.0</td>\n",
       "      <td>0.0</td>\n",
       "      <td>0.0</td>\n",
       "      <td>0.0</td>\n",
       "      <td>4</td>\n",
       "      <td>4</td>\n",
       "    </tr>\n",
       "    <tr>\n",
       "      <th>50505</th>\n",
       "      <td>910606</td>\n",
       "      <td>REG</td>\n",
       "      <td>0000910606-15-000006</td>\n",
       "      <td>2014-12-31</td>\n",
       "      <td>2015-02-20</td>\n",
       "      <td>10-K</td>\n",
       "      <td>4</td>\n",
       "      <td>FY</td>\n",
       "      <td>NaN</td>\n",
       "      <td>NaN</td>\n",
       "      <td>NaN</td>\n",
       "      <td>NaN</td>\n",
       "      <td>0.0</td>\n",
       "      <td>0.0</td>\n",
       "      <td>0.0</td>\n",
       "      <td>0.0</td>\n",
       "      <td>4</td>\n",
       "      <td>4</td>\n",
       "    </tr>\n",
       "    <tr>\n",
       "      <th>52818</th>\n",
       "      <td>910606</td>\n",
       "      <td>REG</td>\n",
       "      <td>0000910606-14-000029</td>\n",
       "      <td>2014-06-30</td>\n",
       "      <td>2014-08-08</td>\n",
       "      <td>10-Q</td>\n",
       "      <td>2</td>\n",
       "      <td>Q2</td>\n",
       "      <td>NaN</td>\n",
       "      <td>NaN</td>\n",
       "      <td>NaN</td>\n",
       "      <td>NaN</td>\n",
       "      <td>0.0</td>\n",
       "      <td>0.0</td>\n",
       "      <td>0.0</td>\n",
       "      <td>0.0</td>\n",
       "      <td>4</td>\n",
       "      <td>4</td>\n",
       "    </tr>\n",
       "    <tr>\n",
       "      <th>55494</th>\n",
       "      <td>910606</td>\n",
       "      <td>REG</td>\n",
       "      <td>0000910606-16-000047</td>\n",
       "      <td>2015-12-31</td>\n",
       "      <td>2016-02-18</td>\n",
       "      <td>10-K</td>\n",
       "      <td>4</td>\n",
       "      <td>FY</td>\n",
       "      <td>NaN</td>\n",
       "      <td>NaN</td>\n",
       "      <td>NaN</td>\n",
       "      <td>NaN</td>\n",
       "      <td>0.0</td>\n",
       "      <td>0.0</td>\n",
       "      <td>0.0</td>\n",
       "      <td>0.0</td>\n",
       "      <td>4</td>\n",
       "      <td>4</td>\n",
       "    </tr>\n",
       "    <tr>\n",
       "      <th>69126</th>\n",
       "      <td>910606</td>\n",
       "      <td>REG</td>\n",
       "      <td>0000910606-18-000010</td>\n",
       "      <td>2017-12-31</td>\n",
       "      <td>2018-02-27</td>\n",
       "      <td>10-K</td>\n",
       "      <td>4</td>\n",
       "      <td>FY</td>\n",
       "      <td>NaN</td>\n",
       "      <td>NaN</td>\n",
       "      <td>NaN</td>\n",
       "      <td>NaN</td>\n",
       "      <td>0.0</td>\n",
       "      <td>0.0</td>\n",
       "      <td>0.0</td>\n",
       "      <td>0.0</td>\n",
       "      <td>4</td>\n",
       "      <td>4</td>\n",
       "    </tr>\n",
       "    <tr>\n",
       "      <th>69750</th>\n",
       "      <td>910606</td>\n",
       "      <td>REG</td>\n",
       "      <td>0000910606-15-000035</td>\n",
       "      <td>2015-09-30</td>\n",
       "      <td>2015-11-05</td>\n",
       "      <td>10-Q</td>\n",
       "      <td>3</td>\n",
       "      <td>Q3</td>\n",
       "      <td>NaN</td>\n",
       "      <td>NaN</td>\n",
       "      <td>NaN</td>\n",
       "      <td>NaN</td>\n",
       "      <td>0.0</td>\n",
       "      <td>0.0</td>\n",
       "      <td>0.0</td>\n",
       "      <td>0.0</td>\n",
       "      <td>4</td>\n",
       "      <td>4</td>\n",
       "    </tr>\n",
       "    <tr>\n",
       "      <th>74344</th>\n",
       "      <td>910606</td>\n",
       "      <td>REG</td>\n",
       "      <td>0000910606-15-000030</td>\n",
       "      <td>2015-06-30</td>\n",
       "      <td>2015-08-06</td>\n",
       "      <td>10-Q</td>\n",
       "      <td>2</td>\n",
       "      <td>Q2</td>\n",
       "      <td>NaN</td>\n",
       "      <td>NaN</td>\n",
       "      <td>NaN</td>\n",
       "      <td>NaN</td>\n",
       "      <td>0.0</td>\n",
       "      <td>0.0</td>\n",
       "      <td>0.0</td>\n",
       "      <td>0.0</td>\n",
       "      <td>4</td>\n",
       "      <td>4</td>\n",
       "    </tr>\n",
       "    <tr>\n",
       "      <th>79577</th>\n",
       "      <td>910606</td>\n",
       "      <td>REG</td>\n",
       "      <td>0000910606-19-000006</td>\n",
       "      <td>2018-12-31</td>\n",
       "      <td>2019-02-21</td>\n",
       "      <td>10-K</td>\n",
       "      <td>4</td>\n",
       "      <td>FY</td>\n",
       "      <td>NaN</td>\n",
       "      <td>NaN</td>\n",
       "      <td>NaN</td>\n",
       "      <td>NaN</td>\n",
       "      <td>0.0</td>\n",
       "      <td>0.0</td>\n",
       "      <td>0.0</td>\n",
       "      <td>0.0</td>\n",
       "      <td>4</td>\n",
       "      <td>4</td>\n",
       "    </tr>\n",
       "    <tr>\n",
       "      <th>83669</th>\n",
       "      <td>910606</td>\n",
       "      <td>REG</td>\n",
       "      <td>0000910606-13-000016</td>\n",
       "      <td>2013-03-31</td>\n",
       "      <td>2013-05-09</td>\n",
       "      <td>10-Q</td>\n",
       "      <td>1</td>\n",
       "      <td>Q1</td>\n",
       "      <td>NaN</td>\n",
       "      <td>NaN</td>\n",
       "      <td>NaN</td>\n",
       "      <td>NaN</td>\n",
       "      <td>0.0</td>\n",
       "      <td>0.0</td>\n",
       "      <td>0.0</td>\n",
       "      <td>0.0</td>\n",
       "      <td>4</td>\n",
       "      <td>4</td>\n",
       "    </tr>\n",
       "    <tr>\n",
       "      <th>86371</th>\n",
       "      <td>910606</td>\n",
       "      <td>REG</td>\n",
       "      <td>0000910606-15-000020</td>\n",
       "      <td>2015-03-31</td>\n",
       "      <td>2015-05-07</td>\n",
       "      <td>10-Q</td>\n",
       "      <td>1</td>\n",
       "      <td>Q1</td>\n",
       "      <td>NaN</td>\n",
       "      <td>NaN</td>\n",
       "      <td>NaN</td>\n",
       "      <td>NaN</td>\n",
       "      <td>0.0</td>\n",
       "      <td>0.0</td>\n",
       "      <td>0.0</td>\n",
       "      <td>0.0</td>\n",
       "      <td>4</td>\n",
       "      <td>4</td>\n",
       "    </tr>\n",
       "    <tr>\n",
       "      <th>91110</th>\n",
       "      <td>910606</td>\n",
       "      <td>REG</td>\n",
       "      <td>0000910606-16-000063</td>\n",
       "      <td>2016-03-31</td>\n",
       "      <td>2016-05-06</td>\n",
       "      <td>10-Q</td>\n",
       "      <td>1</td>\n",
       "      <td>Q1</td>\n",
       "      <td>NaN</td>\n",
       "      <td>NaN</td>\n",
       "      <td>NaN</td>\n",
       "      <td>NaN</td>\n",
       "      <td>0.0</td>\n",
       "      <td>0.0</td>\n",
       "      <td>0.0</td>\n",
       "      <td>0.0</td>\n",
       "      <td>4</td>\n",
       "      <td>4</td>\n",
       "    </tr>\n",
       "    <tr>\n",
       "      <th>91690</th>\n",
       "      <td>910606</td>\n",
       "      <td>REG</td>\n",
       "      <td>0000910606-18-000034</td>\n",
       "      <td>2018-09-30</td>\n",
       "      <td>2018-11-05</td>\n",
       "      <td>10-Q</td>\n",
       "      <td>3</td>\n",
       "      <td>Q3</td>\n",
       "      <td>NaN</td>\n",
       "      <td>NaN</td>\n",
       "      <td>NaN</td>\n",
       "      <td>NaN</td>\n",
       "      <td>0.0</td>\n",
       "      <td>0.0</td>\n",
       "      <td>0.0</td>\n",
       "      <td>0.0</td>\n",
       "      <td>4</td>\n",
       "      <td>4</td>\n",
       "    </tr>\n",
       "    <tr>\n",
       "      <th>98040</th>\n",
       "      <td>910606</td>\n",
       "      <td>REG</td>\n",
       "      <td>0000910606-19-000014</td>\n",
       "      <td>2019-03-31</td>\n",
       "      <td>2019-05-10</td>\n",
       "      <td>10-Q</td>\n",
       "      <td>1</td>\n",
       "      <td>Q1</td>\n",
       "      <td>NaN</td>\n",
       "      <td>NaN</td>\n",
       "      <td>NaN</td>\n",
       "      <td>NaN</td>\n",
       "      <td>0.0</td>\n",
       "      <td>0.0</td>\n",
       "      <td>0.0</td>\n",
       "      <td>0.0</td>\n",
       "      <td>4</td>\n",
       "      <td>4</td>\n",
       "    </tr>\n",
       "    <tr>\n",
       "      <th>102690</th>\n",
       "      <td>910606</td>\n",
       "      <td>REG</td>\n",
       "      <td>0000910606-14-000004</td>\n",
       "      <td>2013-12-31</td>\n",
       "      <td>2014-02-19</td>\n",
       "      <td>10-K</td>\n",
       "      <td>4</td>\n",
       "      <td>FY</td>\n",
       "      <td>NaN</td>\n",
       "      <td>NaN</td>\n",
       "      <td>NaN</td>\n",
       "      <td>NaN</td>\n",
       "      <td>0.0</td>\n",
       "      <td>0.0</td>\n",
       "      <td>0.0</td>\n",
       "      <td>0.0</td>\n",
       "      <td>4</td>\n",
       "      <td>4</td>\n",
       "    </tr>\n",
       "  </tbody>\n",
       "</table>\n",
       "</div>"
      ],
      "text/plain": [
       "           cik ticker                  adsh     period      filed  form  qtrs  \\\n",
       "4076    910606    REG  0000910606-13-000009 2012-12-31 2013-03-01  10-K     4   \n",
       "9886    910606    REG  0000910606-14-000008 2014-03-31 2014-05-08  10-Q     1   \n",
       "30704   910606    REG  0000910606-14-000033 2014-09-30 2014-11-04  10-Q     3   \n",
       "42848   910606    REG  0000910606-16-000073 2016-06-30 2016-08-05  10-Q     2   \n",
       "44157   910606    REG  0000910606-13-000030 2013-09-30 2013-11-01  10-Q     3   \n",
       "45278   910606    REG  0000910606-13-000026 2013-06-30 2013-08-02  10-Q     2   \n",
       "49340   910606    REG  0000910606-18-000030 2018-06-30 2018-08-03  10-Q     2   \n",
       "50505   910606    REG  0000910606-15-000006 2014-12-31 2015-02-20  10-K     4   \n",
       "52818   910606    REG  0000910606-14-000029 2014-06-30 2014-08-08  10-Q     2   \n",
       "55494   910606    REG  0000910606-16-000047 2015-12-31 2016-02-18  10-K     4   \n",
       "69126   910606    REG  0000910606-18-000010 2017-12-31 2018-02-27  10-K     4   \n",
       "69750   910606    REG  0000910606-15-000035 2015-09-30 2015-11-05  10-Q     3   \n",
       "74344   910606    REG  0000910606-15-000030 2015-06-30 2015-08-06  10-Q     2   \n",
       "79577   910606    REG  0000910606-19-000006 2018-12-31 2019-02-21  10-K     4   \n",
       "83669   910606    REG  0000910606-13-000016 2013-03-31 2013-05-09  10-Q     1   \n",
       "86371   910606    REG  0000910606-15-000020 2015-03-31 2015-05-07  10-Q     1   \n",
       "91110   910606    REG  0000910606-16-000063 2016-03-31 2016-05-06  10-Q     1   \n",
       "91690   910606    REG  0000910606-18-000034 2018-09-30 2018-11-05  10-Q     3   \n",
       "98040   910606    REG  0000910606-19-000014 2019-03-31 2019-05-10  10-Q     1   \n",
       "102690  910606    REG  0000910606-14-000004 2013-12-31 2014-02-19  10-K     4   \n",
       "\n",
       "        fp  CashIncreaseDecrease_hj  NetIncomeLoss  ProfitLoss  \\\n",
       "4076    FY                      NaN            NaN         NaN   \n",
       "9886    Q1                      NaN            NaN         NaN   \n",
       "30704   Q3                      NaN            NaN         NaN   \n",
       "42848   Q2                      NaN            NaN         NaN   \n",
       "44157   Q3                      NaN            NaN         NaN   \n",
       "45278   Q2                      NaN            NaN         NaN   \n",
       "49340   Q2                      NaN            NaN         NaN   \n",
       "50505   FY                      NaN            NaN         NaN   \n",
       "52818   Q2                      NaN            NaN         NaN   \n",
       "55494   FY                      NaN            NaN         NaN   \n",
       "69126   FY                      NaN            NaN         NaN   \n",
       "69750   Q3                      NaN            NaN         NaN   \n",
       "74344   Q2                      NaN            NaN         NaN   \n",
       "79577   FY                      NaN            NaN         NaN   \n",
       "83669   Q1                      NaN            NaN         NaN   \n",
       "86371   Q1                      NaN            NaN         NaN   \n",
       "91110   Q1                      NaN            NaN         NaN   \n",
       "91690   Q3                      NaN            NaN         NaN   \n",
       "98040   Q1                      NaN            NaN         NaN   \n",
       "102690  FY                      NaN            NaN         NaN   \n",
       "\n",
       "        NetCashProvidedByUsedInOperatingActivities  \\\n",
       "4076                                           NaN   \n",
       "9886                                           NaN   \n",
       "30704                                          NaN   \n",
       "42848                                          NaN   \n",
       "44157                                          NaN   \n",
       "45278                                          NaN   \n",
       "49340                                          NaN   \n",
       "50505                                          NaN   \n",
       "52818                                          NaN   \n",
       "55494                                          NaN   \n",
       "69126                                          NaN   \n",
       "69750                                          NaN   \n",
       "74344                                          NaN   \n",
       "79577                                          NaN   \n",
       "83669                                          NaN   \n",
       "86371                                          NaN   \n",
       "91110                                          NaN   \n",
       "91690                                          NaN   \n",
       "98040                                          NaN   \n",
       "102690                                         NaN   \n",
       "\n",
       "        NetCashProvidedByUsedInInvestingActivities  \\\n",
       "4076                                           0.0   \n",
       "9886                                           0.0   \n",
       "30704                                          0.0   \n",
       "42848                                          0.0   \n",
       "44157                                          0.0   \n",
       "45278                                          0.0   \n",
       "49340                                          0.0   \n",
       "50505                                          0.0   \n",
       "52818                                          0.0   \n",
       "55494                                          0.0   \n",
       "69126                                          0.0   \n",
       "69750                                          0.0   \n",
       "74344                                          0.0   \n",
       "79577                                          0.0   \n",
       "83669                                          0.0   \n",
       "86371                                          0.0   \n",
       "91110                                          0.0   \n",
       "91690                                          0.0   \n",
       "98040                                          0.0   \n",
       "102690                                         0.0   \n",
       "\n",
       "        NetCashProvidedByUsedInFinancingActivities  \\\n",
       "4076                                           0.0   \n",
       "9886                                           0.0   \n",
       "30704                                          0.0   \n",
       "42848                                          0.0   \n",
       "44157                                          0.0   \n",
       "45278                                          0.0   \n",
       "49340                                          0.0   \n",
       "50505                                          0.0   \n",
       "52818                                          0.0   \n",
       "55494                                          0.0   \n",
       "69126                                          0.0   \n",
       "69750                                          0.0   \n",
       "74344                                          0.0   \n",
       "79577                                          0.0   \n",
       "83669                                          0.0   \n",
       "86371                                          0.0   \n",
       "91110                                          0.0   \n",
       "91690                                          0.0   \n",
       "98040                                          0.0   \n",
       "102690                                         0.0   \n",
       "\n",
       "        PaymentsOfDividendsTotal_hj  PaymentsForRepurchaseOfStockTotal_hj  \\\n",
       "4076                            0.0                           323125000.0   \n",
       "9886                            0.0                                   0.0   \n",
       "30704                           0.0                                   0.0   \n",
       "42848                           0.0                                   0.0   \n",
       "44157                           0.0                                   0.0   \n",
       "45278                           0.0                                   0.0   \n",
       "49340                           0.0                                   0.0   \n",
       "50505                           0.0                                   0.0   \n",
       "52818                           0.0                                   0.0   \n",
       "55494                           0.0                                   0.0   \n",
       "69126                           0.0                                   0.0   \n",
       "69750                           0.0                                   0.0   \n",
       "74344                           0.0                                   0.0   \n",
       "79577                           0.0                                   0.0   \n",
       "83669                           0.0                                   0.0   \n",
       "86371                           0.0                                   0.0   \n",
       "91110                           0.0                                   0.0   \n",
       "91690                           0.0                                   0.0   \n",
       "98040                           0.0                                   0.0   \n",
       "102690                          0.0                                   0.0   \n",
       "\n",
       "        value_count  null_count  \n",
       "4076              4           4  \n",
       "9886              4           4  \n",
       "30704             4           4  \n",
       "42848             4           4  \n",
       "44157             4           4  \n",
       "45278             4           4  \n",
       "49340             4           4  \n",
       "50505             4           4  \n",
       "52818             4           4  \n",
       "55494             4           4  \n",
       "69126             4           4  \n",
       "69750             4           4  \n",
       "74344             4           4  \n",
       "79577             4           4  \n",
       "83669             4           4  \n",
       "86371             4           4  \n",
       "91110             4           4  \n",
       "91690             4           4  \n",
       "98040             4           4  \n",
       "102690            4           4  "
      ]
     },
     "execution_count": null,
     "metadata": {},
     "output_type": "execute_result"
    }
   ],
   "source": [
    "df[df.ticker=='REG']"
   ]
  },
  {
   "cell_type": "code",
   "execution_count": null,
   "metadata": {},
   "outputs": [
    {
     "ename": "NameError",
     "evalue": "name 'cdf_df' is not defined",
     "output_type": "error",
     "traceback": [
      "\u001b[1;31m---------------------------------------------------------------------------\u001b[0m",
      "\u001b[1;31mNameError\u001b[0m                                 Traceback (most recent call last)",
      "\u001b[1;32m<ipython-input-189-bd1bd0492fc3>\u001b[0m in \u001b[0;36m<module>\u001b[1;34m\u001b[0m\n\u001b[1;32m----> 1\u001b[1;33m \u001b[0mcf_df_missing\u001b[0m \u001b[1;33m=\u001b[0m \u001b[0mcf_df\u001b[0m\u001b[1;33m[\u001b[0m\u001b[0mcdf_df\u001b[0m\u001b[1;33m.\u001b[0m\u001b[0mnull_count\u001b[0m \u001b[1;33m>\u001b[0m \u001b[1;36m0\u001b[0m\u001b[1;33m]\u001b[0m\u001b[1;33m\u001b[0m\u001b[1;33m\u001b[0m\u001b[0m\n\u001b[0m\u001b[0;32m      2\u001b[0m \u001b[0mprint\u001b[0m\u001b[1;33m(\u001b[0m\u001b[0mbs_df_missing\u001b[0m\u001b[1;33m.\u001b[0m\u001b[0mshape\u001b[0m\u001b[1;33m[\u001b[0m\u001b[1;36m0\u001b[0m\u001b[1;33m]\u001b[0m\u001b[1;33m)\u001b[0m\u001b[1;33m\u001b[0m\u001b[1;33m\u001b[0m\u001b[0m\n\u001b[0;32m      3\u001b[0m \u001b[0msns\u001b[0m\u001b[1;33m.\u001b[0m\u001b[0mcatplot\u001b[0m\u001b[1;33m(\u001b[0m\u001b[0mx\u001b[0m\u001b[1;33m=\u001b[0m\u001b[1;34m'null_count'\u001b[0m\u001b[1;33m,\u001b[0m \u001b[0mkind\u001b[0m\u001b[1;33m=\u001b[0m\u001b[1;34m'count'\u001b[0m\u001b[1;33m,\u001b[0m \u001b[0mdata\u001b[0m\u001b[1;33m=\u001b[0m\u001b[0mcf_df_missing\u001b[0m\u001b[1;33m)\u001b[0m\u001b[1;33m\u001b[0m\u001b[1;33m\u001b[0m\u001b[0m\n",
      "\u001b[1;31mNameError\u001b[0m: name 'cdf_df' is not defined"
     ]
    }
   ],
   "source": [
    "cf_df_missing = cf_df[cdf_df.null_count > 0]\n",
    "print(bs_df_missing.shape[0])\n",
    "sns.catplot(x='null_count', kind='count', data=cf_df_missing)"
   ]
  },
  {
   "cell_type": "markdown",
   "metadata": {},
   "source": [
    "bs_df[bs_df.fp.isna()]"
   ]
  },
  {
   "cell_type": "markdown",
   "metadata": {},
   "source": [
    "BS\n",
    "Checks:\n",
    "- Assets = Liabilities + Equity"
   ]
  },
  {
   "cell_type": "code",
   "execution_count": null,
   "metadata": {},
   "outputs": [],
   "source": [
    "CF\n",
    "Cash Differenz kann auch aufgrund des vergangenen geschäftsbericht ermittlet werden -> Position Cash im BS"
   ]
  },
  {
   "cell_type": "code",
   "execution_count": null,
   "metadata": {},
   "outputs": [],
   "source": []
  },
  {
   "cell_type": "code",
   "execution_count": null,
   "metadata": {},
   "outputs": [],
   "source": []
  },
  {
   "cell_type": "code",
   "execution_count": null,
   "metadata": {},
   "outputs": [],
   "source": []
  },
  {
   "cell_type": "code",
   "execution_count": null,
   "metadata": {},
   "outputs": [],
   "source": []
  }
 ],
 "metadata": {
  "kernelspec": {
   "display_name": "Python 3",
   "language": "python",
   "name": "python3"
  }
 },
 "nbformat": 4,
 "nbformat_minor": 4
}
