{
 "cells": [
  {
   "cell_type": "code",
   "execution_count": null,
   "metadata": {},
   "outputs": [],
   "source": [
    "# default_exp uniform"
   ]
  },
  {
   "cell_type": "code",
   "execution_count": null,
   "metadata": {},
   "outputs": [],
   "source": [
    "#hide\n",
    "from nbdev.showdoc import *"
   ]
  },
  {
   "cell_type": "code",
   "execution_count": null,
   "metadata": {},
   "outputs": [],
   "source": [
    "#hide\n",
    "# stellt sicher, dass beim verändern der core library diese wieder neu geladen wird\n",
    "%load_ext autoreload\n",
    "%autoreload 2"
   ]
  },
  {
   "cell_type": "markdown",
   "metadata": {},
   "source": [
    "# todos\n",
    "\n",
    "Beim pivotieren muss auch quarters berücksichtigt werden. Wir müssen prüfen, ob complete reports mit der gleichen Informtion in qtrs zusammengestellt werden können.. und dann aufgrund qrts erst später filtern.\n",
    "einfach nur wegfiltern von quaters 2 + 3 ist sicher falsch...\n"
   ]
  },
  {
   "cell_type": "markdown",
   "metadata": {},
   "source": [
    "# uniform and complete"
   ]
  },
  {
   "cell_type": "markdown",
   "metadata": {},
   "source": [
    "Once the data is pivoted, we want to create a dataset that contains only columns which appear in every report.\n",
    "\n",
    "For instance, we want to have all the columns 'Assets', 'AssetsCurrent', 'AssetsNoncurrent' to be present in every balancesheet. However, not all desired tags are present and we have to find ways to calculate and complete them. Often, only 2 of 'Assets', 'AssetsCurrent', 'AssetsNoncurrent' are present, however, since Assets = AssetsCurrent + AssetsNoncurrent we can calculate the third.\n",
    "\n",
    "Sometimes different tags are used to express the same meaning, so we have to figure out which tags belong together."
   ]
  },
  {
   "cell_type": "markdown",
   "metadata": {},
   "source": [
    "## Basic Settings"
   ]
  },
  {
   "cell_type": "code",
   "execution_count": null,
   "metadata": {},
   "outputs": [],
   "source": [
    "# imports\n",
    "from bfh_mt_hs2020_sec_data.core import get_spark_session # initialze spark\n",
    "from pathlib import Path\n",
    "from typing import List, Tuple, Union, Set\n",
    "from pyspark.sql.dataframe import DataFrame\n",
    "from pyspark.sql.functions import col\n",
    "\n",
    "import pandas as pd\n",
    "\n",
    "import shutil          # provides high level file operations\n",
    "import time            # used to measure execution time\n",
    "import os\n",
    "import sys"
   ]
  },
  {
   "cell_type": "code",
   "execution_count": null,
   "metadata": {},
   "outputs": [],
   "source": [
    "all_pivot_selected_folder  = \"D:/data/parq_pivot_select\"\n",
    "all_pivoted_folder = \"D:/data/parq_pivot_split\"\n",
    "all_processed_folder = \"D:/data/parq_processed/\"\n",
    "\n",
    "col_list =    [\"stmt\",\"cik\",\"ticker\", \"adsh\",\"period\",\"form\",\"tag\",\"value\",\"report\", \"line\", \"fp\", \"uom\"]\n",
    "pivot_attrs = ['value', 'report', 'line']\n",
    "statements =  ['IS','CF','CP','BS','CI','EQ','UN']"
   ]
  },
  {
   "cell_type": "code",
   "execution_count": null,
   "metadata": {},
   "outputs": [
    {
     "data": {
      "text/html": [
       "\n",
       "            <div>\n",
       "                <p><b>SparkSession - in-memory</b></p>\n",
       "                \n",
       "        <div>\n",
       "            <p><b>SparkContext</b></p>\n",
       "\n",
       "            <p><a href=\"http://192.168.0.163:4040\">Spark UI</a></p>\n",
       "\n",
       "            <dl>\n",
       "              <dt>Version</dt>\n",
       "                <dd><code>v2.4.5</code></dd>\n",
       "              <dt>Master</dt>\n",
       "                <dd><code>local[*]</code></dd>\n",
       "              <dt>AppName</dt>\n",
       "                <dd><code>default</code></dd>\n",
       "            </dl>\n",
       "        </div>\n",
       "        \n",
       "            </div>\n",
       "        "
      ],
      "text/plain": [
       "<pyspark.sql.session.SparkSession at 0x22ccf165f08>"
      ]
     },
     "execution_count": null,
     "metadata": {},
     "output_type": "execute_result"
    }
   ],
   "source": [
    "# init Spark\n",
    "spark = get_spark_session() # Session anlegen\n",
    "spark # display the moste important information of the session"
   ]
  },
  {
   "cell_type": "markdown",
   "metadata": {},
   "source": [
    "## 00_Tools"
   ]
  },
  {
   "cell_type": "markdown",
   "metadata": {},
   "source": [
    "These are different helper methods which make transformation of the data easier"
   ]
  },
  {
   "cell_type": "code",
   "execution_count": null,
   "metadata": {},
   "outputs": [],
   "source": [
    "def load_data(stmt:str, attr:str):\n",
    "    \"\"\" Loads the pivoted data into a spark dataframe.\n",
    "    \"\"\"\n",
    "    return spark.read.parquet(all_pivoted_folder + \"/\" + stmt + \"/\" + attr).cache()"
   ]
  },
  {
   "cell_type": "code",
   "execution_count": null,
   "metadata": {},
   "outputs": [],
   "source": [
    "def spark_shape(self):\n",
    "    return (self.count(), len(self.columns))"
   ]
  },
  {
   "cell_type": "code",
   "execution_count": null,
   "metadata": {},
   "outputs": [],
   "source": [
    "### Get count of both null and missing values in pyspark\n",
    "from pyspark.sql.functions import isnan, when, count, col\n",
    "def get_empty_count(df):\n",
    "    return df.select([count(when(col(c).isNull(), c)).alias(c) for c in df.columns])"
   ]
  },
  {
   "cell_type": "code",
   "execution_count": null,
   "metadata": {},
   "outputs": [],
   "source": [
    "def complete_addition(df, sumcol, addcol1, addcol2):\n",
    "    \"\"\" \n",
    "    If there are columns that share the relation sumcol = addcol1 + addcol2\n",
    "    this function ensures that a missing value is calculated based on the other two   \n",
    "    \"\"\"\n",
    "    missingtwo = (df[sumcol].notnull()) & (df[addcol1].notnull()) & (df[addcol2].isnull())\n",
    "    df.loc[missingtwo, addcol2] = df.loc[missingtwo, sumcol] - df.loc[missingtwo, addcol1]\n",
    "\n",
    "    missingone = (df[sumcol].notnull()) & (df[addcol2].notnull()) & (df[addcol1].isnull())\n",
    "    df.loc[missingone, addcol1] = df.loc[missingone, sumcol] - df.loc[missingone, addcol2]  \n",
    "    \n",
    "    missingsum = (df[sumcol].isnull()) & (df[addcol2].notnull()) & (df[addcol1].notnull())\n",
    "    df.loc[missingsum, sumcol] = df.loc[missingsum, addcol1] + df.loc[missingsum, addcol2]  "
   ]
  },
  {
   "cell_type": "code",
   "execution_count": null,
   "metadata": {},
   "outputs": [],
   "source": [
    "def copy_if_not_empty(df, sourcecol, targetcol, to_zero_col = None):\n",
    "    \"\"\" \n",
    "    copies the value from the sourceol to the targetcol if the sourcecol is not empty and the targetcol is empty.\n",
    "    As a third parameter, a column can be provided that has to be set to 0.0 in the rows where the values are copied    \n",
    "    \"\"\"\n",
    "    do_copy = (df[sourcecol].notnull()) & (df[targetcol].isnull())\n",
    "    df.loc[do_copy, targetcol] = df.loc[do_copy, sourcecol]\n",
    "    if to_zero_col != None:\n",
    "        df.loc[do_copy, to_zero_col] = 0.0"
   ]
  },
  {
   "cell_type": "code",
   "execution_count": null,
   "metadata": {},
   "outputs": [],
   "source": [
    "def sum_into_empty_target(df, add1col, add2col, targetcol):\n",
    "    \"\"\"\n",
    "    adds the value of two not empty columns and stores the result in the empty targetcol\n",
    "    \"\"\"\n",
    "    do_sum = (df[add1col].notnull()) & (df[add2col].notnull()) & (df[targetcol].isnull())\n",
    "    df.loc[do_sum, targetcol] = df.loc[do_sum, add1col] + df.loc[do_sum, add2col]"
   ]
  },
  {
   "cell_type": "code",
   "execution_count": null,
   "metadata": {},
   "outputs": [],
   "source": [
    "def sum_cols_into_new_target(df, targetcol, sumcolslist):\n",
    "    \"\"\" sums up the value  of several columns and stores the result in the targetcol.\n",
    "        the columns that contain values to sum up may not be empty.\n",
    "    \"\"\"\n",
    "    df[targetcol] = 0.0\n",
    "    for col in sumcolslist:\n",
    "        set_to_zero_if_null(df, col)\n",
    "        df[targetcol] += df[col]"
   ]
  },
  {
   "cell_type": "code",
   "execution_count": null,
   "metadata": {},
   "outputs": [],
   "source": [
    "def copy_if_not_empty_for_ticker(df, ticker, sourcecol, targetcol, to_zero_col = None):\n",
    "    \"\"\" copy the not empty sourcecol to the empty targetcol of a certain ticker.\n",
    "        if provided, set the to_zero_col for the affected rows to zero.\n",
    "    \"\"\"\n",
    "    do_copy = (df['ticker'] == ticker) & (sel_df[sourcecol].notnull()) & (sel_df[targetcol].isnull())\n",
    "\n",
    "    df.loc[do_copy, targetcol] = df.loc[do_copy, sourcecol]\n",
    "    if to_zero_col != None:\n",
    "        df.loc[do_copy, to_zero_col] = 0.0"
   ]
  },
  {
   "cell_type": "code",
   "execution_count": null,
   "metadata": {},
   "outputs": [],
   "source": [
    "def set_to_zero_if_null(df, col):\n",
    "    \"\"\" set null values of a column to 0.0\n",
    "    \"\"\"\n",
    "    do_set = (df[col].isnull())\n",
    "    df.loc[do_set, col] = 0.0"
   ]
  },
  {
   "cell_type": "code",
   "execution_count": null,
   "metadata": {},
   "outputs": [],
   "source": [
    "def print_null_count(df, cols):\n",
    "    \"\"\" print out howmany null values the provided cols contain \n",
    "    \"\"\"\n",
    "    for col in cols:\n",
    "        print(col, ' ', df[col].isnull().sum())"
   ]
  },
  {
   "cell_type": "markdown",
   "metadata": {},
   "source": [
    "## 00_Raw_data"
   ]
  },
  {
   "cell_type": "code",
   "execution_count": null,
   "metadata": {},
   "outputs": [],
   "source": [
    "df_all_selected = spark.read.parquet(all_pivot_selected_folder).cache()"
   ]
  },
  {
   "cell_type": "code",
   "execution_count": null,
   "metadata": {},
   "outputs": [],
   "source": [
    "# it happens sometimes, that the data can not be associated with a right sheet (bs, is, cf, ..). in this cases, the data can appea under \"UN\"\n",
    "# so if expected information cannot be found in the appropriate statement, we have to look in the un statement\n",
    "un_pivot_value = load_data(\"UN\", \"value\")\n",
    "un_pivot_pd = un_pivot_value.toPandas()"
   ]
  },
  {
   "cell_type": "code",
   "execution_count": null,
   "metadata": {},
   "outputs": [
    {
     "data": {
      "text/plain": [
       "(6869, 1959)"
      ]
     },
     "execution_count": null,
     "metadata": {},
     "output_type": "execute_result"
    }
   ],
   "source": [
    "un_pivot_pd.shape"
   ]
  },
  {
   "cell_type": "markdown",
   "metadata": {},
   "source": [
    "## 01_Balance_Sheet"
   ]
  },
  {
   "cell_type": "code",
   "execution_count": null,
   "metadata": {},
   "outputs": [
    {
     "data": {
      "text/plain": [
       "(135358, 2343)"
      ]
     },
     "execution_count": null,
     "metadata": {},
     "output_type": "execute_result"
    }
   ],
   "source": [
    "bs_pivot_value = load_data(\"BS\", \"value\")\n",
    "spark_shape(bs_pivot_value)"
   ]
  },
  {
   "cell_type": "code",
   "execution_count": null,
   "metadata": {},
   "outputs": [],
   "source": [
    "bs_pivot_pd = bs_pivot_value.toPandas()"
   ]
  },
  {
   "cell_type": "code",
   "execution_count": null,
   "metadata": {},
   "outputs": [],
   "source": [
    "bs_pivot_pd_copy = bs_pivot_pd.copy()"
   ]
  },
  {
   "cell_type": "markdown",
   "metadata": {},
   "source": [
    "### Assets"
   ]
  },
  {
   "cell_type": "code",
   "execution_count": null,
   "metadata": {},
   "outputs": [
    {
     "name": "stdout",
     "output_type": "stream",
     "text": [
      "Assets   2065\n",
      "AssetsNoncurrent   128512\n",
      "AssetsCurrent   31907\n"
     ]
    }
   ],
   "source": [
    "print_null_count(bs_pivot_pd_copy, ['Assets','AssetsNoncurrent','AssetsCurrent'])"
   ]
  },
  {
   "cell_type": "code",
   "execution_count": null,
   "metadata": {},
   "outputs": [],
   "source": [
    "# Somtimes AssetsNet is present instead of Assets, copy its content to Assets\n",
    "copy_if_not_empty(bs_pivot_pd_copy, 'AssetsNet', 'Assets')\n",
    "\n",
    "# if one of the three provided columns is missing, calculate its content based on Assets = AssetsCurrent + AssetsNoncurrent\n",
    "complete_addition(bs_pivot_pd_copy, 'Assets', 'AssetsCurrent', 'AssetsNoncurrent')\n",
    "\n",
    "# if Assets contains data but AssetsCurrent and AssetsNoncurrent are empty, assume that only AssetsCurrent is present\n",
    "# copy value from Assets to AssetsCurrent and set AssetsNoncurrent to 0.0\n",
    "copy_if_not_empty(bs_pivot_pd_copy, 'Assets', 'AssetsCurrent', 'AssetsNoncurrent')\n",
    "\n",
    "# if AssetsCurrent contains data and Assets  and AssetsNoncurrent are empty, assume that only AssetsCurrent is present\n",
    "# copy value from AssetsCurrent to Assets and set AssetsNoncurrent to 0.0\n",
    "copy_if_not_empty(bs_pivot_pd_copy, 'AssetsCurrent', 'Assets', 'AssetsNoncurrent')"
   ]
  },
  {
   "cell_type": "code",
   "execution_count": null,
   "metadata": {},
   "outputs": [
    {
     "name": "stdout",
     "output_type": "stream",
     "text": [
      "Assets   1905\n",
      "AssetsNoncurrent   1905\n",
      "AssetsCurrent   1905\n"
     ]
    }
   ],
   "source": [
    "# check for how many entries Assets, AssetsNoncurrent and AsstesCurrent couldn't be completed\n",
    "print_null_count(bs_pivot_pd_copy, ['Assets','AssetsNoncurrent','AssetsCurrent'])"
   ]
  },
  {
   "cell_type": "markdown",
   "metadata": {},
   "source": [
    "### Liabilities"
   ]
  },
  {
   "cell_type": "code",
   "execution_count": null,
   "metadata": {},
   "outputs": [
    {
     "name": "stdout",
     "output_type": "stream",
     "text": [
      "Liabilities   35604\n",
      "LiabilitiesNoncurrent   119252\n",
      "LiabilitiesCurrent   32323\n"
     ]
    }
   ],
   "source": [
    "print_null_count(bs_pivot_pd_copy, ['Liabilities','LiabilitiesNoncurrent','LiabilitiesCurrent'])"
   ]
  },
  {
   "cell_type": "code",
   "execution_count": null,
   "metadata": {},
   "outputs": [],
   "source": [
    "# Completing the Liabilities columns follows the same logic as for the Assets columns\n",
    "\n",
    "complete_addition(bs_pivot_pd_copy, 'Liabilities', 'LiabilitiesCurrent', 'LiabilitiesNoncurrent')\n",
    "\n",
    "copy_if_not_empty(bs_pivot_pd_copy, 'Liabilities', 'LiabilitiesCurrent', 'LiabilitiesNoncurrent')\n",
    "copy_if_not_empty(bs_pivot_pd_copy, 'LiabilitiesCurrent', 'Liabilities', 'LiabilitiesNoncurrent')"
   ]
  },
  {
   "cell_type": "code",
   "execution_count": null,
   "metadata": {},
   "outputs": [
    {
     "name": "stdout",
     "output_type": "stream",
     "text": [
      "Liabilities   2269\n",
      "LiabilitiesNoncurrent   2267\n",
      "LiabilitiesCurrent   2269\n"
     ]
    }
   ],
   "source": [
    "# check for how many entries we were not able to complete the Liabilities information\n",
    "print_null_count(bs_pivot_pd_copy, ['Liabilities','LiabilitiesNoncurrent','LiabilitiesCurrent'])"
   ]
  },
  {
   "cell_type": "markdown",
   "metadata": {},
   "source": [
    "### Equity\n",
    "In the Equity section of the balance sheet, we are intereste in the StockholdersEquity and the Earnings (Tag. RetainedEarningsAccumulatedDeficit)"
   ]
  },
  {
   "cell_type": "code",
   "execution_count": null,
   "metadata": {},
   "outputs": [
    {
     "name": "stdout",
     "output_type": "stream",
     "text": [
      "StockholdersEquity   14369\n",
      "RetainedEarningsAccumulatedDeficit   12069\n"
     ]
    }
   ],
   "source": [
    "print_null_count(bs_pivot_pd_copy, ['StockholdersEquity','RetainedEarningsAccumulatedDeficit'])"
   ]
  },
  {
   "cell_type": "code",
   "execution_count": null,
   "metadata": {},
   "outputs": [],
   "source": [
    "# per  definition, LiabilitisAndStockholdersEquity has to match Assets in a balance sheet\n",
    "# so if LiabilitiesAndStockholdersEquity is not set, we copy the value from the Assets column\n",
    "copy_if_not_empty(bs_pivot_pd_copy, 'Assets', 'LiabilitiesAndStockholdersEquity') # has to be the same\n",
    "\n",
    "# if there is partner capital but no StockholdersEquite, we consider it the same as stockholder equity\n",
    "copy_if_not_empty(bs_pivot_pd_copy, 'PartnersCapital', 'StockholdersEquity') \n",
    "\n",
    "# if there is StockholdersEquityIncludingPortionAttributableToNoncontrollingInterest instead of StockholdersEquity, we use this as StocholdersEquity\n",
    "copy_if_not_empty(bs_pivot_pd_copy, 'StockholdersEquityIncludingPortionAttributableToNoncontrollingInterest', 'StockholdersEquity') \n",
    "\n",
    "# if RetainedEarnings has no value, we set it to zero\n",
    "set_to_zero_if_null(bs_pivot_pd_copy, 'RetainedEarningsAccumulatedDeficit')"
   ]
  },
  {
   "cell_type": "code",
   "execution_count": null,
   "metadata": {},
   "outputs": [
    {
     "name": "stdout",
     "output_type": "stream",
     "text": [
      "StockholdersEquity   2763\n",
      "RetainedEarningsAccumulatedDeficit   0\n"
     ]
    }
   ],
   "source": [
    "print_null_count(bs_pivot_pd_copy, ['StockholdersEquity','RetainedEarningsAccumulatedDeficit'])"
   ]
  },
  {
   "cell_type": "markdown",
   "metadata": {},
   "source": [
    "### Save"
   ]
  },
  {
   "cell_type": "code",
   "execution_count": null,
   "metadata": {},
   "outputs": [],
   "source": [
    "bs_pivot_pd_copy[[\"cik\",\"ticker\", \"adsh\",\"period\",\"form\", \"qtrs\",\"fp\",\n",
    "                 'Assets','AssetsNoncurrent', 'AssetsCurrent', \n",
    "                 'Liabilities','LiabilitiesNoncurrent','LiabilitiesCurrent', \n",
    "                 'StockholdersEquity','RetainedEarningsAccumulatedDeficit']] \\\n",
    "        .to_csv(all_processed_folder + \"bs_not_cleaned.csv\", index=False)"
   ]
  },
  {
   "cell_type": "markdown",
   "metadata": {},
   "source": [
    "### Clean empty companies"
   ]
  },
  {
   "cell_type": "code",
   "execution_count": null,
   "metadata": {},
   "outputs": [],
   "source": [
    "bs_cols_selected = bs_pivot_pd_copy[[\"cik\",\"ticker\", \"adsh\",\"period\",\"form\", \"qtrs\",\"fp\"\n",
    "                                     'Assets','AssetsNoncurrent', 'AssetsCurrent', \n",
    "                                     'Liabilities','LiabilitiesNoncurrent','LiabilitiesCurrent', \n",
    "                                     'StockholdersEquity','RetainedEarningsAccumulatedDeficit']]"
   ]
  },
  {
   "cell_type": "code",
   "execution_count": null,
   "metadata": {},
   "outputs": [],
   "source": [
    "incomplete_ciks = bs_cols_selected[bs_cols_selected.isnull().sum(axis=1) > 0].cik.unique()"
   ]
  },
  {
   "cell_type": "code",
   "execution_count": null,
   "metadata": {},
   "outputs": [],
   "source": [
    "bs_cols_cleaned = bs_cols_selected[~bs_pivot_pd_copy.cik.isin(incomplete_ciks)]"
   ]
  },
  {
   "cell_type": "code",
   "execution_count": null,
   "metadata": {},
   "outputs": [
    {
     "data": {
      "text/plain": [
       "(124520, 13)"
      ]
     },
     "execution_count": null,
     "metadata": {},
     "output_type": "execute_result"
    }
   ],
   "source": [
    "bs_cols_cleaned.shape"
   ]
  },
  {
   "cell_type": "code",
   "execution_count": null,
   "metadata": {},
   "outputs": [
    {
     "data": {
      "text/plain": [
       "0"
      ]
     },
     "execution_count": null,
     "metadata": {},
     "output_type": "execute_result"
    }
   ],
   "source": [
    "bs_cols_cleaned.isnull().sum(axis=1).sum()"
   ]
  },
  {
   "cell_type": "code",
   "execution_count": null,
   "metadata": {},
   "outputs": [],
   "source": [
    "bs_cols_cleaned.to_csv(all_processed_folder + \"bs.csv\", index=False)"
   ]
  },
  {
   "cell_type": "markdown",
   "metadata": {},
   "source": [
    "## 02_CashFlow"
   ]
  },
  {
   "cell_type": "markdown",
   "metadata": {},
   "source": [
    "Operation\n",
    "- NetIncomeLoss\n",
    "- ProfitLoss\n",
    "- NetCashProvidedByUsedInOperatingActivities: NetIncome + other positions ergibt diese Position\n",
    "\n",
    "Investing\n",
    "- NetCashProvidedByUsedInInvestingActivities\n",
    "\n",
    "Financing activities\n",
    "- PaymentsForRepurchaseOfCommonStock: Aktienrückkäufe\n",
    "- PaymentsOfDividends\n",
    "- NetCashProvidedByUsedInFinancingActivities\n",
    "\n",
    "Cash Bestand unterschied\n",
    "- CashAndCashEquivalentsPeriodIncreaseDecrease: increase/decrease in cash"
   ]
  },
  {
   "cell_type": "code",
   "execution_count": null,
   "metadata": {},
   "outputs": [
    {
     "data": {
      "text/plain": [
       "(351336, 3053)"
      ]
     },
     "execution_count": null,
     "metadata": {},
     "output_type": "execute_result"
    }
   ],
   "source": [
    "cf_pivot_value = load_data(\"CF\", \"value\")\n",
    "spark_shape(cf_pivot_value)"
   ]
  },
  {
   "cell_type": "code",
   "execution_count": null,
   "metadata": {},
   "outputs": [],
   "source": [
    "cf_empty_count = get_empty_count(cf_pivot_value)"
   ]
  },
  {
   "cell_type": "code",
   "execution_count": null,
   "metadata": {},
   "outputs": [],
   "source": [
    "cf_pivot_pd = cf_pivot_value.toPandas()"
   ]
  },
  {
   "cell_type": "code",
   "execution_count": null,
   "metadata": {},
   "outputs": [],
   "source": [
    "cf_pivot_pd_copy = cf_pivot_pd.copy()"
   ]
  },
  {
   "cell_type": "code",
   "execution_count": null,
   "metadata": {},
   "outputs": [],
   "source": [
    "cf_pivot_pd.shape"
   ]
  },
  {
   "cell_type": "markdown",
   "metadata": {},
   "source": [
    "### Cash Increase/Decrease\n",
    "- 'CashAndCashEquivalentsPeriodIncreaseDecrease',\n",
    "- 'CashAndCashEquivalentsPeriodIncreaseDecreaseExcludingExchangeRateEffect',\n",
    "- 'CashCashEquivalentsRestrictedCashAndRestrictedCashEquivalentsPeriodIncreaseDecreaseExcludingExchangeRateEffect',\n",
    "- 'CashCashEquivalentsRestrictedCashAndRestrictedCashEquivalentsPeriodIncreaseDecreaseIncludingExchangeRateEffect',\n",
    "- 'CashPeriodIncreaseDecrease',\n",
    "- 'CashPeriodIncreaseDecreaseExcludingExchangeRateEffect',\n",
    "- 'NetCashProvidedByUsedInContinuingOperations'"
   ]
  },
  {
   "cell_type": "code",
   "execution_count": null,
   "metadata": {},
   "outputs": [
    {
     "name": "stdout",
     "output_type": "stream",
     "text": [
      "CashAndCashEquivalentsPeriodIncreaseDecrease   30244\n"
     ]
    }
   ],
   "source": [
    "print_null_count(cf_pivot_pd_copy, ['CashAndCashEquivalentsPeriodIncreaseDecrease'])"
   ]
  },
  {
   "cell_type": "code",
   "execution_count": null,
   "metadata": {},
   "outputs": [],
   "source": [
    "# add possible columns from un set to  cf data with prefix cpy_\n",
    "un_cash_incdec = un_pivot_pd[[\"adsh\",\n",
    "    'CashAndCashEquivalentsPeriodIncreaseDecrease',\n",
    "    'CashCashEquivalentsRestrictedCashAndRestrictedCashEquivalentsPeriodIncreaseDecreaseIncludingExchangeRateEffect',\n",
    "    'CashCashEquivalentsRestrictedCashAndRestrictedCashEquivalentsPeriodIncreaseDecreaseExcludingExchangeRateEffect',\n",
    "#    'CashPeriodIncreaseDecrease',\n",
    "#    'CashAndCashEquivalentsPeriodIncreaseDecreaseExcludingExchangeRateEffect',\n",
    "#    'CashPeriodIncreaseDecreaseExcludingExchangeRateEffect' \n",
    "]].copy()\n",
    "un_cash_incdec.rename(columns=lambda x: \"cpy_\" + x, inplace=True)\n",
    "un_cash_incdec.rename(columns={'cpy_adsh':'adsh'}, inplace=True)"
   ]
  },
  {
   "cell_type": "code",
   "execution_count": null,
   "metadata": {},
   "outputs": [
    {
     "data": {
      "text/plain": [
       "(133811, 3055)"
      ]
     },
     "execution_count": null,
     "metadata": {},
     "output_type": "execute_result"
    }
   ],
   "source": [
    "cf_pivot_pd_copy = pd.merge(cf_pivot_pd_copy, un_cash_incdec, how='left', on=['adsh'])\n",
    "cf_pivot_pd_copy.shape"
   ]
  },
  {
   "cell_type": "code",
   "execution_count": null,
   "metadata": {},
   "outputs": [],
   "source": [
    "# if CashAndCashEquivalentsPeriodIncreaseDecrease is not present and CashCashEquivalentsRestrictedCashAndRestrictedCashEquivalentsPeriodIncreaseDecreaseIncludingExchangeRateEffect\n",
    "# is present, we can replace CashAndCashEquivalentsPeriodIncreaseDecrease.\n",
    "# there are only about 12 entries where both are present\n",
    "copy_if_not_empty(cf_pivot_pd_copy, 'CashCashEquivalentsRestrictedCashAndRestrictedCashEquivalentsPeriodIncreaseDecreaseIncludingExchangeRateEffect', \n",
    "                                    'CashAndCashEquivalentsPeriodIncreaseDecrease') # either or\n",
    "copy_if_not_empty(cf_pivot_pd_copy, 'CashCashEquivalentsRestrictedCashAndRestrictedCashEquivalentsPeriodIncreaseDecreaseExcludingExchangeRateEffect', \n",
    "                                    'CashAndCashEquivalentsPeriodIncreaseDecrease') # either or\n",
    "copy_if_not_empty(cf_pivot_pd_copy, 'CashPeriodIncreaseDecrease', \n",
    "                                    'CashAndCashEquivalentsPeriodIncreaseDecrease') # either or\n",
    "copy_if_not_empty(cf_pivot_pd_copy, 'CashAndCashEquivalentsPeriodIncreaseDecreaseExcludingExchangeRateEffect', \n",
    "                                    'CashAndCashEquivalentsPeriodIncreaseDecrease') # either or\n",
    "copy_if_not_empty(cf_pivot_pd_copy, 'CashPeriodIncreaseDecreaseExcludingExchangeRateEffect', \n",
    "                                    'CashAndCashEquivalentsPeriodIncreaseDecrease') # either or\n",
    "copy_if_not_empty(cf_pivot_pd_copy, 'NetCashProvidedByUsedInContinuingOperations', \n",
    "                                    'CashAndCashEquivalentsPeriodIncreaseDecrease') # either or\n",
    "\n",
    "\n",
    "# try to find data in joined un data\n",
    "copy_if_not_empty(cf_pivot_pd_copy, 'cpy_CashAndCashEquivalentsPeriodIncreaseDecrease', \n",
    "                                    'CashAndCashEquivalentsPeriodIncreaseDecrease') # either or\n",
    "copy_if_not_empty(cf_pivot_pd_copy, 'cpy_CashCashEquivalentsRestrictedCashAndRestrictedCashEquivalentsPeriodIncreaseDecreaseIncludingExchangeRateEffect', \n",
    "                                    'CashAndCashEquivalentsPeriodIncreaseDecrease') # either or\n",
    "copy_if_not_empty(cf_pivot_pd_copy, 'cpy_CashCashEquivalentsRestrictedCashAndRestrictedCashEquivalentsPeriodIncreaseDecreaseExcludingExchangeRateEffect', \n",
    "                                    'CashAndCashEquivalentsPeriodIncreaseDecrease') # either or"
   ]
  },
  {
   "cell_type": "code",
   "execution_count": null,
   "metadata": {},
   "outputs": [
    {
     "name": "stdout",
     "output_type": "stream",
     "text": [
      "CashAndCashEquivalentsPeriodIncreaseDecrease   1563\n"
     ]
    }
   ],
   "source": [
    "print_null_count(cf_pivot_pd_copy, ['CashAndCashEquivalentsPeriodIncreaseDecrease'])"
   ]
  },
  {
   "cell_type": "markdown",
   "metadata": {},
   "source": [
    "### Operation\n",
    "- NetIncomeLoss\n",
    "- NetCashProvidedByUsedInOperatingActivities: NetIncome + other positions ergibt diese Position"
   ]
  },
  {
   "cell_type": "code",
   "execution_count": null,
   "metadata": {},
   "outputs": [
    {
     "name": "stdout",
     "output_type": "stream",
     "text": [
      "NetIncomeLoss   58102\n",
      "ProfitLoss   84716\n",
      "NetCashProvidedByUsedInOperatingActivities   32125\n"
     ]
    }
   ],
   "source": [
    "print_null_count(cf_pivot_pd_copy, ['NetIncomeLoss', 'ProfitLoss', 'NetCashProvidedByUsedInOperatingActivities'])"
   ]
  },
  {
   "cell_type": "code",
   "execution_count": null,
   "metadata": {},
   "outputs": [],
   "source": [
    "# if only ProfitLoss is set, copy content to NetIncomeLoss\n",
    "# if onlyNetIncomeLoss is set, copy to ProfitLoss\n",
    "copy_if_not_empty(cf_pivot_pd_copy, 'ProfitLoss', 'NetIncomeLoss')\n",
    "copy_if_not_empty(cf_pivot_pd_copy, 'NetIncomeLoss', 'ProfitLoss')\n",
    "copy_if_not_empty(cf_pivot_pd_copy, 'NetIncomeLossAvailableToCommonStockholdersBasic', 'ProfitLoss') # certain CFs just have this position\n",
    "copy_if_not_empty(cf_pivot_pd_copy, 'NetIncomeLossAvailableToCommonStockholdersBasic', 'NetIncomeLoss')\n",
    "\n",
    "copy_if_not_empty(cf_pivot_pd_copy, 'NetCashProvidedByUsedInOperatingActivitiesContinuingOperations', 'NetCashProvidedByUsedInOperatingActivities')\n",
    "\n",
    "copy_if_not_empty(cf_pivot_pd_copy, 'NetCashProvidedByUsedInOperatingActivities', 'ProfitLoss') # certain CFs just have this position\n",
    "copy_if_not_empty(cf_pivot_pd_copy, 'NetCashProvidedByUsedInOperatingActivities', 'NetIncomeLoss')"
   ]
  },
  {
   "cell_type": "code",
   "execution_count": null,
   "metadata": {},
   "outputs": [
    {
     "name": "stdout",
     "output_type": "stream",
     "text": [
      "NetIncomeLoss   230\n",
      "ProfitLoss   230\n",
      "NetCashProvidedByUsedInOperatingActivities   501\n"
     ]
    }
   ],
   "source": [
    "print_null_count(cf_pivot_pd_copy, ['NetIncomeLoss', 'ProfitLoss', 'NetCashProvidedByUsedInOperatingActivities'])"
   ]
  },
  {
   "cell_type": "markdown",
   "metadata": {},
   "source": [
    "### Investing\n",
    "- NetCashProvidedByUsedInInvestingActivities"
   ]
  },
  {
   "cell_type": "code",
   "execution_count": null,
   "metadata": {},
   "outputs": [
    {
     "name": "stdout",
     "output_type": "stream",
     "text": [
      "NetCashProvidedByUsedInInvestingActivities   33018\n",
      "NetCashProvidedByUsedInInvestingActivitiesContinuingOperations   98645\n",
      "CashProvidedByUsedInInvestingActivitiesDiscontinuedOperations   128368\n"
     ]
    }
   ],
   "source": [
    "print_null_count(cf_pivot_pd_copy, ['NetCashProvidedByUsedInInvestingActivities'])"
   ]
  },
  {
   "cell_type": "code",
   "execution_count": null,
   "metadata": {},
   "outputs": [],
   "source": [
    "sum_into_empty_target(cf_pivot_pd_copy, \n",
    "                      'NetCashProvidedByUsedInInvestingActivitiesContinuingOperations',\n",
    "                      'CashProvidedByUsedInInvestingActivitiesDiscontinuedOperations',\n",
    "                      'NetCashProvidedByUsedInInvestingActivities')\n",
    "\n",
    "copy_if_not_empty(cf_pivot_pd_copy, 'NetCashProvidedByUsedInInvestingActivitiesContinuingOperations', 'NetCashProvidedByUsedInInvestingActivities')\n",
    "copy_if_not_empty(cf_pivot_pd_copy, 'CashProvidedByUsedInInvestingActivitiesDiscontinuedOperations', 'NetCashProvidedByUsedInInvestingActivities')\n",
    "\n",
    "set_to_zero_if_null(cf_pivot_pd_copy, 'NetCashProvidedByUsedInInvestingActivities')"
   ]
  },
  {
   "cell_type": "code",
   "execution_count": null,
   "metadata": {},
   "outputs": [
    {
     "name": "stdout",
     "output_type": "stream",
     "text": [
      "NetCashProvidedByUsedInInvestingActivities   0\n",
      "NetCashProvidedByUsedInInvestingActivitiesContinuingOperations   98645\n",
      "CashProvidedByUsedInInvestingActivitiesDiscontinuedOperations   128368\n"
     ]
    }
   ],
   "source": [
    "print_null_count(cf_pivot_pd_copy, ['NetCashProvidedByUsedInInvestingActivities'])"
   ]
  },
  {
   "cell_type": "markdown",
   "metadata": {},
   "source": [
    "### Financing activities\n",
    "- PaymentsForRepurchaseOfCommonStock: Aktienrückkäufe\n",
    "- PaymentsOfDividends\n",
    "- NetCashProvidedByUsedInFinancingActivities\n",
    "\n",
    "('CashProvidedByUsedInDiscontinuedOperationsFinancingActivities',\n",
    " 'CashProvidedByUsedInFinancingActivitiesDiscontinuedOperations',\n",
    " 'NetCashProvidedByUsedInFinancingActivities',\n",
    " 'NetCashProvidedByUsedInFinancingActivitiesContinuingOperations')"
   ]
  },
  {
   "cell_type": "markdown",
   "metadata": {},
   "source": [
    "#### NetCashProvidedByUsedInFinancingActivities"
   ]
  },
  {
   "cell_type": "code",
   "execution_count": null,
   "metadata": {},
   "outputs": [
    {
     "name": "stdout",
     "output_type": "stream",
     "text": [
      "NetCashProvidedByUsedInFinancingActivities   33202\n",
      "NetCashProvidedByUsedInFinancingActivitiesContinuingOperations   100132\n",
      "CashProvidedByUsedInFinancingActivitiesDiscontinuedOperations   130954\n"
     ]
    }
   ],
   "source": [
    "print_null_count(cf_pivot_pd_copy, ['NetCashProvidedByUsedInFinancingActivities'])"
   ]
  },
  {
   "cell_type": "code",
   "execution_count": null,
   "metadata": {},
   "outputs": [],
   "source": [
    "sum_into_empty_target(cf_pivot_pd_copy, \n",
    "                      'NetCashProvidedByUsedInFinancingActivitiesContinuingOperations',\n",
    "                      'CashProvidedByUsedInFinancingActivitiesDiscontinuedOperations',\n",
    "                      'NetCashProvidedByUsedInFinancingActivities')\n",
    "\n",
    "copy_if_not_empty(cf_pivot_pd_copy, 'NetCashProvidedByUsedInFinancingActivitiesContinuingOperations', 'NetCashProvidedByUsedInFinancingActivities')\n",
    "copy_if_not_empty(cf_pivot_pd_copy, 'CashProvidedByUsedInFinancingActivitiesDiscontinuedOperations', 'NetCashProvidedByUsedInFinancingActivities')\n",
    "\n",
    "set_to_zero_if_null(cf_pivot_pd_copy, 'NetCashProvidedByUsedInFinancingActivities')"
   ]
  },
  {
   "cell_type": "code",
   "execution_count": null,
   "metadata": {},
   "outputs": [
    {
     "name": "stdout",
     "output_type": "stream",
     "text": [
      "NetCashProvidedByUsedInFinancingActivities   0\n"
     ]
    }
   ],
   "source": [
    "print_null_count(cf_pivot_pd_copy, ['NetCashProvidedByUsedInFinancingActivities'])"
   ]
  },
  {
   "cell_type": "markdown",
   "metadata": {},
   "source": [
    "#### PaymentsOfDividends\n",
    "Simply set to 0.0 if no data is present\n",
    " 'PaymentsOfDividends',\n",
    " 'PaymentsOfDividendsCommonStock',\n",
    " 'PaymentsOfDividendsMinorityInterest',\n",
    " 'PaymentsOfDividendsPreferredStockAndPreferenceStock',\n",
    " 'PaymentsOfOrdinaryDividends',"
   ]
  },
  {
   "cell_type": "code",
   "execution_count": null,
   "metadata": {},
   "outputs": [],
   "source": [
    "sum_cols_into_new_target(cf_pivot_pd_copy, 'PaymentsOfDividendsTotal', \n",
    "                                 ['PaymentsOfDividends',\n",
    "                                 'PaymentsOfDividendsCommonStock',\n",
    "                                 'PaymentsOfDividendsMinorityInterest',\n",
    "                                 'PaymentsOfDividendsPreferredStockAndPreferenceStock',\n",
    "                                 'PaymentsOfOrdinaryDividends'])"
   ]
  },
  {
   "cell_type": "markdown",
   "metadata": {},
   "source": [
    "#### PaymentsForRepurchaseOfCommonStock: Stock buybacks\n",
    " 'PaymentsForRepurchaseOfCommonStock',\n",
    " 'PaymentsForRepurchaseOfCommonStockForEmployeeTaxWithholdingObligations',\n",
    " 'PaymentsForRepurchaseOfConvertiblePreferredStock',\n",
    " 'PaymentsForRepurchaseOfPreferredStockAndPreferenceStock',\n",
    " 'PaymentsForRepurchaseOfRedeemableConvertiblePreferredStock',\n",
    " 'PaymentsForRepurchaseOfRedeemablePreferredStock'"
   ]
  },
  {
   "cell_type": "code",
   "execution_count": null,
   "metadata": {},
   "outputs": [],
   "source": [
    "sum_cols_into_new_target(cf_pivot_pd_copy, 'PaymentsForRepurchaseOfStockTotal', \n",
    "                                 ['PaymentsForRepurchaseOfCommonStock',\n",
    "                                     'PaymentsForRepurchaseOfCommonStockForEmployeeTaxWithholdingObligations',\n",
    "                                     'PaymentsForRepurchaseOfConvertiblePreferredStock',\n",
    "                                     'PaymentsForRepurchaseOfPreferredStockAndPreferenceStock',\n",
    "                                     'PaymentsForRepurchaseOfRedeemableConvertiblePreferredStock',\n",
    "                                     'PaymentsForRepurchaseOfRedeemablePreferredStock'])"
   ]
  },
  {
   "cell_type": "markdown",
   "metadata": {},
   "source": [
    "### Save"
   ]
  },
  {
   "cell_type": "code",
   "execution_count": null,
   "metadata": {},
   "outputs": [],
   "source": [
    "cf_pivot_pd_copy[[\"cik\",\"ticker\", \"adsh\",\"period\",\"form\", \n",
    "                                     'CashAndCashEquivalentsPeriodIncreaseDecrease',\n",
    "                                     'NetIncomeLoss', 'ProfitLoss', \n",
    "                                     'NetCashProvidedByUsedInOperatingActivities', \n",
    "                                     'NetCashProvidedByUsedInInvestingActivities',\n",
    "                                     'NetCashProvidedByUsedInFinancingActivities',\n",
    "                                     'PaymentsOfDividendsTotal'\n",
    "                                     'PaymentsForRepurchaseOfStockTotal']] \\\n",
    "                  .to_csv(all_processed_folder + \"cf_not_cleaned.csv\", index=False)"
   ]
  },
  {
   "cell_type": "markdown",
   "metadata": {},
   "source": [
    "### Clean empty companies"
   ]
  },
  {
   "cell_type": "code",
   "execution_count": null,
   "metadata": {},
   "outputs": [],
   "source": [
    "cf_cols_selected = cf_pivot_pd_copy[[\"cik\",\"ticker\", \"adsh\",\"period\",\"form\", \n",
    "                                     'CashAndCashEquivalentsPeriodIncreaseDecrease',\n",
    "                                     'NetIncomeLoss', 'ProfitLoss', \n",
    "                                     'NetCashProvidedByUsedInOperatingActivities', \n",
    "                                     'NetCashProvidedByUsedInInvestingActivities',\n",
    "                                     'NetCashProvidedByUsedInFinancingActivities'.\n",
    "                                     'PaymentsOfDividendsTotal'\n",
    "                                     'PaymentsForRepurchaseOfStockTotal']]"
   ]
  },
  {
   "cell_type": "code",
   "execution_count": null,
   "metadata": {},
   "outputs": [],
   "source": [
    "incomplete_ciks = cf_cols_selected[cf_cols_selected.isnull().sum(axis=1) > 0].cik.unique()"
   ]
  },
  {
   "cell_type": "code",
   "execution_count": null,
   "metadata": {},
   "outputs": [
    {
     "data": {
      "text/plain": [
       "514"
      ]
     },
     "execution_count": null,
     "metadata": {},
     "output_type": "execute_result"
    }
   ],
   "source": [
    "len(incomplete_ciks)"
   ]
  },
  {
   "cell_type": "code",
   "execution_count": null,
   "metadata": {},
   "outputs": [],
   "source": [
    "cf_cols_cleaned = cf_cols_selected[~cf_pivot_pd_copy.cik.isin(incomplete_ciks)]"
   ]
  },
  {
   "cell_type": "code",
   "execution_count": null,
   "metadata": {},
   "outputs": [
    {
     "data": {
      "text/plain": [
       "(117038, 11)"
      ]
     },
     "execution_count": null,
     "metadata": {},
     "output_type": "execute_result"
    }
   ],
   "source": [
    "cf_cols_cleaned.shape"
   ]
  },
  {
   "cell_type": "code",
   "execution_count": null,
   "metadata": {},
   "outputs": [
    {
     "data": {
      "text/plain": [
       "0"
      ]
     },
     "execution_count": null,
     "metadata": {},
     "output_type": "execute_result"
    }
   ],
   "source": [
    "cf_cols_cleaned.isnull().sum(axis=1).sum()"
   ]
  },
  {
   "cell_type": "code",
   "execution_count": null,
   "metadata": {},
   "outputs": [],
   "source": [
    "cf_cols_cleaned.to_csv(all_processed_folder + \"cf.csv\", index=False)"
   ]
  },
  {
   "cell_type": "markdown",
   "metadata": {},
   "source": [
    "## 03_IncomeStatement"
   ]
  },
  {
   "cell_type": "markdown",
   "metadata": {},
   "source": [
    "Gross Margin\n",
    "- Net Sales\n",
    "- Cost of Sales\n",
    "- Gross Margin -> NetSales - CostOfSales\n",
    "\n",
    "Operating Expenses\n",
    "- R&D\n",
    "- Selling, general and admin\n",
    "- Total op expenses = R&D + Selling, general and admin\n",
    "\n",
    "- Operating Income = Gross Margin - Total op expenses      -> OperatingIncomeLoss\n",
    "- other income\n",
    "- Income before provision for income taxes = operating income + other income\n",
    "\n",
    "- Provision for income taxes\n",
    "- Net income = Income before taxes -taxes                   -> NetIncomeLoss -> also available in CF(!)\n",
    "\n",
    "Earning per share\n",
    "- Basic\n",
    "- Diluted\n",
    "\n",
    "Shares used in computing earnings per share:\n",
    "- basic\n",
    "- diluted\n"
   ]
  },
  {
   "cell_type": "code",
   "execution_count": null,
   "metadata": {},
   "outputs": [
    {
     "data": {
      "text/plain": [
       "(226841, 2328)"
      ]
     },
     "execution_count": null,
     "metadata": {},
     "output_type": "execute_result"
    }
   ],
   "source": [
    "is_pivot_value = load_data(\"IS\", \"value\")\n",
    "spark_shape(is_pivot_value)"
   ]
  },
  {
   "cell_type": "code",
   "execution_count": null,
   "metadata": {},
   "outputs": [],
   "source": [
    "is_empty_count = get_empty_count(is_pivot_value)"
   ]
  },
  {
   "cell_type": "code",
   "execution_count": null,
   "metadata": {},
   "outputs": [],
   "source": [
    "is_pivot_pd = is_pivot_value.toPandas()"
   ]
  },
  {
   "cell_type": "code",
   "execution_count": null,
   "metadata": {},
   "outputs": [],
   "source": [
    "is_pivot_pd_copy = is_pivot_pd.copy()"
   ]
  },
  {
   "cell_type": "code",
   "execution_count": null,
   "metadata": {},
   "outputs": [
    {
     "data": {
      "text/plain": [
       "(226841, 2328)"
      ]
     },
     "execution_count": null,
     "metadata": {},
     "output_type": "execute_result"
    }
   ],
   "source": [
    "is_pivot_pd.shape"
   ]
  },
  {
   "cell_type": "code",
   "execution_count": null,
   "metadata": {},
   "outputs": [
    {
     "data": {
      "text/plain": [
       "(225272, 2328)"
      ]
     },
     "execution_count": null,
     "metadata": {},
     "output_type": "execute_result"
    }
   ],
   "source": [
    "# for some reason, there can be kind like empty rows with strange \"qrtrs\". They contain only null values\n",
    "null_cols_threshold = is_pivot_pd_copy.shape[1] - 8\n",
    "selection = ((is_pivot_pd_copy.qtrs == '0') | (is_pivot_pd_copy.qtrs > '4')) & (is_pivot_pd_copy.isnull().sum(axis=1) >= null_cols_threshold) == False\n",
    "is_pivot_pd_copy = is_pivot_pd_copy[selection].copy()\n",
    "is_pivot_pd_copy.shape"
   ]
  },
  {
   "cell_type": "markdown",
   "metadata": {},
   "source": [
    "#### NetIncome"
   ]
  },
  {
   "cell_type": "code",
   "execution_count": null,
   "metadata": {},
   "outputs": [
    {
     "name": "stdout",
     "output_type": "stream",
     "text": [
      "NetIncomeLoss   3734\n",
      "NetIncomeLossAvailableToCommonStockholdersBasic   180788\n",
      "ProfitLoss   149938\n"
     ]
    }
   ],
   "source": [
    "print_null_count(is_pivot_pd_copy, [ 'NetIncomeLoss', 'NetIncomeLossAvailableToCommonStockholdersBasic', 'ProfitLoss'])"
   ]
  },
  {
   "cell_type": "code",
   "execution_count": null,
   "metadata": {},
   "outputs": [],
   "source": [
    "copy_if_not_empty(is_pivot_pd_copy, 'NetIncomeLossAvailableToCommonStockholdersBasic', 'NetIncomeLoss')\n",
    "copy_if_not_empty(is_pivot_pd_copy, 'ProfitLoss', 'NetIncomeLoss')"
   ]
  },
  {
   "cell_type": "code",
   "execution_count": null,
   "metadata": {},
   "outputs": [
    {
     "name": "stdout",
     "output_type": "stream",
     "text": [
      "NetIncomeLoss   3734\n",
      "NetIncomeLossAvailableToCommonStockholdersBasic   180788\n"
     ]
    }
   ],
   "source": [
    "print_null_count(is_pivot_pd_copy, [ 'NetIncomeLoss', 'NetIncomeLossAvailableToCommonStockholdersBasic'])"
   ]
  },
  {
   "cell_type": "markdown",
   "metadata": {},
   "source": [
    "#### OperatingIncomeLoss"
   ]
  },
  {
   "cell_type": "code",
   "execution_count": null,
   "metadata": {},
   "outputs": [
    {
     "name": "stdout",
     "output_type": "stream",
     "text": [
      "OperatingIncomeLoss   64118\n"
     ]
    }
   ],
   "source": [
    "print_null_count(is_pivot_pd_copy, ['OperatingIncomeLoss'])"
   ]
  },
  {
   "cell_type": "code",
   "execution_count": null,
   "metadata": {},
   "outputs": [],
   "source": []
  },
  {
   "cell_type": "code",
   "execution_count": null,
   "metadata": {},
   "outputs": [],
   "source": []
  },
  {
   "cell_type": "markdown",
   "metadata": {},
   "source": [
    "#### Gross Margin\n",
    "- Revenue (NetSales\n",
    "- Cost of Sales\n",
    "- Gross Margin"
   ]
  },
  {
   "cell_type": "markdown",
   "metadata": {},
   "source": [
    "##### Revenue"
   ]
  },
  {
   "cell_type": "code",
   "execution_count": null,
   "metadata": {},
   "outputs": [
    {
     "name": "stdout",
     "output_type": "stream",
     "text": [
      "Revenues   83795\n",
      "SalesRevenueNet   97965\n",
      "RevenueFromContractWithCustomerExcludingAssessedTax   123742\n",
      "RevenueFromContractWithCustomerIncludingAssessedTax   130615\n",
      "RevenueFromCollaborativeArrangementExcludingRevenueFromContractWithCustomer   133816\n",
      "RevenueNotFromContractWithCustomer   133807\n",
      "RevenueNotFromContractWithCustomerExcludingInterestIncome   133824\n",
      "RevenueNotFromContractWithCustomerOther   133813\n",
      "RevenuesFromExternalCustomers   133805\n"
     ]
    }
   ],
   "source": [
    " print_null_count(is_pivot_pd_copy, [   \n",
    "     'Revenues',\n",
    "'SalesRevenueNet',\n",
    "     'RevenueFromContractWithCustomerExcludingAssessedTax', # Sales\n",
    "'RevenueFromContractWithCustomerIncludingAssessedTax', # Sales\n",
    "\n",
    " 'RevenueFromCollaborativeArrangementExcludingRevenueFromContractWithCustomer',\n",
    " 'RevenueNotFromContractWithCustomer',\n",
    " 'RevenueNotFromContractWithCustomerExcludingInterestIncome',\n",
    " 'RevenueNotFromContractWithCustomerOther',\n",
    " 'RevenuesFromExternalCustomers'])"
   ]
  },
  {
   "cell_type": "code",
   "execution_count": null,
   "metadata": {},
   "outputs": [],
   "source": []
  },
  {
   "cell_type": "code",
   "execution_count": null,
   "metadata": {},
   "outputs": [],
   "source": []
  },
  {
   "cell_type": "code",
   "execution_count": null,
   "metadata": {},
   "outputs": [],
   "source": []
  },
  {
   "cell_type": "code",
   "execution_count": null,
   "metadata": {},
   "outputs": [],
   "source": []
  },
  {
   "cell_type": "code",
   "execution_count": null,
   "metadata": {},
   "outputs": [
    {
     "name": "stdout",
     "output_type": "stream",
     "text": [
      "RevenueFromContractWithCustomerExcludingAssessedTax   123742\n",
      "CostOfGoodsAndServicesSold   107983\n",
      "GrossProfit   82255\n"
     ]
    }
   ],
   "source": [
    "print_null_count(is_pivot_pd_copy, ['RevenueFromContractWithCustomerExcludingAssessedTax', 'CostOfGoodsAndServicesSold','GrossProfit'])"
   ]
  },
  {
   "cell_type": "code",
   "execution_count": null,
   "metadata": {},
   "outputs": [],
   "source": []
  },
  {
   "cell_type": "markdown",
   "metadata": {},
   "source": [
    "# xx_trials"
   ]
  },
  {
   "cell_type": "code",
   "execution_count": null,
   "metadata": {},
   "outputs": [],
   "source": [
    "cf_pivot_pd_copy[(cf_pivot_pd_copy.StockholdersEquity.isnull())  ][[\"cik\",\"ticker\", \"adsh\",\"period\", \"StockholdersEquityBeforeTreasuryStock\", \"LiabilitiesAndStockholdersEquity\", \"RetainedEarningsAccumulatedDeficit\"]].sort_values(by=['period'])"
   ]
  },
  {
   "cell_type": "code",
   "execution_count": null,
   "metadata": {},
   "outputs": [
    {
     "data": {
      "text/plain": [
       "cik                                                                        21363\n",
       "ticker                                                                     21363\n",
       "adsh                                                                       21363\n",
       "form                                                                       21363\n",
       "period                                                                     21363\n",
       "                                                                           ...  \n",
       "WeightedAverageNumberOfSharesRestrictedStock                                   0\n",
       "WeightedAverageNumberOfSharesTreasuryStock                                     0\n",
       "WeightedAverageNumerDilutedLimitedPartnershipUnitsOutstandingAdjustment        0\n",
       "WellServiceExpense                                                             1\n",
       "WriteOffOfDeferredDebtIssuanceCost                                            13\n",
       "Length: 2328, dtype: int64"
      ]
     },
     "execution_count": null,
     "metadata": {},
     "output_type": "execute_result"
    }
   ],
   "source": [
    "#is_pivot_pd_copy[(is_pivot_pd_copy.qtrs == '4') & (is_pivot_pd_copy.fp != 'FY')]\n",
    "#is_pivot_pd_copy[(is_pivot_pd_copy.form == '10-K') & (is_pivot_pd_copy.fp == 'FY') & (is_pivot_pd_copy.qtrs == '4')].count() # 32188\n",
    "#is_pivot_pd_copy[(is_pivot_pd_copy.form == '10-K') & (is_pivot_pd_copy.fp == 'FY')].count() #54080\n",
    "#is_pivot_pd_copy[(is_pivot_pd_copy.form == '10-K') ].count() #54100\n",
    "#is_pivot_pd_copy[(is_pivot_pd_copy.form == '10-K') & (is_pivot_pd_copy.fp != 'FY')].count() #20\n",
    "#is_pivot_pd_copy[(is_pivot_pd_copy.form == '10-K') & (is_pivot_pd_copy.fp == 'FY') & (is_pivot_pd_copy.qtrs == '0')].count() # 96\n",
    "#is_pivot_pd_copy[(is_pivot_pd_copy.form == '10-K') & (is_pivot_pd_copy.fp == 'FY') & (is_pivot_pd_copy.qtrs == '1')].count() # 21363\n",
    "#is_pivot_pd_copy[(is_pivot_pd_copy.form == '10-K') & (is_pivot_pd_copy.fp == 'FY') & (is_pivot_pd_copy.qtrs == '2')].count() # 69\n",
    "#is_pivot_pd_copy[(is_pivot_pd_copy.form == '10-K') & (is_pivot_pd_copy.fp == 'FY') & (is_pivot_pd_copy.qtrs == '3')].count() # 56"
   ]
  },
  {
   "cell_type": "code",
   "execution_count": null,
   "metadata": {},
   "outputs": [
    {
     "data": {
      "text/html": [
       "<div>\n",
       "<style scoped>\n",
       "    .dataframe tbody tr th:only-of-type {\n",
       "        vertical-align: middle;\n",
       "    }\n",
       "\n",
       "    .dataframe tbody tr th {\n",
       "        vertical-align: top;\n",
       "    }\n",
       "\n",
       "    .dataframe thead th {\n",
       "        text-align: right;\n",
       "    }\n",
       "</style>\n",
       "<table border=\"1\" class=\"dataframe\">\n",
       "  <thead>\n",
       "    <tr style=\"text-align: right;\">\n",
       "      <th></th>\n",
       "      <th>cik</th>\n",
       "      <th>ticker</th>\n",
       "      <th>adsh</th>\n",
       "      <th>period</th>\n",
       "      <th>qtrs</th>\n",
       "      <th>NetIncomeLoss</th>\n",
       "      <th>NetIncomeLossAvailableToCommonStockholdersBasic</th>\n",
       "      <th>ProfitLoss</th>\n",
       "      <th>CostOfGoodsAndServicesSold</th>\n",
       "      <th>GrossProfit</th>\n",
       "    </tr>\n",
       "  </thead>\n",
       "  <tbody>\n",
       "    <tr>\n",
       "      <th>147094</th>\n",
       "      <td>8411</td>\n",
       "      <td>ATW</td>\n",
       "      <td>0001140361-10-047001</td>\n",
       "      <td>2010-09-30</td>\n",
       "      <td>0</td>\n",
       "      <td>NaN</td>\n",
       "      <td>NaN</td>\n",
       "      <td>NaN</td>\n",
       "      <td>NaN</td>\n",
       "      <td>NaN</td>\n",
       "    </tr>\n",
       "    <tr>\n",
       "      <th>49310</th>\n",
       "      <td>1076195</td>\n",
       "      <td>LTM</td>\n",
       "      <td>0000950123-11-019873</td>\n",
       "      <td>2010-12-31</td>\n",
       "      <td>0</td>\n",
       "      <td>NaN</td>\n",
       "      <td>NaN</td>\n",
       "      <td>NaN</td>\n",
       "      <td>NaN</td>\n",
       "      <td>NaN</td>\n",
       "    </tr>\n",
       "    <tr>\n",
       "      <th>207544</th>\n",
       "      <td>947484</td>\n",
       "      <td>ACGL</td>\n",
       "      <td>0001047469-11-001529</td>\n",
       "      <td>2010-12-31</td>\n",
       "      <td>0</td>\n",
       "      <td>NaN</td>\n",
       "      <td>NaN</td>\n",
       "      <td>NaN</td>\n",
       "      <td>NaN</td>\n",
       "      <td>NaN</td>\n",
       "    </tr>\n",
       "    <tr>\n",
       "      <th>162905</th>\n",
       "      <td>844965</td>\n",
       "      <td>TTI</td>\n",
       "      <td>0000844965-11-000022</td>\n",
       "      <td>2010-12-31</td>\n",
       "      <td>0</td>\n",
       "      <td>NaN</td>\n",
       "      <td>NaN</td>\n",
       "      <td>NaN</td>\n",
       "      <td>NaN</td>\n",
       "      <td>NaN</td>\n",
       "    </tr>\n",
       "    <tr>\n",
       "      <th>55260</th>\n",
       "      <td>1374310</td>\n",
       "      <td>CBOE</td>\n",
       "      <td>0001445305-12-000485</td>\n",
       "      <td>2011-12-31</td>\n",
       "      <td>0</td>\n",
       "      <td>NaN</td>\n",
       "      <td>NaN</td>\n",
       "      <td>NaN</td>\n",
       "      <td>NaN</td>\n",
       "      <td>NaN</td>\n",
       "    </tr>\n",
       "    <tr>\n",
       "      <th>...</th>\n",
       "      <td>...</td>\n",
       "      <td>...</td>\n",
       "      <td>...</td>\n",
       "      <td>...</td>\n",
       "      <td>...</td>\n",
       "      <td>...</td>\n",
       "      <td>...</td>\n",
       "      <td>...</td>\n",
       "      <td>...</td>\n",
       "      <td>...</td>\n",
       "    </tr>\n",
       "    <tr>\n",
       "      <th>111016</th>\n",
       "      <td>807707</td>\n",
       "      <td>VOXX</td>\n",
       "      <td>0000807707-19-000013</td>\n",
       "      <td>2019-02-28</td>\n",
       "      <td>0</td>\n",
       "      <td>NaN</td>\n",
       "      <td>NaN</td>\n",
       "      <td>NaN</td>\n",
       "      <td>NaN</td>\n",
       "      <td>NaN</td>\n",
       "    </tr>\n",
       "    <tr>\n",
       "      <th>224542</th>\n",
       "      <td>202947</td>\n",
       "      <td>CPI</td>\n",
       "      <td>0001564590-20-009173</td>\n",
       "      <td>2019-12-31</td>\n",
       "      <td>0</td>\n",
       "      <td>NaN</td>\n",
       "      <td>NaN</td>\n",
       "      <td>NaN</td>\n",
       "      <td>NaN</td>\n",
       "      <td>NaN</td>\n",
       "    </tr>\n",
       "    <tr>\n",
       "      <th>72111</th>\n",
       "      <td>1320414</td>\n",
       "      <td>SEM</td>\n",
       "      <td>0001628280-20-001905</td>\n",
       "      <td>2019-12-31</td>\n",
       "      <td>0</td>\n",
       "      <td>NaN</td>\n",
       "      <td>NaN</td>\n",
       "      <td>NaN</td>\n",
       "      <td>NaN</td>\n",
       "      <td>NaN</td>\n",
       "    </tr>\n",
       "    <tr>\n",
       "      <th>192490</th>\n",
       "      <td>1402057</td>\n",
       "      <td>CDW</td>\n",
       "      <td>0001402057-20-000042</td>\n",
       "      <td>2019-12-31</td>\n",
       "      <td>0</td>\n",
       "      <td>NaN</td>\n",
       "      <td>NaN</td>\n",
       "      <td>NaN</td>\n",
       "      <td>NaN</td>\n",
       "      <td>NaN</td>\n",
       "    </tr>\n",
       "    <tr>\n",
       "      <th>224797</th>\n",
       "      <td>1401521</td>\n",
       "      <td>UIHC</td>\n",
       "      <td>0001401521-20-000018</td>\n",
       "      <td>2019-12-31</td>\n",
       "      <td>0</td>\n",
       "      <td>NaN</td>\n",
       "      <td>NaN</td>\n",
       "      <td>NaN</td>\n",
       "      <td>NaN</td>\n",
       "      <td>NaN</td>\n",
       "    </tr>\n",
       "  </tbody>\n",
       "</table>\n",
       "<p>85 rows × 10 columns</p>\n",
       "</div>"
      ],
      "text/plain": [
       "            cik ticker                  adsh      period qtrs  NetIncomeLoss  \\\n",
       "147094     8411    ATW  0001140361-10-047001  2010-09-30    0            NaN   \n",
       "49310   1076195    LTM  0000950123-11-019873  2010-12-31    0            NaN   \n",
       "207544   947484   ACGL  0001047469-11-001529  2010-12-31    0            NaN   \n",
       "162905   844965    TTI  0000844965-11-000022  2010-12-31    0            NaN   \n",
       "55260   1374310   CBOE  0001445305-12-000485  2011-12-31    0            NaN   \n",
       "...         ...    ...                   ...         ...  ...            ...   \n",
       "111016   807707   VOXX  0000807707-19-000013  2019-02-28    0            NaN   \n",
       "224542   202947    CPI  0001564590-20-009173  2019-12-31    0            NaN   \n",
       "72111   1320414    SEM  0001628280-20-001905  2019-12-31    0            NaN   \n",
       "192490  1402057    CDW  0001402057-20-000042  2019-12-31    0            NaN   \n",
       "224797  1401521   UIHC  0001401521-20-000018  2019-12-31    0            NaN   \n",
       "\n",
       "        NetIncomeLossAvailableToCommonStockholdersBasic  ProfitLoss  \\\n",
       "147094                                              NaN         NaN   \n",
       "49310                                               NaN         NaN   \n",
       "207544                                              NaN         NaN   \n",
       "162905                                              NaN         NaN   \n",
       "55260                                               NaN         NaN   \n",
       "...                                                 ...         ...   \n",
       "111016                                              NaN         NaN   \n",
       "224542                                              NaN         NaN   \n",
       "72111                                               NaN         NaN   \n",
       "192490                                              NaN         NaN   \n",
       "224797                                              NaN         NaN   \n",
       "\n",
       "        CostOfGoodsAndServicesSold  GrossProfit  \n",
       "147094                         NaN          NaN  \n",
       "49310                          NaN          NaN  \n",
       "207544                         NaN          NaN  \n",
       "162905                         NaN          NaN  \n",
       "55260                          NaN          NaN  \n",
       "...                            ...          ...  \n",
       "111016                         NaN          NaN  \n",
       "224542                         NaN          NaN  \n",
       "72111                          NaN          NaN  \n",
       "192490                         NaN          NaN  \n",
       "224797                         NaN          NaN  \n",
       "\n",
       "[85 rows x 10 columns]"
      ]
     },
     "execution_count": null,
     "metadata": {},
     "output_type": "execute_result"
    }
   ],
   "source": [
    "pd.set_option('display.max_rows', 40)\n",
    "is_pivot_pd_copy[(is_pivot_pd_copy.NetIncomeLoss.isnull())  \\\n",
    "              &(is_pivot_pd_copy.NetIncomeLossAvailableToCommonStockholdersBasic.isnull())  \\\n",
    "              &(is_pivot_pd_copy.ProfitLoss.isnull())   \\\n",
    "              &(is_pivot_pd_copy.fp == 'FY')   \\\n",
    "              &(is_pivot_pd_copy.qtrs == '0')   \\\n",
    "#                 &(is_pivot_pd_copy.Revenues.isnull())  \\\n",
    "#                 &(is_pivot_pd_copy.SalesRevenueNet.isnull())  \\\n",
    "                ] \\\n",
    "  [[\"cik\",\"ticker\", \"adsh\",\"period\", \"qtrs\", \n",
    "    'NetIncomeLoss',\n",
    "    'NetIncomeLossAvailableToCommonStockholdersBasic',\n",
    "    'ProfitLoss',\n",
    "    \n",
    "#  'Revenues',\n",
    "#  'SalesRevenueNet',\n",
    "#  'OperatingLeasesIncomeStatementLeaseRevenue',\n",
    "#  'RevenueFromContractWithCustomerExcludingAssessedTax', # Sales\n",
    "#  'RevenueFromContractWithCustomerIncludingAssessedTax', # Sales\n",
    "\n",
    "#  'RevenueFromCollaborativeArrangementExcludingRevenueFromContractWithCustomer',\n",
    "#  'RevenueNotFromContractWithCustomer',\n",
    "#  'RevenueNotFromContractWithCustomerExcludingInterestIncome',\n",
    "#  'RevenueNotFromContractWithCustomerOther',\n",
    "#  'RevenuesFromExternalCustomers',    \n",
    "    \n",
    "    \n",
    "    \n",
    "'CostOfGoodsAndServicesSold',\n",
    " 'GrossProfit'\n",
    "   \n",
    "   \n",
    "   \n",
    "   ]] \\\n",
    "    .sort_values(by=['period'])"
   ]
  },
  {
   "cell_type": "code",
   "execution_count": null,
   "metadata": {},
   "outputs": [
    {
     "data": {
      "text/html": [
       "<div>\n",
       "<style scoped>\n",
       "    .dataframe tbody tr th:only-of-type {\n",
       "        vertical-align: middle;\n",
       "    }\n",
       "\n",
       "    .dataframe tbody tr th {\n",
       "        vertical-align: top;\n",
       "    }\n",
       "\n",
       "    .dataframe thead th {\n",
       "        text-align: right;\n",
       "    }\n",
       "</style>\n",
       "<table border=\"1\" class=\"dataframe\">\n",
       "  <thead>\n",
       "    <tr style=\"text-align: right;\">\n",
       "      <th></th>\n",
       "      <th>cik</th>\n",
       "      <th>ticker</th>\n",
       "      <th>adsh</th>\n",
       "      <th>form</th>\n",
       "      <th>period</th>\n",
       "      <th>fp</th>\n",
       "      <th>qtrs</th>\n",
       "      <th>AccountsNotesAndLoansReceivableNetCurrent</th>\n",
       "      <th>AccountsPayableAndAccruedLiabilitiesCurrent</th>\n",
       "      <th>AccountsPayableAndAccruedLiabilitiesCurrentAndNoncurrent</th>\n",
       "      <th>...</th>\n",
       "      <th>WeightedAverageNumberOfLimitedPartnershipAndGeneralPartnershipUnitOutstandingBasicAndDiluted</th>\n",
       "      <th>WeightedAverageNumberOfShareOutstandingBasicAndDiluted</th>\n",
       "      <th>WeightedAverageNumberOfSharesIssuedBasic</th>\n",
       "      <th>WeightedAverageNumberOfSharesOutstandingBasic</th>\n",
       "      <th>WeightedAverageNumberOfSharesOutstandingBasicAndDiluted</th>\n",
       "      <th>WeightedAverageNumberOfSharesRestrictedStock</th>\n",
       "      <th>WeightedAverageNumberOfSharesTreasuryStock</th>\n",
       "      <th>WeightedAverageNumerDilutedLimitedPartnershipUnitsOutstandingAdjustment</th>\n",
       "      <th>WellServiceExpense</th>\n",
       "      <th>WriteOffOfDeferredDebtIssuanceCost</th>\n",
       "    </tr>\n",
       "  </thead>\n",
       "  <tbody>\n",
       "    <tr>\n",
       "      <th>218891</th>\n",
       "      <td>1401521</td>\n",
       "      <td>UIHC</td>\n",
       "      <td>0001401521-20-000018</td>\n",
       "      <td>10-K</td>\n",
       "      <td>2019-12-31</td>\n",
       "      <td>FY</td>\n",
       "      <td>4</td>\n",
       "      <td>NaN</td>\n",
       "      <td>NaN</td>\n",
       "      <td>NaN</td>\n",
       "      <td>...</td>\n",
       "      <td>NaN</td>\n",
       "      <td>NaN</td>\n",
       "      <td>NaN</td>\n",
       "      <td>NaN</td>\n",
       "      <td>NaN</td>\n",
       "      <td>NaN</td>\n",
       "      <td>NaN</td>\n",
       "      <td>NaN</td>\n",
       "      <td>NaN</td>\n",
       "      <td>NaN</td>\n",
       "    </tr>\n",
       "    <tr>\n",
       "      <th>224797</th>\n",
       "      <td>1401521</td>\n",
       "      <td>UIHC</td>\n",
       "      <td>0001401521-20-000018</td>\n",
       "      <td>10-K</td>\n",
       "      <td>2019-12-31</td>\n",
       "      <td>FY</td>\n",
       "      <td>0</td>\n",
       "      <td>NaN</td>\n",
       "      <td>NaN</td>\n",
       "      <td>NaN</td>\n",
       "      <td>...</td>\n",
       "      <td>NaN</td>\n",
       "      <td>NaN</td>\n",
       "      <td>NaN</td>\n",
       "      <td>NaN</td>\n",
       "      <td>NaN</td>\n",
       "      <td>NaN</td>\n",
       "      <td>NaN</td>\n",
       "      <td>NaN</td>\n",
       "      <td>NaN</td>\n",
       "      <td>NaN</td>\n",
       "    </tr>\n",
       "  </tbody>\n",
       "</table>\n",
       "<p>2 rows × 2328 columns</p>\n",
       "</div>"
      ],
      "text/plain": [
       "            cik ticker                  adsh  form      period  fp qtrs  \\\n",
       "218891  1401521   UIHC  0001401521-20-000018  10-K  2019-12-31  FY    4   \n",
       "224797  1401521   UIHC  0001401521-20-000018  10-K  2019-12-31  FY    0   \n",
       "\n",
       "        AccountsNotesAndLoansReceivableNetCurrent  \\\n",
       "218891                                        NaN   \n",
       "224797                                        NaN   \n",
       "\n",
       "        AccountsPayableAndAccruedLiabilitiesCurrent  \\\n",
       "218891                                          NaN   \n",
       "224797                                          NaN   \n",
       "\n",
       "        AccountsPayableAndAccruedLiabilitiesCurrentAndNoncurrent  ...  \\\n",
       "218891                                                NaN         ...   \n",
       "224797                                                NaN         ...   \n",
       "\n",
       "        WeightedAverageNumberOfLimitedPartnershipAndGeneralPartnershipUnitOutstandingBasicAndDiluted  \\\n",
       "218891                                                NaN                                              \n",
       "224797                                                NaN                                              \n",
       "\n",
       "        WeightedAverageNumberOfShareOutstandingBasicAndDiluted  \\\n",
       "218891                                                NaN        \n",
       "224797                                                NaN        \n",
       "\n",
       "        WeightedAverageNumberOfSharesIssuedBasic  \\\n",
       "218891                                       NaN   \n",
       "224797                                       NaN   \n",
       "\n",
       "        WeightedAverageNumberOfSharesOutstandingBasic  \\\n",
       "218891                                            NaN   \n",
       "224797                                            NaN   \n",
       "\n",
       "        WeightedAverageNumberOfSharesOutstandingBasicAndDiluted  \\\n",
       "218891                                                NaN         \n",
       "224797                                                NaN         \n",
       "\n",
       "        WeightedAverageNumberOfSharesRestrictedStock  \\\n",
       "218891                                           NaN   \n",
       "224797                                           NaN   \n",
       "\n",
       "        WeightedAverageNumberOfSharesTreasuryStock  \\\n",
       "218891                                         NaN   \n",
       "224797                                         NaN   \n",
       "\n",
       "        WeightedAverageNumerDilutedLimitedPartnershipUnitsOutstandingAdjustment  \\\n",
       "218891                                                NaN                         \n",
       "224797                                                NaN                         \n",
       "\n",
       "        WellServiceExpense  WriteOffOfDeferredDebtIssuanceCost  \n",
       "218891                 NaN                                 NaN  \n",
       "224797                 NaN                                 NaN  \n",
       "\n",
       "[2 rows x 2328 columns]"
      ]
     },
     "execution_count": null,
     "metadata": {},
     "output_type": "execute_result"
    }
   ],
   "source": [
    "is_pivot_pd_copy[is_pivot_pd_copy.adsh == '0001401521-20-000018'] #.isnull().sum(axis=1)\n"
   ]
  },
  {
   "cell_type": "code",
   "execution_count": null,
   "metadata": {},
   "outputs": [
    {
     "data": {
      "text/plain": [
       "1556"
      ]
     },
     "execution_count": null,
     "metadata": {},
     "output_type": "execute_result"
    }
   ],
   "source": [
    "#is_pivot_pd_copy[is_pivot_pd_copy.adsh == '0001401521-20-000018'].isnull().sum(axis=1)\n",
    "selection = is_pivot_pd_copy[(is_pivot_pd_copy.qtrs == '0') | (is_pivot_pd_copy.qtrs > '4')].isnull().sum(axis=1)\n",
    "selection = selection == 2320 # shape[1]-8\n",
    "selection.sum()"
   ]
  },
  {
   "cell_type": "code",
   "execution_count": null,
   "metadata": {},
   "outputs": [],
   "source": [
    "cf_empty_pd = cf_empty_count.toPandas()"
   ]
  },
  {
   "cell_type": "code",
   "execution_count": null,
   "metadata": {},
   "outputs": [
    {
     "data": {
      "text/plain": [
       "(1, 3052)"
      ]
     },
     "execution_count": null,
     "metadata": {},
     "output_type": "execute_result"
    }
   ],
   "source": [
    "cf_empty_pd.shape"
   ]
  },
  {
   "cell_type": "code",
   "execution_count": null,
   "metadata": {},
   "outputs": [],
   "source": [
    "cf_melt_pd = cf_empty_pd.melt(var_name = 'Tag', value_name = \"Count\")\n",
    "cf_melt_pd['diff'] = 133811 -cf_melt_pd['Count']"
   ]
  },
  {
   "cell_type": "code",
   "execution_count": null,
   "metadata": {},
   "outputs": [
    {
     "data": {
      "text/html": [
       "<div>\n",
       "<style scoped>\n",
       "    .dataframe tbody tr th:only-of-type {\n",
       "        vertical-align: middle;\n",
       "    }\n",
       "\n",
       "    .dataframe tbody tr th {\n",
       "        vertical-align: top;\n",
       "    }\n",
       "\n",
       "    .dataframe thead th {\n",
       "        text-align: right;\n",
       "    }\n",
       "</style>\n",
       "<table border=\"1\" class=\"dataframe\">\n",
       "  <thead>\n",
       "    <tr style=\"text-align: right;\">\n",
       "      <th></th>\n",
       "      <th>Tag</th>\n",
       "      <th>Count</th>\n",
       "      <th>diff</th>\n",
       "    </tr>\n",
       "  </thead>\n",
       "  <tbody>\n",
       "    <tr>\n",
       "      <th>350</th>\n",
       "      <td>CashAndCashEquivalentsPeriodIncreaseDecrease</td>\n",
       "      <td>30244</td>\n",
       "      <td>103567</td>\n",
       "    </tr>\n",
       "    <tr>\n",
       "      <th>351</th>\n",
       "      <td>CashAndCashEquivalentsPeriodIncreaseDecreaseEx...</td>\n",
       "      <td>132424</td>\n",
       "      <td>1387</td>\n",
       "    </tr>\n",
       "    <tr>\n",
       "      <th>360</th>\n",
       "      <td>CashCashEquivalentsRestrictedCashAndRestricted...</td>\n",
       "      <td>130603</td>\n",
       "      <td>3208</td>\n",
       "    </tr>\n",
       "    <tr>\n",
       "      <th>361</th>\n",
       "      <td>CashCashEquivalentsRestrictedCashAndRestricted...</td>\n",
       "      <td>119033</td>\n",
       "      <td>14778</td>\n",
       "    </tr>\n",
       "    <tr>\n",
       "      <th>382</th>\n",
       "      <td>CashPeriodIncreaseDecrease</td>\n",
       "      <td>132236</td>\n",
       "      <td>1575</td>\n",
       "    </tr>\n",
       "    <tr>\n",
       "      <th>383</th>\n",
       "      <td>CashPeriodIncreaseDecreaseExcludingExchangeRat...</td>\n",
       "      <td>133766</td>\n",
       "      <td>45</td>\n",
       "    </tr>\n",
       "  </tbody>\n",
       "</table>\n",
       "</div>"
      ],
      "text/plain": [
       "                                                   Tag   Count    diff\n",
       "350       CashAndCashEquivalentsPeriodIncreaseDecrease   30244  103567\n",
       "351  CashAndCashEquivalentsPeriodIncreaseDecreaseEx...  132424    1387\n",
       "360  CashCashEquivalentsRestrictedCashAndRestricted...  130603    3208\n",
       "361  CashCashEquivalentsRestrictedCashAndRestricted...  119033   14778\n",
       "382                         CashPeriodIncreaseDecrease  132236    1575\n",
       "383  CashPeriodIncreaseDecreaseExcludingExchangeRat...  133766      45"
      ]
     },
     "execution_count": null,
     "metadata": {},
     "output_type": "execute_result"
    }
   ],
   "source": [
    "canditates =  ['CashAndCashEquivalentsPeriodIncreaseDecrease','cpy_CashAndCashEquivalentsPeriodIncreaseDecrease',\n",
    " 'CashAndCashEquivalentsPeriodIncreaseDecreaseExcludingExchangeRateEffect',\n",
    " 'CashCashEquivalentsRestrictedCashAndRestrictedCashEquivalentsPeriodIncreaseDecreaseExcludingExchangeRateEffect',\n",
    " 'CashCashEquivalentsRestrictedCashAndRestrictedCashEquivalentsPeriodIncreaseDecreaseIncludingExchangeRateEffect',\n",
    " 'CashPeriodIncreaseDecrease',\n",
    " 'CashPeriodIncreaseDecreaseExcludingExchangeRateEffect']\n",
    "\n",
    "cf_melt_pd[cf_melt_pd['Tag'].isin(canditates)]"
   ]
  },
  {
   "cell_type": "code",
   "execution_count": null,
   "metadata": {},
   "outputs": [],
   "source": [
    "sorted = cf_melt_pd.sort_values('Count', ascending=True)[:100]\n",
    "sorted.reset_index(drop = True, inplace = True)\n",
    "sorted.plot.bar(x = 'Tag', y='Count', figsize = (15,10))"
   ]
  },
  {
   "cell_type": "code",
   "execution_count": null,
   "metadata": {},
   "outputs": [],
   "source": []
  },
  {
   "cell_type": "code",
   "execution_count": null,
   "metadata": {},
   "outputs": [],
   "source": [
    "empty_count = get_empty_count(bs_pivot_value)"
   ]
  },
  {
   "cell_type": "code",
   "execution_count": null,
   "metadata": {},
   "outputs": [],
   "source": [
    "empty_pd = empty_count.toPandas()"
   ]
  },
  {
   "cell_type": "code",
   "execution_count": null,
   "metadata": {},
   "outputs": [],
   "source": [
    "melt_pd = empty_pd.melt(var_name = 'Tag', value_name = \"Count\")\n",
    "# df2 = pd.melt(df, id_vars=[\"location\", \"name\"], var_name=\"Date\", value_name=\"Value\")"
   ]
  },
  {
   "cell_type": "code",
   "execution_count": null,
   "metadata": {},
   "outputs": [
    {
     "data": {
      "text/plain": [
       "Index(['Tag', 'Count'], dtype='object')"
      ]
     },
     "execution_count": null,
     "metadata": {},
     "output_type": "execute_result"
    }
   ],
   "source": [
    "melt_pd.columns"
   ]
  },
  {
   "cell_type": "code",
   "execution_count": null,
   "metadata": {},
   "outputs": [],
   "source": [
    "pd_frame = df_all_selected.where(\"adsh == '0001062993-16-008266' and stmt == 'IS'\").toPandas()\n",
    "#pd_frame = df_all_selected.where(\"adsh == '0001558370-20-011113'\").toPandas()\n",
    "#print(pd_frame.sort_values(['report', 'line']))"
   ]
  },
  {
   "cell_type": "code",
   "execution_count": null,
   "metadata": {},
   "outputs": [
    {
     "data": {
      "text/html": [
       "<div>\n",
       "<style scoped>\n",
       "    .dataframe tbody tr th:only-of-type {\n",
       "        vertical-align: middle;\n",
       "    }\n",
       "\n",
       "    .dataframe tbody tr th {\n",
       "        vertical-align: top;\n",
       "    }\n",
       "\n",
       "    .dataframe thead th {\n",
       "        text-align: right;\n",
       "    }\n",
       "</style>\n",
       "<table border=\"1\" class=\"dataframe\">\n",
       "  <thead>\n",
       "    <tr style=\"text-align: right;\">\n",
       "      <th></th>\n",
       "      <th>fp</th>\n",
       "      <th>cik</th>\n",
       "      <th>tag</th>\n",
       "      <th>value</th>\n",
       "      <th>stmt</th>\n",
       "      <th>report</th>\n",
       "      <th>line</th>\n",
       "      <th>period</th>\n",
       "      <th>qtrs</th>\n",
       "    </tr>\n",
       "  </thead>\n",
       "  <tbody>\n",
       "    <tr>\n",
       "      <th>5</th>\n",
       "      <td>Q3</td>\n",
       "      <td>1172136</td>\n",
       "      <td>SalesRevenueEnergyServices</td>\n",
       "      <td>3.084220e+07</td>\n",
       "      <td>IS</td>\n",
       "      <td>4</td>\n",
       "      <td>4</td>\n",
       "      <td>2015-12-31</td>\n",
       "      <td>4</td>\n",
       "    </tr>\n",
       "    <tr>\n",
       "      <th>11</th>\n",
       "      <td>Q3</td>\n",
       "      <td>1172136</td>\n",
       "      <td>OtherAlternativeEnergySalesRevenue</td>\n",
       "      <td>3.579020e+05</td>\n",
       "      <td>IS</td>\n",
       "      <td>4</td>\n",
       "      <td>5</td>\n",
       "      <td>2015-12-31</td>\n",
       "      <td>4</td>\n",
       "    </tr>\n",
       "    <tr>\n",
       "      <th>18</th>\n",
       "      <td>Q3</td>\n",
       "      <td>1172136</td>\n",
       "      <td>Revenues</td>\n",
       "      <td>3.120010e+07</td>\n",
       "      <td>IS</td>\n",
       "      <td>4</td>\n",
       "      <td>6</td>\n",
       "      <td>2015-12-31</td>\n",
       "      <td>4</td>\n",
       "    </tr>\n",
       "    <tr>\n",
       "      <th>6</th>\n",
       "      <td>Q3</td>\n",
       "      <td>1172136</td>\n",
       "      <td>ElectricProductionExpense</td>\n",
       "      <td>9.572707e+06</td>\n",
       "      <td>IS</td>\n",
       "      <td>4</td>\n",
       "      <td>8</td>\n",
       "      <td>2015-12-31</td>\n",
       "      <td>4</td>\n",
       "    </tr>\n",
       "    <tr>\n",
       "      <th>10</th>\n",
       "      <td>Q3</td>\n",
       "      <td>1172136</td>\n",
       "      <td>DepreciationAndAmortization</td>\n",
       "      <td>6.299405e+06</td>\n",
       "      <td>IS</td>\n",
       "      <td>4</td>\n",
       "      <td>9</td>\n",
       "      <td>2015-12-31</td>\n",
       "      <td>4</td>\n",
       "    </tr>\n",
       "    <tr>\n",
       "      <th>22</th>\n",
       "      <td>Q3</td>\n",
       "      <td>1172136</td>\n",
       "      <td>CostOfRevenue</td>\n",
       "      <td>1.587211e+07</td>\n",
       "      <td>IS</td>\n",
       "      <td>4</td>\n",
       "      <td>10</td>\n",
       "      <td>2015-12-31</td>\n",
       "      <td>4</td>\n",
       "    </tr>\n",
       "    <tr>\n",
       "      <th>0</th>\n",
       "      <td>Q3</td>\n",
       "      <td>1172136</td>\n",
       "      <td>GrossProfit</td>\n",
       "      <td>1.532799e+07</td>\n",
       "      <td>IS</td>\n",
       "      <td>4</td>\n",
       "      <td>11</td>\n",
       "      <td>2015-12-31</td>\n",
       "      <td>4</td>\n",
       "    </tr>\n",
       "    <tr>\n",
       "      <th>7</th>\n",
       "      <td>Q3</td>\n",
       "      <td>1172136</td>\n",
       "      <td>GeneralAndAdministrativeExpense</td>\n",
       "      <td>1.087675e+06</td>\n",
       "      <td>IS</td>\n",
       "      <td>4</td>\n",
       "      <td>13</td>\n",
       "      <td>2015-12-31</td>\n",
       "      <td>4</td>\n",
       "    </tr>\n",
       "    <tr>\n",
       "      <th>4</th>\n",
       "      <td>Q3</td>\n",
       "      <td>1172136</td>\n",
       "      <td>ProfessionalFees</td>\n",
       "      <td>1.067939e+06</td>\n",
       "      <td>IS</td>\n",
       "      <td>4</td>\n",
       "      <td>14</td>\n",
       "      <td>2015-12-31</td>\n",
       "      <td>4</td>\n",
       "    </tr>\n",
       "    <tr>\n",
       "      <th>23</th>\n",
       "      <td>Q3</td>\n",
       "      <td>1172136</td>\n",
       "      <td>SalariesAndWages</td>\n",
       "      <td>2.882105e+06</td>\n",
       "      <td>IS</td>\n",
       "      <td>4</td>\n",
       "      <td>15</td>\n",
       "      <td>2015-12-31</td>\n",
       "      <td>4</td>\n",
       "    </tr>\n",
       "    <tr>\n",
       "      <th>17</th>\n",
       "      <td>Q3</td>\n",
       "      <td>1172136</td>\n",
       "      <td>TravelAndEntertainmentExpense</td>\n",
       "      <td>2.155910e+05</td>\n",
       "      <td>IS</td>\n",
       "      <td>4</td>\n",
       "      <td>16</td>\n",
       "      <td>2015-12-31</td>\n",
       "      <td>4</td>\n",
       "    </tr>\n",
       "    <tr>\n",
       "      <th>8</th>\n",
       "      <td>Q3</td>\n",
       "      <td>1172136</td>\n",
       "      <td>ExplorationCosts</td>\n",
       "      <td>8.231600e+04</td>\n",
       "      <td>IS</td>\n",
       "      <td>4</td>\n",
       "      <td>17</td>\n",
       "      <td>2015-12-31</td>\n",
       "      <td>4</td>\n",
       "    </tr>\n",
       "    <tr>\n",
       "      <th>12</th>\n",
       "      <td>Q3</td>\n",
       "      <td>1172136</td>\n",
       "      <td>OperatingIncomeLoss</td>\n",
       "      <td>9.992360e+06</td>\n",
       "      <td>IS</td>\n",
       "      <td>4</td>\n",
       "      <td>18</td>\n",
       "      <td>2015-12-31</td>\n",
       "      <td>4</td>\n",
       "    </tr>\n",
       "    <tr>\n",
       "      <th>3</th>\n",
       "      <td>Q3</td>\n",
       "      <td>1172136</td>\n",
       "      <td>InterestExpense</td>\n",
       "      <td>3.797155e+06</td>\n",
       "      <td>IS</td>\n",
       "      <td>4</td>\n",
       "      <td>19</td>\n",
       "      <td>2015-12-31</td>\n",
       "      <td>4</td>\n",
       "    </tr>\n",
       "    <tr>\n",
       "      <th>2</th>\n",
       "      <td>Q3</td>\n",
       "      <td>1172136</td>\n",
       "      <td>OtherNonoperatingIncomeExpense</td>\n",
       "      <td>1.412930e+05</td>\n",
       "      <td>IS</td>\n",
       "      <td>4</td>\n",
       "      <td>20</td>\n",
       "      <td>2015-12-31</td>\n",
       "      <td>4</td>\n",
       "    </tr>\n",
       "    <tr>\n",
       "      <th>21</th>\n",
       "      <td>Q3</td>\n",
       "      <td>1172136</td>\n",
       "      <td>IncomeLossFromContinuingOperationsBeforeIncome...</td>\n",
       "      <td>6.336498e+06</td>\n",
       "      <td>IS</td>\n",
       "      <td>4</td>\n",
       "      <td>21</td>\n",
       "      <td>2015-12-31</td>\n",
       "      <td>4</td>\n",
       "    </tr>\n",
       "    <tr>\n",
       "      <th>15</th>\n",
       "      <td>Q3</td>\n",
       "      <td>1172136</td>\n",
       "      <td>IncomeTaxExpenseBenefit</td>\n",
       "      <td>1.386000e+06</td>\n",
       "      <td>IS</td>\n",
       "      <td>4</td>\n",
       "      <td>22</td>\n",
       "      <td>2015-12-31</td>\n",
       "      <td>4</td>\n",
       "    </tr>\n",
       "    <tr>\n",
       "      <th>20</th>\n",
       "      <td>Q3</td>\n",
       "      <td>1172136</td>\n",
       "      <td>ProfitLoss</td>\n",
       "      <td>4.950498e+06</td>\n",
       "      <td>IS</td>\n",
       "      <td>4</td>\n",
       "      <td>23</td>\n",
       "      <td>2015-12-31</td>\n",
       "      <td>4</td>\n",
       "    </tr>\n",
       "    <tr>\n",
       "      <th>13</th>\n",
       "      <td>Q3</td>\n",
       "      <td>1172136</td>\n",
       "      <td>NetIncomeLossAttributableToNoncontrollingInterest</td>\n",
       "      <td>3.103269e+06</td>\n",
       "      <td>IS</td>\n",
       "      <td>4</td>\n",
       "      <td>24</td>\n",
       "      <td>2015-12-31</td>\n",
       "      <td>4</td>\n",
       "    </tr>\n",
       "    <tr>\n",
       "      <th>24</th>\n",
       "      <td>Q3</td>\n",
       "      <td>1172136</td>\n",
       "      <td>NetIncomeLoss</td>\n",
       "      <td>1.847229e+06</td>\n",
       "      <td>IS</td>\n",
       "      <td>4</td>\n",
       "      <td>25</td>\n",
       "      <td>2015-12-31</td>\n",
       "      <td>4</td>\n",
       "    </tr>\n",
       "    <tr>\n",
       "      <th>1</th>\n",
       "      <td>Q3</td>\n",
       "      <td>1172136</td>\n",
       "      <td>UnrealizedGainLossOnSecurities</td>\n",
       "      <td>0.000000e+00</td>\n",
       "      <td>IS</td>\n",
       "      <td>4</td>\n",
       "      <td>27</td>\n",
       "      <td>2015-12-31</td>\n",
       "      <td>4</td>\n",
       "    </tr>\n",
       "    <tr>\n",
       "      <th>14</th>\n",
       "      <td>Q3</td>\n",
       "      <td>1172136</td>\n",
       "      <td>ComprehensiveIncomeNetOfTax</td>\n",
       "      <td>1.847229e+06</td>\n",
       "      <td>IS</td>\n",
       "      <td>4</td>\n",
       "      <td>28</td>\n",
       "      <td>2015-12-31</td>\n",
       "      <td>4</td>\n",
       "    </tr>\n",
       "    <tr>\n",
       "      <th>19</th>\n",
       "      <td>Q3</td>\n",
       "      <td>1172136</td>\n",
       "      <td>EarningsPerShareBasic</td>\n",
       "      <td>2.000000e-02</td>\n",
       "      <td>IS</td>\n",
       "      <td>4</td>\n",
       "      <td>29</td>\n",
       "      <td>2015-12-31</td>\n",
       "      <td>4</td>\n",
       "    </tr>\n",
       "    <tr>\n",
       "      <th>16</th>\n",
       "      <td>Q3</td>\n",
       "      <td>1172136</td>\n",
       "      <td>EarningsPerShareDiluted</td>\n",
       "      <td>2.000000e-02</td>\n",
       "      <td>IS</td>\n",
       "      <td>4</td>\n",
       "      <td>30</td>\n",
       "      <td>2015-12-31</td>\n",
       "      <td>4</td>\n",
       "    </tr>\n",
       "    <tr>\n",
       "      <th>9</th>\n",
       "      <td>Q3</td>\n",
       "      <td>1172136</td>\n",
       "      <td>WeightedAverageNumberOfSharesOutstandingBasic</td>\n",
       "      <td>1.069708e+08</td>\n",
       "      <td>IS</td>\n",
       "      <td>4</td>\n",
       "      <td>32</td>\n",
       "      <td>2015-12-31</td>\n",
       "      <td>4</td>\n",
       "    </tr>\n",
       "    <tr>\n",
       "      <th>25</th>\n",
       "      <td>Q3</td>\n",
       "      <td>1172136</td>\n",
       "      <td>WeightedAverageNumberOfDilutedSharesOutstanding</td>\n",
       "      <td>1.083136e+08</td>\n",
       "      <td>IS</td>\n",
       "      <td>4</td>\n",
       "      <td>33</td>\n",
       "      <td>2015-12-31</td>\n",
       "      <td>4</td>\n",
       "    </tr>\n",
       "  </tbody>\n",
       "</table>\n",
       "</div>"
      ],
      "text/plain": [
       "    fp      cik                                                tag  \\\n",
       "5   Q3  1172136                         SalesRevenueEnergyServices   \n",
       "11  Q3  1172136                 OtherAlternativeEnergySalesRevenue   \n",
       "18  Q3  1172136                                           Revenues   \n",
       "6   Q3  1172136                          ElectricProductionExpense   \n",
       "10  Q3  1172136                        DepreciationAndAmortization   \n",
       "22  Q3  1172136                                      CostOfRevenue   \n",
       "0   Q3  1172136                                        GrossProfit   \n",
       "7   Q3  1172136                    GeneralAndAdministrativeExpense   \n",
       "4   Q3  1172136                                   ProfessionalFees   \n",
       "23  Q3  1172136                                   SalariesAndWages   \n",
       "17  Q3  1172136                      TravelAndEntertainmentExpense   \n",
       "8   Q3  1172136                                   ExplorationCosts   \n",
       "12  Q3  1172136                                OperatingIncomeLoss   \n",
       "3   Q3  1172136                                    InterestExpense   \n",
       "2   Q3  1172136                     OtherNonoperatingIncomeExpense   \n",
       "21  Q3  1172136  IncomeLossFromContinuingOperationsBeforeIncome...   \n",
       "15  Q3  1172136                            IncomeTaxExpenseBenefit   \n",
       "20  Q3  1172136                                         ProfitLoss   \n",
       "13  Q3  1172136  NetIncomeLossAttributableToNoncontrollingInterest   \n",
       "24  Q3  1172136                                      NetIncomeLoss   \n",
       "1   Q3  1172136                     UnrealizedGainLossOnSecurities   \n",
       "14  Q3  1172136                        ComprehensiveIncomeNetOfTax   \n",
       "19  Q3  1172136                              EarningsPerShareBasic   \n",
       "16  Q3  1172136                            EarningsPerShareDiluted   \n",
       "9   Q3  1172136      WeightedAverageNumberOfSharesOutstandingBasic   \n",
       "25  Q3  1172136    WeightedAverageNumberOfDilutedSharesOutstanding   \n",
       "\n",
       "           value stmt  report  line      period qtrs  \n",
       "5   3.084220e+07   IS       4     4  2015-12-31    4  \n",
       "11  3.579020e+05   IS       4     5  2015-12-31    4  \n",
       "18  3.120010e+07   IS       4     6  2015-12-31    4  \n",
       "6   9.572707e+06   IS       4     8  2015-12-31    4  \n",
       "10  6.299405e+06   IS       4     9  2015-12-31    4  \n",
       "22  1.587211e+07   IS       4    10  2015-12-31    4  \n",
       "0   1.532799e+07   IS       4    11  2015-12-31    4  \n",
       "7   1.087675e+06   IS       4    13  2015-12-31    4  \n",
       "4   1.067939e+06   IS       4    14  2015-12-31    4  \n",
       "23  2.882105e+06   IS       4    15  2015-12-31    4  \n",
       "17  2.155910e+05   IS       4    16  2015-12-31    4  \n",
       "8   8.231600e+04   IS       4    17  2015-12-31    4  \n",
       "12  9.992360e+06   IS       4    18  2015-12-31    4  \n",
       "3   3.797155e+06   IS       4    19  2015-12-31    4  \n",
       "2   1.412930e+05   IS       4    20  2015-12-31    4  \n",
       "21  6.336498e+06   IS       4    21  2015-12-31    4  \n",
       "15  1.386000e+06   IS       4    22  2015-12-31    4  \n",
       "20  4.950498e+06   IS       4    23  2015-12-31    4  \n",
       "13  3.103269e+06   IS       4    24  2015-12-31    4  \n",
       "24  1.847229e+06   IS       4    25  2015-12-31    4  \n",
       "1   0.000000e+00   IS       4    27  2015-12-31    4  \n",
       "14  1.847229e+06   IS       4    28  2015-12-31    4  \n",
       "19  2.000000e-02   IS       4    29  2015-12-31    4  \n",
       "16  2.000000e-02   IS       4    30  2015-12-31    4  \n",
       "9   1.069708e+08   IS       4    32  2015-12-31    4  \n",
       "25  1.083136e+08   IS       4    33  2015-12-31    4  "
      ]
     },
     "execution_count": null,
     "metadata": {},
     "output_type": "execute_result"
    }
   ],
   "source": [
    "pd.set_option('display.max_rows', pd_frame.shape[0]+1)\n",
    "pd_frame[['fp','cik', 'tag', 'value', 'stmt', 'report', 'line','period', 'qtrs']].sort_values(['report','qtrs', 'line'])"
   ]
  },
  {
   "cell_type": "code",
   "execution_count": null,
   "metadata": {},
   "outputs": [],
   "source": [
    "gaap_CashCashEquivalentsRestrictedCashAndRestrictedCashEquivalentsPeriodIncreaseDecreaseIncludingExchangeRateEffect\n",
    "\n",
    "gaap_CashCashEquivalentsRestrictedCashAndRestrictedCashEquivalentsIncludingDisposalGroupAndDiscontinuedOperations\n",
    "gaap_CashCashEquivalentsRestrictedCashAndRestrictedCashEquivalentsIncludingDisposalGroupAndDiscontinuedOperations\n",
    "\n",
    "gaap_CashCashEquivalentsRestrictedCashAndRestrictedCashEquivalentsPeriodIncreaseDecreaseIncludingExchangeRateEffect\n",
    "\n",
    "gaap_CashCashEquivalentsRestrictedCashAndRestrictedCashEquivalents\n",
    "gaap_CashCashEquivalentsRestrictedCashAndRestrictedCashEquivalents"
   ]
  },
  {
   "cell_type": "code",
   "execution_count": null,
   "metadata": {},
   "outputs": [],
   "source": [
    "bs_pivot_report.where(\"adsh == '0001492298-20-000025'\").show()"
   ]
  },
  {
   "cell_type": "code",
   "execution_count": null,
   "metadata": {},
   "outputs": [
    {
     "data": {
      "text/plain": [
       "585411"
      ]
     },
     "execution_count": null,
     "metadata": {},
     "output_type": "execute_result"
    }
   ],
   "source": [
    "df_all_selected.select('adsh','stmt').distinct().count()"
   ]
  },
  {
   "cell_type": "code",
   "execution_count": null,
   "metadata": {},
   "outputs": [
    {
     "data": {
      "text/plain": [
       "133872"
      ]
     },
     "execution_count": null,
     "metadata": {},
     "output_type": "execute_result"
    }
   ],
   "source": [
    "df_all_selected.select('adsh','stmt').distinct().where('stmt = \"BS\"').count()"
   ]
  },
  {
   "cell_type": "code",
   "execution_count": null,
   "metadata": {},
   "outputs": [
    {
     "data": {
      "text/plain": [
       "86120"
      ]
     },
     "execution_count": null,
     "metadata": {},
     "output_type": "execute_result"
    }
   ],
   "source": [
    "df_all_selected.select('adsh','stmt').distinct().where('stmt = \"EQ\"').count()"
   ]
  },
  {
   "cell_type": "code",
   "execution_count": null,
   "metadata": {},
   "outputs": [],
   "source": [
    "cf_pivot_pd_copy.columns.tolist()"
   ]
  },
  {
   "cell_type": "code",
   "execution_count": null,
   "metadata": {},
   "outputs": [
    {
     "data": {
      "text/plain": [
       "['AccumulatedOtherComprehensiveIncomeLossAvailableForSaleSecuritiesAdjustmentNetOfTax',\n",
       " 'AccumulatedOtherComprehensiveIncomeLossCumulativeChangesInNetGainLossFromCashFlowHedgesEffectNetOfTax',\n",
       " 'AccumulatedOtherComprehensiveIncomeLossDefinedBenefitPensionAndOtherPostretirementPlansNetOfTax',\n",
       " 'AccumulatedOtherComprehensiveIncomeLossForeignCurrencyTranslationAdjustmentNetOfTax',\n",
       " 'AccumulatedOtherComprehensiveIncomeLossNetOfTax',\n",
       " 'AdjustmentsNoncashItemsToReconcileNetIncomeLossToCashProvidedByUsedInOperatingActivities',\n",
       " 'AdjustmentsToReconcileNetIncomeLossToCashProvidedByUsedInOperatingActivities',\n",
       " 'AmountRecognizedInNetPeriodicBenefitCostAndOtherComprehensiveIncomeLossBeforeTax',\n",
       " 'BusinessAcquisitionsProFormaIncomeLossFromContinuingOperationsBeforeChangesInAccountingAndExtraordinaryItemsNetOfTax',\n",
       " 'BusinessAcquisitionsProFormaNetIncomeLoss',\n",
       " 'ClosedBlockOperationsIncomeLossFromDiscontinuedOperationsNetOfTax',\n",
       " 'DefinedBenefitPlanAmountsRecognizedInOtherComprehensiveIncomeLossNetGainLossBeforeTax',\n",
       " 'DiscontinuedOperationAmountOfOtherIncomeLossFromDispositionOfDiscontinuedOperationNetOfTax',\n",
       " 'DiscontinuedOperationAmountOfOtherIncomeLossFromDispositionOfDiscontinuedOperationsBeforeIncomeTax',\n",
       " 'DiscontinuedOperationIncomeLossFromDiscontinuedOperationBeforeIncomeTax',\n",
       " 'DiscontinuedOperationIncomeLossFromDiscontinuedOperationDuringPhaseOutPeriodBeforeIncomeTax',\n",
       " 'DiscontinuedOperationIncomeLossFromDiscontinuedOperationDuringPhaseOutPeriodNetOfTax',\n",
       " 'DiscontinuedOperationIncomeLossFromDiscontinuedOperationNetOfTaxPerBasicAndDilutedShare',\n",
       " 'DiscontinuedOperationIncomeLossFromDiscontinuedOperationNetOfTaxPerBasicShare',\n",
       " 'DiscontinuedOperationIncomeLossFromDiscontinuedOperationNetOfTaxPerDilutedShare',\n",
       " 'DiscontinuedOperationTaxEffectOfIncomeLossFromDiscontinuedOperationDuringPhaseOutPeriod',\n",
       " 'DiscontinuedOperationTaxEffectOfIncomeLossFromDisposalOfDiscontinuedOperation',\n",
       " 'DiscontinuedOperationTaxEffectOfOtherIncomeLossFromDispositionOfDiscontinuedOperation',\n",
       " 'DisposalGroupIncludingDiscontinuedOperationOperatingIncomeLoss',\n",
       " 'EquityMethodInvestmentSummarizedFinancialInformationIncomeLossFromContinuingOperationsBeforeExtraordinaryItems',\n",
       " 'EquityMethodInvestmentSummarizedFinancialInformationNetIncomeLoss',\n",
       " 'IncomeLossAttributableToNoncontrollingInterest',\n",
       " 'IncomeLossAttributableToParent',\n",
       " 'IncomeLossBeforeCumulativeEffectOfChangeInAccountingPrinciple',\n",
       " 'IncomeLossBeforeCumulativeEffectOfChangeInAccountingPrinciplePerBasicShare',\n",
       " 'IncomeLossBeforeCumulativeEffectOfChangeInAccountingPrinciplePerDilutedShare',\n",
       " 'IncomeLossBeforeExtraordinaryItemsAndCumulativeEffectOfChangeInAccountingPrinciple',\n",
       " 'IncomeLossBeforeExtraordinaryItemsAndCumulativeEffectOfChangeInAccountingPrinciplePerBasicShare',\n",
       " 'IncomeLossBeforeExtraordinaryItemsAndCumulativeEffectOfChangeInAccountingPrinciplePerDilutedShare',\n",
       " 'IncomeLossBeforeExtraordinaryItemsAndCumulativeEffectOfChangeInAccountingPrinciplePerOutstandingLimitedPartnershipUnit',\n",
       " 'IncomeLossBeforeExtraordinaryItemsAndCumulativeEffectOfChangeInAccountingPrinciplePerOutstandingLimitedPartnershipUnitDiluted',\n",
       " 'IncomeLossBeforeGainOrLossOnSaleOfPropertiesExtraordinaryItemsAndCumulativeEffectsOfAccountingChanges',\n",
       " 'IncomeLossFromAffordableHousingProjectsEquityMethodInvestments',\n",
       " 'IncomeLossFromContinuingOperations',\n",
       " 'IncomeLossFromContinuingOperationsAttributableToNoncontrollingEntity',\n",
       " 'IncomeLossFromContinuingOperationsBeforeIncomeTaxesDomestic',\n",
       " 'IncomeLossFromContinuingOperationsBeforeIncomeTaxesExtraordinaryItemsNoncontrollingInterest',\n",
       " 'IncomeLossFromContinuingOperationsBeforeIncomeTaxesForeign',\n",
       " 'IncomeLossFromContinuingOperationsBeforeIncomeTaxesMinorityInterestAndIncomeLossFromEquityMethodInvestments',\n",
       " 'IncomeLossFromContinuingOperationsBeforeInterestExpenseInterestIncomeIncomeTaxesExtraordinaryItemsNoncontrollingInterestsNet',\n",
       " 'IncomeLossFromContinuingOperationsIncludingPortionAttributableToNoncontrollingInterest',\n",
       " 'IncomeLossFromContinuingOperationsNetOfTaxPerOutstandingLimitedPartnershipUnitDiluted',\n",
       " 'IncomeLossFromContinuingOperationsPerBasicAndDilutedShare',\n",
       " 'IncomeLossFromContinuingOperationsPerBasicShare',\n",
       " 'IncomeLossFromContinuingOperationsPerDilutedShare',\n",
       " 'IncomeLossFromContinuingOperationsPerOutstandingGeneralPartnershipUnitNetOfTax',\n",
       " 'IncomeLossFromContinuingOperationsPerOutstandingLimitedPartnershipAndGeneralPartnershipUnitBasic',\n",
       " 'IncomeLossFromContinuingOperationsPerOutstandingLimitedPartnershipAndGeneralPartnershipUnitBasicAndDiluted',\n",
       " 'IncomeLossFromContinuingOperationsPerOutstandingLimitedPartnershipUnit',\n",
       " 'IncomeLossFromContinuingOperationsPerOutstandingLimitedPartnershipUnitBasicNetOfTax',\n",
       " 'IncomeLossFromContinuingOperationsPerOutstandingLimitedPartnershipUnitDiluted',\n",
       " 'IncomeLossFromDiscontinuedOperationsNetOfTax',\n",
       " 'IncomeLossFromDiscontinuedOperationsNetOfTaxAttributableToNoncontrollingInterest',\n",
       " 'IncomeLossFromDiscontinuedOperationsNetOfTaxAttributableToReportingEntity',\n",
       " 'IncomeLossFromDiscontinuedOperationsNetOfTaxPerBasicAndDilutedShare',\n",
       " 'IncomeLossFromDiscontinuedOperationsNetOfTaxPerBasicShare',\n",
       " 'IncomeLossFromDiscontinuedOperationsNetOfTaxPerDilutedShare',\n",
       " 'IncomeLossFromDiscontinuedOperationsNetOfTaxPerOutstandingGeneralPartnershipUnit1',\n",
       " 'IncomeLossFromDiscontinuedOperationsNetOfTaxPerOutstandingLimitedPartnershipAndGeneralPartnershipUnitBasic',\n",
       " 'IncomeLossFromDiscontinuedOperationsNetOfTaxPerOutstandingLimitedPartnershipAndGeneralPartnershipUnitBasicAndDiluted',\n",
       " 'IncomeLossFromDiscontinuedOperationsNetOfTaxPerOutstandingLimitedPartnershipUnit',\n",
       " 'IncomeLossFromDiscontinuedOperationsNetOfTaxPerOutstandingLimitedPartnershipUnitBasic',\n",
       " 'IncomeLossFromDiscontinuedOperationsNetOfTaxPerOutstandingLimitedPartnershipUnitDiluted',\n",
       " 'IncomeLossFromDiscontinuedOperationsNetOfTaxPerOutstandingLimitedPartnershipUnitDiluted1',\n",
       " 'IncomeLossFromDispositionOfDiscontinuedOperationsForOtherStockPerBasicShare',\n",
       " 'IncomeLossFromEquityMethodInvestments',\n",
       " 'IncomeLossFromEquityMethodInvestmentsNetOfDividendsOrDistributions',\n",
       " 'IncomeLossFromExtraordinaryItemsNetOfTaxPerBasicAndDilutedShare',\n",
       " 'IncomeLossFromExtraordinaryItemsNetOfTaxPerBasicShare',\n",
       " 'IncomeLossFromExtraordinaryItemsNetOfTaxPerDilutedShare',\n",
       " 'IncomeLossFromIndividuallySignificantComponentDisposedOfOrHeldForSaleExcludingDiscontinuedOperationsAttributableToNoncontrollingInterestBeforeIncomeTax',\n",
       " 'IncomeLossFromIndividuallySignificantComponentDisposedOfOrHeldForSaleExcludingDiscontinuedOperationsBeforeIncomeTax',\n",
       " 'IncomeLossFromOngoingEquityMethodInvestmentInDiscontinuedOperationAfterDisposal',\n",
       " 'IncomeLossFromOperationsBeforeExtraordinaryItemsNetOfTaxPerOutstandingLimitedPartnershipUnitDiluted',\n",
       " 'IncomeLossFromOperationsBeforeExtraordinaryItemsPerBasicAndDilutedShare',\n",
       " 'IncomeLossFromOperationsBeforeExtraordinaryItemsPerOutstandingLimitedPartnershipAndGeneralPartnershipUnitBasic',\n",
       " 'IncomeLossFromOperationsBeforeExtraordinaryItemsPerOutstandingLimitedPartnershipAndGeneralPartnershipUnitBasicAndDiluted',\n",
       " 'IncomeLossFromOperationsBeforeExtraordinaryItemsPerOutstandingLimitedPartnershipUnitBasicNetOfTax',\n",
       " 'IncomeLossFromSubsidiariesBeforeTax',\n",
       " 'IncomeLossFromSubsidiariesNetOfTax',\n",
       " 'IncomeLossFromSubsidiariesTaxExpenseBenefit',\n",
       " 'IncomeLossIncludingPortionAttributableToNoncontrollingInterest',\n",
       " 'MinorityInterestInNetIncomeLossJointVenturePartners',\n",
       " 'MinorityInterestInNetIncomeLossLimitedPartnerships',\n",
       " 'MinorityInterestInNetIncomeLossOfConsolidatedEntities',\n",
       " 'MinorityInterestInNetIncomeLossOperatingPartnerships',\n",
       " 'MinorityInterestInNetIncomeLossOtherMinorityInterests',\n",
       " 'MinorityInterestInNetIncomeLossPreferredUnitHolders',\n",
       " 'NetIncomeLoss',\n",
       " 'NetIncomeLossAllocatedToGeneralPartners',\n",
       " 'NetIncomeLossAllocatedToLimitedPartners',\n",
       " 'NetIncomeLossAttributableToNoncontrollingInterest',\n",
       " 'NetIncomeLossAttributableToNonredeemableNoncontrollingInterest',\n",
       " 'NetIncomeLossAttributableToParentDiluted',\n",
       " 'NetIncomeLossAttributableToRedeemableNoncontrollingInterest',\n",
       " 'NetIncomeLossAvailableToCommonStockholdersBasic',\n",
       " 'NetIncomeLossAvailableToCommonStockholdersDiluted',\n",
       " 'NetIncomeLossFromContinuingOperationsAvailableToCommonShareholdersBasic',\n",
       " 'NetIncomeLossFromContinuingOperationsAvailableToCommonShareholdersDiluted',\n",
       " 'NetIncomeLossFromDiscontinuedOperationsAvailableToCommonShareholdersBasic',\n",
       " 'NetIncomeLossFromRealEstateInvestmentPartnership',\n",
       " 'NetIncomeLossIncludingPortionAttributableToNonredeemableNoncontrollingInterest',\n",
       " 'NetIncomeLossNetOfTaxPerOutstandingLimitedPartnershipUnitDiluted',\n",
       " 'NetIncomeLossPerOutstandingGeneralPartnershipUnitNetOfTax',\n",
       " 'NetIncomeLossPerOutstandingLimitedPartnershipAndGeneralPartnershipUnitBasic',\n",
       " 'NetIncomeLossPerOutstandingLimitedPartnershipAndGeneralPartnershipUnitBasicAndDiluted',\n",
       " 'NetIncomeLossPerOutstandingLimitedPartnershipUnit',\n",
       " 'NetIncomeLossPerOutstandingLimitedPartnershipUnitBasicNetOfTax',\n",
       " 'NetIncomeLossPerOutstandingLimitedPartnershipUnitDiluted',\n",
       " 'NetInterestIncomeLossAfterProvisionForLoanLosses',\n",
       " 'NoncontrollingInterestInNetIncomeLossJointVenturePartnersNonredeemable',\n",
       " 'NoncontrollingInterestInNetIncomeLossJointVenturePartnersRedeemable',\n",
       " 'NoncontrollingInterestInNetIncomeLossLimitedPartnershipsNonredeemable',\n",
       " 'NoncontrollingInterestInNetIncomeLossLimitedPartnershipsRedeemable',\n",
       " 'NoncontrollingInterestInNetIncomeLossOperatingPartnershipsNonredeemable',\n",
       " 'NoncontrollingInterestInNetIncomeLossOperatingPartnershipsRedeemable',\n",
       " 'NoncontrollingInterestInNetIncomeLossOtherNoncontrollingInterestsNonredeemable',\n",
       " 'NoncontrollingInterestInNetIncomeLossOtherNoncontrollingInterestsRedeemable',\n",
       " 'NoncontrollingInterestInNetIncomeLossPreferredUnitHoldersNonredeemable',\n",
       " 'NoncontrollingInterestInNetIncomeLossPreferredUnitHoldersRedeemable',\n",
       " 'OperatingIncomeLoss',\n",
       " 'OtherComprehensiveIncomeLossAmortizationAdjustmentFromAOCIPensionAndOtherPostretirementBenefitPlansForNetPriorServiceCostCreditBeforeTax',\n",
       " 'OtherComprehensiveIncomeLossAmortizationAdjustmentFromAOCIPensionAndOtherPostretirementBenefitPlansForNetPriorServiceCostCreditNetOfTax',\n",
       " 'OtherComprehensiveIncomeLossAmortizationAdjustmentFromAOCIPensionAndOtherPostretirementBenefitPlansForNetPriorServiceCostCreditTax',\n",
       " 'OtherComprehensiveIncomeLossAmortizationPensionAndOtherPostretirementBenefitPlansNetPriorServiceCostRecognizedInNetPeriodicBenefitCostBeforeTax',\n",
       " 'OtherComprehensiveIncomeLossAmortizationPensionAndOtherPostretirementBenefitPlansNetPriorServiceCostRecognizedInNetPeriodicPensionCostNetOfTax',\n",
       " 'OtherComprehensiveIncomeLossAmortizationPensionAndOtherPostretirementBenefitPlansNetPriorServiceCostRecognizedInNetPeriodicPensionCostTaxEffect',\n",
       " 'OtherComprehensiveIncomeLossAvailableForSaleSecuritiesAdjustmentBeforeReclassificationAdjustmentsAndTax',\n",
       " 'OtherComprehensiveIncomeLossAvailableForSaleSecuritiesAdjustmentBeforeReclassificationAdjustmentsNetOfTax',\n",
       " 'OtherComprehensiveIncomeLossAvailableForSaleSecuritiesAdjustmentBeforeTax',\n",
       " 'OtherComprehensiveIncomeLossAvailableForSaleSecuritiesAdjustmentNetOfTax',\n",
       " 'OtherComprehensiveIncomeLossAvailableForSaleSecuritiesTax',\n",
       " 'OtherComprehensiveIncomeLossBeforeReclassificationsBeforeTax',\n",
       " 'OtherComprehensiveIncomeLossBeforeReclassificationsNetOfTax',\n",
       " 'OtherComprehensiveIncomeLossBeforeReclassificationsTax',\n",
       " 'OtherComprehensiveIncomeLossBeforeTax',\n",
       " 'OtherComprehensiveIncomeLossBeforeTaxPeriodIncreaseDecrease',\n",
       " 'OtherComprehensiveIncomeLossBeforeTaxPortionAttributableToNoncontrollingInterest',\n",
       " 'OtherComprehensiveIncomeLossBeforeTaxPortionAttributableToParent',\n",
       " 'OtherComprehensiveIncomeLossCashFlowHedgeGainLossAfterReclassificationAndTax',\n",
       " 'OtherComprehensiveIncomeLossCashFlowHedgeGainLossAfterReclassificationAndTaxNoncontrollingInterest',\n",
       " 'OtherComprehensiveIncomeLossCashFlowHedgeGainLossAfterReclassificationAndTaxParent',\n",
       " 'OtherComprehensiveIncomeLossCashFlowHedgeGainLossAfterReclassificationBeforeTax',\n",
       " 'OtherComprehensiveIncomeLossCashFlowHedgeGainLossAfterReclassificationBeforeTaxParent',\n",
       " 'OtherComprehensiveIncomeLossCashFlowHedgeGainLossAfterReclassificationTax',\n",
       " 'OtherComprehensiveIncomeLossCashFlowHedgeGainLossAfterReclassificationTaxParent',\n",
       " 'OtherComprehensiveIncomeLossCashFlowHedgeGainLossBeforeReclassificationAfterTax',\n",
       " 'OtherComprehensiveIncomeLossCashFlowHedgeGainLossBeforeReclassificationAndTax',\n",
       " 'OtherComprehensiveIncomeLossCashFlowHedgeGainLossReclassificationAfterTax',\n",
       " 'OtherComprehensiveIncomeLossCashFlowHedgeGainLossReclassificationBeforeTax',\n",
       " 'OtherComprehensiveIncomeLossCashFlowHedgeGainLossReclassificationTax',\n",
       " 'OtherComprehensiveIncomeLossDerivativeExcludedComponentIncreaseDecreaseAfterAdjustmentsAndTax',\n",
       " 'OtherComprehensiveIncomeLossDerivativeExcludedComponentIncreaseDecreaseAfterAdjustmentsAndTaxParent',\n",
       " 'OtherComprehensiveIncomeLossDerivativeExcludedComponentIncreaseDecreaseAfterAdjustmentsBeforeTax',\n",
       " 'OtherComprehensiveIncomeLossDerivativeExcludedComponentIncreaseDecreaseBeforeAdjustmentsAndTax',\n",
       " 'OtherComprehensiveIncomeLossDerivativesQualifyingAsHedgesBeforeTax',\n",
       " 'OtherComprehensiveIncomeLossDerivativesQualifyingAsHedgesNetOfTax',\n",
       " 'OtherComprehensiveIncomeLossDerivativesQualifyingAsHedgesTax',\n",
       " 'OtherComprehensiveIncomeLossFinalizationOfPensionAndNonPensionPostretirementPlanValuationBeforeTax',\n",
       " 'OtherComprehensiveIncomeLossFinalizationOfPensionAndNonPensionPostretirementPlanValuationNetOfTax',\n",
       " 'OtherComprehensiveIncomeLossFinancialLiabilityFairValueOptionAfterTaxAndReclassificationAdjustmentAttributableToParent',\n",
       " 'OtherComprehensiveIncomeLossFinancialLiabilityFairValueOptionReclassificationAdjustmentFromAociForDerecognitionAfterTax',\n",
       " 'OtherComprehensiveIncomeLossFinancialLiabilityFairValueOptionUnrealizedGainLossArisingDuringPeriodAfterTax',\n",
       " 'OtherComprehensiveIncomeLossForeignCurrencyTransactionAndTranslationAdjustmentBeforeTax',\n",
       " 'OtherComprehensiveIncomeLossForeignCurrencyTransactionAndTranslationAdjustmentNetOfTax',\n",
       " 'OtherComprehensiveIncomeLossForeignCurrencyTransactionAndTranslationReclassificationAdjustmentFromAOCIRealizedUponSaleOrLiquidationBeforeTax',\n",
       " 'OtherComprehensiveIncomeLossForeignCurrencyTransactionAndTranslationReclassificationAdjustmentFromAOCIRealizedUponSaleOrLiquidationNetOfTax',\n",
       " 'OtherComprehensiveIncomeLossForeignCurrencyTransactionAndTranslationReclassificationAdjustmentFromAOCIRealizedUponSaleOrLiquidationTax',\n",
       " 'OtherComprehensiveIncomeLossForeignCurrencyTransactionAndTranslationReclassificationAdjustmentRealizedUponSaleOrLiquidationBeforeTax',\n",
       " 'OtherComprehensiveIncomeLossForeignCurrencyTransactionAndTranslationReclassificationAdjustmentRealizedUponSaleOrLiquidationNetOfTax',\n",
       " 'OtherComprehensiveIncomeLossForeignCurrencyTranslationAdjustmentTax',\n",
       " 'OtherComprehensiveIncomeLossForeignCurrencyTranslationReclassificationAdjustmentRealizedUponSaleOrLiquidationTax',\n",
       " 'OtherComprehensiveIncomeLossNetOfTax',\n",
       " 'OtherComprehensiveIncomeLossNetOfTaxPeriodIncreaseDecrease',\n",
       " 'OtherComprehensiveIncomeLossNetOfTaxPortionAttributableToNoncontrollingInterest',\n",
       " 'OtherComprehensiveIncomeLossNetOfTaxPortionAttributableToParent',\n",
       " 'OtherComprehensiveIncomeLossPensionAndOtherPostretirementBenefitPlansAdjustmentBeforeReclassificationAdjustmentsAndTax',\n",
       " 'OtherComprehensiveIncomeLossPensionAndOtherPostretirementBenefitPlansAdjustmentBeforeReclassificationAdjustmentsNetOfTax',\n",
       " 'OtherComprehensiveIncomeLossPensionAndOtherPostretirementBenefitPlansAdjustmentBeforeTax',\n",
       " 'OtherComprehensiveIncomeLossPensionAndOtherPostretirementBenefitPlansAdjustmentNetOfTax',\n",
       " 'OtherComprehensiveIncomeLossPensionAndOtherPostretirementBenefitPlansBeforeReclassificationAdjustmentsTax',\n",
       " 'OtherComprehensiveIncomeLossPensionAndOtherPostretirementBenefitPlansNetUnamortizedGainLossArisingDuringPeriodBeforeTax',\n",
       " 'OtherComprehensiveIncomeLossPensionAndOtherPostretirementBenefitPlansTax',\n",
       " 'OtherComprehensiveIncomeLossReclassificationAdjustmentForSaleOfSecuritiesIncludedInNetIncomeBeforeTax',\n",
       " 'OtherComprehensiveIncomeLossReclassificationAdjustmentForSaleOfSecuritiesIncludedInNetIncomeNetOfTax',\n",
       " 'OtherComprehensiveIncomeLossReclassificationAdjustmentForSaleOfSecuritiesIncludedInNetIncomeTax',\n",
       " 'OtherComprehensiveIncomeLossReclassificationAdjustmentForWriteDownOfSecuritiesIncludedInNetIncomeTax',\n",
       " 'OtherComprehensiveIncomeLossReclassificationAdjustmentForWritedownOfSecuritiesIncludedInNetIncomeBeforeTax',\n",
       " 'OtherComprehensiveIncomeLossReclassificationAdjustmentForWritedownOfSecuritiesIncludedInNetIncomeNetOfTax',\n",
       " 'OtherComprehensiveIncomeLossReclassificationAdjustmentFromAOCIForSaleOfSecuritiesBeforeTax',\n",
       " 'OtherComprehensiveIncomeLossReclassificationAdjustmentFromAOCIForSaleOfSecuritiesNetOfTax',\n",
       " 'OtherComprehensiveIncomeLossReclassificationAdjustmentFromAOCIForSaleOfSecuritiesTax',\n",
       " 'OtherComprehensiveIncomeLossReclassificationAdjustmentFromAOCIForWritedownOfSecuritiesBeforeTax',\n",
       " 'OtherComprehensiveIncomeLossReclassificationAdjustmentFromAOCIForWritedownOfSecuritiesNetOfTax',\n",
       " 'OtherComprehensiveIncomeLossReclassificationAdjustmentFromAOCIForWritedownOfSecuritiesTax',\n",
       " 'OtherComprehensiveIncomeLossReclassificationAdjustmentFromAOCIOnDerivativesBeforeTax',\n",
       " 'OtherComprehensiveIncomeLossReclassificationAdjustmentFromAOCIOnDerivativesNetOfTax',\n",
       " 'OtherComprehensiveIncomeLossReclassificationAdjustmentFromAOCIOnDerivativesTax',\n",
       " 'OtherComprehensiveIncomeLossReclassificationAdjustmentFromAOCIPensionAndOtherPostretirementBenefitPlansBeforeTax',\n",
       " 'OtherComprehensiveIncomeLossReclassificationAdjustmentFromAOCIPensionAndOtherPostretirementBenefitPlansForNetGainLossBeforeTax',\n",
       " 'OtherComprehensiveIncomeLossReclassificationAdjustmentFromAOCIPensionAndOtherPostretirementBenefitPlansForNetGainLossNetOfTax',\n",
       " 'OtherComprehensiveIncomeLossReclassificationAdjustmentFromAOCIPensionAndOtherPostretirementBenefitPlansForNetGainLossTax',\n",
       " 'OtherComprehensiveIncomeLossReclassificationAdjustmentFromAOCIPensionAndOtherPostretirementBenefitPlansForNetTransitionAssetObligationNetOfTax',\n",
       " 'OtherComprehensiveIncomeLossReclassificationAdjustmentFromAOCIPensionAndOtherPostretirementBenefitPlansNetOfTax',\n",
       " 'OtherComprehensiveIncomeLossReclassificationAdjustmentFromAOCIPensionAndOtherPostretirementBenefitPlansTax',\n",
       " 'OtherComprehensiveIncomeLossReclassificationAdjustmentFromAociForInvestmentTransferredFromAvailableForSaleToEquityMethodBeforeTax',\n",
       " 'OtherComprehensiveIncomeLossReclassificationAdjustmentOnDerivativesIncludedInNetIncomeBeforeTax',\n",
       " 'OtherComprehensiveIncomeLossReclassificationAdjustmentOnDerivativesIncludedInNetIncomeNetOfTax',\n",
       " 'OtherComprehensiveIncomeLossReclassificationAdjustmentOnDerivativesIncludedInNetIncomeTax',\n",
       " 'OtherComprehensiveIncomeLossReclassificationPensionAndOtherPostretirementBenefitPlansNetGainLossRecognizedInNetPeriodicBenefitCostTax',\n",
       " 'OtherComprehensiveIncomeLossTax',\n",
       " 'OtherComprehensiveIncomeLossTaxPortionAttributableToNoncontrollingInterest',\n",
       " 'OtherComprehensiveIncomeLossTaxPortionAttributableToParent',\n",
       " 'OtherComprehensiveIncomeLossTaxPortionAttributableToParent1',\n",
       " 'OtherComprehensiveIncomeLossTransfersFromHeldToMaturityToAvailableForSaleSecuritiesNetOfTax',\n",
       " 'OtherThanTemporaryImpairmentLossesInvestmentsPortionInOtherComprehensiveIncomeLossBeforeTaxIncludingPortionAttributableToNoncontrollingInterest',\n",
       " 'OtherThanTemporaryImpairmentLossesInvestmentsPortionInOtherComprehensiveIncomeLossBeforeTaxIncludingPortionAttributableToNoncontrollingInterestAvailableforsaleSecurities',\n",
       " 'OtherThanTemporaryImpairmentLossesInvestmentsPortionInOtherComprehensiveIncomeLossBeforeTaxIncludingPortionAttributableToNoncontrollingInterestHeldtomaturitySecurities',\n",
       " 'OtherThanTemporaryImpairmentLossesInvestmentsPortionInOtherComprehensiveIncomeLossBeforeTaxPortionAttributableToNoncontrollingInterest',\n",
       " 'OtherThanTemporaryImpairmentLossesInvestmentsPortionInOtherComprehensiveIncomeLossBeforeTaxPortionAttributableToNoncontrollingInterestAvailableforsaleSecurities',\n",
       " 'OtherThanTemporaryImpairmentLossesInvestmentsPortionInOtherComprehensiveIncomeLossBeforeTaxPortionAttributableToParent',\n",
       " 'OtherThanTemporaryImpairmentLossesInvestmentsPortionInOtherComprehensiveIncomeLossBeforeTaxPortionAttributableToParentAvailableforsaleSecurities',\n",
       " 'OtherThanTemporaryImpairmentLossesInvestmentsPortionInOtherComprehensiveIncomeLossBeforeTaxPortionAttributableToParentHeldtomaturitySecurities',\n",
       " 'OtherThanTemporaryImpairmentLossesInvestmentsPortionInOtherComprehensiveIncomeLossNetOfTaxIncludingPortionAttributableToNoncontrollingInterest',\n",
       " 'OtherThanTemporaryImpairmentLossesInvestmentsPortionInOtherComprehensiveIncomeLossNetOfTaxIncludingPortionAttributableToNoncontrollingInterestAvailableforsaleSecurities',\n",
       " 'OtherThanTemporaryImpairmentLossesInvestmentsPortionInOtherComprehensiveIncomeLossNetOfTaxPortionAttributableToParent',\n",
       " 'OtherThanTemporaryImpairmentLossesInvestmentsPortionInOtherComprehensiveIncomeLossNetOfTaxPortionAttributableToParentAvailableforsaleSecurities',\n",
       " 'OtherThanTemporaryImpairmentLossesInvestmentsPortionInOtherComprehensiveIncomeLossNetOfTaxPortionAttributableToParentHeldtomaturitySecurities',\n",
       " 'OtherThanTemporaryImpairmentLossesInvestmentsPortionInOtherComprehensiveIncomeLossTaxIncludingPortionAttributableToNoncontrollingInterest',\n",
       " 'OtherThanTemporaryImpairmentLossesInvestmentsPortionInOtherComprehensiveIncomeLossTaxIncludingPortionAttributableToNoncontrollingInterestAvailableforsaleSecurities',\n",
       " 'OtherThanTemporaryImpairmentLossesInvestmentsPortionInOtherComprehensiveIncomeLossTaxPortionAttributableToNoncontrollingInterestHeldtomaturitySecurities',\n",
       " 'OtherThanTemporaryImpairmentLossesInvestmentsPortionInOtherComprehensiveIncomeLossTaxPortionAttributableToParent',\n",
       " 'OtherThanTemporaryImpairmentLossesInvestmentsPortionInOtherComprehensiveIncomeLossTaxPortionAttributableToParentAvailableforsaleSecurities',\n",
       " 'OtherThanTemporaryImpairmentLossesInvestmentsPortionInOtherComprehensiveIncomeLossTaxPortionAttributableToParentHeldtomaturitySecurities',\n",
       " 'RealEstatePartnershipInvestmentSubsidiariesNetIncomeLossBeforeTax',\n",
       " 'SegmentReportingInformationOperatingIncomeLoss',\n",
       " 'UnderwritingIncomeLoss',\n",
       " 'UnrealizedGainLossOnInterestRateCashFlowHedgesPretaxAccumulatedOtherComprehensiveIncomeLoss']"
      ]
     },
     "execution_count": null,
     "metadata": {},
     "output_type": "execute_result"
    }
   ],
   "source": [
    "[x for x in is_pivot_pd_copy.columns.values if ('IncomeLoss' in x)]\n",
    "#[x for x in is_pivot_pd_copy.columns.values if ('Revenue' in x) and ('Customer' in x)]"
   ]
  },
  {
   "cell_type": "code",
   "execution_count": null,
   "metadata": {},
   "outputs": [
    {
     "data": {
      "text/plain": [
       "['StockholdersEquity',\n",
       " 'StockholdersEquityAttributableToParentNotAllowableForNetCapital',\n",
       " 'StockholdersEquityBeforeTreasuryStock',\n",
       " 'StockholdersEquityIncludingPortionAttributableToNoncontrollingInterest',\n",
       " 'StockholdersEquityIncludingPortionAttributableToNoncontrollingInterestAdjustedBalance1',\n",
       " 'StockholdersEquityNoteStockSplitConversionRatio',\n",
       " 'StockholdersEquityNoteStockSplitConversionRatio1',\n",
       " 'StockholdersEquityNoteSubscriptionsReceivable']"
      ]
     },
     "execution_count": null,
     "metadata": {},
     "output_type": "execute_result"
    }
   ],
   "source": [
    "[x for x in bs_pivot_liabilities_copy.columns.values if x.startswith('StockholdersEquity')]"
   ]
  },
  {
   "cell_type": "code",
   "execution_count": null,
   "metadata": {},
   "outputs": [],
   "source": []
  }
 ],
 "metadata": {
  "kernelspec": {
   "display_name": "Python 3",
   "language": "python",
   "name": "python3"
  }
 },
 "nbformat": 4,
 "nbformat_minor": 4
}
