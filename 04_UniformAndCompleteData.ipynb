{
 "cells": [
  {
   "cell_type": "code",
   "execution_count": null,
   "metadata": {},
   "outputs": [],
   "source": [
    "# default_exp uniform"
   ]
  },
  {
   "cell_type": "code",
   "execution_count": null,
   "metadata": {},
   "outputs": [],
   "source": [
    "#hide\n",
    "from nbdev.showdoc import *"
   ]
  },
  {
   "cell_type": "code",
   "execution_count": null,
   "metadata": {},
   "outputs": [],
   "source": [
    "#hide\n",
    "# stellt sicher, dass beim verändern der core library diese wieder neu geladen wird\n",
    "%load_ext autoreload\n",
    "%autoreload 2"
   ]
  },
  {
   "cell_type": "markdown",
   "metadata": {},
   "source": [
    "# todos\n",
    "\n",
    "\n",
    "- CF Statement hat noch mehrere Qrts drin. prüfen, ob alle qtrs=1 haben.\n"
   ]
  },
  {
   "cell_type": "markdown",
   "metadata": {},
   "source": [
    "# uniform and complete"
   ]
  },
  {
   "cell_type": "markdown",
   "metadata": {},
   "source": [
    "Once the data is pivoted, we want to create a dataset that contains only columns which appear in every report.\n",
    "\n",
    "For instance, we want to have all the columns 'Assets', 'AssetsCurrent', 'AssetsNoncurrent' to be present in every balancesheet. However, not all desired tags are present and we have to find ways to calculate and complete them. Often, only 2 of 'Assets', 'AssetsCurrent', 'AssetsNoncurrent' are present, however, since Assets = AssetsCurrent + AssetsNoncurrent we can calculate the third.\n",
    "\n",
    "Sometimes different tags are used to express the same meaning, so we have to figure out which tags belong together."
   ]
  },
  {
   "cell_type": "markdown",
   "metadata": {},
   "source": [
    "## Basic Settings"
   ]
  },
  {
   "cell_type": "code",
   "execution_count": null,
   "metadata": {},
   "outputs": [],
   "source": [
    "# imports\n",
    "from bfh_mt_hs2020_sec_data.core import * \n",
    "from pathlib import Path\n",
    "from typing import List, Tuple, Union, Set\n",
    "from pyspark.sql.dataframe import DataFrame\n",
    "from pyspark.sql.functions import col\n",
    "\n",
    "import pandas as pd\n",
    "\n",
    "import shutil          # provides high level file operations\n",
    "import time            # used to measure execution time\n",
    "import os\n",
    "import sys"
   ]
  },
  {
   "cell_type": "code",
   "execution_count": null,
   "metadata": {},
   "outputs": [],
   "source": [
    "all_pivot_selected_folder  = \"D:/data/parq_pivot_select\"\n",
    "all_pivoted_folder = \"D:/data/parq_pivot_split\"\n",
    "all_processed_folder = \"D:/data/parq_processed/\"\n",
    "\n",
    "col_list =    [\"stmt\",\"cik\",\"ticker\", \"adsh\",\"period\",\"filed\", \"form\",\"tag\",\"value\",\"report\", \"line\", \"fp\", \"uom\"]\n",
    "pivot_group = [\"cik\",\"ticker\",\"adsh\",\"form\",\"period\",\"fp\", \"qtrs\"]\n",
    "pivot_attrs = ['value', 'report', 'line']\n",
    "statements =  ['IS','CF','CP','BS','CI','EQ','UN']"
   ]
  },
  {
   "cell_type": "code",
   "execution_count": null,
   "metadata": {},
   "outputs": [
    {
     "data": {
      "text/html": [
       "\n",
       "            <div>\n",
       "                <p><b>SparkSession - in-memory</b></p>\n",
       "                \n",
       "        <div>\n",
       "            <p><b>SparkContext</b></p>\n",
       "\n",
       "            <p><a href=\"http://192.168.0.163:4040\">Spark UI</a></p>\n",
       "\n",
       "            <dl>\n",
       "              <dt>Version</dt>\n",
       "                <dd><code>v2.4.5</code></dd>\n",
       "              <dt>Master</dt>\n",
       "                <dd><code>local[*]</code></dd>\n",
       "              <dt>AppName</dt>\n",
       "                <dd><code>default</code></dd>\n",
       "            </dl>\n",
       "        </div>\n",
       "        \n",
       "            </div>\n",
       "        "
      ],
      "text/plain": [
       "<pyspark.sql.session.SparkSession at 0x242e8497e88>"
      ]
     },
     "execution_count": null,
     "metadata": {},
     "output_type": "execute_result"
    }
   ],
   "source": [
    "# init Spark\n",
    "spark = get_spark_session() # Session anlegen\n",
    "spark # display the moste important information of the session"
   ]
  },
  {
   "cell_type": "markdown",
   "metadata": {},
   "source": [
    "## 00_Raw_data"
   ]
  },
  {
   "cell_type": "code",
   "execution_count": null,
   "metadata": {},
   "outputs": [],
   "source": [
    "# loading the complete unpivoted dataset - if it is needed for debbuging\n",
    "df_all_selected = spark.read.parquet(all_pivot_selected_folder).cache()"
   ]
  },
  {
   "cell_type": "code",
   "execution_count": null,
   "metadata": {},
   "outputs": [],
   "source": [
    "# it happens sometimes, that the data could not be associated with a right sheet (bs, is, cf, ..). in this cases, the data can appea under \"UN\"\n",
    "# so if expected information cannot be found in the appropriate statement, we have to look in the un statement\n",
    "un_pivot_value = load_data(\"UN\", \"value\")\n",
    "un_pivot_pd = un_pivot_value.toPandas()"
   ]
  },
  {
   "cell_type": "code",
   "execution_count": null,
   "metadata": {},
   "outputs": [
    {
     "data": {
      "text/plain": [
       "(5989, 1774)"
      ]
     },
     "execution_count": null,
     "metadata": {},
     "output_type": "execute_result"
    }
   ],
   "source": [
    "un_pivot_pd.shape"
   ]
  },
  {
   "cell_type": "code",
   "execution_count": null,
   "metadata": {},
   "outputs": [],
   "source": [
    "def prepare_un_values(df_to_merge_into, attr_list):\n",
    "    # add possible columns from un set to  cf data with prefix cpy_\n",
    "    attributes = pivot_group[:] # create copy\n",
    "    attributes.extend(attr_list)\n",
    "\n",
    "    un_prepared = un_pivot_pd[attributes].copy()\n",
    "    un_prepared.rename(columns=lambda x: x  if x in pivot_group else (\"cpy_\" + x), inplace=True)\n",
    "\n",
    "    return pd.merge(df_to_merge_into, un_prepared, how='left', on=pivot_group)"
   ]
  },
  {
   "cell_type": "markdown",
   "metadata": {},
   "source": [
    "## 01_Balance_Sheet"
   ]
  },
  {
   "cell_type": "code",
   "execution_count": null,
   "metadata": {},
   "outputs": [
    {
     "data": {
      "text/plain": [
       "(117868, 2243)"
      ]
     },
     "execution_count": null,
     "metadata": {},
     "output_type": "execute_result"
    }
   ],
   "source": [
    "bs_pivot_value = load_data(\"BS\", \"value\")\n",
    "spark_shape(bs_pivot_value)"
   ]
  },
  {
   "cell_type": "code",
   "execution_count": null,
   "metadata": {},
   "outputs": [],
   "source": [
    "bs_pivot_pd = bs_pivot_value.toPandas()"
   ]
  },
  {
   "cell_type": "code",
   "execution_count": null,
   "metadata": {},
   "outputs": [],
   "source": [
    "bs_pivot_pd_copy = bs_pivot_pd.copy()"
   ]
  },
  {
   "cell_type": "markdown",
   "metadata": {},
   "source": [
    "### Assets"
   ]
  },
  {
   "cell_type": "code",
   "execution_count": null,
   "metadata": {},
   "outputs": [
    {
     "name": "stdout",
     "output_type": "stream",
     "text": [
      "Assets   1801\n",
      "AssetsNoncurrent   111944\n",
      "AssetsCurrent   28053\n"
     ]
    }
   ],
   "source": [
    "print_null_count(bs_pivot_pd_copy, ['Assets','AssetsNoncurrent','AssetsCurrent'])"
   ]
  },
  {
   "cell_type": "code",
   "execution_count": null,
   "metadata": {},
   "outputs": [],
   "source": [
    "# Somtimes AssetsNet is present instead of Assets, copy its content to Assets\n",
    "copy_if_not_empty(bs_pivot_pd_copy, 'AssetsNet', 'Assets')\n",
    "\n",
    "# if one of the three provided columns is missing, calculate its content based on Assets = AssetsCurrent + AssetsNoncurrent\n",
    "complete_addition(bs_pivot_pd_copy, 'Assets', 'AssetsCurrent', 'AssetsNoncurrent')\n",
    "\n",
    "# if Assets contains data but AssetsCurrent and AssetsNoncurrent are empty, assume that only AssetsCurrent is present\n",
    "# copy value from Assets to AssetsCurrent and set AssetsNoncurrent to 0.0\n",
    "copy_if_not_empty(bs_pivot_pd_copy, 'Assets', 'AssetsCurrent', 'AssetsNoncurrent')\n",
    "\n",
    "# if AssetsCurrent contains data and Assets  and AssetsNoncurrent are empty, assume that only AssetsCurrent is present\n",
    "# copy value from AssetsCurrent to Assets and set AssetsNoncurrent to 0.0\n",
    "copy_if_not_empty(bs_pivot_pd_copy, 'AssetsCurrent', 'Assets', 'AssetsNoncurrent')"
   ]
  },
  {
   "cell_type": "code",
   "execution_count": null,
   "metadata": {},
   "outputs": [
    {
     "name": "stdout",
     "output_type": "stream",
     "text": [
      "Assets   1675\n",
      "AssetsNoncurrent   1675\n",
      "AssetsCurrent   1675\n"
     ]
    }
   ],
   "source": [
    "# check for how many entries Assets, AssetsNoncurrent and AsstesCurrent couldn't be completed\n",
    "print_null_count(bs_pivot_pd_copy, ['Assets','AssetsNoncurrent','AssetsCurrent'])"
   ]
  },
  {
   "cell_type": "markdown",
   "metadata": {},
   "source": [
    "### Liabilities"
   ]
  },
  {
   "cell_type": "code",
   "execution_count": null,
   "metadata": {},
   "outputs": [
    {
     "name": "stdout",
     "output_type": "stream",
     "text": [
      "Liabilities   1983\n",
      "LiabilitiesNoncurrent   1982\n",
      "LiabilitiesCurrent   1983\n"
     ]
    }
   ],
   "source": [
    "print_null_count(bs_pivot_pd_copy, ['Liabilities','LiabilitiesNoncurrent','LiabilitiesCurrent'])"
   ]
  },
  {
   "cell_type": "code",
   "execution_count": null,
   "metadata": {},
   "outputs": [],
   "source": [
    "# Completing the Liabilities columns follows the same logic as for the Assets columns\n",
    "\n",
    "complete_addition(bs_pivot_pd_copy, 'Liabilities', 'LiabilitiesCurrent', 'LiabilitiesNoncurrent')\n",
    "\n",
    "copy_if_not_empty(bs_pivot_pd_copy, 'Liabilities', 'LiabilitiesCurrent', 'LiabilitiesNoncurrent')\n",
    "copy_if_not_empty(bs_pivot_pd_copy, 'LiabilitiesCurrent', 'Liabilities', 'LiabilitiesNoncurrent')"
   ]
  },
  {
   "cell_type": "code",
   "execution_count": null,
   "metadata": {},
   "outputs": [
    {
     "name": "stdout",
     "output_type": "stream",
     "text": [
      "Liabilities   1983\n",
      "LiabilitiesNoncurrent   1982\n",
      "LiabilitiesCurrent   1983\n"
     ]
    }
   ],
   "source": [
    "# check for how many entries we were not able to complete the Liabilities information\n",
    "print_null_count(bs_pivot_pd_copy, ['Liabilities','LiabilitiesNoncurrent','LiabilitiesCurrent'])"
   ]
  },
  {
   "cell_type": "markdown",
   "metadata": {},
   "source": [
    "### Equity\n",
    "In the Equity section of the balance sheet, we are intereste in the StockholdersEquity and the Earnings (Tag. RetainedEarningsAccumulatedDeficit)"
   ]
  },
  {
   "cell_type": "code",
   "execution_count": null,
   "metadata": {},
   "outputs": [
    {
     "name": "stdout",
     "output_type": "stream",
     "text": [
      "StockholdersEquity   11898\n",
      "RetainedEarningsAccumulatedDeficit   10396\n"
     ]
    }
   ],
   "source": [
    "print_null_count(bs_pivot_pd_copy, ['StockholdersEquity','RetainedEarningsAccumulatedDeficit'])"
   ]
  },
  {
   "cell_type": "code",
   "execution_count": null,
   "metadata": {},
   "outputs": [],
   "source": [
    "# per  definition, LiabilitisAndStockholdersEquity has to match Assets in a balance sheet\n",
    "# so if LiabilitiesAndStockholdersEquity is not set, we copy the value from the Assets column\n",
    "copy_if_not_empty(bs_pivot_pd_copy, 'Assets', 'LiabilitiesAndStockholdersEquity') # has to be the same\n",
    "\n",
    "# if there is partner capital but no StockholdersEquite, we consider it the same as stockholder equity\n",
    "copy_if_not_empty(bs_pivot_pd_copy, 'PartnersCapital', 'StockholdersEquity') \n",
    "\n",
    "# if there is StockholdersEquityIncludingPortionAttributableToNoncontrollingInterest instead of StockholdersEquity, we use this as StocholdersEquity\n",
    "copy_if_not_empty(bs_pivot_pd_copy, 'StockholdersEquityIncludingPortionAttributableToNoncontrollingInterest', 'StockholdersEquity') \n",
    "\n",
    "# if RetainedEarnings has no value, we set it to zero\n",
    "set_to_zero_if_null(bs_pivot_pd_copy, 'RetainedEarningsAccumulatedDeficit')"
   ]
  },
  {
   "cell_type": "code",
   "execution_count": null,
   "metadata": {},
   "outputs": [
    {
     "name": "stdout",
     "output_type": "stream",
     "text": [
      "StockholdersEquity   2423\n",
      "RetainedEarningsAccumulatedDeficit   0\n"
     ]
    }
   ],
   "source": [
    "print_null_count(bs_pivot_pd_copy, ['StockholdersEquity','RetainedEarningsAccumulatedDeficit'])"
   ]
  },
  {
   "cell_type": "markdown",
   "metadata": {},
   "source": [
    "### Save"
   ]
  },
  {
   "cell_type": "code",
   "execution_count": null,
   "metadata": {},
   "outputs": [],
   "source": [
    "bs_pivot_pd_copy[[\"cik\",\"ticker\", \"adsh\",\"period\",\"filed\",\"form\", \"qtrs\",\"fp\",\n",
    "                 'Assets','AssetsNoncurrent', 'AssetsCurrent', \n",
    "                 'Liabilities','LiabilitiesNoncurrent','LiabilitiesCurrent', \n",
    "                 'StockholdersEquity','RetainedEarningsAccumulatedDeficit']] \\\n",
    "        .to_csv(all_processed_folder + \"bs_not_cleaned.csv\", index=False)"
   ]
  },
  {
   "cell_type": "markdown",
   "metadata": {},
   "source": [
    "### Clean empty companies"
   ]
  },
  {
   "cell_type": "code",
   "execution_count": null,
   "metadata": {},
   "outputs": [],
   "source": [
    "bs_cols_selected = bs_pivot_pd_copy[[\"cik\",\"ticker\", \"adsh\",\"period\",\"form\", \"qtrs\",\"fp\"\n",
    "                                     'Assets','AssetsNoncurrent', 'AssetsCurrent', \n",
    "                                     'Liabilities','LiabilitiesNoncurrent','LiabilitiesCurrent', \n",
    "                                     'StockholdersEquity','RetainedEarningsAccumulatedDeficit']]"
   ]
  },
  {
   "cell_type": "code",
   "execution_count": null,
   "metadata": {},
   "outputs": [],
   "source": [
    "incomplete_ciks = bs_cols_selected[bs_cols_selected.isnull().sum(axis=1) > 0].cik.unique()"
   ]
  },
  {
   "cell_type": "code",
   "execution_count": null,
   "metadata": {},
   "outputs": [],
   "source": [
    "bs_cols_cleaned = bs_cols_selected[~bs_pivot_pd_copy.cik.isin(incomplete_ciks)]"
   ]
  },
  {
   "cell_type": "code",
   "execution_count": null,
   "metadata": {},
   "outputs": [
    {
     "data": {
      "text/plain": [
       "(124520, 13)"
      ]
     },
     "execution_count": null,
     "metadata": {},
     "output_type": "execute_result"
    }
   ],
   "source": [
    "bs_cols_cleaned.shape"
   ]
  },
  {
   "cell_type": "code",
   "execution_count": null,
   "metadata": {},
   "outputs": [
    {
     "data": {
      "text/plain": [
       "0"
      ]
     },
     "execution_count": null,
     "metadata": {},
     "output_type": "execute_result"
    }
   ],
   "source": [
    "bs_cols_cleaned.isnull().sum(axis=1).sum()"
   ]
  },
  {
   "cell_type": "code",
   "execution_count": null,
   "metadata": {},
   "outputs": [],
   "source": [
    "bs_cols_cleaned.to_csv(all_processed_folder + \"bs.csv\", index=False)"
   ]
  },
  {
   "cell_type": "markdown",
   "metadata": {},
   "source": [
    "## 02_CashFlow"
   ]
  },
  {
   "cell_type": "markdown",
   "metadata": {},
   "source": [
    "Operation\n",
    "- NetIncomeLoss\n",
    "- ProfitLoss\n",
    "- NetCashProvidedByUsedInOperatingActivities: NetIncome + other positions ergibt diese Position\n",
    "\n",
    "Investing\n",
    "- NetCashProvidedByUsedInInvestingActivities\n",
    "\n",
    "Financing activities\n",
    "- PaymentsForRepurchaseOfCommonStock: Aktienrückkäufe\n",
    "- PaymentsOfDividends\n",
    "- NetCashProvidedByUsedInFinancingActivities\n",
    "\n",
    "Cash Bestand unterschied\n",
    "- CashAndCashEquivalentsPeriodIncreaseDecrease: increase/decrease in cash"
   ]
  },
  {
   "cell_type": "code",
   "execution_count": null,
   "metadata": {},
   "outputs": [
    {
     "data": {
      "text/plain": [
       "(305903, 2909)"
      ]
     },
     "execution_count": null,
     "metadata": {},
     "output_type": "execute_result"
    }
   ],
   "source": [
    "cf_pivot_value = load_data(\"CF\", \"value\")\n",
    "spark_shape(cf_pivot_value)"
   ]
  },
  {
   "cell_type": "code",
   "execution_count": null,
   "metadata": {},
   "outputs": [],
   "source": [
    "#cf_empty_count = get_empty_count(cf_pivot_value)"
   ]
  },
  {
   "cell_type": "code",
   "execution_count": null,
   "metadata": {},
   "outputs": [],
   "source": [
    "cf_pivot_pd = cf_pivot_value.toPandas()"
   ]
  },
  {
   "cell_type": "code",
   "execution_count": null,
   "metadata": {},
   "outputs": [],
   "source": [
    "cf_pivot_pd_copy = cf_pivot_pd.copy()"
   ]
  },
  {
   "cell_type": "code",
   "execution_count": null,
   "metadata": {},
   "outputs": [
    {
     "data": {
      "text/plain": [
       "(305903, 2909)"
      ]
     },
     "execution_count": null,
     "metadata": {},
     "output_type": "execute_result"
    }
   ],
   "source": [
    "cf_pivot_pd.shape"
   ]
  },
  {
   "cell_type": "markdown",
   "metadata": {},
   "source": [
    "### Cash Increase/Decrease\n",
    "- 'CashAndCashEquivalentsPeriodIncreaseDecrease',\n",
    "- 'CashAndCashEquivalentsPeriodIncreaseDecreaseExcludingExchangeRateEffect',\n",
    "- 'CashCashEquivalentsRestrictedCashAndRestrictedCashEquivalentsPeriodIncreaseDecreaseExcludingExchangeRateEffect',\n",
    "- 'CashCashEquivalentsRestrictedCashAndRestrictedCashEquivalentsPeriodIncreaseDecreaseIncludingExchangeRateEffect',\n",
    "- 'CashPeriodIncreaseDecrease',\n",
    "- 'CashPeriodIncreaseDecreaseExcludingExchangeRateEffect',\n",
    "- 'NetCashProvidedByUsedInContinuingOperations'"
   ]
  },
  {
   "cell_type": "code",
   "execution_count": null,
   "metadata": {},
   "outputs": [
    {
     "name": "stdout",
     "output_type": "stream",
     "text": [
      "CashAndCashEquivalentsPeriodIncreaseDecrease   217223\n"
     ]
    }
   ],
   "source": [
    "print_null_count(cf_pivot_pd_copy, ['CashAndCashEquivalentsPeriodIncreaseDecrease'])"
   ]
  },
  {
   "cell_type": "code",
   "execution_count": null,
   "metadata": {},
   "outputs": [
    {
     "data": {
      "text/plain": [
       "(305903, 2912)"
      ]
     },
     "execution_count": null,
     "metadata": {},
     "output_type": "execute_result"
    }
   ],
   "source": [
    "# merge relevant columns from the UN dataset\n",
    "cf_pivot_pd_copy = prepare_un_values(cf_pivot_pd_copy, [\n",
    "    'CashAndCashEquivalentsPeriodIncreaseDecrease',\n",
    "    'CashCashEquivalentsRestrictedCashAndRestrictedCashEquivalentsPeriodIncreaseDecreaseIncludingExchangeRateEffect',\n",
    "    'CashCashEquivalentsRestrictedCashAndRestrictedCashEquivalentsPeriodIncreaseDecreaseExcludingExchangeRateEffect'\n",
    "])\n",
    "cf_pivot_pd_copy.shape"
   ]
  },
  {
   "cell_type": "code",
   "execution_count": null,
   "metadata": {},
   "outputs": [],
   "source": [
    "# if CashAndCashEquivalentsPeriodIncreaseDecrease is not present and CashCashEquivalentsRestrictedCashAndRestrictedCashEquivalentsPeriodIncreaseDecreaseIncludingExchangeRateEffect\n",
    "# is present, we can replace CashAndCashEquivalentsPeriodIncreaseDecrease.\n",
    "# there are only about 12 entries where both are present\n",
    "copy_if_not_empty(cf_pivot_pd_copy, 'CashCashEquivalentsRestrictedCashAndRestrictedCashEquivalentsPeriodIncreaseDecreaseIncludingExchangeRateEffect', \n",
    "                                    'CashAndCashEquivalentsPeriodIncreaseDecrease') # either or\n",
    "copy_if_not_empty(cf_pivot_pd_copy, 'CashCashEquivalentsRestrictedCashAndRestrictedCashEquivalentsPeriodIncreaseDecreaseExcludingExchangeRateEffect', \n",
    "                                    'CashAndCashEquivalentsPeriodIncreaseDecrease') # either or\n",
    "copy_if_not_empty(cf_pivot_pd_copy, 'CashPeriodIncreaseDecrease', \n",
    "                                    'CashAndCashEquivalentsPeriodIncreaseDecrease') # either or\n",
    "copy_if_not_empty(cf_pivot_pd_copy, 'CashAndCashEquivalentsPeriodIncreaseDecreaseExcludingExchangeRateEffect', \n",
    "                                    'CashAndCashEquivalentsPeriodIncreaseDecrease') # either or\n",
    "copy_if_not_empty(cf_pivot_pd_copy, 'CashPeriodIncreaseDecreaseExcludingExchangeRateEffect', \n",
    "                                    'CashAndCashEquivalentsPeriodIncreaseDecrease') # either or\n",
    "copy_if_not_empty(cf_pivot_pd_copy, 'NetCashProvidedByUsedInContinuingOperations', \n",
    "                                    'CashAndCashEquivalentsPeriodIncreaseDecrease') # either or\n",
    "\n",
    "\n",
    "# try to find data in joined un data\n",
    "copy_if_not_empty(cf_pivot_pd_copy, 'cpy_CashAndCashEquivalentsPeriodIncreaseDecrease', \n",
    "                                    'CashAndCashEquivalentsPeriodIncreaseDecrease') # either or\n",
    "copy_if_not_empty(cf_pivot_pd_copy, 'cpy_CashCashEquivalentsRestrictedCashAndRestrictedCashEquivalentsPeriodIncreaseDecreaseIncludingExchangeRateEffect', \n",
    "                                    'CashAndCashEquivalentsPeriodIncreaseDecrease') # either or\n",
    "copy_if_not_empty(cf_pivot_pd_copy, 'cpy_CashCashEquivalentsRestrictedCashAndRestrictedCashEquivalentsPeriodIncreaseDecreaseExcludingExchangeRateEffect', \n",
    "                                    'CashAndCashEquivalentsPeriodIncreaseDecrease') # either or"
   ]
  },
  {
   "cell_type": "code",
   "execution_count": null,
   "metadata": {},
   "outputs": [
    {
     "name": "stdout",
     "output_type": "stream",
     "text": [
      "CashAndCashEquivalentsPeriodIncreaseDecrease   188780\n"
     ]
    }
   ],
   "source": [
    "print_null_count(cf_pivot_pd_copy, ['CashAndCashEquivalentsPeriodIncreaseDecrease'])"
   ]
  },
  {
   "cell_type": "markdown",
   "metadata": {},
   "source": [
    "### Operation\n",
    "- NetIncomeLoss\n",
    "- NetCashProvidedByUsedInOperatingActivities: NetIncome + other positions ergibt diese Position"
   ]
  },
  {
   "cell_type": "code",
   "execution_count": null,
   "metadata": {},
   "outputs": [
    {
     "name": "stdout",
     "output_type": "stream",
     "text": [
      "NetIncomeLoss   195814\n",
      "ProfitLoss   240347\n",
      "NetCashProvidedByUsedInOperatingActivities   218636\n"
     ]
    }
   ],
   "source": [
    "print_null_count(cf_pivot_pd_copy, ['NetIncomeLoss', 'ProfitLoss', 'NetCashProvidedByUsedInOperatingActivities'])"
   ]
  },
  {
   "cell_type": "code",
   "execution_count": null,
   "metadata": {},
   "outputs": [],
   "source": [
    "# if only ProfitLoss is set, copy content to NetIncomeLoss\n",
    "# if onlyNetIncomeLoss is set, copy to ProfitLoss\n",
    "copy_if_not_empty(cf_pivot_pd_copy, 'ProfitLoss', 'NetIncomeLoss')\n",
    "copy_if_not_empty(cf_pivot_pd_copy, 'NetIncomeLoss', 'ProfitLoss')\n",
    "copy_if_not_empty(cf_pivot_pd_copy, 'NetIncomeLossAvailableToCommonStockholdersBasic', 'ProfitLoss') # certain CFs just have this position\n",
    "copy_if_not_empty(cf_pivot_pd_copy, 'NetIncomeLossAvailableToCommonStockholdersBasic', 'NetIncomeLoss')\n",
    "\n",
    "copy_if_not_empty(cf_pivot_pd_copy, 'NetCashProvidedByUsedInOperatingActivitiesContinuingOperations', 'NetCashProvidedByUsedInOperatingActivities')\n",
    "\n",
    "copy_if_not_empty(cf_pivot_pd_copy, 'NetCashProvidedByUsedInOperatingActivities', 'ProfitLoss') # certain CFs just have this position\n",
    "copy_if_not_empty(cf_pivot_pd_copy, 'NetCashProvidedByUsedInOperatingActivities', 'NetIncomeLoss')"
   ]
  },
  {
   "cell_type": "code",
   "execution_count": null,
   "metadata": {},
   "outputs": [
    {
     "name": "stdout",
     "output_type": "stream",
     "text": [
      "NetIncomeLoss   119998\n",
      "ProfitLoss   119998\n",
      "NetCashProvidedByUsedInOperatingActivities   187825\n"
     ]
    }
   ],
   "source": [
    "print_null_count(cf_pivot_pd_copy, ['NetIncomeLoss', 'ProfitLoss', 'NetCashProvidedByUsedInOperatingActivities'])"
   ]
  },
  {
   "cell_type": "markdown",
   "metadata": {},
   "source": [
    "### Investing\n",
    "- NetCashProvidedByUsedInInvestingActivities"
   ]
  },
  {
   "cell_type": "code",
   "execution_count": null,
   "metadata": {},
   "outputs": [
    {
     "name": "stdout",
     "output_type": "stream",
     "text": [
      "NetCashProvidedByUsedInInvestingActivities   219410\n"
     ]
    }
   ],
   "source": [
    "print_null_count(cf_pivot_pd_copy, ['NetCashProvidedByUsedInInvestingActivities'])"
   ]
  },
  {
   "cell_type": "code",
   "execution_count": null,
   "metadata": {},
   "outputs": [],
   "source": [
    "sum_into_empty_target(cf_pivot_pd_copy, \n",
    "                      'NetCashProvidedByUsedInInvestingActivitiesContinuingOperations',\n",
    "                      'CashProvidedByUsedInInvestingActivitiesDiscontinuedOperations',\n",
    "                      'NetCashProvidedByUsedInInvestingActivities')\n",
    "\n",
    "copy_if_not_empty(cf_pivot_pd_copy, 'NetCashProvidedByUsedInInvestingActivitiesContinuingOperations', 'NetCashProvidedByUsedInInvestingActivities')\n",
    "copy_if_not_empty(cf_pivot_pd_copy, 'CashProvidedByUsedInInvestingActivitiesDiscontinuedOperations', 'NetCashProvidedByUsedInInvestingActivities')\n",
    "\n",
    "set_to_zero_if_null(cf_pivot_pd_copy, 'NetCashProvidedByUsedInInvestingActivities')"
   ]
  },
  {
   "cell_type": "code",
   "execution_count": null,
   "metadata": {},
   "outputs": [
    {
     "name": "stdout",
     "output_type": "stream",
     "text": [
      "NetCashProvidedByUsedInInvestingActivities   0\n"
     ]
    }
   ],
   "source": [
    "print_null_count(cf_pivot_pd_copy, ['NetCashProvidedByUsedInInvestingActivities'])"
   ]
  },
  {
   "cell_type": "markdown",
   "metadata": {},
   "source": [
    "### Financing activities\n",
    "- PaymentsForRepurchaseOfCommonStock: Aktienrückkäufe\n",
    "- PaymentsOfDividends\n",
    "- NetCashProvidedByUsedInFinancingActivities\n",
    "\n",
    "('CashProvidedByUsedInDiscontinuedOperationsFinancingActivities',\n",
    " 'CashProvidedByUsedInFinancingActivitiesDiscontinuedOperations',\n",
    " 'NetCashProvidedByUsedInFinancingActivities',\n",
    " 'NetCashProvidedByUsedInFinancingActivitiesContinuingOperations')"
   ]
  },
  {
   "cell_type": "markdown",
   "metadata": {},
   "source": [
    "#### NetCashProvidedByUsedInFinancingActivities"
   ]
  },
  {
   "cell_type": "code",
   "execution_count": null,
   "metadata": {},
   "outputs": [
    {
     "name": "stdout",
     "output_type": "stream",
     "text": [
      "NetCashProvidedByUsedInFinancingActivities   219518\n"
     ]
    }
   ],
   "source": [
    "print_null_count(cf_pivot_pd_copy, ['NetCashProvidedByUsedInFinancingActivities'])"
   ]
  },
  {
   "cell_type": "code",
   "execution_count": null,
   "metadata": {},
   "outputs": [],
   "source": [
    "sum_into_empty_target(cf_pivot_pd_copy, \n",
    "                      'NetCashProvidedByUsedInFinancingActivitiesContinuingOperations',\n",
    "                      'CashProvidedByUsedInFinancingActivitiesDiscontinuedOperations',\n",
    "                      'NetCashProvidedByUsedInFinancingActivities')\n",
    "\n",
    "copy_if_not_empty(cf_pivot_pd_copy, 'NetCashProvidedByUsedInFinancingActivitiesContinuingOperations', 'NetCashProvidedByUsedInFinancingActivities')\n",
    "copy_if_not_empty(cf_pivot_pd_copy, 'CashProvidedByUsedInFinancingActivitiesDiscontinuedOperations', 'NetCashProvidedByUsedInFinancingActivities')\n",
    "\n",
    "set_to_zero_if_null(cf_pivot_pd_copy, 'NetCashProvidedByUsedInFinancingActivities')"
   ]
  },
  {
   "cell_type": "code",
   "execution_count": null,
   "metadata": {},
   "outputs": [
    {
     "name": "stdout",
     "output_type": "stream",
     "text": [
      "NetCashProvidedByUsedInFinancingActivities   0\n"
     ]
    }
   ],
   "source": [
    "print_null_count(cf_pivot_pd_copy, ['NetCashProvidedByUsedInFinancingActivities'])"
   ]
  },
  {
   "cell_type": "markdown",
   "metadata": {},
   "source": [
    "#### PaymentsOfDividends\n",
    "Simply set to 0.0 if no data is present\n",
    " 'PaymentsOfDividends',\n",
    " 'PaymentsOfDividendsCommonStock',\n",
    " 'PaymentsOfDividendsMinorityInterest',\n",
    " 'PaymentsOfDividendsPreferredStockAndPreferenceStock',\n",
    " 'PaymentsOfOrdinaryDividends',"
   ]
  },
  {
   "cell_type": "code",
   "execution_count": null,
   "metadata": {},
   "outputs": [],
   "source": [
    "cf_pivot_pd_copy = sum_cols_into_new_target(cf_pivot_pd_copy, 'PaymentsOfDividendsTotal', \n",
    "                                 ['PaymentsOfDividends',\n",
    "                                 'PaymentsOfDividendsCommonStock',\n",
    "                                 'PaymentsOfDividendsMinorityInterest',\n",
    "                                 'PaymentsOfDividendsPreferredStockAndPreferenceStock',\n",
    "                                 'PaymentsOfOrdinaryDividends'])"
   ]
  },
  {
   "cell_type": "markdown",
   "metadata": {},
   "source": [
    "#### PaymentsForRepurchaseOfCommonStock: Stock buybacks\n",
    " 'PaymentsForRepurchaseOfCommonStock',\n",
    " 'PaymentsForRepurchaseOfCommonStockForEmployeeTaxWithholdingObligations',\n",
    " 'PaymentsForRepurchaseOfConvertiblePreferredStock',\n",
    " 'PaymentsForRepurchaseOfPreferredStockAndPreferenceStock',\n",
    " 'PaymentsForRepurchaseOfRedeemableConvertiblePreferredStock',\n",
    " 'PaymentsForRepurchaseOfRedeemablePreferredStock'"
   ]
  },
  {
   "cell_type": "code",
   "execution_count": null,
   "metadata": {},
   "outputs": [],
   "source": [
    "cf_pivot_pd_copy = sum_cols_into_new_target(cf_pivot_pd_copy, 'PaymentsForRepurchaseOfStockTotal', \n",
    "                                 ['PaymentsForRepurchaseOfCommonStock',\n",
    "                                     'PaymentsForRepurchaseOfCommonStockForEmployeeTaxWithholdingObligations',\n",
    "                                     'PaymentsForRepurchaseOfConvertiblePreferredStock',\n",
    "                                     'PaymentsForRepurchaseOfPreferredStockAndPreferenceStock',\n",
    "                                     'PaymentsForRepurchaseOfRedeemableConvertiblePreferredStock',\n",
    "                                     'PaymentsForRepurchaseOfRedeemablePreferredStock'])"
   ]
  },
  {
   "cell_type": "markdown",
   "metadata": {},
   "source": [
    "### Save"
   ]
  },
  {
   "cell_type": "code",
   "execution_count": null,
   "metadata": {},
   "outputs": [],
   "source": [
    "cf_pivot_pd_copy[[\"cik\",\"ticker\", \"adsh\",\"period\",\"form\", \"qtrs\",\"fp\",\n",
    "                                     'CashAndCashEquivalentsPeriodIncreaseDecrease',\n",
    "                                     'NetIncomeLoss', \n",
    "                                     'ProfitLoss', \n",
    "                                     'NetCashProvidedByUsedInOperatingActivities', \n",
    "                                     'NetCashProvidedByUsedInInvestingActivities',\n",
    "                                     'NetCashProvidedByUsedInFinancingActivities',\n",
    "                                     'PaymentsOfDividendsTotal',\n",
    "                                     'PaymentsForRepurchaseOfStockTotal']] \\\n",
    "                  .to_csv(all_processed_folder + \"cf_not_cleaned.csv\", index=False)"
   ]
  },
  {
   "cell_type": "markdown",
   "metadata": {},
   "source": [
    "### Clean empty companies"
   ]
  },
  {
   "cell_type": "code",
   "execution_count": null,
   "metadata": {},
   "outputs": [],
   "source": [
    "cf_cols_selected = cf_pivot_pd_copy[[\"cik\",\"ticker\", \"adsh\",\"period\",\"form\", \n",
    "                                     'CashAndCashEquivalentsPeriodIncreaseDecrease',\n",
    "                                     'NetIncomeLoss', 'ProfitLoss', \n",
    "                                     'NetCashProvidedByUsedInOperatingActivities', \n",
    "                                     'NetCashProvidedByUsedInInvestingActivities',\n",
    "                                     'NetCashProvidedByUsedInFinancingActivities'.\n",
    "                                     'PaymentsOfDividendsTotal'\n",
    "                                     'PaymentsForRepurchaseOfStockTotal']]"
   ]
  },
  {
   "cell_type": "code",
   "execution_count": null,
   "metadata": {},
   "outputs": [],
   "source": [
    "incomplete_ciks = cf_cols_selected[cf_cols_selected.isnull().sum(axis=1) > 0].cik.unique()"
   ]
  },
  {
   "cell_type": "code",
   "execution_count": null,
   "metadata": {},
   "outputs": [
    {
     "data": {
      "text/plain": [
       "514"
      ]
     },
     "execution_count": null,
     "metadata": {},
     "output_type": "execute_result"
    }
   ],
   "source": [
    "len(incomplete_ciks)"
   ]
  },
  {
   "cell_type": "code",
   "execution_count": null,
   "metadata": {},
   "outputs": [],
   "source": [
    "cf_cols_cleaned = cf_cols_selected[~cf_pivot_pd_copy.cik.isin(incomplete_ciks)]"
   ]
  },
  {
   "cell_type": "code",
   "execution_count": null,
   "metadata": {},
   "outputs": [
    {
     "data": {
      "text/plain": [
       "(117038, 11)"
      ]
     },
     "execution_count": null,
     "metadata": {},
     "output_type": "execute_result"
    }
   ],
   "source": [
    "cf_cols_cleaned.shape"
   ]
  },
  {
   "cell_type": "code",
   "execution_count": null,
   "metadata": {},
   "outputs": [
    {
     "data": {
      "text/plain": [
       "0"
      ]
     },
     "execution_count": null,
     "metadata": {},
     "output_type": "execute_result"
    }
   ],
   "source": [
    "cf_cols_cleaned.isnull().sum(axis=1).sum()"
   ]
  },
  {
   "cell_type": "code",
   "execution_count": null,
   "metadata": {},
   "outputs": [],
   "source": [
    "cf_cols_cleaned.to_csv(all_processed_folder + \"cf.csv\", index=False)"
   ]
  },
  {
   "cell_type": "markdown",
   "metadata": {},
   "source": [
    "## 03_IncomeStatement"
   ]
  },
  {
   "cell_type": "markdown",
   "metadata": {},
   "source": [
    "Gross Margin\n",
    "- Net Sales\n",
    "- Cost of Sales\n",
    "- Gross Margin -> NetSales - CostOfSales\n",
    "\n",
    "Operating Expenses\n",
    "- R&D\n",
    "- Selling, general and admin\n",
    "- Total op expenses = R&D + Selling, general and admin\n",
    "\n",
    "- Operating Income = Gross Margin - Total op expenses      -> OperatingIncomeLoss\n",
    "- other income\n",
    "- Income before provision for income taxes = operating income + other income\n",
    "\n",
    "- Provision for income taxes\n",
    "- Net income = Income before taxes -taxes                   -> NetIncomeLoss -> also available in CF(!)\n",
    "\n",
    "Earning per share\n",
    "- Basic\n",
    "- Diluted\n",
    "\n",
    "Shares used in computing earnings per share:\n",
    "- basic\n",
    "- diluted\n"
   ]
  },
  {
   "cell_type": "code",
   "execution_count": null,
   "metadata": {},
   "outputs": [
    {
     "data": {
      "text/plain": [
       "(116298, 1927)"
      ]
     },
     "execution_count": null,
     "metadata": {},
     "output_type": "execute_result"
    }
   ],
   "source": [
    "is_pivot_value = load_data(\"IS\", \"value\")\n",
    "spark_shape(is_pivot_value)"
   ]
  },
  {
   "cell_type": "code",
   "execution_count": null,
   "metadata": {},
   "outputs": [],
   "source": [
    "# is_empty_count = get_empty_count(is_pivot_value)"
   ]
  },
  {
   "cell_type": "code",
   "execution_count": null,
   "metadata": {},
   "outputs": [],
   "source": [
    "is_pivot_pd = is_pivot_value.toPandas()"
   ]
  },
  {
   "cell_type": "code",
   "execution_count": null,
   "metadata": {},
   "outputs": [],
   "source": [
    "is_pivot_pd['value_count'] = is_pivot_pd.notnull().sum(axis=1)-len(pivot_group) # create a column that countains the number of not null values of the row"
   ]
  },
  {
   "cell_type": "code",
   "execution_count": null,
   "metadata": {},
   "outputs": [
    {
     "data": {
      "text/plain": [
       "(116298, 1928)"
      ]
     },
     "execution_count": null,
     "metadata": {},
     "output_type": "execute_result"
    }
   ],
   "source": [
    "is_pivot_pd.shape"
   ]
  },
  {
   "cell_type": "code",
   "execution_count": null,
   "metadata": {},
   "outputs": [],
   "source": [
    "is_pivot_pd_copy = is_pivot_pd.copy()"
   ]
  },
  {
   "cell_type": "code",
   "execution_count": null,
   "metadata": {},
   "outputs": [
    {
     "data": {
      "text/plain": [
       "(116298, 1945)"
      ]
     },
     "execution_count": null,
     "metadata": {},
     "output_type": "execute_result"
    }
   ],
   "source": [
    "# merge relevant columns from the UN dataset\n",
    "is_pivot_pd_copy = prepare_un_values(is_pivot_pd_copy, [\n",
    "    'NetIncomeLoss',\n",
    "    'NetIncomeLossAvailableToCommonStockholdersBasic',\n",
    "    'NetIncomeLossAllocatedToLimitedPartners',\n",
    "    'ProfitLoss',\n",
    "    'Revenues',\n",
    "    'SalesRevenueNet',\n",
    "    'RevenueFromContractWithCustomerExcludingAssessedTax', \n",
    "    'RevenueFromContractWithCustomerIncludingAssessedTax', \n",
    "    'CostOfGoodsAndServicesSold',\n",
    "    'CostOfGoodsSold',\n",
    "    'CostOfRevenue',\n",
    "    'CostOfServices',\n",
    "    'CostsAndExpenses',\n",
    "    'OperatingIncomeLoss',\n",
    "    'IncomeLossFromContinuingOperationsBeforeIncomeTaxesMinorityInterestAndIncomeLossFromEquityMethodInvestments',\n",
    "    'IncomeLossFromContinuingOperationsBeforeIncomeTaxesExtraordinaryItemsNoncontrollingInterest',\n",
    "    \n",
    "    'GrossProfit',\n",
    "])\n",
    "is_pivot_pd_copy.shape"
   ]
  },
  {
   "cell_type": "code",
   "execution_count": null,
   "metadata": {},
   "outputs": [
    {
     "data": {
      "text/plain": [
       "(115899, 1945)"
      ]
     },
     "execution_count": null,
     "metadata": {},
     "output_type": "execute_result"
    }
   ],
   "source": [
    "# if there are less than 5 columns with values it is likely that this is not a complete statement\n",
    "# often this indicates, that the real information is inside the ComprehensiveIncome Statement and not in an IncomeStatement\n",
    "is_pivot_pd_copy = is_pivot_pd_copy[is_pivot_pd_copy['value_count'] > 4] \n",
    "is_pivot_pd_copy.shape"
   ]
  },
  {
   "cell_type": "markdown",
   "metadata": {},
   "source": [
    "#### shares"
   ]
  },
  {
   "cell_type": "code",
   "execution_count": null,
   "metadata": {},
   "outputs": [
    {
     "name": "stdout",
     "output_type": "stream",
     "text": [
      "EarningsPerShareBasic   28706\n",
      "EarningsPerShareBasicAndDiluted   94567\n",
      "EarningsPerShareDiluted   29540\n",
      "EarningsPerShareBasicDistributed   115882\n",
      "EarningsPerShareDilutedDistributed   115882\n"
     ]
    }
   ],
   "source": [
    "print_null_count(is_pivot_pd_copy, [ 'EarningsPerShareBasic',\n",
    " 'EarningsPerShareBasicAndDiluted',\n",
    " 'EarningsPerShareDiluted',\n",
    " 'EarningsPerShareBasicDistributed',   \n",
    " 'EarningsPerShareDilutedDistributed'])"
   ]
  },
  {
   "cell_type": "code",
   "execution_count": null,
   "metadata": {},
   "outputs": [],
   "source": [
    "is_pivot_pd_copy['EarningsPerShare_hj'] = None\n",
    "copy_if_not_empty(is_pivot_pd_copy, 'EarningsPerShareBasic', 'EarningsPerShare_hj')\n",
    "copy_if_not_empty(is_pivot_pd_copy, 'EarningsPerShareBasicAndDiluted', 'EarningsPerShare_hj')\n",
    "copy_if_not_empty(is_pivot_pd_copy, 'EarningsPerShareBasicDistributed', 'EarningsPerShare_hj')\n",
    "copy_if_not_empty(is_pivot_pd_copy, 'EarningsPerShareDiluted', 'EarningsPerShare_hj') \n",
    "copy_if_not_empty(is_pivot_pd_copy, 'EarningsPerShareDilutedDistributed', 'EarningsPerShare_hj') "
   ]
  },
  {
   "cell_type": "code",
   "execution_count": null,
   "metadata": {},
   "outputs": [
    {
     "name": "stdout",
     "output_type": "stream",
     "text": [
      "EarningsPerShare_hj   7138\n"
     ]
    }
   ],
   "source": [
    "print_null_count(is_pivot_pd_copy, ['EarningsPerShare_hj'])"
   ]
  },
  {
   "cell_type": "code",
   "execution_count": null,
   "metadata": {},
   "outputs": [
    {
     "name": "stdout",
     "output_type": "stream",
     "text": [
      "WeightedAverageNumberOfSharesOutstandingBasic   42151\n",
      "WeightedAverageNumberOfDilutedSharesOutstanding   42378\n"
     ]
    }
   ],
   "source": [
    "print_null_count(is_pivot_pd_copy, ['WeightedAverageNumberOfSharesOutstandingBasic','WeightedAverageNumberOfDilutedSharesOutstanding'])"
   ]
  },
  {
   "cell_type": "code",
   "execution_count": null,
   "metadata": {},
   "outputs": [],
   "source": [
    "is_pivot_pd_copy['SharesOutstanding_hj'] = None\n",
    "copy_if_not_empty(is_pivot_pd_copy, 'WeightedAverageNumberOfSharesOutstandingBasic', 'SharesOutstanding_hj')\n",
    "copy_if_not_empty(is_pivot_pd_copy, 'WeightedAverageNumberOfDilutedSharesOutstanding', 'SharesOutstanding_hj')"
   ]
  },
  {
   "cell_type": "code",
   "execution_count": null,
   "metadata": {},
   "outputs": [
    {
     "name": "stdout",
     "output_type": "stream",
     "text": [
      "SharesOutstanding_hj   40947\n"
     ]
    }
   ],
   "source": [
    "print_null_count(is_pivot_pd_copy, ['SharesOutstanding_hj'])"
   ]
  },
  {
   "cell_type": "markdown",
   "metadata": {},
   "source": [
    "#### NetIncome"
   ]
  },
  {
   "cell_type": "code",
   "execution_count": null,
   "metadata": {},
   "outputs": [
    {
     "name": "stdout",
     "output_type": "stream",
     "text": [
      "NetIncomeLoss   15045\n",
      "NetIncomeLossAvailableToCommonStockholdersBasic   91896\n",
      "ProfitLoss   76463\n"
     ]
    }
   ],
   "source": [
    "print_null_count(is_pivot_pd_copy, [ 'NetIncomeLoss', 'NetIncomeLossAvailableToCommonStockholdersBasic', 'ProfitLoss'])"
   ]
  },
  {
   "cell_type": "code",
   "execution_count": null,
   "metadata": {},
   "outputs": [],
   "source": [
    "is_pivot_pd_copy['NetIncomeLoss_hj'] = None\n",
    "\n",
    "copy_if_not_empty(is_pivot_pd_copy, 'cpy_NetIncomeLoss', 'NetIncomeLoss')\n",
    "copy_if_not_empty(is_pivot_pd_copy, 'cpy_NetIncomeLossAvailableToCommonStockholdersBasic', 'NetIncomeLossAvailableToCommonStockholdersBasic')\n",
    "copy_if_not_empty(is_pivot_pd_copy, 'cpy_NetIncomeLossAllocatedToLimitedPartners', 'NetIncomeLossAllocatedToLimitedPartners')\n",
    "copy_if_not_empty(is_pivot_pd_copy, 'cpy_ProfitLoss', 'ProfitLoss')\n",
    "\n",
    "\n",
    "copy_if_not_empty(is_pivot_pd_copy, 'NetIncomeLoss', 'NetIncomeLoss_hj')\n",
    "copy_if_not_empty(is_pivot_pd_copy, 'NetIncomeLossAvailableToCommonStockholdersBasic', 'NetIncomeLoss_hj')\n",
    "copy_if_not_empty(is_pivot_pd_copy, 'NetIncomeLossAllocatedToLimitedPartners', 'NetIncomeLoss_hj')\n",
    "copy_if_not_empty(is_pivot_pd_copy, 'ProfitLoss', 'NetIncomeLoss_hj')"
   ]
  },
  {
   "cell_type": "code",
   "execution_count": null,
   "metadata": {},
   "outputs": [
    {
     "name": "stdout",
     "output_type": "stream",
     "text": [
      "NetIncomeLoss_hj   621\n",
      "NetIncomeLoss   15026\n",
      "ProfitLoss   76441\n"
     ]
    }
   ],
   "source": [
    "print_null_count(is_pivot_pd_copy, [ 'NetIncomeLoss_hj', 'NetIncomeLoss', 'ProfitLoss'])"
   ]
  },
  {
   "cell_type": "markdown",
   "metadata": {},
   "source": [
    "#### NetSales / Revenues"
   ]
  },
  {
   "cell_type": "code",
   "execution_count": null,
   "metadata": {},
   "outputs": [
    {
     "name": "stdout",
     "output_type": "stream",
     "text": [
      "Revenues   72861\n",
      "SalesRevenueNet   85708\n",
      "RevenueFromContractWithCustomerExcludingAssessedTax   105818\n",
      "RevenueFromContractWithCustomerIncludingAssessedTax   112696\n"
     ]
    }
   ],
   "source": [
    "print_null_count(is_pivot_pd_copy, [ \n",
    "    'Revenues',\n",
    "    'SalesRevenueNet',\n",
    "    'RevenueFromContractWithCustomerExcludingAssessedTax', # Sales\n",
    "    'RevenueFromContractWithCustomerIncludingAssessedTax', # Sales\n",
    "])"
   ]
  },
  {
   "cell_type": "code",
   "execution_count": null,
   "metadata": {},
   "outputs": [],
   "source": [
    "is_pivot_pd_copy['Revenues_hj'] = None\n",
    "\n",
    "copy_if_not_empty(is_pivot_pd_copy, 'cpy_Revenues', 'Revenues')\n",
    "copy_if_not_empty(is_pivot_pd_copy, 'cpy_SalesRevenueNet', 'SalesRevenueNet')\n",
    "copy_if_not_empty(is_pivot_pd_copy, 'cpy_RevenueFromContractWithCustomerExcludingAssessedTax', 'RevenueFromContractWithCustomerExcludingAssessedTax')\n",
    "copy_if_not_empty(is_pivot_pd_copy, 'cpy_RevenueFromContractWithCustomerIncludingAssessedTax', 'RevenueFromContractWithCustomerIncludingAssessedTax')\n",
    "#copy_if_not_empty(is_pivot_pd_copy, 'cpy_RevenuesExcludingInterestAndDividends', 'RevenuesExcludingInterestAndDividends')\n",
    "\n",
    "copy_if_not_empty(is_pivot_pd_copy, 'Revenues', 'Revenues_hj')\n",
    "copy_if_not_empty(is_pivot_pd_copy, 'SalesRevenueNet', 'Revenues_hj')\n",
    "copy_if_not_empty(is_pivot_pd_copy, 'RevenueFromContractWithCustomerExcludingAssessedTax', 'Revenues_hj')\n",
    "copy_if_not_empty(is_pivot_pd_copy, 'RevenueFromContractWithCustomerIncludingAssessedTax', 'Revenues_hj')\n",
    "copy_if_not_empty(is_pivot_pd_copy, 'RevenuesExcludingInterestAndDividends', 'Revenues_hj')\n",
    "copy_if_not_empty(is_pivot_pd_copy, 'RegulatedAndUnregulatedOperatingRevenue', 'Revenues_hj')"
   ]
  },
  {
   "cell_type": "code",
   "execution_count": null,
   "metadata": {},
   "outputs": [],
   "source": [
    "# some companies provide NonInterestIncome and InterestAndDividendIncomeOperating instead of a Revenue\n",
    "sum_into_empty_target(is_pivot_pd_copy,  \n",
    "                      'InterestAndDividendIncomeOperating',\n",
    "                      'NoninterestIncome',\n",
    "                      'Revenues_hj')\n",
    "\n",
    "sum_into_empty_target(is_pivot_pd_copy,  \n",
    "                      'InterestIncomeExpenseNet',\n",
    "                      'NoninterestIncome',\n",
    "                      'Revenues_hj')"
   ]
  },
  {
   "cell_type": "code",
   "execution_count": null,
   "metadata": {},
   "outputs": [
    {
     "name": "stdout",
     "output_type": "stream",
     "text": [
      "Revenues_hj   19673\n"
     ]
    }
   ],
   "source": [
    "print_null_count(is_pivot_pd_copy, [ 'Revenues_hj'])"
   ]
  },
  {
   "cell_type": "markdown",
   "metadata": {},
   "source": [
    "#### CostOfSales"
   ]
  },
  {
   "cell_type": "code",
   "execution_count": null,
   "metadata": {},
   "outputs": [
    {
     "name": "stdout",
     "output_type": "stream",
     "text": [
      "CostOfGoodsAndServicesSold   92834\n",
      "CostOfGoodsSold   92088\n",
      "CostOfRevenue   97276\n",
      "CostOfServices   106588\n"
     ]
    }
   ],
   "source": [
    "print_null_count(is_pivot_pd_copy, [ \n",
    "    'CostOfGoodsAndServicesSold',\n",
    "    'CostOfGoodsSold',\n",
    "    'CostOfRevenue',\n",
    "    'CostOfServices',\n",
    "])"
   ]
  },
  {
   "cell_type": "code",
   "execution_count": null,
   "metadata": {},
   "outputs": [],
   "source": [
    "is_pivot_pd_copy['CostOfRevenue_hj'] = None\n",
    "\n",
    "copy_if_not_empty(is_pivot_pd_copy, 'cpy_CostOfGoodsAndServicesSold', 'CostOfGoodsAndServicesSold')\n",
    "copy_if_not_empty(is_pivot_pd_copy, 'cpy_CostOfGoodsSold', 'CostOfGoodsSold')\n",
    "copy_if_not_empty(is_pivot_pd_copy, 'cpy_CostOfRevenue', 'CostOfRevenue')\n",
    "copy_if_not_empty(is_pivot_pd_copy, 'cpy_CostOfServices', 'CostOfServices')\n",
    "\n",
    "copy_if_not_empty(is_pivot_pd_copy, 'CostOfRevenue', 'CostOfRevenue_hj')\n",
    "copy_if_not_empty(is_pivot_pd_copy, 'CostOfGoodsAndServicesSold', 'CostOfRevenue_hj')\n",
    "\n",
    "sum_into_empty_target(is_pivot_pd_copy,  \n",
    "                      'CostOfGoodsSold',\n",
    "                      'CostOfServices',\n",
    "                      'CostOfRevenue_hj')\n",
    "\n",
    "copy_if_not_empty(is_pivot_pd_copy, 'CostOfGoodsSold', 'CostOfRevenue_hj')\n",
    "copy_if_not_empty(is_pivot_pd_copy, 'CostOfServices', 'CostOfRevenue_hj')"
   ]
  },
  {
   "cell_type": "code",
   "execution_count": null,
   "metadata": {},
   "outputs": [
    {
     "name": "stdout",
     "output_type": "stream",
     "text": [
      "CostOfRevenue_hj   52385\n"
     ]
    }
   ],
   "source": [
    "print_null_count(is_pivot_pd_copy, ['CostOfRevenue_hj'])"
   ]
  },
  {
   "cell_type": "markdown",
   "metadata": {},
   "source": [
    "#### OperatingIncomeLoss"
   ]
  },
  {
   "cell_type": "code",
   "execution_count": null,
   "metadata": {},
   "outputs": [
    {
     "name": "stdout",
     "output_type": "stream",
     "text": [
      "OperatingIncomeLoss   28924\n",
      "IncomeLossFromContinuingOperationsBeforeIncomeTaxesMinorityInterestAndIncomeLossFromEquityMethodInvestments   59817\n",
      "IncomeLossFromContinuingOperationsBeforeIncomeTaxesExtraordinaryItemsNoncontrollingInterest   70434\n"
     ]
    }
   ],
   "source": [
    "print_null_count(is_pivot_pd_copy, ['OperatingIncomeLoss',\n",
    "                                   'IncomeLossFromContinuingOperationsBeforeIncomeTaxesMinorityInterestAndIncomeLossFromEquityMethodInvestments',\n",
    "                                   'IncomeLossFromContinuingOperationsBeforeIncomeTaxesExtraordinaryItemsNoncontrollingInterest'])"
   ]
  },
  {
   "cell_type": "code",
   "execution_count": null,
   "metadata": {},
   "outputs": [],
   "source": [
    "is_pivot_pd_copy['OperatingIncomeLoss_hj'] = None\n",
    "\n",
    "copy_if_not_empty(is_pivot_pd_copy, 'cpy_OperatingIncomeLoss', 'OperatingIncomeLoss')\n",
    "copy_if_not_empty(is_pivot_pd_copy, 'cpy_IncomeLossFromContinuingOperationsBeforeIncomeTaxesMinorityInterestAndIncomeLossFromEquityMethodInvestments', 'IncomeLossFromContinuingOperationsBeforeIncomeTaxesMinorityInterestAndIncomeLossFromEquityMethodInvestments')\n",
    "copy_if_not_empty(is_pivot_pd_copy, 'cpy_IncomeLossFromContinuingOperationsBeforeIncomeTaxesExtraordinaryItemsNoncontrollingInterest', 'IncomeLossFromContinuingOperationsBeforeIncomeTaxesExtraordinaryItemsNoncontrollingInterest')\n",
    "\n",
    "copy_if_not_empty(is_pivot_pd_copy, 'OperatingIncomeLoss', 'OperatingIncomeLoss_hj')\n",
    "copy_if_not_empty(is_pivot_pd_copy, 'IncomeLossFromContinuingOperationsBeforeIncomeTaxesMinorityInterestAndIncomeLossFromEquityMethodInvestments', 'OperatingIncomeLoss_hj')\n",
    "copy_if_not_empty(is_pivot_pd_copy, 'IncomeLossFromContinuingOperationsBeforeIncomeTaxesExtraordinaryItemsNoncontrollingInterest', 'OperatingIncomeLoss_hj')"
   ]
  },
  {
   "cell_type": "code",
   "execution_count": null,
   "metadata": {},
   "outputs": [
    {
     "name": "stdout",
     "output_type": "stream",
     "text": [
      "OperatingIncomeLoss_hj   4073\n"
     ]
    }
   ],
   "source": [
    "print_null_count(is_pivot_pd_copy, ['OperatingIncomeLoss_hj'])"
   ]
  },
  {
   "cell_type": "markdown",
   "metadata": {},
   "source": [
    "#### Other"
   ]
  },
  {
   "cell_type": "code",
   "execution_count": null,
   "metadata": {},
   "outputs": [],
   "source": [
    "copy_if_not_empty(is_pivot_pd_copy, 'cpy_CostsAndExpenses', 'CostsAndExpenses')"
   ]
  },
  {
   "cell_type": "markdown",
   "metadata": {},
   "source": [
    "#### Save"
   ]
  },
  {
   "cell_type": "code",
   "execution_count": null,
   "metadata": {},
   "outputs": [],
   "source": [
    "is_pivot_pd_copy[[\"cik\",\"ticker\", \"adsh\",\"period\",\"form\", \"qtrs\",\"fp\",\n",
    "                    'Revenues_hj',\n",
    "                    'CostOfRevenue_hj',\n",
    "                    'OperatingIncomeLoss_hj',\n",
    "                    'CostsAndExpenses',\n",
    "                    'NetIncomeLoss_hj', 'NetIncomeLoss', 'ProfitLoss',\n",
    "                    'SharesOutstanding_hj',\n",
    "                    'EarningsPerShare_hj'\n",
    "                 ]] \\\n",
    "                  .to_csv(all_processed_folder + \"is_not_cleaned.csv\", index=False)"
   ]
  },
  {
   "cell_type": "markdown",
   "metadata": {},
   "source": [
    "# xx_trials"
   ]
  },
  {
   "cell_type": "code",
   "execution_count": null,
   "metadata": {},
   "outputs": [
    {
     "data": {
      "text/plain": [
       "cik                                                                        200\n",
       "ticker                                                                     200\n",
       "adsh                                                                       200\n",
       "form                                                                       200\n",
       "period                                                                     200\n",
       "                                                                          ... \n",
       "WeightedAverageNumberOfSharesRestrictedStock                                 0\n",
       "WeightedAverageNumberOfSharesTreasuryStock                                   0\n",
       "WeightedAverageNumerDilutedLimitedPartnershipUnitsOutstandingAdjustment      0\n",
       "WellServiceExpense                                                           0\n",
       "WriteOffOfDeferredDebtIssuanceCost                                           0\n",
       "Length: 2328, dtype: int64"
      ]
     },
     "execution_count": null,
     "metadata": {},
     "output_type": "execute_result"
    }
   ],
   "source": [
    "# index = is_pivot_pd_copy.form == '10-K'\n",
    "# print('10-Ks', len(pd.unique(is_pivot_pd_copy[index].adsh))) # 32283\n",
    "\n",
    "#is_pivot_pd_copy[(is_pivot_pd_copy.form == '10-K') & (is_pivot_pd_copy.fp == 'FY') & (is_pivot_pd_copy.qtrs == '4')].count() # 32188\n",
    "#is_pivot_pd_copy[(is_pivot_pd_copy.form == '10-K') & (is_pivot_pd_copy.fp == 'FY') & (is_pivot_pd_copy.qtrs == '0')].count() # 96\n",
    "\n",
    "# len(pd.unique(is_pivot_pd_copy[(is_pivot_pd_copy.form == '10-K') & \n",
    "#                                (is_pivot_pd_copy.fp == 'FY') & \n",
    "#                                (is_pivot_pd_copy.qtrs.isin(['0','4']) )].adsh) )# 32207\n",
    "\n",
    "# index = is_pivot_pd_copy.form == '10-Q'\n",
    "# print('10-Qs', len(pd.unique(is_pivot_pd_copy[index].adsh))) # 101521\n",
    "# is_pivot_pd_copy[(is_pivot_pd_copy.form == '10-Q') & (is_pivot_pd_copy.qtrs == '1')].count() # 101378\n",
    "# is_pivot_pd_copy[(is_pivot_pd_copy.form == '10-Q') & (is_pivot_pd_copy.qtrs == '2')].count() # 101378\n",
    "# is_pivot_pd_copy[(is_pivot_pd_copy.form == '10-Q') & (is_pivot_pd_copy.qtrs == '3')].count() # 101378\n",
    "is_pivot_pd_copy[(is_pivot_pd_copy.form == '10-Q') & (is_pivot_pd_copy.qtrs == '4')].count() # 101378"
   ]
  },
  {
   "cell_type": "code",
   "execution_count": null,
   "metadata": {},
   "outputs": [
    {
     "data": {
      "text/html": [
       "<div>\n",
       "<style scoped>\n",
       "    .dataframe tbody tr th:only-of-type {\n",
       "        vertical-align: middle;\n",
       "    }\n",
       "\n",
       "    .dataframe tbody tr th {\n",
       "        vertical-align: top;\n",
       "    }\n",
       "\n",
       "    .dataframe thead th {\n",
       "        text-align: right;\n",
       "    }\n",
       "</style>\n",
       "<table border=\"1\" class=\"dataframe\">\n",
       "  <thead>\n",
       "    <tr style=\"text-align: right;\">\n",
       "      <th></th>\n",
       "      <th>cik</th>\n",
       "      <th>ticker</th>\n",
       "      <th>adsh</th>\n",
       "      <th>period</th>\n",
       "      <th>form</th>\n",
       "      <th>fp</th>\n",
       "      <th>qtrs</th>\n",
       "      <th>value_count</th>\n",
       "      <th>OperatingIncomeLoss</th>\n",
       "      <th>IncomeLossFromContinuingOperationsBeforeIncomeTaxesMinorityInterestAndIncomeLossFromEquityMethodInvestments</th>\n",
       "      <th>CostsAndExpenses</th>\n",
       "    </tr>\n",
       "  </thead>\n",
       "  <tbody>\n",
       "    <tr>\n",
       "      <th>31205</th>\n",
       "      <td>798359</td>\n",
       "      <td>IRET</td>\n",
       "      <td>0000798359-12-000015</td>\n",
       "      <td>2012-01-31</td>\n",
       "      <td>10-Q</td>\n",
       "      <td>Q3</td>\n",
       "      <td>1</td>\n",
       "      <td>27</td>\n",
       "      <td>NaN</td>\n",
       "      <td>NaN</td>\n",
       "      <td>4.226400e+07</td>\n",
       "    </tr>\n",
       "    <tr>\n",
       "      <th>74534</th>\n",
       "      <td>65172</td>\n",
       "      <td>MSB</td>\n",
       "      <td>0001104659-12-025296</td>\n",
       "      <td>2012-01-31</td>\n",
       "      <td>10-K</td>\n",
       "      <td>FY</td>\n",
       "      <td>4</td>\n",
       "      <td>8</td>\n",
       "      <td>NaN</td>\n",
       "      <td>NaN</td>\n",
       "      <td>NaN</td>\n",
       "    </tr>\n",
       "    <tr>\n",
       "      <th>58282</th>\n",
       "      <td>1328598</td>\n",
       "      <td>FXE</td>\n",
       "      <td>0001193125-12-110009</td>\n",
       "      <td>2012-01-31</td>\n",
       "      <td>10-Q</td>\n",
       "      <td>Q1</td>\n",
       "      <td>1</td>\n",
       "      <td>8</td>\n",
       "      <td>NaN</td>\n",
       "      <td>NaN</td>\n",
       "      <td>NaN</td>\n",
       "    </tr>\n",
       "    <tr>\n",
       "      <th>71016</th>\n",
       "      <td>14177</td>\n",
       "      <td>BRID</td>\n",
       "      <td>0001437749-12-001969</td>\n",
       "      <td>2012-01-31</td>\n",
       "      <td>10-Q</td>\n",
       "      <td>Q1</td>\n",
       "      <td>1</td>\n",
       "      <td>8</td>\n",
       "      <td>NaN</td>\n",
       "      <td>NaN</td>\n",
       "      <td>NaN</td>\n",
       "    </tr>\n",
       "    <tr>\n",
       "      <th>58391</th>\n",
       "      <td>799850</td>\n",
       "      <td>CRMT</td>\n",
       "      <td>0001171843-12-000715</td>\n",
       "      <td>2012-01-31</td>\n",
       "      <td>10-Q</td>\n",
       "      <td>Q3</td>\n",
       "      <td>1</td>\n",
       "      <td>18</td>\n",
       "      <td>NaN</td>\n",
       "      <td>NaN</td>\n",
       "      <td>9.362500e+07</td>\n",
       "    </tr>\n",
       "    <tr>\n",
       "      <th>...</th>\n",
       "      <td>...</td>\n",
       "      <td>...</td>\n",
       "      <td>...</td>\n",
       "      <td>...</td>\n",
       "      <td>...</td>\n",
       "      <td>...</td>\n",
       "      <td>...</td>\n",
       "      <td>...</td>\n",
       "      <td>...</td>\n",
       "      <td>...</td>\n",
       "      <td>...</td>\n",
       "    </tr>\n",
       "    <tr>\n",
       "      <th>49394</th>\n",
       "      <td>799850</td>\n",
       "      <td>CRMT</td>\n",
       "      <td>0001171843-20-006280</td>\n",
       "      <td>2020-07-31</td>\n",
       "      <td>10-Q</td>\n",
       "      <td>Q1</td>\n",
       "      <td>1</td>\n",
       "      <td>19</td>\n",
       "      <td>NaN</td>\n",
       "      <td>NaN</td>\n",
       "      <td>1.623720e+08</td>\n",
       "    </tr>\n",
       "    <tr>\n",
       "      <th>81583</th>\n",
       "      <td>65172</td>\n",
       "      <td>MSB</td>\n",
       "      <td>0001558370-20-011056</td>\n",
       "      <td>2020-07-31</td>\n",
       "      <td>10-Q</td>\n",
       "      <td>Q2</td>\n",
       "      <td>1</td>\n",
       "      <td>7</td>\n",
       "      <td>NaN</td>\n",
       "      <td>NaN</td>\n",
       "      <td>NaN</td>\n",
       "    </tr>\n",
       "    <tr>\n",
       "      <th>88069</th>\n",
       "      <td>808450</td>\n",
       "      <td>NAV</td>\n",
       "      <td>0000808450-20-000098</td>\n",
       "      <td>2020-07-31</td>\n",
       "      <td>10-Q</td>\n",
       "      <td>Q3</td>\n",
       "      <td>1</td>\n",
       "      <td>19</td>\n",
       "      <td>NaN</td>\n",
       "      <td>NaN</td>\n",
       "      <td>1.703000e+09</td>\n",
       "    </tr>\n",
       "    <tr>\n",
       "      <th>100464</th>\n",
       "      <td>72333</td>\n",
       "      <td>JWN</td>\n",
       "      <td>0000072333-20-000195</td>\n",
       "      <td>2020-07-31</td>\n",
       "      <td>10-Q</td>\n",
       "      <td>Q2</td>\n",
       "      <td>1</td>\n",
       "      <td>9</td>\n",
       "      <td>NaN</td>\n",
       "      <td>NaN</td>\n",
       "      <td>NaN</td>\n",
       "    </tr>\n",
       "    <tr>\n",
       "      <th>57671</th>\n",
       "      <td>1750</td>\n",
       "      <td>AIR</td>\n",
       "      <td>0001104659-20-108360</td>\n",
       "      <td>2020-08-31</td>\n",
       "      <td>10-Q</td>\n",
       "      <td>Q1</td>\n",
       "      <td>1</td>\n",
       "      <td>18</td>\n",
       "      <td>NaN</td>\n",
       "      <td>NaN</td>\n",
       "      <td>3.975000e+08</td>\n",
       "    </tr>\n",
       "  </tbody>\n",
       "</table>\n",
       "<p>4073 rows × 11 columns</p>\n",
       "</div>"
      ],
      "text/plain": [
       "            cik ticker                  adsh      period  form  fp qtrs  \\\n",
       "31205    798359   IRET  0000798359-12-000015  2012-01-31  10-Q  Q3    1   \n",
       "74534     65172    MSB  0001104659-12-025296  2012-01-31  10-K  FY    4   \n",
       "58282   1328598    FXE  0001193125-12-110009  2012-01-31  10-Q  Q1    1   \n",
       "71016     14177   BRID  0001437749-12-001969  2012-01-31  10-Q  Q1    1   \n",
       "58391    799850   CRMT  0001171843-12-000715  2012-01-31  10-Q  Q3    1   \n",
       "...         ...    ...                   ...         ...   ...  ..  ...   \n",
       "49394    799850   CRMT  0001171843-20-006280  2020-07-31  10-Q  Q1    1   \n",
       "81583     65172    MSB  0001558370-20-011056  2020-07-31  10-Q  Q2    1   \n",
       "88069    808450    NAV  0000808450-20-000098  2020-07-31  10-Q  Q3    1   \n",
       "100464    72333    JWN  0000072333-20-000195  2020-07-31  10-Q  Q2    1   \n",
       "57671      1750    AIR  0001104659-20-108360  2020-08-31  10-Q  Q1    1   \n",
       "\n",
       "        value_count  OperatingIncomeLoss  \\\n",
       "31205            27                  NaN   \n",
       "74534             8                  NaN   \n",
       "58282             8                  NaN   \n",
       "71016             8                  NaN   \n",
       "58391            18                  NaN   \n",
       "...             ...                  ...   \n",
       "49394            19                  NaN   \n",
       "81583             7                  NaN   \n",
       "88069            19                  NaN   \n",
       "100464            9                  NaN   \n",
       "57671            18                  NaN   \n",
       "\n",
       "        IncomeLossFromContinuingOperationsBeforeIncomeTaxesMinorityInterestAndIncomeLossFromEquityMethodInvestments  \\\n",
       "31205                                                 NaN                                                             \n",
       "74534                                                 NaN                                                             \n",
       "58282                                                 NaN                                                             \n",
       "71016                                                 NaN                                                             \n",
       "58391                                                 NaN                                                             \n",
       "...                                                   ...                                                             \n",
       "49394                                                 NaN                                                             \n",
       "81583                                                 NaN                                                             \n",
       "88069                                                 NaN                                                             \n",
       "100464                                                NaN                                                             \n",
       "57671                                                 NaN                                                             \n",
       "\n",
       "        CostsAndExpenses  \n",
       "31205       4.226400e+07  \n",
       "74534                NaN  \n",
       "58282                NaN  \n",
       "71016                NaN  \n",
       "58391       9.362500e+07  \n",
       "...                  ...  \n",
       "49394       1.623720e+08  \n",
       "81583                NaN  \n",
       "88069       1.703000e+09  \n",
       "100464               NaN  \n",
       "57671       3.975000e+08  \n",
       "\n",
       "[4073 rows x 11 columns]"
      ]
     },
     "execution_count": null,
     "metadata": {},
     "output_type": "execute_result"
    }
   ],
   "source": [
    "pd.set_option('display.max_rows', 40)\n",
    "is_pivot_pd_copy[\\\n",
    "                 \n",
    "                 (is_pivot_pd_copy.OperatingIncomeLoss_hj.isnull())  \n",
    "                 &(is_pivot_pd_copy.IncomeLossFromContinuingOperationsBeforeIncomeTaxesMinorityInterestAndIncomeLossFromEquityMethodInvestments.isnull())\n",
    "            \n",
    "#                 &(is_pivot_pd_copy.CostsAndExpenses.notnull())\n",
    "#                 &(is_pivot_pd_copy.CostOfGoodsAndServicesSold.isnull()) \n",
    "#                  &(is_pivot_pd_copy.CostOfGoodsSold.isnull()) \n",
    "#                  &(is_pivot_pd_copy.CostOfRevenue.isnull()) \n",
    "#                  &(is_pivot_pd_copy.CostOfServices.isnull())   \n",
    "                 \n",
    " #                (is_pivot_pd_copy.EarningsPerShareBasic.isnull())\n",
    "#                   ', 'WeightedAverageNumberOfSharesOutstandingBasic'      \n",
    "\n",
    "#                      (is_pivot_pd_copy.NetIncomeLoss.notnull())  \\\n",
    "#                    & (is_pivot_pd_copy.ProfitLoss.notnull())  \\\n",
    "#                  & (is_pivot_pd_copy.NetIncomeLossAvailableToCommonStockholdersBasic.notnull()) \\\n",
    "#                 (is_pivot_pd_copy.Revenues.isnull())  \\\n",
    "#                 &(is_pivot_pd_copy.SalesRevenueNet.isnull())  \\\n",
    "#                 &(is_pivot_pd_copy.RevenueFromContractWithCustomerExcludingAssessedTax.isnull())   \\\n",
    "#                 &(is_pivot_pd_copy.RevenueFromContractWithCustomerIncludingAssessedTax.isnull())   \\\n",
    "#                 &(is_pivot_pd_copy.InterestAndDividendIncomeOperating.isnull())   \\\n",
    "#                 &(is_pivot_pd_copy.NoninterestIncome.isnull())   \\\n",
    "#                &(is_pivot_pd_copy.RevenuesExcludingInterestAndDividends.isnull())   \\\n",
    "#                  &(is_pivot_pd_copy.RegulatedAndUnregulatedOperatingRevenue.isnull())  \\\n",
    "#                 &(is_pivot_pd_copy.SalesRevenueNet.isnull())  \\\n",
    "                ] \\\n",
    "  [[\"cik\",\"ticker\", \"adsh\",\"period\", \"form\",\"fp\",\"qtrs\",\"value_count\",\n",
    "    'OperatingIncomeLoss',\n",
    "    'IncomeLossFromContinuingOperationsBeforeIncomeTaxesMinorityInterestAndIncomeLossFromEquityMethodInvestments',\n",
    "    'CostsAndExpenses',\n",
    "#     'CostOfGoodsAndServicesSold',\n",
    "#     'CostOfGoodsSold',\n",
    "#     'CostOfRevenue',\n",
    "#     'CostOfServices',\n",
    "#     'NetIncomeLoss', 'ProfitLoss','NetIncomeLossAvailableToCommonStockholdersBasic'\n",
    "#     'Revenues',\n",
    "#     'SalesRevenueNet', \n",
    "#      'RevenueFromContractWithCustomerExcludingAssessedTax', # Sales\n",
    "#      'RevenueFromContractWithCustomerIncludingAssessedTax', # Sales\n",
    "#     'InterestAndDividendIncomeOperating',\n",
    "#     'NoninterestIncome',\n",
    "#     'RevenuesExcludingInterestAndDividends'\n",
    "    \n",
    "#  'Revenues',\n",
    "#  'SalesRevenueNet',\n",
    "#  'OperatingLeasesIncomeStatementLeaseRevenue',\n",
    "\n",
    "\n",
    "#  'RevenueFromCollaborativeArrangementExcludingRevenueFromContractWithCustomer',\n",
    "#  'RevenueNotFromContractWithCustomer',\n",
    "#  'RevenueNotFromContractWithCustomerExcludingInterestIncome',\n",
    "#  'RevenueNotFromContractWithCustomerOther',\n",
    "#  'RevenuesFromExternalCustomers',    \n",
    "# 'CostOfGoodsAndServicesSold',\n",
    "#  'GrossProfit'\n",
    "   \n",
    "   \n",
    "   \n",
    "   ]] \\\n",
    "    .sort_values(by=['period'])"
   ]
  },
  {
   "cell_type": "code",
   "execution_count": null,
   "metadata": {},
   "outputs": [
    {
     "data": {
      "text/html": [
       "<div>\n",
       "<style scoped>\n",
       "    .dataframe tbody tr th:only-of-type {\n",
       "        vertical-align: middle;\n",
       "    }\n",
       "\n",
       "    .dataframe tbody tr th {\n",
       "        vertical-align: top;\n",
       "    }\n",
       "\n",
       "    .dataframe thead th {\n",
       "        text-align: right;\n",
       "    }\n",
       "</style>\n",
       "<table border=\"1\" class=\"dataframe\">\n",
       "  <thead>\n",
       "    <tr style=\"text-align: right;\">\n",
       "      <th></th>\n",
       "      <th>cik</th>\n",
       "      <th>ticker</th>\n",
       "      <th>adsh</th>\n",
       "      <th>form</th>\n",
       "      <th>period</th>\n",
       "      <th>fp</th>\n",
       "      <th>qtrs</th>\n",
       "      <th>AntidilutiveSecuritiesExcludedFromComputationOfEarningsPerShareAmount</th>\n",
       "      <th>NetIncomeLoss</th>\n",
       "      <th>cpy_NetIncomeLoss</th>\n",
       "    </tr>\n",
       "  </thead>\n",
       "  <tbody>\n",
       "    <tr>\n",
       "      <th>19921</th>\n",
       "      <td>82166</td>\n",
       "      <td>RAVN</td>\n",
       "      <td>0000082166-20-000130</td>\n",
       "      <td>10-Q</td>\n",
       "      <td>2020-07-31</td>\n",
       "      <td>Q2</td>\n",
       "      <td>1</td>\n",
       "      <td>321613.0</td>\n",
       "      <td>5819000.0</td>\n",
       "      <td>5819000.0</td>\n",
       "    </tr>\n",
       "  </tbody>\n",
       "</table>\n",
       "</div>"
      ],
      "text/plain": [
       "         cik ticker                  adsh  form      period  fp qtrs  \\\n",
       "19921  82166   RAVN  0000082166-20-000130  10-Q  2020-07-31  Q2    1   \n",
       "\n",
       "       AntidilutiveSecuritiesExcludedFromComputationOfEarningsPerShareAmount  \\\n",
       "19921                                           321613.0                       \n",
       "\n",
       "       NetIncomeLoss  cpy_NetIncomeLoss  \n",
       "19921      5819000.0          5819000.0  "
      ]
     },
     "execution_count": null,
     "metadata": {},
     "output_type": "execute_result"
    }
   ],
   "source": [
    "is_pivot_pd_copy[is_pivot_pd_copy.adsh==\"0000082166-20-000130\"].dropna(how='all', axis=1)"
   ]
  },
  {
   "cell_type": "code",
   "execution_count": null,
   "metadata": {},
   "outputs": [
    {
     "data": {
      "text/plain": [
       "cik                                                                        21363\n",
       "ticker                                                                     21363\n",
       "adsh                                                                       21363\n",
       "form                                                                       21363\n",
       "period                                                                     21363\n",
       "                                                                           ...  \n",
       "WeightedAverageNumberOfSharesRestrictedStock                                   0\n",
       "WeightedAverageNumberOfSharesTreasuryStock                                     0\n",
       "WeightedAverageNumerDilutedLimitedPartnershipUnitsOutstandingAdjustment        0\n",
       "WellServiceExpense                                                             1\n",
       "WriteOffOfDeferredDebtIssuanceCost                                            13\n",
       "Length: 2328, dtype: int64"
      ]
     },
     "execution_count": null,
     "metadata": {},
     "output_type": "execute_result"
    }
   ],
   "source": [
    "#is_pivot_pd_copy[(is_pivot_pd_copy.qtrs == '4') & (is_pivot_pd_copy.fp != 'FY')]\n",
    "#is_pivot_pd_copy[(is_pivot_pd_copy.form == '10-K') & (is_pivot_pd_copy.fp == 'FY') & (is_pivot_pd_copy.qtrs == '4')].count() # 32188\n",
    "#is_pivot_pd_copy[(is_pivot_pd_copy.form == '10-K') & (is_pivot_pd_copy.fp == 'FY')].count() #54080\n",
    "#is_pivot_pd_copy[(is_pivot_pd_copy.form == '10-K') ].count() #54100\n",
    "#is_pivot_pd_copy[(is_pivot_pd_copy.form == '10-K') & (is_pivot_pd_copy.fp != 'FY')].count() #20\n",
    "#is_pivot_pd_copy[(is_pivot_pd_copy.form == '10-K') & (is_pivot_pd_copy.fp == 'FY') & (is_pivot_pd_copy.qtrs == '0')].count() # 96\n",
    "#is_pivot_pd_copy[(is_pivot_pd_copy.form == '10-K') & (is_pivot_pd_copy.fp == 'FY') & (is_pivot_pd_copy.qtrs == '1')].count() # 21363\n",
    "#is_pivot_pd_copy[(is_pivot_pd_copy.form == '10-K') & (is_pivot_pd_copy.fp == 'FY') & (is_pivot_pd_copy.qtrs == '2')].count() # 69\n",
    "#is_pivot_pd_copy[(is_pivot_pd_copy.form == '10-K') & (is_pivot_pd_copy.fp == 'FY') & (is_pivot_pd_copy.qtrs == '3')].count() # 56"
   ]
  },
  {
   "cell_type": "code",
   "execution_count": null,
   "metadata": {},
   "outputs": [
    {
     "data": {
      "text/plain": [
       "128918    7\n",
       "dtype: int64"
      ]
     },
     "execution_count": null,
     "metadata": {},
     "output_type": "execute_result"
    }
   ],
   "source": [
    "is_pivot_pd_copy[is_pivot_pd_copy.adsh == '0001401521-20-000018'].notnull().sum(axis=1)-len(pivot_group)"
   ]
  },
  {
   "cell_type": "code",
   "execution_count": null,
   "metadata": {},
   "outputs": [
    {
     "data": {
      "text/plain": [
       "1556"
      ]
     },
     "execution_count": null,
     "metadata": {},
     "output_type": "execute_result"
    }
   ],
   "source": [
    "#is_pivot_pd_copy[is_pivot_pd_copy.adsh == '0001401521-20-000018'].isnull().sum(axis=1)\n",
    "selection = is_pivot_pd_copy[(is_pivot_pd_copy.qtrs == '0') | (is_pivot_pd_copy.qtrs > '4')].isnull().sum(axis=1)\n",
    "selection = selection == 2320 # shape[1]-8\n",
    "selection.sum()"
   ]
  },
  {
   "cell_type": "code",
   "execution_count": null,
   "metadata": {},
   "outputs": [],
   "source": [
    "cf_empty_pd = cf_empty_count.toPandas()"
   ]
  },
  {
   "cell_type": "code",
   "execution_count": null,
   "metadata": {},
   "outputs": [
    {
     "data": {
      "text/plain": [
       "(1, 3052)"
      ]
     },
     "execution_count": null,
     "metadata": {},
     "output_type": "execute_result"
    }
   ],
   "source": [
    "cf_empty_pd.shape"
   ]
  },
  {
   "cell_type": "code",
   "execution_count": null,
   "metadata": {},
   "outputs": [],
   "source": [
    "cf_melt_pd = cf_empty_pd.melt(var_name = 'Tag', value_name = \"Count\")\n",
    "cf_melt_pd['diff'] = 133811 -cf_melt_pd['Count']"
   ]
  },
  {
   "cell_type": "code",
   "execution_count": null,
   "metadata": {},
   "outputs": [
    {
     "data": {
      "text/html": [
       "<div>\n",
       "<style scoped>\n",
       "    .dataframe tbody tr th:only-of-type {\n",
       "        vertical-align: middle;\n",
       "    }\n",
       "\n",
       "    .dataframe tbody tr th {\n",
       "        vertical-align: top;\n",
       "    }\n",
       "\n",
       "    .dataframe thead th {\n",
       "        text-align: right;\n",
       "    }\n",
       "</style>\n",
       "<table border=\"1\" class=\"dataframe\">\n",
       "  <thead>\n",
       "    <tr style=\"text-align: right;\">\n",
       "      <th></th>\n",
       "      <th>Tag</th>\n",
       "      <th>Count</th>\n",
       "      <th>diff</th>\n",
       "    </tr>\n",
       "  </thead>\n",
       "  <tbody>\n",
       "    <tr>\n",
       "      <th>350</th>\n",
       "      <td>CashAndCashEquivalentsPeriodIncreaseDecrease</td>\n",
       "      <td>30244</td>\n",
       "      <td>103567</td>\n",
       "    </tr>\n",
       "    <tr>\n",
       "      <th>351</th>\n",
       "      <td>CashAndCashEquivalentsPeriodIncreaseDecreaseEx...</td>\n",
       "      <td>132424</td>\n",
       "      <td>1387</td>\n",
       "    </tr>\n",
       "    <tr>\n",
       "      <th>360</th>\n",
       "      <td>CashCashEquivalentsRestrictedCashAndRestricted...</td>\n",
       "      <td>130603</td>\n",
       "      <td>3208</td>\n",
       "    </tr>\n",
       "    <tr>\n",
       "      <th>361</th>\n",
       "      <td>CashCashEquivalentsRestrictedCashAndRestricted...</td>\n",
       "      <td>119033</td>\n",
       "      <td>14778</td>\n",
       "    </tr>\n",
       "    <tr>\n",
       "      <th>382</th>\n",
       "      <td>CashPeriodIncreaseDecrease</td>\n",
       "      <td>132236</td>\n",
       "      <td>1575</td>\n",
       "    </tr>\n",
       "    <tr>\n",
       "      <th>383</th>\n",
       "      <td>CashPeriodIncreaseDecreaseExcludingExchangeRat...</td>\n",
       "      <td>133766</td>\n",
       "      <td>45</td>\n",
       "    </tr>\n",
       "  </tbody>\n",
       "</table>\n",
       "</div>"
      ],
      "text/plain": [
       "                                                   Tag   Count    diff\n",
       "350       CashAndCashEquivalentsPeriodIncreaseDecrease   30244  103567\n",
       "351  CashAndCashEquivalentsPeriodIncreaseDecreaseEx...  132424    1387\n",
       "360  CashCashEquivalentsRestrictedCashAndRestricted...  130603    3208\n",
       "361  CashCashEquivalentsRestrictedCashAndRestricted...  119033   14778\n",
       "382                         CashPeriodIncreaseDecrease  132236    1575\n",
       "383  CashPeriodIncreaseDecreaseExcludingExchangeRat...  133766      45"
      ]
     },
     "execution_count": null,
     "metadata": {},
     "output_type": "execute_result"
    }
   ],
   "source": [
    "canditates =  ['CashAndCashEquivalentsPeriodIncreaseDecrease','cpy_CashAndCashEquivalentsPeriodIncreaseDecrease',\n",
    " 'CashAndCashEquivalentsPeriodIncreaseDecreaseExcludingExchangeRateEffect',\n",
    " 'CashCashEquivalentsRestrictedCashAndRestrictedCashEquivalentsPeriodIncreaseDecreaseExcludingExchangeRateEffect',\n",
    " 'CashCashEquivalentsRestrictedCashAndRestrictedCashEquivalentsPeriodIncreaseDecreaseIncludingExchangeRateEffect',\n",
    " 'CashPeriodIncreaseDecrease',\n",
    " 'CashPeriodIncreaseDecreaseExcludingExchangeRateEffect']\n",
    "\n",
    "cf_melt_pd[cf_melt_pd['Tag'].isin(canditates)]"
   ]
  },
  {
   "cell_type": "code",
   "execution_count": null,
   "metadata": {},
   "outputs": [],
   "source": [
    "sorted = cf_melt_pd.sort_values('Count', ascending=True)[:100]\n",
    "sorted.reset_index(drop = True, inplace = True)\n",
    "sorted.plot.bar(x = 'Tag', y='Count', figsize = (15,10))"
   ]
  },
  {
   "cell_type": "code",
   "execution_count": null,
   "metadata": {},
   "outputs": [],
   "source": []
  },
  {
   "cell_type": "code",
   "execution_count": null,
   "metadata": {},
   "outputs": [],
   "source": [
    "empty_count = get_empty_count(bs_pivot_value)"
   ]
  },
  {
   "cell_type": "code",
   "execution_count": null,
   "metadata": {},
   "outputs": [],
   "source": [
    "empty_pd = empty_count.toPandas()"
   ]
  },
  {
   "cell_type": "code",
   "execution_count": null,
   "metadata": {},
   "outputs": [],
   "source": [
    "melt_pd = empty_pd.melt(var_name = 'Tag', value_name = \"Count\")\n",
    "# df2 = pd.melt(df, id_vars=[\"location\", \"name\"], var_name=\"Date\", value_name=\"Value\")"
   ]
  },
  {
   "cell_type": "code",
   "execution_count": null,
   "metadata": {},
   "outputs": [
    {
     "data": {
      "text/plain": [
       "Index(['Tag', 'Count'], dtype='object')"
      ]
     },
     "execution_count": null,
     "metadata": {},
     "output_type": "execute_result"
    }
   ],
   "source": [
    "melt_pd.columns"
   ]
  },
  {
   "cell_type": "code",
   "execution_count": null,
   "metadata": {},
   "outputs": [],
   "source": [
    "pd_frame = df_all_selected.where(\"adsh == '0001564590-20-043606' and stmt == 'IS' and qtrs=='1'\").toPandas()\n",
    "#pd_frame = df_all_selected.where(\"adsh == '0001628279-20-000210'\").toPandas()\n",
    "#pd_frame = df_all_selected.where(\"adsh == '0001193125-20-213555'\").toPandas()\n",
    "#print(pd_frame.sort_values(['report', 'line']))"
   ]
  },
  {
   "cell_type": "code",
   "execution_count": null,
   "metadata": {},
   "outputs": [
    {
     "data": {
      "text/html": [
       "<div>\n",
       "<style scoped>\n",
       "    .dataframe tbody tr th:only-of-type {\n",
       "        vertical-align: middle;\n",
       "    }\n",
       "\n",
       "    .dataframe tbody tr th {\n",
       "        vertical-align: top;\n",
       "    }\n",
       "\n",
       "    .dataframe thead th {\n",
       "        text-align: right;\n",
       "    }\n",
       "</style>\n",
       "<table border=\"1\" class=\"dataframe\">\n",
       "  <thead>\n",
       "    <tr style=\"text-align: right;\">\n",
       "      <th></th>\n",
       "      <th>fp</th>\n",
       "      <th>cik</th>\n",
       "      <th>tag</th>\n",
       "      <th>value</th>\n",
       "      <th>stmt</th>\n",
       "      <th>report</th>\n",
       "      <th>line</th>\n",
       "      <th>period</th>\n",
       "      <th>qtrs</th>\n",
       "    </tr>\n",
       "  </thead>\n",
       "  <tbody>\n",
       "    <tr>\n",
       "      <th>14</th>\n",
       "      <td>Q1</td>\n",
       "      <td>1048911</td>\n",
       "      <td>RevenueFromContractWithCustomerExcludingAssess...</td>\n",
       "      <td>1.932100e+10</td>\n",
       "      <td>IS</td>\n",
       "      <td>4</td>\n",
       "      <td>1</td>\n",
       "      <td>2020-08-31</td>\n",
       "      <td>1</td>\n",
       "    </tr>\n",
       "    <tr>\n",
       "      <th>8</th>\n",
       "      <td>Q1</td>\n",
       "      <td>1048911</td>\n",
       "      <td>LaborAndRelatedExpense</td>\n",
       "      <td>6.852000e+09</td>\n",
       "      <td>IS</td>\n",
       "      <td>4</td>\n",
       "      <td>3</td>\n",
       "      <td>2020-08-31</td>\n",
       "      <td>1</td>\n",
       "    </tr>\n",
       "    <tr>\n",
       "      <th>11</th>\n",
       "      <td>Q1</td>\n",
       "      <td>1048911</td>\n",
       "      <td>DepreciationDepletionAndAmortization</td>\n",
       "      <td>9.260000e+08</td>\n",
       "      <td>IS</td>\n",
       "      <td>4</td>\n",
       "      <td>6</td>\n",
       "      <td>2020-08-31</td>\n",
       "      <td>1</td>\n",
       "    </tr>\n",
       "    <tr>\n",
       "      <th>9</th>\n",
       "      <td>Q1</td>\n",
       "      <td>1048911</td>\n",
       "      <td>FuelCosts</td>\n",
       "      <td>5.650000e+08</td>\n",
       "      <td>IS</td>\n",
       "      <td>4</td>\n",
       "      <td>7</td>\n",
       "      <td>2020-08-31</td>\n",
       "      <td>1</td>\n",
       "    </tr>\n",
       "    <tr>\n",
       "      <th>15</th>\n",
       "      <td>Q1</td>\n",
       "      <td>1048911</td>\n",
       "      <td>CostOfPropertyRepairsAndMaintenance</td>\n",
       "      <td>8.060000e+08</td>\n",
       "      <td>IS</td>\n",
       "      <td>4</td>\n",
       "      <td>8</td>\n",
       "      <td>2020-08-31</td>\n",
       "      <td>1</td>\n",
       "    </tr>\n",
       "    <tr>\n",
       "      <th>4</th>\n",
       "      <td>Q1</td>\n",
       "      <td>1048911</td>\n",
       "      <td>OtherCostAndExpenseOperating</td>\n",
       "      <td>2.669000e+09</td>\n",
       "      <td>IS</td>\n",
       "      <td>4</td>\n",
       "      <td>9</td>\n",
       "      <td>2020-08-31</td>\n",
       "      <td>1</td>\n",
       "    </tr>\n",
       "    <tr>\n",
       "      <th>1</th>\n",
       "      <td>Q1</td>\n",
       "      <td>1048911</td>\n",
       "      <td>CostsAndExpenses</td>\n",
       "      <td>1.773100e+10</td>\n",
       "      <td>IS</td>\n",
       "      <td>4</td>\n",
       "      <td>10</td>\n",
       "      <td>2020-08-31</td>\n",
       "      <td>1</td>\n",
       "    </tr>\n",
       "    <tr>\n",
       "      <th>17</th>\n",
       "      <td>Q1</td>\n",
       "      <td>1048911</td>\n",
       "      <td>OperatingIncomeLoss</td>\n",
       "      <td>1.590000e+09</td>\n",
       "      <td>IS</td>\n",
       "      <td>4</td>\n",
       "      <td>11</td>\n",
       "      <td>2020-08-31</td>\n",
       "      <td>1</td>\n",
       "    </tr>\n",
       "    <tr>\n",
       "      <th>7</th>\n",
       "      <td>Q1</td>\n",
       "      <td>1048911</td>\n",
       "      <td>InterestIncomeExpenseNonoperatingNet</td>\n",
       "      <td>-1.840000e+08</td>\n",
       "      <td>IS</td>\n",
       "      <td>4</td>\n",
       "      <td>13</td>\n",
       "      <td>2020-08-31</td>\n",
       "      <td>1</td>\n",
       "    </tr>\n",
       "    <tr>\n",
       "      <th>6</th>\n",
       "      <td>Q1</td>\n",
       "      <td>1048911</td>\n",
       "      <td>NetPeriodicDefinedBenefitsExpenseReversalOfExp...</td>\n",
       "      <td>-2.010000e+08</td>\n",
       "      <td>IS</td>\n",
       "      <td>4</td>\n",
       "      <td>14</td>\n",
       "      <td>2020-08-31</td>\n",
       "      <td>1</td>\n",
       "    </tr>\n",
       "    <tr>\n",
       "      <th>13</th>\n",
       "      <td>Q1</td>\n",
       "      <td>1048911</td>\n",
       "      <td>OtherNonoperatingIncomeExpense</td>\n",
       "      <td>-1.000000e+06</td>\n",
       "      <td>IS</td>\n",
       "      <td>4</td>\n",
       "      <td>15</td>\n",
       "      <td>2020-08-31</td>\n",
       "      <td>1</td>\n",
       "    </tr>\n",
       "    <tr>\n",
       "      <th>12</th>\n",
       "      <td>Q1</td>\n",
       "      <td>1048911</td>\n",
       "      <td>NonoperatingIncomeExpense</td>\n",
       "      <td>1.600000e+07</td>\n",
       "      <td>IS</td>\n",
       "      <td>4</td>\n",
       "      <td>16</td>\n",
       "      <td>2020-08-31</td>\n",
       "      <td>1</td>\n",
       "    </tr>\n",
       "    <tr>\n",
       "      <th>5</th>\n",
       "      <td>Q1</td>\n",
       "      <td>1048911</td>\n",
       "      <td>IncomeLossFromContinuingOperationsBeforeIncome...</td>\n",
       "      <td>1.606000e+09</td>\n",
       "      <td>IS</td>\n",
       "      <td>4</td>\n",
       "      <td>17</td>\n",
       "      <td>2020-08-31</td>\n",
       "      <td>1</td>\n",
       "    </tr>\n",
       "    <tr>\n",
       "      <th>3</th>\n",
       "      <td>Q1</td>\n",
       "      <td>1048911</td>\n",
       "      <td>IncomeTaxExpenseBenefit</td>\n",
       "      <td>3.610000e+08</td>\n",
       "      <td>IS</td>\n",
       "      <td>4</td>\n",
       "      <td>18</td>\n",
       "      <td>2020-08-31</td>\n",
       "      <td>1</td>\n",
       "    </tr>\n",
       "    <tr>\n",
       "      <th>10</th>\n",
       "      <td>Q1</td>\n",
       "      <td>1048911</td>\n",
       "      <td>NetIncomeLoss</td>\n",
       "      <td>1.245000e+09</td>\n",
       "      <td>IS</td>\n",
       "      <td>4</td>\n",
       "      <td>19</td>\n",
       "      <td>2020-08-31</td>\n",
       "      <td>1</td>\n",
       "    </tr>\n",
       "    <tr>\n",
       "      <th>2</th>\n",
       "      <td>Q1</td>\n",
       "      <td>1048911</td>\n",
       "      <td>EarningsPerShareBasic</td>\n",
       "      <td>4.750000e+00</td>\n",
       "      <td>IS</td>\n",
       "      <td>4</td>\n",
       "      <td>21</td>\n",
       "      <td>2020-08-31</td>\n",
       "      <td>1</td>\n",
       "    </tr>\n",
       "    <tr>\n",
       "      <th>0</th>\n",
       "      <td>Q1</td>\n",
       "      <td>1048911</td>\n",
       "      <td>EarningsPerShareDiluted</td>\n",
       "      <td>4.720000e+00</td>\n",
       "      <td>IS</td>\n",
       "      <td>4</td>\n",
       "      <td>22</td>\n",
       "      <td>2020-08-31</td>\n",
       "      <td>1</td>\n",
       "    </tr>\n",
       "    <tr>\n",
       "      <th>16</th>\n",
       "      <td>Q1</td>\n",
       "      <td>1048911</td>\n",
       "      <td>CommonStockDividendsPerShareDeclared</td>\n",
       "      <td>1.300000e+00</td>\n",
       "      <td>IS</td>\n",
       "      <td>4</td>\n",
       "      <td>23</td>\n",
       "      <td>2020-08-31</td>\n",
       "      <td>1</td>\n",
       "    </tr>\n",
       "  </tbody>\n",
       "</table>\n",
       "</div>"
      ],
      "text/plain": [
       "    fp      cik                                                tag  \\\n",
       "14  Q1  1048911  RevenueFromContractWithCustomerExcludingAssess...   \n",
       "8   Q1  1048911                             LaborAndRelatedExpense   \n",
       "11  Q1  1048911               DepreciationDepletionAndAmortization   \n",
       "9   Q1  1048911                                          FuelCosts   \n",
       "15  Q1  1048911                CostOfPropertyRepairsAndMaintenance   \n",
       "4   Q1  1048911                       OtherCostAndExpenseOperating   \n",
       "1   Q1  1048911                                   CostsAndExpenses   \n",
       "17  Q1  1048911                                OperatingIncomeLoss   \n",
       "7   Q1  1048911               InterestIncomeExpenseNonoperatingNet   \n",
       "6   Q1  1048911  NetPeriodicDefinedBenefitsExpenseReversalOfExp...   \n",
       "13  Q1  1048911                     OtherNonoperatingIncomeExpense   \n",
       "12  Q1  1048911                          NonoperatingIncomeExpense   \n",
       "5   Q1  1048911  IncomeLossFromContinuingOperationsBeforeIncome...   \n",
       "3   Q1  1048911                            IncomeTaxExpenseBenefit   \n",
       "10  Q1  1048911                                      NetIncomeLoss   \n",
       "2   Q1  1048911                              EarningsPerShareBasic   \n",
       "0   Q1  1048911                            EarningsPerShareDiluted   \n",
       "16  Q1  1048911               CommonStockDividendsPerShareDeclared   \n",
       "\n",
       "           value stmt  report  line      period qtrs  \n",
       "14  1.932100e+10   IS       4     1  2020-08-31    1  \n",
       "8   6.852000e+09   IS       4     3  2020-08-31    1  \n",
       "11  9.260000e+08   IS       4     6  2020-08-31    1  \n",
       "9   5.650000e+08   IS       4     7  2020-08-31    1  \n",
       "15  8.060000e+08   IS       4     8  2020-08-31    1  \n",
       "4   2.669000e+09   IS       4     9  2020-08-31    1  \n",
       "1   1.773100e+10   IS       4    10  2020-08-31    1  \n",
       "17  1.590000e+09   IS       4    11  2020-08-31    1  \n",
       "7  -1.840000e+08   IS       4    13  2020-08-31    1  \n",
       "6  -2.010000e+08   IS       4    14  2020-08-31    1  \n",
       "13 -1.000000e+06   IS       4    15  2020-08-31    1  \n",
       "12  1.600000e+07   IS       4    16  2020-08-31    1  \n",
       "5   1.606000e+09   IS       4    17  2020-08-31    1  \n",
       "3   3.610000e+08   IS       4    18  2020-08-31    1  \n",
       "10  1.245000e+09   IS       4    19  2020-08-31    1  \n",
       "2   4.750000e+00   IS       4    21  2020-08-31    1  \n",
       "0   4.720000e+00   IS       4    22  2020-08-31    1  \n",
       "16  1.300000e+00   IS       4    23  2020-08-31    1  "
      ]
     },
     "execution_count": null,
     "metadata": {},
     "output_type": "execute_result"
    }
   ],
   "source": [
    "pd.set_option('display.max_rows', pd_frame.shape[0]+1)\n",
    "pd_frame[['fp','cik', 'tag', 'value', 'stmt', 'report', 'line','period', 'qtrs']].sort_values(['report','qtrs', 'line'])"
   ]
  },
  {
   "cell_type": "code",
   "execution_count": null,
   "metadata": {},
   "outputs": [],
   "source": [
    "gaap_CashCashEquivalentsRestrictedCashAndRestrictedCashEquivalentsPeriodIncreaseDecreaseIncludingExchangeRateEffect\n",
    "\n",
    "gaap_CashCashEquivalentsRestrictedCashAndRestrictedCashEquivalentsIncludingDisposalGroupAndDiscontinuedOperations\n",
    "gaap_CashCashEquivalentsRestrictedCashAndRestrictedCashEquivalentsIncludingDisposalGroupAndDiscontinuedOperations\n",
    "\n",
    "gaap_CashCashEquivalentsRestrictedCashAndRestrictedCashEquivalentsPeriodIncreaseDecreaseIncludingExchangeRateEffect\n",
    "\n",
    "gaap_CashCashEquivalentsRestrictedCashAndRestrictedCashEquivalents\n",
    "gaap_CashCashEquivalentsRestrictedCashAndRestrictedCashEquivalents"
   ]
  },
  {
   "cell_type": "code",
   "execution_count": null,
   "metadata": {},
   "outputs": [],
   "source": [
    "bs_pivot_report.where(\"adsh == '0001492298-20-000025'\").show()"
   ]
  },
  {
   "cell_type": "code",
   "execution_count": null,
   "metadata": {},
   "outputs": [
    {
     "data": {
      "text/plain": [
       "585411"
      ]
     },
     "execution_count": null,
     "metadata": {},
     "output_type": "execute_result"
    }
   ],
   "source": [
    "df_all_selected.select('adsh','stmt').distinct().count()"
   ]
  },
  {
   "cell_type": "code",
   "execution_count": null,
   "metadata": {},
   "outputs": [
    {
     "data": {
      "text/plain": [
       "133872"
      ]
     },
     "execution_count": null,
     "metadata": {},
     "output_type": "execute_result"
    }
   ],
   "source": [
    "df_all_selected.select('adsh','stmt').distinct().where('stmt = \"BS\"').count()"
   ]
  },
  {
   "cell_type": "code",
   "execution_count": null,
   "metadata": {},
   "outputs": [
    {
     "data": {
      "text/plain": [
       "86120"
      ]
     },
     "execution_count": null,
     "metadata": {},
     "output_type": "execute_result"
    }
   ],
   "source": [
    "df_all_selected.select('adsh','stmt').distinct().where('stmt = \"EQ\"').count()"
   ]
  },
  {
   "cell_type": "code",
   "execution_count": null,
   "metadata": {},
   "outputs": [],
   "source": [
    "cf_pivot_pd_copy.columns.tolist()\n",
    "CostOfGoodsSold\n",
    "CostOfRevenue\n",
    "CostOfServices"
   ]
  },
  {
   "cell_type": "code",
   "execution_count": null,
   "metadata": {},
   "outputs": [
    {
     "data": {
      "text/plain": [
       "['CompensationExpenseExcludingCostOfGoodAndServiceSold',\n",
       " 'CostOfChemicals',\n",
       " 'CostOfCoalProductsAndServices',\n",
       " 'CostOfDomesticRegulatedElectric',\n",
       " 'CostOfDomesticRegulatedGasRevenue',\n",
       " 'CostOfGoldProductsAndServices',\n",
       " 'CostOfGoodsAndServiceExcludingDepreciationDepletionAndAmortization',\n",
       " 'CostOfGoodsAndServicesEnergyCommoditiesAndServices',\n",
       " 'CostOfGoodsAndServicesSold',\n",
       " 'CostOfGoodsAndServicesSoldAmortization',\n",
       " 'CostOfGoodsAndServicesSoldDepreciation',\n",
       " 'CostOfGoodsAndServicesSoldDepreciationAndAmortization',\n",
       " 'CostOfGoodsAndServicesSoldOverhead',\n",
       " 'CostOfGoodsSold',\n",
       " 'CostOfGoodsSoldAmortization',\n",
       " 'CostOfGoodsSoldDepreciation',\n",
       " 'CostOfGoodsSoldDepreciationAndAmortization',\n",
       " 'CostOfGoodsSoldDepreciationDepletionAndAmortization',\n",
       " 'CostOfGoodsSoldDirectLabor',\n",
       " 'CostOfGoodsSoldDirectMaterials',\n",
       " 'CostOfGoodsSoldElectric',\n",
       " 'CostOfGoodsSoldExcludingDepreciationDepletionAndAmortization',\n",
       " 'CostOfGoodsSoldOilAndGas',\n",
       " 'CostOfGoodsSoldOverhead',\n",
       " 'CostOfGoodsSoldSalesTypeLease',\n",
       " 'CostOfGoodsSoldSubscription',\n",
       " 'CostOfMerchandiseSalesBuyingAndOccupancyCosts',\n",
       " 'CostOfNaturalGasPurchases',\n",
       " 'CostOfOtherAlternativeEnergy',\n",
       " 'CostOfOtherManufacturedProducts',\n",
       " 'CostOfOtherPropertyOperatingExpense',\n",
       " 'CostOfPropertyRepairsAndMaintenance',\n",
       " 'CostOfPurchasedOilAndGas',\n",
       " 'CostOfPurchasedPower',\n",
       " 'CostOfPurchasedWater',\n",
       " 'CostOfRealEstateRevenue',\n",
       " 'CostOfRealEstateSales',\n",
       " 'CostOfRealEstateSalesExcludingInterest',\n",
       " 'CostOfRealEstateSalesInterest',\n",
       " 'CostOfReimbursableExpense',\n",
       " 'CostOfRevenue',\n",
       " 'CostOfSecondaryProcessing',\n",
       " 'CostOfServices',\n",
       " 'CostOfServicesAmortization',\n",
       " 'CostOfServicesCatering',\n",
       " 'CostOfServicesDepreciation',\n",
       " 'CostOfServicesDepreciationAndAmortization',\n",
       " 'CostOfServicesDirectLabor',\n",
       " 'CostOfServicesDirectMaterials',\n",
       " 'CostOfServicesDirectTaxesAndLicensesCosts',\n",
       " 'CostOfServicesEnergyServices',\n",
       " 'CostOfServicesEnvironmentalRemediation',\n",
       " 'CostOfServicesExcludingDepreciationDepletionAndAmortization',\n",
       " 'CostOfServicesLicensesAndMaintenanceAgreements',\n",
       " 'CostOfServicesLicensesAndServices',\n",
       " 'CostOfServicesMaintenanceCosts',\n",
       " 'CostOfServicesOilAndGas',\n",
       " 'CostOfServicesOverhead',\n",
       " 'CostOfTransmission',\n",
       " 'CostOfTransmissionOther',\n",
       " 'CostOfUtilities',\n",
       " 'CostOfWorldwideUnregulatedElectric',\n",
       " 'DefinedBenefitPlanCostOfProvidingSpecialOrContractualTerminationBenefitRecognizedDuringPeriod',\n",
       " 'DerivativeCostOfHedge',\n",
       " 'FoodAndBeverageCostOfSales',\n",
       " 'OtherCostOfOperatingRevenue',\n",
       " 'OtherCostOfServices',\n",
       " 'PublicUtilitiesAllowanceForFundsUsedDuringConstructionCapitalizedCostOfEquity',\n",
       " 'RealEstateCostOfRealEstateSold',\n",
       " 'RealEstateInvestmentPartnershipCostOfSales',\n",
       " 'RelatedPartiesAmountInCostOfSales',\n",
       " 'RetailLandSalesInstallmentMethodTotalCostOfSale']"
      ]
     },
     "execution_count": null,
     "metadata": {},
     "output_type": "execute_result"
    }
   ],
   "source": [
    "[x for x in is_pivot_pd_copy.columns.values if ('CostOf' in x)]\n",
    "#[x for x in is_pivot_pd_copy.columns.values if ('Revenue' in x) and ('Customer' in x)]"
   ]
  },
  {
   "cell_type": "code",
   "execution_count": null,
   "metadata": {},
   "outputs": [
    {
     "data": {
      "text/plain": [
       "['StockholdersEquity',\n",
       " 'StockholdersEquityAttributableToParentNotAllowableForNetCapital',\n",
       " 'StockholdersEquityBeforeTreasuryStock',\n",
       " 'StockholdersEquityIncludingPortionAttributableToNoncontrollingInterest',\n",
       " 'StockholdersEquityIncludingPortionAttributableToNoncontrollingInterestAdjustedBalance1',\n",
       " 'StockholdersEquityNoteStockSplitConversionRatio',\n",
       " 'StockholdersEquityNoteStockSplitConversionRatio1',\n",
       " 'StockholdersEquityNoteSubscriptionsReceivable']"
      ]
     },
     "execution_count": null,
     "metadata": {},
     "output_type": "execute_result"
    }
   ],
   "source": [
    "[x for x in bs_pivot_liabilities_copy.columns.values if x.startswith('StockholdersEquity')]"
   ]
  },
  {
   "cell_type": "code",
   "execution_count": null,
   "metadata": {},
   "outputs": [],
   "source": [
    "spark.stop()"
   ]
  },
  {
   "cell_type": "code",
   "execution_count": null,
   "metadata": {},
   "outputs": [],
   "source": []
  }
 ],
 "metadata": {
  "kernelspec": {
   "display_name": "Python 3",
   "language": "python",
   "name": "python3"
  }
 },
 "nbformat": 4,
 "nbformat_minor": 4
}
