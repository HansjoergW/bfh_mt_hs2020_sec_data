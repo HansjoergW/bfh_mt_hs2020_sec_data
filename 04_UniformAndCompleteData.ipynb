{
 "cells": [
  {
   "cell_type": "code",
   "execution_count": null,
   "metadata": {},
   "outputs": [],
   "source": [
    "# default_exp uniform"
   ]
  },
  {
   "cell_type": "code",
   "execution_count": null,
   "metadata": {},
   "outputs": [],
   "source": [
    "#hide\n",
    "from nbdev.showdoc import *"
   ]
  },
  {
   "cell_type": "code",
   "execution_count": null,
   "metadata": {},
   "outputs": [],
   "source": [
    "#hide\n",
    "# stellt sicher, dass beim verändern der core library diese wieder neu geladen wird\n",
    "%load_ext autoreload\n",
    "%autoreload 2"
   ]
  },
  {
   "cell_type": "markdown",
   "metadata": {},
   "source": [
    "# uniform and complete"
   ]
  },
  {
   "cell_type": "markdown",
   "metadata": {},
   "source": [
    "Once the data is pivoted, we want to create a dataset that contains only columns which appear in every report.\n",
    "\n",
    "For instance, we want to have all the columns 'Assets', 'AssetsCurrent', 'AssetsNoncurrent' to be present in every balancesheet. However, not all desired tags are present and we have to find ways to calculate and complete them. Often, only 2 of 'Assets', 'AssetsCurrent', 'AssetsNoncurrent' are present, however, since Assets = AssetsCurrent + AssetsNoncurrent we can calculate the third.\n",
    "\n",
    "Sometimes different tags are used to express the same meaning, so we have to figure out which tags belong together."
   ]
  },
  {
   "cell_type": "markdown",
   "metadata": {},
   "source": [
    "## Basic Settings"
   ]
  },
  {
   "cell_type": "code",
   "execution_count": null,
   "metadata": {},
   "outputs": [],
   "source": [
    "# imports\n",
    "from bfh_mt_hs2020_sec_data.core import get_spark_session # initialze spark\n",
    "from pathlib import Path\n",
    "from typing import List, Tuple, Union, Set\n",
    "from pyspark.sql.dataframe import DataFrame\n",
    "from pyspark.sql.functions import col\n",
    "\n",
    "import pandas as pd\n",
    "\n",
    "import shutil          # provides high level file operations\n",
    "import time            # used to measure execution time\n",
    "import os\n",
    "import sys"
   ]
  },
  {
   "cell_type": "code",
   "execution_count": null,
   "metadata": {},
   "outputs": [],
   "source": [
    "all_pivot_selected_folder  = \"D:/data/parq_pivot_select\"\n",
    "all_pivoted_folder = \"D:/data/parq_pivot_split\"\n",
    "all_processed_folder = \"D:/data/parq_processed/\"\n",
    "\n",
    "col_list =    [\"stmt\",\"cik\",\"ticker\", \"adsh\",\"period\",\"form\",\"tag\",\"value\",\"report\", \"line\", \"fp\", \"uom\"]\n",
    "pivot_attrs = ['value', 'report', 'line']\n",
    "statements =  ['IS','CF','CP','BS','CI','EQ','UN']"
   ]
  },
  {
   "cell_type": "code",
   "execution_count": null,
   "metadata": {},
   "outputs": [
    {
     "data": {
      "text/html": [
       "\n",
       "            <div>\n",
       "                <p><b>SparkSession - in-memory</b></p>\n",
       "                \n",
       "        <div>\n",
       "            <p><b>SparkContext</b></p>\n",
       "\n",
       "            <p><a href=\"http://192.168.0.163:4040\">Spark UI</a></p>\n",
       "\n",
       "            <dl>\n",
       "              <dt>Version</dt>\n",
       "                <dd><code>v2.4.5</code></dd>\n",
       "              <dt>Master</dt>\n",
       "                <dd><code>local[*]</code></dd>\n",
       "              <dt>AppName</dt>\n",
       "                <dd><code>default</code></dd>\n",
       "            </dl>\n",
       "        </div>\n",
       "        \n",
       "            </div>\n",
       "        "
      ],
      "text/plain": [
       "<pyspark.sql.session.SparkSession at 0x20899a96dc8>"
      ]
     },
     "execution_count": null,
     "metadata": {},
     "output_type": "execute_result"
    }
   ],
   "source": [
    "# init Spark\n",
    "spark = get_spark_session() # Session anlegen\n",
    "spark # display the moste important information of the session"
   ]
  },
  {
   "cell_type": "markdown",
   "metadata": {},
   "source": [
    "## 00_Tools"
   ]
  },
  {
   "cell_type": "markdown",
   "metadata": {},
   "source": [
    "These are different helper methods which make transformation of the data easier"
   ]
  },
  {
   "cell_type": "code",
   "execution_count": null,
   "metadata": {},
   "outputs": [],
   "source": [
    "def load_data(stmt:str, attr:str):\n",
    "    \"\"\" Loads the pivoted data into a spark dataframe.\n",
    "    \"\"\"\n",
    "    return spark.read.parquet(all_pivoted_folder + \"/\" + stmt + \"/\" + attr).cache()"
   ]
  },
  {
   "cell_type": "code",
   "execution_count": null,
   "metadata": {},
   "outputs": [],
   "source": [
    "def spark_shape(self):\n",
    "    return (self.count(), len(self.columns))"
   ]
  },
  {
   "cell_type": "code",
   "execution_count": null,
   "metadata": {},
   "outputs": [],
   "source": [
    "### Get count of both null and missing values in pyspark\n",
    "from pyspark.sql.functions import isnan, when, count, col\n",
    "def get_empty_count(df):\n",
    "    return df.select([count(when(col(c).isNull(), c)).alias(c) for c in df.columns])"
   ]
  },
  {
   "cell_type": "code",
   "execution_count": null,
   "metadata": {},
   "outputs": [],
   "source": [
    "def complete_addition(df, sumcol, addcol1, addcol2):\n",
    "    \"\"\" \n",
    "    If there are columns that share the relation sumcol = addcol1 + addcol2\n",
    "    this function ensures that a missing value is calculated based on the other two   \n",
    "    \"\"\"\n",
    "    missingtwo = (df[sumcol].notnull()) & (df[addcol1].notnull()) & (df[addcol2].isnull())\n",
    "    df.loc[missingtwo, addcol2] = df.loc[missingtwo, sumcol] - df.loc[missingtwo, addcol1]\n",
    "\n",
    "    missingone = (df[sumcol].notnull()) & (df[addcol2].notnull()) & (df[addcol1].isnull())\n",
    "    df.loc[missingone, addcol1] = df.loc[missingone, sumcol] - df.loc[missingone, addcol2]  \n",
    "    \n",
    "    missingsum = (df[sumcol].isnull()) & (df[addcol2].notnull()) & (df[addcol1].notnull())\n",
    "    df.loc[missingsum, sumcol] = df.loc[missingsum, addcol1] + df.loc[missingsum, addcol2]  "
   ]
  },
  {
   "cell_type": "code",
   "execution_count": null,
   "metadata": {},
   "outputs": [],
   "source": [
    "def copy_if_not_empty(df, sourcecol, targetcol, to_zero_col = None):\n",
    "    \"\"\" \n",
    "    copies the value from the sourceol to the targetcol if the sourcecol is not empty and the targetcol is empty.\n",
    "    As a third parameter, a column can be provided that has to be set to 0.0 in the rows where the values are copied    \n",
    "    \"\"\"\n",
    "    do_copy = (df[sourcecol].notnull()) & (df[targetcol].isnull())\n",
    "    df.loc[do_copy, targetcol] = df.loc[do_copy, sourcecol]\n",
    "    if to_zero_col != None:\n",
    "        df.loc[do_copy, to_zero_col] = 0.0"
   ]
  },
  {
   "cell_type": "code",
   "execution_count": null,
   "metadata": {},
   "outputs": [],
   "source": [
    "def sum_into_empty_target(df, add1col, add2col, targetcol):\n",
    "    \"\"\"\n",
    "    adds the value of two not empty columns and stores the result in the empty targetcol\n",
    "    \"\"\"\n",
    "    do_sum = (df[add1col].notnull()) & (df[add2col].notnull()) & (df[targetcol].isnull())\n",
    "    df.loc[do_sum, targetcol] = df.loc[do_sum, add1col] + df.loc[do_sum, add2col]"
   ]
  },
  {
   "cell_type": "code",
   "execution_count": null,
   "metadata": {},
   "outputs": [],
   "source": [
    "def sum_cols_into_new_target(df, targetcol, sumcolslist):\n",
    "    \"\"\" sums up the value  of several columns and stores the result in the targetcol.\n",
    "        the columns that contain values to sum up may not be empty.\n",
    "    \"\"\"\n",
    "    df[targetcol] = 0.0\n",
    "    for col in sumcolslist:\n",
    "        set_to_zero_if_null(df, col)\n",
    "        df[targetcol] += df[col]"
   ]
  },
  {
   "cell_type": "code",
   "execution_count": null,
   "metadata": {},
   "outputs": [],
   "source": [
    "def copy_if_not_empty_for_ticker(df, ticker, sourcecol, targetcol, to_zero_col = None):\n",
    "    \"\"\" copy the not empty sourcecol to the empty targetcol of a certain ticker.\n",
    "        if provided, set the to_zero_col for the affected rows to zero.\n",
    "    \"\"\"\n",
    "    do_copy = (df['ticker'] == ticker) & (sel_df[sourcecol].notnull()) & (sel_df[targetcol].isnull())\n",
    "\n",
    "    df.loc[do_copy, targetcol] = df.loc[do_copy, sourcecol]\n",
    "    if to_zero_col != None:\n",
    "        df.loc[do_copy, to_zero_col] = 0.0"
   ]
  },
  {
   "cell_type": "code",
   "execution_count": null,
   "metadata": {},
   "outputs": [],
   "source": [
    "def set_to_zero_if_null(df, col):\n",
    "    \"\"\" set null values of a column to 0.0\n",
    "    \"\"\"\n",
    "    do_set = (df[col].isnull())\n",
    "    df.loc[do_set, col] = 0.0"
   ]
  },
  {
   "cell_type": "code",
   "execution_count": null,
   "metadata": {},
   "outputs": [],
   "source": [
    "def print_null_count(df, cols):\n",
    "    \"\"\" print out howmany null values the provided cols contain \n",
    "    \"\"\"\n",
    "    for col in cols:\n",
    "        print(col, ' ', df[col].isnull().sum())"
   ]
  },
  {
   "cell_type": "markdown",
   "metadata": {},
   "source": [
    "## 00_Raw_data"
   ]
  },
  {
   "cell_type": "code",
   "execution_count": null,
   "metadata": {},
   "outputs": [],
   "source": [
    "df_all_selected = spark.read.parquet(all_pivot_selected_folder).cache()"
   ]
  },
  {
   "cell_type": "code",
   "execution_count": null,
   "metadata": {},
   "outputs": [],
   "source": [
    "# it happens sometimes, that the data can not be associated with a right sheet (bs, is, cf, ..). in this cases, the data can appea under \"UN\"\n",
    "# so if expected information cannot be found in the appropriate statement, we have to look in the un statement\n",
    "un_pivot_value = load_data(\"UN\", \"value\")\n",
    "un_pivot_pd = un_pivot_value.toPandas()"
   ]
  },
  {
   "cell_type": "code",
   "execution_count": null,
   "metadata": {},
   "outputs": [
    {
     "data": {
      "text/plain": [
       "(4074, 1958)"
      ]
     },
     "execution_count": null,
     "metadata": {},
     "output_type": "execute_result"
    }
   ],
   "source": [
    "un_pivot_pd.shape"
   ]
  },
  {
   "cell_type": "markdown",
   "metadata": {},
   "source": [
    "## 01_Balance_Sheet"
   ]
  },
  {
   "cell_type": "code",
   "execution_count": null,
   "metadata": {},
   "outputs": [
    {
     "data": {
      "text/plain": [
       "(133872, 2342)"
      ]
     },
     "execution_count": null,
     "metadata": {},
     "output_type": "execute_result"
    }
   ],
   "source": [
    "bs_pivot_value = load_data(\"BS\", \"value\")\n",
    "spark_shape(bs_pivot_value)"
   ]
  },
  {
   "cell_type": "code",
   "execution_count": null,
   "metadata": {},
   "outputs": [],
   "source": [
    "bs_pivot_pd = bs_pivot_value.toPandas()"
   ]
  },
  {
   "cell_type": "code",
   "execution_count": null,
   "metadata": {},
   "outputs": [],
   "source": [
    "bs_pivot_pd_copy = bs_pivot_pd.copy()"
   ]
  },
  {
   "cell_type": "markdown",
   "metadata": {},
   "source": [
    "### Assets"
   ]
  },
  {
   "cell_type": "code",
   "execution_count": null,
   "metadata": {},
   "outputs": [
    {
     "name": "stdout",
     "output_type": "stream",
     "text": [
      "Assets   579\n",
      "AssetsNoncurrent   127026\n",
      "AssetsCurrent   30421\n"
     ]
    }
   ],
   "source": [
    "print_null_count(bs_pivot_pd_copy, ['Assets','AssetsNoncurrent','AssetsCurrent'])"
   ]
  },
  {
   "cell_type": "code",
   "execution_count": null,
   "metadata": {},
   "outputs": [],
   "source": [
    "# Somtimes AssetsNet is present instead of Assets, copy its content to Assets\n",
    "copy_if_not_empty(bs_pivot_pd_copy, 'AssetsNet', 'Assets')\n",
    "\n",
    "# if one of the three provided columns is missing, calculate its content based on Assets = AssetsCurrent + AssetsNoncurrent\n",
    "complete_addition(bs_pivot_pd_copy, 'Assets', 'AssetsCurrent', 'AssetsNoncurrent')\n",
    "\n",
    "# if Assets contains data but AssetsCurrent and AssetsNoncurrent are empty, assume that only AssetsCurrent is present\n",
    "# copy value from Assets to AssetsCurrent and set AssetsNoncurrent to 0.0\n",
    "copy_if_not_empty(bs_pivot_pd_copy, 'Assets', 'AssetsCurrent', 'AssetsNoncurrent')\n",
    "\n",
    "# if AssetsCurrent contains data and Assets  and AssetsNoncurrent are empty, assume that only AssetsCurrent is present\n",
    "# copy value from AssetsCurrent to Assets and set AssetsNoncurrent to 0.0\n",
    "copy_if_not_empty(bs_pivot_pd_copy, 'AssetsCurrent', 'Assets', 'AssetsNoncurrent')"
   ]
  },
  {
   "cell_type": "code",
   "execution_count": null,
   "metadata": {},
   "outputs": [
    {
     "name": "stdout",
     "output_type": "stream",
     "text": [
      "Assets   419\n",
      "AssetsNoncurrent   419\n",
      "AssetsCurrent   419\n"
     ]
    }
   ],
   "source": [
    "# check for how many entries Assets, AssetsNoncurrent and AsstesCurrent couldn't be completed\n",
    "print_null_count(bs_pivot_pd_copy, ['Assets','AssetsNoncurrent','AssetsCurrent'])"
   ]
  },
  {
   "cell_type": "markdown",
   "metadata": {},
   "source": [
    "### Liabilities"
   ]
  },
  {
   "cell_type": "code",
   "execution_count": null,
   "metadata": {},
   "outputs": [
    {
     "name": "stdout",
     "output_type": "stream",
     "text": [
      "Liabilities   34118\n",
      "LiabilitiesNoncurrent   117766\n",
      "LiabilitiesCurrent   30837\n"
     ]
    }
   ],
   "source": [
    "print_null_count(bs_pivot_pd_copy, ['Liabilities','LiabilitiesNoncurrent','LiabilitiesCurrent'])"
   ]
  },
  {
   "cell_type": "code",
   "execution_count": null,
   "metadata": {},
   "outputs": [],
   "source": [
    "# Completing the Liabilities columns follows the same logic as for the Assets columns\n",
    "\n",
    "complete_addition(bs_pivot_pd_copy, 'Liabilities', 'LiabilitiesCurrent', 'LiabilitiesNoncurrent')\n",
    "\n",
    "copy_if_not_empty(bs_pivot_pd_copy, 'Liabilities', 'LiabilitiesCurrent', 'LiabilitiesNoncurrent')\n",
    "copy_if_not_empty(bs_pivot_pd_copy, 'LiabilitiesCurrent', 'Liabilities', 'LiabilitiesNoncurrent')"
   ]
  },
  {
   "cell_type": "code",
   "execution_count": null,
   "metadata": {},
   "outputs": [
    {
     "name": "stdout",
     "output_type": "stream",
     "text": [
      "Liabilities   783\n",
      "LiabilitiesNoncurrent   781\n",
      "LiabilitiesCurrent   783\n"
     ]
    }
   ],
   "source": [
    "# check for how many entries we were not able to complete the Liabilities information\n",
    "print_null_count(bs_pivot_pd_copy, ['Liabilities','LiabilitiesNoncurrent','LiabilitiesCurrent'])"
   ]
  },
  {
   "cell_type": "markdown",
   "metadata": {},
   "source": [
    "### Equity\n",
    "In the Equity section of the balance sheet, we are intereste in the StockholdersEquity and the Earnings (Tag. RetainedEarningsAccumulatedDeficit)"
   ]
  },
  {
   "cell_type": "code",
   "execution_count": null,
   "metadata": {},
   "outputs": [
    {
     "name": "stdout",
     "output_type": "stream",
     "text": [
      "StockholdersEquity   12883\n",
      "RetainedEarningsAccumulatedDeficit   10583\n",
      "LiabilitiesAndStockholdersEquity   710\n"
     ]
    }
   ],
   "source": [
    "print_null_count(bs_pivot_pd_copy, ['StockholdersEquity','RetainedEarningsAccumulatedDeficit'])"
   ]
  },
  {
   "cell_type": "code",
   "execution_count": null,
   "metadata": {},
   "outputs": [],
   "source": [
    "# per  definition, LiabilitisAndStockholdersEquity has to match Assets in a balance sheet\n",
    "# so if LiabilitiesAndStockholdersEquity is not set, we copy the value from the Assets column\n",
    "copy_if_not_empty(bs_pivot_pd_copy, 'Assets', 'LiabilitiesAndStockholdersEquity') # has to be the same\n",
    "\n",
    "# if there is partner capital but no StockholdersEquite, we consider it the same as stockholder equity\n",
    "copy_if_not_empty(bs_pivot_pd_copy, 'PartnersCapital', 'StockholdersEquity') \n",
    "\n",
    "# if there is StockholdersEquityIncludingPortionAttributableToNoncontrollingInterest instead of StockholdersEquity, we use this as StocholdersEquity\n",
    "copy_if_not_empty(bs_pivot_pd_copy, 'StockholdersEquityIncludingPortionAttributableToNoncontrollingInterest', 'StockholdersEquity') \n",
    "\n",
    "# if RetainedEarnings has no value, we set it to zero\n",
    "set_to_zero_if_null(bs_pivot_pd_copy, 'RetainedEarningsAccumulatedDeficit')"
   ]
  },
  {
   "cell_type": "code",
   "execution_count": null,
   "metadata": {},
   "outputs": [
    {
     "name": "stdout",
     "output_type": "stream",
     "text": [
      "StockholdersEquity   1277\n",
      "RetainedEarningsAccumulatedDeficit   0\n",
      "LiabilitiesAndStockholdersEquity   409\n"
     ]
    }
   ],
   "source": [
    "print_null_count(bs_pivot_pd_copy, ['StockholdersEquity','RetainedEarningsAccumulatedDeficit'])"
   ]
  },
  {
   "cell_type": "markdown",
   "metadata": {},
   "source": [
    "### Clean empty companies"
   ]
  },
  {
   "cell_type": "code",
   "execution_count": null,
   "metadata": {},
   "outputs": [],
   "source": [
    "bs_cols_selected = bs_pivot_pd_copy[[\"cik\",\"ticker\", \"adsh\",\"period\",\"form\", \n",
    "                                     'Assets','AssetsNoncurrent', 'AssetsCurrent', \n",
    "                                     'Liabilities','LiabilitiesNoncurrent','LiabilitiesCurrent', \n",
    "                                     'StockholdersEquity','RetainedEarningsAccumulatedDeficit']]"
   ]
  },
  {
   "cell_type": "code",
   "execution_count": null,
   "metadata": {},
   "outputs": [],
   "source": [
    "incomplete_ciks = bs_cols_selected[bs_cols_selected.isnull().sum(axis=1) > 0].cik.unique()"
   ]
  },
  {
   "cell_type": "code",
   "execution_count": null,
   "metadata": {},
   "outputs": [],
   "source": [
    "bs_cols_cleaned = bs_cols_selected[~bs_pivot_pd_copy.cik.isin(incomplete_ciks)]"
   ]
  },
  {
   "cell_type": "code",
   "execution_count": null,
   "metadata": {},
   "outputs": [
    {
     "data": {
      "text/plain": [
       "(124520, 13)"
      ]
     },
     "execution_count": null,
     "metadata": {},
     "output_type": "execute_result"
    }
   ],
   "source": [
    "bs_cols_cleaned.shape"
   ]
  },
  {
   "cell_type": "code",
   "execution_count": null,
   "metadata": {},
   "outputs": [
    {
     "data": {
      "text/plain": [
       "0"
      ]
     },
     "execution_count": null,
     "metadata": {},
     "output_type": "execute_result"
    }
   ],
   "source": [
    "bs_cols_cleaned.isnull().sum(axis=1).sum()"
   ]
  },
  {
   "cell_type": "markdown",
   "metadata": {},
   "source": [
    "### Save"
   ]
  },
  {
   "cell_type": "code",
   "execution_count": null,
   "metadata": {},
   "outputs": [],
   "source": [
    "bs_cols_cleaned.to_csv(all_processed_folder + \"bs.csv\", index=False)"
   ]
  },
  {
   "cell_type": "markdown",
   "metadata": {},
   "source": [
    "## CashFlow"
   ]
  },
  {
   "cell_type": "markdown",
   "metadata": {},
   "source": [
    "Operation\n",
    "- NetIncomeLoss\n",
    "- ProfitLoss\n",
    "- NetCashProvidedByUsedInOperatingActivities: NetIncome + other positions ergibt diese Position\n",
    "\n",
    "Investing\n",
    "- NetCashProvidedByUsedInInvestingActivities\n",
    "\n",
    "Financing activities\n",
    "- PaymentsForRepurchaseOfCommonStock: Aktienrückkäufe\n",
    "- PaymentsOfDividends\n",
    "- NetCashProvidedByUsedInFinancingActivities\n",
    "\n",
    "Cash Bestand unterschied\n",
    "- CashAndCashEquivalentsPeriodIncreaseDecrease: increase/decrease in cash"
   ]
  },
  {
   "cell_type": "code",
   "execution_count": null,
   "metadata": {},
   "outputs": [
    {
     "data": {
      "text/plain": [
       "(133811, 3052)"
      ]
     },
     "execution_count": null,
     "metadata": {},
     "output_type": "execute_result"
    }
   ],
   "source": [
    "cf_pivot_value = load_data(\"CF\", \"value\")\n",
    "spark_shape(cf_pivot_value)"
   ]
  },
  {
   "cell_type": "code",
   "execution_count": null,
   "metadata": {},
   "outputs": [],
   "source": [
    "cf_empty_count = get_empty_count(cf_pivot_value)"
   ]
  },
  {
   "cell_type": "code",
   "execution_count": null,
   "metadata": {},
   "outputs": [],
   "source": [
    "cf_pivot_pd = cf_pivot_value.toPandas()"
   ]
  },
  {
   "cell_type": "code",
   "execution_count": null,
   "metadata": {},
   "outputs": [],
   "source": [
    "cf_pivot_pd_copy = cf_pivot_pd.copy()"
   ]
  },
  {
   "cell_type": "code",
   "execution_count": null,
   "metadata": {},
   "outputs": [
    {
     "data": {
      "text/plain": [
       "(133811, 3052)"
      ]
     },
     "execution_count": null,
     "metadata": {},
     "output_type": "execute_result"
    }
   ],
   "source": [
    "cf_pivot_pd.shape"
   ]
  },
  {
   "cell_type": "markdown",
   "metadata": {},
   "source": [
    "### Cash Increase/Decrease\n",
    "- 'CashAndCashEquivalentsPeriodIncreaseDecrease',\n",
    "- 'CashAndCashEquivalentsPeriodIncreaseDecreaseExcludingExchangeRateEffect',\n",
    "- 'CashCashEquivalentsRestrictedCashAndRestrictedCashEquivalentsPeriodIncreaseDecreaseExcludingExchangeRateEffect',\n",
    "- 'CashCashEquivalentsRestrictedCashAndRestrictedCashEquivalentsPeriodIncreaseDecreaseIncludingExchangeRateEffect',\n",
    "- 'CashPeriodIncreaseDecrease',\n",
    "- 'CashPeriodIncreaseDecreaseExcludingExchangeRateEffect',\n",
    "- 'NetCashProvidedByUsedInContinuingOperations'"
   ]
  },
  {
   "cell_type": "code",
   "execution_count": null,
   "metadata": {},
   "outputs": [
    {
     "name": "stdout",
     "output_type": "stream",
     "text": [
      "CashAndCashEquivalentsPeriodIncreaseDecrease   30244\n"
     ]
    }
   ],
   "source": [
    "print_null_count(cf_pivot_pd_copy, ['CashAndCashEquivalentsPeriodIncreaseDecrease'])"
   ]
  },
  {
   "cell_type": "code",
   "execution_count": null,
   "metadata": {},
   "outputs": [],
   "source": [
    "# add possible columns from un set to  cf data with prefix cpy_\n",
    "un_cash_incdec = un_pivot_pd[[\"adsh\",\n",
    "    'CashAndCashEquivalentsPeriodIncreaseDecrease',\n",
    "    'CashCashEquivalentsRestrictedCashAndRestrictedCashEquivalentsPeriodIncreaseDecreaseIncludingExchangeRateEffect',\n",
    "    'CashCashEquivalentsRestrictedCashAndRestrictedCashEquivalentsPeriodIncreaseDecreaseExcludingExchangeRateEffect',\n",
    "#    'CashPeriodIncreaseDecrease',\n",
    "#    'CashAndCashEquivalentsPeriodIncreaseDecreaseExcludingExchangeRateEffect',\n",
    "#    'CashPeriodIncreaseDecreaseExcludingExchangeRateEffect' \n",
    "]].copy()\n",
    "un_cash_incdec.rename(columns=lambda x: \"cpy_\" + x, inplace=True)\n",
    "un_cash_incdec.rename(columns={'cpy_adsh':'adsh'}, inplace=True)"
   ]
  },
  {
   "cell_type": "code",
   "execution_count": null,
   "metadata": {},
   "outputs": [
    {
     "data": {
      "text/plain": [
       "(133811, 3055)"
      ]
     },
     "execution_count": null,
     "metadata": {},
     "output_type": "execute_result"
    }
   ],
   "source": [
    "cf_pivot_pd_copy = pd.merge(cf_pivot_pd_copy, un_cash_incdec, how='left', on=['adsh'])\n",
    "cf_pivot_pd_copy.shape"
   ]
  },
  {
   "cell_type": "code",
   "execution_count": null,
   "metadata": {},
   "outputs": [],
   "source": [
    "# if CashAndCashEquivalentsPeriodIncreaseDecrease is not present and CashCashEquivalentsRestrictedCashAndRestrictedCashEquivalentsPeriodIncreaseDecreaseIncludingExchangeRateEffect\n",
    "# is present, we can replace CashAndCashEquivalentsPeriodIncreaseDecrease.\n",
    "# there are only about 12 entries where both are present\n",
    "copy_if_not_empty(cf_pivot_pd_copy, 'CashCashEquivalentsRestrictedCashAndRestrictedCashEquivalentsPeriodIncreaseDecreaseIncludingExchangeRateEffect', \n",
    "                                    'CashAndCashEquivalentsPeriodIncreaseDecrease') # either or\n",
    "copy_if_not_empty(cf_pivot_pd_copy, 'CashCashEquivalentsRestrictedCashAndRestrictedCashEquivalentsPeriodIncreaseDecreaseExcludingExchangeRateEffect', \n",
    "                                    'CashAndCashEquivalentsPeriodIncreaseDecrease') # either or\n",
    "copy_if_not_empty(cf_pivot_pd_copy, 'CashPeriodIncreaseDecrease', \n",
    "                                    'CashAndCashEquivalentsPeriodIncreaseDecrease') # either or\n",
    "copy_if_not_empty(cf_pivot_pd_copy, 'CashAndCashEquivalentsPeriodIncreaseDecreaseExcludingExchangeRateEffect', \n",
    "                                    'CashAndCashEquivalentsPeriodIncreaseDecrease') # either or\n",
    "copy_if_not_empty(cf_pivot_pd_copy, 'CashPeriodIncreaseDecreaseExcludingExchangeRateEffect', \n",
    "                                    'CashAndCashEquivalentsPeriodIncreaseDecrease') # either or\n",
    "copy_if_not_empty(cf_pivot_pd_copy, 'NetCashProvidedByUsedInContinuingOperations', \n",
    "                                    'CashAndCashEquivalentsPeriodIncreaseDecrease') # either or\n",
    "\n",
    "\n",
    "# try to find data in joined un data\n",
    "copy_if_not_empty(cf_pivot_pd_copy, 'cpy_CashAndCashEquivalentsPeriodIncreaseDecrease', \n",
    "                                    'CashAndCashEquivalentsPeriodIncreaseDecrease') # either or\n",
    "copy_if_not_empty(cf_pivot_pd_copy, 'cpy_CashCashEquivalentsRestrictedCashAndRestrictedCashEquivalentsPeriodIncreaseDecreaseIncludingExchangeRateEffect', \n",
    "                                    'CashAndCashEquivalentsPeriodIncreaseDecrease') # either or\n",
    "copy_if_not_empty(cf_pivot_pd_copy, 'cpy_CashCashEquivalentsRestrictedCashAndRestrictedCashEquivalentsPeriodIncreaseDecreaseExcludingExchangeRateEffect', \n",
    "                                    'CashAndCashEquivalentsPeriodIncreaseDecrease') # either or"
   ]
  },
  {
   "cell_type": "code",
   "execution_count": null,
   "metadata": {},
   "outputs": [
    {
     "name": "stdout",
     "output_type": "stream",
     "text": [
      "CashAndCashEquivalentsPeriodIncreaseDecrease   1563\n"
     ]
    }
   ],
   "source": [
    "print_null_count(cf_pivot_pd_copy, ['CashAndCashEquivalentsPeriodIncreaseDecrease'])"
   ]
  },
  {
   "cell_type": "markdown",
   "metadata": {},
   "source": [
    "### Operation\n",
    "- NetIncomeLoss\n",
    "- NetCashProvidedByUsedInOperatingActivities: NetIncome + other positions ergibt diese Position"
   ]
  },
  {
   "cell_type": "code",
   "execution_count": null,
   "metadata": {},
   "outputs": [
    {
     "name": "stdout",
     "output_type": "stream",
     "text": [
      "NetIncomeLoss   58102\n",
      "ProfitLoss   84716\n",
      "NetCashProvidedByUsedInOperatingActivities   32125\n"
     ]
    }
   ],
   "source": [
    "print_null_count(cf_pivot_pd_copy, ['NetIncomeLoss', 'ProfitLoss', 'NetCashProvidedByUsedInOperatingActivities'])"
   ]
  },
  {
   "cell_type": "code",
   "execution_count": null,
   "metadata": {},
   "outputs": [],
   "source": [
    "# if only ProfitLoss is set, copy content to NetIncomeLoss\n",
    "# if onlyNetIncomeLoss is set, copy to ProfitLoss\n",
    "copy_if_not_empty(cf_pivot_pd_copy, 'ProfitLoss', 'NetIncomeLoss')\n",
    "copy_if_not_empty(cf_pivot_pd_copy, 'NetIncomeLoss', 'ProfitLoss')\n",
    "copy_if_not_empty(cf_pivot_pd_copy, 'NetIncomeLossAvailableToCommonStockholdersBasic', 'ProfitLoss') # certain CFs just have this position\n",
    "copy_if_not_empty(cf_pivot_pd_copy, 'NetIncomeLossAvailableToCommonStockholdersBasic', 'NetIncomeLoss')\n",
    "\n",
    "copy_if_not_empty(cf_pivot_pd_copy, 'NetCashProvidedByUsedInOperatingActivitiesContinuingOperations', 'NetCashProvidedByUsedInOperatingActivities')\n",
    "\n",
    "copy_if_not_empty(cf_pivot_pd_copy, 'NetCashProvidedByUsedInOperatingActivities', 'ProfitLoss') # certain CFs just have this position\n",
    "copy_if_not_empty(cf_pivot_pd_copy, 'NetCashProvidedByUsedInOperatingActivities', 'NetIncomeLoss')"
   ]
  },
  {
   "cell_type": "code",
   "execution_count": null,
   "metadata": {},
   "outputs": [
    {
     "name": "stdout",
     "output_type": "stream",
     "text": [
      "NetIncomeLoss   230\n",
      "ProfitLoss   230\n",
      "NetCashProvidedByUsedInOperatingActivities   501\n"
     ]
    }
   ],
   "source": [
    "print_null_count(cf_pivot_pd_copy, ['NetIncomeLoss', 'ProfitLoss', 'NetCashProvidedByUsedInOperatingActivities'])"
   ]
  },
  {
   "cell_type": "markdown",
   "metadata": {},
   "source": [
    "### Investing\n",
    "- NetCashProvidedByUsedInInvestingActivities"
   ]
  },
  {
   "cell_type": "code",
   "execution_count": null,
   "metadata": {},
   "outputs": [
    {
     "name": "stdout",
     "output_type": "stream",
     "text": [
      "NetCashProvidedByUsedInInvestingActivities   33018\n",
      "NetCashProvidedByUsedInInvestingActivitiesContinuingOperations   98645\n",
      "CashProvidedByUsedInInvestingActivitiesDiscontinuedOperations   128368\n"
     ]
    }
   ],
   "source": [
    "print_null_count(cf_pivot_pd_copy, ['NetCashProvidedByUsedInInvestingActivities'])"
   ]
  },
  {
   "cell_type": "code",
   "execution_count": null,
   "metadata": {},
   "outputs": [],
   "source": [
    "sum_into_empty_target(cf_pivot_pd_copy, \n",
    "                      'NetCashProvidedByUsedInInvestingActivitiesContinuingOperations',\n",
    "                      'CashProvidedByUsedInInvestingActivitiesDiscontinuedOperations',\n",
    "                      'NetCashProvidedByUsedInInvestingActivities')\n",
    "\n",
    "copy_if_not_empty(cf_pivot_pd_copy, 'NetCashProvidedByUsedInInvestingActivitiesContinuingOperations', 'NetCashProvidedByUsedInInvestingActivities')\n",
    "copy_if_not_empty(cf_pivot_pd_copy, 'CashProvidedByUsedInInvestingActivitiesDiscontinuedOperations', 'NetCashProvidedByUsedInInvestingActivities')\n",
    "\n",
    "set_to_zero_if_null(cf_pivot_pd_copy, 'NetCashProvidedByUsedInInvestingActivities')"
   ]
  },
  {
   "cell_type": "code",
   "execution_count": null,
   "metadata": {},
   "outputs": [
    {
     "name": "stdout",
     "output_type": "stream",
     "text": [
      "NetCashProvidedByUsedInInvestingActivities   0\n",
      "NetCashProvidedByUsedInInvestingActivitiesContinuingOperations   98645\n",
      "CashProvidedByUsedInInvestingActivitiesDiscontinuedOperations   128368\n"
     ]
    }
   ],
   "source": [
    "print_null_count(cf_pivot_pd_copy, ['NetCashProvidedByUsedInInvestingActivities'])"
   ]
  },
  {
   "cell_type": "markdown",
   "metadata": {},
   "source": [
    "### Financing activities\n",
    "- PaymentsForRepurchaseOfCommonStock: Aktienrückkäufe\n",
    "- PaymentsOfDividends\n",
    "- NetCashProvidedByUsedInFinancingActivities\n",
    "\n",
    "('CashProvidedByUsedInDiscontinuedOperationsFinancingActivities',\n",
    " 'CashProvidedByUsedInFinancingActivitiesDiscontinuedOperations',\n",
    " 'NetCashProvidedByUsedInFinancingActivities',\n",
    " 'NetCashProvidedByUsedInFinancingActivitiesContinuingOperations')"
   ]
  },
  {
   "cell_type": "markdown",
   "metadata": {},
   "source": [
    "#### NetCashProvidedByUsedInFinancingActivities"
   ]
  },
  {
   "cell_type": "code",
   "execution_count": null,
   "metadata": {},
   "outputs": [
    {
     "name": "stdout",
     "output_type": "stream",
     "text": [
      "NetCashProvidedByUsedInFinancingActivities   33202\n",
      "NetCashProvidedByUsedInFinancingActivitiesContinuingOperations   100132\n",
      "CashProvidedByUsedInFinancingActivitiesDiscontinuedOperations   130954\n"
     ]
    }
   ],
   "source": [
    "print_null_count(cf_pivot_pd_copy, ['NetCashProvidedByUsedInFinancingActivities'])"
   ]
  },
  {
   "cell_type": "code",
   "execution_count": null,
   "metadata": {},
   "outputs": [],
   "source": [
    "sum_into_empty_target(cf_pivot_pd_copy, \n",
    "                      'NetCashProvidedByUsedInFinancingActivitiesContinuingOperations',\n",
    "                      'CashProvidedByUsedInFinancingActivitiesDiscontinuedOperations',\n",
    "                      'NetCashProvidedByUsedInFinancingActivities')\n",
    "\n",
    "copy_if_not_empty(cf_pivot_pd_copy, 'NetCashProvidedByUsedInFinancingActivitiesContinuingOperations', 'NetCashProvidedByUsedInFinancingActivities')\n",
    "copy_if_not_empty(cf_pivot_pd_copy, 'CashProvidedByUsedInFinancingActivitiesDiscontinuedOperations', 'NetCashProvidedByUsedInFinancingActivities')\n",
    "\n",
    "set_to_zero_if_null(cf_pivot_pd_copy, 'NetCashProvidedByUsedInFinancingActivities')"
   ]
  },
  {
   "cell_type": "code",
   "execution_count": null,
   "metadata": {},
   "outputs": [
    {
     "name": "stdout",
     "output_type": "stream",
     "text": [
      "NetCashProvidedByUsedInFinancingActivities   0\n"
     ]
    }
   ],
   "source": [
    "print_null_count(cf_pivot_pd_copy, ['NetCashProvidedByUsedInFinancingActivities'])"
   ]
  },
  {
   "cell_type": "markdown",
   "metadata": {},
   "source": [
    "#### PaymentsOfDividends\n",
    "Simply set to 0.0 if no data is present\n",
    " 'PaymentsOfDividends',\n",
    " 'PaymentsOfDividendsCommonStock',\n",
    " 'PaymentsOfDividendsMinorityInterest',\n",
    " 'PaymentsOfDividendsPreferredStockAndPreferenceStock',\n",
    " 'PaymentsOfOrdinaryDividends',"
   ]
  },
  {
   "cell_type": "code",
   "execution_count": null,
   "metadata": {},
   "outputs": [],
   "source": [
    "sum_cols_into_new_target(cf_pivot_pd_copy, 'PaymentsOfDividendsTotal', \n",
    "                                 ['PaymentsOfDividends',\n",
    "                                 'PaymentsOfDividendsCommonStock',\n",
    "                                 'PaymentsOfDividendsMinorityInterest',\n",
    "                                 'PaymentsOfDividendsPreferredStockAndPreferenceStock',\n",
    "                                 'PaymentsOfOrdinaryDividends'])"
   ]
  },
  {
   "cell_type": "markdown",
   "metadata": {},
   "source": [
    "#### PaymentsForRepurchaseOfCommonStock: Stock buybacks\n",
    " 'PaymentsForRepurchaseOfCommonStock',\n",
    " 'PaymentsForRepurchaseOfCommonStockForEmployeeTaxWithholdingObligations',\n",
    " 'PaymentsForRepurchaseOfConvertiblePreferredStock',\n",
    " 'PaymentsForRepurchaseOfPreferredStockAndPreferenceStock',\n",
    " 'PaymentsForRepurchaseOfRedeemableConvertiblePreferredStock',\n",
    " 'PaymentsForRepurchaseOfRedeemablePreferredStock'"
   ]
  },
  {
   "cell_type": "code",
   "execution_count": null,
   "metadata": {},
   "outputs": [],
   "source": [
    "sum_cols_into_new_target(cf_pivot_pd_copy, 'PaymentsForRepurchaseOfStockTotal', \n",
    "                                 ['PaymentsForRepurchaseOfCommonStock',\n",
    "                                     'PaymentsForRepurchaseOfCommonStockForEmployeeTaxWithholdingObligations',\n",
    "                                     'PaymentsForRepurchaseOfConvertiblePreferredStock',\n",
    "                                     'PaymentsForRepurchaseOfPreferredStockAndPreferenceStock',\n",
    "                                     'PaymentsForRepurchaseOfRedeemableConvertiblePreferredStock',\n",
    "                                     'PaymentsForRepurchaseOfRedeemablePreferredStock'])"
   ]
  },
  {
   "cell_type": "markdown",
   "metadata": {},
   "source": [
    "### Clean empty companies"
   ]
  },
  {
   "cell_type": "code",
   "execution_count": null,
   "metadata": {},
   "outputs": [],
   "source": [
    "cf_cols_selected = cf_pivot_pd_copy[[\"cik\",\"ticker\", \"adsh\",\"period\",\"form\", \n",
    "                                     'CashAndCashEquivalentsPeriodIncreaseDecrease',\n",
    "                                     'NetIncomeLoss', 'ProfitLoss', \n",
    "                                     'NetCashProvidedByUsedInOperatingActivities', \n",
    "                                     'NetCashProvidedByUsedInInvestingActivities',\n",
    "                                     'NetCashProvidedByUsedInFinancingActivities']]"
   ]
  },
  {
   "cell_type": "code",
   "execution_count": null,
   "metadata": {},
   "outputs": [],
   "source": [
    "incomplete_ciks = cf_cols_selected[cf_cols_selected.isnull().sum(axis=1) > 0].cik.unique()"
   ]
  },
  {
   "cell_type": "code",
   "execution_count": null,
   "metadata": {},
   "outputs": [
    {
     "data": {
      "text/plain": [
       "514"
      ]
     },
     "execution_count": null,
     "metadata": {},
     "output_type": "execute_result"
    }
   ],
   "source": [
    "len(incomplete_ciks)"
   ]
  },
  {
   "cell_type": "code",
   "execution_count": null,
   "metadata": {},
   "outputs": [],
   "source": [
    "cf_cols_cleaned = cf_cols_selected[~cf_pivot_pd_copy.cik.isin(incomplete_ciks)]"
   ]
  },
  {
   "cell_type": "code",
   "execution_count": null,
   "metadata": {},
   "outputs": [
    {
     "data": {
      "text/plain": [
       "(117038, 11)"
      ]
     },
     "execution_count": null,
     "metadata": {},
     "output_type": "execute_result"
    }
   ],
   "source": [
    "cf_cols_cleaned.shape"
   ]
  },
  {
   "cell_type": "code",
   "execution_count": null,
   "metadata": {},
   "outputs": [
    {
     "data": {
      "text/plain": [
       "0"
      ]
     },
     "execution_count": null,
     "metadata": {},
     "output_type": "execute_result"
    }
   ],
   "source": [
    "cf_cols_cleaned.isnull().sum(axis=1).sum()"
   ]
  },
  {
   "cell_type": "markdown",
   "metadata": {},
   "source": [
    "### Save"
   ]
  },
  {
   "cell_type": "code",
   "execution_count": null,
   "metadata": {},
   "outputs": [],
   "source": [
    "cf_cols_cleaned.to_csv(all_processed_folder + \"cf.csv\", index=False)"
   ]
  },
  {
   "cell_type": "markdown",
   "metadata": {},
   "source": [
    "# xx_trials"
   ]
  },
  {
   "cell_type": "code",
   "execution_count": null,
   "metadata": {},
   "outputs": [],
   "source": [
    "cf_pivot_pd_copy[(cf_pivot_pd_copy.StockholdersEquity.isnull())  ][[\"cik\",\"ticker\", \"adsh\",\"period\", \"StockholdersEquityBeforeTreasuryStock\", \"LiabilitiesAndStockholdersEquity\", \"RetainedEarningsAccumulatedDeficit\"]].sort_values(by=['period'])"
   ]
  },
  {
   "cell_type": "code",
   "execution_count": null,
   "metadata": {},
   "outputs": [
    {
     "data": {
      "text/plain": [
       "34"
      ]
     },
     "execution_count": null,
     "metadata": {},
     "output_type": "execute_result"
    }
   ],
   "source": [
    "selected = bs_piivot_pd_copy['ticker'] == 'FXE'\n",
    "sel_df = bs_piivot_pd_copy.loc[selected]\n",
    "do_copy = (sel_df['AssetsCurrent'].notnull()) & (sel_df['Assets'].isnull())\n",
    "do_copy.sum()"
   ]
  },
  {
   "cell_type": "code",
   "execution_count": null,
   "metadata": {},
   "outputs": [
    {
     "data": {
      "text/html": [
       "<div>\n",
       "<style scoped>\n",
       "    .dataframe tbody tr th:only-of-type {\n",
       "        vertical-align: middle;\n",
       "    }\n",
       "\n",
       "    .dataframe tbody tr th {\n",
       "        vertical-align: top;\n",
       "    }\n",
       "\n",
       "    .dataframe thead th {\n",
       "        text-align: right;\n",
       "    }\n",
       "</style>\n",
       "<table border=\"1\" class=\"dataframe\">\n",
       "  <thead>\n",
       "    <tr style=\"text-align: right;\">\n",
       "      <th></th>\n",
       "      <th>cik</th>\n",
       "      <th>ticker</th>\n",
       "      <th>adsh</th>\n",
       "      <th>period</th>\n",
       "      <th>Dividends</th>\n",
       "      <th>PaymentsOfDividends</th>\n",
       "      <th>PaymentsOfDividendsCommonStock</th>\n",
       "      <th>PaymentsOfDividendsMinorityInterest</th>\n",
       "      <th>PaymentsOfDividendsPreferredStockAndPreferenceStock</th>\n",
       "      <th>PaymentsOfOrdinaryDividends</th>\n",
       "    </tr>\n",
       "  </thead>\n",
       "  <tbody>\n",
       "    <tr>\n",
       "      <th>65024</th>\n",
       "      <td>91576</td>\n",
       "      <td>KEY</td>\n",
       "      <td>0000950123-10-018789</td>\n",
       "      <td>2009-12-31</td>\n",
       "      <td>0.0</td>\n",
       "      <td>213000000.0</td>\n",
       "      <td>NaN</td>\n",
       "      <td>NaN</td>\n",
       "      <td>NaN</td>\n",
       "      <td>NaN</td>\n",
       "    </tr>\n",
       "    <tr>\n",
       "      <th>88525</th>\n",
       "      <td>813920</td>\n",
       "      <td>CEC</td>\n",
       "      <td>0001140361-11-025400</td>\n",
       "      <td>2011-03-31</td>\n",
       "      <td>-4001000.0</td>\n",
       "      <td>NaN</td>\n",
       "      <td>NaN</td>\n",
       "      <td>NaN</td>\n",
       "      <td>NaN</td>\n",
       "      <td>NaN</td>\n",
       "    </tr>\n",
       "    <tr>\n",
       "      <th>131975</th>\n",
       "      <td>892482</td>\n",
       "      <td>QUMU</td>\n",
       "      <td>0000897101-11-001346</td>\n",
       "      <td>2011-06-30</td>\n",
       "      <td>-950000.0</td>\n",
       "      <td>NaN</td>\n",
       "      <td>NaN</td>\n",
       "      <td>NaN</td>\n",
       "      <td>NaN</td>\n",
       "      <td>NaN</td>\n",
       "    </tr>\n",
       "    <tr>\n",
       "      <th>63359</th>\n",
       "      <td>1401521</td>\n",
       "      <td>UIHC</td>\n",
       "      <td>0001401521-11-000020</td>\n",
       "      <td>2011-06-30</td>\n",
       "      <td>0.0</td>\n",
       "      <td>NaN</td>\n",
       "      <td>NaN</td>\n",
       "      <td>NaN</td>\n",
       "      <td>NaN</td>\n",
       "      <td>NaN</td>\n",
       "    </tr>\n",
       "    <tr>\n",
       "      <th>102842</th>\n",
       "      <td>1273801</td>\n",
       "      <td>NRF</td>\n",
       "      <td>0001047469-11-007027</td>\n",
       "      <td>2011-06-30</td>\n",
       "      <td>-27860000.0</td>\n",
       "      <td>NaN</td>\n",
       "      <td>NaN</td>\n",
       "      <td>18336000.0</td>\n",
       "      <td>NaN</td>\n",
       "      <td>NaN</td>\n",
       "    </tr>\n",
       "    <tr>\n",
       "      <th>...</th>\n",
       "      <td>...</td>\n",
       "      <td>...</td>\n",
       "      <td>...</td>\n",
       "      <td>...</td>\n",
       "      <td>...</td>\n",
       "      <td>...</td>\n",
       "      <td>...</td>\n",
       "      <td>...</td>\n",
       "      <td>...</td>\n",
       "      <td>...</td>\n",
       "    </tr>\n",
       "    <tr>\n",
       "      <th>104588</th>\n",
       "      <td>912593</td>\n",
       "      <td>SUI</td>\n",
       "      <td>0000912593-20-000137</td>\n",
       "      <td>2020-06-30</td>\n",
       "      <td>7781000.0</td>\n",
       "      <td>NaN</td>\n",
       "      <td>NaN</td>\n",
       "      <td>NaN</td>\n",
       "      <td>NaN</td>\n",
       "      <td>NaN</td>\n",
       "    </tr>\n",
       "    <tr>\n",
       "      <th>18311</th>\n",
       "      <td>928340</td>\n",
       "      <td>CWCO</td>\n",
       "      <td>0001558370-20-010684</td>\n",
       "      <td>2020-06-30</td>\n",
       "      <td>1288154.0</td>\n",
       "      <td>NaN</td>\n",
       "      <td>2564980.0</td>\n",
       "      <td>NaN</td>\n",
       "      <td>5738.0</td>\n",
       "      <td>NaN</td>\n",
       "    </tr>\n",
       "    <tr>\n",
       "      <th>99044</th>\n",
       "      <td>906345</td>\n",
       "      <td>CPT</td>\n",
       "      <td>0000906345-20-000052</td>\n",
       "      <td>2020-06-30</td>\n",
       "      <td>84138000.0</td>\n",
       "      <td>165085000.0</td>\n",
       "      <td>NaN</td>\n",
       "      <td>NaN</td>\n",
       "      <td>NaN</td>\n",
       "      <td>NaN</td>\n",
       "    </tr>\n",
       "    <tr>\n",
       "      <th>83351</th>\n",
       "      <td>706863</td>\n",
       "      <td>UNB</td>\n",
       "      <td>0000706863-20-000091</td>\n",
       "      <td>2020-06-30</td>\n",
       "      <td>2863000.0</td>\n",
       "      <td>NaN</td>\n",
       "      <td>2844000.0</td>\n",
       "      <td>NaN</td>\n",
       "      <td>NaN</td>\n",
       "      <td>NaN</td>\n",
       "    </tr>\n",
       "    <tr>\n",
       "      <th>59095</th>\n",
       "      <td>1442145</td>\n",
       "      <td>VRSK</td>\n",
       "      <td>0001437749-20-016475</td>\n",
       "      <td>2020-06-30</td>\n",
       "      <td>400000.0</td>\n",
       "      <td>87900000.0</td>\n",
       "      <td>NaN</td>\n",
       "      <td>NaN</td>\n",
       "      <td>NaN</td>\n",
       "      <td>NaN</td>\n",
       "    </tr>\n",
       "  </tbody>\n",
       "</table>\n",
       "<p>270 rows × 10 columns</p>\n",
       "</div>"
      ],
      "text/plain": [
       "            cik ticker                  adsh      period   Dividends  \\\n",
       "65024     91576    KEY  0000950123-10-018789  2009-12-31         0.0   \n",
       "88525    813920    CEC  0001140361-11-025400  2011-03-31  -4001000.0   \n",
       "131975   892482   QUMU  0000897101-11-001346  2011-06-30   -950000.0   \n",
       "63359   1401521   UIHC  0001401521-11-000020  2011-06-30         0.0   \n",
       "102842  1273801    NRF  0001047469-11-007027  2011-06-30 -27860000.0   \n",
       "...         ...    ...                   ...         ...         ...   \n",
       "104588   912593    SUI  0000912593-20-000137  2020-06-30   7781000.0   \n",
       "18311    928340   CWCO  0001558370-20-010684  2020-06-30   1288154.0   \n",
       "99044    906345    CPT  0000906345-20-000052  2020-06-30  84138000.0   \n",
       "83351    706863    UNB  0000706863-20-000091  2020-06-30   2863000.0   \n",
       "59095   1442145   VRSK  0001437749-20-016475  2020-06-30    400000.0   \n",
       "\n",
       "        PaymentsOfDividends  PaymentsOfDividendsCommonStock  \\\n",
       "65024           213000000.0                             NaN   \n",
       "88525                   NaN                             NaN   \n",
       "131975                  NaN                             NaN   \n",
       "63359                   NaN                             NaN   \n",
       "102842                  NaN                             NaN   \n",
       "...                     ...                             ...   \n",
       "104588                  NaN                             NaN   \n",
       "18311                   NaN                       2564980.0   \n",
       "99044           165085000.0                             NaN   \n",
       "83351                   NaN                       2844000.0   \n",
       "59095            87900000.0                             NaN   \n",
       "\n",
       "        PaymentsOfDividendsMinorityInterest  \\\n",
       "65024                                   NaN   \n",
       "88525                                   NaN   \n",
       "131975                                  NaN   \n",
       "63359                                   NaN   \n",
       "102842                           18336000.0   \n",
       "...                                     ...   \n",
       "104588                                  NaN   \n",
       "18311                                   NaN   \n",
       "99044                                   NaN   \n",
       "83351                                   NaN   \n",
       "59095                                   NaN   \n",
       "\n",
       "        PaymentsOfDividendsPreferredStockAndPreferenceStock  \\\n",
       "65024                                                 NaN     \n",
       "88525                                                 NaN     \n",
       "131975                                                NaN     \n",
       "63359                                                 NaN     \n",
       "102842                                                NaN     \n",
       "...                                                   ...     \n",
       "104588                                                NaN     \n",
       "18311                                              5738.0     \n",
       "99044                                                 NaN     \n",
       "83351                                                 NaN     \n",
       "59095                                                 NaN     \n",
       "\n",
       "        PaymentsOfOrdinaryDividends  \n",
       "65024                           NaN  \n",
       "88525                           NaN  \n",
       "131975                          NaN  \n",
       "63359                           NaN  \n",
       "102842                          NaN  \n",
       "...                             ...  \n",
       "104588                          NaN  \n",
       "18311                           NaN  \n",
       "99044                           NaN  \n",
       "83351                           NaN  \n",
       "59095                           NaN  \n",
       "\n",
       "[270 rows x 10 columns]"
      ]
     },
     "execution_count": null,
     "metadata": {},
     "output_type": "execute_result"
    }
   ],
   "source": [
    "pd.set_option('display.max_rows', 40)\n",
    "cf_pivot_pd_copy[(cf_pivot_pd_copy.Dividends.notnull())  \\\n",
    "#              &(cf_pivot_pd_copy.PaymentsOfDividendsCommonStock.notnull())  \\\n",
    "#                &(cf_pivot_pd_copy.CashProvidedByUsedInFinancingActivitiesDiscontinuedOperations.notnull()) \n",
    "                ] \\\n",
    "  [[\"cik\",\"ticker\", \"adsh\",\"period\", \n",
    "'Dividends',\n",
    "'PaymentsOfDividends',\n",
    " 'PaymentsOfDividendsCommonStock',\n",
    " 'PaymentsOfDividendsMinorityInterest',\n",
    " 'PaymentsOfDividendsPreferredStockAndPreferenceStock',\n",
    " 'PaymentsOfOrdinaryDividends'\n",
    "\n",
    "    ]] \\\n",
    "    .sort_values(by=['period'])"
   ]
  },
  {
   "cell_type": "code",
   "execution_count": null,
   "metadata": {},
   "outputs": [],
   "source": [
    "bs_pivot_liabilities_copy[(bs_pivot_liabilities_copy.StockholdersEquity.isnull())][[\"cik\",\"ticker\", \"adsh\",\"period\", \"Assets\", \"StockholdersEquity\", \"LiabilitiesAndStockholdersEquity\", \"RetainedEarningsAccumulatedDeficit\"]].sort_values(by=['period'])"
   ]
  },
  {
   "cell_type": "code",
   "execution_count": null,
   "metadata": {},
   "outputs": [],
   "source": [
    "bs_pivot_liabilities_copy[(bs_pivot_liabilities_copy.adsh == '0001104659-09-029605')][[\"cik\",\"ticker\", \"adsh\",\"period\",\"report\", \"line\"]].sort_values(by=['period'])"
   ]
  },
  {
   "cell_type": "code",
   "execution_count": null,
   "metadata": {},
   "outputs": [
    {
     "data": {
      "text/plain": [
       "['cik',\n",
       " 'ticker',\n",
       " 'adsh',\n",
       " 'form',\n",
       " 'period',\n",
       " 'fp',\n",
       " 'AcceleratedShareRepurchaseProgramAdjustment',\n",
       " 'AcceleratedShareRepurchasesSettlementPaymentOrReceipt',\n",
       " 'AccountsAndNotesReceivableNet',\n",
       " 'AccountsAndOtherReceivablesNetCurrent',\n",
       " 'AccountsPayableAndAccruedLiabilities',\n",
       " 'AccountsPayableAndAccruedLiabilitiesCurrentAndNoncurrent',\n",
       " 'AccountsPayableAndOtherAccruedLiabilities',\n",
       " 'AccountsPayableCurrent',\n",
       " 'AccountsPayableCurrentAndNoncurrent',\n",
       " 'AccountsPayableRelatedPartiesCurrentAndNoncurrent',\n",
       " 'AccountsPayableRelatedPartiesNoncurrent',\n",
       " 'AccountsReceivableNet',\n",
       " 'AccountsReceivableNetCurrent',\n",
       " 'AccretionAmortizationOfDiscountsAndPremiumsInvestments',\n",
       " 'AccretionExpense',\n",
       " 'AccretionExpenseIncludingAssetRetirementObligations',\n",
       " 'AccretionOfDiscount',\n",
       " 'AccrualForEnvironmentalLossContingenciesPayments',\n",
       " 'AccrualForEnvironmentalLossContingenciesPeriodIncreaseDecrease',\n",
       " 'AccruedInvestmentIncomeReceivable',\n",
       " 'AccruedLiabilitiesAndOtherLiabilities',\n",
       " 'AccruedProfessionalFeesCurrent',\n",
       " 'AccruedProfessionalFeesCurrentAndNoncurrent',\n",
       " 'AccruedSalariesCurrent',\n",
       " 'AccumulatedCapitalizedInterestCosts',\n",
       " 'AccumulatedDepreciationDepletionAndAmortizationExpensePropertyPlantAndEquipmentCurrentCharge',\n",
       " 'AccumulatedDepreciationDepletionAndAmortizationPropertyPlantAndEquipment',\n",
       " 'AccumulatedDepreciationDepletionAndAmortizationPropertyPlantAndEquipmentPeriodIncreaseDecrease',\n",
       " 'AccumulatedDepreciationDepletionAndAmortizationSaleOfPropertyPlantAndEquipment1',\n",
       " 'AccumulatedDepreciationDepletionAndAmortizationWritedownOfPropertyPlantAndEquipment',\n",
       " 'AccumulatedOtherComprehensiveIncomeLossAvailableForSaleSecuritiesAdjustmentNetOfTax',\n",
       " 'AccumulatedOtherComprehensiveIncomeLossCumulativeChangesInNetGainLossFromCashFlowHedgesEffectNetOfTax',\n",
       " 'AccumulatedOtherComprehensiveIncomeLossDefinedBenefitPensionAndOtherPostretirementPlansNetOfTax',\n",
       " 'AccumulatedOtherComprehensiveIncomeLossNetOfTax',\n",
       " 'AcquiredFiniteLivedIntangibleAssetAmount',\n",
       " 'AcquiredIndefiniteLivedIntangibleAssetAmount',\n",
       " 'AcquisitionCosts',\n",
       " 'AdditionalPaidInCapital',\n",
       " 'AdditionsToContractHoldersFunds',\n",
       " 'AdditionsToOtherAssetsAmount',\n",
       " 'AdjustmentForAmortization',\n",
       " 'AdjustmentOfWarrantsGrantedForServices',\n",
       " 'AdjustmentToAdditionalPaidInCapitalIncomeTaxEffectFromShareBasedCompensationNet',\n",
       " 'AdjustmentsForNoncashItemsIncludedInIncomeLossFromContinuingOperations',\n",
       " 'AdjustmentsNoncashItemsToReconcileNetIncomeLossToCashProvidedByUsedInOperatingActivities',\n",
       " 'AdjustmentsNoncashItemsToReconcileNetIncomeLossToCashProvidedByUsedInOperatingActivitiesOther',\n",
       " 'AdjustmentsRelatedToTaxWithholdingForShareBasedCompensation',\n",
       " 'AdjustmentsToAdditionalPaidInCapitalConvertibleDebtWithConversionFeature',\n",
       " 'AdjustmentsToAdditionalPaidInCapitalDividendsInExcessOfRetainedEarnings',\n",
       " 'AdjustmentsToAdditionalPaidInCapitalEquityComponentOfConvertibleDebt',\n",
       " 'AdjustmentsToAdditionalPaidInCapitalEquityComponentOfConvertibleDebtSubsequentAdjustments',\n",
       " 'AdjustmentsToAdditionalPaidInCapitalIncomeTaxDeficiencyFromShareBasedCompensation',\n",
       " 'AdjustmentsToAdditionalPaidInCapitalIncreaseInCarryingAmountOfRedeemablePreferredStock',\n",
       " 'AdjustmentsToAdditionalPaidInCapitalMarkToMarket',\n",
       " 'AdjustmentsToAdditionalPaidInCapitalOther',\n",
       " 'AdjustmentsToAdditionalPaidInCapitalReallocationOfMinorityInterest',\n",
       " 'AdjustmentsToAdditionalPaidInCapitalShareBasedCompensationEmployeeStockPurchaseProgramRequisiteServicePeriodRecognition',\n",
       " 'AdjustmentsToAdditionalPaidInCapitalShareBasedCompensationRestrictedStockUnitsRequisiteServicePeriodRecognition',\n",
       " 'AdjustmentsToAdditionalPaidInCapitalShareBasedCompensationStockOptionsRequisiteServicePeriodRecognition',\n",
       " 'AdjustmentsToAdditionalPaidInCapitalSharebasedCompensationAndExerciseOfStockOptions',\n",
       " 'AdjustmentsToAdditionalPaidInCapitalSharebasedCompensationOtherLongtermIncentivePlansRequisiteServicePeriodRecognition',\n",
       " 'AdjustmentsToAdditionalPaidInCapitalSharebasedCompensationRequisiteServicePeriodRecognitionValue',\n",
       " 'AdjustmentsToAdditionalPaidInCapitalStockIssuedIssuanceCosts',\n",
       " 'AdjustmentsToAdditionalPaidInCapitalTaxEffectFromShareBasedCompensation',\n",
       " 'AdjustmentsToAdditionalPaidInCapitalWarrantIssued',\n",
       " 'AdjustmentsToReconcileIncomeLossToNetCashProvidedByUsedInContinuingOperations',\n",
       " 'AdjustmentsToReconcileNetIncomeLossToCashProvidedByUsedInOperatingActivities',\n",
       " 'AdvancePaymentsByBorrowersForTaxesAndInsurance',\n",
       " 'AdvertisingBarterTransactionsAdvertisingBarterCosts',\n",
       " 'AffiliateCosts',\n",
       " 'AffordableHousingProgramAssessments',\n",
       " 'AffordableHousingProgramObligationPeriodIncreaseDecrease',\n",
       " 'AffordableHousingProjectInvestmentWriteDownAmount',\n",
       " 'AllocatedShareBasedCompensationExpense',\n",
       " 'AllocatedShareBasedCompensationExpenseNetOfTax',\n",
       " 'AllowanceForDoubtfulAccountsPremiumsAndOtherReceivables',\n",
       " 'AllowanceForDoubtfulAccountsReceivable',\n",
       " 'AllowanceForDoubtfulAccountsReceivableCurrent',\n",
       " 'AllowanceForDoubtfulAccountsReceivablePeriodIncreaseDecrease',\n",
       " 'AllowanceForDoubtfulAccountsReceivableRecoveries',\n",
       " 'AllowanceForDoubtfulAccountsReceivableWriteOffs',\n",
       " 'AllowanceForDoubtfulOtherReceivablesCurrent',\n",
       " 'AllowanceForFundsUsedDuringConstructionInvestingActivities',\n",
       " 'AllowanceForLoanAndLeaseLossRecoveryOfBadDebts',\n",
       " 'AllowanceForLoanAndLeaseLossesAdjustmentsNet',\n",
       " 'AllowanceForLoanAndLeaseLossesLoansAcquired',\n",
       " 'AllowanceForLoanAndLeaseLossesPeriodIncreaseDecrease',\n",
       " 'AllowanceForLoanAndLeaseLossesProvisionForLossGross',\n",
       " 'AllowanceForLoanAndLeaseLossesProvisionForLossNet',\n",
       " 'AllowanceForLoanAndLeaseLossesRealEstate',\n",
       " 'AllowanceForLoanAndLeaseLossesRecoveriesOfBadDebts',\n",
       " 'AllowanceForLoanAndLeaseLossesWriteOffs',\n",
       " 'AllowanceForLoanAndLeaseLossesWriteoffsNet',\n",
       " 'AllowanceForNotesAndLoansReceivableCurrent',\n",
       " 'AmortizationAndDepreciationOfDecontaminatingAndDecommissioningAssets',\n",
       " 'AmortizationMethodQualifiedAffordableHousingProjectInvestmentsAmortization',\n",
       " 'AmortizationOfAboveAndBelowMarketLeases',\n",
       " 'AmortizationOfAcquiredIntangibleAssets',\n",
       " 'AmortizationOfAcquisitionCosts',\n",
       " 'AmortizationOfAdvanceRoyalty',\n",
       " 'AmortizationOfBelowMarketLease',\n",
       " 'AmortizationOfCapitalizedValueOfBusinessAcquiredAsset',\n",
       " 'AmortizationOfDebtDiscountPremium',\n",
       " 'AmortizationOfDeferredAcquisitionCostsDAC',\n",
       " 'AmortizationOfDeferredCharges',\n",
       " 'AmortizationOfDeferredHedgeGains',\n",
       " 'AmortizationOfDeferredLeasingFees',\n",
       " 'AmortizationOfDeferredLoanOriginationFeesNet',\n",
       " 'AmortizationOfDeferredPropertyTaxes',\n",
       " 'AmortizationOfDeferredSalesCommissions',\n",
       " 'AmortizationOfESOPAward',\n",
       " 'AmortizationOfFinancingCosts',\n",
       " 'AmortizationOfFinancingCostsAndDiscounts',\n",
       " 'AmortizationOfIntangibleAssets',\n",
       " 'AmortizationOfLeaseIncentives',\n",
       " 'AmortizationOfLeasedAsset',\n",
       " 'AmortizationOfMortgageServicingRightsMSRs',\n",
       " 'AmortizationOfNuclearFuelLease',\n",
       " 'AmortizationOfPowerContractsEmissionCredits',\n",
       " 'AmortizationOfRegulatoryAsset',\n",
       " 'AmortizationOfValueOfBusinessAcquiredVOBA',\n",
       " 'AmountRecognizedInIncomeDueToInflationaryAccounting',\n",
       " 'AntidilutiveSecuritiesExcludedFromComputationOfEarningsPerShareAmount',\n",
       " 'ApplicationOfRecognitionProvisionsOfSFAS158EffectOnAccumulatedOtherComprehensiveIncomeNetOfTax',\n",
       " 'AreaOfRealEstateProperty',\n",
       " 'AssetAtFairValueChangesInFairValueResultingFromChangesInAssumptions',\n",
       " 'AssetImpairmentCharges',\n",
       " 'AssetManagementCosts',\n",
       " 'AssetRetirementObligation',\n",
       " 'AssetRetirementObligationAccretionExpense',\n",
       " 'AssetRetirementObligationCashPaidToSettle',\n",
       " 'AssetRetirementObligationLiabilitiesIncurred',\n",
       " 'AssetRetirementObligationLiabilitiesSettled',\n",
       " 'AssetRetirementObligationPeriodIncreaseDecrease',\n",
       " 'AssetRetirementObligationRevisionOfEstimate',\n",
       " 'Assets',\n",
       " 'AssetsDisposedOfByMethodOtherThanSaleInPeriodOfDispositionGainLossOnDisposition',\n",
       " 'AssetsDisposedOfByMethodOtherThanSaleInPeriodOfDispositionGainLossOnDisposition1',\n",
       " 'AssetsFairValueAdjustment',\n",
       " 'AssetsHeldForSaleAtCarryingValue',\n",
       " 'AssetsHeldForSaleCurrent',\n",
       " 'AssetsHeldForSaleLongLived',\n",
       " 'AssetsHeldForSaleNotPartOfDisposalGroupCurrent',\n",
       " 'AssetsOfDisposalGroupIncludingDiscontinuedOperation',\n",
       " 'AvailableForSaleDebtSecuritiesAmortizedCostBasis',\n",
       " 'AvailableForSaleDebtSecuritiesGrossUnrealizedGain',\n",
       " 'AvailableForSaleDebtSecuritiesGrossUnrealizedLoss',\n",
       " 'AvailableForSaleEquitySecuritiesGrossUnrealizedGain',\n",
       " 'AvailableForSaleEquitySecuritiesGrossUnrealizedLoss',\n",
       " 'AvailableForSaleSecurities',\n",
       " 'AvailableForSaleSecuritiesAccumulatedGrossUnrealizedGainLossBeforeTax',\n",
       " 'AvailableForSaleSecuritiesChangeInNetUnrealizedHoldingGainLoss',\n",
       " 'AvailableForSaleSecuritiesChangeInNetUnrealizedHoldingGainLossNetOfTax',\n",
       " 'AvailableForSaleSecuritiesCurrent',\n",
       " 'AvailableForSaleSecuritiesDebtMaturitiesAmortizedCost',\n",
       " 'AvailableForSaleSecuritiesGrossGainsLossesNetDerivatives',\n",
       " 'AvailableForSaleSecuritiesGrossRealizedGainLossNet',\n",
       " 'AvailableForSaleSecuritiesGrossRealizedGains',\n",
       " 'AvailableForSaleSecuritiesGrossRealizedGainsLossesSaleProceeds',\n",
       " 'AvailableForSaleSecuritiesGrossRealizedLosses',\n",
       " 'AvailableForSaleSecuritiesGrossUnrealizedGainLoss',\n",
       " 'AvailableForSaleSecuritiesGrossUnrealizedGains',\n",
       " 'AvailableForSaleSecuritiesGrossUnrealizedLoss',\n",
       " 'AvailableForSaleSecuritiesGrossUnrealizedLosses1',\n",
       " 'AvailableForSaleSecuritiesIncomeTaxExpenseOnChangeInUnrealizedHoldingGainOrLoss',\n",
       " 'AvailableForSaleSecuritiesShortTermInvestmentsAmortizedCost',\n",
       " 'AvailableForSaleSecuritiesTransfersToTradingGainsLossesNet',\n",
       " 'AvailableForSaleSecuritiesTransfersToTradingGrossGains',\n",
       " 'AvailableforsaleSecuritiesGrossRealizedGainLossExcludingOtherThanTemporaryImpairments',\n",
       " 'AvailableforsaleSecuritiesGrossRealizedLossesExcludingOtherThanTemporaryImpairments',\n",
       " 'AvailableforsaleSecuritiesGrossUnrealizedGain',\n",
       " 'AvailableforsaleSecuritiesGrossUnrealizedGainLoss1',\n",
       " 'AvailableforsaleSecuritiesTransfersToTradingGainsLossesExcludingOtherThanTemporaryImpairments',\n",
       " 'BankOverdrafts',\n",
       " 'BankOwnedLifeInsurance',\n",
       " 'BankOwnedLifeInsuranceIncome',\n",
       " 'BelowMarketLeaseAcquired',\n",
       " 'BusinessAcquisitionContingentConsiderationAtFairValue',\n",
       " 'BusinessAcquisitionContingentConsiderationAtFairValueNoncurrent',\n",
       " 'BusinessAcquisitionContingentConsiderationPotentialCashPayment',\n",
       " 'BusinessAcquisitionContingentConsiderationSharesIssuable',\n",
       " 'BusinessAcquisitionCostOfAcquiredEntityCashPaid',\n",
       " 'BusinessAcquisitionCostOfAcquiredEntityEquityInterestsIssuedAndIssuable',\n",
       " 'BusinessAcquisitionCostOfAcquiredEntityLiabilitiesIncurred',\n",
       " 'BusinessAcquisitionCostOfAcquiredEntityOtherNoncashConsideration',\n",
       " 'BusinessAcquisitionCostOfAcquiredEntityPurchasePrice',\n",
       " 'BusinessAcquisitionCostOfAcquiredEntityTransactionCosts',\n",
       " 'BusinessAcquisitionEquityInterestIssuedOrIssuableValueAssigned',\n",
       " 'BusinessAcquisitionEquityInterestsIssuedOrIssuableNumberOfSharesIssued',\n",
       " 'BusinessAcquisitionPercentageOfVotingInterestsAcquired',\n",
       " 'BusinessAcquisitionPreacquisitionContingencyAmount',\n",
       " 'BusinessAcquisitionPreacquisitionContingencyAmountOfSettlement',\n",
       " 'BusinessAcquisitionPurchasePriceAllocationAmortizableIntangibleAssets',\n",
       " 'BusinessAcquisitionPurchasePriceAllocationAssetsAcquired',\n",
       " 'BusinessAcquisitionPurchasePriceAllocationAssetsAcquiredLiabilitiesAssumedNet',\n",
       " 'BusinessAcquisitionPurchasePriceAllocationCapitalLeaseObligationAccrual',\n",
       " 'BusinessAcquisitionPurchasePriceAllocationCurrentAssets',\n",
       " 'BusinessAcquisitionPurchasePriceAllocationCurrentAssetsCashAndCashEquivalents',\n",
       " 'BusinessAcquisitionPurchasePriceAllocationCurrentAssetsInventory',\n",
       " 'BusinessAcquisitionPurchasePriceAllocationCurrentAssetsMarketableSecurities',\n",
       " 'BusinessAcquisitionPurchasePriceAllocationCurrentAssetsPrepaidExpenseAndOtherAssets',\n",
       " 'BusinessAcquisitionPurchasePriceAllocationCurrentAssetsReceivables',\n",
       " 'BusinessAcquisitionPurchasePriceAllocationCurrentLiabilities',\n",
       " 'BusinessAcquisitionPurchasePriceAllocationCurrentLiabilitiesAccountsPayable',\n",
       " 'BusinessAcquisitionPurchasePriceAllocationCurrentLiabilitiesAccruedLiabilities',\n",
       " 'BusinessAcquisitionPurchasePriceAllocationCurrentLiabilitiesLongTermDebt',\n",
       " 'BusinessAcquisitionPurchasePriceAllocationCurrentLiabilitiesOtherLiabilities',\n",
       " 'BusinessAcquisitionPurchasePriceAllocationDeferredTaxAssetsNoncurrent',\n",
       " 'BusinessAcquisitionPurchasePriceAllocationDeferredTaxLiabilitiesNoncurrent',\n",
       " 'BusinessAcquisitionPurchasePriceAllocationGoodwillAmount',\n",
       " 'BusinessAcquisitionPurchasePriceAllocationGoodwillExpectedTaxDeductibleAmount',\n",
       " 'BusinessAcquisitionPurchasePriceAllocationIntangibleAssetsOtherThanGoodwill',\n",
       " 'BusinessAcquisitionPurchasePriceAllocationLiabilitiesAssumed',\n",
       " 'BusinessAcquisitionPurchasePriceAllocationNetTangibleAssets',\n",
       " 'BusinessAcquisitionPurchasePriceAllocationNoncontrollingInterest',\n",
       " 'BusinessAcquisitionPurchasePriceAllocationNoncurrentAssets',\n",
       " 'BusinessAcquisitionPurchasePriceAllocationNoncurrentLiabilities',\n",
       " 'BusinessAcquisitionPurchasePriceAllocationNoncurrentLiabilitiesLongTermDebt',\n",
       " 'BusinessAcquisitionPurchasePriceAllocationNotesPayableAndLongTermDebt',\n",
       " 'BusinessAcquisitionPurchasePriceAllocationOtherAssets',\n",
       " 'BusinessAcquisitionPurchasePriceAllocationOtherLiabilities',\n",
       " 'BusinessAcquisitionPurchasePriceAllocationProperty',\n",
       " 'BusinessAcquisitionPurchasePriceAllocationPropertyPlantAndEquipment',\n",
       " 'BusinessAcquisitionSharePrice',\n",
       " 'BusinessAcquisitionsProFormaRevenue',\n",
       " 'BusinessAcquisitionsPurchasePriceAllocationSubsequentYearsNetEffectOnIncome',\n",
       " 'BusinessAcquisitionsPurchasePriceAllocationSubsequentYearsRemainingAdjustments',\n",
       " 'BusinessAcquisitionsPurchasePriceAllocationYearOfAcquisitionNetEffectOnIncome',\n",
       " 'BusinessCombinationAcquisitionOfLessThan100PercentNoncontrollingInterestFairValue',\n",
       " 'BusinessCombinationAcquisitionRelatedCosts',\n",
       " 'BusinessCombinationAssetsAndLiabilitiesArisingFromContingenciesAmountRecognized',\n",
       " 'BusinessCombinationBargainPurchaseGainRecognizedAmount',\n",
       " 'BusinessCombinationConsiderationTransferred',\n",
       " 'BusinessCombinationConsiderationTransferred1',\n",
       " 'BusinessCombinationConsiderationTransferredEquityInterestsIssuedAndIssuable',\n",
       " 'BusinessCombinationConsiderationTransferredIncludingEquityInterestInAcquireeHeldPriorToCombination1',\n",
       " 'BusinessCombinationConsiderationTransferredLiabilitiesIncurred',\n",
       " 'BusinessCombinationConsiderationTransferredOther1',\n",
       " 'BusinessCombinationContingentConsiderationArrangementsChangeInAmountContingentAssetsAndLiabilitiesRecognizedAsset',\n",
       " 'BusinessCombinationContingentConsiderationArrangementsChangeInAmountContingentAssetsAndLiabilitiesRecognizedLiability',\n",
       " 'BusinessCombinationContingentConsiderationArrangementsChangeInAmountOfContingentConsiderationAsset',\n",
       " 'BusinessCombinationContingentConsiderationArrangementsChangeInAmountOfContingentConsiderationAsset1',\n",
       " 'BusinessCombinationContingentConsiderationArrangementsChangeInAmountOfContingentConsiderationLiability',\n",
       " 'BusinessCombinationContingentConsiderationArrangementsChangeInAmountOfContingentConsiderationLiability1',\n",
       " 'BusinessCombinationContingentConsiderationArrangementsChangeInTheRangeOfOutcomesContingentConsiderationLiabilityValueHigh',\n",
       " 'BusinessCombinationContingentConsiderationArrangementsChangeInTheRangeOfOutcomesContingentConsiderationLiabilityValueLow',\n",
       " 'BusinessCombinationContingentConsiderationArrangementsRangeOfOutcomesValueHigh',\n",
       " 'BusinessCombinationContingentConsiderationAsset',\n",
       " 'BusinessCombinationContingentConsiderationLiability',\n",
       " 'BusinessCombinationContingentConsiderationLiabilityCurrent',\n",
       " 'BusinessCombinationContingentConsiderationLiabilityNoncurrent',\n",
       " 'BusinessCombinationIntegrationRelatedCosts',\n",
       " 'BusinessCombinationLiabilitiesArisingFromContingenciesAmountRecognized',\n",
       " 'BusinessCombinationProvisionalInformationInitialAccountingIncompleteAdjustmentConsiderationTransferred',\n",
       " 'BusinessCombinationProvisionalInformationInitialAccountingIncompleteAdjustmentFinancialLiabilities',\n",
       " 'BusinessCombinationProvisionalInformationInitialAccountingIncompleteAdjustmentIntangibles',\n",
       " 'BusinessCombinationProvisionalInformationInitialAccountingIncompleteAdjustmentInventory',\n",
       " 'BusinessCombinationProvisionalInformationInitialAccountingIncompleteAdjustmentPropertyPlantAndEquipment',\n",
       " 'BusinessCombinationRecognizedIdentifiableAssetsAcquiredAndLiabilitiesAssumedAssets',\n",
       " 'BusinessCombinationRecognizedIdentifiableAssetsAcquiredAndLiabilitiesAssumedBuildings',\n",
       " 'BusinessCombinationRecognizedIdentifiableAssetsAcquiredAndLiabilitiesAssumedCapitalLeaseObligation',\n",
       " 'BusinessCombinationRecognizedIdentifiableAssetsAcquiredAndLiabilitiesAssumedCashAndEquivalents',\n",
       " 'BusinessCombinationRecognizedIdentifiableAssetsAcquiredAndLiabilitiesAssumedContingentLiability',\n",
       " 'BusinessCombinationRecognizedIdentifiableAssetsAcquiredAndLiabilitiesAssumedCurrentAssets',\n",
       " 'BusinessCombinationRecognizedIdentifiableAssetsAcquiredAndLiabilitiesAssumedCurrentAssetsMarketableSecurities',\n",
       " 'BusinessCombinationRecognizedIdentifiableAssetsAcquiredAndLiabilitiesAssumedCurrentAssetsOther',\n",
       " 'BusinessCombinationRecognizedIdentifiableAssetsAcquiredAndLiabilitiesAssumedCurrentAssetsPrepaidExpenseAndOtherAssets',\n",
       " 'BusinessCombinationRecognizedIdentifiableAssetsAcquiredAndLiabilitiesAssumedCurrentAssetsReceivables',\n",
       " 'BusinessCombinationRecognizedIdentifiableAssetsAcquiredAndLiabilitiesAssumedCurrentLiabilities',\n",
       " 'BusinessCombinationRecognizedIdentifiableAssetsAcquiredAndLiabilitiesAssumedCurrentLiabilitiesAccountsPayable',\n",
       " 'BusinessCombinationRecognizedIdentifiableAssetsAcquiredAndLiabilitiesAssumedCurrentLiabilitiesDeferredRevenue',\n",
       " 'BusinessCombinationRecognizedIdentifiableAssetsAcquiredAndLiabilitiesAssumedCurrentLiabilitiesLongTermDebt',\n",
       " 'BusinessCombinationRecognizedIdentifiableAssetsAcquiredAndLiabilitiesAssumedCurrentLiabilitiesOther',\n",
       " 'BusinessCombinationRecognizedIdentifiableAssetsAcquiredAndLiabilitiesAssumedDeferredTaxAssets',\n",
       " 'BusinessCombinationRecognizedIdentifiableAssetsAcquiredAndLiabilitiesAssumedDeferredTaxAssetsCurrent',\n",
       " 'BusinessCombinationRecognizedIdentifiableAssetsAcquiredAndLiabilitiesAssumedDeferredTaxAssetsNoncurrent',\n",
       " 'BusinessCombinationRecognizedIdentifiableAssetsAcquiredAndLiabilitiesAssumedDeferredTaxLiabilities',\n",
       " 'BusinessCombinationRecognizedIdentifiableAssetsAcquiredAndLiabilitiesAssumedDeferredTaxLiabilitiesCurrent',\n",
       " 'BusinessCombinationRecognizedIdentifiableAssetsAcquiredAndLiabilitiesAssumedDeferredTaxLiabilitiesNoncurrent',\n",
       " 'BusinessCombinationRecognizedIdentifiableAssetsAcquiredAndLiabilitiesAssumedFinancialAssets',\n",
       " 'BusinessCombinationRecognizedIdentifiableAssetsAcquiredAndLiabilitiesAssumedFinancialLiabilities',\n",
       " 'BusinessCombinationRecognizedIdentifiableAssetsAcquiredAndLiabilitiesAssumedIndefiniteLivedIntangibleAssets',\n",
       " 'BusinessCombinationRecognizedIdentifiableAssetsAcquiredAndLiabilitiesAssumedIntangibleAssetsOtherThanGoodwill',\n",
       " 'BusinessCombinationRecognizedIdentifiableAssetsAcquiredAndLiabilitiesAssumedIntangibles',\n",
       " 'BusinessCombinationRecognizedIdentifiableAssetsAcquiredAndLiabilitiesAssumedInventory',\n",
       " 'BusinessCombinationRecognizedIdentifiableAssetsAcquiredAndLiabilitiesAssumedLand',\n",
       " 'BusinessCombinationRecognizedIdentifiableAssetsAcquiredAndLiabilitiesAssumedLiabilities',\n",
       " 'BusinessCombinationRecognizedIdentifiableAssetsAcquiredAndLiabilitiesAssumedNet',\n",
       " 'BusinessCombinationRecognizedIdentifiableAssetsAcquiredAndLiabilitiesAssumedNoncurrentAssets',\n",
       " 'BusinessCombinationRecognizedIdentifiableAssetsAcquiredAndLiabilitiesAssumedNoncurrentLiabilities',\n",
       " 'BusinessCombinationRecognizedIdentifiableAssetsAcquiredAndLiabilitiesAssumedNoncurrentLiabilitiesLongTermDebt',\n",
       " 'BusinessCombinationRecognizedIdentifiableAssetsAcquiredAndLiabilitiesAssumedNoncurrentLiabilitiesOther',\n",
       " 'BusinessCombinationRecognizedIdentifiableAssetsAcquiredAndLiabilitiesAssumedOtherNoncurrentAssets',\n",
       " 'BusinessCombinationRecognizedIdentifiableAssetsAcquiredAndLiabilitiesAssumedPropertyPlantAndEquipment',\n",
       " 'BusinessCombinationRecognizedIdentifiableAssetsAcquiredGoodwillAndLiabilitiesAssumedLessNoncontrollingInterest',\n",
       " 'BusinessCombinationRecognizedIdentifiableAssetsAcquiredGoodwillAndLiabilitiesAssumedNet',\n",
       " 'BusinessCombinationSeparatelyRecognizedTransactionsAdditionalDisclosuresAcquisitionCostExpensed',\n",
       " 'BusinessCombinationSeparatelyRecognizedTransactionsExpensesAndLossesRecognized',\n",
       " 'BusinessCombinationSeparatelyRecognizedTransactionsNetGainsAndLosses',\n",
       " 'BusinessCombinationSeparatelyRecognizedTransactionsRevenuesAndGainsRecognized',\n",
       " 'BusinessCombinationStepAcquisitionEquityInterestInAcquireeFairValue',\n",
       " 'BusinessCombinationStepAcquisitionEquityInterestInAcquireeFairValue1',\n",
       " 'BusinessCombinationStepAcquisitionEquityInterestInAcquireeRemeasurementGain',\n",
       " 'BusinessCombinationStepAcquisitionEquityInterestInAcquireeRemeasurementGainOrLoss',\n",
       " 'BusinessCombinationStepAcquisitionEquityInterestInAcquireeRemeasurementLoss',\n",
       " 'BusinessDevelopment',\n",
       " 'BusinessExitCosts',\n",
       " 'BusinessExitCosts1',\n",
       " 'CapitalExpenditureDiscontinuedOperations',\n",
       " 'CapitalExpendituresIncurredButNotYetPaid',\n",
       " 'CapitalLeaseObligations',\n",
       " 'CapitalLeaseObligationsIncurred',\n",
       " 'CapitalLeasedAssetsGross',\n",
       " 'CapitalLeasesBalanceSheetAssetsByMajorClassNet',\n",
       " 'CapitalLeasesIncomeStatementAmortizationExpense',\n",
       " 'CapitalLeasesIncomeStatementDirectFinancingLeaseRevenue',\n",
       " 'CapitalLeasesIncomeStatementInterestExpense',\n",
       " 'CapitalLeasesIncomeStatementLeaseRevenue',\n",
       " 'CapitalLeasesIncomeStatementSalesTypeLeaseRevenue',\n",
       " 'CapitalLeasesIndemnificationAgreementsPayments',\n",
       " 'CapitalLeasesLesseeBalanceSheetAssetsByMajorClassOtherPropertyPlantAndEquipment',\n",
       " 'CapitalLeasesNetInvestmentInDirectFinancingLeases',\n",
       " 'CapitalLeasesNetInvestmentInSalesTypeLeasesMinimumPaymentsToBeReceived',\n",
       " 'CapitalUnitsAdjustmentForMarketChanges',\n",
       " 'CapitalizedComputerSoftwareAccumulatedAmortization',\n",
       " 'CapitalizedComputerSoftwareAdditions',\n",
       " 'CapitalizedComputerSoftwareAmortization',\n",
       " 'CapitalizedComputerSoftwareAmortization1',\n",
       " 'CapitalizedComputerSoftwareImpairments',\n",
       " 'CapitalizedComputerSoftwareImpairments1',\n",
       " 'CapitalizedComputerSoftwarePeriodIncreaseDecrease',\n",
       " 'CapitalizedContractCostAmortization',\n",
       " 'CapitalizedContractCostImpairmentLoss',\n",
       " 'CapitalizedContractCostNet',\n",
       " 'CapitalizedCostsAssetRetirementCosts',\n",
       " 'CapitalizedExploratoryWellCostChargedToExpense',\n",
       " 'CapitalizedExploratoryWellCostChargedToExpense1',\n",
       " 'CapitalizedSoftwareDevelopmentCostsForSoftwareSoldToCustomers',\n",
       " 'Cash',\n",
       " 'CashAcquiredFromAcquisition',\n",
       " 'CashAcquiredInExcessOfPaymentsToAcquireBusiness',\n",
       " 'CashAndCashEquivalentsAtCarryingValue',\n",
       " 'CashAndCashEquivalentsAtCarryingValueIncludingDiscontinuedOperations',\n",
       " 'CashAndCashEquivalentsFairValueDisclosure',\n",
       " 'CashAndCashEquivalentsPeriodIncreaseDecrease',\n",
       " 'CashAndCashEquivalentsPeriodIncreaseDecreaseExcludingExchangeRateEffect',\n",
       " 'CashAndDueFromBanks',\n",
       " 'CashAndSecuritiesSegregatedUnderFederalAndOtherRegulations',\n",
       " 'CashAndSecuritiesSegregatedUnderSecuritiesExchangeCommissionRegulation',\n",
       " 'CashCashEquivalentsAndFederalFundsSold',\n",
       " 'CashCashEquivalentsAndShortTermInvestments',\n",
       " 'CashCashEquivalentsRestrictedCashAndRestrictedCashEquivalents',\n",
       " 'CashCashEquivalentsRestrictedCashAndRestrictedCashEquivalentsDisposalGroupIncludingDiscontinuedOperations',\n",
       " 'CashCashEquivalentsRestrictedCashAndRestrictedCashEquivalentsIncludingDisposalGroupAndDiscontinuedOperations',\n",
       " 'CashCashEquivalentsRestrictedCashAndRestrictedCashEquivalentsPeriodIncreaseDecreaseExcludingExchangeRateEffect',\n",
       " 'CashCashEquivalentsRestrictedCashAndRestrictedCashEquivalentsPeriodIncreaseDecreaseIncludingExchangeRateEffect',\n",
       " 'CashDivestedFromDeconsolidation',\n",
       " 'CashDividends',\n",
       " 'CashDividendsPaidToParentCompany',\n",
       " 'CashDividendsPaidToParentCompanyBy50PercentOrLessOwnedPersons',\n",
       " 'CashDividendsPaidToParentCompanyByConsolidatedSubsidiaries',\n",
       " 'CashDividendsPaidToParentCompanyByUnconsolidatedSubsidiaries',\n",
       " 'CashEquivalentsAtCarryingValue',\n",
       " 'CashFlowHedgeGainLossReclassifiedToEarningsNet',\n",
       " 'CashFlowHedgeGainLossReclassifiedToInterestExpenseNet',\n",
       " 'CashFlowHedgeGainLossReclassifiedToOtherExpenseNet',\n",
       " 'CashFlowHedgeGainLossReclassifiedToOtherIncomeNet',\n",
       " 'CashFlowHedgeGainReclassifiedToInterestExpense',\n",
       " 'CashFlowHedgeGainReclassifiedToOtherIncome',\n",
       " 'CashFlowHedgeLossReclassifiedToEarnings',\n",
       " 'CashFlowHedgeLossReclassifiedToInterestExpense',\n",
       " 'CashFlowsBetweenTransfereeAndTransferorProceedsFromNewTransfers',\n",
       " 'CashFlowsBetweenTransfereeAndTransferorReceiptsOnInterestsThatContinueToBeHeldOther',\n",
       " 'CashFlowsBetweenTransferorAndTransfereeBeneficialInterest',\n",
       " 'CashIncludingDiscontinuedOperations',\n",
       " 'CashPaidForCapitalizedInterest',\n",
       " 'CashPeriodIncreaseDecrease',\n",
       " 'CashPeriodIncreaseDecreaseExcludingExchangeRateEffect',\n",
       " 'CashProvidedByUsedInDiscontinuedOperationsFinancingActivities',\n",
       " 'CashProvidedByUsedInDiscontinuedOperationsInvestingActivities',\n",
       " 'CashProvidedByUsedInDiscontinuedOperationsOperatingActivities',\n",
       " 'CashProvidedByUsedInFinancingActivitiesDiscontinuedOperations',\n",
       " 'CashProvidedByUsedInInvestingActivitiesDiscontinuedOperations',\n",
       " 'CashProvidedByUsedInOperatingActivitiesDiscontinuedOperations',\n",
       " 'CashReserveDepositRequiredAndMade',\n",
       " 'CashSurrenderValueOfLifeInsurance',\n",
       " 'CertainLoansAcquiredInTransferAccountedForAsAvailableForSaleDebtSecuritiesAccretableYieldPeriodIncreaseDecrease',\n",
       " 'CertainLoansAcquiredInTransferAccountedForAsDebtSecuritiesAccretableYieldAccretion',\n",
       " 'CertainLoansAcquiredInTransferAccountedForAsDebtSecuritiesAccretableYieldPeriodIncreaseDecrease',\n",
       " 'CertainLoansAcquiredInTransferAccountedForAsHeldToMaturityDebtSecuritiesAccretableYieldAccretion',\n",
       " 'CertainLoansAcquiredInTransferNotAccountedForAsDebtSecuritiesAccretableYieldAccretion',\n",
       " 'CertainLoansAcquiredInTransferNotAccountedForAsDebtSecuritiesProvisionForLoanLosses1',\n",
       " 'ChangeInUnrealizedGainLossOnFairValueHedgingInstruments',\n",
       " 'ChangeInUnrealizedGainLossOnFairValueHedgingInstruments1',\n",
       " 'ChangeInUnrealizedGainLossOnForeignCurrencyFairValueHedgingInstruments1',\n",
       " 'ChangeInUnrealizedGainLossOnHedgedItemInFairValueHedge',\n",
       " 'ChangeInUnrealizedGainLossOnHedgedItemInFairValueHedge1',\n",
       " 'ClassOfWarrantOrRightExercisePriceOfWarrantsOrRights',\n",
       " 'ClassOfWarrantOrRightExercisePriceOfWarrantsOrRights1',\n",
       " 'ClassOfWarrantOrRightNumberOfSecuritiesCalledByWarrantsOrRights',\n",
       " 'ClassOfWarrantOrRightOutstanding',\n",
       " 'CommitmentsAndContingencies',\n",
       " 'CommonStockDividend',\n",
       " 'CommonStockDividendsPerShareCashPaid',\n",
       " 'CommonStockDividendsPerShareDeclared',\n",
       " 'CommonStockDividendsShares',\n",
       " 'CommonStockIncludingAdditionalPaidInCapitalNetOfDiscount',\n",
       " 'CommonStockIssuedEmployeeStockTrust',\n",
       " 'CommonStockNoParValue',\n",
       " 'CommonStockParOrStatedValuePerShare',\n",
       " 'CommonStockShareSubscribedButUnissuedSubscriptionsReceivable',\n",
       " 'CommonStockShareSubscriptionsButUnissuedValue',\n",
       " 'CommonStockSharesAuthorized',\n",
       " 'CommonStockSharesHeldInEmployeeTrust',\n",
       " 'CommonStockSharesIssued',\n",
       " 'CommonStockSharesOutstanding',\n",
       " 'CommonStockSharesSubscriptions',\n",
       " 'CommonStockValue',\n",
       " 'CommonUnitIssued',\n",
       " 'ComprehensiveIncomeNetOfTax',\n",
       " 'ComprehensiveIncomeNetOfTaxAttributableToNoncontrollingInterest',\n",
       " 'ComprehensiveIncomeNetOfTaxIncludingPortionAttributableToNoncontrollingInterest',\n",
       " 'ConsiderationReceivedForBeneficialInterestObtainedForTransferringFinancialAsset',\n",
       " 'ConsolidationLessThanWhollyOwnedSubsidiaryParentOwnershipInterestChangesAdditionalInterestIssuedToParent',\n",
       " 'ConsolidationLessThanWhollyOwnedSubsidiaryParentOwnershipInterestChangesNet',\n",
       " 'ConsolidationLessThanWhollyOwnedSubsidiaryParentOwnershipInterestChangesPurchaseOfInterestByParent',\n",
       " 'ConsolidationLessThanWhollyOwnedSubsidiaryParentOwnershipInterestChangesRepurchaseOfSharesBySubsidiary',\n",
       " 'ConsolidationLessThanWhollyOwnedSubsidiaryParentOwnershipInterestChangesSaleOfInterestByParent',\n",
       " 'ConstructionAndDevelopmentCosts',\n",
       " 'ConstructionInProgressExpendituresIncurredButNotYetPaid',\n",
       " 'ConstructionInProgressGross',\n",
       " 'ConstructionPayableCurrent',\n",
       " 'ConstructionPayableCurrentAndNoncurrent',\n",
       " 'ContingentConsiderationClassifiedAsEquityFairValueDisclosure',\n",
       " 'ContinuingCareRetirementCommunitiesAdvanceFeesRefunds',\n",
       " 'ContractWithCustomerAssetCreditLossExpense',\n",
       " 'ContractWithCustomerAssetCumulativeCatchUpAdjustmentToRevenueChangeInMeasureOfProgress',\n",
       " 'ContractWithCustomerAssetIncreaseDecreaseForContractAcquiredInBusinessCombination',\n",
       " 'ContractWithCustomerAssetReclassifiedToReceivable',\n",
       " 'ContractWithCustomerLiabilityRevenueRecognized',\n",
       " 'ContractWithCustomerPerformanceObligationSatisfiedInPreviousPeriod',\n",
       " 'ContractWithCustomerReceivableCreditLossExpenseReversal',\n",
       " 'ContractualObligation',\n",
       " 'ContributionOfProperty',\n",
       " 'ContributionsFromNoncontrollingInterests',\n",
       " 'ConversionGainsAndLossesOnForeignInvestments',\n",
       " 'ConversionOfStockAmountConverted',\n",
       " 'ConversionOfStockAmountConverted1',\n",
       " 'ConversionOfStockAmountIssued',\n",
       " 'ConversionOfStockAmountIssued1',\n",
       " 'ConversionOfStockSharesConverted1',\n",
       " 'ConversionOfStockSharesIssued1',\n",
       " 'ConvertibleDebt',\n",
       " 'ConvertibleDebtFairValueDisclosures',\n",
       " 'ConvertibleNotesPayableCurrent',\n",
       " 'ConvertiblePreferredDividendsNetOfTax',\n",
       " 'ConvertiblePreferredStockConvertedToOtherSecurities',\n",
       " 'ConvertiblePreferredStockSharesIssuedUponConversion',\n",
       " 'CostDepreciationAmortizationAndDepletion',\n",
       " 'CostMethodInvestmentsRealizedGainLoss',\n",
       " 'CostMethodInvestmentsRealizedGains',\n",
       " 'CostMethodInvestmentsRealizedLosses',\n",
       " 'CostOfGoodsAndServicesSold',\n",
       " 'CostOfGoodsAndServicesSoldAmortization',\n",
       " 'CostOfGoodsAndServicesSoldDepreciation',\n",
       " 'CostOfGoodsAndServicesSoldDepreciationAndAmortization',\n",
       " 'CostOfGoodsSoldAmortization',\n",
       " 'CostOfGoodsSoldDepreciation',\n",
       " 'CostOfGoodsSoldDepreciationAndAmortization',\n",
       " 'CostOfGoodsSoldDepreciationDepletionAndAmortization',\n",
       " 'CostOfOilAndGasProspects',\n",
       " 'CostOfRealEstateRevenue',\n",
       " 'CostOfRealEstateSales',\n",
       " 'CostOfReimbursableExpense',\n",
       " 'CostOfRevenue',\n",
       " 'CostOfServices',\n",
       " 'CostOfServicesAmortization',\n",
       " 'CostOfServicesDepreciation',\n",
       " 'CostOfServicesDepreciationAndAmortization',\n",
       " 'CostmethodInvestmentsOtherThanTemporaryImpairment',\n",
       " 'CostmethodInvestmentsRealizedGainLossExcludingOtherThanTemporaryImpairments',\n",
       " 'CostmethodInvestmentsRealizedLossesExcludingOtherThanTemporaryImpairments',\n",
       " 'CostsAndExpensesRelatedParty',\n",
       " 'CostsInExcessOfBillingsOnUncompletedContractsOrProgramsExpectedToBeCollectedWithinOneYear',\n",
       " 'CostsIncurredAcquisitionOfOilAndGasProperties',\n",
       " 'CostsIncurredAssetRetirementObligationIncurred',\n",
       " 'CostsIncurredDevelopmentCosts',\n",
       " 'CostsIncurredExplorationCosts',\n",
       " 'CumulativeEffectOfChangeInAccountingPrinciplePresentedOnIncomeStatementNetOfTax',\n",
       " 'CumulativeEffectOfNewAccountingPrincipleInPeriodOfAdoption',\n",
       " 'CumulativeEffectOfProspectiveApplicationOfNewAccountingPrinciple',\n",
       " 'CumulativeEffectOnRetainedEarningsNetOfTax1',\n",
       " 'CumulativeTranslationAdjustmentNetOfTaxPeriodIncreaseDecrease',\n",
       " 'CurrentFederalTaxExpenseBenefit',\n",
       " 'CurrentForeignTaxExpenseBenefit',\n",
       " 'CurrentIncomeTaxExpenseBenefit',\n",
       " 'CustomerAdvancesForConstruction',\n",
       " 'CustomerRefundableFeesCashReceived',\n",
       " 'CustomerRefundableFeesPeriodIncreaseDecrease',\n",
       " 'CustomerRefundableFeesProceeds',\n",
       " 'CustomerRefundableFeesRefundPayments',\n",
       " 'CustomerRefundableFeesRefundPayments1',\n",
       " 'DebtAndEquitySecuritiesGainLoss',\n",
       " 'DebtAndEquitySecuritiesRealizedGainLoss',\n",
       " 'DebtAndEquitySecuritiesRealizedGainLossExcludingOtherThanTemporaryImpairment',\n",
       " 'DebtAndEquitySecuritiesUnrealizedGainLoss',\n",
       " 'DebtAndEquitySecuritiesUnrealizedGainLossExcludingOtherThanTemporaryImpairment',\n",
       " 'DebtConversionConvertedInstrumentAmount',\n",
       " 'DebtConversionConvertedInstrumentAmount1',\n",
       " 'DebtConversionConvertedInstrumentRate',\n",
       " 'DebtConversionConvertedInstrumentSharesIssued1',\n",
       " 'DebtConversionConvertedInstrumentWarrantsOrOptionsIssued1',\n",
       " 'DebtConversionOriginalDebtAmount',\n",
       " 'DebtConversionOriginalDebtAmount1',\n",
       " 'DebtInstrumentBasisSpreadOnVariableRate1',\n",
       " 'DebtInstrumentCarryingAmount',\n",
       " 'DebtInstrumentCollateralAmount',\n",
       " 'DebtInstrumentCollateralFee',\n",
       " 'DebtInstrumentConvertibleBeneficialConversionFeature',\n",
       " 'DebtInstrumentConvertibleCarryingAmountOfTheEquityComponent',\n",
       " 'DebtInstrumentConvertibleConversionPrice1',\n",
       " 'DebtInstrumentConvertibleEffectiveInterestRate',\n",
       " 'DebtInstrumentConvertibleIfConvertedValueInExcessOfPrincipal',\n",
       " 'DebtInstrumentConvertibleInterestExpense',\n",
       " 'DebtInstrumentConvertibleThresholdPercentageOfStockPriceTrigger',\n",
       " 'DebtInstrumentDecreaseForgiveness',\n",
       " 'DebtInstrumentFaceAmount',\n",
       " 'DebtInstrumentFairValue',\n",
       " 'DebtInstrumentFeeAmount',\n",
       " 'DebtInstrumentIncreaseAccruedInterest',\n",
       " 'DebtInstrumentIncreaseAdditionalBorrowings',\n",
       " 'DebtInstrumentIncreaseDecreaseForPeriodNet',\n",
       " 'DebtInstrumentIncreaseDecreaseOtherNet',\n",
       " 'DebtInstrumentInterestRateDuringPeriod',\n",
       " 'DebtInstrumentInterestRateEffectivePercentage',\n",
       " 'DebtInstrumentInterestRateStatedPercentage',\n",
       " 'DebtInstrumentPeriodicPayment',\n",
       " 'DebtInstrumentPeriodicPaymentPrincipal',\n",
       " 'DebtInstrumentSinkingFundPayment',\n",
       " 'DebtInstrumentUnamortizedDiscount',\n",
       " 'DebtInstrumentUnamortizedDiscountNoncurrent',\n",
       " 'DebtInstrumentUnamortizedDiscountPremiumAndDebtIssuanceCostsNet',\n",
       " 'DebtInstrumentUnamortizedPremium',\n",
       " 'DebtInstrumentUnusedBorrowingCapacityFee',\n",
       " 'DebtIssuanceCosts',\n",
       " 'DebtIssuanceCostsIncurredDuringNoncashOrPartialNoncashTransaction',\n",
       " 'DebtRelatedCommitmentFeesAndDebtIssuanceCosts',\n",
       " 'DebtSecuritiesAvailableForSaleAllowanceForCreditLossNotPreviouslyRecorded',\n",
       " 'DebtSecuritiesAvailableForSaleChangeInPresentValueExpenseReversal',\n",
       " 'DebtSecuritiesAvailableForSaleGainLoss',\n",
       " 'DebtSecuritiesAvailableForSaleRealizedGain',\n",
       " 'DebtSecuritiesAvailableForSaleRealizedGainLoss',\n",
       " 'DebtSecuritiesAvailableForSaleRealizedGainLossExcludingOtherThanTemporaryImpairment',\n",
       " 'DebtSecuritiesAvailableForSaleRealizedLoss',\n",
       " 'DebtSecuritiesAvailableForSaleUnrealizedGainLoss',\n",
       " 'DebtSecuritiesGainLoss',\n",
       " 'DebtSecuritiesHeldToMaturityAllowanceForCreditLoss',\n",
       " 'DebtSecuritiesHeldToMaturityCreditLossExpenseReversal',\n",
       " 'DebtSecuritiesHeldToMaturityPurchase',\n",
       " 'DebtSecuritiesHeldToMaturityTransferAmount',\n",
       " 'DebtSecuritiesRealizedGainLoss',\n",
       " 'DebtSecuritiesRealizedGainLossExcludingOtherThanTemporaryImpairment',\n",
       " 'DebtSecuritiesTradingGainLoss',\n",
       " 'DebtSecuritiesTradingRealizedGainLoss',\n",
       " 'DebtSecuritiesTradingRealizedLoss',\n",
       " 'DebtSecuritiesTradingUnrealizedGainLoss',\n",
       " 'DebtSecuritiesTradingUnrealizedLoss',\n",
       " 'DebtSecuritiesUnrealizedGainLoss',\n",
       " 'DebtorReorganizationItemsDebtorInPossessionFacilityFinancingCosts',\n",
       " 'DebtorReorganizationItemsDischargeOfClaimsAndLiabilities',\n",
       " 'DebtorReorganizationItemsEmployeeRelatedCharges',\n",
       " 'DebtorReorganizationItemsGainLossOnAssetSalesNet1',\n",
       " 'DebtorReorganizationItemsGainLossOnSettlementOfOtherClaimsNet',\n",
       " 'DebtorReorganizationItemsGainLossOnSettlementOfOtherClaimsNet1',\n",
       " 'DebtorReorganizationItemsInterestIncomeOnAccumulatedCash',\n",
       " 'DebtorReorganizationItemsLegalAndAdvisoryProfessionalFees',\n",
       " 'DebtorReorganizationItemsNetGainLossOnRejectionOfLeasesAndOtherExecutoryContracts1',\n",
       " 'DebtorReorganizationItemsOtherExpenseIncome',\n",
       " 'DebtorReorganizationItemsRevaluationOfAssetsAndLiabilities',\n",
       " 'DebtorReorganizationItemsWriteOffOfDeferredFinancingCostsAndDebtDiscounts',\n",
       " 'DeconsolidationGainOrLossAmount',\n",
       " 'DeconsolidationRevaluationOfRetainedInvestmentGainOrLossAmount',\n",
       " 'DecreaseInRestrictedCash',\n",
       " 'DeferredCompensationArrangementWithIndividualAllocatedShareBasedCompensationExpense',\n",
       " 'DeferredCompensationArrangementWithIndividualCompensationExpense',\n",
       " 'DeferredCompensationArrangementWithIndividualContributionsByEmployer',\n",
       " 'DeferredCompensationArrangementWithIndividualDistributionPaid',\n",
       " 'DeferredCompensationArrangementWithIndividualEmployerContribution',\n",
       " 'DeferredCompensationArrangementWithIndividualFairValueOfSharesIssued',\n",
       " 'DeferredCompensationArrangementWithIndividualSharesIssued',\n",
       " 'DeferredCompensationPlanAssets',\n",
       " 'DeferredCosts',\n",
       " 'DeferredCostsCurrentAndNoncurrent',\n",
       " 'DeferredCreditsAndOtherLiabilities',\n",
       " 'DeferredFederalIncomeTaxExpenseBenefit',\n",
       " 'DeferredFederalStateAndLocalTaxExpenseBenefit',\n",
       " 'DeferredFinanceCostAmortizationExpense',\n",
       " 'DeferredFinanceCostsCurrentNet',\n",
       " 'DeferredFinanceCostsGross',\n",
       " 'DeferredFinanceCostsNet',\n",
       " 'DeferredFinanceCostsNoncurrentGross',\n",
       " 'DeferredFinanceCostsOwnShareLendingArrangementIssuanceCostsAmortizationExpense1',\n",
       " 'DeferredFinanceCostsOwnshareLendingArrangementIssuanceCostsAccumulatedAmortizationAdjustment',\n",
       " 'DeferredFinanceCostsOwnshareLendingArrangementIssuanceCostsAdjustment',\n",
       " 'DeferredFinanceCostsOwnshareLendingArrangementIssuanceCostsAmortizationExpense',\n",
       " 'DeferredFinanceCostsOwnshareLendingArrangementIssuanceCostsAmortizationExpensePeriodIncreaseDecrease',\n",
       " 'DeferredForeignIncomeTaxExpenseBenefit',\n",
       " 'DeferredGainOnSaleOfProperty',\n",
       " 'DeferredIncomeTaxAssetsNet',\n",
       " 'DeferredIncomeTaxExpenseBenefit',\n",
       " 'DeferredIncomeTaxLiabilities',\n",
       " 'DeferredIncomeTaxesAndTaxCredits',\n",
       " 'DeferredOfferingCosts',\n",
       " 'DeferredOtherTaxExpenseBenefit',\n",
       " 'DeferredPolicyAcquisitionCostAmortizationExpense',\n",
       " 'DeferredPolicyAcquisitionCostAmortizationExpenseOther',\n",
       " 'DeferredPolicyAcquisitionCostsAdditions',\n",
       " 'DeferredPolicyAcquisitionCostsAndPresentValueOfFutureProfitsAdditions',\n",
       " 'DeferredPolicyAcquisitionCostsAndPresentValueOfFutureProfitsAmortization',\n",
       " 'DeferredPolicyAcquisitionCostsAndPresentValueOfFutureProfitsAmortization1',\n",
       " 'DeferredPolicyAcquisitionCostsPeriodIncreaseDecrease',\n",
       " 'DeferredPurchasedPowerCosts',\n",
       " 'DeferredRentCredit',\n",
       " 'DeferredRentCreditCurrent',\n",
       " 'DeferredRentCreditNoncurrent',\n",
       " 'DeferredRentReceivablesNet',\n",
       " 'DeferredRevenue',\n",
       " 'DeferredRevenueAdditions',\n",
       " 'DeferredRevenueNoncurrent',\n",
       " 'DeferredRevenuePeriodIncreaseDecrease',\n",
       " 'DeferredRevenueRevenueRecognized',\n",
       " 'DeferredRevenueRevenueRecognized1',\n",
       " 'DeferredSalesInducementsAdditions',\n",
       " 'DeferredSalesInducementsAmortizationExpense',\n",
       " 'DeferredSalesInducementsPeriodIncreaseDecrease',\n",
       " 'DeferredStateAndLocalIncomeTaxExpenseBenefit',\n",
       " 'DeferredTaxAssetsNet',\n",
       " 'DeferredTaxAssetsPropertyPlantAndEquipment',\n",
       " 'DeferredTaxAssetsTaxCreditCarryforwardsResearch',\n",
       " 'DeferredTaxAssetsValuationAllowance',\n",
       " 'DeferredTaxExpenseFromStockOptionsExercised',\n",
       " 'DeferredTaxLiabilities',\n",
       " 'DeferredTaxLiabilitiesNoncurrent',\n",
       " 'DeferredTaxesBusinessCombinationValuationAllowanceAvailableToReduceIncomeTaxExpense',\n",
       " 'DefinedBenefitPlanAccumulatedBenefitObligation',\n",
       " 'DefinedBenefitPlanAccumulatedBenefitObligationIncreaseDecreaseForSettlementAndCurtailment',\n",
       " 'DefinedBenefitPlanActuarialGainLoss',\n",
       " 'DefinedBenefitPlanActuarialGainLossImmediateRecognitionAsComponentInNetPeriodicBenefitCostCredit',\n",
       " 'DefinedBenefitPlanActuarialNetGainsLosses',\n",
       " 'DefinedBenefitPlanAmortizationOfGainsLosses',\n",
       " 'DefinedBenefitPlanAmortizationOfPriorServiceCostCredit',\n",
       " 'DefinedBenefitPlanAmountsRecognizedInOtherComprehensiveIncomeNetGainLossBeforeTax',\n",
       " 'DefinedBenefitPlanBeforeAdoptionOfSFAS158RecognitionProvisionsMinimumPensionLiabilityAdjustment',\n",
       " 'DefinedBenefitPlanBenefitObligationPeriodIncreaseDecrease',\n",
       " 'DefinedBenefitPlanBenefitsPaid',\n",
       " 'DefinedBenefitPlanContributionsByEmployer',\n",
       " 'DefinedBenefitPlanContributionsByPlanParticipants',\n",
       " 'DefinedBenefitPlanCostOfProvidingSpecialOrContractualTerminationBenefitRecognizedDuringPeriod',\n",
       " 'DefinedBenefitPlanCurtailments',\n",
       " 'DefinedBenefitPlanFairValueOfPlanAssetsPeriodIncreaseDecrease',\n",
       " 'DefinedBenefitPlanFutureAmortizationOfGainLoss',\n",
       " 'DefinedBenefitPlanNetPeriodicBenefitCost',\n",
       " 'DefinedBenefitPlanOtherCosts',\n",
       " 'DefinedBenefitPlanPlanAmendments',\n",
       " 'DefinedBenefitPlanPurchasesSalesAndSettlements',\n",
       " 'DefinedBenefitPlanRecognizedNetGainLossDueToCurtailments',\n",
       " 'DefinedBenefitPlanRecognizedNetGainLossDueToSettlements',\n",
       " 'DefinedBenefitPlanRecognizedNetGainLossDueToSettlements1',\n",
       " 'DefinedBenefitPlanRecognizedNetGainLossDueToSettlementsAndCurtailments',\n",
       " 'DefinedBenefitPlanRecognizedNetGainLossDueToSettlementsAndCurtailments1',\n",
       " 'DefinedBenefitPlanSettlementsBenefitObligation',\n",
       " 'DefinedBenefitPlanSettlementsPlanAssets',\n",
       " 'DefinedContributionPlanCostRecognized',\n",
       " 'DefinedContributionPlanEmployerDiscretionaryContributionAmount',\n",
       " 'DefinedContributionPlanIncreaseDecreaseCost',\n",
       " 'DemutualizationByInsuranceEntitySecuritiesIssuedGrossCashProceeds',\n",
       " 'Depletion',\n",
       " 'DepletionNonproduction',\n",
       " 'DepletionOfOilAndGasProperties',\n",
       " 'DepositLiabilitiesAccruedInterest',\n",
       " 'Deposits',\n",
       " 'DepositsAssetsNoncurrent',\n",
       " 'Depreciation',\n",
       " 'DepreciationAmortizationAndAccretionNet',\n",
       " 'DepreciationAndAmortization',\n",
       " 'DepreciationAndAmortizationDiscontinuedOperations',\n",
       " 'DepreciationDepletionAndAmortization',\n",
       " 'DepreciationExpense',\n",
       " 'DepreciationExpenseOnReclassifiedAssets',\n",
       " 'DepreciationNonproduction',\n",
       " 'DepreciationPremisesAndEquipment',\n",
       " 'DerivativeCashReceivedOnHedge',\n",
       " 'DerivativeCostOfHedge',\n",
       " 'DerivativeCostOfHedgeNetOfCashReceived',\n",
       " 'DerivativeFairValueOfDerivativeLiability',\n",
       " 'DerivativeGainLossOnDerivativeNet',\n",
       " 'DerivativeGainOnDerivative',\n",
       " 'DerivativeInstrumentsGainLossReclassificationFromAccumulatedOCIToIncomeEstimatedNetAmountToBeTransferred',\n",
       " 'DerivativeInstrumentsGainLossReclassifiedFromAccumulatedOCIIntoIncomeEffectivePortionNet',\n",
       " 'DerivativeInstrumentsGainLossRecognizedInIncomeIneffectivePortionAndAmountExcludedFromEffectivenessTestingNet',\n",
       " 'DerivativeInstrumentsGainLossRecognizedInIncomeNet',\n",
       " 'DerivativeInstrumentsGainLossRecognizedInOtherComprehensiveIncomeEffectivePortionNet',\n",
       " 'DerivativeInstrumentsGainReclassifiedFromAccumulatedOCIIntoIncomeEffectivePortion',\n",
       " 'DerivativeInstrumentsGainRecognizedInIncome',\n",
       " 'DerivativeInstrumentsLossReclassifiedFromAccumulatedOCIIntoIncomeEffectivePortion',\n",
       " 'DerivativeInstrumentsLossRecognizedInIncome',\n",
       " 'DerivativeInstrumentsLossRecognizedInIncomeIneffectivePortionAndAmountExcludedFromEffectivenessTesting',\n",
       " 'DerivativeInstrumentsNotDesignatedAsHedgingInstrumentsGain',\n",
       " 'DerivativeInstrumentsNotDesignatedAsHedgingInstrumentsGainLossNet',\n",
       " 'DerivativeInstrumentsNotDesignatedAsHedgingInstrumentsLoss',\n",
       " 'DerivativeLiabilities',\n",
       " 'DerivativeLiabilitiesCurrent',\n",
       " 'DerivativeLiabilityCollateralRightToReclaimCashOffset',\n",
       " 'DerivativeLossOnDerivative',\n",
       " 'DerivativeNetHedgeIneffectivenessGainLoss',\n",
       " 'DerivativeNotionalAmount',\n",
       " 'DerivativesUsedInNetInvestmentHedgeGainLossReclassifiedToEarningsNetOfTax',\n",
       " 'DevelopmentCosts',\n",
       " 'DevelopmentProfitsNonoperating',\n",
       " 'DifferenceBetweenReportedAmountAndReportingCurrencyDenominatedAmountValue',\n",
       " 'DilutiveSecuritiesEffectOnBasicEarningsPerShareOther',\n",
       " 'DirectFinancingLeaseImpairmentLoss',\n",
       " 'DirectFinancingLeaseNetInvestmentInLeasePurchase',\n",
       " 'DiscontinuedOperationAmountOfAdjustmentToPriorPeriodGainLossOnDisposalBeforeIncomeTax',\n",
       " 'DiscontinuedOperationAmountOfAdjustmentToPriorPeriodGainLossOnDisposalNetOfTax',\n",
       " 'DiscontinuedOperationAmountOfContinuingCashFlowsAfterDisposal',\n",
       " 'DiscontinuedOperationAmountOfOtherIncomeLossFromDispositionOfDiscontinuedOperationNetOfTax',\n",
       " 'DiscontinuedOperationAmountOfOtherIncomeLossFromDispositionOfDiscontinuedOperationsBeforeIncomeTax',\n",
       " 'DiscontinuedOperationGainLossFromDisposalOfDiscontinuedOperationBeforeIncomeTax',\n",
       " 'DiscontinuedOperationGainLossOnDisposalOfDiscontinuedOperationNetOfTax',\n",
       " 'DiscontinuedOperationIncomeLossFromDiscontinuedOperationBeforeIncomeTax',\n",
       " 'DiscontinuedOperationIncomeLossFromDiscontinuedOperationDuringPhaseOutPeriodBeforeIncomeTax',\n",
       " 'DiscontinuedOperationIncomeLossFromDiscontinuedOperationDuringPhaseOutPeriodNetOfTax',\n",
       " 'DiscontinuedOperationIntercompanyAmountsWithDiscontinuedOperationBeforeDisposalTransactionCosts',\n",
       " 'DiscontinuedOperationProvisionForLossGainOnDisposalBeforeIncomeTax',\n",
       " 'DiscontinuedOperationProvisionForLossGainOnDisposalNetOfTax',\n",
       " 'DiscontinuedOperationTaxEffectOfDiscontinuedOperation',\n",
       " 'DiscontinuedOperationTaxEffectOfIncomeLossFromDisposalOfDiscontinuedOperation',\n",
       " 'DisposalGroupIncludingDiscontinuedOperationAccountsNotesAndLoansReceivableNet',\n",
       " 'DisposalGroupIncludingDiscontinuedOperationCash',\n",
       " 'DisposalGroupIncludingDiscontinuedOperationCashAndCashEquivalents',\n",
       " 'DisposalGroupIncludingDiscontinuedOperationConsideration',\n",
       " 'DisposalGroupIncludingDiscontinuedOperationCostsOfGoodsSold',\n",
       " 'DisposalGroupIncludingDiscontinuedOperationDeferredRevenueCurrent',\n",
       " 'DisposalGroupIncludingDiscontinuedOperationDepreciationAndAmortization',\n",
       " 'DisposalGroupIncludingDiscontinuedOperationForeignCurrencyTranslationGainsLosses',\n",
       " 'DisposalGroupIncludingDiscontinuedOperationGoodwill1',\n",
       " 'DisposalGroupIncludingDiscontinuedOperationGrossProfitLoss',\n",
       " 'DisposalGroupIncludingDiscontinuedOperationIntangibleAssetsNet',\n",
       " 'DisposalGroupIncludingDiscontinuedOperationOperatingIncomeLoss',\n",
       " 'DisposalGroupIncludingDiscontinuedOperationOtherAssets',\n",
       " 'DisposalGroupIncludingDiscontinuedOperationOtherCurrentAssets',\n",
       " 'DisposalGroupIncludingDiscontinuedOperationOtherExpense',\n",
       " 'DisposalGroupIncludingDiscontinuedOperationOtherLiabilities',\n",
       " 'DisposalGroupIncludingDiscontinuedOperationOtherNoncurrentAssets',\n",
       " 'DisposalGroupIncludingDiscontinuedOperationPropertyPlantAndEquipment',\n",
       " 'DisposalGroupIncludingDiscontinuedOperationPropertyPlantAndEquipmentCurrent',\n",
       " 'DisposalGroupIncludingDiscontinuedOperationPropertyPlantAndEquipmentNet',\n",
       " 'DisposalGroupNotDiscontinuedOperationGainLossOnDisposal',\n",
       " 'DisposalGroupNotDiscontinuedOperationLossGainOnWriteDown',\n",
       " 'DistributedEarnings',\n",
       " 'DistributionMadeToLimitedLiabilityCompanyLLCMemberCashDistributionsDeclared',\n",
       " 'DistributionMadeToLimitedLiabilityCompanyLLCMemberCashDistributionsPaid',\n",
       " 'DistributionMadeToLimitedPartnerCashDistributionsDeclared',\n",
       " 'DistributionMadeToLimitedPartnerCashDistributionsPaid',\n",
       " 'DistributionMadeToMemberOrLimitedPartnerCashDistribution',\n",
       " 'DistributionMadeToMemberOrLimitedPartnerCashDistributionsDeclared',\n",
       " 'DistributionMadeToMemberOrLimitedPartnerCashDistributionsPaid',\n",
       " 'DistributionMadeToMemberOrLimitedPartnerDistributionsDeclaredPerUnit',\n",
       " 'DistributionsOnMandatorilyRedeemableSecurities',\n",
       " 'DistributionsPayableToRealEstatePartnerships',\n",
       " 'DividendIncomeOperating',\n",
       " 'DividendPaymentRestrictionsScheduleAmountsPaid',\n",
       " 'Dividends',\n",
       " 'DividendsAndInterestPaid',\n",
       " 'DividendsCash',\n",
       " 'DividendsCommonStock',\n",
       " 'DividendsCommonStockCash',\n",
       " 'DividendsCommonStockPaidinkind',\n",
       " 'DividendsCommonStockStock',\n",
       " 'DividendsPaidinkind',\n",
       " 'DividendsPayable',\n",
       " 'DividendsPayableAmount',\n",
       " 'DividendsPayableAmountPerShare',\n",
       " 'DividendsPayableCurrent',\n",
       " 'DividendsPayableCurrentAndNoncurrent',\n",
       " 'DividendsPreferredStock',\n",
       " 'DividendsPreferredStockCash',\n",
       " 'DividendsPreferredStockPaidinkind',\n",
       " 'DividendsPreferredStockStock',\n",
       " 'DividendsReceivable',\n",
       " 'DividendsShareBasedCompensation',\n",
       " 'DividendsSharebasedCompensationPaidInKind',\n",
       " 'DividendsSharebasedCompensationStock',\n",
       " 'DividendsStock',\n",
       " 'DueFromBanks',\n",
       " 'DueFromJointVentures',\n",
       " 'DueToAffiliateCurrent',\n",
       " 'DueToCorrespondentBrokers',\n",
       " 'DueToOfficersOrStockholdersCurrentAndNoncurrent',\n",
       " 'DueToOtherRelatedPartiesNoncurrent',\n",
       " 'DueToRelatedPartiesCurrent',\n",
       " 'DueToRelatedPartiesCurrentAndNoncurrent',\n",
       " 'EarlyRepaymentOfSeniorDebt',\n",
       " 'EarlyRepaymentOfSubordinatedDebt',\n",
       " 'EarningsLossesOfMinorityInterestAndEquityMethodInvestments',\n",
       " 'EarningsPerShareBasicAndDiluted',\n",
       " 'EffectOfChangeInCashFlowProjectionEstimate',\n",
       " 'EffectOfExchangeRateOnCash',\n",
       " 'EffectOfExchangeRateOnCashAndCashEquivalents',\n",
       " 'EffectOfExchangeRateOnCashAndCashEquivalentsContinuingOperations',\n",
       " 'EffectOfExchangeRateOnCashAndCashEquivalentsDiscontinuedOperations',\n",
       " 'EffectOfExchangeRateOnCashCashEquivalentsRestrictedCashAndRestrictedCashEquivalents',\n",
       " 'EffectOfExchangeRateOnCashCashEquivalentsRestrictedCashAndRestrictedCashEquivalentsDisposalGroupIncludingDiscontinuedOperations',\n",
       " 'EffectOfExchangeRateOnCashCashEquivalentsRestrictedCashAndRestrictedCashEquivalentsIncludingDisposalGroupAndDiscontinuedOperations',\n",
       " 'EffectOfExchangeRateOnCashContinuingOperations',\n",
       " 'EffectOfExchangeRateOnCashDiscontinuedOperations',\n",
       " 'EffectOnFutureEarningsAmount',\n",
       " 'EffectiveIncomeTaxRateContinuingOperations',\n",
       " 'EffectiveIncomeTaxRateReconciliationAtFederalStatutoryIncomeTaxRate',\n",
       " 'EffectiveIncomeTaxRateReconciliationShareBasedCompensationExcessTaxBenefitAmount',\n",
       " 'EffectiveIncomeTaxRateReconciliationTaxCutsAndJobsActOf2017TransitionTaxOnAccumulatedForeignEarningsAmount',\n",
       " 'EmbeddedDerivativeFairValueOfEmbeddedDerivativeLiability',\n",
       " 'EmbeddedDerivativeGainLossOnEmbeddedDerivativeNet',\n",
       " 'EmbeddedDerivativeGainOnEmbeddedDerivative',\n",
       " 'EmbeddedDerivativeLossOnEmbeddedDerivative',\n",
       " 'EmbeddedDerivativeNoLongerBifurcatedAmountReclassifiedToStockholdersEquity',\n",
       " 'EmployeeBenefitsAndShareBasedCompensation',\n",
       " 'EmployeeBenefitsAndShareBasedCompensationNoncash',\n",
       " 'EmployeeServiceShareBasedCompensationAllocationOfRecognizedPeriodCostsCapitalizedAmount',\n",
       " 'EmployeeServiceShareBasedCompensationCashFlowEffectCashUsedToSettleAwards',\n",
       " 'EmployeeServiceShareBasedCompensationCashReceivedFromExerciseOfStockOptions',\n",
       " 'EmployeeServiceShareBasedCompensationNonvestedAwardsTotalCompensationCostNotYetRecognizedStockOptions',\n",
       " 'EmployeeServiceShareBasedCompensationTaxBenefitFromCompensationExpense',\n",
       " 'EmployeeServiceShareBasedCompensationTaxBenefitFromExerciseOfStockOptions',\n",
       " 'EmployeeServiceShareBasedCompensationTaxBenefitRealizedFromExerciseOfStockOptions',\n",
       " 'EmployeeStockOwnershipPlanESOPCashContributionsToESOP',\n",
       " 'EmployeeStockOwnershipPlanESOPCompensationExpense',\n",
       " 'EmployeeStockOwnershipPlanESOPDebtStructureDirectLoanEmployerCashPaymentsUsedForDebtService',\n",
       " 'EmployeeStockOwnershipPlanESOPGainLossOnTransactionsInDeferredShares',\n",
       " 'EmployeeStockOwnershipPlanESOPNumberOfCommittedToBeReleasedShares',\n",
       " 'EmployeeStockOwnershipPlanESOPRepurchaseObligationAmount',\n",
       " 'EmployeeStockOwnershipPlanESOPTaxBenefitOfDividendsPaidToPlan',\n",
       " 'EntertainmentLicenseAgreementForProgramMaterialAmortizationExpense',\n",
       " 'EnvironmentalExpenseAndLiabilities',\n",
       " 'EnvironmentalRemediationExpense',\n",
       " 'EquipmentExpense',\n",
       " 'EquityFairValueAdjustment',\n",
       " 'EquityIssuedInBusinessCombinationFairValueDisclosure',\n",
       " 'EquityMethodInvestmentDeferredGainOnSale',\n",
       " 'EquityMethodInvestmentDividendsOrDistributions',\n",
       " 'EquityMethodInvestmentNetSalesProceeds',\n",
       " 'EquityMethodInvestmentOtherThanTemporaryImpairment',\n",
       " 'EquityMethodInvestmentOwnershipPercentage',\n",
       " 'EquityMethodInvestmentRealizedGainLossOnDisposal',\n",
       " 'EquityMethodInvestmentSoldCarryingAmount',\n",
       " 'EquityMethodInvestmentSummarizedFinancialInformationGrossProfitLoss',\n",
       " 'EquityMethodInvestmentSummarizedFinancialInformationNetIncomeLoss',\n",
       " 'EquityMethodInvestmentSummarizedFinancialInformationRevenue',\n",
       " 'EquityMethodInvestmentUnrealizedIntercompanyProfitLossNotEliminatedAmount',\n",
       " 'EquityMethodInvestments',\n",
       " 'EquityMethodInvestmentsFairValueDisclosure',\n",
       " 'EquitySecuritiesFvNiGainLoss',\n",
       " 'EquitySecuritiesFvNiRealizedGain',\n",
       " 'EquitySecuritiesFvNiRealizedGainLoss',\n",
       " 'EquitySecuritiesFvNiRealizedLoss',\n",
       " 'EquitySecuritiesFvNiUnrealizedGain',\n",
       " 'EquitySecuritiesFvNiUnrealizedGainLoss',\n",
       " 'EquitySecuritiesFvNiUnrealizedLoss',\n",
       " 'EquitySecuritiesWithoutReadilyDeterminableFairValueImpairmentLossAnnualAmount',\n",
       " 'EquitySecuritiesWithoutReadilyDeterminableFairValueUpwardPriceAdjustmentAnnualAmount',\n",
       " 'EscrowDeposit',\n",
       " 'EscrowDepositDisbursementsRelatedToPropertyAcquisition',\n",
       " 'EscrowDepositDisbursementsRelatedToPropertyAcquisition1',\n",
       " 'EscrowDepositsRelatedToPropertySales',\n",
       " 'ExcessTaxBenefitFromShareBasedCompensationFinancingActivities',\n",
       " 'ExcessTaxBenefitFromShareBasedCompensationOperatingActivities',\n",
       " 'ExciseAndSalesTaxes',\n",
       " 'ExpenseRelatedToDistributionOrServicingAndUnderwritingFees',\n",
       " 'ExpensesAndLossesReportingCurrencyDenominatedValue',\n",
       " 'ExplorationAbandonmentAndImpairmentExpense',\n",
       " 'ExplorationAndProductionCosts',\n",
       " 'ExplorationCosts',\n",
       " 'ExplorationExpense',\n",
       " 'ExtendedProductWarrantyAccrualPreexistingIncreaseDecrease',\n",
       " 'ExtendedProductWarrantyAccrualWarrantiesIssued',\n",
       " 'ExtinguishmentOfDebtAmount',\n",
       " 'ExtinguishmentOfDebtGainLossIncomeTax',\n",
       " 'ExtinguishmentOfDebtGainLossNetOfTax',\n",
       " 'ExtraordinaryItemGainOrLossNetOfTaxAttributableToReportingEntity',\n",
       " 'ExtraordinaryItemNetOfTax',\n",
       " 'ExtraordinaryItemsGross',\n",
       " 'FDICIndemnificationAssetAccretionOfDiscount',\n",
       " 'FDICIndemnificationAssetAdditionalEstimatedLosses',\n",
       " 'FDICIndemnificationAssetCashPaymentsReceived',\n",
       " 'FDICIndemnificationAssetNetWriteOffs',\n",
       " 'FDICIndemnificationAssetPeriodIncreaseDecrease',\n",
       " 'FairValueAdjustmentOfWarrants',\n",
       " 'FairValueAssetsAndLiabilitiesMeasuredOnRecurringBasisGainLossIncludedInEarnings',\n",
       " 'FairValueAssetsMeasuredOnRecurringBasisChangeInUnrealizedGainLoss',\n",
       " 'FairValueAssetsMeasuredOnRecurringBasisChangeInUnrealizedGainLossIncludedInInvestmentIncome',\n",
       " 'FairValueAssetsMeasuredOnRecurringBasisChangeInUnrealizedGainLossIncludedInOtherIncome',\n",
       " 'FairValueInstrumentsClassifiedInShareholdersEquityMeasuredOnRecurringBasisChangeInUnrealizedGainLoss',\n",
       " 'FairValueInvestmentsEntitiesThatCalculateNetAssetValuePerShareUnobservableInputInvestmentHoldingsMovementsNet',\n",
       " 'FairValueLiabilitiesMeasuredOnRecurringBasisChangeInUnrealizedGainLoss',\n",
       " 'FairValueLiabilitiesMeasuredOnRecurringBasisChangeInUnrealizedGainLossIncludedInOtherIncome',\n",
       " 'FairValueLiabilitiesMeasuredOnRecurringBasisDebtInstrumentValuationTechniquesChangeInTechniqueQuantificationOfEffect',\n",
       " 'FairValueLiabilitiesMeasuredOnRecurringBasisGainLossIncludedInOtherIncome',\n",
       " 'FairValueMeasuredOnRecurringBasisGainLossIncludedInEarnings',\n",
       " 'FairValueMeasurementWithUnobservableInputsReconciliationLiabilityTransfersIntoLevel3',\n",
       " 'FairValueMeasurementWithUnobservableInputsReconciliationLiabilityTransfersOutOfLevel3',\n",
       " 'FairValueMeasurementWithUnobservableInputsReconciliationRecurringBasisAssetGainLossIncludedInEarnings1',\n",
       " 'FairValueMeasurementWithUnobservableInputsReconciliationRecurringBasisAssetGainLossIncludedInOtherComprehensiveIncome',\n",
       " 'FairValueMeasurementWithUnobservableInputsReconciliationRecurringBasisAssetGainLossIncludedInOtherComprehensiveIncomeLoss',\n",
       " 'FairValueMeasurementWithUnobservableInputsReconciliationRecurringBasisAssetSettlements',\n",
       " 'FairValueMeasurementWithUnobservableInputsReconciliationRecurringBasisLiabilityGainLossIncludedInEarnings',\n",
       " 'FairValueMeasurementWithUnobservableInputsReconciliationRecurringBasisLiabilityGainLossIncludedInOtherComprehensiveIncome',\n",
       " 'FairValueMeasurementWithUnobservableInputsReconciliationRecurringBasisLiabilityIssues',\n",
       " 'FairValueMeasurementWithUnobservableInputsReconciliationRecurringBasisLiabilityPeriodIncreaseDecrease',\n",
       " 'FairValueMeasurementWithUnobservableInputsReconciliationRecurringBasisLiabilityPurchases',\n",
       " 'FairValueMeasurementWithUnobservableInputsReconciliationRecurringBasisLiabilitySettlements',\n",
       " 'FairValueMeasurementWithUnobservableInputsReconciliationsRecurringBasisLiabilityValue',\n",
       " 'FairValueNetDerivativeAssetLiabilityMeasuredOnRecurringBasisChangeInUnrealizedGainLoss',\n",
       " 'FairValueNetDerivativeAssetLiabilityMeasuredOnRecurringBasisUnobservableInputsReconciliationGainLossIncludedInEarnings',\n",
       " 'FairValueNetDerivativeAssetLiabilityMeasuredOnRecurringBasisUnobservableInputsReconciliationPeriodIncreaseDecrease',\n",
       " 'FairValueNetDerivativeAssetLiabilityMeasuredOnRecurringBasisUnobservableInputsReconciliationSettlements',\n",
       " 'FairValueOfAssetsAcquired',\n",
       " 'FairValueOptionChangesInFairValueGainLoss',\n",
       " 'FairValueOptionChangesInFairValueGainLoss1',\n",
       " 'FederalDepositInsuranceCorporationPremiumExpense',\n",
       " 'FederalFundsSold',\n",
       " 'FederalHomeLoanBankAdvancesGeneralDebtObligationsDisclosuresRepaymentAndPenalties',\n",
       " 'FederalHomeLoanBankAssessments',\n",
       " 'FederalIncomeTaxExpenseBenefitContinuingOperations',\n",
       " 'FeesAndCommissions',\n",
       " 'FeesAndCommissionsMortgageBanking',\n",
       " 'FeesAndCommissionsMortgageBankingAndServicing',\n",
       " 'FeesAndCommissionsOther',\n",
       " 'FinanceLeaseImpairmentLoss',\n",
       " 'FinanceLeaseInterestExpense',\n",
       " 'FinanceLeaseInterestPaymentOnLiability',\n",
       " 'FinanceLeasePrincipalPayments',\n",
       " 'FinanceLeaseRightOfUseAssetAmortization',\n",
       " 'FinancialGuaranteeInsuranceContractsPremiumsReceivableAdjustment',\n",
       " 'FinancingInterestExpense',\n",
       " 'FinancingReceivableAllowanceForCreditLossWriteoffAfterRecovery',\n",
       " 'FinancingReceivableAllowanceForCreditLosses',\n",
       " 'FinancingReceivableAllowanceForCreditLossesPeriodIncreaseDecrease',\n",
       " 'FinancingReceivableAllowanceForCreditLossesProvisions',\n",
       " 'FinancingReceivableAllowanceForCreditLossesRecovery',\n",
       " 'FinancingReceivableAllowanceForCreditLossesWriteOffs',\n",
       " 'FinancingReceivableReclassificationToHeldForSale',\n",
       " 'FinancingReceivableSignificantSales',\n",
       " 'FiniteLivedIntangibleAssetsAccumulatedAmortization',\n",
       " 'FiniteLivedIntangibleAssetsAmortizationExpense',\n",
       " 'FiniteLivedIntangibleAssetsAmortizationExpenseYearFour',\n",
       " 'FiniteLivedIntangibleAssetsGross',\n",
       " 'FiniteLivedIntangibleAssetsNet',\n",
       " 'FiniteLivedIntangibleAssetsPeriodIncreaseDecrease',\n",
       " 'FiniteLivedIntangibleAssetsPurchaseAccountingAdjustments',\n",
       " 'FinitelivedIntangibleAssetsAcquired1',\n",
       " 'ForeclosedRealEstateExpense',\n",
       " 'ForeignCurrencyCashFlowHedgeGainLossReclassifiedToEarningsNet',\n",
       " 'ForeignCurrencyTransactionGainBeforeTax',\n",
       " 'ForeignCurrencyTransactionGainLossBeforeTax',\n",
       " 'ForeignCurrencyTransactionGainLossRealized',\n",
       " 'ForeignCurrencyTransactionGainLossUnrealized',\n",
       " 'ForeignCurrencyTransactionLossBeforeTax',\n",
       " 'ForwardContractIndexedToIssuersEquityShares',\n",
       " 'FreshStartAdjustmentIncreaseDecreaseDeferredFinancingCosts',\n",
       " 'FreshStartAdjustmentIncreaseDecreaseLiabilities',\n",
       " 'FundsHeldForClients',\n",
       " 'FundsHeldUnderReinsuranceAgreementsAsset',\n",
       " 'GainFromComponentsExcludedFromAssessmentOfCashFlowHedgeEffectiveness',\n",
       " 'GainLossFromPriceRiskManagementActivity',\n",
       " 'GainLossFromSaleOfFinancialAssetsInSecuritizationsOrAssetBackedFinancingArrangement',\n",
       " 'GainLossOnCashFlowHedgeIneffectivenessNet',\n",
       " 'GainLossOnComponentsExcludedFromAssessmentOfInterestRateCashFlowHedgeEffectiveness',\n",
       " 'GainLossOnCondemnation',\n",
       " 'GainLossOnContractTermination',\n",
       " 'GainLossOnDerivativeInstrumentsHeldForTradingPurposesNet',\n",
       " 'GainLossOnDerivativeInstrumentsNetPretax',\n",
       " 'GainLossOnDiscontinuationOfCashFlowHedgeDueToForecastedTransactionProbableOfNotOccurringNet',\n",
       " 'GainLossOnDiscontinuationOfInterestRateCashFlowHedgeDueToForecastedTransactionProbableOfNotOccurringNet',\n",
       " 'GainLossOnDispositionOfAssets',\n",
       " 'GainLossOnDispositionOfAssets1',\n",
       " 'GainLossOnDispositionOfIntangibleAssets',\n",
       " 'GainLossOnDispositionOfOtherAssets',\n",
       " 'GainLossOnDispositionOfOtherFinancialAssets',\n",
       " 'GainLossOnDispositionOfProperty',\n",
       " 'GainLossOnDispositionOfRealEstateDiscontinuedOperations',\n",
       " 'GainLossOnFairValueHedgeIneffectivenessNet',\n",
       " 'GainLossOnFairValueHedgesRecognizedInEarnings',\n",
       " 'GainLossOnForeignCurrencyCashFlowHedgeIneffectiveness',\n",
       " ...]"
      ]
     },
     "execution_count": null,
     "metadata": {},
     "output_type": "execute_result"
    }
   ],
   "source": []
  },
  {
   "cell_type": "code",
   "execution_count": null,
   "metadata": {},
   "outputs": [],
   "source": [
    "cf_empty_pd = cf_empty_count.toPandas()"
   ]
  },
  {
   "cell_type": "code",
   "execution_count": null,
   "metadata": {},
   "outputs": [
    {
     "data": {
      "text/plain": [
       "(1, 3052)"
      ]
     },
     "execution_count": null,
     "metadata": {},
     "output_type": "execute_result"
    }
   ],
   "source": [
    "cf_empty_pd.shape"
   ]
  },
  {
   "cell_type": "code",
   "execution_count": null,
   "metadata": {},
   "outputs": [],
   "source": [
    "cf_melt_pd = cf_empty_pd.melt(var_name = 'Tag', value_name = \"Count\")\n",
    "cf_melt_pd['diff'] = 133811 -cf_melt_pd['Count']"
   ]
  },
  {
   "cell_type": "code",
   "execution_count": null,
   "metadata": {},
   "outputs": [
    {
     "data": {
      "text/html": [
       "<div>\n",
       "<style scoped>\n",
       "    .dataframe tbody tr th:only-of-type {\n",
       "        vertical-align: middle;\n",
       "    }\n",
       "\n",
       "    .dataframe tbody tr th {\n",
       "        vertical-align: top;\n",
       "    }\n",
       "\n",
       "    .dataframe thead th {\n",
       "        text-align: right;\n",
       "    }\n",
       "</style>\n",
       "<table border=\"1\" class=\"dataframe\">\n",
       "  <thead>\n",
       "    <tr style=\"text-align: right;\">\n",
       "      <th></th>\n",
       "      <th>Tag</th>\n",
       "      <th>Count</th>\n",
       "      <th>diff</th>\n",
       "    </tr>\n",
       "  </thead>\n",
       "  <tbody>\n",
       "    <tr>\n",
       "      <th>350</th>\n",
       "      <td>CashAndCashEquivalentsPeriodIncreaseDecrease</td>\n",
       "      <td>30244</td>\n",
       "      <td>103567</td>\n",
       "    </tr>\n",
       "    <tr>\n",
       "      <th>351</th>\n",
       "      <td>CashAndCashEquivalentsPeriodIncreaseDecreaseEx...</td>\n",
       "      <td>132424</td>\n",
       "      <td>1387</td>\n",
       "    </tr>\n",
       "    <tr>\n",
       "      <th>360</th>\n",
       "      <td>CashCashEquivalentsRestrictedCashAndRestricted...</td>\n",
       "      <td>130603</td>\n",
       "      <td>3208</td>\n",
       "    </tr>\n",
       "    <tr>\n",
       "      <th>361</th>\n",
       "      <td>CashCashEquivalentsRestrictedCashAndRestricted...</td>\n",
       "      <td>119033</td>\n",
       "      <td>14778</td>\n",
       "    </tr>\n",
       "    <tr>\n",
       "      <th>382</th>\n",
       "      <td>CashPeriodIncreaseDecrease</td>\n",
       "      <td>132236</td>\n",
       "      <td>1575</td>\n",
       "    </tr>\n",
       "    <tr>\n",
       "      <th>383</th>\n",
       "      <td>CashPeriodIncreaseDecreaseExcludingExchangeRat...</td>\n",
       "      <td>133766</td>\n",
       "      <td>45</td>\n",
       "    </tr>\n",
       "  </tbody>\n",
       "</table>\n",
       "</div>"
      ],
      "text/plain": [
       "                                                   Tag   Count    diff\n",
       "350       CashAndCashEquivalentsPeriodIncreaseDecrease   30244  103567\n",
       "351  CashAndCashEquivalentsPeriodIncreaseDecreaseEx...  132424    1387\n",
       "360  CashCashEquivalentsRestrictedCashAndRestricted...  130603    3208\n",
       "361  CashCashEquivalentsRestrictedCashAndRestricted...  119033   14778\n",
       "382                         CashPeriodIncreaseDecrease  132236    1575\n",
       "383  CashPeriodIncreaseDecreaseExcludingExchangeRat...  133766      45"
      ]
     },
     "execution_count": null,
     "metadata": {},
     "output_type": "execute_result"
    }
   ],
   "source": [
    "canditates =  ['CashAndCashEquivalentsPeriodIncreaseDecrease','cpy_CashAndCashEquivalentsPeriodIncreaseDecrease',\n",
    " 'CashAndCashEquivalentsPeriodIncreaseDecreaseExcludingExchangeRateEffect',\n",
    " 'CashCashEquivalentsRestrictedCashAndRestrictedCashEquivalentsPeriodIncreaseDecreaseExcludingExchangeRateEffect',\n",
    " 'CashCashEquivalentsRestrictedCashAndRestrictedCashEquivalentsPeriodIncreaseDecreaseIncludingExchangeRateEffect',\n",
    " 'CashPeriodIncreaseDecrease',\n",
    " 'CashPeriodIncreaseDecreaseExcludingExchangeRateEffect']\n",
    "\n",
    "cf_melt_pd[cf_melt_pd['Tag'].isin(canditates)]"
   ]
  },
  {
   "cell_type": "code",
   "execution_count": null,
   "metadata": {},
   "outputs": [],
   "source": [
    "sorted = cf_melt_pd.sort_values('Count', ascending=True)[:100]\n",
    "sorted.reset_index(drop = True, inplace = True)\n",
    "sorted.plot.bar(x = 'Tag', y='Count', figsize = (15,10))"
   ]
  },
  {
   "cell_type": "code",
   "execution_count": null,
   "metadata": {},
   "outputs": [],
   "source": []
  },
  {
   "cell_type": "code",
   "execution_count": null,
   "metadata": {},
   "outputs": [],
   "source": [
    "empty_count = get_empty_count(bs_pivot_value)"
   ]
  },
  {
   "cell_type": "code",
   "execution_count": null,
   "metadata": {},
   "outputs": [],
   "source": [
    "empty_pd = empty_count.toPandas()"
   ]
  },
  {
   "cell_type": "code",
   "execution_count": null,
   "metadata": {},
   "outputs": [],
   "source": [
    "melt_pd = empty_pd.melt(var_name = 'Tag', value_name = \"Count\")\n",
    "# df2 = pd.melt(df, id_vars=[\"location\", \"name\"], var_name=\"Date\", value_name=\"Value\")"
   ]
  },
  {
   "cell_type": "code",
   "execution_count": null,
   "metadata": {},
   "outputs": [
    {
     "data": {
      "text/plain": [
       "Index(['Tag', 'Count'], dtype='object')"
      ]
     },
     "execution_count": null,
     "metadata": {},
     "output_type": "execute_result"
    }
   ],
   "source": [
    "melt_pd.columns"
   ]
  },
  {
   "cell_type": "code",
   "execution_count": null,
   "metadata": {},
   "outputs": [],
   "source": [
    "pd_frame = df_all_selected.where(\"adsh == '0000906345-20-000052' and stmt == 'CF'\").toPandas()\n",
    "#print(pd_frame.sort_values(['report', 'line']))"
   ]
  },
  {
   "cell_type": "code",
   "execution_count": null,
   "metadata": {},
   "outputs": [
    {
     "data": {
      "text/html": [
       "<div>\n",
       "<style scoped>\n",
       "    .dataframe tbody tr th:only-of-type {\n",
       "        vertical-align: middle;\n",
       "    }\n",
       "\n",
       "    .dataframe tbody tr th {\n",
       "        vertical-align: top;\n",
       "    }\n",
       "\n",
       "    .dataframe thead th {\n",
       "        text-align: right;\n",
       "    }\n",
       "</style>\n",
       "<table border=\"1\" class=\"dataframe\">\n",
       "  <thead>\n",
       "    <tr style=\"text-align: right;\">\n",
       "      <th></th>\n",
       "      <th>tag</th>\n",
       "      <th>value</th>\n",
       "      <th>stmt</th>\n",
       "      <th>report</th>\n",
       "      <th>line</th>\n",
       "    </tr>\n",
       "  </thead>\n",
       "  <tbody>\n",
       "    <tr>\n",
       "      <th>12</th>\n",
       "      <td>ProfitLoss</td>\n",
       "      <td>61978000.0</td>\n",
       "      <td>CF</td>\n",
       "      <td>6</td>\n",
       "      <td>2</td>\n",
       "    </tr>\n",
       "    <tr>\n",
       "      <th>13</th>\n",
       "      <td>ProfitLoss</td>\n",
       "      <td>17511000.0</td>\n",
       "      <td>CF</td>\n",
       "      <td>6</td>\n",
       "      <td>2</td>\n",
       "    </tr>\n",
       "    <tr>\n",
       "      <th>3</th>\n",
       "      <td>DepreciationDepletionAndAmortization</td>\n",
       "      <td>184662000.0</td>\n",
       "      <td>CF</td>\n",
       "      <td>6</td>\n",
       "      <td>4</td>\n",
       "    </tr>\n",
       "    <tr>\n",
       "      <th>33</th>\n",
       "      <td>GainLossOnDispositionOfAssets1</td>\n",
       "      <td>382000.0</td>\n",
       "      <td>CF</td>\n",
       "      <td>6</td>\n",
       "      <td>5</td>\n",
       "    </tr>\n",
       "    <tr>\n",
       "      <th>0</th>\n",
       "      <td>EquityMethodInvestmentDividendsOrDistributions</td>\n",
       "      <td>4039000.0</td>\n",
       "      <td>CF</td>\n",
       "      <td>6</td>\n",
       "      <td>6</td>\n",
       "    </tr>\n",
       "    <tr>\n",
       "      <th>15</th>\n",
       "      <td>IncomeLossFromEquityMethodInvestments</td>\n",
       "      <td>3755000.0</td>\n",
       "      <td>CF</td>\n",
       "      <td>6</td>\n",
       "      <td>7</td>\n",
       "    </tr>\n",
       "    <tr>\n",
       "      <th>16</th>\n",
       "      <td>IncomeLossFromEquityMethodInvestments</td>\n",
       "      <td>1600000.0</td>\n",
       "      <td>CF</td>\n",
       "      <td>6</td>\n",
       "      <td>7</td>\n",
       "    </tr>\n",
       "    <tr>\n",
       "      <th>8</th>\n",
       "      <td>ShareBasedCompensation</td>\n",
       "      <td>7046000.0</td>\n",
       "      <td>CF</td>\n",
       "      <td>6</td>\n",
       "      <td>8</td>\n",
       "    </tr>\n",
       "    <tr>\n",
       "      <th>14</th>\n",
       "      <td>OtherOperatingActivitiesCashFlowStatement</td>\n",
       "      <td>-3414000.0</td>\n",
       "      <td>CF</td>\n",
       "      <td>6</td>\n",
       "      <td>10</td>\n",
       "    </tr>\n",
       "    <tr>\n",
       "      <th>19</th>\n",
       "      <td>NetCashProvidedByUsedInOperatingActivities</td>\n",
       "      <td>250174000.0</td>\n",
       "      <td>CF</td>\n",
       "      <td>6</td>\n",
       "      <td>11</td>\n",
       "    </tr>\n",
       "    <tr>\n",
       "      <th>6</th>\n",
       "      <td>PaymentsToDevelopRealEstateAssets</td>\n",
       "      <td>199598000.0</td>\n",
       "      <td>CF</td>\n",
       "      <td>6</td>\n",
       "      <td>13</td>\n",
       "    </tr>\n",
       "    <tr>\n",
       "      <th>24</th>\n",
       "      <td>PaymentsToAcquireRealEstate</td>\n",
       "      <td>0.0</td>\n",
       "      <td>CF</td>\n",
       "      <td>6</td>\n",
       "      <td>14</td>\n",
       "    </tr>\n",
       "    <tr>\n",
       "      <th>31</th>\n",
       "      <td>PaymentsToAcquireOtherPropertyPlantAndEquipment</td>\n",
       "      <td>4871000.0</td>\n",
       "      <td>CF</td>\n",
       "      <td>6</td>\n",
       "      <td>16</td>\n",
       "    </tr>\n",
       "    <tr>\n",
       "      <th>29</th>\n",
       "      <td>PaymentsForProceedsFromOtherInvestingActivities</td>\n",
       "      <td>1920000.0</td>\n",
       "      <td>CF</td>\n",
       "      <td>6</td>\n",
       "      <td>17</td>\n",
       "    </tr>\n",
       "    <tr>\n",
       "      <th>26</th>\n",
       "      <td>NetCashProvidedByUsedInInvestingActivities</td>\n",
       "      <td>-205636000.0</td>\n",
       "      <td>CF</td>\n",
       "      <td>6</td>\n",
       "      <td>18</td>\n",
       "    </tr>\n",
       "    <tr>\n",
       "      <th>9</th>\n",
       "      <td>ProceedsFromLinesOfCredit</td>\n",
       "      <td>358000000.0</td>\n",
       "      <td>CF</td>\n",
       "      <td>6</td>\n",
       "      <td>20</td>\n",
       "    </tr>\n",
       "    <tr>\n",
       "      <th>2</th>\n",
       "      <td>RepaymentsOfLinesOfCredit</td>\n",
       "      <td>402000000.0</td>\n",
       "      <td>CF</td>\n",
       "      <td>6</td>\n",
       "      <td>21</td>\n",
       "    </tr>\n",
       "    <tr>\n",
       "      <th>27</th>\n",
       "      <td>RepaymentsOfNotesPayable</td>\n",
       "      <td>0.0</td>\n",
       "      <td>CF</td>\n",
       "      <td>6</td>\n",
       "      <td>22</td>\n",
       "    </tr>\n",
       "    <tr>\n",
       "      <th>25</th>\n",
       "      <td>ProceedsFromNotesPayable</td>\n",
       "      <td>743103000.0</td>\n",
       "      <td>CF</td>\n",
       "      <td>6</td>\n",
       "      <td>23</td>\n",
       "    </tr>\n",
       "    <tr>\n",
       "      <th>23</th>\n",
       "      <td>PaymentsOfDividends</td>\n",
       "      <td>165085000.0</td>\n",
       "      <td>CF</td>\n",
       "      <td>6</td>\n",
       "      <td>24</td>\n",
       "    </tr>\n",
       "    <tr>\n",
       "      <th>17</th>\n",
       "      <td>ProceedsFromIssuanceOfCommonStock</td>\n",
       "      <td>0.0</td>\n",
       "      <td>CF</td>\n",
       "      <td>6</td>\n",
       "      <td>25</td>\n",
       "    </tr>\n",
       "    <tr>\n",
       "      <th>32</th>\n",
       "      <td>PaymentsOfFinancingCosts</td>\n",
       "      <td>686000.0</td>\n",
       "      <td>CF</td>\n",
       "      <td>6</td>\n",
       "      <td>26</td>\n",
       "    </tr>\n",
       "    <tr>\n",
       "      <th>4</th>\n",
       "      <td>ProceedsFromPaymentsForOtherFinancingActivities</td>\n",
       "      <td>308000.0</td>\n",
       "      <td>CF</td>\n",
       "      <td>6</td>\n",
       "      <td>27</td>\n",
       "    </tr>\n",
       "    <tr>\n",
       "      <th>28</th>\n",
       "      <td>NetCashProvidedByUsedInFinancingActivities</td>\n",
       "      <td>533640000.0</td>\n",
       "      <td>CF</td>\n",
       "      <td>6</td>\n",
       "      <td>28</td>\n",
       "    </tr>\n",
       "    <tr>\n",
       "      <th>1</th>\n",
       "      <td>CashCashEquivalentsRestrictedCashAndRestricted...</td>\n",
       "      <td>578178000.0</td>\n",
       "      <td>CF</td>\n",
       "      <td>6</td>\n",
       "      <td>29</td>\n",
       "    </tr>\n",
       "    <tr>\n",
       "      <th>21</th>\n",
       "      <td>CashCashEquivalentsRestrictedCashAndRestricted...</td>\n",
       "      <td>605677000.0</td>\n",
       "      <td>CF</td>\n",
       "      <td>6</td>\n",
       "      <td>30</td>\n",
       "    </tr>\n",
       "    <tr>\n",
       "      <th>22</th>\n",
       "      <td>CashCashEquivalentsRestrictedCashAndRestricted...</td>\n",
       "      <td>605677000.0</td>\n",
       "      <td>CF</td>\n",
       "      <td>6</td>\n",
       "      <td>31</td>\n",
       "    </tr>\n",
       "    <tr>\n",
       "      <th>5</th>\n",
       "      <td>CashAndCashEquivalentsAtCarryingValue</td>\n",
       "      <td>601584000.0</td>\n",
       "      <td>CF</td>\n",
       "      <td>6</td>\n",
       "      <td>33</td>\n",
       "    </tr>\n",
       "    <tr>\n",
       "      <th>11</th>\n",
       "      <td>RestrictedCashAndCashEquivalents</td>\n",
       "      <td>4093000.0</td>\n",
       "      <td>CF</td>\n",
       "      <td>6</td>\n",
       "      <td>34</td>\n",
       "    </tr>\n",
       "    <tr>\n",
       "      <th>20</th>\n",
       "      <td>CashCashEquivalentsRestrictedCashAndRestricted...</td>\n",
       "      <td>605677000.0</td>\n",
       "      <td>CF</td>\n",
       "      <td>6</td>\n",
       "      <td>35</td>\n",
       "    </tr>\n",
       "    <tr>\n",
       "      <th>30</th>\n",
       "      <td>InterestPaidNet</td>\n",
       "      <td>40551000.0</td>\n",
       "      <td>CF</td>\n",
       "      <td>6</td>\n",
       "      <td>37</td>\n",
       "    </tr>\n",
       "    <tr>\n",
       "      <th>34</th>\n",
       "      <td>IncomeTaxesPaid</td>\n",
       "      <td>146000.0</td>\n",
       "      <td>CF</td>\n",
       "      <td>6</td>\n",
       "      <td>38</td>\n",
       "    </tr>\n",
       "    <tr>\n",
       "      <th>10</th>\n",
       "      <td>Dividends</td>\n",
       "      <td>84138000.0</td>\n",
       "      <td>CF</td>\n",
       "      <td>6</td>\n",
       "      <td>40</td>\n",
       "    </tr>\n",
       "    <tr>\n",
       "      <th>7</th>\n",
       "      <td>ProceedsFromIssuanceOfSharesUnderIncentiveAndS...</td>\n",
       "      <td>20117000.0</td>\n",
       "      <td>CF</td>\n",
       "      <td>6</td>\n",
       "      <td>41</td>\n",
       "    </tr>\n",
       "    <tr>\n",
       "      <th>18</th>\n",
       "      <td>RightOfUseAssetObtainedInExchangeForOperatingL...</td>\n",
       "      <td>69000.0</td>\n",
       "      <td>CF</td>\n",
       "      <td>6</td>\n",
       "      <td>43</td>\n",
       "    </tr>\n",
       "  </tbody>\n",
       "</table>\n",
       "</div>"
      ],
      "text/plain": [
       "                                                  tag        value stmt  \\\n",
       "12                                         ProfitLoss   61978000.0   CF   \n",
       "13                                         ProfitLoss   17511000.0   CF   \n",
       "3                DepreciationDepletionAndAmortization  184662000.0   CF   \n",
       "33                     GainLossOnDispositionOfAssets1     382000.0   CF   \n",
       "0      EquityMethodInvestmentDividendsOrDistributions    4039000.0   CF   \n",
       "15              IncomeLossFromEquityMethodInvestments    3755000.0   CF   \n",
       "16              IncomeLossFromEquityMethodInvestments    1600000.0   CF   \n",
       "8                              ShareBasedCompensation    7046000.0   CF   \n",
       "14          OtherOperatingActivitiesCashFlowStatement   -3414000.0   CF   \n",
       "19         NetCashProvidedByUsedInOperatingActivities  250174000.0   CF   \n",
       "6                   PaymentsToDevelopRealEstateAssets  199598000.0   CF   \n",
       "24                        PaymentsToAcquireRealEstate          0.0   CF   \n",
       "31    PaymentsToAcquireOtherPropertyPlantAndEquipment    4871000.0   CF   \n",
       "29    PaymentsForProceedsFromOtherInvestingActivities    1920000.0   CF   \n",
       "26         NetCashProvidedByUsedInInvestingActivities -205636000.0   CF   \n",
       "9                           ProceedsFromLinesOfCredit  358000000.0   CF   \n",
       "2                           RepaymentsOfLinesOfCredit  402000000.0   CF   \n",
       "27                           RepaymentsOfNotesPayable          0.0   CF   \n",
       "25                           ProceedsFromNotesPayable  743103000.0   CF   \n",
       "23                                PaymentsOfDividends  165085000.0   CF   \n",
       "17                  ProceedsFromIssuanceOfCommonStock          0.0   CF   \n",
       "32                           PaymentsOfFinancingCosts     686000.0   CF   \n",
       "4     ProceedsFromPaymentsForOtherFinancingActivities     308000.0   CF   \n",
       "28         NetCashProvidedByUsedInFinancingActivities  533640000.0   CF   \n",
       "1   CashCashEquivalentsRestrictedCashAndRestricted...  578178000.0   CF   \n",
       "21  CashCashEquivalentsRestrictedCashAndRestricted...  605677000.0   CF   \n",
       "22  CashCashEquivalentsRestrictedCashAndRestricted...  605677000.0   CF   \n",
       "5               CashAndCashEquivalentsAtCarryingValue  601584000.0   CF   \n",
       "11                   RestrictedCashAndCashEquivalents    4093000.0   CF   \n",
       "20  CashCashEquivalentsRestrictedCashAndRestricted...  605677000.0   CF   \n",
       "30                                    InterestPaidNet   40551000.0   CF   \n",
       "34                                    IncomeTaxesPaid     146000.0   CF   \n",
       "10                                          Dividends   84138000.0   CF   \n",
       "7   ProceedsFromIssuanceOfSharesUnderIncentiveAndS...   20117000.0   CF   \n",
       "18  RightOfUseAssetObtainedInExchangeForOperatingL...      69000.0   CF   \n",
       "\n",
       "    report  line  \n",
       "12       6     2  \n",
       "13       6     2  \n",
       "3        6     4  \n",
       "33       6     5  \n",
       "0        6     6  \n",
       "15       6     7  \n",
       "16       6     7  \n",
       "8        6     8  \n",
       "14       6    10  \n",
       "19       6    11  \n",
       "6        6    13  \n",
       "24       6    14  \n",
       "31       6    16  \n",
       "29       6    17  \n",
       "26       6    18  \n",
       "9        6    20  \n",
       "2        6    21  \n",
       "27       6    22  \n",
       "25       6    23  \n",
       "23       6    24  \n",
       "17       6    25  \n",
       "32       6    26  \n",
       "4        6    27  \n",
       "28       6    28  \n",
       "1        6    29  \n",
       "21       6    30  \n",
       "22       6    31  \n",
       "5        6    33  \n",
       "11       6    34  \n",
       "20       6    35  \n",
       "30       6    37  \n",
       "34       6    38  \n",
       "10       6    40  \n",
       "7        6    41  \n",
       "18       6    43  "
      ]
     },
     "execution_count": null,
     "metadata": {},
     "output_type": "execute_result"
    }
   ],
   "source": [
    "pd.set_option('display.max_rows', pd_frame.shape[0]+1)\n",
    "pd_frame[['tag', 'value', 'stmt', 'report', 'line']].sort_values(['report', 'line'])"
   ]
  },
  {
   "cell_type": "code",
   "execution_count": null,
   "metadata": {},
   "outputs": [],
   "source": [
    "gaap_CashCashEquivalentsRestrictedCashAndRestrictedCashEquivalentsPeriodIncreaseDecreaseIncludingExchangeRateEffect\n",
    "\n",
    "gaap_CashCashEquivalentsRestrictedCashAndRestrictedCashEquivalentsIncludingDisposalGroupAndDiscontinuedOperations\n",
    "gaap_CashCashEquivalentsRestrictedCashAndRestrictedCashEquivalentsIncludingDisposalGroupAndDiscontinuedOperations\n",
    "\n",
    "gaap_CashCashEquivalentsRestrictedCashAndRestrictedCashEquivalentsPeriodIncreaseDecreaseIncludingExchangeRateEffect\n",
    "\n",
    "gaap_CashCashEquivalentsRestrictedCashAndRestrictedCashEquivalents\n",
    "gaap_CashCashEquivalentsRestrictedCashAndRestrictedCashEquivalents"
   ]
  },
  {
   "cell_type": "code",
   "execution_count": null,
   "metadata": {},
   "outputs": [],
   "source": [
    "bs_pivot_report.where(\"adsh == '0001492298-20-000025'\").show()"
   ]
  },
  {
   "cell_type": "code",
   "execution_count": null,
   "metadata": {},
   "outputs": [
    {
     "data": {
      "text/plain": [
       "585411"
      ]
     },
     "execution_count": null,
     "metadata": {},
     "output_type": "execute_result"
    }
   ],
   "source": [
    "df_all_selected.select('adsh','stmt').distinct().count()"
   ]
  },
  {
   "cell_type": "code",
   "execution_count": null,
   "metadata": {},
   "outputs": [
    {
     "data": {
      "text/plain": [
       "133872"
      ]
     },
     "execution_count": null,
     "metadata": {},
     "output_type": "execute_result"
    }
   ],
   "source": [
    "df_all_selected.select('adsh','stmt').distinct().where('stmt = \"BS\"').count()"
   ]
  },
  {
   "cell_type": "code",
   "execution_count": null,
   "metadata": {},
   "outputs": [
    {
     "data": {
      "text/plain": [
       "86120"
      ]
     },
     "execution_count": null,
     "metadata": {},
     "output_type": "execute_result"
    }
   ],
   "source": [
    "df_all_selected.select('adsh','stmt').distinct().where('stmt = \"EQ\"').count()"
   ]
  },
  {
   "cell_type": "code",
   "execution_count": null,
   "metadata": {},
   "outputs": [],
   "source": [
    "cf_pivot_pd_copy.columns.tolist()"
   ]
  },
  {
   "cell_type": "code",
   "execution_count": null,
   "metadata": {},
   "outputs": [
    {
     "data": {
      "text/plain": [
       "['EmployeeStockOwnershipPlanESOPRepurchaseObligationAmount',\n",
       " 'PaymentsForRepurchaseOfCommonStock',\n",
       " 'PaymentsForRepurchaseOfCommonStockForEmployeeTaxWithholdingObligations',\n",
       " 'PaymentsForRepurchaseOfConvertiblePreferredStock',\n",
       " 'PaymentsForRepurchaseOfPreferredStockAndPreferenceStock',\n",
       " 'PaymentsForRepurchaseOfRedeemableConvertiblePreferredStock',\n",
       " 'PaymentsForRepurchaseOfRedeemablePreferredStock',\n",
       " 'ProceedsFromRepurchaseOfRedeemablePreferredStock',\n",
       " 'StockRepurchaseProgramRemainingAuthorizedRepurchaseAmount',\n",
       " 'StockRepurchasedAndRetiredDuringPeriodShares',\n",
       " 'StockRepurchasedAndRetiredDuringPeriodValue',\n",
       " 'StockRepurchasedDuringPeriodShares',\n",
       " 'StockRepurchasedDuringPeriodValue',\n",
       " 'TreasuryStockReissuedAtLowerThanRepurchasePrice',\n",
       " 'WeightedAverageNumberOfSharesCommonStockSubjectToRepurchaseOrCancellation']"
      ]
     },
     "execution_count": null,
     "metadata": {},
     "output_type": "execute_result"
    }
   ],
   "source": [
    "#[x for x in cf_pivot_pd_copy.columns.values if ('Dividends' in x)]\n",
    "[x for x in cf_pivot_pd_copy.columns.values if ('Repurchase' in x) and ('Stock' in x)]"
   ]
  },
  {
   "cell_type": "code",
   "execution_count": null,
   "metadata": {},
   "outputs": [
    {
     "data": {
      "text/plain": [
       "['StockholdersEquity',\n",
       " 'StockholdersEquityAttributableToParentNotAllowableForNetCapital',\n",
       " 'StockholdersEquityBeforeTreasuryStock',\n",
       " 'StockholdersEquityIncludingPortionAttributableToNoncontrollingInterest',\n",
       " 'StockholdersEquityIncludingPortionAttributableToNoncontrollingInterestAdjustedBalance1',\n",
       " 'StockholdersEquityNoteStockSplitConversionRatio',\n",
       " 'StockholdersEquityNoteStockSplitConversionRatio1',\n",
       " 'StockholdersEquityNoteSubscriptionsReceivable']"
      ]
     },
     "execution_count": null,
     "metadata": {},
     "output_type": "execute_result"
    }
   ],
   "source": [
    "[x for x in bs_pivot_liabilities_copy.columns.values if x.startswith('StockholdersEquity')]"
   ]
  },
  {
   "cell_type": "code",
   "execution_count": null,
   "metadata": {},
   "outputs": [],
   "source": []
  }
 ],
 "metadata": {
  "kernelspec": {
   "display_name": "Python 3",
   "language": "python",
   "name": "python3"
  }
 },
 "nbformat": 4,
 "nbformat_minor": 4
}
