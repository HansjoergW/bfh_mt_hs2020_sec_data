{
 "cells": [
  {
   "cell_type": "code",
   "execution_count": null,
   "metadata": {},
   "outputs": [],
   "source": [
    "# default_exp uniform"
   ]
  },
  {
   "cell_type": "code",
   "execution_count": null,
   "metadata": {},
   "outputs": [],
   "source": [
    "#hide\n",
    "from nbdev.showdoc import *"
   ]
  },
  {
   "cell_type": "code",
   "execution_count": null,
   "metadata": {},
   "outputs": [],
   "source": [
    "#hide\n",
    "# stellt sicher, dass beim verändern der core library diese wieder neu geladen wird\n",
    "%load_ext autoreload\n",
    "%autoreload 2"
   ]
  },
  {
   "cell_type": "markdown",
   "metadata": {},
   "source": [
    "# uniform and complete"
   ]
  },
  {
   "cell_type": "markdown",
   "metadata": {},
   "source": [
    "..."
   ]
  },
  {
   "cell_type": "markdown",
   "metadata": {},
   "source": [
    "## Basic Settings"
   ]
  },
  {
   "cell_type": "code",
   "execution_count": null,
   "metadata": {},
   "outputs": [],
   "source": [
    "# imports\n",
    "from bfh_mt_hs2020_sec_data.core import get_spark_session # initialze spark\n",
    "from pathlib import Path\n",
    "from typing import List, Tuple, Union, Set\n",
    "from pyspark.sql.dataframe import DataFrame\n",
    "from pyspark.sql.functions import col\n",
    "\n",
    "import pandas as pd\n",
    "\n",
    "import shutil          # provides high level file operations\n",
    "import time            # used to measure execution time\n",
    "import os\n",
    "import sys"
   ]
  },
  {
   "cell_type": "code",
   "execution_count": null,
   "metadata": {},
   "outputs": [],
   "source": [
    "all_pivot_selected_folder  = \"D:/data/parq_pivot_select\"\n",
    "all_pivoted_folder = \"D:/data/parq_pivot_split\"\n",
    "all_processed_folder = \"D:/data/parq_processed/\"\n",
    "\n",
    "col_list =    [\"stmt\",\"cik\",\"ticker\", \"adsh\",\"period\",\"form\",\"tag\",\"value\",\"report\", \"line\", \"fp\", \"uom\"]\n",
    "pivot_attrs = ['value', 'report', 'line']\n",
    "statements =  ['IS','CF','CP','BS','CI','EQ','UN']"
   ]
  },
  {
   "cell_type": "code",
   "execution_count": null,
   "metadata": {},
   "outputs": [
    {
     "data": {
      "text/html": [
       "\n",
       "            <div>\n",
       "                <p><b>SparkSession - in-memory</b></p>\n",
       "                \n",
       "        <div>\n",
       "            <p><b>SparkContext</b></p>\n",
       "\n",
       "            <p><a href=\"http://192.168.0.163:4040\">Spark UI</a></p>\n",
       "\n",
       "            <dl>\n",
       "              <dt>Version</dt>\n",
       "                <dd><code>v2.4.5</code></dd>\n",
       "              <dt>Master</dt>\n",
       "                <dd><code>local[*]</code></dd>\n",
       "              <dt>AppName</dt>\n",
       "                <dd><code>default</code></dd>\n",
       "            </dl>\n",
       "        </div>\n",
       "        \n",
       "            </div>\n",
       "        "
      ],
      "text/plain": [
       "<pyspark.sql.session.SparkSession at 0x16d9c2f6c08>"
      ]
     },
     "execution_count": null,
     "metadata": {},
     "output_type": "execute_result"
    }
   ],
   "source": [
    "# init Spark\n",
    "spark = get_spark_session() # Session anlegen\n",
    "spark # display the moste important information of the session"
   ]
  },
  {
   "cell_type": "markdown",
   "metadata": {},
   "source": [
    "## 00_Tools"
   ]
  },
  {
   "cell_type": "code",
   "execution_count": null,
   "metadata": {},
   "outputs": [],
   "source": [
    "def load_data(stmt:str, attr:str):\n",
    "    return spark.read.parquet(all_pivoted_folder + \"/\" + stmt + \"/\" + attr).cache()"
   ]
  },
  {
   "cell_type": "code",
   "execution_count": null,
   "metadata": {},
   "outputs": [],
   "source": [
    "def spark_shape(self):\n",
    "    return (self.count(), len(self.columns))"
   ]
  },
  {
   "cell_type": "code",
   "execution_count": null,
   "metadata": {},
   "outputs": [],
   "source": [
    "### Get count of both null and missing values in pyspark\n",
    "from pyspark.sql.functions import isnan, when, count, col\n",
    "def get_empty_count(df):\n",
    "    return df.select([count(when(col(c).isNull(), c)).alias(c) for c in df.columns])"
   ]
  },
  {
   "cell_type": "code",
   "execution_count": null,
   "metadata": {},
   "outputs": [],
   "source": [
    "def complete_addition(df, sumcol, addcol1, addcol2):\n",
    "    missingtwo = (df[sumcol].notnull()) & (df[addcol1].notnull()) & (df[addcol2].isnull())\n",
    "    df.loc[missingtwo, addcol2] = df.loc[missingtwo, sumcol] - df.loc[missingtwo, addcol1]\n",
    "\n",
    "    missingone = (df[sumcol].notnull()) & (df[addcol2].notnull()) & (df[addcol1].isnull())\n",
    "    df.loc[missingone, addcol1] = df.loc[missingone, sumcol] - df.loc[missingone, addcol2]  \n",
    "    \n",
    "    missingsum = (df[sumcol].isnull()) & (df[addcol2].notnull()) & (df[addcol1].notnull())\n",
    "    df.loc[missingsum, sumcol] = df.loc[missingsum, addcol1] + df.loc[missingsum, addcol2]  "
   ]
  },
  {
   "cell_type": "code",
   "execution_count": null,
   "metadata": {},
   "outputs": [],
   "source": [
    "def copy_if_not_empty(df, sourcecol, targetcol, to_zero_col = None):\n",
    "    do_copy = (df[sourcecol].notnull()) & (df[targetcol].isnull())\n",
    "    df.loc[do_copy, targetcol] = df.loc[do_copy, sourcecol]\n",
    "    if to_zero_col != None:\n",
    "        df.loc[do_copy, to_zero_col] = 0.0"
   ]
  },
  {
   "cell_type": "code",
   "execution_count": null,
   "metadata": {},
   "outputs": [],
   "source": [
    "def copy_if_not_empty_for_ticker(df, ticker, sourcecol, targetcol, to_zero_col = None):\n",
    "    do_copy = (df['ticker'] == ticker) & (sel_df[sourcecol].notnull()) & (sel_df[targetcol].isnull())\n",
    "\n",
    "    df.loc[do_copy, targetcol] = df.loc[do_copy, sourcecol]\n",
    "    if to_zero_col != None:\n",
    "        df.loc[do_copy, to_zero_col] = 0.0"
   ]
  },
  {
   "cell_type": "code",
   "execution_count": null,
   "metadata": {},
   "outputs": [],
   "source": [
    "def set_to_zero_if_null(df, col):\n",
    "    do_set = (df[col].isnull())\n",
    "    df.loc[do_set, col] = 0.0"
   ]
  },
  {
   "cell_type": "code",
   "execution_count": null,
   "metadata": {},
   "outputs": [],
   "source": [
    "def print_null_count(df, cols):\n",
    "    for col in cols:\n",
    "        print(col, ' ', df[col].isnull().sum())"
   ]
  },
  {
   "cell_type": "markdown",
   "metadata": {},
   "source": [
    "## 00_Raw_data"
   ]
  },
  {
   "cell_type": "code",
   "execution_count": null,
   "metadata": {},
   "outputs": [],
   "source": [
    "df_all_selected = spark.read.parquet(all_pivot_selected_folder).cache()"
   ]
  },
  {
   "cell_type": "markdown",
   "metadata": {},
   "source": [
    "## 01_Balance_Sheet"
   ]
  },
  {
   "cell_type": "code",
   "execution_count": null,
   "metadata": {},
   "outputs": [
    {
     "data": {
      "text/plain": [
       "(133872, 2342)"
      ]
     },
     "execution_count": null,
     "metadata": {},
     "output_type": "execute_result"
    }
   ],
   "source": [
    "bs_pivot_value = load_data(\"BS\", \"value\")\n",
    "spark_shape(bs_pivot_value)"
   ]
  },
  {
   "cell_type": "code",
   "execution_count": null,
   "metadata": {},
   "outputs": [],
   "source": [
    "bs_pivot_pd = bs_pivot_value.toPandas()"
   ]
  },
  {
   "cell_type": "code",
   "execution_count": null,
   "metadata": {},
   "outputs": [],
   "source": [
    "bs_pivot_pd_copy = bs_pivot_pd.copy()"
   ]
  },
  {
   "cell_type": "markdown",
   "metadata": {},
   "source": [
    "### Assets"
   ]
  },
  {
   "cell_type": "code",
   "execution_count": null,
   "metadata": {},
   "outputs": [
    {
     "name": "stdout",
     "output_type": "stream",
     "text": [
      "Assets   579\n",
      "AssetsNoncurrent   127026\n",
      "AssetsCurrent   30421\n"
     ]
    }
   ],
   "source": [
    "print_null_count(bs_pivot_pd_copy, ['Assets','AssetsNoncurrent','AssetsCurrent'])"
   ]
  },
  {
   "cell_type": "code",
   "execution_count": null,
   "metadata": {},
   "outputs": [],
   "source": [
    "copy_if_not_empty(bs_pivot_pd_copy, 'AssetsNet', 'Assets')\n",
    "complete_addition(bs_pivot_pd_copy, 'Assets', 'AssetsCurrent', 'AssetsNoncurrent')\n",
    "# if Assets contains data and current not, copy from Assets to current and set noncurrent to 0.0\n",
    "copy_if_not_empty(bs_pivot_pd_copy, 'Assets', 'AssetsCurrent', 'AssetsNoncurrent')\n",
    "# if AssetsCurrent contains data and Assets does not, copy to Assets ans set noncurrent t 0.0\n",
    "copy_if_not_empty(bs_pivot_pd_copy, 'AssetsCurrent', 'Assets', 'AssetsNoncurrent')"
   ]
  },
  {
   "cell_type": "code",
   "execution_count": null,
   "metadata": {},
   "outputs": [
    {
     "name": "stdout",
     "output_type": "stream",
     "text": [
      "Assets   419\n",
      "AssetsNoncurrent   419\n",
      "AssetsCurrent   419\n"
     ]
    }
   ],
   "source": [
    "print_null_count(bs_pivot_pd_copy, ['Assets','AssetsNoncurrent','AssetsCurrent'])"
   ]
  },
  {
   "cell_type": "code",
   "execution_count": null,
   "metadata": {},
   "outputs": [
    {
     "data": {
      "text/plain": [
       "(133872, 2342)"
      ]
     },
     "execution_count": null,
     "metadata": {},
     "output_type": "execute_result"
    }
   ],
   "source": [
    "bs_pivot_pd_copy.shape"
   ]
  },
  {
   "cell_type": "markdown",
   "metadata": {},
   "source": [
    "### Liabilities"
   ]
  },
  {
   "cell_type": "code",
   "execution_count": null,
   "metadata": {},
   "outputs": [
    {
     "name": "stdout",
     "output_type": "stream",
     "text": [
      "Liabilities   34118\n",
      "LiabilitiesNoncurrent   117766\n",
      "LiabilitiesCurrent   30837\n"
     ]
    }
   ],
   "source": [
    "print_null_count(bs_pivot_pd_copy, ['Liabilities','LiabilitiesNoncurrent','LiabilitiesCurrent'])"
   ]
  },
  {
   "cell_type": "code",
   "execution_count": null,
   "metadata": {},
   "outputs": [],
   "source": [
    "complete_addition(bs_pivot_pd_copy, 'Liabilities', 'LiabilitiesCurrent', 'LiabilitiesNoncurrent')\n",
    "# if Liabilities contains data and current is empty, copy to current and set NonCurrent to 0.0\n",
    "copy_if_not_empty(bs_pivot_pd_copy, 'Liabilities', 'LiabilitiesCurrent', 'LiabilitiesNoncurrent')\n",
    "# if only current Liabilities, copy to Liabilities and set Noncurrent to 0.0\n",
    "copy_if_not_empty(bs_pivot_pd_copy, 'LiabilitiesCurrent', 'Liabilities', 'LiabilitiesNoncurrent')"
   ]
  },
  {
   "cell_type": "code",
   "execution_count": null,
   "metadata": {},
   "outputs": [
    {
     "name": "stdout",
     "output_type": "stream",
     "text": [
      "Liabilities   783\n",
      "LiabilitiesNoncurrent   781\n",
      "LiabilitiesCurrent   783\n"
     ]
    }
   ],
   "source": [
    "print_null_count(bs_pivot_pd_copy, ['Liabilities','LiabilitiesNoncurrent','LiabilitiesCurrent'])"
   ]
  },
  {
   "cell_type": "code",
   "execution_count": null,
   "metadata": {},
   "outputs": [
    {
     "data": {
      "text/plain": [
       "(133872, 2342)"
      ]
     },
     "execution_count": null,
     "metadata": {},
     "output_type": "execute_result"
    }
   ],
   "source": [
    "bs_pivot_pd_copy.shape"
   ]
  },
  {
   "cell_type": "markdown",
   "metadata": {},
   "source": [
    "### Equity"
   ]
  },
  {
   "cell_type": "code",
   "execution_count": null,
   "metadata": {},
   "outputs": [
    {
     "name": "stdout",
     "output_type": "stream",
     "text": [
      "StockholdersEquity   12883\n",
      "RetainedEarningsAccumulatedDeficit   10583\n",
      "LiabilitiesAndStockholdersEquity   710\n"
     ]
    }
   ],
   "source": [
    "print_null_count(bs_pivot_pd_copy, ['StockholdersEquity','RetainedEarningsAccumulatedDeficit','LiabilitiesAndStockholdersEquity'])"
   ]
  },
  {
   "cell_type": "code",
   "execution_count": null,
   "metadata": {},
   "outputs": [],
   "source": [
    "copy_if_not_empty(bs_pivot_pd_copy, 'Assets', 'LiabilitiesAndStockholdersEquity') # has to be the same\n",
    "copy_if_not_empty(bs_pivot_pd_copy, 'PartnersCapital', 'StockholdersEquity') # if there is partner capital, we consider it the same as stockholder equity\n",
    "copy_if_not_empty(bs_pivot_pd_copy, 'StockholdersEquityIncludingPortionAttributableToNoncontrollingInterest', 'StockholdersEquity') #dito\n",
    "set_to_zero_if_null(bs_pivot_pd_copy, 'RetainedEarningsAccumulatedDeficit')"
   ]
  },
  {
   "cell_type": "code",
   "execution_count": null,
   "metadata": {},
   "outputs": [
    {
     "name": "stdout",
     "output_type": "stream",
     "text": [
      "StockholdersEquity   1277\n",
      "RetainedEarningsAccumulatedDeficit   0\n",
      "LiabilitiesAndStockholdersEquity   409\n"
     ]
    }
   ],
   "source": [
    "print_null_count(bs_pivot_pd_copy, ['StockholdersEquity','RetainedEarningsAccumulatedDeficit','LiabilitiesAndStockholdersEquity'])"
   ]
  },
  {
   "cell_type": "code",
   "execution_count": null,
   "metadata": {},
   "outputs": [
    {
     "data": {
      "text/plain": [
       "(133872, 2342)"
      ]
     },
     "execution_count": null,
     "metadata": {},
     "output_type": "execute_result"
    }
   ],
   "source": [
    "bs_pivot_pd_copy.shape"
   ]
  },
  {
   "cell_type": "markdown",
   "metadata": {},
   "source": [
    "### Clean empty companies"
   ]
  },
  {
   "cell_type": "code",
   "execution_count": null,
   "metadata": {},
   "outputs": [],
   "source": [
    "bs_cols_selected = bs_pivot_pd_copy[[\"cik\",\"ticker\", \"adsh\",\"period\",\"form\", \n",
    "                                     'Assets','AssetsNoncurrent', 'AssetsCurrent', \n",
    "                                     'Liabilities','LiabilitiesNoncurrent','LiabilitiesCurrent', \n",
    "                                     'StockholdersEquity','RetainedEarningsAccumulatedDeficit']]"
   ]
  },
  {
   "cell_type": "code",
   "execution_count": null,
   "metadata": {},
   "outputs": [],
   "source": [
    "incomplete_ciks = bs_cols_selected[bs_cols_selected.isnull().sum(axis=1) > 0].cik.unique()"
   ]
  },
  {
   "cell_type": "code",
   "execution_count": null,
   "metadata": {},
   "outputs": [],
   "source": [
    "bs_cols_cleaned = bs_cols_selected[~bs_pivot_pd_copy.cik.isin(incomplete_ciks)]"
   ]
  },
  {
   "cell_type": "code",
   "execution_count": null,
   "metadata": {},
   "outputs": [
    {
     "data": {
      "text/plain": [
       "0"
      ]
     },
     "execution_count": null,
     "metadata": {},
     "output_type": "execute_result"
    }
   ],
   "source": [
    "bs_cols_cleaned.isnull().sum(axis=1).sum()"
   ]
  },
  {
   "cell_type": "markdown",
   "metadata": {},
   "source": [
    "### Save"
   ]
  },
  {
   "cell_type": "code",
   "execution_count": null,
   "metadata": {},
   "outputs": [],
   "source": [
    "bs_cols_cleaned.to_csv(all_processed_folder + \"bs.csv\", index=False)"
   ]
  },
  {
   "cell_type": "code",
   "execution_count": null,
   "metadata": {},
   "outputs": [],
   "source": []
  },
  {
   "cell_type": "markdown",
   "metadata": {},
   "source": [
    "# xx_trials"
   ]
  },
  {
   "cell_type": "code",
   "execution_count": null,
   "metadata": {},
   "outputs": [
    {
     "data": {
      "text/plain": [
       "34"
      ]
     },
     "execution_count": null,
     "metadata": {},
     "output_type": "execute_result"
    }
   ],
   "source": [
    "selected = bs_piivot_pd_copy['ticker'] == 'FXE'\n",
    "sel_df = bs_piivot_pd_copy.loc[selected]\n",
    "do_copy = (sel_df['AssetsCurrent'].notnull()) & (sel_df['Assets'].isnull())\n",
    "do_copy.sum()"
   ]
  },
  {
   "cell_type": "code",
   "execution_count": null,
   "metadata": {},
   "outputs": [
    {
     "data": {
      "text/html": [
       "<div>\n",
       "<style scoped>\n",
       "    .dataframe tbody tr th:only-of-type {\n",
       "        vertical-align: middle;\n",
       "    }\n",
       "\n",
       "    .dataframe tbody tr th {\n",
       "        vertical-align: top;\n",
       "    }\n",
       "\n",
       "    .dataframe thead th {\n",
       "        text-align: right;\n",
       "    }\n",
       "</style>\n",
       "<table border=\"1\" class=\"dataframe\">\n",
       "  <thead>\n",
       "    <tr style=\"text-align: right;\">\n",
       "      <th></th>\n",
       "      <th>cik</th>\n",
       "      <th>ticker</th>\n",
       "      <th>adsh</th>\n",
       "      <th>period</th>\n",
       "      <th>StockholdersEquityBeforeTreasuryStock</th>\n",
       "      <th>LiabilitiesAndStockholdersEquity</th>\n",
       "      <th>RetainedEarningsAccumulatedDeficit</th>\n",
       "    </tr>\n",
       "  </thead>\n",
       "  <tbody>\n",
       "    <tr>\n",
       "      <th>119910</th>\n",
       "      <td>9892</td>\n",
       "      <td>BCR</td>\n",
       "      <td>0001193125-09-155929</td>\n",
       "      <td>2009-06-30</td>\n",
       "      <td>NaN</td>\n",
       "      <td>2.762700e+09</td>\n",
       "      <td>1.097400e+09</td>\n",
       "    </tr>\n",
       "    <tr>\n",
       "      <th>19396</th>\n",
       "      <td>1357615</td>\n",
       "      <td>KBR</td>\n",
       "      <td>0001140361-09-017252</td>\n",
       "      <td>2009-06-30</td>\n",
       "      <td>NaN</td>\n",
       "      <td>5.647000e+09</td>\n",
       "      <td>7.320000e+08</td>\n",
       "    </tr>\n",
       "    <tr>\n",
       "      <th>5106</th>\n",
       "      <td>783325</td>\n",
       "      <td>WEC</td>\n",
       "      <td>0000107815-09-000047</td>\n",
       "      <td>2009-06-30</td>\n",
       "      <td>NaN</td>\n",
       "      <td>1.229830e+10</td>\n",
       "      <td>0.000000e+00</td>\n",
       "    </tr>\n",
       "    <tr>\n",
       "      <th>104965</th>\n",
       "      <td>1037676</td>\n",
       "      <td>ACI</td>\n",
       "      <td>0000950123-09-031842</td>\n",
       "      <td>2009-06-30</td>\n",
       "      <td>NaN</td>\n",
       "      <td>4.028997e+09</td>\n",
       "      <td>4.684620e+08</td>\n",
       "    </tr>\n",
       "    <tr>\n",
       "      <th>92620</th>\n",
       "      <td>72903</td>\n",
       "      <td>XEL</td>\n",
       "      <td>0001104659-09-046313</td>\n",
       "      <td>2009-06-30</td>\n",
       "      <td>NaN</td>\n",
       "      <td>2.498725e+10</td>\n",
       "      <td>0.000000e+00</td>\n",
       "    </tr>\n",
       "    <tr>\n",
       "      <th>...</th>\n",
       "      <td>...</td>\n",
       "      <td>...</td>\n",
       "      <td>...</td>\n",
       "      <td>...</td>\n",
       "      <td>...</td>\n",
       "      <td>...</td>\n",
       "      <td>...</td>\n",
       "    </tr>\n",
       "    <tr>\n",
       "      <th>26879</th>\n",
       "      <td>1089819</td>\n",
       "      <td>CNL</td>\n",
       "      <td>0001089819-20-000013</td>\n",
       "      <td>2020-06-30</td>\n",
       "      <td>NaN</td>\n",
       "      <td>7.729180e+09</td>\n",
       "      <td>0.000000e+00</td>\n",
       "    </tr>\n",
       "    <tr>\n",
       "      <th>8114</th>\n",
       "      <td>783325</td>\n",
       "      <td>WEC</td>\n",
       "      <td>0000107815-20-000246</td>\n",
       "      <td>2020-06-30</td>\n",
       "      <td>NaN</td>\n",
       "      <td>3.504200e+10</td>\n",
       "      <td>6.222800e+09</td>\n",
       "    </tr>\n",
       "    <tr>\n",
       "      <th>40671</th>\n",
       "      <td>799233</td>\n",
       "      <td>HTLD</td>\n",
       "      <td>0000799233-20-000044</td>\n",
       "      <td>2020-06-30</td>\n",
       "      <td>NaN</td>\n",
       "      <td>9.304990e+08</td>\n",
       "      <td>8.558300e+08</td>\n",
       "    </tr>\n",
       "    <tr>\n",
       "      <th>91662</th>\n",
       "      <td>1549922</td>\n",
       "      <td>SMLP</td>\n",
       "      <td>0001564590-20-038480</td>\n",
       "      <td>2020-06-30</td>\n",
       "      <td>NaN</td>\n",
       "      <td>2.586502e+09</td>\n",
       "      <td>0.000000e+00</td>\n",
       "    </tr>\n",
       "    <tr>\n",
       "      <th>69179</th>\n",
       "      <td>65172</td>\n",
       "      <td>MSB</td>\n",
       "      <td>0001558370-20-011056</td>\n",
       "      <td>2020-07-31</td>\n",
       "      <td>NaN</td>\n",
       "      <td>1.293815e+07</td>\n",
       "      <td>0.000000e+00</td>\n",
       "    </tr>\n",
       "  </tbody>\n",
       "</table>\n",
       "<p>868 rows × 7 columns</p>\n",
       "</div>"
      ],
      "text/plain": [
       "            cik ticker                  adsh      period  \\\n",
       "119910     9892    BCR  0001193125-09-155929  2009-06-30   \n",
       "19396   1357615    KBR  0001140361-09-017252  2009-06-30   \n",
       "5106     783325    WEC  0000107815-09-000047  2009-06-30   \n",
       "104965  1037676    ACI  0000950123-09-031842  2009-06-30   \n",
       "92620     72903    XEL  0001104659-09-046313  2009-06-30   \n",
       "...         ...    ...                   ...         ...   \n",
       "26879   1089819    CNL  0001089819-20-000013  2020-06-30   \n",
       "8114     783325    WEC  0000107815-20-000246  2020-06-30   \n",
       "40671    799233   HTLD  0000799233-20-000044  2020-06-30   \n",
       "91662   1549922   SMLP  0001564590-20-038480  2020-06-30   \n",
       "69179     65172    MSB  0001558370-20-011056  2020-07-31   \n",
       "\n",
       "        StockholdersEquityBeforeTreasuryStock  \\\n",
       "119910                                    NaN   \n",
       "19396                                     NaN   \n",
       "5106                                      NaN   \n",
       "104965                                    NaN   \n",
       "92620                                     NaN   \n",
       "...                                       ...   \n",
       "26879                                     NaN   \n",
       "8114                                      NaN   \n",
       "40671                                     NaN   \n",
       "91662                                     NaN   \n",
       "69179                                     NaN   \n",
       "\n",
       "        LiabilitiesAndStockholdersEquity  RetainedEarningsAccumulatedDeficit  \n",
       "119910                      2.762700e+09                        1.097400e+09  \n",
       "19396                       5.647000e+09                        7.320000e+08  \n",
       "5106                        1.229830e+10                        0.000000e+00  \n",
       "104965                      4.028997e+09                        4.684620e+08  \n",
       "92620                       2.498725e+10                        0.000000e+00  \n",
       "...                                  ...                                 ...  \n",
       "26879                       7.729180e+09                        0.000000e+00  \n",
       "8114                        3.504200e+10                        6.222800e+09  \n",
       "40671                       9.304990e+08                        8.558300e+08  \n",
       "91662                       2.586502e+09                        0.000000e+00  \n",
       "69179                       1.293815e+07                        0.000000e+00  \n",
       "\n",
       "[868 rows x 7 columns]"
      ]
     },
     "execution_count": null,
     "metadata": {},
     "output_type": "execute_result"
    }
   ],
   "source": [
    "bs_pivot_liabilities_copy[(bs_pivot_liabilities_copy.StockholdersEquity.isnull())  ][[\"cik\",\"ticker\", \"adsh\",\"period\", \"StockholdersEquityBeforeTreasuryStock\", \"LiabilitiesAndStockholdersEquity\", \"RetainedEarningsAccumulatedDeficit\"]].sort_values(by=['period'])"
   ]
  },
  {
   "cell_type": "code",
   "execution_count": null,
   "metadata": {},
   "outputs": [
    {
     "data": {
      "text/html": [
       "<div>\n",
       "<style scoped>\n",
       "    .dataframe tbody tr th:only-of-type {\n",
       "        vertical-align: middle;\n",
       "    }\n",
       "\n",
       "    .dataframe tbody tr th {\n",
       "        vertical-align: top;\n",
       "    }\n",
       "\n",
       "    .dataframe thead th {\n",
       "        text-align: right;\n",
       "    }\n",
       "</style>\n",
       "<table border=\"1\" class=\"dataframe\">\n",
       "  <thead>\n",
       "    <tr style=\"text-align: right;\">\n",
       "      <th></th>\n",
       "      <th>cik</th>\n",
       "      <th>ticker</th>\n",
       "      <th>adsh</th>\n",
       "      <th>period</th>\n",
       "      <th>Assets</th>\n",
       "      <th>StockholdersEquity</th>\n",
       "      <th>LiabilitiesAndStockholdersEquity</th>\n",
       "      <th>RetainedEarningsAccumulatedDeficit</th>\n",
       "    </tr>\n",
       "  </thead>\n",
       "  <tbody>\n",
       "    <tr>\n",
       "      <th>14125</th>\n",
       "      <td>97476</td>\n",
       "      <td>TXN</td>\n",
       "      <td>0001140361-09-017223</td>\n",
       "      <td>2009-06-30</td>\n",
       "      <td>1.151000e+10</td>\n",
       "      <td>NaN</td>\n",
       "      <td>1.151000e+10</td>\n",
       "      <td>2.116300e+10</td>\n",
       "    </tr>\n",
       "    <tr>\n",
       "      <th>5967</th>\n",
       "      <td>890801</td>\n",
       "      <td>MFE</td>\n",
       "      <td>0000950123-09-031492</td>\n",
       "      <td>2009-06-30</td>\n",
       "      <td>3.710919e+09</td>\n",
       "      <td>NaN</td>\n",
       "      <td>3.710919e+09</td>\n",
       "      <td>6.208520e+08</td>\n",
       "    </tr>\n",
       "    <tr>\n",
       "      <th>78888</th>\n",
       "      <td>1170650</td>\n",
       "      <td>MHS</td>\n",
       "      <td>0000950123-09-027011</td>\n",
       "      <td>2009-06-30</td>\n",
       "      <td>1.777026e+10</td>\n",
       "      <td>NaN</td>\n",
       "      <td>1.777030e+10</td>\n",
       "      <td>4.532500e+09</td>\n",
       "    </tr>\n",
       "    <tr>\n",
       "      <th>71915</th>\n",
       "      <td>1140859</td>\n",
       "      <td>ABC</td>\n",
       "      <td>0000950123-09-030790</td>\n",
       "      <td>2009-06-30</td>\n",
       "      <td>1.273575e+10</td>\n",
       "      <td>NaN</td>\n",
       "      <td>1.273575e+10</td>\n",
       "      <td>2.806404e+09</td>\n",
       "    </tr>\n",
       "    <tr>\n",
       "      <th>128768</th>\n",
       "      <td>1004440</td>\n",
       "      <td>CEG</td>\n",
       "      <td>0001047469-09-007384</td>\n",
       "      <td>2009-06-30</td>\n",
       "      <td>1.999840e+10</td>\n",
       "      <td>NaN</td>\n",
       "      <td>1.999840e+10</td>\n",
       "      <td>2.002700e+09</td>\n",
       "    </tr>\n",
       "    <tr>\n",
       "      <th>...</th>\n",
       "      <td>...</td>\n",
       "      <td>...</td>\n",
       "      <td>...</td>\n",
       "      <td>...</td>\n",
       "      <td>...</td>\n",
       "      <td>...</td>\n",
       "      <td>...</td>\n",
       "      <td>...</td>\n",
       "    </tr>\n",
       "    <tr>\n",
       "      <th>13387</th>\n",
       "      <td>29644</td>\n",
       "      <td>DCI</td>\n",
       "      <td>0000029644-20-000046</td>\n",
       "      <td>2020-07-31</td>\n",
       "      <td>2.244600e+09</td>\n",
       "      <td>NaN</td>\n",
       "      <td>2.244600e+09</td>\n",
       "      <td>1.430000e+09</td>\n",
       "    </tr>\n",
       "    <tr>\n",
       "      <th>69179</th>\n",
       "      <td>65172</td>\n",
       "      <td>MSB</td>\n",
       "      <td>0001558370-20-011056</td>\n",
       "      <td>2020-07-31</td>\n",
       "      <td>1.293815e+07</td>\n",
       "      <td>NaN</td>\n",
       "      <td>1.293815e+07</td>\n",
       "      <td>0.000000e+00</td>\n",
       "    </tr>\n",
       "    <tr>\n",
       "      <th>13338</th>\n",
       "      <td>1041859</td>\n",
       "      <td>PLCE</td>\n",
       "      <td>0001628280-20-013276</td>\n",
       "      <td>2020-07-31</td>\n",
       "      <td>1.167939e+09</td>\n",
       "      <td>NaN</td>\n",
       "      <td>1.167939e+09</td>\n",
       "      <td>-6.386200e+07</td>\n",
       "    </tr>\n",
       "    <tr>\n",
       "      <th>64756</th>\n",
       "      <td>900075</td>\n",
       "      <td>CPRT</td>\n",
       "      <td>0000900075-20-000021</td>\n",
       "      <td>2020-07-31</td>\n",
       "      <td>3.455261e+09</td>\n",
       "      <td>NaN</td>\n",
       "      <td>3.455261e+09</td>\n",
       "      <td>1.937853e+09</td>\n",
       "    </tr>\n",
       "    <tr>\n",
       "      <th>42167</th>\n",
       "      <td>1750</td>\n",
       "      <td>AIR</td>\n",
       "      <td>0001104659-20-108360</td>\n",
       "      <td>2020-08-31</td>\n",
       "      <td>1.713800e+09</td>\n",
       "      <td>NaN</td>\n",
       "      <td>1.713800e+09</td>\n",
       "      <td>6.914000e+08</td>\n",
       "    </tr>\n",
       "  </tbody>\n",
       "</table>\n",
       "<p>9236 rows × 8 columns</p>\n",
       "</div>"
      ],
      "text/plain": [
       "            cik ticker                  adsh      period        Assets  \\\n",
       "14125     97476    TXN  0001140361-09-017223  2009-06-30  1.151000e+10   \n",
       "5967     890801    MFE  0000950123-09-031492  2009-06-30  3.710919e+09   \n",
       "78888   1170650    MHS  0000950123-09-027011  2009-06-30  1.777026e+10   \n",
       "71915   1140859    ABC  0000950123-09-030790  2009-06-30  1.273575e+10   \n",
       "128768  1004440    CEG  0001047469-09-007384  2009-06-30  1.999840e+10   \n",
       "...         ...    ...                   ...         ...           ...   \n",
       "13387     29644    DCI  0000029644-20-000046  2020-07-31  2.244600e+09   \n",
       "69179     65172    MSB  0001558370-20-011056  2020-07-31  1.293815e+07   \n",
       "13338   1041859   PLCE  0001628280-20-013276  2020-07-31  1.167939e+09   \n",
       "64756    900075   CPRT  0000900075-20-000021  2020-07-31  3.455261e+09   \n",
       "42167      1750    AIR  0001104659-20-108360  2020-08-31  1.713800e+09   \n",
       "\n",
       "        StockholdersEquity  LiabilitiesAndStockholdersEquity  \\\n",
       "14125                  NaN                      1.151000e+10   \n",
       "5967                   NaN                      3.710919e+09   \n",
       "78888                  NaN                      1.777030e+10   \n",
       "71915                  NaN                      1.273575e+10   \n",
       "128768                 NaN                      1.999840e+10   \n",
       "...                    ...                               ...   \n",
       "13387                  NaN                      2.244600e+09   \n",
       "69179                  NaN                      1.293815e+07   \n",
       "13338                  NaN                      1.167939e+09   \n",
       "64756                  NaN                      3.455261e+09   \n",
       "42167                  NaN                      1.713800e+09   \n",
       "\n",
       "        RetainedEarningsAccumulatedDeficit  \n",
       "14125                         2.116300e+10  \n",
       "5967                          6.208520e+08  \n",
       "78888                         4.532500e+09  \n",
       "71915                         2.806404e+09  \n",
       "128768                        2.002700e+09  \n",
       "...                                    ...  \n",
       "13387                         1.430000e+09  \n",
       "69179                         0.000000e+00  \n",
       "13338                        -6.386200e+07  \n",
       "64756                         1.937853e+09  \n",
       "42167                         6.914000e+08  \n",
       "\n",
       "[9236 rows x 8 columns]"
      ]
     },
     "execution_count": null,
     "metadata": {},
     "output_type": "execute_result"
    }
   ],
   "source": [
    "bs_pivot_liabilities_copy[(bs_pivot_liabilities_copy.StockholdersEquity.isnull())][[\"cik\",\"ticker\", \"adsh\",\"period\", \"Assets\", \"StockholdersEquity\", \"LiabilitiesAndStockholdersEquity\", \"RetainedEarningsAccumulatedDeficit\"]].sort_values(by=['period'])"
   ]
  },
  {
   "cell_type": "code",
   "execution_count": null,
   "metadata": {},
   "outputs": [
    {
     "ename": "KeyError",
     "evalue": "\"['line', 'report'] not in index\"",
     "output_type": "error",
     "traceback": [
      "\u001b[1;31m---------------------------------------------------------------------------\u001b[0m",
      "\u001b[1;31mKeyError\u001b[0m                                  Traceback (most recent call last)",
      "\u001b[1;32m<ipython-input-166-7219c605d87f>\u001b[0m in \u001b[0;36m<module>\u001b[1;34m\u001b[0m\n\u001b[1;32m----> 1\u001b[1;33m \u001b[0mbs_pivot_liabilities_copy\u001b[0m\u001b[1;33m[\u001b[0m\u001b[1;33m(\u001b[0m\u001b[0mbs_pivot_liabilities_copy\u001b[0m\u001b[1;33m.\u001b[0m\u001b[0madsh\u001b[0m \u001b[1;33m==\u001b[0m \u001b[1;34m'0001104659-09-029605'\u001b[0m\u001b[1;33m)\u001b[0m\u001b[1;33m]\u001b[0m\u001b[1;33m[\u001b[0m\u001b[1;33m[\u001b[0m\u001b[1;34m\"cik\"\u001b[0m\u001b[1;33m,\u001b[0m\u001b[1;34m\"ticker\"\u001b[0m\u001b[1;33m,\u001b[0m \u001b[1;34m\"adsh\"\u001b[0m\u001b[1;33m,\u001b[0m\u001b[1;34m\"period\"\u001b[0m\u001b[1;33m,\u001b[0m\u001b[1;34m\"report\"\u001b[0m\u001b[1;33m,\u001b[0m \u001b[1;34m\"line\"\u001b[0m\u001b[1;33m]\u001b[0m\u001b[1;33m]\u001b[0m\u001b[1;33m.\u001b[0m\u001b[0msort_values\u001b[0m\u001b[1;33m(\u001b[0m\u001b[0mby\u001b[0m\u001b[1;33m=\u001b[0m\u001b[1;33m[\u001b[0m\u001b[1;34m'period'\u001b[0m\u001b[1;33m]\u001b[0m\u001b[1;33m)\u001b[0m\u001b[1;33m\u001b[0m\u001b[1;33m\u001b[0m\u001b[0m\n\u001b[0m",
      "\u001b[1;32mC:\\ieu\\Anaconda3\\envs\\spark\\lib\\site-packages\\pandas\\core\\frame.py\u001b[0m in \u001b[0;36m__getitem__\u001b[1;34m(self, key)\u001b[0m\n\u001b[0;32m   2804\u001b[0m             \u001b[1;32mif\u001b[0m \u001b[0mis_iterator\u001b[0m\u001b[1;33m(\u001b[0m\u001b[0mkey\u001b[0m\u001b[1;33m)\u001b[0m\u001b[1;33m:\u001b[0m\u001b[1;33m\u001b[0m\u001b[1;33m\u001b[0m\u001b[0m\n\u001b[0;32m   2805\u001b[0m                 \u001b[0mkey\u001b[0m \u001b[1;33m=\u001b[0m \u001b[0mlist\u001b[0m\u001b[1;33m(\u001b[0m\u001b[0mkey\u001b[0m\u001b[1;33m)\u001b[0m\u001b[1;33m\u001b[0m\u001b[1;33m\u001b[0m\u001b[0m\n\u001b[1;32m-> 2806\u001b[1;33m             \u001b[0mindexer\u001b[0m \u001b[1;33m=\u001b[0m \u001b[0mself\u001b[0m\u001b[1;33m.\u001b[0m\u001b[0mloc\u001b[0m\u001b[1;33m.\u001b[0m\u001b[0m_get_listlike_indexer\u001b[0m\u001b[1;33m(\u001b[0m\u001b[0mkey\u001b[0m\u001b[1;33m,\u001b[0m \u001b[0maxis\u001b[0m\u001b[1;33m=\u001b[0m\u001b[1;36m1\u001b[0m\u001b[1;33m,\u001b[0m \u001b[0mraise_missing\u001b[0m\u001b[1;33m=\u001b[0m\u001b[1;32mTrue\u001b[0m\u001b[1;33m)\u001b[0m\u001b[1;33m[\u001b[0m\u001b[1;36m1\u001b[0m\u001b[1;33m]\u001b[0m\u001b[1;33m\u001b[0m\u001b[1;33m\u001b[0m\u001b[0m\n\u001b[0m\u001b[0;32m   2807\u001b[0m \u001b[1;33m\u001b[0m\u001b[0m\n\u001b[0;32m   2808\u001b[0m         \u001b[1;31m# take() does not accept boolean indexers\u001b[0m\u001b[1;33m\u001b[0m\u001b[1;33m\u001b[0m\u001b[1;33m\u001b[0m\u001b[0m\n",
      "\u001b[1;32mC:\\ieu\\Anaconda3\\envs\\spark\\lib\\site-packages\\pandas\\core\\indexing.py\u001b[0m in \u001b[0;36m_get_listlike_indexer\u001b[1;34m(self, key, axis, raise_missing)\u001b[0m\n\u001b[0;32m   1551\u001b[0m \u001b[1;33m\u001b[0m\u001b[0m\n\u001b[0;32m   1552\u001b[0m         self._validate_read_indexer(\n\u001b[1;32m-> 1553\u001b[1;33m             \u001b[0mkeyarr\u001b[0m\u001b[1;33m,\u001b[0m \u001b[0mindexer\u001b[0m\u001b[1;33m,\u001b[0m \u001b[0mo\u001b[0m\u001b[1;33m.\u001b[0m\u001b[0m_get_axis_number\u001b[0m\u001b[1;33m(\u001b[0m\u001b[0maxis\u001b[0m\u001b[1;33m)\u001b[0m\u001b[1;33m,\u001b[0m \u001b[0mraise_missing\u001b[0m\u001b[1;33m=\u001b[0m\u001b[0mraise_missing\u001b[0m\u001b[1;33m\u001b[0m\u001b[1;33m\u001b[0m\u001b[0m\n\u001b[0m\u001b[0;32m   1554\u001b[0m         )\n\u001b[0;32m   1555\u001b[0m         \u001b[1;32mreturn\u001b[0m \u001b[0mkeyarr\u001b[0m\u001b[1;33m,\u001b[0m \u001b[0mindexer\u001b[0m\u001b[1;33m\u001b[0m\u001b[1;33m\u001b[0m\u001b[0m\n",
      "\u001b[1;32mC:\\ieu\\Anaconda3\\envs\\spark\\lib\\site-packages\\pandas\\core\\indexing.py\u001b[0m in \u001b[0;36m_validate_read_indexer\u001b[1;34m(self, key, indexer, axis, raise_missing)\u001b[0m\n\u001b[0;32m   1644\u001b[0m             \u001b[1;32mif\u001b[0m \u001b[1;32mnot\u001b[0m \u001b[1;33m(\u001b[0m\u001b[0mself\u001b[0m\u001b[1;33m.\u001b[0m\u001b[0mname\u001b[0m \u001b[1;33m==\u001b[0m \u001b[1;34m\"loc\"\u001b[0m \u001b[1;32mand\u001b[0m \u001b[1;32mnot\u001b[0m \u001b[0mraise_missing\u001b[0m\u001b[1;33m)\u001b[0m\u001b[1;33m:\u001b[0m\u001b[1;33m\u001b[0m\u001b[1;33m\u001b[0m\u001b[0m\n\u001b[0;32m   1645\u001b[0m                 \u001b[0mnot_found\u001b[0m \u001b[1;33m=\u001b[0m \u001b[0mlist\u001b[0m\u001b[1;33m(\u001b[0m\u001b[0mset\u001b[0m\u001b[1;33m(\u001b[0m\u001b[0mkey\u001b[0m\u001b[1;33m)\u001b[0m \u001b[1;33m-\u001b[0m \u001b[0mset\u001b[0m\u001b[1;33m(\u001b[0m\u001b[0max\u001b[0m\u001b[1;33m)\u001b[0m\u001b[1;33m)\u001b[0m\u001b[1;33m\u001b[0m\u001b[1;33m\u001b[0m\u001b[0m\n\u001b[1;32m-> 1646\u001b[1;33m                 \u001b[1;32mraise\u001b[0m \u001b[0mKeyError\u001b[0m\u001b[1;33m(\u001b[0m\u001b[1;34mf\"{not_found} not in index\"\u001b[0m\u001b[1;33m)\u001b[0m\u001b[1;33m\u001b[0m\u001b[1;33m\u001b[0m\u001b[0m\n\u001b[0m\u001b[0;32m   1647\u001b[0m \u001b[1;33m\u001b[0m\u001b[0m\n\u001b[0;32m   1648\u001b[0m             \u001b[1;31m# we skip the warning on Categorical/Interval\u001b[0m\u001b[1;33m\u001b[0m\u001b[1;33m\u001b[0m\u001b[1;33m\u001b[0m\u001b[0m\n",
      "\u001b[1;31mKeyError\u001b[0m: \"['line', 'report'] not in index\""
     ]
    }
   ],
   "source": [
    "bs_pivot_liabilities_copy[(bs_pivot_liabilities_copy.adsh == '0001104659-09-029605')][[\"cik\",\"ticker\", \"adsh\",\"period\",\"report\", \"line\"]].sort_values(by=['period'])"
   ]
  },
  {
   "cell_type": "code",
   "execution_count": null,
   "metadata": {},
   "outputs": [],
   "source": []
  },
  {
   "cell_type": "code",
   "execution_count": null,
   "metadata": {},
   "outputs": [],
   "source": []
  },
  {
   "cell_type": "code",
   "execution_count": null,
   "metadata": {},
   "outputs": [],
   "source": [
    "empty_count = get_empty_count(bs_pivot_value)"
   ]
  },
  {
   "cell_type": "code",
   "execution_count": null,
   "metadata": {},
   "outputs": [],
   "source": [
    "empty_pd = empty_count.toPandas()"
   ]
  },
  {
   "cell_type": "code",
   "execution_count": null,
   "metadata": {},
   "outputs": [],
   "source": [
    "melt_pd = empty_pd.melt(var_name = 'Tag', value_name = \"Count\")\n",
    "# df2 = pd.melt(df, id_vars=[\"location\", \"name\"], var_name=\"Date\", value_name=\"Value\")"
   ]
  },
  {
   "cell_type": "code",
   "execution_count": null,
   "metadata": {},
   "outputs": [
    {
     "data": {
      "text/plain": [
       "Index(['Tag', 'Count'], dtype='object')"
      ]
     },
     "execution_count": null,
     "metadata": {},
     "output_type": "execute_result"
    }
   ],
   "source": [
    "melt_pd.columns"
   ]
  },
  {
   "cell_type": "code",
   "execution_count": null,
   "metadata": {},
   "outputs": [
    {
     "data": {
      "text/html": [
       "<div>\n",
       "<style scoped>\n",
       "    .dataframe tbody tr th:only-of-type {\n",
       "        vertical-align: middle;\n",
       "    }\n",
       "\n",
       "    .dataframe tbody tr th {\n",
       "        vertical-align: top;\n",
       "    }\n",
       "\n",
       "    .dataframe thead th {\n",
       "        text-align: right;\n",
       "    }\n",
       "</style>\n",
       "<table border=\"1\" class=\"dataframe\">\n",
       "  <thead>\n",
       "    <tr style=\"text-align: right;\">\n",
       "      <th></th>\n",
       "      <th>stmt</th>\n",
       "      <th>cik</th>\n",
       "      <th>ticker</th>\n",
       "      <th>adsh</th>\n",
       "      <th>period</th>\n",
       "      <th>form</th>\n",
       "      <th>tag</th>\n",
       "      <th>value</th>\n",
       "      <th>report</th>\n",
       "      <th>line</th>\n",
       "      <th>fp</th>\n",
       "      <th>uom</th>\n",
       "    </tr>\n",
       "  </thead>\n",
       "  <tbody>\n",
       "    <tr>\n",
       "      <th>5</th>\n",
       "      <td>BS</td>\n",
       "      <td>1750</td>\n",
       "      <td>AIR</td>\n",
       "      <td>0001104659-20-108360</td>\n",
       "      <td>2020-08-31</td>\n",
       "      <td>10-Q</td>\n",
       "      <td>CashAndCashEquivalentsAtCarryingValue</td>\n",
       "      <td>1.077000e+08</td>\n",
       "      <td>2</td>\n",
       "      <td>3</td>\n",
       "      <td>Q1</td>\n",
       "      <td>USD</td>\n",
       "    </tr>\n",
       "    <tr>\n",
       "      <th>10</th>\n",
       "      <td>BS</td>\n",
       "      <td>1750</td>\n",
       "      <td>AIR</td>\n",
       "      <td>0001104659-20-108360</td>\n",
       "      <td>2020-08-31</td>\n",
       "      <td>10-Q</td>\n",
       "      <td>RestrictedCashAndCashEquivalentsAtCarryingValue</td>\n",
       "      <td>6.400000e+06</td>\n",
       "      <td>2</td>\n",
       "      <td>4</td>\n",
       "      <td>Q1</td>\n",
       "      <td>USD</td>\n",
       "    </tr>\n",
       "    <tr>\n",
       "      <th>38</th>\n",
       "      <td>BS</td>\n",
       "      <td>1750</td>\n",
       "      <td>AIR</td>\n",
       "      <td>0001104659-20-108360</td>\n",
       "      <td>2020-08-31</td>\n",
       "      <td>10-Q</td>\n",
       "      <td>AccountsReceivableNetCurrent</td>\n",
       "      <td>1.667000e+08</td>\n",
       "      <td>2</td>\n",
       "      <td>5</td>\n",
       "      <td>Q1</td>\n",
       "      <td>USD</td>\n",
       "    </tr>\n",
       "    <tr>\n",
       "      <th>32</th>\n",
       "      <td>BS</td>\n",
       "      <td>1750</td>\n",
       "      <td>AIR</td>\n",
       "      <td>0001104659-20-108360</td>\n",
       "      <td>2020-08-31</td>\n",
       "      <td>10-Q</td>\n",
       "      <td>ContractWithCustomerAssetNetCurrent</td>\n",
       "      <td>4.520000e+07</td>\n",
       "      <td>2</td>\n",
       "      <td>6</td>\n",
       "      <td>Q1</td>\n",
       "      <td>USD</td>\n",
       "    </tr>\n",
       "    <tr>\n",
       "      <th>17</th>\n",
       "      <td>BS</td>\n",
       "      <td>1750</td>\n",
       "      <td>AIR</td>\n",
       "      <td>0001104659-20-108360</td>\n",
       "      <td>2020-08-31</td>\n",
       "      <td>10-Q</td>\n",
       "      <td>InventoryNet</td>\n",
       "      <td>5.977000e+08</td>\n",
       "      <td>2</td>\n",
       "      <td>7</td>\n",
       "      <td>Q1</td>\n",
       "      <td>USD</td>\n",
       "    </tr>\n",
       "    <tr>\n",
       "      <th>1</th>\n",
       "      <td>BS</td>\n",
       "      <td>1750</td>\n",
       "      <td>AIR</td>\n",
       "      <td>0001104659-20-108360</td>\n",
       "      <td>2020-08-31</td>\n",
       "      <td>10-Q</td>\n",
       "      <td>AssetsOfDisposalGroupIncludingDiscontinuedOper...</td>\n",
       "      <td>2.200000e+07</td>\n",
       "      <td>2</td>\n",
       "      <td>9</td>\n",
       "      <td>Q1</td>\n",
       "      <td>USD</td>\n",
       "    </tr>\n",
       "    <tr>\n",
       "      <th>12</th>\n",
       "      <td>BS</td>\n",
       "      <td>1750</td>\n",
       "      <td>AIR</td>\n",
       "      <td>0001104659-20-108360</td>\n",
       "      <td>2020-08-31</td>\n",
       "      <td>10-Q</td>\n",
       "      <td>OtherAssetsCurrent</td>\n",
       "      <td>6.160000e+07</td>\n",
       "      <td>2</td>\n",
       "      <td>10</td>\n",
       "      <td>Q1</td>\n",
       "      <td>USD</td>\n",
       "    </tr>\n",
       "    <tr>\n",
       "      <th>31</th>\n",
       "      <td>BS</td>\n",
       "      <td>1750</td>\n",
       "      <td>AIR</td>\n",
       "      <td>0001104659-20-108360</td>\n",
       "      <td>2020-08-31</td>\n",
       "      <td>10-Q</td>\n",
       "      <td>AssetsCurrent</td>\n",
       "      <td>1.074200e+09</td>\n",
       "      <td>2</td>\n",
       "      <td>11</td>\n",
       "      <td>Q1</td>\n",
       "      <td>USD</td>\n",
       "    </tr>\n",
       "    <tr>\n",
       "      <th>26</th>\n",
       "      <td>BS</td>\n",
       "      <td>1750</td>\n",
       "      <td>AIR</td>\n",
       "      <td>0001104659-20-108360</td>\n",
       "      <td>2020-08-31</td>\n",
       "      <td>10-Q</td>\n",
       "      <td>PropertyPlantAndEquipmentNet</td>\n",
       "      <td>1.270000e+08</td>\n",
       "      <td>2</td>\n",
       "      <td>12</td>\n",
       "      <td>Q1</td>\n",
       "      <td>USD</td>\n",
       "    </tr>\n",
       "    <tr>\n",
       "      <th>9</th>\n",
       "      <td>BS</td>\n",
       "      <td>1750</td>\n",
       "      <td>AIR</td>\n",
       "      <td>0001104659-20-108360</td>\n",
       "      <td>2020-08-31</td>\n",
       "      <td>10-Q</td>\n",
       "      <td>IntangibleAssetsNetIncludingGoodwill</td>\n",
       "      <td>1.231000e+08</td>\n",
       "      <td>2</td>\n",
       "      <td>14</td>\n",
       "      <td>Q1</td>\n",
       "      <td>USD</td>\n",
       "    </tr>\n",
       "    <tr>\n",
       "      <th>0</th>\n",
       "      <td>BS</td>\n",
       "      <td>1750</td>\n",
       "      <td>AIR</td>\n",
       "      <td>0001104659-20-108360</td>\n",
       "      <td>2020-08-31</td>\n",
       "      <td>10-Q</td>\n",
       "      <td>OperatingLeaseRightOfUseAsset</td>\n",
       "      <td>8.580000e+07</td>\n",
       "      <td>2</td>\n",
       "      <td>15</td>\n",
       "      <td>Q1</td>\n",
       "      <td>USD</td>\n",
       "    </tr>\n",
       "    <tr>\n",
       "      <th>35</th>\n",
       "      <td>BS</td>\n",
       "      <td>1750</td>\n",
       "      <td>AIR</td>\n",
       "      <td>0001104659-20-108360</td>\n",
       "      <td>2020-08-31</td>\n",
       "      <td>10-Q</td>\n",
       "      <td>OtherAssetsNoncurrent</td>\n",
       "      <td>1.018000e+08</td>\n",
       "      <td>2</td>\n",
       "      <td>17</td>\n",
       "      <td>Q1</td>\n",
       "      <td>USD</td>\n",
       "    </tr>\n",
       "    <tr>\n",
       "      <th>7</th>\n",
       "      <td>BS</td>\n",
       "      <td>1750</td>\n",
       "      <td>AIR</td>\n",
       "      <td>0001104659-20-108360</td>\n",
       "      <td>2020-08-31</td>\n",
       "      <td>10-Q</td>\n",
       "      <td>Assets</td>\n",
       "      <td>1.713800e+09</td>\n",
       "      <td>2</td>\n",
       "      <td>19</td>\n",
       "      <td>Q1</td>\n",
       "      <td>USD</td>\n",
       "    </tr>\n",
       "    <tr>\n",
       "      <th>19</th>\n",
       "      <td>BS</td>\n",
       "      <td>1750</td>\n",
       "      <td>AIR</td>\n",
       "      <td>0001104659-20-108360</td>\n",
       "      <td>2020-08-31</td>\n",
       "      <td>10-Q</td>\n",
       "      <td>AccountsPayableCurrent</td>\n",
       "      <td>1.798000e+08</td>\n",
       "      <td>2</td>\n",
       "      <td>22</td>\n",
       "      <td>Q1</td>\n",
       "      <td>USD</td>\n",
       "    </tr>\n",
       "    <tr>\n",
       "      <th>33</th>\n",
       "      <td>BS</td>\n",
       "      <td>1750</td>\n",
       "      <td>AIR</td>\n",
       "      <td>0001104659-20-108360</td>\n",
       "      <td>2020-08-31</td>\n",
       "      <td>10-Q</td>\n",
       "      <td>AccruedLiabilitiesCurrent</td>\n",
       "      <td>1.450000e+08</td>\n",
       "      <td>2</td>\n",
       "      <td>23</td>\n",
       "      <td>Q1</td>\n",
       "      <td>USD</td>\n",
       "    </tr>\n",
       "    <tr>\n",
       "      <th>27</th>\n",
       "      <td>BS</td>\n",
       "      <td>1750</td>\n",
       "      <td>AIR</td>\n",
       "      <td>0001104659-20-108360</td>\n",
       "      <td>2020-08-31</td>\n",
       "      <td>10-Q</td>\n",
       "      <td>LiabilitiesOfDisposalGroupIncludingDiscontinue...</td>\n",
       "      <td>2.870000e+07</td>\n",
       "      <td>2</td>\n",
       "      <td>25</td>\n",
       "      <td>Q1</td>\n",
       "      <td>USD</td>\n",
       "    </tr>\n",
       "    <tr>\n",
       "      <th>4</th>\n",
       "      <td>BS</td>\n",
       "      <td>1750</td>\n",
       "      <td>AIR</td>\n",
       "      <td>0001104659-20-108360</td>\n",
       "      <td>2020-08-31</td>\n",
       "      <td>10-Q</td>\n",
       "      <td>LiabilitiesCurrent</td>\n",
       "      <td>3.943000e+08</td>\n",
       "      <td>2</td>\n",
       "      <td>26</td>\n",
       "      <td>Q1</td>\n",
       "      <td>USD</td>\n",
       "    </tr>\n",
       "    <tr>\n",
       "      <th>15</th>\n",
       "      <td>BS</td>\n",
       "      <td>1750</td>\n",
       "      <td>AIR</td>\n",
       "      <td>0001104659-20-108360</td>\n",
       "      <td>2020-08-31</td>\n",
       "      <td>10-Q</td>\n",
       "      <td>LongTermDebtNoncurrent</td>\n",
       "      <td>2.551000e+08</td>\n",
       "      <td>2</td>\n",
       "      <td>27</td>\n",
       "      <td>Q1</td>\n",
       "      <td>USD</td>\n",
       "    </tr>\n",
       "    <tr>\n",
       "      <th>18</th>\n",
       "      <td>BS</td>\n",
       "      <td>1750</td>\n",
       "      <td>AIR</td>\n",
       "      <td>0001104659-20-108360</td>\n",
       "      <td>2020-08-31</td>\n",
       "      <td>10-Q</td>\n",
       "      <td>OperatingLeaseLiabilityNoncurrent</td>\n",
       "      <td>6.800000e+07</td>\n",
       "      <td>2</td>\n",
       "      <td>28</td>\n",
       "      <td>Q1</td>\n",
       "      <td>USD</td>\n",
       "    </tr>\n",
       "    <tr>\n",
       "      <th>30</th>\n",
       "      <td>BS</td>\n",
       "      <td>1750</td>\n",
       "      <td>AIR</td>\n",
       "      <td>0001104659-20-108360</td>\n",
       "      <td>2020-08-31</td>\n",
       "      <td>10-Q</td>\n",
       "      <td>DeferredRevenueNoncurrent</td>\n",
       "      <td>7.020000e+07</td>\n",
       "      <td>2</td>\n",
       "      <td>29</td>\n",
       "      <td>Q1</td>\n",
       "      <td>USD</td>\n",
       "    </tr>\n",
       "    <tr>\n",
       "      <th>20</th>\n",
       "      <td>BS</td>\n",
       "      <td>1750</td>\n",
       "      <td>AIR</td>\n",
       "      <td>0001104659-20-108360</td>\n",
       "      <td>2020-08-31</td>\n",
       "      <td>10-Q</td>\n",
       "      <td>OtherLiabilities</td>\n",
       "      <td>3.560000e+07</td>\n",
       "      <td>2</td>\n",
       "      <td>30</td>\n",
       "      <td>Q1</td>\n",
       "      <td>USD</td>\n",
       "    </tr>\n",
       "    <tr>\n",
       "      <th>13</th>\n",
       "      <td>BS</td>\n",
       "      <td>1750</td>\n",
       "      <td>AIR</td>\n",
       "      <td>0001104659-20-108360</td>\n",
       "      <td>2020-08-31</td>\n",
       "      <td>10-Q</td>\n",
       "      <td>LiabilitiesNoncurrent</td>\n",
       "      <td>4.289000e+08</td>\n",
       "      <td>2</td>\n",
       "      <td>31</td>\n",
       "      <td>Q1</td>\n",
       "      <td>USD</td>\n",
       "    </tr>\n",
       "    <tr>\n",
       "      <th>22</th>\n",
       "      <td>BS</td>\n",
       "      <td>1750</td>\n",
       "      <td>AIR</td>\n",
       "      <td>0001104659-20-108360</td>\n",
       "      <td>2020-08-31</td>\n",
       "      <td>10-Q</td>\n",
       "      <td>PreferredStockValue</td>\n",
       "      <td>NaN</td>\n",
       "      <td>2</td>\n",
       "      <td>33</td>\n",
       "      <td>Q1</td>\n",
       "      <td>USD</td>\n",
       "    </tr>\n",
       "    <tr>\n",
       "      <th>24</th>\n",
       "      <td>BS</td>\n",
       "      <td>1750</td>\n",
       "      <td>AIR</td>\n",
       "      <td>0001104659-20-108360</td>\n",
       "      <td>2020-08-31</td>\n",
       "      <td>10-Q</td>\n",
       "      <td>CommonStockValue</td>\n",
       "      <td>4.530000e+07</td>\n",
       "      <td>2</td>\n",
       "      <td>34</td>\n",
       "      <td>Q1</td>\n",
       "      <td>USD</td>\n",
       "    </tr>\n",
       "    <tr>\n",
       "      <th>37</th>\n",
       "      <td>BS</td>\n",
       "      <td>1750</td>\n",
       "      <td>AIR</td>\n",
       "      <td>0001104659-20-108360</td>\n",
       "      <td>2020-08-31</td>\n",
       "      <td>10-Q</td>\n",
       "      <td>AdditionalPaidInCapitalCommonStock</td>\n",
       "      <td>4.731000e+08</td>\n",
       "      <td>2</td>\n",
       "      <td>35</td>\n",
       "      <td>Q1</td>\n",
       "      <td>USD</td>\n",
       "    </tr>\n",
       "    <tr>\n",
       "      <th>16</th>\n",
       "      <td>BS</td>\n",
       "      <td>1750</td>\n",
       "      <td>AIR</td>\n",
       "      <td>0001104659-20-108360</td>\n",
       "      <td>2020-08-31</td>\n",
       "      <td>10-Q</td>\n",
       "      <td>RetainedEarningsAccumulatedDeficit</td>\n",
       "      <td>6.914000e+08</td>\n",
       "      <td>2</td>\n",
       "      <td>36</td>\n",
       "      <td>Q1</td>\n",
       "      <td>USD</td>\n",
       "    </tr>\n",
       "    <tr>\n",
       "      <th>25</th>\n",
       "      <td>BS</td>\n",
       "      <td>1750</td>\n",
       "      <td>AIR</td>\n",
       "      <td>0001104659-20-108360</td>\n",
       "      <td>2020-08-31</td>\n",
       "      <td>10-Q</td>\n",
       "      <td>TreasuryStockCommonValue</td>\n",
       "      <td>2.761000e+08</td>\n",
       "      <td>2</td>\n",
       "      <td>37</td>\n",
       "      <td>Q1</td>\n",
       "      <td>USD</td>\n",
       "    </tr>\n",
       "    <tr>\n",
       "      <th>36</th>\n",
       "      <td>BS</td>\n",
       "      <td>1750</td>\n",
       "      <td>AIR</td>\n",
       "      <td>0001104659-20-108360</td>\n",
       "      <td>2020-08-31</td>\n",
       "      <td>10-Q</td>\n",
       "      <td>AccumulatedOtherComprehensiveIncomeLossNetOfTax</td>\n",
       "      <td>-4.310000e+07</td>\n",
       "      <td>2</td>\n",
       "      <td>38</td>\n",
       "      <td>Q1</td>\n",
       "      <td>USD</td>\n",
       "    </tr>\n",
       "    <tr>\n",
       "      <th>28</th>\n",
       "      <td>BS</td>\n",
       "      <td>1750</td>\n",
       "      <td>AIR</td>\n",
       "      <td>0001104659-20-108360</td>\n",
       "      <td>2020-08-31</td>\n",
       "      <td>10-Q</td>\n",
       "      <td>StockholdersEquityIncludingPortionAttributable...</td>\n",
       "      <td>8.906000e+08</td>\n",
       "      <td>2</td>\n",
       "      <td>39</td>\n",
       "      <td>Q1</td>\n",
       "      <td>USD</td>\n",
       "    </tr>\n",
       "    <tr>\n",
       "      <th>6</th>\n",
       "      <td>BS</td>\n",
       "      <td>1750</td>\n",
       "      <td>AIR</td>\n",
       "      <td>0001104659-20-108360</td>\n",
       "      <td>2020-08-31</td>\n",
       "      <td>10-Q</td>\n",
       "      <td>LiabilitiesAndStockholdersEquity</td>\n",
       "      <td>1.713800e+09</td>\n",
       "      <td>2</td>\n",
       "      <td>40</td>\n",
       "      <td>Q1</td>\n",
       "      <td>USD</td>\n",
       "    </tr>\n",
       "    <tr>\n",
       "      <th>21</th>\n",
       "      <td>BS</td>\n",
       "      <td>1750</td>\n",
       "      <td>AIR</td>\n",
       "      <td>0001104659-20-108360</td>\n",
       "      <td>2020-08-31</td>\n",
       "      <td>10-Q</td>\n",
       "      <td>AllowanceForDoubtfulAccountsReceivableCurrent</td>\n",
       "      <td>2.090000e+07</td>\n",
       "      <td>3</td>\n",
       "      <td>1</td>\n",
       "      <td>Q1</td>\n",
       "      <td>USD</td>\n",
       "    </tr>\n",
       "    <tr>\n",
       "      <th>23</th>\n",
       "      <td>BS</td>\n",
       "      <td>1750</td>\n",
       "      <td>AIR</td>\n",
       "      <td>0001104659-20-108360</td>\n",
       "      <td>2020-08-31</td>\n",
       "      <td>10-Q</td>\n",
       "      <td>AccumulatedDepreciationDepletionAndAmortizatio...</td>\n",
       "      <td>2.437000e+08</td>\n",
       "      <td>3</td>\n",
       "      <td>2</td>\n",
       "      <td>Q1</td>\n",
       "      <td>USD</td>\n",
       "    </tr>\n",
       "    <tr>\n",
       "      <th>8</th>\n",
       "      <td>BS</td>\n",
       "      <td>1750</td>\n",
       "      <td>AIR</td>\n",
       "      <td>0001104659-20-108360</td>\n",
       "      <td>2020-08-31</td>\n",
       "      <td>10-Q</td>\n",
       "      <td>PreferredStockParOrStatedValuePerShare</td>\n",
       "      <td>1.000000e+00</td>\n",
       "      <td>3</td>\n",
       "      <td>3</td>\n",
       "      <td>Q1</td>\n",
       "      <td>USD</td>\n",
       "    </tr>\n",
       "    <tr>\n",
       "      <th>34</th>\n",
       "      <td>BS</td>\n",
       "      <td>1750</td>\n",
       "      <td>AIR</td>\n",
       "      <td>0001104659-20-108360</td>\n",
       "      <td>2020-08-31</td>\n",
       "      <td>10-Q</td>\n",
       "      <td>PreferredStockSharesAuthorized</td>\n",
       "      <td>2.500000e+05</td>\n",
       "      <td>3</td>\n",
       "      <td>4</td>\n",
       "      <td>Q1</td>\n",
       "      <td>shares</td>\n",
       "    </tr>\n",
       "    <tr>\n",
       "      <th>2</th>\n",
       "      <td>BS</td>\n",
       "      <td>1750</td>\n",
       "      <td>AIR</td>\n",
       "      <td>0001104659-20-108360</td>\n",
       "      <td>2020-08-31</td>\n",
       "      <td>10-Q</td>\n",
       "      <td>PreferredStockSharesIssued</td>\n",
       "      <td>0.000000e+00</td>\n",
       "      <td>3</td>\n",
       "      <td>5</td>\n",
       "      <td>Q1</td>\n",
       "      <td>shares</td>\n",
       "    </tr>\n",
       "    <tr>\n",
       "      <th>3</th>\n",
       "      <td>BS</td>\n",
       "      <td>1750</td>\n",
       "      <td>AIR</td>\n",
       "      <td>0001104659-20-108360</td>\n",
       "      <td>2020-08-31</td>\n",
       "      <td>10-Q</td>\n",
       "      <td>CommonStockParOrStatedValuePerShare</td>\n",
       "      <td>1.000000e+00</td>\n",
       "      <td>3</td>\n",
       "      <td>6</td>\n",
       "      <td>Q1</td>\n",
       "      <td>USD</td>\n",
       "    </tr>\n",
       "    <tr>\n",
       "      <th>14</th>\n",
       "      <td>BS</td>\n",
       "      <td>1750</td>\n",
       "      <td>AIR</td>\n",
       "      <td>0001104659-20-108360</td>\n",
       "      <td>2020-08-31</td>\n",
       "      <td>10-Q</td>\n",
       "      <td>CommonStockSharesAuthorized</td>\n",
       "      <td>1.000000e+08</td>\n",
       "      <td>3</td>\n",
       "      <td>7</td>\n",
       "      <td>Q1</td>\n",
       "      <td>shares</td>\n",
       "    </tr>\n",
       "    <tr>\n",
       "      <th>11</th>\n",
       "      <td>BS</td>\n",
       "      <td>1750</td>\n",
       "      <td>AIR</td>\n",
       "      <td>0001104659-20-108360</td>\n",
       "      <td>2020-08-31</td>\n",
       "      <td>10-Q</td>\n",
       "      <td>CommonStockSharesIssued</td>\n",
       "      <td>4.530079e+07</td>\n",
       "      <td>3</td>\n",
       "      <td>8</td>\n",
       "      <td>Q1</td>\n",
       "      <td>shares</td>\n",
       "    </tr>\n",
       "    <tr>\n",
       "      <th>29</th>\n",
       "      <td>BS</td>\n",
       "      <td>1750</td>\n",
       "      <td>AIR</td>\n",
       "      <td>0001104659-20-108360</td>\n",
       "      <td>2020-08-31</td>\n",
       "      <td>10-Q</td>\n",
       "      <td>TreasuryStockShares</td>\n",
       "      <td>9.999965e+06</td>\n",
       "      <td>3</td>\n",
       "      <td>9</td>\n",
       "      <td>Q1</td>\n",
       "      <td>shares</td>\n",
       "    </tr>\n",
       "  </tbody>\n",
       "</table>\n",
       "</div>"
      ],
      "text/plain": [
       "   stmt   cik ticker                  adsh      period  form  \\\n",
       "5    BS  1750    AIR  0001104659-20-108360  2020-08-31  10-Q   \n",
       "10   BS  1750    AIR  0001104659-20-108360  2020-08-31  10-Q   \n",
       "38   BS  1750    AIR  0001104659-20-108360  2020-08-31  10-Q   \n",
       "32   BS  1750    AIR  0001104659-20-108360  2020-08-31  10-Q   \n",
       "17   BS  1750    AIR  0001104659-20-108360  2020-08-31  10-Q   \n",
       "1    BS  1750    AIR  0001104659-20-108360  2020-08-31  10-Q   \n",
       "12   BS  1750    AIR  0001104659-20-108360  2020-08-31  10-Q   \n",
       "31   BS  1750    AIR  0001104659-20-108360  2020-08-31  10-Q   \n",
       "26   BS  1750    AIR  0001104659-20-108360  2020-08-31  10-Q   \n",
       "9    BS  1750    AIR  0001104659-20-108360  2020-08-31  10-Q   \n",
       "0    BS  1750    AIR  0001104659-20-108360  2020-08-31  10-Q   \n",
       "35   BS  1750    AIR  0001104659-20-108360  2020-08-31  10-Q   \n",
       "7    BS  1750    AIR  0001104659-20-108360  2020-08-31  10-Q   \n",
       "19   BS  1750    AIR  0001104659-20-108360  2020-08-31  10-Q   \n",
       "33   BS  1750    AIR  0001104659-20-108360  2020-08-31  10-Q   \n",
       "27   BS  1750    AIR  0001104659-20-108360  2020-08-31  10-Q   \n",
       "4    BS  1750    AIR  0001104659-20-108360  2020-08-31  10-Q   \n",
       "15   BS  1750    AIR  0001104659-20-108360  2020-08-31  10-Q   \n",
       "18   BS  1750    AIR  0001104659-20-108360  2020-08-31  10-Q   \n",
       "30   BS  1750    AIR  0001104659-20-108360  2020-08-31  10-Q   \n",
       "20   BS  1750    AIR  0001104659-20-108360  2020-08-31  10-Q   \n",
       "13   BS  1750    AIR  0001104659-20-108360  2020-08-31  10-Q   \n",
       "22   BS  1750    AIR  0001104659-20-108360  2020-08-31  10-Q   \n",
       "24   BS  1750    AIR  0001104659-20-108360  2020-08-31  10-Q   \n",
       "37   BS  1750    AIR  0001104659-20-108360  2020-08-31  10-Q   \n",
       "16   BS  1750    AIR  0001104659-20-108360  2020-08-31  10-Q   \n",
       "25   BS  1750    AIR  0001104659-20-108360  2020-08-31  10-Q   \n",
       "36   BS  1750    AIR  0001104659-20-108360  2020-08-31  10-Q   \n",
       "28   BS  1750    AIR  0001104659-20-108360  2020-08-31  10-Q   \n",
       "6    BS  1750    AIR  0001104659-20-108360  2020-08-31  10-Q   \n",
       "21   BS  1750    AIR  0001104659-20-108360  2020-08-31  10-Q   \n",
       "23   BS  1750    AIR  0001104659-20-108360  2020-08-31  10-Q   \n",
       "8    BS  1750    AIR  0001104659-20-108360  2020-08-31  10-Q   \n",
       "34   BS  1750    AIR  0001104659-20-108360  2020-08-31  10-Q   \n",
       "2    BS  1750    AIR  0001104659-20-108360  2020-08-31  10-Q   \n",
       "3    BS  1750    AIR  0001104659-20-108360  2020-08-31  10-Q   \n",
       "14   BS  1750    AIR  0001104659-20-108360  2020-08-31  10-Q   \n",
       "11   BS  1750    AIR  0001104659-20-108360  2020-08-31  10-Q   \n",
       "29   BS  1750    AIR  0001104659-20-108360  2020-08-31  10-Q   \n",
       "\n",
       "                                                  tag         value  report  \\\n",
       "5               CashAndCashEquivalentsAtCarryingValue  1.077000e+08       2   \n",
       "10    RestrictedCashAndCashEquivalentsAtCarryingValue  6.400000e+06       2   \n",
       "38                       AccountsReceivableNetCurrent  1.667000e+08       2   \n",
       "32                ContractWithCustomerAssetNetCurrent  4.520000e+07       2   \n",
       "17                                       InventoryNet  5.977000e+08       2   \n",
       "1   AssetsOfDisposalGroupIncludingDiscontinuedOper...  2.200000e+07       2   \n",
       "12                                 OtherAssetsCurrent  6.160000e+07       2   \n",
       "31                                      AssetsCurrent  1.074200e+09       2   \n",
       "26                       PropertyPlantAndEquipmentNet  1.270000e+08       2   \n",
       "9                IntangibleAssetsNetIncludingGoodwill  1.231000e+08       2   \n",
       "0                       OperatingLeaseRightOfUseAsset  8.580000e+07       2   \n",
       "35                              OtherAssetsNoncurrent  1.018000e+08       2   \n",
       "7                                              Assets  1.713800e+09       2   \n",
       "19                             AccountsPayableCurrent  1.798000e+08       2   \n",
       "33                          AccruedLiabilitiesCurrent  1.450000e+08       2   \n",
       "27  LiabilitiesOfDisposalGroupIncludingDiscontinue...  2.870000e+07       2   \n",
       "4                                  LiabilitiesCurrent  3.943000e+08       2   \n",
       "15                             LongTermDebtNoncurrent  2.551000e+08       2   \n",
       "18                  OperatingLeaseLiabilityNoncurrent  6.800000e+07       2   \n",
       "30                          DeferredRevenueNoncurrent  7.020000e+07       2   \n",
       "20                                   OtherLiabilities  3.560000e+07       2   \n",
       "13                              LiabilitiesNoncurrent  4.289000e+08       2   \n",
       "22                                PreferredStockValue           NaN       2   \n",
       "24                                   CommonStockValue  4.530000e+07       2   \n",
       "37                 AdditionalPaidInCapitalCommonStock  4.731000e+08       2   \n",
       "16                 RetainedEarningsAccumulatedDeficit  6.914000e+08       2   \n",
       "25                           TreasuryStockCommonValue  2.761000e+08       2   \n",
       "36    AccumulatedOtherComprehensiveIncomeLossNetOfTax -4.310000e+07       2   \n",
       "28  StockholdersEquityIncludingPortionAttributable...  8.906000e+08       2   \n",
       "6                    LiabilitiesAndStockholdersEquity  1.713800e+09       2   \n",
       "21      AllowanceForDoubtfulAccountsReceivableCurrent  2.090000e+07       3   \n",
       "23  AccumulatedDepreciationDepletionAndAmortizatio...  2.437000e+08       3   \n",
       "8              PreferredStockParOrStatedValuePerShare  1.000000e+00       3   \n",
       "34                     PreferredStockSharesAuthorized  2.500000e+05       3   \n",
       "2                          PreferredStockSharesIssued  0.000000e+00       3   \n",
       "3                 CommonStockParOrStatedValuePerShare  1.000000e+00       3   \n",
       "14                        CommonStockSharesAuthorized  1.000000e+08       3   \n",
       "11                            CommonStockSharesIssued  4.530079e+07       3   \n",
       "29                                TreasuryStockShares  9.999965e+06       3   \n",
       "\n",
       "    line  fp     uom  \n",
       "5      3  Q1     USD  \n",
       "10     4  Q1     USD  \n",
       "38     5  Q1     USD  \n",
       "32     6  Q1     USD  \n",
       "17     7  Q1     USD  \n",
       "1      9  Q1     USD  \n",
       "12    10  Q1     USD  \n",
       "31    11  Q1     USD  \n",
       "26    12  Q1     USD  \n",
       "9     14  Q1     USD  \n",
       "0     15  Q1     USD  \n",
       "35    17  Q1     USD  \n",
       "7     19  Q1     USD  \n",
       "19    22  Q1     USD  \n",
       "33    23  Q1     USD  \n",
       "27    25  Q1     USD  \n",
       "4     26  Q1     USD  \n",
       "15    27  Q1     USD  \n",
       "18    28  Q1     USD  \n",
       "30    29  Q1     USD  \n",
       "20    30  Q1     USD  \n",
       "13    31  Q1     USD  \n",
       "22    33  Q1     USD  \n",
       "24    34  Q1     USD  \n",
       "37    35  Q1     USD  \n",
       "16    36  Q1     USD  \n",
       "25    37  Q1     USD  \n",
       "36    38  Q1     USD  \n",
       "28    39  Q1     USD  \n",
       "6     40  Q1     USD  \n",
       "21     1  Q1     USD  \n",
       "23     2  Q1     USD  \n",
       "8      3  Q1     USD  \n",
       "34     4  Q1  shares  \n",
       "2      5  Q1  shares  \n",
       "3      6  Q1     USD  \n",
       "14     7  Q1  shares  \n",
       "11     8  Q1  shares  \n",
       "29     9  Q1  shares  "
      ]
     },
     "execution_count": null,
     "metadata": {},
     "output_type": "execute_result"
    }
   ],
   "source": [
    "pd_frame = df_all_selected.where(\"adsh == '0001104659-20-108360' and stmt = 'BS'\").toPandas()\n",
    "pd_frame.sort_values(['report', 'line'])"
   ]
  },
  {
   "cell_type": "code",
   "execution_count": null,
   "metadata": {},
   "outputs": [],
   "source": [
    "bs_pivot_report.where(\"adsh == '0001492298-20-000025'\").show()"
   ]
  },
  {
   "cell_type": "code",
   "execution_count": null,
   "metadata": {},
   "outputs": [
    {
     "data": {
      "text/plain": [
       "585411"
      ]
     },
     "execution_count": null,
     "metadata": {},
     "output_type": "execute_result"
    }
   ],
   "source": [
    "df_all_selected.select('adsh','stmt').distinct().count()"
   ]
  },
  {
   "cell_type": "code",
   "execution_count": null,
   "metadata": {},
   "outputs": [
    {
     "data": {
      "text/plain": [
       "133872"
      ]
     },
     "execution_count": null,
     "metadata": {},
     "output_type": "execute_result"
    }
   ],
   "source": [
    "df_all_selected.select('adsh','stmt').distinct().where('stmt = \"BS\"').count()"
   ]
  },
  {
   "cell_type": "code",
   "execution_count": null,
   "metadata": {},
   "outputs": [
    {
     "data": {
      "text/plain": [
       "86120"
      ]
     },
     "execution_count": null,
     "metadata": {},
     "output_type": "execute_result"
    }
   ],
   "source": [
    "df_all_selected.select('adsh','stmt').distinct().where('stmt = \"EQ\"').count()"
   ]
  },
  {
   "cell_type": "code",
   "execution_count": null,
   "metadata": {},
   "outputs": [
    {
     "data": {
      "text/plain": [
       "['StockholdersEquity',\n",
       " 'StockholdersEquityAttributableToParentNotAllowableForNetCapital',\n",
       " 'StockholdersEquityBeforeTreasuryStock',\n",
       " 'StockholdersEquityIncludingPortionAttributableToNoncontrollingInterest',\n",
       " 'StockholdersEquityIncludingPortionAttributableToNoncontrollingInterestAdjustedBalance1',\n",
       " 'StockholdersEquityNoteStockSplitConversionRatio',\n",
       " 'StockholdersEquityNoteStockSplitConversionRatio1',\n",
       " 'StockholdersEquityNoteSubscriptionsReceivable']"
      ]
     },
     "execution_count": null,
     "metadata": {},
     "output_type": "execute_result"
    }
   ],
   "source": [
    "[x for x in bs_pivot_liabilities_copy.columns.values if x.startswith('StockholdersEquity')]"
   ]
  },
  {
   "cell_type": "code",
   "execution_count": null,
   "metadata": {},
   "outputs": [],
   "source": []
  }
 ],
 "metadata": {
  "kernelspec": {
   "display_name": "Python 3",
   "language": "python",
   "name": "python3"
  }
 },
 "nbformat": 4,
 "nbformat_minor": 4
}
