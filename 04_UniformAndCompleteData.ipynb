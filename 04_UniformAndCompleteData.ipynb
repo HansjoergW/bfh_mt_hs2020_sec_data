{
 "cells": [
  {
   "cell_type": "code",
   "execution_count": null,
   "metadata": {},
   "outputs": [],
   "source": [
    "# default_exp uniform"
   ]
  },
  {
   "cell_type": "code",
   "execution_count": null,
   "metadata": {},
   "outputs": [],
   "source": [
    "#hide\n",
    "from nbdev.showdoc import *"
   ]
  },
  {
   "cell_type": "code",
   "execution_count": null,
   "metadata": {},
   "outputs": [],
   "source": [
    "#hide\n",
    "# stellt sicher, dass beim verändern der core library diese wieder neu geladen wird\n",
    "%load_ext autoreload\n",
    "%autoreload 2"
   ]
  },
  {
   "cell_type": "markdown",
   "metadata": {},
   "source": [
    "# uniform and complete"
   ]
  },
  {
   "cell_type": "markdown",
   "metadata": {},
   "source": [
    "..."
   ]
  },
  {
   "cell_type": "markdown",
   "metadata": {},
   "source": [
    "## Basic Settings"
   ]
  },
  {
   "cell_type": "code",
   "execution_count": null,
   "metadata": {},
   "outputs": [],
   "source": [
    "# imports\n",
    "from bfh_mt_hs2020_sec_data.core import get_spark_session # initialze spark\n",
    "from pathlib import Path\n",
    "from typing import List, Tuple, Union, Set\n",
    "from pyspark.sql.dataframe import DataFrame\n",
    "from pyspark.sql.functions import col\n",
    "\n",
    "import pandas as pd\n",
    "\n",
    "import shutil          # provides high level file operations\n",
    "import time            # used to measure execution time\n",
    "import os\n",
    "import sys"
   ]
  },
  {
   "cell_type": "code",
   "execution_count": null,
   "metadata": {},
   "outputs": [],
   "source": [
    "all_pivot_selected_folder  = \"D:/data/parq_pivot_select\"\n",
    "all_pivoted_folder = \"D:/data/parq_pivot_split\"\n",
    "all_processed_folder = \"D:/data/parq_processed/\"\n",
    "\n",
    "col_list =    [\"stmt\",\"cik\",\"ticker\", \"adsh\",\"period\",\"form\",\"tag\",\"value\",\"report\", \"line\", \"fp\", \"uom\"]\n",
    "pivot_attrs = ['value', 'report', 'line']\n",
    "statements =  ['IS','CF','CP','BS','CI','EQ','UN']"
   ]
  },
  {
   "cell_type": "code",
   "execution_count": null,
   "metadata": {},
   "outputs": [
    {
     "data": {
      "text/html": [
       "\n",
       "            <div>\n",
       "                <p><b>SparkSession - in-memory</b></p>\n",
       "                \n",
       "        <div>\n",
       "            <p><b>SparkContext</b></p>\n",
       "\n",
       "            <p><a href=\"http://192.168.0.163:4040\">Spark UI</a></p>\n",
       "\n",
       "            <dl>\n",
       "              <dt>Version</dt>\n",
       "                <dd><code>v2.4.5</code></dd>\n",
       "              <dt>Master</dt>\n",
       "                <dd><code>local[*]</code></dd>\n",
       "              <dt>AppName</dt>\n",
       "                <dd><code>default</code></dd>\n",
       "            </dl>\n",
       "        </div>\n",
       "        \n",
       "            </div>\n",
       "        "
      ],
      "text/plain": [
       "<pyspark.sql.session.SparkSession at 0x20899a96dc8>"
      ]
     },
     "execution_count": null,
     "metadata": {},
     "output_type": "execute_result"
    }
   ],
   "source": [
    "# init Spark\n",
    "spark = get_spark_session() # Session anlegen\n",
    "spark # display the moste important information of the session"
   ]
  },
  {
   "cell_type": "markdown",
   "metadata": {},
   "source": [
    "## 00_Tools"
   ]
  },
  {
   "cell_type": "code",
   "execution_count": null,
   "metadata": {},
   "outputs": [],
   "source": [
    "def load_data(stmt:str, attr:str):\n",
    "    return spark.read.parquet(all_pivoted_folder + \"/\" + stmt + \"/\" + attr).cache()"
   ]
  },
  {
   "cell_type": "code",
   "execution_count": null,
   "metadata": {},
   "outputs": [],
   "source": [
    "def spark_shape(self):\n",
    "    return (self.count(), len(self.columns))"
   ]
  },
  {
   "cell_type": "code",
   "execution_count": null,
   "metadata": {},
   "outputs": [],
   "source": [
    "### Get count of both null and missing values in pyspark\n",
    "from pyspark.sql.functions import isnan, when, count, col\n",
    "def get_empty_count(df):\n",
    "    return df.select([count(when(col(c).isNull(), c)).alias(c) for c in df.columns])"
   ]
  },
  {
   "cell_type": "code",
   "execution_count": null,
   "metadata": {},
   "outputs": [],
   "source": [
    "def complete_addition(df, sumcol, addcol1, addcol2):\n",
    "    missingtwo = (df[sumcol].notnull()) & (df[addcol1].notnull()) & (df[addcol2].isnull())\n",
    "    df.loc[missingtwo, addcol2] = df.loc[missingtwo, sumcol] - df.loc[missingtwo, addcol1]\n",
    "\n",
    "    missingone = (df[sumcol].notnull()) & (df[addcol2].notnull()) & (df[addcol1].isnull())\n",
    "    df.loc[missingone, addcol1] = df.loc[missingone, sumcol] - df.loc[missingone, addcol2]  \n",
    "    \n",
    "    missingsum = (df[sumcol].isnull()) & (df[addcol2].notnull()) & (df[addcol1].notnull())\n",
    "    df.loc[missingsum, sumcol] = df.loc[missingsum, addcol1] + df.loc[missingsum, addcol2]  "
   ]
  },
  {
   "cell_type": "code",
   "execution_count": null,
   "metadata": {},
   "outputs": [],
   "source": [
    "def copy_if_not_empty(df, sourcecol, targetcol, to_zero_col = None):\n",
    "    do_copy = (df[sourcecol].notnull()) & (df[targetcol].isnull())\n",
    "    df.loc[do_copy, targetcol] = df.loc[do_copy, sourcecol]\n",
    "    if to_zero_col != None:\n",
    "        df.loc[do_copy, to_zero_col] = 0.0"
   ]
  },
  {
   "cell_type": "code",
   "execution_count": null,
   "metadata": {},
   "outputs": [],
   "source": [
    "def df_copy_if_not_empty(src_df, sourcecol, tgt_df, targetcol, joincol):\n",
    "    \n",
    "    \n",
    "    \n",
    "    do_copy = (df[sourcecol].notnull()) & (df[targetcol].isnull())\n",
    "    df.loc[do_copy, targetcol] = df.loc[do_copy, sourcecol]"
   ]
  },
  {
   "cell_type": "code",
   "execution_count": null,
   "metadata": {},
   "outputs": [],
   "source": [
    "def copy_if_not_empty_for_ticker(df, ticker, sourcecol, targetcol, to_zero_col = None):\n",
    "    do_copy = (df['ticker'] == ticker) & (sel_df[sourcecol].notnull()) & (sel_df[targetcol].isnull())\n",
    "\n",
    "    df.loc[do_copy, targetcol] = df.loc[do_copy, sourcecol]\n",
    "    if to_zero_col != None:\n",
    "        df.loc[do_copy, to_zero_col] = 0.0"
   ]
  },
  {
   "cell_type": "code",
   "execution_count": null,
   "metadata": {},
   "outputs": [],
   "source": [
    "def set_to_zero_if_null(df, col):\n",
    "    do_set = (df[col].isnull())\n",
    "    df.loc[do_set, col] = 0.0"
   ]
  },
  {
   "cell_type": "code",
   "execution_count": null,
   "metadata": {},
   "outputs": [],
   "source": [
    "def print_null_count(df, cols):\n",
    "    for col in cols:\n",
    "        print(col, ' ', df[col].isnull().sum())"
   ]
  },
  {
   "cell_type": "markdown",
   "metadata": {},
   "source": [
    "## 00_Raw_data"
   ]
  },
  {
   "cell_type": "code",
   "execution_count": null,
   "metadata": {},
   "outputs": [],
   "source": [
    "df_all_selected = spark.read.parquet(all_pivot_selected_folder).cache()"
   ]
  },
  {
   "cell_type": "code",
   "execution_count": null,
   "metadata": {},
   "outputs": [],
   "source": [
    "# it happens sometimes, that the data can not be associated with a right sheet (bs, is, cf, ..). in this cases, the data can appea under \"UN\"\n",
    "# so if expected information cannot be found in the appropriate statement, we have to look in the un statement\n",
    "un_pivot_value = load_data(\"UN\", \"value\")\n",
    "un_pivot_pd = un_pivot_value.toPandas()"
   ]
  },
  {
   "cell_type": "code",
   "execution_count": null,
   "metadata": {},
   "outputs": [
    {
     "data": {
      "text/plain": [
       "(4074, 1958)"
      ]
     },
     "execution_count": null,
     "metadata": {},
     "output_type": "execute_result"
    }
   ],
   "source": [
    "un_pivot_pd.shape"
   ]
  },
  {
   "cell_type": "markdown",
   "metadata": {},
   "source": [
    "## 01_Balance_Sheet"
   ]
  },
  {
   "cell_type": "code",
   "execution_count": null,
   "metadata": {},
   "outputs": [
    {
     "data": {
      "text/plain": [
       "(133872, 2342)"
      ]
     },
     "execution_count": null,
     "metadata": {},
     "output_type": "execute_result"
    }
   ],
   "source": [
    "bs_pivot_value = load_data(\"BS\", \"value\")\n",
    "spark_shape(bs_pivot_value)"
   ]
  },
  {
   "cell_type": "code",
   "execution_count": null,
   "metadata": {},
   "outputs": [],
   "source": [
    "bs_pivot_pd = bs_pivot_value.toPandas()"
   ]
  },
  {
   "cell_type": "code",
   "execution_count": null,
   "metadata": {},
   "outputs": [],
   "source": [
    "bs_pivot_pd_copy = bs_pivot_pd.copy()"
   ]
  },
  {
   "cell_type": "markdown",
   "metadata": {},
   "source": [
    "### Assets"
   ]
  },
  {
   "cell_type": "code",
   "execution_count": null,
   "metadata": {},
   "outputs": [
    {
     "name": "stdout",
     "output_type": "stream",
     "text": [
      "Assets   579\n",
      "AssetsNoncurrent   127026\n",
      "AssetsCurrent   30421\n"
     ]
    }
   ],
   "source": [
    "print_null_count(bs_pivot_pd_copy, ['Assets','AssetsNoncurrent','AssetsCurrent'])"
   ]
  },
  {
   "cell_type": "code",
   "execution_count": null,
   "metadata": {},
   "outputs": [],
   "source": [
    "copy_if_not_empty(bs_pivot_pd_copy, 'AssetsNet', 'Assets')\n",
    "complete_addition(bs_pivot_pd_copy, 'Assets', 'AssetsCurrent', 'AssetsNoncurrent')\n",
    "# if Assets contains data and current not, copy from Assets to current and set noncurrent to 0.0\n",
    "copy_if_not_empty(bs_pivot_pd_copy, 'Assets', 'AssetsCurrent', 'AssetsNoncurrent')\n",
    "# if AssetsCurrent contains data and Assets does not, copy to Assets ans set noncurrent t 0.0\n",
    "copy_if_not_empty(bs_pivot_pd_copy, 'AssetsCurrent', 'Assets', 'AssetsNoncurrent')"
   ]
  },
  {
   "cell_type": "code",
   "execution_count": null,
   "metadata": {},
   "outputs": [
    {
     "name": "stdout",
     "output_type": "stream",
     "text": [
      "Assets   419\n",
      "AssetsNoncurrent   419\n",
      "AssetsCurrent   419\n"
     ]
    }
   ],
   "source": [
    "print_null_count(bs_pivot_pd_copy, ['Assets','AssetsNoncurrent','AssetsCurrent'])"
   ]
  },
  {
   "cell_type": "code",
   "execution_count": null,
   "metadata": {},
   "outputs": [
    {
     "data": {
      "text/plain": [
       "(133872, 2342)"
      ]
     },
     "execution_count": null,
     "metadata": {},
     "output_type": "execute_result"
    }
   ],
   "source": [
    "bs_pivot_pd_copy.shape"
   ]
  },
  {
   "cell_type": "markdown",
   "metadata": {},
   "source": [
    "### Liabilities"
   ]
  },
  {
   "cell_type": "code",
   "execution_count": null,
   "metadata": {},
   "outputs": [
    {
     "name": "stdout",
     "output_type": "stream",
     "text": [
      "Liabilities   34118\n",
      "LiabilitiesNoncurrent   117766\n",
      "LiabilitiesCurrent   30837\n"
     ]
    }
   ],
   "source": [
    "print_null_count(bs_pivot_pd_copy, ['Liabilities','LiabilitiesNoncurrent','LiabilitiesCurrent'])"
   ]
  },
  {
   "cell_type": "code",
   "execution_count": null,
   "metadata": {},
   "outputs": [],
   "source": [
    "complete_addition(bs_pivot_pd_copy, 'Liabilities', 'LiabilitiesCurrent', 'LiabilitiesNoncurrent')\n",
    "# if Liabilities contains data and current is empty, copy to current and set NonCurrent to 0.0\n",
    "copy_if_not_empty(bs_pivot_pd_copy, 'Liabilities', 'LiabilitiesCurrent', 'LiabilitiesNoncurrent')\n",
    "# if only current Liabilities, copy to Liabilities and set Noncurrent to 0.0\n",
    "copy_if_not_empty(bs_pivot_pd_copy, 'LiabilitiesCurrent', 'Liabilities', 'LiabilitiesNoncurrent')"
   ]
  },
  {
   "cell_type": "code",
   "execution_count": null,
   "metadata": {},
   "outputs": [
    {
     "name": "stdout",
     "output_type": "stream",
     "text": [
      "Liabilities   783\n",
      "LiabilitiesNoncurrent   781\n",
      "LiabilitiesCurrent   783\n"
     ]
    }
   ],
   "source": [
    "print_null_count(bs_pivot_pd_copy, ['Liabilities','LiabilitiesNoncurrent','LiabilitiesCurrent'])"
   ]
  },
  {
   "cell_type": "code",
   "execution_count": null,
   "metadata": {},
   "outputs": [
    {
     "data": {
      "text/plain": [
       "(133872, 2342)"
      ]
     },
     "execution_count": null,
     "metadata": {},
     "output_type": "execute_result"
    }
   ],
   "source": [
    "bs_pivot_pd_copy.shape"
   ]
  },
  {
   "cell_type": "markdown",
   "metadata": {},
   "source": [
    "### Equity"
   ]
  },
  {
   "cell_type": "code",
   "execution_count": null,
   "metadata": {},
   "outputs": [
    {
     "name": "stdout",
     "output_type": "stream",
     "text": [
      "StockholdersEquity   12883\n",
      "RetainedEarningsAccumulatedDeficit   10583\n",
      "LiabilitiesAndStockholdersEquity   710\n"
     ]
    }
   ],
   "source": [
    "print_null_count(bs_pivot_pd_copy, ['StockholdersEquity','RetainedEarningsAccumulatedDeficit','LiabilitiesAndStockholdersEquity'])"
   ]
  },
  {
   "cell_type": "code",
   "execution_count": null,
   "metadata": {},
   "outputs": [],
   "source": [
    "copy_if_not_empty(bs_pivot_pd_copy, 'Assets', 'LiabilitiesAndStockholdersEquity') # has to be the same\n",
    "copy_if_not_empty(bs_pivot_pd_copy, 'PartnersCapital', 'StockholdersEquity') # if there is partner capital, we consider it the same as stockholder equity\n",
    "copy_if_not_empty(bs_pivot_pd_copy, 'StockholdersEquityIncludingPortionAttributableToNoncontrollingInterest', 'StockholdersEquity') #dito\n",
    "set_to_zero_if_null(bs_pivot_pd_copy, 'RetainedEarningsAccumulatedDeficit')"
   ]
  },
  {
   "cell_type": "code",
   "execution_count": null,
   "metadata": {},
   "outputs": [
    {
     "name": "stdout",
     "output_type": "stream",
     "text": [
      "StockholdersEquity   1277\n",
      "RetainedEarningsAccumulatedDeficit   0\n",
      "LiabilitiesAndStockholdersEquity   409\n"
     ]
    }
   ],
   "source": [
    "print_null_count(bs_pivot_pd_copy, ['StockholdersEquity','RetainedEarningsAccumulatedDeficit','LiabilitiesAndStockholdersEquity'])"
   ]
  },
  {
   "cell_type": "code",
   "execution_count": null,
   "metadata": {},
   "outputs": [
    {
     "data": {
      "text/plain": [
       "(133872, 2342)"
      ]
     },
     "execution_count": null,
     "metadata": {},
     "output_type": "execute_result"
    }
   ],
   "source": [
    "bs_pivot_pd_copy.shape"
   ]
  },
  {
   "cell_type": "markdown",
   "metadata": {},
   "source": [
    "### Clean empty companies"
   ]
  },
  {
   "cell_type": "code",
   "execution_count": null,
   "metadata": {},
   "outputs": [],
   "source": [
    "bs_cols_selected = bs_pivot_pd_copy[[\"cik\",\"ticker\", \"adsh\",\"period\",\"form\", \n",
    "                                     'Assets','AssetsNoncurrent', 'AssetsCurrent', \n",
    "                                     'Liabilities','LiabilitiesNoncurrent','LiabilitiesCurrent', \n",
    "                                     'StockholdersEquity','RetainedEarningsAccumulatedDeficit']]"
   ]
  },
  {
   "cell_type": "code",
   "execution_count": null,
   "metadata": {},
   "outputs": [],
   "source": [
    "incomplete_ciks = bs_cols_selected[bs_cols_selected.isnull().sum(axis=1) > 0].cik.unique()"
   ]
  },
  {
   "cell_type": "code",
   "execution_count": null,
   "metadata": {},
   "outputs": [],
   "source": [
    "bs_cols_cleaned = bs_cols_selected[~bs_pivot_pd_copy.cik.isin(incomplete_ciks)]"
   ]
  },
  {
   "cell_type": "code",
   "execution_count": null,
   "metadata": {},
   "outputs": [
    {
     "data": {
      "text/plain": [
       "(124520, 13)"
      ]
     },
     "execution_count": null,
     "metadata": {},
     "output_type": "execute_result"
    }
   ],
   "source": [
    "bs_cols_cleaned.shape"
   ]
  },
  {
   "cell_type": "code",
   "execution_count": null,
   "metadata": {},
   "outputs": [
    {
     "data": {
      "text/plain": [
       "0"
      ]
     },
     "execution_count": null,
     "metadata": {},
     "output_type": "execute_result"
    }
   ],
   "source": [
    "bs_cols_cleaned.isnull().sum(axis=1).sum()"
   ]
  },
  {
   "cell_type": "markdown",
   "metadata": {},
   "source": [
    "### Save"
   ]
  },
  {
   "cell_type": "code",
   "execution_count": null,
   "metadata": {},
   "outputs": [],
   "source": [
    "bs_cols_cleaned.to_csv(all_processed_folder + \"bs.csv\", index=False)"
   ]
  },
  {
   "cell_type": "markdown",
   "metadata": {},
   "source": [
    "## CashFlow"
   ]
  },
  {
   "cell_type": "markdown",
   "metadata": {},
   "source": [
    "Operation\n",
    "- NetIncomeLoss\n",
    "- NetCashProvidedByUsedInOperatingActivities: NetIncome + other positions ergibt diese Position\n",
    "\n",
    "Investing\n",
    "- NetCashProvidedByUsedInInvestingActivities\n",
    "\n",
    "Financing activities\n",
    "- PaymentsForRepurchaseOfCommonStock: Aktienrückkäufe\n",
    "- PaymentsOfDividends\n",
    "- NetCashProvidedByUsedInFinancingActivities\n",
    "\n",
    "Cash Bestand unterschied\n",
    "- CashCashEquivalentsRestrictedCashAndRestrictedCashEquivalentsPeriodIncreaseDecreaseIncludingExchangeRateEffect: increase/decrease in cash"
   ]
  },
  {
   "cell_type": "code",
   "execution_count": null,
   "metadata": {},
   "outputs": [
    {
     "data": {
      "text/plain": [
       "(133811, 3052)"
      ]
     },
     "execution_count": null,
     "metadata": {},
     "output_type": "execute_result"
    }
   ],
   "source": [
    "cf_pivot_value = load_data(\"CF\", \"value\")\n",
    "spark_shape(cf_pivot_value)"
   ]
  },
  {
   "cell_type": "code",
   "execution_count": null,
   "metadata": {},
   "outputs": [],
   "source": [
    "cf_empty_count = get_empty_count(cf_pivot_value)"
   ]
  },
  {
   "cell_type": "code",
   "execution_count": null,
   "metadata": {},
   "outputs": [],
   "source": [
    "cf_pivot_pd = cf_pivot_value.toPandas()"
   ]
  },
  {
   "cell_type": "code",
   "execution_count": null,
   "metadata": {},
   "outputs": [],
   "source": [
    "cf_pivot_pd_copy = cf_pivot_pd.copy()"
   ]
  },
  {
   "cell_type": "code",
   "execution_count": null,
   "metadata": {},
   "outputs": [
    {
     "data": {
      "text/plain": [
       "(133811, 3052)"
      ]
     },
     "execution_count": null,
     "metadata": {},
     "output_type": "execute_result"
    }
   ],
   "source": [
    "cf_pivot_pd.shape"
   ]
  },
  {
   "cell_type": "markdown",
   "metadata": {},
   "source": [
    "### Cash Increase/Decrease\n",
    "- 'CashAndCashEquivalentsPeriodIncreaseDecrease',\n",
    "- 'CashAndCashEquivalentsPeriodIncreaseDecreaseExcludingExchangeRateEffect',\n",
    "- 'CashCashEquivalentsRestrictedCashAndRestrictedCashEquivalentsPeriodIncreaseDecreaseExcludingExchangeRateEffect',\n",
    "- 'CashCashEquivalentsRestrictedCashAndRestrictedCashEquivalentsPeriodIncreaseDecreaseIncludingExchangeRateEffect',\n",
    "- 'CashPeriodIncreaseDecrease',\n",
    "- 'CashPeriodIncreaseDecreaseExcludingExchangeRateEffect',"
   ]
  },
  {
   "cell_type": "code",
   "execution_count": null,
   "metadata": {},
   "outputs": [
    {
     "name": "stdout",
     "output_type": "stream",
     "text": [
      "CashAndCashEquivalentsPeriodIncreaseDecrease   30244\n"
     ]
    }
   ],
   "source": [
    "print_null_count(cf_pivot_pd_copy, ['CashAndCashEquivalentsPeriodIncreaseDecrease'])"
   ]
  },
  {
   "cell_type": "code",
   "execution_count": null,
   "metadata": {},
   "outputs": [],
   "source": [
    "# add possible columns from un set to  cf data with prefix cpy_\n",
    "un_cash_incdec = un_pivot_pd[[\"adsh\",\n",
    "    'CashAndCashEquivalentsPeriodIncreaseDecrease',\n",
    "    'CashCashEquivalentsRestrictedCashAndRestrictedCashEquivalentsPeriodIncreaseDecreaseIncludingExchangeRateEffect',\n",
    "    'CashCashEquivalentsRestrictedCashAndRestrictedCashEquivalentsPeriodIncreaseDecreaseExcludingExchangeRateEffect',\n",
    "#    'CashPeriodIncreaseDecrease',\n",
    "#    'CashAndCashEquivalentsPeriodIncreaseDecreaseExcludingExchangeRateEffect',\n",
    "#    'CashPeriodIncreaseDecreaseExcludingExchangeRateEffect' \n",
    "]].copy()\n",
    "un_cash_incdec.rename(columns=lambda x: \"cpy_\" + x, inplace=True)\n",
    "un_cash_incdec.rename(columns={'cpy_adsh':'adsh'}, inplace=True)"
   ]
  },
  {
   "cell_type": "code",
   "execution_count": null,
   "metadata": {},
   "outputs": [
    {
     "data": {
      "text/plain": [
       "(133811, 3055)"
      ]
     },
     "execution_count": null,
     "metadata": {},
     "output_type": "execute_result"
    }
   ],
   "source": [
    "cf_pivot_pd_copy = pd.merge(cf_pivot_pd_copy, un_cash_incdec, how='left', on=['adsh'])\n",
    "cf_pivot_pd_copy.shape"
   ]
  },
  {
   "cell_type": "code",
   "execution_count": null,
   "metadata": {},
   "outputs": [],
   "source": [
    "# if CashAndCashEquivalentsPeriodIncreaseDecrease is not present and CashCashEquivalentsRestrictedCashAndRestrictedCashEquivalentsPeriodIncreaseDecreaseIncludingExchangeRateEffect\n",
    "# is present, we can replace CashAndCashEquivalentsPeriodIncreaseDecrease.\n",
    "# there are only about 12 entries where both are present\n",
    "copy_if_not_empty(cf_pivot_pd_copy, 'CashCashEquivalentsRestrictedCashAndRestrictedCashEquivalentsPeriodIncreaseDecreaseIncludingExchangeRateEffect', \n",
    "                                    'CashAndCashEquivalentsPeriodIncreaseDecrease') # either or\n",
    "copy_if_not_empty(cf_pivot_pd_copy, 'CashCashEquivalentsRestrictedCashAndRestrictedCashEquivalentsPeriodIncreaseDecreaseExcludingExchangeRateEffect', \n",
    "                                    'CashAndCashEquivalentsPeriodIncreaseDecrease') # either or\n",
    "copy_if_not_empty(cf_pivot_pd_copy, 'CashPeriodIncreaseDecrease', \n",
    "                                    'CashAndCashEquivalentsPeriodIncreaseDecrease') # either or\n",
    "copy_if_not_empty(cf_pivot_pd_copy, 'CashAndCashEquivalentsPeriodIncreaseDecreaseExcludingExchangeRateEffect', \n",
    "                                    'CashAndCashEquivalentsPeriodIncreaseDecrease') # either or\n",
    "copy_if_not_empty(cf_pivot_pd_copy, 'CashPeriodIncreaseDecreaseExcludingExchangeRateEffect', \n",
    "                                    'CashAndCashEquivalentsPeriodIncreaseDecrease') # either or\n",
    "copy_if_not_empty(cf_pivot_pd_copy, 'NetCashProvidedByUsedInContinuingOperations', \n",
    "                                    'CashAndCashEquivalentsPeriodIncreaseDecrease') # either or\n",
    "\n",
    "\n",
    "# try to find data in joined un data\n",
    "copy_if_not_empty(cf_pivot_pd_copy, 'cpy_CashAndCashEquivalentsPeriodIncreaseDecrease', \n",
    "                                    'CashAndCashEquivalentsPeriodIncreaseDecrease') # either or\n",
    "copy_if_not_empty(cf_pivot_pd_copy, 'cpy_CashCashEquivalentsRestrictedCashAndRestrictedCashEquivalentsPeriodIncreaseDecreaseIncludingExchangeRateEffect', \n",
    "                                    'CashAndCashEquivalentsPeriodIncreaseDecrease') # either or\n",
    "copy_if_not_empty(cf_pivot_pd_copy, 'cpy_CashCashEquivalentsRestrictedCashAndRestrictedCashEquivalentsPeriodIncreaseDecreaseExcludingExchangeRateEffect', \n",
    "                                    'CashAndCashEquivalentsPeriodIncreaseDecrease') # either or"
   ]
  },
  {
   "cell_type": "code",
   "execution_count": null,
   "metadata": {},
   "outputs": [
    {
     "name": "stdout",
     "output_type": "stream",
     "text": [
      "CashAndCashEquivalentsPeriodIncreaseDecrease   1563\n"
     ]
    }
   ],
   "source": [
    "print_null_count(cf_pivot_pd_copy, ['CashAndCashEquivalentsPeriodIncreaseDecrease'])"
   ]
  },
  {
   "cell_type": "code",
   "execution_count": null,
   "metadata": {},
   "outputs": [],
   "source": []
  },
  {
   "cell_type": "code",
   "execution_count": null,
   "metadata": {},
   "outputs": [],
   "source": []
  },
  {
   "cell_type": "markdown",
   "metadata": {},
   "source": [
    "# xx_trials"
   ]
  },
  {
   "cell_type": "code",
   "execution_count": null,
   "metadata": {},
   "outputs": [],
   "source": [
    "cf_pivot_pd_copy[(cf_pivot_pd_copy.StockholdersEquity.isnull())  ][[\"cik\",\"ticker\", \"adsh\",\"period\", \"StockholdersEquityBeforeTreasuryStock\", \"LiabilitiesAndStockholdersEquity\", \"RetainedEarningsAccumulatedDeficit\"]].sort_values(by=['period'])"
   ]
  },
  {
   "cell_type": "code",
   "execution_count": null,
   "metadata": {},
   "outputs": [
    {
     "data": {
      "text/plain": [
       "34"
      ]
     },
     "execution_count": null,
     "metadata": {},
     "output_type": "execute_result"
    }
   ],
   "source": [
    "selected = bs_piivot_pd_copy['ticker'] == 'FXE'\n",
    "sel_df = bs_piivot_pd_copy.loc[selected]\n",
    "do_copy = (sel_df['AssetsCurrent'].notnull()) & (sel_df['Assets'].isnull())\n",
    "do_copy.sum()"
   ]
  },
  {
   "cell_type": "code",
   "execution_count": null,
   "metadata": {},
   "outputs": [
    {
     "data": {
      "text/html": [
       "<div>\n",
       "<style scoped>\n",
       "    .dataframe tbody tr th:only-of-type {\n",
       "        vertical-align: middle;\n",
       "    }\n",
       "\n",
       "    .dataframe tbody tr th {\n",
       "        vertical-align: top;\n",
       "    }\n",
       "\n",
       "    .dataframe thead th {\n",
       "        text-align: right;\n",
       "    }\n",
       "</style>\n",
       "<table border=\"1\" class=\"dataframe\">\n",
       "  <thead>\n",
       "    <tr style=\"text-align: right;\">\n",
       "      <th></th>\n",
       "      <th>cik</th>\n",
       "      <th>ticker</th>\n",
       "      <th>adsh</th>\n",
       "      <th>period</th>\n",
       "      <th>CashAndCashEquivalentsPeriodIncreaseDecrease</th>\n",
       "      <th>NetCashProvidedByUsedInContinuingOperations</th>\n",
       "      <th>cpy_CashCashEquivalentsRestrictedCashAndRestrictedCashEquivalentsPeriodIncreaseDecreaseIncludingExchangeRateEffect</th>\n",
       "    </tr>\n",
       "  </thead>\n",
       "  <tbody>\n",
       "    <tr>\n",
       "      <th>131510</th>\n",
       "      <td>20171</td>\n",
       "      <td>CB</td>\n",
       "      <td>0000950123-09-032665</td>\n",
       "      <td>2009-06-30</td>\n",
       "      <td>NaN</td>\n",
       "      <td>NaN</td>\n",
       "      <td>NaN</td>\n",
       "    </tr>\n",
       "    <tr>\n",
       "      <th>69851</th>\n",
       "      <td>831001</td>\n",
       "      <td>C</td>\n",
       "      <td>0001047469-09-009754</td>\n",
       "      <td>2009-09-30</td>\n",
       "      <td>NaN</td>\n",
       "      <td>NaN</td>\n",
       "      <td>NaN</td>\n",
       "    </tr>\n",
       "    <tr>\n",
       "      <th>45994</th>\n",
       "      <td>20171</td>\n",
       "      <td>CB</td>\n",
       "      <td>0000950123-09-059260</td>\n",
       "      <td>2009-09-30</td>\n",
       "      <td>NaN</td>\n",
       "      <td>NaN</td>\n",
       "      <td>NaN</td>\n",
       "    </tr>\n",
       "    <tr>\n",
       "      <th>7912</th>\n",
       "      <td>874766</td>\n",
       "      <td>HIG</td>\n",
       "      <td>0000950123-09-056913</td>\n",
       "      <td>2009-09-30</td>\n",
       "      <td>NaN</td>\n",
       "      <td>NaN</td>\n",
       "      <td>NaN</td>\n",
       "    </tr>\n",
       "    <tr>\n",
       "      <th>72466</th>\n",
       "      <td>899051</td>\n",
       "      <td>ALL</td>\n",
       "      <td>0001104659-09-062522</td>\n",
       "      <td>2009-09-30</td>\n",
       "      <td>NaN</td>\n",
       "      <td>NaN</td>\n",
       "      <td>NaN</td>\n",
       "    </tr>\n",
       "    <tr>\n",
       "      <th>...</th>\n",
       "      <td>...</td>\n",
       "      <td>...</td>\n",
       "      <td>...</td>\n",
       "      <td>...</td>\n",
       "      <td>...</td>\n",
       "      <td>...</td>\n",
       "      <td>...</td>\n",
       "    </tr>\n",
       "    <tr>\n",
       "      <th>16678</th>\n",
       "      <td>704051</td>\n",
       "      <td>LM</td>\n",
       "      <td>0000704051-20-000060</td>\n",
       "      <td>2020-03-31</td>\n",
       "      <td>NaN</td>\n",
       "      <td>NaN</td>\n",
       "      <td>NaN</td>\n",
       "    </tr>\n",
       "    <tr>\n",
       "      <th>17724</th>\n",
       "      <td>867665</td>\n",
       "      <td>AXAS</td>\n",
       "      <td>0001437749-20-014626</td>\n",
       "      <td>2020-03-31</td>\n",
       "      <td>NaN</td>\n",
       "      <td>NaN</td>\n",
       "      <td>NaN</td>\n",
       "    </tr>\n",
       "    <tr>\n",
       "      <th>133324</th>\n",
       "      <td>1474439</td>\n",
       "      <td>TNAV</td>\n",
       "      <td>0001474439-20-000023</td>\n",
       "      <td>2020-03-31</td>\n",
       "      <td>NaN</td>\n",
       "      <td>NaN</td>\n",
       "      <td>NaN</td>\n",
       "    </tr>\n",
       "    <tr>\n",
       "      <th>103312</th>\n",
       "      <td>704051</td>\n",
       "      <td>LM</td>\n",
       "      <td>0000704051-20-000085</td>\n",
       "      <td>2020-06-30</td>\n",
       "      <td>NaN</td>\n",
       "      <td>NaN</td>\n",
       "      <td>NaN</td>\n",
       "    </tr>\n",
       "    <tr>\n",
       "      <th>49642</th>\n",
       "      <td>899715</td>\n",
       "      <td>SKT</td>\n",
       "      <td>0000899715-20-000132</td>\n",
       "      <td>2020-06-30</td>\n",
       "      <td>NaN</td>\n",
       "      <td>NaN</td>\n",
       "      <td>NaN</td>\n",
       "    </tr>\n",
       "  </tbody>\n",
       "</table>\n",
       "<p>1563 rows × 7 columns</p>\n",
       "</div>"
      ],
      "text/plain": [
       "            cik ticker                  adsh      period  \\\n",
       "131510    20171     CB  0000950123-09-032665  2009-06-30   \n",
       "69851    831001      C  0001047469-09-009754  2009-09-30   \n",
       "45994     20171     CB  0000950123-09-059260  2009-09-30   \n",
       "7912     874766    HIG  0000950123-09-056913  2009-09-30   \n",
       "72466    899051    ALL  0001104659-09-062522  2009-09-30   \n",
       "...         ...    ...                   ...         ...   \n",
       "16678    704051     LM  0000704051-20-000060  2020-03-31   \n",
       "17724    867665   AXAS  0001437749-20-014626  2020-03-31   \n",
       "133324  1474439   TNAV  0001474439-20-000023  2020-03-31   \n",
       "103312   704051     LM  0000704051-20-000085  2020-06-30   \n",
       "49642    899715    SKT  0000899715-20-000132  2020-06-30   \n",
       "\n",
       "        CashAndCashEquivalentsPeriodIncreaseDecrease  \\\n",
       "131510                                           NaN   \n",
       "69851                                            NaN   \n",
       "45994                                            NaN   \n",
       "7912                                             NaN   \n",
       "72466                                            NaN   \n",
       "...                                              ...   \n",
       "16678                                            NaN   \n",
       "17724                                            NaN   \n",
       "133324                                           NaN   \n",
       "103312                                           NaN   \n",
       "49642                                            NaN   \n",
       "\n",
       "        NetCashProvidedByUsedInContinuingOperations  \\\n",
       "131510                                          NaN   \n",
       "69851                                           NaN   \n",
       "45994                                           NaN   \n",
       "7912                                            NaN   \n",
       "72466                                           NaN   \n",
       "...                                             ...   \n",
       "16678                                           NaN   \n",
       "17724                                           NaN   \n",
       "133324                                          NaN   \n",
       "103312                                          NaN   \n",
       "49642                                           NaN   \n",
       "\n",
       "        cpy_CashCashEquivalentsRestrictedCashAndRestrictedCashEquivalentsPeriodIncreaseDecreaseIncludingExchangeRateEffect  \n",
       "131510                                                NaN                                                                   \n",
       "69851                                                 NaN                                                                   \n",
       "45994                                                 NaN                                                                   \n",
       "7912                                                  NaN                                                                   \n",
       "72466                                                 NaN                                                                   \n",
       "...                                                   ...                                                                   \n",
       "16678                                                 NaN                                                                   \n",
       "17724                                                 NaN                                                                   \n",
       "133324                                                NaN                                                                   \n",
       "103312                                                NaN                                                                   \n",
       "49642                                                 NaN                                                                   \n",
       "\n",
       "[1563 rows x 7 columns]"
      ]
     },
     "execution_count": null,
     "metadata": {},
     "output_type": "execute_result"
    }
   ],
   "source": [
    "cf_pivot_pd_copy[(cf_pivot_pd_copy.CashAndCashEquivalentsPeriodIncreaseDecrease.isnull())  \\\n",
    " #                 &(cf_pivot_pd_copy.NetCashProvidedByUsedInContinuingOperations.notnull())\n",
    "                ] \\\n",
    "  [[\"cik\",\"ticker\", \"adsh\",\"period\", \n",
    "    'CashAndCashEquivalentsPeriodIncreaseDecrease',\n",
    "    'NetCashProvidedByUsedInContinuingOperations',\n",
    "    'cpy_CashCashEquivalentsRestrictedCashAndRestrictedCashEquivalentsPeriodIncreaseDecreaseIncludingExchangeRateEffect',\n",
    "    #    'CashCashEquivalentsRestrictedCashAndRestrictedCashEquivalentsPeriodIncreaseDecreaseExcludingExchangeRateEffect',\n",
    "#    'CashPeriodIncreaseDecrease',\n",
    "#    'CashAndCashEquivalentsPeriodIncreaseDecreaseExcludingExchangeRateEffect',\n",
    "#    'CashPeriodIncreaseDecreaseExcludingExchangeRateEffect',   \n",
    "\n",
    "    ]] \\\n",
    "    .sort_values(by=['period'])"
   ]
  },
  {
   "cell_type": "code",
   "execution_count": null,
   "metadata": {},
   "outputs": [],
   "source": [
    "bs_pivot_liabilities_copy[(bs_pivot_liabilities_copy.StockholdersEquity.isnull())][[\"cik\",\"ticker\", \"adsh\",\"period\", \"Assets\", \"StockholdersEquity\", \"LiabilitiesAndStockholdersEquity\", \"RetainedEarningsAccumulatedDeficit\"]].sort_values(by=['period'])"
   ]
  },
  {
   "cell_type": "code",
   "execution_count": null,
   "metadata": {},
   "outputs": [],
   "source": [
    "bs_pivot_liabilities_copy[(bs_pivot_liabilities_copy.adsh == '0001104659-09-029605')][[\"cik\",\"ticker\", \"adsh\",\"period\",\"report\", \"line\"]].sort_values(by=['period'])"
   ]
  },
  {
   "cell_type": "code",
   "execution_count": null,
   "metadata": {},
   "outputs": [
    {
     "data": {
      "text/plain": [
       "['cik',\n",
       " 'ticker',\n",
       " 'adsh',\n",
       " 'form',\n",
       " 'period',\n",
       " 'fp',\n",
       " 'AcceleratedShareRepurchaseProgramAdjustment',\n",
       " 'AcceleratedShareRepurchasesSettlementPaymentOrReceipt',\n",
       " 'AccountsAndNotesReceivableNet',\n",
       " 'AccountsAndOtherReceivablesNetCurrent',\n",
       " 'AccountsPayableAndAccruedLiabilities',\n",
       " 'AccountsPayableAndAccruedLiabilitiesCurrentAndNoncurrent',\n",
       " 'AccountsPayableAndOtherAccruedLiabilities',\n",
       " 'AccountsPayableCurrent',\n",
       " 'AccountsPayableCurrentAndNoncurrent',\n",
       " 'AccountsPayableRelatedPartiesCurrentAndNoncurrent',\n",
       " 'AccountsPayableRelatedPartiesNoncurrent',\n",
       " 'AccountsReceivableNet',\n",
       " 'AccountsReceivableNetCurrent',\n",
       " 'AccretionAmortizationOfDiscountsAndPremiumsInvestments',\n",
       " 'AccretionExpense',\n",
       " 'AccretionExpenseIncludingAssetRetirementObligations',\n",
       " 'AccretionOfDiscount',\n",
       " 'AccrualForEnvironmentalLossContingenciesPayments',\n",
       " 'AccrualForEnvironmentalLossContingenciesPeriodIncreaseDecrease',\n",
       " 'AccruedInvestmentIncomeReceivable',\n",
       " 'AccruedLiabilitiesAndOtherLiabilities',\n",
       " 'AccruedProfessionalFeesCurrent',\n",
       " 'AccruedProfessionalFeesCurrentAndNoncurrent',\n",
       " 'AccruedSalariesCurrent',\n",
       " 'AccumulatedCapitalizedInterestCosts',\n",
       " 'AccumulatedDepreciationDepletionAndAmortizationExpensePropertyPlantAndEquipmentCurrentCharge',\n",
       " 'AccumulatedDepreciationDepletionAndAmortizationPropertyPlantAndEquipment',\n",
       " 'AccumulatedDepreciationDepletionAndAmortizationPropertyPlantAndEquipmentPeriodIncreaseDecrease',\n",
       " 'AccumulatedDepreciationDepletionAndAmortizationSaleOfPropertyPlantAndEquipment1',\n",
       " 'AccumulatedDepreciationDepletionAndAmortizationWritedownOfPropertyPlantAndEquipment',\n",
       " 'AccumulatedOtherComprehensiveIncomeLossAvailableForSaleSecuritiesAdjustmentNetOfTax',\n",
       " 'AccumulatedOtherComprehensiveIncomeLossCumulativeChangesInNetGainLossFromCashFlowHedgesEffectNetOfTax',\n",
       " 'AccumulatedOtherComprehensiveIncomeLossDefinedBenefitPensionAndOtherPostretirementPlansNetOfTax',\n",
       " 'AccumulatedOtherComprehensiveIncomeLossNetOfTax',\n",
       " 'AcquiredFiniteLivedIntangibleAssetAmount',\n",
       " 'AcquiredIndefiniteLivedIntangibleAssetAmount',\n",
       " 'AcquisitionCosts',\n",
       " 'AdditionalPaidInCapital',\n",
       " 'AdditionsToContractHoldersFunds',\n",
       " 'AdditionsToOtherAssetsAmount',\n",
       " 'AdjustmentForAmortization',\n",
       " 'AdjustmentOfWarrantsGrantedForServices',\n",
       " 'AdjustmentToAdditionalPaidInCapitalIncomeTaxEffectFromShareBasedCompensationNet',\n",
       " 'AdjustmentsForNoncashItemsIncludedInIncomeLossFromContinuingOperations',\n",
       " 'AdjustmentsNoncashItemsToReconcileNetIncomeLossToCashProvidedByUsedInOperatingActivities',\n",
       " 'AdjustmentsNoncashItemsToReconcileNetIncomeLossToCashProvidedByUsedInOperatingActivitiesOther',\n",
       " 'AdjustmentsRelatedToTaxWithholdingForShareBasedCompensation',\n",
       " 'AdjustmentsToAdditionalPaidInCapitalConvertibleDebtWithConversionFeature',\n",
       " 'AdjustmentsToAdditionalPaidInCapitalDividendsInExcessOfRetainedEarnings',\n",
       " 'AdjustmentsToAdditionalPaidInCapitalEquityComponentOfConvertibleDebt',\n",
       " 'AdjustmentsToAdditionalPaidInCapitalEquityComponentOfConvertibleDebtSubsequentAdjustments',\n",
       " 'AdjustmentsToAdditionalPaidInCapitalIncomeTaxDeficiencyFromShareBasedCompensation',\n",
       " 'AdjustmentsToAdditionalPaidInCapitalIncreaseInCarryingAmountOfRedeemablePreferredStock',\n",
       " 'AdjustmentsToAdditionalPaidInCapitalMarkToMarket',\n",
       " 'AdjustmentsToAdditionalPaidInCapitalOther',\n",
       " 'AdjustmentsToAdditionalPaidInCapitalReallocationOfMinorityInterest',\n",
       " 'AdjustmentsToAdditionalPaidInCapitalShareBasedCompensationEmployeeStockPurchaseProgramRequisiteServicePeriodRecognition',\n",
       " 'AdjustmentsToAdditionalPaidInCapitalShareBasedCompensationRestrictedStockUnitsRequisiteServicePeriodRecognition',\n",
       " 'AdjustmentsToAdditionalPaidInCapitalShareBasedCompensationStockOptionsRequisiteServicePeriodRecognition',\n",
       " 'AdjustmentsToAdditionalPaidInCapitalSharebasedCompensationAndExerciseOfStockOptions',\n",
       " 'AdjustmentsToAdditionalPaidInCapitalSharebasedCompensationOtherLongtermIncentivePlansRequisiteServicePeriodRecognition',\n",
       " 'AdjustmentsToAdditionalPaidInCapitalSharebasedCompensationRequisiteServicePeriodRecognitionValue',\n",
       " 'AdjustmentsToAdditionalPaidInCapitalStockIssuedIssuanceCosts',\n",
       " 'AdjustmentsToAdditionalPaidInCapitalTaxEffectFromShareBasedCompensation',\n",
       " 'AdjustmentsToAdditionalPaidInCapitalWarrantIssued',\n",
       " 'AdjustmentsToReconcileIncomeLossToNetCashProvidedByUsedInContinuingOperations',\n",
       " 'AdjustmentsToReconcileNetIncomeLossToCashProvidedByUsedInOperatingActivities',\n",
       " 'AdvancePaymentsByBorrowersForTaxesAndInsurance',\n",
       " 'AdvertisingBarterTransactionsAdvertisingBarterCosts',\n",
       " 'AffiliateCosts',\n",
       " 'AffordableHousingProgramAssessments',\n",
       " 'AffordableHousingProgramObligationPeriodIncreaseDecrease',\n",
       " 'AffordableHousingProjectInvestmentWriteDownAmount',\n",
       " 'AllocatedShareBasedCompensationExpense',\n",
       " 'AllocatedShareBasedCompensationExpenseNetOfTax',\n",
       " 'AllowanceForDoubtfulAccountsPremiumsAndOtherReceivables',\n",
       " 'AllowanceForDoubtfulAccountsReceivable',\n",
       " 'AllowanceForDoubtfulAccountsReceivableCurrent',\n",
       " 'AllowanceForDoubtfulAccountsReceivablePeriodIncreaseDecrease',\n",
       " 'AllowanceForDoubtfulAccountsReceivableRecoveries',\n",
       " 'AllowanceForDoubtfulAccountsReceivableWriteOffs',\n",
       " 'AllowanceForDoubtfulOtherReceivablesCurrent',\n",
       " 'AllowanceForFundsUsedDuringConstructionInvestingActivities',\n",
       " 'AllowanceForLoanAndLeaseLossRecoveryOfBadDebts',\n",
       " 'AllowanceForLoanAndLeaseLossesAdjustmentsNet',\n",
       " 'AllowanceForLoanAndLeaseLossesLoansAcquired',\n",
       " 'AllowanceForLoanAndLeaseLossesPeriodIncreaseDecrease',\n",
       " 'AllowanceForLoanAndLeaseLossesProvisionForLossGross',\n",
       " 'AllowanceForLoanAndLeaseLossesProvisionForLossNet',\n",
       " 'AllowanceForLoanAndLeaseLossesRealEstate',\n",
       " 'AllowanceForLoanAndLeaseLossesRecoveriesOfBadDebts',\n",
       " 'AllowanceForLoanAndLeaseLossesWriteOffs',\n",
       " 'AllowanceForLoanAndLeaseLossesWriteoffsNet',\n",
       " 'AllowanceForNotesAndLoansReceivableCurrent',\n",
       " 'AmortizationAndDepreciationOfDecontaminatingAndDecommissioningAssets',\n",
       " 'AmortizationMethodQualifiedAffordableHousingProjectInvestmentsAmortization',\n",
       " 'AmortizationOfAboveAndBelowMarketLeases',\n",
       " 'AmortizationOfAcquiredIntangibleAssets',\n",
       " 'AmortizationOfAcquisitionCosts',\n",
       " 'AmortizationOfAdvanceRoyalty',\n",
       " 'AmortizationOfBelowMarketLease',\n",
       " 'AmortizationOfCapitalizedValueOfBusinessAcquiredAsset',\n",
       " 'AmortizationOfDebtDiscountPremium',\n",
       " 'AmortizationOfDeferredAcquisitionCostsDAC',\n",
       " 'AmortizationOfDeferredCharges',\n",
       " 'AmortizationOfDeferredHedgeGains',\n",
       " 'AmortizationOfDeferredLeasingFees',\n",
       " 'AmortizationOfDeferredLoanOriginationFeesNet',\n",
       " 'AmortizationOfDeferredPropertyTaxes',\n",
       " 'AmortizationOfDeferredSalesCommissions',\n",
       " 'AmortizationOfESOPAward',\n",
       " 'AmortizationOfFinancingCosts',\n",
       " 'AmortizationOfFinancingCostsAndDiscounts',\n",
       " 'AmortizationOfIntangibleAssets',\n",
       " 'AmortizationOfLeaseIncentives',\n",
       " 'AmortizationOfLeasedAsset',\n",
       " 'AmortizationOfMortgageServicingRightsMSRs',\n",
       " 'AmortizationOfNuclearFuelLease',\n",
       " 'AmortizationOfPowerContractsEmissionCredits',\n",
       " 'AmortizationOfRegulatoryAsset',\n",
       " 'AmortizationOfValueOfBusinessAcquiredVOBA',\n",
       " 'AmountRecognizedInIncomeDueToInflationaryAccounting',\n",
       " 'AntidilutiveSecuritiesExcludedFromComputationOfEarningsPerShareAmount',\n",
       " 'ApplicationOfRecognitionProvisionsOfSFAS158EffectOnAccumulatedOtherComprehensiveIncomeNetOfTax',\n",
       " 'AreaOfRealEstateProperty',\n",
       " 'AssetAtFairValueChangesInFairValueResultingFromChangesInAssumptions',\n",
       " 'AssetImpairmentCharges',\n",
       " 'AssetManagementCosts',\n",
       " 'AssetRetirementObligation',\n",
       " 'AssetRetirementObligationAccretionExpense',\n",
       " 'AssetRetirementObligationCashPaidToSettle',\n",
       " 'AssetRetirementObligationLiabilitiesIncurred',\n",
       " 'AssetRetirementObligationLiabilitiesSettled',\n",
       " 'AssetRetirementObligationPeriodIncreaseDecrease',\n",
       " 'AssetRetirementObligationRevisionOfEstimate',\n",
       " 'Assets',\n",
       " 'AssetsDisposedOfByMethodOtherThanSaleInPeriodOfDispositionGainLossOnDisposition',\n",
       " 'AssetsDisposedOfByMethodOtherThanSaleInPeriodOfDispositionGainLossOnDisposition1',\n",
       " 'AssetsFairValueAdjustment',\n",
       " 'AssetsHeldForSaleAtCarryingValue',\n",
       " 'AssetsHeldForSaleCurrent',\n",
       " 'AssetsHeldForSaleLongLived',\n",
       " 'AssetsHeldForSaleNotPartOfDisposalGroupCurrent',\n",
       " 'AssetsOfDisposalGroupIncludingDiscontinuedOperation',\n",
       " 'AvailableForSaleDebtSecuritiesAmortizedCostBasis',\n",
       " 'AvailableForSaleDebtSecuritiesGrossUnrealizedGain',\n",
       " 'AvailableForSaleDebtSecuritiesGrossUnrealizedLoss',\n",
       " 'AvailableForSaleEquitySecuritiesGrossUnrealizedGain',\n",
       " 'AvailableForSaleEquitySecuritiesGrossUnrealizedLoss',\n",
       " 'AvailableForSaleSecurities',\n",
       " 'AvailableForSaleSecuritiesAccumulatedGrossUnrealizedGainLossBeforeTax',\n",
       " 'AvailableForSaleSecuritiesChangeInNetUnrealizedHoldingGainLoss',\n",
       " 'AvailableForSaleSecuritiesChangeInNetUnrealizedHoldingGainLossNetOfTax',\n",
       " 'AvailableForSaleSecuritiesCurrent',\n",
       " 'AvailableForSaleSecuritiesDebtMaturitiesAmortizedCost',\n",
       " 'AvailableForSaleSecuritiesGrossGainsLossesNetDerivatives',\n",
       " 'AvailableForSaleSecuritiesGrossRealizedGainLossNet',\n",
       " 'AvailableForSaleSecuritiesGrossRealizedGains',\n",
       " 'AvailableForSaleSecuritiesGrossRealizedGainsLossesSaleProceeds',\n",
       " 'AvailableForSaleSecuritiesGrossRealizedLosses',\n",
       " 'AvailableForSaleSecuritiesGrossUnrealizedGainLoss',\n",
       " 'AvailableForSaleSecuritiesGrossUnrealizedGains',\n",
       " 'AvailableForSaleSecuritiesGrossUnrealizedLoss',\n",
       " 'AvailableForSaleSecuritiesGrossUnrealizedLosses1',\n",
       " 'AvailableForSaleSecuritiesIncomeTaxExpenseOnChangeInUnrealizedHoldingGainOrLoss',\n",
       " 'AvailableForSaleSecuritiesShortTermInvestmentsAmortizedCost',\n",
       " 'AvailableForSaleSecuritiesTransfersToTradingGainsLossesNet',\n",
       " 'AvailableForSaleSecuritiesTransfersToTradingGrossGains',\n",
       " 'AvailableforsaleSecuritiesGrossRealizedGainLossExcludingOtherThanTemporaryImpairments',\n",
       " 'AvailableforsaleSecuritiesGrossRealizedLossesExcludingOtherThanTemporaryImpairments',\n",
       " 'AvailableforsaleSecuritiesGrossUnrealizedGain',\n",
       " 'AvailableforsaleSecuritiesGrossUnrealizedGainLoss1',\n",
       " 'AvailableforsaleSecuritiesTransfersToTradingGainsLossesExcludingOtherThanTemporaryImpairments',\n",
       " 'BankOverdrafts',\n",
       " 'BankOwnedLifeInsurance',\n",
       " 'BankOwnedLifeInsuranceIncome',\n",
       " 'BelowMarketLeaseAcquired',\n",
       " 'BusinessAcquisitionContingentConsiderationAtFairValue',\n",
       " 'BusinessAcquisitionContingentConsiderationAtFairValueNoncurrent',\n",
       " 'BusinessAcquisitionContingentConsiderationPotentialCashPayment',\n",
       " 'BusinessAcquisitionContingentConsiderationSharesIssuable',\n",
       " 'BusinessAcquisitionCostOfAcquiredEntityCashPaid',\n",
       " 'BusinessAcquisitionCostOfAcquiredEntityEquityInterestsIssuedAndIssuable',\n",
       " 'BusinessAcquisitionCostOfAcquiredEntityLiabilitiesIncurred',\n",
       " 'BusinessAcquisitionCostOfAcquiredEntityOtherNoncashConsideration',\n",
       " 'BusinessAcquisitionCostOfAcquiredEntityPurchasePrice',\n",
       " 'BusinessAcquisitionCostOfAcquiredEntityTransactionCosts',\n",
       " 'BusinessAcquisitionEquityInterestIssuedOrIssuableValueAssigned',\n",
       " 'BusinessAcquisitionEquityInterestsIssuedOrIssuableNumberOfSharesIssued',\n",
       " 'BusinessAcquisitionPercentageOfVotingInterestsAcquired',\n",
       " 'BusinessAcquisitionPreacquisitionContingencyAmount',\n",
       " 'BusinessAcquisitionPreacquisitionContingencyAmountOfSettlement',\n",
       " 'BusinessAcquisitionPurchasePriceAllocationAmortizableIntangibleAssets',\n",
       " 'BusinessAcquisitionPurchasePriceAllocationAssetsAcquired',\n",
       " 'BusinessAcquisitionPurchasePriceAllocationAssetsAcquiredLiabilitiesAssumedNet',\n",
       " 'BusinessAcquisitionPurchasePriceAllocationCapitalLeaseObligationAccrual',\n",
       " 'BusinessAcquisitionPurchasePriceAllocationCurrentAssets',\n",
       " 'BusinessAcquisitionPurchasePriceAllocationCurrentAssetsCashAndCashEquivalents',\n",
       " 'BusinessAcquisitionPurchasePriceAllocationCurrentAssetsInventory',\n",
       " 'BusinessAcquisitionPurchasePriceAllocationCurrentAssetsMarketableSecurities',\n",
       " 'BusinessAcquisitionPurchasePriceAllocationCurrentAssetsPrepaidExpenseAndOtherAssets',\n",
       " 'BusinessAcquisitionPurchasePriceAllocationCurrentAssetsReceivables',\n",
       " 'BusinessAcquisitionPurchasePriceAllocationCurrentLiabilities',\n",
       " 'BusinessAcquisitionPurchasePriceAllocationCurrentLiabilitiesAccountsPayable',\n",
       " 'BusinessAcquisitionPurchasePriceAllocationCurrentLiabilitiesAccruedLiabilities',\n",
       " 'BusinessAcquisitionPurchasePriceAllocationCurrentLiabilitiesLongTermDebt',\n",
       " 'BusinessAcquisitionPurchasePriceAllocationCurrentLiabilitiesOtherLiabilities',\n",
       " 'BusinessAcquisitionPurchasePriceAllocationDeferredTaxAssetsNoncurrent',\n",
       " 'BusinessAcquisitionPurchasePriceAllocationDeferredTaxLiabilitiesNoncurrent',\n",
       " 'BusinessAcquisitionPurchasePriceAllocationGoodwillAmount',\n",
       " 'BusinessAcquisitionPurchasePriceAllocationGoodwillExpectedTaxDeductibleAmount',\n",
       " 'BusinessAcquisitionPurchasePriceAllocationIntangibleAssetsOtherThanGoodwill',\n",
       " 'BusinessAcquisitionPurchasePriceAllocationLiabilitiesAssumed',\n",
       " 'BusinessAcquisitionPurchasePriceAllocationNetTangibleAssets',\n",
       " 'BusinessAcquisitionPurchasePriceAllocationNoncontrollingInterest',\n",
       " 'BusinessAcquisitionPurchasePriceAllocationNoncurrentAssets',\n",
       " 'BusinessAcquisitionPurchasePriceAllocationNoncurrentLiabilities',\n",
       " 'BusinessAcquisitionPurchasePriceAllocationNoncurrentLiabilitiesLongTermDebt',\n",
       " 'BusinessAcquisitionPurchasePriceAllocationNotesPayableAndLongTermDebt',\n",
       " 'BusinessAcquisitionPurchasePriceAllocationOtherAssets',\n",
       " 'BusinessAcquisitionPurchasePriceAllocationOtherLiabilities',\n",
       " 'BusinessAcquisitionPurchasePriceAllocationProperty',\n",
       " 'BusinessAcquisitionPurchasePriceAllocationPropertyPlantAndEquipment',\n",
       " 'BusinessAcquisitionSharePrice',\n",
       " 'BusinessAcquisitionsProFormaRevenue',\n",
       " 'BusinessAcquisitionsPurchasePriceAllocationSubsequentYearsNetEffectOnIncome',\n",
       " 'BusinessAcquisitionsPurchasePriceAllocationSubsequentYearsRemainingAdjustments',\n",
       " 'BusinessAcquisitionsPurchasePriceAllocationYearOfAcquisitionNetEffectOnIncome',\n",
       " 'BusinessCombinationAcquisitionOfLessThan100PercentNoncontrollingInterestFairValue',\n",
       " 'BusinessCombinationAcquisitionRelatedCosts',\n",
       " 'BusinessCombinationAssetsAndLiabilitiesArisingFromContingenciesAmountRecognized',\n",
       " 'BusinessCombinationBargainPurchaseGainRecognizedAmount',\n",
       " 'BusinessCombinationConsiderationTransferred',\n",
       " 'BusinessCombinationConsiderationTransferred1',\n",
       " 'BusinessCombinationConsiderationTransferredEquityInterestsIssuedAndIssuable',\n",
       " 'BusinessCombinationConsiderationTransferredIncludingEquityInterestInAcquireeHeldPriorToCombination1',\n",
       " 'BusinessCombinationConsiderationTransferredLiabilitiesIncurred',\n",
       " 'BusinessCombinationConsiderationTransferredOther1',\n",
       " 'BusinessCombinationContingentConsiderationArrangementsChangeInAmountContingentAssetsAndLiabilitiesRecognizedAsset',\n",
       " 'BusinessCombinationContingentConsiderationArrangementsChangeInAmountContingentAssetsAndLiabilitiesRecognizedLiability',\n",
       " 'BusinessCombinationContingentConsiderationArrangementsChangeInAmountOfContingentConsiderationAsset',\n",
       " 'BusinessCombinationContingentConsiderationArrangementsChangeInAmountOfContingentConsiderationAsset1',\n",
       " 'BusinessCombinationContingentConsiderationArrangementsChangeInAmountOfContingentConsiderationLiability',\n",
       " 'BusinessCombinationContingentConsiderationArrangementsChangeInAmountOfContingentConsiderationLiability1',\n",
       " 'BusinessCombinationContingentConsiderationArrangementsChangeInTheRangeOfOutcomesContingentConsiderationLiabilityValueHigh',\n",
       " 'BusinessCombinationContingentConsiderationArrangementsChangeInTheRangeOfOutcomesContingentConsiderationLiabilityValueLow',\n",
       " 'BusinessCombinationContingentConsiderationArrangementsRangeOfOutcomesValueHigh',\n",
       " 'BusinessCombinationContingentConsiderationAsset',\n",
       " 'BusinessCombinationContingentConsiderationLiability',\n",
       " 'BusinessCombinationContingentConsiderationLiabilityCurrent',\n",
       " 'BusinessCombinationContingentConsiderationLiabilityNoncurrent',\n",
       " 'BusinessCombinationIntegrationRelatedCosts',\n",
       " 'BusinessCombinationLiabilitiesArisingFromContingenciesAmountRecognized',\n",
       " 'BusinessCombinationProvisionalInformationInitialAccountingIncompleteAdjustmentConsiderationTransferred',\n",
       " 'BusinessCombinationProvisionalInformationInitialAccountingIncompleteAdjustmentFinancialLiabilities',\n",
       " 'BusinessCombinationProvisionalInformationInitialAccountingIncompleteAdjustmentIntangibles',\n",
       " 'BusinessCombinationProvisionalInformationInitialAccountingIncompleteAdjustmentInventory',\n",
       " 'BusinessCombinationProvisionalInformationInitialAccountingIncompleteAdjustmentPropertyPlantAndEquipment',\n",
       " 'BusinessCombinationRecognizedIdentifiableAssetsAcquiredAndLiabilitiesAssumedAssets',\n",
       " 'BusinessCombinationRecognizedIdentifiableAssetsAcquiredAndLiabilitiesAssumedBuildings',\n",
       " 'BusinessCombinationRecognizedIdentifiableAssetsAcquiredAndLiabilitiesAssumedCapitalLeaseObligation',\n",
       " 'BusinessCombinationRecognizedIdentifiableAssetsAcquiredAndLiabilitiesAssumedCashAndEquivalents',\n",
       " 'BusinessCombinationRecognizedIdentifiableAssetsAcquiredAndLiabilitiesAssumedContingentLiability',\n",
       " 'BusinessCombinationRecognizedIdentifiableAssetsAcquiredAndLiabilitiesAssumedCurrentAssets',\n",
       " 'BusinessCombinationRecognizedIdentifiableAssetsAcquiredAndLiabilitiesAssumedCurrentAssetsMarketableSecurities',\n",
       " 'BusinessCombinationRecognizedIdentifiableAssetsAcquiredAndLiabilitiesAssumedCurrentAssetsOther',\n",
       " 'BusinessCombinationRecognizedIdentifiableAssetsAcquiredAndLiabilitiesAssumedCurrentAssetsPrepaidExpenseAndOtherAssets',\n",
       " 'BusinessCombinationRecognizedIdentifiableAssetsAcquiredAndLiabilitiesAssumedCurrentAssetsReceivables',\n",
       " 'BusinessCombinationRecognizedIdentifiableAssetsAcquiredAndLiabilitiesAssumedCurrentLiabilities',\n",
       " 'BusinessCombinationRecognizedIdentifiableAssetsAcquiredAndLiabilitiesAssumedCurrentLiabilitiesAccountsPayable',\n",
       " 'BusinessCombinationRecognizedIdentifiableAssetsAcquiredAndLiabilitiesAssumedCurrentLiabilitiesDeferredRevenue',\n",
       " 'BusinessCombinationRecognizedIdentifiableAssetsAcquiredAndLiabilitiesAssumedCurrentLiabilitiesLongTermDebt',\n",
       " 'BusinessCombinationRecognizedIdentifiableAssetsAcquiredAndLiabilitiesAssumedCurrentLiabilitiesOther',\n",
       " 'BusinessCombinationRecognizedIdentifiableAssetsAcquiredAndLiabilitiesAssumedDeferredTaxAssets',\n",
       " 'BusinessCombinationRecognizedIdentifiableAssetsAcquiredAndLiabilitiesAssumedDeferredTaxAssetsCurrent',\n",
       " 'BusinessCombinationRecognizedIdentifiableAssetsAcquiredAndLiabilitiesAssumedDeferredTaxAssetsNoncurrent',\n",
       " 'BusinessCombinationRecognizedIdentifiableAssetsAcquiredAndLiabilitiesAssumedDeferredTaxLiabilities',\n",
       " 'BusinessCombinationRecognizedIdentifiableAssetsAcquiredAndLiabilitiesAssumedDeferredTaxLiabilitiesCurrent',\n",
       " 'BusinessCombinationRecognizedIdentifiableAssetsAcquiredAndLiabilitiesAssumedDeferredTaxLiabilitiesNoncurrent',\n",
       " 'BusinessCombinationRecognizedIdentifiableAssetsAcquiredAndLiabilitiesAssumedFinancialAssets',\n",
       " 'BusinessCombinationRecognizedIdentifiableAssetsAcquiredAndLiabilitiesAssumedFinancialLiabilities',\n",
       " 'BusinessCombinationRecognizedIdentifiableAssetsAcquiredAndLiabilitiesAssumedIndefiniteLivedIntangibleAssets',\n",
       " 'BusinessCombinationRecognizedIdentifiableAssetsAcquiredAndLiabilitiesAssumedIntangibleAssetsOtherThanGoodwill',\n",
       " 'BusinessCombinationRecognizedIdentifiableAssetsAcquiredAndLiabilitiesAssumedIntangibles',\n",
       " 'BusinessCombinationRecognizedIdentifiableAssetsAcquiredAndLiabilitiesAssumedInventory',\n",
       " 'BusinessCombinationRecognizedIdentifiableAssetsAcquiredAndLiabilitiesAssumedLand',\n",
       " 'BusinessCombinationRecognizedIdentifiableAssetsAcquiredAndLiabilitiesAssumedLiabilities',\n",
       " 'BusinessCombinationRecognizedIdentifiableAssetsAcquiredAndLiabilitiesAssumedNet',\n",
       " 'BusinessCombinationRecognizedIdentifiableAssetsAcquiredAndLiabilitiesAssumedNoncurrentAssets',\n",
       " 'BusinessCombinationRecognizedIdentifiableAssetsAcquiredAndLiabilitiesAssumedNoncurrentLiabilities',\n",
       " 'BusinessCombinationRecognizedIdentifiableAssetsAcquiredAndLiabilitiesAssumedNoncurrentLiabilitiesLongTermDebt',\n",
       " 'BusinessCombinationRecognizedIdentifiableAssetsAcquiredAndLiabilitiesAssumedNoncurrentLiabilitiesOther',\n",
       " 'BusinessCombinationRecognizedIdentifiableAssetsAcquiredAndLiabilitiesAssumedOtherNoncurrentAssets',\n",
       " 'BusinessCombinationRecognizedIdentifiableAssetsAcquiredAndLiabilitiesAssumedPropertyPlantAndEquipment',\n",
       " 'BusinessCombinationRecognizedIdentifiableAssetsAcquiredGoodwillAndLiabilitiesAssumedLessNoncontrollingInterest',\n",
       " 'BusinessCombinationRecognizedIdentifiableAssetsAcquiredGoodwillAndLiabilitiesAssumedNet',\n",
       " 'BusinessCombinationSeparatelyRecognizedTransactionsAdditionalDisclosuresAcquisitionCostExpensed',\n",
       " 'BusinessCombinationSeparatelyRecognizedTransactionsExpensesAndLossesRecognized',\n",
       " 'BusinessCombinationSeparatelyRecognizedTransactionsNetGainsAndLosses',\n",
       " 'BusinessCombinationSeparatelyRecognizedTransactionsRevenuesAndGainsRecognized',\n",
       " 'BusinessCombinationStepAcquisitionEquityInterestInAcquireeFairValue',\n",
       " 'BusinessCombinationStepAcquisitionEquityInterestInAcquireeFairValue1',\n",
       " 'BusinessCombinationStepAcquisitionEquityInterestInAcquireeRemeasurementGain',\n",
       " 'BusinessCombinationStepAcquisitionEquityInterestInAcquireeRemeasurementGainOrLoss',\n",
       " 'BusinessCombinationStepAcquisitionEquityInterestInAcquireeRemeasurementLoss',\n",
       " 'BusinessDevelopment',\n",
       " 'BusinessExitCosts',\n",
       " 'BusinessExitCosts1',\n",
       " 'CapitalExpenditureDiscontinuedOperations',\n",
       " 'CapitalExpendituresIncurredButNotYetPaid',\n",
       " 'CapitalLeaseObligations',\n",
       " 'CapitalLeaseObligationsIncurred',\n",
       " 'CapitalLeasedAssetsGross',\n",
       " 'CapitalLeasesBalanceSheetAssetsByMajorClassNet',\n",
       " 'CapitalLeasesIncomeStatementAmortizationExpense',\n",
       " 'CapitalLeasesIncomeStatementDirectFinancingLeaseRevenue',\n",
       " 'CapitalLeasesIncomeStatementInterestExpense',\n",
       " 'CapitalLeasesIncomeStatementLeaseRevenue',\n",
       " 'CapitalLeasesIncomeStatementSalesTypeLeaseRevenue',\n",
       " 'CapitalLeasesIndemnificationAgreementsPayments',\n",
       " 'CapitalLeasesLesseeBalanceSheetAssetsByMajorClassOtherPropertyPlantAndEquipment',\n",
       " 'CapitalLeasesNetInvestmentInDirectFinancingLeases',\n",
       " 'CapitalLeasesNetInvestmentInSalesTypeLeasesMinimumPaymentsToBeReceived',\n",
       " 'CapitalUnitsAdjustmentForMarketChanges',\n",
       " 'CapitalizedComputerSoftwareAccumulatedAmortization',\n",
       " 'CapitalizedComputerSoftwareAdditions',\n",
       " 'CapitalizedComputerSoftwareAmortization',\n",
       " 'CapitalizedComputerSoftwareAmortization1',\n",
       " 'CapitalizedComputerSoftwareImpairments',\n",
       " 'CapitalizedComputerSoftwareImpairments1',\n",
       " 'CapitalizedComputerSoftwarePeriodIncreaseDecrease',\n",
       " 'CapitalizedContractCostAmortization',\n",
       " 'CapitalizedContractCostImpairmentLoss',\n",
       " 'CapitalizedContractCostNet',\n",
       " 'CapitalizedCostsAssetRetirementCosts',\n",
       " 'CapitalizedExploratoryWellCostChargedToExpense',\n",
       " 'CapitalizedExploratoryWellCostChargedToExpense1',\n",
       " 'CapitalizedSoftwareDevelopmentCostsForSoftwareSoldToCustomers',\n",
       " 'Cash',\n",
       " 'CashAcquiredFromAcquisition',\n",
       " 'CashAcquiredInExcessOfPaymentsToAcquireBusiness',\n",
       " 'CashAndCashEquivalentsAtCarryingValue',\n",
       " 'CashAndCashEquivalentsAtCarryingValueIncludingDiscontinuedOperations',\n",
       " 'CashAndCashEquivalentsFairValueDisclosure',\n",
       " 'CashAndCashEquivalentsPeriodIncreaseDecrease',\n",
       " 'CashAndCashEquivalentsPeriodIncreaseDecreaseExcludingExchangeRateEffect',\n",
       " 'CashAndDueFromBanks',\n",
       " 'CashAndSecuritiesSegregatedUnderFederalAndOtherRegulations',\n",
       " 'CashAndSecuritiesSegregatedUnderSecuritiesExchangeCommissionRegulation',\n",
       " 'CashCashEquivalentsAndFederalFundsSold',\n",
       " 'CashCashEquivalentsAndShortTermInvestments',\n",
       " 'CashCashEquivalentsRestrictedCashAndRestrictedCashEquivalents',\n",
       " 'CashCashEquivalentsRestrictedCashAndRestrictedCashEquivalentsDisposalGroupIncludingDiscontinuedOperations',\n",
       " 'CashCashEquivalentsRestrictedCashAndRestrictedCashEquivalentsIncludingDisposalGroupAndDiscontinuedOperations',\n",
       " 'CashCashEquivalentsRestrictedCashAndRestrictedCashEquivalentsPeriodIncreaseDecreaseExcludingExchangeRateEffect',\n",
       " 'CashCashEquivalentsRestrictedCashAndRestrictedCashEquivalentsPeriodIncreaseDecreaseIncludingExchangeRateEffect',\n",
       " 'CashDivestedFromDeconsolidation',\n",
       " 'CashDividends',\n",
       " 'CashDividendsPaidToParentCompany',\n",
       " 'CashDividendsPaidToParentCompanyBy50PercentOrLessOwnedPersons',\n",
       " 'CashDividendsPaidToParentCompanyByConsolidatedSubsidiaries',\n",
       " 'CashDividendsPaidToParentCompanyByUnconsolidatedSubsidiaries',\n",
       " 'CashEquivalentsAtCarryingValue',\n",
       " 'CashFlowHedgeGainLossReclassifiedToEarningsNet',\n",
       " 'CashFlowHedgeGainLossReclassifiedToInterestExpenseNet',\n",
       " 'CashFlowHedgeGainLossReclassifiedToOtherExpenseNet',\n",
       " 'CashFlowHedgeGainLossReclassifiedToOtherIncomeNet',\n",
       " 'CashFlowHedgeGainReclassifiedToInterestExpense',\n",
       " 'CashFlowHedgeGainReclassifiedToOtherIncome',\n",
       " 'CashFlowHedgeLossReclassifiedToEarnings',\n",
       " 'CashFlowHedgeLossReclassifiedToInterestExpense',\n",
       " 'CashFlowsBetweenTransfereeAndTransferorProceedsFromNewTransfers',\n",
       " 'CashFlowsBetweenTransfereeAndTransferorReceiptsOnInterestsThatContinueToBeHeldOther',\n",
       " 'CashFlowsBetweenTransferorAndTransfereeBeneficialInterest',\n",
       " 'CashIncludingDiscontinuedOperations',\n",
       " 'CashPaidForCapitalizedInterest',\n",
       " 'CashPeriodIncreaseDecrease',\n",
       " 'CashPeriodIncreaseDecreaseExcludingExchangeRateEffect',\n",
       " 'CashProvidedByUsedInDiscontinuedOperationsFinancingActivities',\n",
       " 'CashProvidedByUsedInDiscontinuedOperationsInvestingActivities',\n",
       " 'CashProvidedByUsedInDiscontinuedOperationsOperatingActivities',\n",
       " 'CashProvidedByUsedInFinancingActivitiesDiscontinuedOperations',\n",
       " 'CashProvidedByUsedInInvestingActivitiesDiscontinuedOperations',\n",
       " 'CashProvidedByUsedInOperatingActivitiesDiscontinuedOperations',\n",
       " 'CashReserveDepositRequiredAndMade',\n",
       " 'CashSurrenderValueOfLifeInsurance',\n",
       " 'CertainLoansAcquiredInTransferAccountedForAsAvailableForSaleDebtSecuritiesAccretableYieldPeriodIncreaseDecrease',\n",
       " 'CertainLoansAcquiredInTransferAccountedForAsDebtSecuritiesAccretableYieldAccretion',\n",
       " 'CertainLoansAcquiredInTransferAccountedForAsDebtSecuritiesAccretableYieldPeriodIncreaseDecrease',\n",
       " 'CertainLoansAcquiredInTransferAccountedForAsHeldToMaturityDebtSecuritiesAccretableYieldAccretion',\n",
       " 'CertainLoansAcquiredInTransferNotAccountedForAsDebtSecuritiesAccretableYieldAccretion',\n",
       " 'CertainLoansAcquiredInTransferNotAccountedForAsDebtSecuritiesProvisionForLoanLosses1',\n",
       " 'ChangeInUnrealizedGainLossOnFairValueHedgingInstruments',\n",
       " 'ChangeInUnrealizedGainLossOnFairValueHedgingInstruments1',\n",
       " 'ChangeInUnrealizedGainLossOnForeignCurrencyFairValueHedgingInstruments1',\n",
       " 'ChangeInUnrealizedGainLossOnHedgedItemInFairValueHedge',\n",
       " 'ChangeInUnrealizedGainLossOnHedgedItemInFairValueHedge1',\n",
       " 'ClassOfWarrantOrRightExercisePriceOfWarrantsOrRights',\n",
       " 'ClassOfWarrantOrRightExercisePriceOfWarrantsOrRights1',\n",
       " 'ClassOfWarrantOrRightNumberOfSecuritiesCalledByWarrantsOrRights',\n",
       " 'ClassOfWarrantOrRightOutstanding',\n",
       " 'CommitmentsAndContingencies',\n",
       " 'CommonStockDividend',\n",
       " 'CommonStockDividendsPerShareCashPaid',\n",
       " 'CommonStockDividendsPerShareDeclared',\n",
       " 'CommonStockDividendsShares',\n",
       " 'CommonStockIncludingAdditionalPaidInCapitalNetOfDiscount',\n",
       " 'CommonStockIssuedEmployeeStockTrust',\n",
       " 'CommonStockNoParValue',\n",
       " 'CommonStockParOrStatedValuePerShare',\n",
       " 'CommonStockShareSubscribedButUnissuedSubscriptionsReceivable',\n",
       " 'CommonStockShareSubscriptionsButUnissuedValue',\n",
       " 'CommonStockSharesAuthorized',\n",
       " 'CommonStockSharesHeldInEmployeeTrust',\n",
       " 'CommonStockSharesIssued',\n",
       " 'CommonStockSharesOutstanding',\n",
       " 'CommonStockSharesSubscriptions',\n",
       " 'CommonStockValue',\n",
       " 'CommonUnitIssued',\n",
       " 'ComprehensiveIncomeNetOfTax',\n",
       " 'ComprehensiveIncomeNetOfTaxAttributableToNoncontrollingInterest',\n",
       " 'ComprehensiveIncomeNetOfTaxIncludingPortionAttributableToNoncontrollingInterest',\n",
       " 'ConsiderationReceivedForBeneficialInterestObtainedForTransferringFinancialAsset',\n",
       " 'ConsolidationLessThanWhollyOwnedSubsidiaryParentOwnershipInterestChangesAdditionalInterestIssuedToParent',\n",
       " 'ConsolidationLessThanWhollyOwnedSubsidiaryParentOwnershipInterestChangesNet',\n",
       " 'ConsolidationLessThanWhollyOwnedSubsidiaryParentOwnershipInterestChangesPurchaseOfInterestByParent',\n",
       " 'ConsolidationLessThanWhollyOwnedSubsidiaryParentOwnershipInterestChangesRepurchaseOfSharesBySubsidiary',\n",
       " 'ConsolidationLessThanWhollyOwnedSubsidiaryParentOwnershipInterestChangesSaleOfInterestByParent',\n",
       " 'ConstructionAndDevelopmentCosts',\n",
       " 'ConstructionInProgressExpendituresIncurredButNotYetPaid',\n",
       " 'ConstructionInProgressGross',\n",
       " 'ConstructionPayableCurrent',\n",
       " 'ConstructionPayableCurrentAndNoncurrent',\n",
       " 'ContingentConsiderationClassifiedAsEquityFairValueDisclosure',\n",
       " 'ContinuingCareRetirementCommunitiesAdvanceFeesRefunds',\n",
       " 'ContractWithCustomerAssetCreditLossExpense',\n",
       " 'ContractWithCustomerAssetCumulativeCatchUpAdjustmentToRevenueChangeInMeasureOfProgress',\n",
       " 'ContractWithCustomerAssetIncreaseDecreaseForContractAcquiredInBusinessCombination',\n",
       " 'ContractWithCustomerAssetReclassifiedToReceivable',\n",
       " 'ContractWithCustomerLiabilityRevenueRecognized',\n",
       " 'ContractWithCustomerPerformanceObligationSatisfiedInPreviousPeriod',\n",
       " 'ContractWithCustomerReceivableCreditLossExpenseReversal',\n",
       " 'ContractualObligation',\n",
       " 'ContributionOfProperty',\n",
       " 'ContributionsFromNoncontrollingInterests',\n",
       " 'ConversionGainsAndLossesOnForeignInvestments',\n",
       " 'ConversionOfStockAmountConverted',\n",
       " 'ConversionOfStockAmountConverted1',\n",
       " 'ConversionOfStockAmountIssued',\n",
       " 'ConversionOfStockAmountIssued1',\n",
       " 'ConversionOfStockSharesConverted1',\n",
       " 'ConversionOfStockSharesIssued1',\n",
       " 'ConvertibleDebt',\n",
       " 'ConvertibleDebtFairValueDisclosures',\n",
       " 'ConvertibleNotesPayableCurrent',\n",
       " 'ConvertiblePreferredDividendsNetOfTax',\n",
       " 'ConvertiblePreferredStockConvertedToOtherSecurities',\n",
       " 'ConvertiblePreferredStockSharesIssuedUponConversion',\n",
       " 'CostDepreciationAmortizationAndDepletion',\n",
       " 'CostMethodInvestmentsRealizedGainLoss',\n",
       " 'CostMethodInvestmentsRealizedGains',\n",
       " 'CostMethodInvestmentsRealizedLosses',\n",
       " 'CostOfGoodsAndServicesSold',\n",
       " 'CostOfGoodsAndServicesSoldAmortization',\n",
       " 'CostOfGoodsAndServicesSoldDepreciation',\n",
       " 'CostOfGoodsAndServicesSoldDepreciationAndAmortization',\n",
       " 'CostOfGoodsSoldAmortization',\n",
       " 'CostOfGoodsSoldDepreciation',\n",
       " 'CostOfGoodsSoldDepreciationAndAmortization',\n",
       " 'CostOfGoodsSoldDepreciationDepletionAndAmortization',\n",
       " 'CostOfOilAndGasProspects',\n",
       " 'CostOfRealEstateRevenue',\n",
       " 'CostOfRealEstateSales',\n",
       " 'CostOfReimbursableExpense',\n",
       " 'CostOfRevenue',\n",
       " 'CostOfServices',\n",
       " 'CostOfServicesAmortization',\n",
       " 'CostOfServicesDepreciation',\n",
       " 'CostOfServicesDepreciationAndAmortization',\n",
       " 'CostmethodInvestmentsOtherThanTemporaryImpairment',\n",
       " 'CostmethodInvestmentsRealizedGainLossExcludingOtherThanTemporaryImpairments',\n",
       " 'CostmethodInvestmentsRealizedLossesExcludingOtherThanTemporaryImpairments',\n",
       " 'CostsAndExpensesRelatedParty',\n",
       " 'CostsInExcessOfBillingsOnUncompletedContractsOrProgramsExpectedToBeCollectedWithinOneYear',\n",
       " 'CostsIncurredAcquisitionOfOilAndGasProperties',\n",
       " 'CostsIncurredAssetRetirementObligationIncurred',\n",
       " 'CostsIncurredDevelopmentCosts',\n",
       " 'CostsIncurredExplorationCosts',\n",
       " 'CumulativeEffectOfChangeInAccountingPrinciplePresentedOnIncomeStatementNetOfTax',\n",
       " 'CumulativeEffectOfNewAccountingPrincipleInPeriodOfAdoption',\n",
       " 'CumulativeEffectOfProspectiveApplicationOfNewAccountingPrinciple',\n",
       " 'CumulativeEffectOnRetainedEarningsNetOfTax1',\n",
       " 'CumulativeTranslationAdjustmentNetOfTaxPeriodIncreaseDecrease',\n",
       " 'CurrentFederalTaxExpenseBenefit',\n",
       " 'CurrentForeignTaxExpenseBenefit',\n",
       " 'CurrentIncomeTaxExpenseBenefit',\n",
       " 'CustomerAdvancesForConstruction',\n",
       " 'CustomerRefundableFeesCashReceived',\n",
       " 'CustomerRefundableFeesPeriodIncreaseDecrease',\n",
       " 'CustomerRefundableFeesProceeds',\n",
       " 'CustomerRefundableFeesRefundPayments',\n",
       " 'CustomerRefundableFeesRefundPayments1',\n",
       " 'DebtAndEquitySecuritiesGainLoss',\n",
       " 'DebtAndEquitySecuritiesRealizedGainLoss',\n",
       " 'DebtAndEquitySecuritiesRealizedGainLossExcludingOtherThanTemporaryImpairment',\n",
       " 'DebtAndEquitySecuritiesUnrealizedGainLoss',\n",
       " 'DebtAndEquitySecuritiesUnrealizedGainLossExcludingOtherThanTemporaryImpairment',\n",
       " 'DebtConversionConvertedInstrumentAmount',\n",
       " 'DebtConversionConvertedInstrumentAmount1',\n",
       " 'DebtConversionConvertedInstrumentRate',\n",
       " 'DebtConversionConvertedInstrumentSharesIssued1',\n",
       " 'DebtConversionConvertedInstrumentWarrantsOrOptionsIssued1',\n",
       " 'DebtConversionOriginalDebtAmount',\n",
       " 'DebtConversionOriginalDebtAmount1',\n",
       " 'DebtInstrumentBasisSpreadOnVariableRate1',\n",
       " 'DebtInstrumentCarryingAmount',\n",
       " 'DebtInstrumentCollateralAmount',\n",
       " 'DebtInstrumentCollateralFee',\n",
       " 'DebtInstrumentConvertibleBeneficialConversionFeature',\n",
       " 'DebtInstrumentConvertibleCarryingAmountOfTheEquityComponent',\n",
       " 'DebtInstrumentConvertibleConversionPrice1',\n",
       " 'DebtInstrumentConvertibleEffectiveInterestRate',\n",
       " 'DebtInstrumentConvertibleIfConvertedValueInExcessOfPrincipal',\n",
       " 'DebtInstrumentConvertibleInterestExpense',\n",
       " 'DebtInstrumentConvertibleThresholdPercentageOfStockPriceTrigger',\n",
       " 'DebtInstrumentDecreaseForgiveness',\n",
       " 'DebtInstrumentFaceAmount',\n",
       " 'DebtInstrumentFairValue',\n",
       " 'DebtInstrumentFeeAmount',\n",
       " 'DebtInstrumentIncreaseAccruedInterest',\n",
       " 'DebtInstrumentIncreaseAdditionalBorrowings',\n",
       " 'DebtInstrumentIncreaseDecreaseForPeriodNet',\n",
       " 'DebtInstrumentIncreaseDecreaseOtherNet',\n",
       " 'DebtInstrumentInterestRateDuringPeriod',\n",
       " 'DebtInstrumentInterestRateEffectivePercentage',\n",
       " 'DebtInstrumentInterestRateStatedPercentage',\n",
       " 'DebtInstrumentPeriodicPayment',\n",
       " 'DebtInstrumentPeriodicPaymentPrincipal',\n",
       " 'DebtInstrumentSinkingFundPayment',\n",
       " 'DebtInstrumentUnamortizedDiscount',\n",
       " 'DebtInstrumentUnamortizedDiscountNoncurrent',\n",
       " 'DebtInstrumentUnamortizedDiscountPremiumAndDebtIssuanceCostsNet',\n",
       " 'DebtInstrumentUnamortizedPremium',\n",
       " 'DebtInstrumentUnusedBorrowingCapacityFee',\n",
       " 'DebtIssuanceCosts',\n",
       " 'DebtIssuanceCostsIncurredDuringNoncashOrPartialNoncashTransaction',\n",
       " 'DebtRelatedCommitmentFeesAndDebtIssuanceCosts',\n",
       " 'DebtSecuritiesAvailableForSaleAllowanceForCreditLossNotPreviouslyRecorded',\n",
       " 'DebtSecuritiesAvailableForSaleChangeInPresentValueExpenseReversal',\n",
       " 'DebtSecuritiesAvailableForSaleGainLoss',\n",
       " 'DebtSecuritiesAvailableForSaleRealizedGain',\n",
       " 'DebtSecuritiesAvailableForSaleRealizedGainLoss',\n",
       " 'DebtSecuritiesAvailableForSaleRealizedGainLossExcludingOtherThanTemporaryImpairment',\n",
       " 'DebtSecuritiesAvailableForSaleRealizedLoss',\n",
       " 'DebtSecuritiesAvailableForSaleUnrealizedGainLoss',\n",
       " 'DebtSecuritiesGainLoss',\n",
       " 'DebtSecuritiesHeldToMaturityAllowanceForCreditLoss',\n",
       " 'DebtSecuritiesHeldToMaturityCreditLossExpenseReversal',\n",
       " 'DebtSecuritiesHeldToMaturityPurchase',\n",
       " 'DebtSecuritiesHeldToMaturityTransferAmount',\n",
       " 'DebtSecuritiesRealizedGainLoss',\n",
       " 'DebtSecuritiesRealizedGainLossExcludingOtherThanTemporaryImpairment',\n",
       " 'DebtSecuritiesTradingGainLoss',\n",
       " 'DebtSecuritiesTradingRealizedGainLoss',\n",
       " 'DebtSecuritiesTradingRealizedLoss',\n",
       " 'DebtSecuritiesTradingUnrealizedGainLoss',\n",
       " 'DebtSecuritiesTradingUnrealizedLoss',\n",
       " 'DebtSecuritiesUnrealizedGainLoss',\n",
       " 'DebtorReorganizationItemsDebtorInPossessionFacilityFinancingCosts',\n",
       " 'DebtorReorganizationItemsDischargeOfClaimsAndLiabilities',\n",
       " 'DebtorReorganizationItemsEmployeeRelatedCharges',\n",
       " 'DebtorReorganizationItemsGainLossOnAssetSalesNet1',\n",
       " 'DebtorReorganizationItemsGainLossOnSettlementOfOtherClaimsNet',\n",
       " 'DebtorReorganizationItemsGainLossOnSettlementOfOtherClaimsNet1',\n",
       " 'DebtorReorganizationItemsInterestIncomeOnAccumulatedCash',\n",
       " 'DebtorReorganizationItemsLegalAndAdvisoryProfessionalFees',\n",
       " 'DebtorReorganizationItemsNetGainLossOnRejectionOfLeasesAndOtherExecutoryContracts1',\n",
       " 'DebtorReorganizationItemsOtherExpenseIncome',\n",
       " 'DebtorReorganizationItemsRevaluationOfAssetsAndLiabilities',\n",
       " 'DebtorReorganizationItemsWriteOffOfDeferredFinancingCostsAndDebtDiscounts',\n",
       " 'DeconsolidationGainOrLossAmount',\n",
       " 'DeconsolidationRevaluationOfRetainedInvestmentGainOrLossAmount',\n",
       " 'DecreaseInRestrictedCash',\n",
       " 'DeferredCompensationArrangementWithIndividualAllocatedShareBasedCompensationExpense',\n",
       " 'DeferredCompensationArrangementWithIndividualCompensationExpense',\n",
       " 'DeferredCompensationArrangementWithIndividualContributionsByEmployer',\n",
       " 'DeferredCompensationArrangementWithIndividualDistributionPaid',\n",
       " 'DeferredCompensationArrangementWithIndividualEmployerContribution',\n",
       " 'DeferredCompensationArrangementWithIndividualFairValueOfSharesIssued',\n",
       " 'DeferredCompensationArrangementWithIndividualSharesIssued',\n",
       " 'DeferredCompensationPlanAssets',\n",
       " 'DeferredCosts',\n",
       " 'DeferredCostsCurrentAndNoncurrent',\n",
       " 'DeferredCreditsAndOtherLiabilities',\n",
       " 'DeferredFederalIncomeTaxExpenseBenefit',\n",
       " 'DeferredFederalStateAndLocalTaxExpenseBenefit',\n",
       " 'DeferredFinanceCostAmortizationExpense',\n",
       " 'DeferredFinanceCostsCurrentNet',\n",
       " 'DeferredFinanceCostsGross',\n",
       " 'DeferredFinanceCostsNet',\n",
       " 'DeferredFinanceCostsNoncurrentGross',\n",
       " 'DeferredFinanceCostsOwnShareLendingArrangementIssuanceCostsAmortizationExpense1',\n",
       " 'DeferredFinanceCostsOwnshareLendingArrangementIssuanceCostsAccumulatedAmortizationAdjustment',\n",
       " 'DeferredFinanceCostsOwnshareLendingArrangementIssuanceCostsAdjustment',\n",
       " 'DeferredFinanceCostsOwnshareLendingArrangementIssuanceCostsAmortizationExpense',\n",
       " 'DeferredFinanceCostsOwnshareLendingArrangementIssuanceCostsAmortizationExpensePeriodIncreaseDecrease',\n",
       " 'DeferredForeignIncomeTaxExpenseBenefit',\n",
       " 'DeferredGainOnSaleOfProperty',\n",
       " 'DeferredIncomeTaxAssetsNet',\n",
       " 'DeferredIncomeTaxExpenseBenefit',\n",
       " 'DeferredIncomeTaxLiabilities',\n",
       " 'DeferredIncomeTaxesAndTaxCredits',\n",
       " 'DeferredOfferingCosts',\n",
       " 'DeferredOtherTaxExpenseBenefit',\n",
       " 'DeferredPolicyAcquisitionCostAmortizationExpense',\n",
       " 'DeferredPolicyAcquisitionCostAmortizationExpenseOther',\n",
       " 'DeferredPolicyAcquisitionCostsAdditions',\n",
       " 'DeferredPolicyAcquisitionCostsAndPresentValueOfFutureProfitsAdditions',\n",
       " 'DeferredPolicyAcquisitionCostsAndPresentValueOfFutureProfitsAmortization',\n",
       " 'DeferredPolicyAcquisitionCostsAndPresentValueOfFutureProfitsAmortization1',\n",
       " 'DeferredPolicyAcquisitionCostsPeriodIncreaseDecrease',\n",
       " 'DeferredPurchasedPowerCosts',\n",
       " 'DeferredRentCredit',\n",
       " 'DeferredRentCreditCurrent',\n",
       " 'DeferredRentCreditNoncurrent',\n",
       " 'DeferredRentReceivablesNet',\n",
       " 'DeferredRevenue',\n",
       " 'DeferredRevenueAdditions',\n",
       " 'DeferredRevenueNoncurrent',\n",
       " 'DeferredRevenuePeriodIncreaseDecrease',\n",
       " 'DeferredRevenueRevenueRecognized',\n",
       " 'DeferredRevenueRevenueRecognized1',\n",
       " 'DeferredSalesInducementsAdditions',\n",
       " 'DeferredSalesInducementsAmortizationExpense',\n",
       " 'DeferredSalesInducementsPeriodIncreaseDecrease',\n",
       " 'DeferredStateAndLocalIncomeTaxExpenseBenefit',\n",
       " 'DeferredTaxAssetsNet',\n",
       " 'DeferredTaxAssetsPropertyPlantAndEquipment',\n",
       " 'DeferredTaxAssetsTaxCreditCarryforwardsResearch',\n",
       " 'DeferredTaxAssetsValuationAllowance',\n",
       " 'DeferredTaxExpenseFromStockOptionsExercised',\n",
       " 'DeferredTaxLiabilities',\n",
       " 'DeferredTaxLiabilitiesNoncurrent',\n",
       " 'DeferredTaxesBusinessCombinationValuationAllowanceAvailableToReduceIncomeTaxExpense',\n",
       " 'DefinedBenefitPlanAccumulatedBenefitObligation',\n",
       " 'DefinedBenefitPlanAccumulatedBenefitObligationIncreaseDecreaseForSettlementAndCurtailment',\n",
       " 'DefinedBenefitPlanActuarialGainLoss',\n",
       " 'DefinedBenefitPlanActuarialGainLossImmediateRecognitionAsComponentInNetPeriodicBenefitCostCredit',\n",
       " 'DefinedBenefitPlanActuarialNetGainsLosses',\n",
       " 'DefinedBenefitPlanAmortizationOfGainsLosses',\n",
       " 'DefinedBenefitPlanAmortizationOfPriorServiceCostCredit',\n",
       " 'DefinedBenefitPlanAmountsRecognizedInOtherComprehensiveIncomeNetGainLossBeforeTax',\n",
       " 'DefinedBenefitPlanBeforeAdoptionOfSFAS158RecognitionProvisionsMinimumPensionLiabilityAdjustment',\n",
       " 'DefinedBenefitPlanBenefitObligationPeriodIncreaseDecrease',\n",
       " 'DefinedBenefitPlanBenefitsPaid',\n",
       " 'DefinedBenefitPlanContributionsByEmployer',\n",
       " 'DefinedBenefitPlanContributionsByPlanParticipants',\n",
       " 'DefinedBenefitPlanCostOfProvidingSpecialOrContractualTerminationBenefitRecognizedDuringPeriod',\n",
       " 'DefinedBenefitPlanCurtailments',\n",
       " 'DefinedBenefitPlanFairValueOfPlanAssetsPeriodIncreaseDecrease',\n",
       " 'DefinedBenefitPlanFutureAmortizationOfGainLoss',\n",
       " 'DefinedBenefitPlanNetPeriodicBenefitCost',\n",
       " 'DefinedBenefitPlanOtherCosts',\n",
       " 'DefinedBenefitPlanPlanAmendments',\n",
       " 'DefinedBenefitPlanPurchasesSalesAndSettlements',\n",
       " 'DefinedBenefitPlanRecognizedNetGainLossDueToCurtailments',\n",
       " 'DefinedBenefitPlanRecognizedNetGainLossDueToSettlements',\n",
       " 'DefinedBenefitPlanRecognizedNetGainLossDueToSettlements1',\n",
       " 'DefinedBenefitPlanRecognizedNetGainLossDueToSettlementsAndCurtailments',\n",
       " 'DefinedBenefitPlanRecognizedNetGainLossDueToSettlementsAndCurtailments1',\n",
       " 'DefinedBenefitPlanSettlementsBenefitObligation',\n",
       " 'DefinedBenefitPlanSettlementsPlanAssets',\n",
       " 'DefinedContributionPlanCostRecognized',\n",
       " 'DefinedContributionPlanEmployerDiscretionaryContributionAmount',\n",
       " 'DefinedContributionPlanIncreaseDecreaseCost',\n",
       " 'DemutualizationByInsuranceEntitySecuritiesIssuedGrossCashProceeds',\n",
       " 'Depletion',\n",
       " 'DepletionNonproduction',\n",
       " 'DepletionOfOilAndGasProperties',\n",
       " 'DepositLiabilitiesAccruedInterest',\n",
       " 'Deposits',\n",
       " 'DepositsAssetsNoncurrent',\n",
       " 'Depreciation',\n",
       " 'DepreciationAmortizationAndAccretionNet',\n",
       " 'DepreciationAndAmortization',\n",
       " 'DepreciationAndAmortizationDiscontinuedOperations',\n",
       " 'DepreciationDepletionAndAmortization',\n",
       " 'DepreciationExpense',\n",
       " 'DepreciationExpenseOnReclassifiedAssets',\n",
       " 'DepreciationNonproduction',\n",
       " 'DepreciationPremisesAndEquipment',\n",
       " 'DerivativeCashReceivedOnHedge',\n",
       " 'DerivativeCostOfHedge',\n",
       " 'DerivativeCostOfHedgeNetOfCashReceived',\n",
       " 'DerivativeFairValueOfDerivativeLiability',\n",
       " 'DerivativeGainLossOnDerivativeNet',\n",
       " 'DerivativeGainOnDerivative',\n",
       " 'DerivativeInstrumentsGainLossReclassificationFromAccumulatedOCIToIncomeEstimatedNetAmountToBeTransferred',\n",
       " 'DerivativeInstrumentsGainLossReclassifiedFromAccumulatedOCIIntoIncomeEffectivePortionNet',\n",
       " 'DerivativeInstrumentsGainLossRecognizedInIncomeIneffectivePortionAndAmountExcludedFromEffectivenessTestingNet',\n",
       " 'DerivativeInstrumentsGainLossRecognizedInIncomeNet',\n",
       " 'DerivativeInstrumentsGainLossRecognizedInOtherComprehensiveIncomeEffectivePortionNet',\n",
       " 'DerivativeInstrumentsGainReclassifiedFromAccumulatedOCIIntoIncomeEffectivePortion',\n",
       " 'DerivativeInstrumentsGainRecognizedInIncome',\n",
       " 'DerivativeInstrumentsLossReclassifiedFromAccumulatedOCIIntoIncomeEffectivePortion',\n",
       " 'DerivativeInstrumentsLossRecognizedInIncome',\n",
       " 'DerivativeInstrumentsLossRecognizedInIncomeIneffectivePortionAndAmountExcludedFromEffectivenessTesting',\n",
       " 'DerivativeInstrumentsNotDesignatedAsHedgingInstrumentsGain',\n",
       " 'DerivativeInstrumentsNotDesignatedAsHedgingInstrumentsGainLossNet',\n",
       " 'DerivativeInstrumentsNotDesignatedAsHedgingInstrumentsLoss',\n",
       " 'DerivativeLiabilities',\n",
       " 'DerivativeLiabilitiesCurrent',\n",
       " 'DerivativeLiabilityCollateralRightToReclaimCashOffset',\n",
       " 'DerivativeLossOnDerivative',\n",
       " 'DerivativeNetHedgeIneffectivenessGainLoss',\n",
       " 'DerivativeNotionalAmount',\n",
       " 'DerivativesUsedInNetInvestmentHedgeGainLossReclassifiedToEarningsNetOfTax',\n",
       " 'DevelopmentCosts',\n",
       " 'DevelopmentProfitsNonoperating',\n",
       " 'DifferenceBetweenReportedAmountAndReportingCurrencyDenominatedAmountValue',\n",
       " 'DilutiveSecuritiesEffectOnBasicEarningsPerShareOther',\n",
       " 'DirectFinancingLeaseImpairmentLoss',\n",
       " 'DirectFinancingLeaseNetInvestmentInLeasePurchase',\n",
       " 'DiscontinuedOperationAmountOfAdjustmentToPriorPeriodGainLossOnDisposalBeforeIncomeTax',\n",
       " 'DiscontinuedOperationAmountOfAdjustmentToPriorPeriodGainLossOnDisposalNetOfTax',\n",
       " 'DiscontinuedOperationAmountOfContinuingCashFlowsAfterDisposal',\n",
       " 'DiscontinuedOperationAmountOfOtherIncomeLossFromDispositionOfDiscontinuedOperationNetOfTax',\n",
       " 'DiscontinuedOperationAmountOfOtherIncomeLossFromDispositionOfDiscontinuedOperationsBeforeIncomeTax',\n",
       " 'DiscontinuedOperationGainLossFromDisposalOfDiscontinuedOperationBeforeIncomeTax',\n",
       " 'DiscontinuedOperationGainLossOnDisposalOfDiscontinuedOperationNetOfTax',\n",
       " 'DiscontinuedOperationIncomeLossFromDiscontinuedOperationBeforeIncomeTax',\n",
       " 'DiscontinuedOperationIncomeLossFromDiscontinuedOperationDuringPhaseOutPeriodBeforeIncomeTax',\n",
       " 'DiscontinuedOperationIncomeLossFromDiscontinuedOperationDuringPhaseOutPeriodNetOfTax',\n",
       " 'DiscontinuedOperationIntercompanyAmountsWithDiscontinuedOperationBeforeDisposalTransactionCosts',\n",
       " 'DiscontinuedOperationProvisionForLossGainOnDisposalBeforeIncomeTax',\n",
       " 'DiscontinuedOperationProvisionForLossGainOnDisposalNetOfTax',\n",
       " 'DiscontinuedOperationTaxEffectOfDiscontinuedOperation',\n",
       " 'DiscontinuedOperationTaxEffectOfIncomeLossFromDisposalOfDiscontinuedOperation',\n",
       " 'DisposalGroupIncludingDiscontinuedOperationAccountsNotesAndLoansReceivableNet',\n",
       " 'DisposalGroupIncludingDiscontinuedOperationCash',\n",
       " 'DisposalGroupIncludingDiscontinuedOperationCashAndCashEquivalents',\n",
       " 'DisposalGroupIncludingDiscontinuedOperationConsideration',\n",
       " 'DisposalGroupIncludingDiscontinuedOperationCostsOfGoodsSold',\n",
       " 'DisposalGroupIncludingDiscontinuedOperationDeferredRevenueCurrent',\n",
       " 'DisposalGroupIncludingDiscontinuedOperationDepreciationAndAmortization',\n",
       " 'DisposalGroupIncludingDiscontinuedOperationForeignCurrencyTranslationGainsLosses',\n",
       " 'DisposalGroupIncludingDiscontinuedOperationGoodwill1',\n",
       " 'DisposalGroupIncludingDiscontinuedOperationGrossProfitLoss',\n",
       " 'DisposalGroupIncludingDiscontinuedOperationIntangibleAssetsNet',\n",
       " 'DisposalGroupIncludingDiscontinuedOperationOperatingIncomeLoss',\n",
       " 'DisposalGroupIncludingDiscontinuedOperationOtherAssets',\n",
       " 'DisposalGroupIncludingDiscontinuedOperationOtherCurrentAssets',\n",
       " 'DisposalGroupIncludingDiscontinuedOperationOtherExpense',\n",
       " 'DisposalGroupIncludingDiscontinuedOperationOtherLiabilities',\n",
       " 'DisposalGroupIncludingDiscontinuedOperationOtherNoncurrentAssets',\n",
       " 'DisposalGroupIncludingDiscontinuedOperationPropertyPlantAndEquipment',\n",
       " 'DisposalGroupIncludingDiscontinuedOperationPropertyPlantAndEquipmentCurrent',\n",
       " 'DisposalGroupIncludingDiscontinuedOperationPropertyPlantAndEquipmentNet',\n",
       " 'DisposalGroupNotDiscontinuedOperationGainLossOnDisposal',\n",
       " 'DisposalGroupNotDiscontinuedOperationLossGainOnWriteDown',\n",
       " 'DistributedEarnings',\n",
       " 'DistributionMadeToLimitedLiabilityCompanyLLCMemberCashDistributionsDeclared',\n",
       " 'DistributionMadeToLimitedLiabilityCompanyLLCMemberCashDistributionsPaid',\n",
       " 'DistributionMadeToLimitedPartnerCashDistributionsDeclared',\n",
       " 'DistributionMadeToLimitedPartnerCashDistributionsPaid',\n",
       " 'DistributionMadeToMemberOrLimitedPartnerCashDistribution',\n",
       " 'DistributionMadeToMemberOrLimitedPartnerCashDistributionsDeclared',\n",
       " 'DistributionMadeToMemberOrLimitedPartnerCashDistributionsPaid',\n",
       " 'DistributionMadeToMemberOrLimitedPartnerDistributionsDeclaredPerUnit',\n",
       " 'DistributionsOnMandatorilyRedeemableSecurities',\n",
       " 'DistributionsPayableToRealEstatePartnerships',\n",
       " 'DividendIncomeOperating',\n",
       " 'DividendPaymentRestrictionsScheduleAmountsPaid',\n",
       " 'Dividends',\n",
       " 'DividendsAndInterestPaid',\n",
       " 'DividendsCash',\n",
       " 'DividendsCommonStock',\n",
       " 'DividendsCommonStockCash',\n",
       " 'DividendsCommonStockPaidinkind',\n",
       " 'DividendsCommonStockStock',\n",
       " 'DividendsPaidinkind',\n",
       " 'DividendsPayable',\n",
       " 'DividendsPayableAmount',\n",
       " 'DividendsPayableAmountPerShare',\n",
       " 'DividendsPayableCurrent',\n",
       " 'DividendsPayableCurrentAndNoncurrent',\n",
       " 'DividendsPreferredStock',\n",
       " 'DividendsPreferredStockCash',\n",
       " 'DividendsPreferredStockPaidinkind',\n",
       " 'DividendsPreferredStockStock',\n",
       " 'DividendsReceivable',\n",
       " 'DividendsShareBasedCompensation',\n",
       " 'DividendsSharebasedCompensationPaidInKind',\n",
       " 'DividendsSharebasedCompensationStock',\n",
       " 'DividendsStock',\n",
       " 'DueFromBanks',\n",
       " 'DueFromJointVentures',\n",
       " 'DueToAffiliateCurrent',\n",
       " 'DueToCorrespondentBrokers',\n",
       " 'DueToOfficersOrStockholdersCurrentAndNoncurrent',\n",
       " 'DueToOtherRelatedPartiesNoncurrent',\n",
       " 'DueToRelatedPartiesCurrent',\n",
       " 'DueToRelatedPartiesCurrentAndNoncurrent',\n",
       " 'EarlyRepaymentOfSeniorDebt',\n",
       " 'EarlyRepaymentOfSubordinatedDebt',\n",
       " 'EarningsLossesOfMinorityInterestAndEquityMethodInvestments',\n",
       " 'EarningsPerShareBasicAndDiluted',\n",
       " 'EffectOfChangeInCashFlowProjectionEstimate',\n",
       " 'EffectOfExchangeRateOnCash',\n",
       " 'EffectOfExchangeRateOnCashAndCashEquivalents',\n",
       " 'EffectOfExchangeRateOnCashAndCashEquivalentsContinuingOperations',\n",
       " 'EffectOfExchangeRateOnCashAndCashEquivalentsDiscontinuedOperations',\n",
       " 'EffectOfExchangeRateOnCashCashEquivalentsRestrictedCashAndRestrictedCashEquivalents',\n",
       " 'EffectOfExchangeRateOnCashCashEquivalentsRestrictedCashAndRestrictedCashEquivalentsDisposalGroupIncludingDiscontinuedOperations',\n",
       " 'EffectOfExchangeRateOnCashCashEquivalentsRestrictedCashAndRestrictedCashEquivalentsIncludingDisposalGroupAndDiscontinuedOperations',\n",
       " 'EffectOfExchangeRateOnCashContinuingOperations',\n",
       " 'EffectOfExchangeRateOnCashDiscontinuedOperations',\n",
       " 'EffectOnFutureEarningsAmount',\n",
       " 'EffectiveIncomeTaxRateContinuingOperations',\n",
       " 'EffectiveIncomeTaxRateReconciliationAtFederalStatutoryIncomeTaxRate',\n",
       " 'EffectiveIncomeTaxRateReconciliationShareBasedCompensationExcessTaxBenefitAmount',\n",
       " 'EffectiveIncomeTaxRateReconciliationTaxCutsAndJobsActOf2017TransitionTaxOnAccumulatedForeignEarningsAmount',\n",
       " 'EmbeddedDerivativeFairValueOfEmbeddedDerivativeLiability',\n",
       " 'EmbeddedDerivativeGainLossOnEmbeddedDerivativeNet',\n",
       " 'EmbeddedDerivativeGainOnEmbeddedDerivative',\n",
       " 'EmbeddedDerivativeLossOnEmbeddedDerivative',\n",
       " 'EmbeddedDerivativeNoLongerBifurcatedAmountReclassifiedToStockholdersEquity',\n",
       " 'EmployeeBenefitsAndShareBasedCompensation',\n",
       " 'EmployeeBenefitsAndShareBasedCompensationNoncash',\n",
       " 'EmployeeServiceShareBasedCompensationAllocationOfRecognizedPeriodCostsCapitalizedAmount',\n",
       " 'EmployeeServiceShareBasedCompensationCashFlowEffectCashUsedToSettleAwards',\n",
       " 'EmployeeServiceShareBasedCompensationCashReceivedFromExerciseOfStockOptions',\n",
       " 'EmployeeServiceShareBasedCompensationNonvestedAwardsTotalCompensationCostNotYetRecognizedStockOptions',\n",
       " 'EmployeeServiceShareBasedCompensationTaxBenefitFromCompensationExpense',\n",
       " 'EmployeeServiceShareBasedCompensationTaxBenefitFromExerciseOfStockOptions',\n",
       " 'EmployeeServiceShareBasedCompensationTaxBenefitRealizedFromExerciseOfStockOptions',\n",
       " 'EmployeeStockOwnershipPlanESOPCashContributionsToESOP',\n",
       " 'EmployeeStockOwnershipPlanESOPCompensationExpense',\n",
       " 'EmployeeStockOwnershipPlanESOPDebtStructureDirectLoanEmployerCashPaymentsUsedForDebtService',\n",
       " 'EmployeeStockOwnershipPlanESOPGainLossOnTransactionsInDeferredShares',\n",
       " 'EmployeeStockOwnershipPlanESOPNumberOfCommittedToBeReleasedShares',\n",
       " 'EmployeeStockOwnershipPlanESOPRepurchaseObligationAmount',\n",
       " 'EmployeeStockOwnershipPlanESOPTaxBenefitOfDividendsPaidToPlan',\n",
       " 'EntertainmentLicenseAgreementForProgramMaterialAmortizationExpense',\n",
       " 'EnvironmentalExpenseAndLiabilities',\n",
       " 'EnvironmentalRemediationExpense',\n",
       " 'EquipmentExpense',\n",
       " 'EquityFairValueAdjustment',\n",
       " 'EquityIssuedInBusinessCombinationFairValueDisclosure',\n",
       " 'EquityMethodInvestmentDeferredGainOnSale',\n",
       " 'EquityMethodInvestmentDividendsOrDistributions',\n",
       " 'EquityMethodInvestmentNetSalesProceeds',\n",
       " 'EquityMethodInvestmentOtherThanTemporaryImpairment',\n",
       " 'EquityMethodInvestmentOwnershipPercentage',\n",
       " 'EquityMethodInvestmentRealizedGainLossOnDisposal',\n",
       " 'EquityMethodInvestmentSoldCarryingAmount',\n",
       " 'EquityMethodInvestmentSummarizedFinancialInformationGrossProfitLoss',\n",
       " 'EquityMethodInvestmentSummarizedFinancialInformationNetIncomeLoss',\n",
       " 'EquityMethodInvestmentSummarizedFinancialInformationRevenue',\n",
       " 'EquityMethodInvestmentUnrealizedIntercompanyProfitLossNotEliminatedAmount',\n",
       " 'EquityMethodInvestments',\n",
       " 'EquityMethodInvestmentsFairValueDisclosure',\n",
       " 'EquitySecuritiesFvNiGainLoss',\n",
       " 'EquitySecuritiesFvNiRealizedGain',\n",
       " 'EquitySecuritiesFvNiRealizedGainLoss',\n",
       " 'EquitySecuritiesFvNiRealizedLoss',\n",
       " 'EquitySecuritiesFvNiUnrealizedGain',\n",
       " 'EquitySecuritiesFvNiUnrealizedGainLoss',\n",
       " 'EquitySecuritiesFvNiUnrealizedLoss',\n",
       " 'EquitySecuritiesWithoutReadilyDeterminableFairValueImpairmentLossAnnualAmount',\n",
       " 'EquitySecuritiesWithoutReadilyDeterminableFairValueUpwardPriceAdjustmentAnnualAmount',\n",
       " 'EscrowDeposit',\n",
       " 'EscrowDepositDisbursementsRelatedToPropertyAcquisition',\n",
       " 'EscrowDepositDisbursementsRelatedToPropertyAcquisition1',\n",
       " 'EscrowDepositsRelatedToPropertySales',\n",
       " 'ExcessTaxBenefitFromShareBasedCompensationFinancingActivities',\n",
       " 'ExcessTaxBenefitFromShareBasedCompensationOperatingActivities',\n",
       " 'ExciseAndSalesTaxes',\n",
       " 'ExpenseRelatedToDistributionOrServicingAndUnderwritingFees',\n",
       " 'ExpensesAndLossesReportingCurrencyDenominatedValue',\n",
       " 'ExplorationAbandonmentAndImpairmentExpense',\n",
       " 'ExplorationAndProductionCosts',\n",
       " 'ExplorationCosts',\n",
       " 'ExplorationExpense',\n",
       " 'ExtendedProductWarrantyAccrualPreexistingIncreaseDecrease',\n",
       " 'ExtendedProductWarrantyAccrualWarrantiesIssued',\n",
       " 'ExtinguishmentOfDebtAmount',\n",
       " 'ExtinguishmentOfDebtGainLossIncomeTax',\n",
       " 'ExtinguishmentOfDebtGainLossNetOfTax',\n",
       " 'ExtraordinaryItemGainOrLossNetOfTaxAttributableToReportingEntity',\n",
       " 'ExtraordinaryItemNetOfTax',\n",
       " 'ExtraordinaryItemsGross',\n",
       " 'FDICIndemnificationAssetAccretionOfDiscount',\n",
       " 'FDICIndemnificationAssetAdditionalEstimatedLosses',\n",
       " 'FDICIndemnificationAssetCashPaymentsReceived',\n",
       " 'FDICIndemnificationAssetNetWriteOffs',\n",
       " 'FDICIndemnificationAssetPeriodIncreaseDecrease',\n",
       " 'FairValueAdjustmentOfWarrants',\n",
       " 'FairValueAssetsAndLiabilitiesMeasuredOnRecurringBasisGainLossIncludedInEarnings',\n",
       " 'FairValueAssetsMeasuredOnRecurringBasisChangeInUnrealizedGainLoss',\n",
       " 'FairValueAssetsMeasuredOnRecurringBasisChangeInUnrealizedGainLossIncludedInInvestmentIncome',\n",
       " 'FairValueAssetsMeasuredOnRecurringBasisChangeInUnrealizedGainLossIncludedInOtherIncome',\n",
       " 'FairValueInstrumentsClassifiedInShareholdersEquityMeasuredOnRecurringBasisChangeInUnrealizedGainLoss',\n",
       " 'FairValueInvestmentsEntitiesThatCalculateNetAssetValuePerShareUnobservableInputInvestmentHoldingsMovementsNet',\n",
       " 'FairValueLiabilitiesMeasuredOnRecurringBasisChangeInUnrealizedGainLoss',\n",
       " 'FairValueLiabilitiesMeasuredOnRecurringBasisChangeInUnrealizedGainLossIncludedInOtherIncome',\n",
       " 'FairValueLiabilitiesMeasuredOnRecurringBasisDebtInstrumentValuationTechniquesChangeInTechniqueQuantificationOfEffect',\n",
       " 'FairValueLiabilitiesMeasuredOnRecurringBasisGainLossIncludedInOtherIncome',\n",
       " 'FairValueMeasuredOnRecurringBasisGainLossIncludedInEarnings',\n",
       " 'FairValueMeasurementWithUnobservableInputsReconciliationLiabilityTransfersIntoLevel3',\n",
       " 'FairValueMeasurementWithUnobservableInputsReconciliationLiabilityTransfersOutOfLevel3',\n",
       " 'FairValueMeasurementWithUnobservableInputsReconciliationRecurringBasisAssetGainLossIncludedInEarnings1',\n",
       " 'FairValueMeasurementWithUnobservableInputsReconciliationRecurringBasisAssetGainLossIncludedInOtherComprehensiveIncome',\n",
       " 'FairValueMeasurementWithUnobservableInputsReconciliationRecurringBasisAssetGainLossIncludedInOtherComprehensiveIncomeLoss',\n",
       " 'FairValueMeasurementWithUnobservableInputsReconciliationRecurringBasisAssetSettlements',\n",
       " 'FairValueMeasurementWithUnobservableInputsReconciliationRecurringBasisLiabilityGainLossIncludedInEarnings',\n",
       " 'FairValueMeasurementWithUnobservableInputsReconciliationRecurringBasisLiabilityGainLossIncludedInOtherComprehensiveIncome',\n",
       " 'FairValueMeasurementWithUnobservableInputsReconciliationRecurringBasisLiabilityIssues',\n",
       " 'FairValueMeasurementWithUnobservableInputsReconciliationRecurringBasisLiabilityPeriodIncreaseDecrease',\n",
       " 'FairValueMeasurementWithUnobservableInputsReconciliationRecurringBasisLiabilityPurchases',\n",
       " 'FairValueMeasurementWithUnobservableInputsReconciliationRecurringBasisLiabilitySettlements',\n",
       " 'FairValueMeasurementWithUnobservableInputsReconciliationsRecurringBasisLiabilityValue',\n",
       " 'FairValueNetDerivativeAssetLiabilityMeasuredOnRecurringBasisChangeInUnrealizedGainLoss',\n",
       " 'FairValueNetDerivativeAssetLiabilityMeasuredOnRecurringBasisUnobservableInputsReconciliationGainLossIncludedInEarnings',\n",
       " 'FairValueNetDerivativeAssetLiabilityMeasuredOnRecurringBasisUnobservableInputsReconciliationPeriodIncreaseDecrease',\n",
       " 'FairValueNetDerivativeAssetLiabilityMeasuredOnRecurringBasisUnobservableInputsReconciliationSettlements',\n",
       " 'FairValueOfAssetsAcquired',\n",
       " 'FairValueOptionChangesInFairValueGainLoss',\n",
       " 'FairValueOptionChangesInFairValueGainLoss1',\n",
       " 'FederalDepositInsuranceCorporationPremiumExpense',\n",
       " 'FederalFundsSold',\n",
       " 'FederalHomeLoanBankAdvancesGeneralDebtObligationsDisclosuresRepaymentAndPenalties',\n",
       " 'FederalHomeLoanBankAssessments',\n",
       " 'FederalIncomeTaxExpenseBenefitContinuingOperations',\n",
       " 'FeesAndCommissions',\n",
       " 'FeesAndCommissionsMortgageBanking',\n",
       " 'FeesAndCommissionsMortgageBankingAndServicing',\n",
       " 'FeesAndCommissionsOther',\n",
       " 'FinanceLeaseImpairmentLoss',\n",
       " 'FinanceLeaseInterestExpense',\n",
       " 'FinanceLeaseInterestPaymentOnLiability',\n",
       " 'FinanceLeasePrincipalPayments',\n",
       " 'FinanceLeaseRightOfUseAssetAmortization',\n",
       " 'FinancialGuaranteeInsuranceContractsPremiumsReceivableAdjustment',\n",
       " 'FinancingInterestExpense',\n",
       " 'FinancingReceivableAllowanceForCreditLossWriteoffAfterRecovery',\n",
       " 'FinancingReceivableAllowanceForCreditLosses',\n",
       " 'FinancingReceivableAllowanceForCreditLossesPeriodIncreaseDecrease',\n",
       " 'FinancingReceivableAllowanceForCreditLossesProvisions',\n",
       " 'FinancingReceivableAllowanceForCreditLossesRecovery',\n",
       " 'FinancingReceivableAllowanceForCreditLossesWriteOffs',\n",
       " 'FinancingReceivableReclassificationToHeldForSale',\n",
       " 'FinancingReceivableSignificantSales',\n",
       " 'FiniteLivedIntangibleAssetsAccumulatedAmortization',\n",
       " 'FiniteLivedIntangibleAssetsAmortizationExpense',\n",
       " 'FiniteLivedIntangibleAssetsAmortizationExpenseYearFour',\n",
       " 'FiniteLivedIntangibleAssetsGross',\n",
       " 'FiniteLivedIntangibleAssetsNet',\n",
       " 'FiniteLivedIntangibleAssetsPeriodIncreaseDecrease',\n",
       " 'FiniteLivedIntangibleAssetsPurchaseAccountingAdjustments',\n",
       " 'FinitelivedIntangibleAssetsAcquired1',\n",
       " 'ForeclosedRealEstateExpense',\n",
       " 'ForeignCurrencyCashFlowHedgeGainLossReclassifiedToEarningsNet',\n",
       " 'ForeignCurrencyTransactionGainBeforeTax',\n",
       " 'ForeignCurrencyTransactionGainLossBeforeTax',\n",
       " 'ForeignCurrencyTransactionGainLossRealized',\n",
       " 'ForeignCurrencyTransactionGainLossUnrealized',\n",
       " 'ForeignCurrencyTransactionLossBeforeTax',\n",
       " 'ForwardContractIndexedToIssuersEquityShares',\n",
       " 'FreshStartAdjustmentIncreaseDecreaseDeferredFinancingCosts',\n",
       " 'FreshStartAdjustmentIncreaseDecreaseLiabilities',\n",
       " 'FundsHeldForClients',\n",
       " 'FundsHeldUnderReinsuranceAgreementsAsset',\n",
       " 'GainFromComponentsExcludedFromAssessmentOfCashFlowHedgeEffectiveness',\n",
       " 'GainLossFromPriceRiskManagementActivity',\n",
       " 'GainLossFromSaleOfFinancialAssetsInSecuritizationsOrAssetBackedFinancingArrangement',\n",
       " 'GainLossOnCashFlowHedgeIneffectivenessNet',\n",
       " 'GainLossOnComponentsExcludedFromAssessmentOfInterestRateCashFlowHedgeEffectiveness',\n",
       " 'GainLossOnCondemnation',\n",
       " 'GainLossOnContractTermination',\n",
       " 'GainLossOnDerivativeInstrumentsHeldForTradingPurposesNet',\n",
       " 'GainLossOnDerivativeInstrumentsNetPretax',\n",
       " 'GainLossOnDiscontinuationOfCashFlowHedgeDueToForecastedTransactionProbableOfNotOccurringNet',\n",
       " 'GainLossOnDiscontinuationOfInterestRateCashFlowHedgeDueToForecastedTransactionProbableOfNotOccurringNet',\n",
       " 'GainLossOnDispositionOfAssets',\n",
       " 'GainLossOnDispositionOfAssets1',\n",
       " 'GainLossOnDispositionOfIntangibleAssets',\n",
       " 'GainLossOnDispositionOfOtherAssets',\n",
       " 'GainLossOnDispositionOfOtherFinancialAssets',\n",
       " 'GainLossOnDispositionOfProperty',\n",
       " 'GainLossOnDispositionOfRealEstateDiscontinuedOperations',\n",
       " 'GainLossOnFairValueHedgeIneffectivenessNet',\n",
       " 'GainLossOnFairValueHedgesRecognizedInEarnings',\n",
       " 'GainLossOnForeignCurrencyCashFlowHedgeIneffectiveness',\n",
       " ...]"
      ]
     },
     "execution_count": null,
     "metadata": {},
     "output_type": "execute_result"
    }
   ],
   "source": []
  },
  {
   "cell_type": "code",
   "execution_count": null,
   "metadata": {},
   "outputs": [],
   "source": [
    "cf_empty_pd = cf_empty_count.toPandas()"
   ]
  },
  {
   "cell_type": "code",
   "execution_count": null,
   "metadata": {},
   "outputs": [
    {
     "data": {
      "text/plain": [
       "(1, 3052)"
      ]
     },
     "execution_count": null,
     "metadata": {},
     "output_type": "execute_result"
    }
   ],
   "source": [
    "cf_empty_pd.shape"
   ]
  },
  {
   "cell_type": "code",
   "execution_count": null,
   "metadata": {},
   "outputs": [],
   "source": [
    "cf_melt_pd = cf_empty_pd.melt(var_name = 'Tag', value_name = \"Count\")\n",
    "cf_melt_pd['diff'] = 133811 -cf_melt_pd['Count']"
   ]
  },
  {
   "cell_type": "code",
   "execution_count": null,
   "metadata": {},
   "outputs": [
    {
     "data": {
      "text/html": [
       "<div>\n",
       "<style scoped>\n",
       "    .dataframe tbody tr th:only-of-type {\n",
       "        vertical-align: middle;\n",
       "    }\n",
       "\n",
       "    .dataframe tbody tr th {\n",
       "        vertical-align: top;\n",
       "    }\n",
       "\n",
       "    .dataframe thead th {\n",
       "        text-align: right;\n",
       "    }\n",
       "</style>\n",
       "<table border=\"1\" class=\"dataframe\">\n",
       "  <thead>\n",
       "    <tr style=\"text-align: right;\">\n",
       "      <th></th>\n",
       "      <th>Tag</th>\n",
       "      <th>Count</th>\n",
       "      <th>diff</th>\n",
       "    </tr>\n",
       "  </thead>\n",
       "  <tbody>\n",
       "    <tr>\n",
       "      <th>350</th>\n",
       "      <td>CashAndCashEquivalentsPeriodIncreaseDecrease</td>\n",
       "      <td>30244</td>\n",
       "      <td>103567</td>\n",
       "    </tr>\n",
       "    <tr>\n",
       "      <th>351</th>\n",
       "      <td>CashAndCashEquivalentsPeriodIncreaseDecreaseEx...</td>\n",
       "      <td>132424</td>\n",
       "      <td>1387</td>\n",
       "    </tr>\n",
       "    <tr>\n",
       "      <th>360</th>\n",
       "      <td>CashCashEquivalentsRestrictedCashAndRestricted...</td>\n",
       "      <td>130603</td>\n",
       "      <td>3208</td>\n",
       "    </tr>\n",
       "    <tr>\n",
       "      <th>361</th>\n",
       "      <td>CashCashEquivalentsRestrictedCashAndRestricted...</td>\n",
       "      <td>119033</td>\n",
       "      <td>14778</td>\n",
       "    </tr>\n",
       "    <tr>\n",
       "      <th>382</th>\n",
       "      <td>CashPeriodIncreaseDecrease</td>\n",
       "      <td>132236</td>\n",
       "      <td>1575</td>\n",
       "    </tr>\n",
       "    <tr>\n",
       "      <th>383</th>\n",
       "      <td>CashPeriodIncreaseDecreaseExcludingExchangeRat...</td>\n",
       "      <td>133766</td>\n",
       "      <td>45</td>\n",
       "    </tr>\n",
       "  </tbody>\n",
       "</table>\n",
       "</div>"
      ],
      "text/plain": [
       "                                                   Tag   Count    diff\n",
       "350       CashAndCashEquivalentsPeriodIncreaseDecrease   30244  103567\n",
       "351  CashAndCashEquivalentsPeriodIncreaseDecreaseEx...  132424    1387\n",
       "360  CashCashEquivalentsRestrictedCashAndRestricted...  130603    3208\n",
       "361  CashCashEquivalentsRestrictedCashAndRestricted...  119033   14778\n",
       "382                         CashPeriodIncreaseDecrease  132236    1575\n",
       "383  CashPeriodIncreaseDecreaseExcludingExchangeRat...  133766      45"
      ]
     },
     "execution_count": null,
     "metadata": {},
     "output_type": "execute_result"
    }
   ],
   "source": [
    "canditates =  ['CashAndCashEquivalentsPeriodIncreaseDecrease','cp_CashAndCashEquivalentsPeriodIncreaseDecrease',\n",
    " 'CashAndCashEquivalentsPeriodIncreaseDecreaseExcludingExchangeRateEffect',\n",
    " 'CashCashEquivalentsRestrictedCashAndRestrictedCashEquivalentsPeriodIncreaseDecreaseExcludingExchangeRateEffect',\n",
    " 'CashCashEquivalentsRestrictedCashAndRestrictedCashEquivalentsPeriodIncreaseDecreaseIncludingExchangeRateEffect',\n",
    " 'CashPeriodIncreaseDecrease',\n",
    " 'CashPeriodIncreaseDecreaseExcludingExchangeRateEffect']\n",
    "\n",
    "cf_melt_pd[cf_melt_pd['Tag'].isin(canditates)]"
   ]
  },
  {
   "cell_type": "code",
   "execution_count": null,
   "metadata": {},
   "outputs": [
    {
     "data": {
      "text/plain": [
       "<AxesSubplot:xlabel='Tag'>"
      ]
     },
     "execution_count": null,
     "metadata": {},
     "output_type": "execute_result"
    },
    {
     "data": {
      "image/png": "[encoded data removed]",
      "text/plain": [
       "<Figure size 1080x720 with 1 Axes>"
      ]
     },
     "metadata": {
      "needs_background": "light"
     },
     "output_type": "display_data"
    }
   ],
   "source": [
    "sorted = cf_melt_pd.sort_values('Count', ascending=True)[:100]\n",
    "sorted.reset_index(drop = True, inplace = True)\n",
    "sorted.plot.bar(x = 'Tag', y='Count', figsize = (15,10))"
   ]
  },
  {
   "cell_type": "code",
   "execution_count": null,
   "metadata": {},
   "outputs": [],
   "source": []
  },
  {
   "cell_type": "code",
   "execution_count": null,
   "metadata": {},
   "outputs": [],
   "source": [
    "empty_count = get_empty_count(bs_pivot_value)"
   ]
  },
  {
   "cell_type": "code",
   "execution_count": null,
   "metadata": {},
   "outputs": [],
   "source": [
    "empty_pd = empty_count.toPandas()"
   ]
  },
  {
   "cell_type": "code",
   "execution_count": null,
   "metadata": {},
   "outputs": [],
   "source": [
    "melt_pd = empty_pd.melt(var_name = 'Tag', value_name = \"Count\")\n",
    "# df2 = pd.melt(df, id_vars=[\"location\", \"name\"], var_name=\"Date\", value_name=\"Value\")"
   ]
  },
  {
   "cell_type": "code",
   "execution_count": null,
   "metadata": {},
   "outputs": [
    {
     "data": {
      "text/plain": [
       "Index(['Tag', 'Count'], dtype='object')"
      ]
     },
     "execution_count": null,
     "metadata": {},
     "output_type": "execute_result"
    }
   ],
   "source": [
    "melt_pd.columns"
   ]
  },
  {
   "cell_type": "code",
   "execution_count": null,
   "metadata": {},
   "outputs": [],
   "source": [
    "pd_frame = df_all_selected.where(\"adsh == '0000704051-20-000085'\").toPandas()\n",
    "#print(pd_frame.sort_values(['report', 'line']))"
   ]
  },
  {
   "cell_type": "code",
   "execution_count": null,
   "metadata": {},
   "outputs": [
    {
     "data": {
      "text/html": [
       "<div>\n",
       "<style scoped>\n",
       "    .dataframe tbody tr th:only-of-type {\n",
       "        vertical-align: middle;\n",
       "    }\n",
       "\n",
       "    .dataframe tbody tr th {\n",
       "        vertical-align: top;\n",
       "    }\n",
       "\n",
       "    .dataframe thead th {\n",
       "        text-align: right;\n",
       "    }\n",
       "</style>\n",
       "<table border=\"1\" class=\"dataframe\">\n",
       "  <thead>\n",
       "    <tr style=\"text-align: right;\">\n",
       "      <th></th>\n",
       "      <th>tag</th>\n",
       "      <th>value</th>\n",
       "      <th>stmt</th>\n",
       "      <th>report</th>\n",
       "      <th>line</th>\n",
       "    </tr>\n",
       "  </thead>\n",
       "  <tbody>\n",
       "    <tr>\n",
       "      <th>7</th>\n",
       "      <td>PropertyPlantAndEquipmentNet</td>\n",
       "      <td>1.261130e+08</td>\n",
       "      <td>BS</td>\n",
       "      <td>2</td>\n",
       "      <td>55</td>\n",
       "    </tr>\n",
       "    <tr>\n",
       "      <th>4</th>\n",
       "      <td>ShortTermBorrowings</td>\n",
       "      <td>2.500000e+08</td>\n",
       "      <td>BS</td>\n",
       "      <td>2</td>\n",
       "      <td>67</td>\n",
       "    </tr>\n",
       "    <tr>\n",
       "      <th>9</th>\n",
       "      <td>LongTermDebtNoncurrent</td>\n",
       "      <td>1.973054e+09</td>\n",
       "      <td>BS</td>\n",
       "      <td>2</td>\n",
       "      <td>75</td>\n",
       "    </tr>\n",
       "    <tr>\n",
       "      <th>5</th>\n",
       "      <td>RedeemableNoncontrollingInterestEquityCarrying...</td>\n",
       "      <td>6.133360e+08</td>\n",
       "      <td>BS</td>\n",
       "      <td>2</td>\n",
       "      <td>77</td>\n",
       "    </tr>\n",
       "    <tr>\n",
       "      <th>3</th>\n",
       "      <td>CommonStockParOrStatedValuePerShare</td>\n",
       "      <td>1.000000e-01</td>\n",
       "      <td>BS</td>\n",
       "      <td>2</td>\n",
       "      <td>89</td>\n",
       "    </tr>\n",
       "    <tr>\n",
       "      <th>8</th>\n",
       "      <td>CommonStockSharesAuthorized</td>\n",
       "      <td>5.000000e+08</td>\n",
       "      <td>BS</td>\n",
       "      <td>2</td>\n",
       "      <td>90</td>\n",
       "    </tr>\n",
       "    <tr>\n",
       "      <th>6</th>\n",
       "      <td>CommonStockSharesIssued</td>\n",
       "      <td>9.053494e+07</td>\n",
       "      <td>BS</td>\n",
       "      <td>2</td>\n",
       "      <td>91</td>\n",
       "    </tr>\n",
       "    <tr>\n",
       "      <th>16</th>\n",
       "      <td>Revenues</td>\n",
       "      <td>6.661860e+08</td>\n",
       "      <td>IS</td>\n",
       "      <td>3</td>\n",
       "      <td>24</td>\n",
       "    </tr>\n",
       "    <tr>\n",
       "      <th>15</th>\n",
       "      <td>IncomeLossFromContinuingOperationsBeforeIncome...</td>\n",
       "      <td>NaN</td>\n",
       "      <td>IS</td>\n",
       "      <td>3</td>\n",
       "      <td>40</td>\n",
       "    </tr>\n",
       "    <tr>\n",
       "      <th>14</th>\n",
       "      <td>ProfitLoss</td>\n",
       "      <td>NaN</td>\n",
       "      <td>IS</td>\n",
       "      <td>3</td>\n",
       "      <td>42</td>\n",
       "    </tr>\n",
       "    <tr>\n",
       "      <th>17</th>\n",
       "      <td>NetIncomeLossAttributableToNoncontrollingInterest</td>\n",
       "      <td>5.652000e+06</td>\n",
       "      <td>IS</td>\n",
       "      <td>3</td>\n",
       "      <td>43</td>\n",
       "    </tr>\n",
       "    <tr>\n",
       "      <th>13</th>\n",
       "      <td>NetIncomeLoss</td>\n",
       "      <td>NaN</td>\n",
       "      <td>IS</td>\n",
       "      <td>3</td>\n",
       "      <td>44</td>\n",
       "    </tr>\n",
       "    <tr>\n",
       "      <th>10</th>\n",
       "      <td>ProfitLoss</td>\n",
       "      <td>NaN</td>\n",
       "      <td>CI</td>\n",
       "      <td>4</td>\n",
       "      <td>7</td>\n",
       "    </tr>\n",
       "    <tr>\n",
       "      <th>12</th>\n",
       "      <td>MinorityInterestDecreaseFromDistributionsToNon...</td>\n",
       "      <td>1.282100e+07</td>\n",
       "      <td>EQ</td>\n",
       "      <td>5</td>\n",
       "      <td>26</td>\n",
       "    </tr>\n",
       "    <tr>\n",
       "      <th>11</th>\n",
       "      <td>NetIncomeLoss</td>\n",
       "      <td>NaN</td>\n",
       "      <td>EQ</td>\n",
       "      <td>5</td>\n",
       "      <td>37</td>\n",
       "    </tr>\n",
       "    <tr>\n",
       "      <th>1</th>\n",
       "      <td>ProfitLoss</td>\n",
       "      <td>NaN</td>\n",
       "      <td>CF</td>\n",
       "      <td>6</td>\n",
       "      <td>19</td>\n",
       "    </tr>\n",
       "    <tr>\n",
       "      <th>0</th>\n",
       "      <td>MinorityInterestDecreaseFromDistributionsToNon...</td>\n",
       "      <td>1.282100e+07</td>\n",
       "      <td>CF</td>\n",
       "      <td>6</td>\n",
       "      <td>49</td>\n",
       "    </tr>\n",
       "    <tr>\n",
       "      <th>2</th>\n",
       "      <td>CashAcquiredFromAcquisition</td>\n",
       "      <td>9.920000e+05</td>\n",
       "      <td>CF</td>\n",
       "      <td>6</td>\n",
       "      <td>64</td>\n",
       "    </tr>\n",
       "  </tbody>\n",
       "</table>\n",
       "</div>"
      ],
      "text/plain": [
       "                                                  tag         value stmt  \\\n",
       "7                        PropertyPlantAndEquipmentNet  1.261130e+08   BS   \n",
       "4                                 ShortTermBorrowings  2.500000e+08   BS   \n",
       "9                              LongTermDebtNoncurrent  1.973054e+09   BS   \n",
       "5   RedeemableNoncontrollingInterestEquityCarrying...  6.133360e+08   BS   \n",
       "3                 CommonStockParOrStatedValuePerShare  1.000000e-01   BS   \n",
       "8                         CommonStockSharesAuthorized  5.000000e+08   BS   \n",
       "6                             CommonStockSharesIssued  9.053494e+07   BS   \n",
       "16                                           Revenues  6.661860e+08   IS   \n",
       "15  IncomeLossFromContinuingOperationsBeforeIncome...           NaN   IS   \n",
       "14                                         ProfitLoss           NaN   IS   \n",
       "17  NetIncomeLossAttributableToNoncontrollingInterest  5.652000e+06   IS   \n",
       "13                                      NetIncomeLoss           NaN   IS   \n",
       "10                                         ProfitLoss           NaN   CI   \n",
       "12  MinorityInterestDecreaseFromDistributionsToNon...  1.282100e+07   EQ   \n",
       "11                                      NetIncomeLoss           NaN   EQ   \n",
       "1                                          ProfitLoss           NaN   CF   \n",
       "0   MinorityInterestDecreaseFromDistributionsToNon...  1.282100e+07   CF   \n",
       "2                         CashAcquiredFromAcquisition  9.920000e+05   CF   \n",
       "\n",
       "    report  line  \n",
       "7        2    55  \n",
       "4        2    67  \n",
       "9        2    75  \n",
       "5        2    77  \n",
       "3        2    89  \n",
       "8        2    90  \n",
       "6        2    91  \n",
       "16       3    24  \n",
       "15       3    40  \n",
       "14       3    42  \n",
       "17       3    43  \n",
       "13       3    44  \n",
       "10       4     7  \n",
       "12       5    26  \n",
       "11       5    37  \n",
       "1        6    19  \n",
       "0        6    49  \n",
       "2        6    64  "
      ]
     },
     "execution_count": null,
     "metadata": {},
     "output_type": "execute_result"
    }
   ],
   "source": [
    "pd.set_option('display.max_rows', pd_frame.shape[0]+1)\n",
    "pd_frame[['tag', 'value', 'stmt', 'report', 'line']].sort_values(['report', 'line'])"
   ]
  },
  {
   "cell_type": "code",
   "execution_count": null,
   "metadata": {},
   "outputs": [],
   "source": [
    "gaap_CashCashEquivalentsRestrictedCashAndRestrictedCashEquivalentsPeriodIncreaseDecreaseIncludingExchangeRateEffect\n",
    "\n",
    "gaap_CashCashEquivalentsRestrictedCashAndRestrictedCashEquivalentsIncludingDisposalGroupAndDiscontinuedOperations\n",
    "gaap_CashCashEquivalentsRestrictedCashAndRestrictedCashEquivalentsIncludingDisposalGroupAndDiscontinuedOperations\n",
    "\n",
    "gaap_CashCashEquivalentsRestrictedCashAndRestrictedCashEquivalentsPeriodIncreaseDecreaseIncludingExchangeRateEffect\n",
    "\n",
    "gaap_CashCashEquivalentsRestrictedCashAndRestrictedCashEquivalents\n",
    "gaap_CashCashEquivalentsRestrictedCashAndRestrictedCashEquivalents"
   ]
  },
  {
   "cell_type": "code",
   "execution_count": null,
   "metadata": {},
   "outputs": [],
   "source": [
    "bs_pivot_report.where(\"adsh == '0001492298-20-000025'\").show()"
   ]
  },
  {
   "cell_type": "code",
   "execution_count": null,
   "metadata": {},
   "outputs": [
    {
     "data": {
      "text/plain": [
       "585411"
      ]
     },
     "execution_count": null,
     "metadata": {},
     "output_type": "execute_result"
    }
   ],
   "source": [
    "df_all_selected.select('adsh','stmt').distinct().count()"
   ]
  },
  {
   "cell_type": "code",
   "execution_count": null,
   "metadata": {},
   "outputs": [
    {
     "data": {
      "text/plain": [
       "133872"
      ]
     },
     "execution_count": null,
     "metadata": {},
     "output_type": "execute_result"
    }
   ],
   "source": [
    "df_all_selected.select('adsh','stmt').distinct().where('stmt = \"BS\"').count()"
   ]
  },
  {
   "cell_type": "code",
   "execution_count": null,
   "metadata": {},
   "outputs": [
    {
     "data": {
      "text/plain": [
       "86120"
      ]
     },
     "execution_count": null,
     "metadata": {},
     "output_type": "execute_result"
    }
   ],
   "source": [
    "df_all_selected.select('adsh','stmt').distinct().where('stmt = \"EQ\"').count()"
   ]
  },
  {
   "cell_type": "code",
   "execution_count": null,
   "metadata": {},
   "outputs": [],
   "source": [
    "cf_pivot_pd_copy.columns.tolist()"
   ]
  },
  {
   "cell_type": "code",
   "execution_count": null,
   "metadata": {},
   "outputs": [
    {
     "data": {
      "text/plain": [
       "['CashAndCashEquivalentsPeriodIncreaseDecrease',\n",
       " 'CashAndCashEquivalentsPeriodIncreaseDecreaseExcludingExchangeRateEffect',\n",
       " 'CashCashEquivalentsRestrictedCashAndRestrictedCashEquivalentsPeriodIncreaseDecreaseExcludingExchangeRateEffect',\n",
       " 'CashCashEquivalentsRestrictedCashAndRestrictedCashEquivalentsPeriodIncreaseDecreaseIncludingExchangeRateEffect',\n",
       " 'CashPeriodIncreaseDecrease',\n",
       " 'CashPeriodIncreaseDecreaseExcludingExchangeRateEffect',\n",
       " 'IncreaseDecreaseCashCollateralFromCounterparties',\n",
       " 'IncreaseDecreaseInCashCollateralForBorrowedSecurities',\n",
       " 'IncreaseDecreaseInCashCollateralForLoanedSecurities',\n",
       " 'IncreaseDecreaseInRestrictedCash',\n",
       " 'IncreaseDecreaseInRestrictedCashAndInvestments',\n",
       " 'IncreaseDecreaseInRestrictedCashAndInvestmentsForOperatingActivities',\n",
       " 'IncreaseDecreaseInRestrictedCashForOperatingActivities',\n",
       " 'LiabilitiesSubjectToCompromiseCashDisbursementsAndReclassificationIncreaseDecreaseUnderBankruptcyCourtOrderResolutionsOfContingenciesSubjectToChapter11',\n",
       " 'LoansReceivableHeldForSaleReconciliationToCashFlowPeriodIncreaseDecrease',\n",
       " 'TradeReceivablesHeldForSaleReconciliationToCashFlowPeriodIncreaseDecrease']"
      ]
     },
     "execution_count": null,
     "metadata": {},
     "output_type": "execute_result"
    }
   ],
   "source": [
    "[x for x in cf_pivot_pd_copy.columns.values if ('IncreaseDecrease' in x) and ('Cash' in x)]"
   ]
  },
  {
   "cell_type": "code",
   "execution_count": null,
   "metadata": {},
   "outputs": [
    {
     "data": {
      "text/plain": [
       "['StockholdersEquity',\n",
       " 'StockholdersEquityAttributableToParentNotAllowableForNetCapital',\n",
       " 'StockholdersEquityBeforeTreasuryStock',\n",
       " 'StockholdersEquityIncludingPortionAttributableToNoncontrollingInterest',\n",
       " 'StockholdersEquityIncludingPortionAttributableToNoncontrollingInterestAdjustedBalance1',\n",
       " 'StockholdersEquityNoteStockSplitConversionRatio',\n",
       " 'StockholdersEquityNoteStockSplitConversionRatio1',\n",
       " 'StockholdersEquityNoteSubscriptionsReceivable']"
      ]
     },
     "execution_count": null,
     "metadata": {},
     "output_type": "execute_result"
    }
   ],
   "source": [
    "[x for x in bs_pivot_liabilities_copy.columns.values if x.startswith('StockholdersEquity')]"
   ]
  },
  {
   "cell_type": "code",
   "execution_count": null,
   "metadata": {},
   "outputs": [],
   "source": []
  }
 ],
 "metadata": {
  "kernelspec": {
   "display_name": "Python 3",
   "language": "python",
   "name": "python3"
  }
 },
 "nbformat": 4,
 "nbformat_minor": 4
}
