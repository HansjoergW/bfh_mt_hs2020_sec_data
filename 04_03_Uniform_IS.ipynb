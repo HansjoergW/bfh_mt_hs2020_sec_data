{
 "cells": [
  {
   "cell_type": "code",
   "execution_count": null,
   "metadata": {},
   "outputs": [],
   "source": [
    "# default_exp uniformis"
   ]
  },
  {
   "cell_type": "code",
   "execution_count": null,
   "metadata": {},
   "outputs": [],
   "source": [
    "#hide\n",
    "from nbdev.showdoc import *"
   ]
  },
  {
   "cell_type": "code",
   "execution_count": null,
   "metadata": {},
   "outputs": [],
   "source": [
    "#hide\n",
    "# stellt sicher, dass beim verändern der core library diese wieder neu geladen wird\n",
    "%load_ext autoreload\n",
    "%autoreload 2"
   ]
  },
  {
   "cell_type": "markdown",
   "metadata": {},
   "source": [
    "# Uniform IS"
   ]
  },
  {
   "cell_type": "markdown",
   "metadata": {},
   "source": [
    "## Basic Settings"
   ]
  },
  {
   "cell_type": "code",
   "execution_count": null,
   "metadata": {},
   "outputs": [],
   "source": [
    "# imports\n",
    "from bfh_mt_hs2020_sec_data.core import * \n",
    "from pathlib import Path\n",
    "from typing import List, Tuple, Union, Set\n",
    "from pyspark.sql.dataframe import DataFrame\n",
    "from pyspark.sql.functions import col\n",
    "\n",
    "import pandas as pd\n",
    "\n",
    "import shutil          # provides high level file operations\n",
    "import time            # used to measure execution time\n",
    "import os\n",
    "import sys"
   ]
  },
  {
   "cell_type": "code",
   "execution_count": null,
   "metadata": {},
   "outputs": [],
   "source": [
    "all_pivot_selected_folder  = \"D:/data/parq_pivot_select\"\n",
    "all_pivoted_folder = \"D:/data/parq_pivot_split\"\n",
    "all_processed_folder = \"D:/data/parq_processed/\"\n",
    "\n",
    "col_list =    [\"stmt\",\"cik\",\"ticker\", \"adsh\",\"period\",\"filed\", \"form\",\"tag\",\"value\",\"report\", \"line\", \"fp\", \"uom\"]\n",
    "pivot_group = [\"cik\",\"ticker\",\"adsh\",\"form\",\"period\",\"filed\",\"fp\", \"qtrs\"]"
   ]
  },
  {
   "cell_type": "code",
   "execution_count": null,
   "metadata": {},
   "outputs": [
    {
     "data": {
      "text/html": [
       "\n",
       "            <div>\n",
       "                <p><b>SparkSession - in-memory</b></p>\n",
       "                \n",
       "        <div>\n",
       "            <p><b>SparkContext</b></p>\n",
       "\n",
       "            <p><a href=\"http://192.168.0.163:4040\">Spark UI</a></p>\n",
       "\n",
       "            <dl>\n",
       "              <dt>Version</dt>\n",
       "                <dd><code>v2.4.5</code></dd>\n",
       "              <dt>Master</dt>\n",
       "                <dd><code>local[*]</code></dd>\n",
       "              <dt>AppName</dt>\n",
       "                <dd><code>default</code></dd>\n",
       "            </dl>\n",
       "        </div>\n",
       "        \n",
       "            </div>\n",
       "        "
      ],
      "text/plain": [
       "<pyspark.sql.session.SparkSession at 0x1e5eaffc708>"
      ]
     },
     "execution_count": null,
     "metadata": {},
     "output_type": "execute_result"
    }
   ],
   "source": [
    "# init Spark\n",
    "spark = get_spark_session() # Session anlegen\n",
    "spark # display the moste important information of the session"
   ]
  },
  {
   "cell_type": "markdown",
   "metadata": {},
   "source": [
    "## 00_Raw_data"
   ]
  },
  {
   "cell_type": "code",
   "execution_count": null,
   "metadata": {},
   "outputs": [],
   "source": [
    "# loading the complete unpivoted dataset - if it is needed for debbuging\n",
    "df_all_selected = spark.read.parquet(all_pivot_selected_folder).cache()"
   ]
  },
  {
   "cell_type": "code",
   "execution_count": null,
   "metadata": {},
   "outputs": [],
   "source": [
    "# it happens sometimes, that the data could not be associated with a right sheet (bs, is, cf, ..). in this cases, the data can appea under \"UN\"\n",
    "# so if expected information cannot be found in the appropriate statement, we have to look in the un statement\n",
    "un_pivot_value = load_data(all_pivoted_folder, spark, \"UN\", \"value\")\n",
    "un_pivot_pd = un_pivot_value.toPandas()"
   ]
  },
  {
   "cell_type": "code",
   "execution_count": null,
   "metadata": {},
   "outputs": [
    {
     "data": {
      "text/plain": [
       "(5989, 1775)"
      ]
     },
     "execution_count": null,
     "metadata": {},
     "output_type": "execute_result"
    }
   ],
   "source": [
    "un_pivot_pd.shape"
   ]
  },
  {
   "cell_type": "code",
   "execution_count": null,
   "metadata": {},
   "outputs": [],
   "source": [
    "def prepare_un_values(df_to_merge_into, attr_list):\n",
    "    # add possible columns from un set to  cf data with prefix cpy_\n",
    "    attributes = pivot_group[:] # create copy\n",
    "    attributes.extend(attr_list)\n",
    "\n",
    "    un_prepared = un_pivot_pd[attributes].copy()\n",
    "    un_prepared.rename(columns=lambda x: x  if x in pivot_group else (\"cpy_\" + x), inplace=True)\n",
    "\n",
    "    return pd.merge(df_to_merge_into, un_prepared, how='left', on=pivot_group)"
   ]
  },
  {
   "cell_type": "markdown",
   "metadata": {},
   "source": [
    "## 01_IncomeStatement"
   ]
  },
  {
   "cell_type": "markdown",
   "metadata": {},
   "source": [
    "Gross Margin\n",
    "- Net Sales\n",
    "- Cost of Sales\n",
    "- Gross Margin -> NetSales - CostOfSales\n",
    "\n",
    "Operating Expenses\n",
    "- R&D\n",
    "- Selling, general and admin\n",
    "- Total op expenses = R&D + Selling, general and admin\n",
    "\n",
    "- Operating Income = Gross Margin - Total op expenses      -> OperatingIncomeLoss\n",
    "- other income\n",
    "- Income before provision for income taxes = operating income + other income\n",
    "\n",
    "- Provision for income taxes\n",
    "- Net income = Income before taxes -taxes                   -> NetIncomeLoss -> also available in CF(!)\n",
    "\n",
    "Earning per share\n",
    "- Basic\n",
    "- Diluted\n",
    "\n",
    "Shares used in computing earnings per share:\n",
    "- basic\n",
    "- diluted\n"
   ]
  },
  {
   "cell_type": "code",
   "execution_count": null,
   "metadata": {},
   "outputs": [
    {
     "data": {
      "text/plain": [
       "(116298, 1928)"
      ]
     },
     "execution_count": null,
     "metadata": {},
     "output_type": "execute_result"
    }
   ],
   "source": [
    "is_pivot_value = load_data(all_pivoted_folder, spark, \"IS\", \"value\")\n",
    "spark_shape(is_pivot_value)"
   ]
  },
  {
   "cell_type": "code",
   "execution_count": null,
   "metadata": {},
   "outputs": [],
   "source": [
    "is_pivot_pd = is_pivot_value.toPandas()"
   ]
  },
  {
   "cell_type": "code",
   "execution_count": null,
   "metadata": {},
   "outputs": [],
   "source": [
    "is_pivot_pd['value_count'] = is_pivot_pd.notnull().sum(axis=1)-len(pivot_group) # create a column that countains the number of not null values of the row\n",
    "# if there are less than 5 columns with values it is likely that this is not a complete statement\n",
    "# often this indicates, that the real information is inside the ComprehensiveIncome Statement and not in an IncomeStatement\n",
    "is_pivot_pd = is_pivot_pd[is_pivot_pd['value_count'] > 4] "
   ]
  },
  {
   "cell_type": "code",
   "execution_count": null,
   "metadata": {},
   "outputs": [],
   "source": [
    "is_pivot_pd_copy = is_pivot_pd.copy()"
   ]
  },
  {
   "cell_type": "code",
   "execution_count": null,
   "metadata": {},
   "outputs": [
    {
     "data": {
      "text/plain": [
       "(115948, 1929)"
      ]
     },
     "execution_count": null,
     "metadata": {},
     "output_type": "execute_result"
    }
   ],
   "source": [
    "is_pivot_pd_copy.shape"
   ]
  },
  {
   "cell_type": "markdown",
   "metadata": {},
   "source": [
    "### Merge Data from \"unknown\" statement"
   ]
  },
  {
   "cell_type": "code",
   "execution_count": null,
   "metadata": {},
   "outputs": [
    {
     "data": {
      "text/plain": [
       "(115948, 1951)"
      ]
     },
     "execution_count": null,
     "metadata": {},
     "output_type": "execute_result"
    }
   ],
   "source": [
    "# merge relevant columns from the UN dataset\n",
    "is_pivot_pd_copy = prepare_un_values(is_pivot_pd_copy, [\n",
    "    'EarningsPerShareBasic',\n",
    "    'EarningsPerShareBasicAndDiluted',\n",
    "    'EarningsPerShareDiluted',\n",
    "    #'EarningsPerShareBasicDistributed',   \n",
    "    #'EarningsPerShareDilutedDistributed',\n",
    "    \n",
    "    'WeightedAverageNumberOfSharesOutstandingBasic',\n",
    "    'WeightedAverageNumberOfDilutedSharesOutstanding',\n",
    "    \n",
    "    'NetIncomeLoss',\n",
    "    'NetIncomeLossAvailableToCommonStockholdersBasic',\n",
    "    'NetIncomeLossAllocatedToLimitedPartners',\n",
    "    'ProfitLoss',\n",
    "    \n",
    "    'Revenues',\n",
    "    'SalesRevenueNet',\n",
    "    'RevenueFromContractWithCustomerExcludingAssessedTax', \n",
    "    'RevenueFromContractWithCustomerIncludingAssessedTax', \n",
    "    'CostOfGoodsAndServicesSold',\n",
    "    'CostOfGoodsSold',\n",
    "    'CostOfRevenue',\n",
    "    'CostOfServices',\n",
    "    'CostsAndExpenses',\n",
    "    'OperatingIncomeLoss',\n",
    "    'IncomeLossFromContinuingOperationsBeforeIncomeTaxesMinorityInterestAndIncomeLossFromEquityMethodInvestments',\n",
    "    'IncomeLossFromContinuingOperationsBeforeIncomeTaxesExtraordinaryItemsNoncontrollingInterest',\n",
    "    \n",
    "    'GrossProfit',\n",
    "])\n",
    "is_pivot_pd_copy.shape"
   ]
  },
  {
   "cell_type": "markdown",
   "metadata": {},
   "source": [
    "### Shares"
   ]
  },
  {
   "cell_type": "code",
   "execution_count": null,
   "metadata": {},
   "outputs": [
    {
     "name": "stdout",
     "output_type": "stream",
     "text": [
      "EarningsPerShareBasic   28747\n",
      "EarningsPerShareBasicAndDiluted   94600\n",
      "EarningsPerShareDiluted   29583\n",
      "EarningsPerShareBasicDistributed   115931\n",
      "EarningsPerShareDilutedDistributed   115931\n"
     ]
    }
   ],
   "source": [
    "print_null_count(is_pivot_pd_copy, [ \n",
    " 'EarningsPerShareBasic',\n",
    " 'EarningsPerShareBasicAndDiluted',\n",
    " 'EarningsPerShareDiluted',\n",
    " 'EarningsPerShareBasicDistributed',   \n",
    " 'EarningsPerShareDilutedDistributed',\n",
    "])"
   ]
  },
  {
   "cell_type": "code",
   "execution_count": null,
   "metadata": {},
   "outputs": [],
   "source": [
    "is_pivot_pd_copy['EarningsPerShare_hj'] = None\n",
    "\n",
    "copy_if_not_empty(is_pivot_pd_copy, 'cpy_EarningsPerShareBasic', 'EarningsPerShareBasic')\n",
    "copy_if_not_empty(is_pivot_pd_copy, 'cpy_EarningsPerShareBasicAndDiluted', 'EarningsPerShareBasicAndDiluted')\n",
    "copy_if_not_empty(is_pivot_pd_copy, 'cpy_EarningsPerShareDiluted', 'EarningsPerShareDiluted',)\n",
    "\n",
    "copy_if_not_empty(is_pivot_pd_copy, 'EarningsPerShareBasic',              'EarningsPerShare_hj')\n",
    "copy_if_not_empty(is_pivot_pd_copy, 'EarningsPerShareBasicAndDiluted',    'EarningsPerShare_hj')\n",
    "copy_if_not_empty(is_pivot_pd_copy, 'EarningsPerShareBasicDistributed',   'EarningsPerShare_hj')\n",
    "copy_if_not_empty(is_pivot_pd_copy, 'EarningsPerShareDiluted',            'EarningsPerShare_hj') \n",
    "copy_if_not_empty(is_pivot_pd_copy, 'EarningsPerShareDilutedDistributed', 'EarningsPerShare_hj') "
   ]
  },
  {
   "cell_type": "code",
   "execution_count": null,
   "metadata": {},
   "outputs": [
    {
     "name": "stdout",
     "output_type": "stream",
     "text": [
      "EarningsPerShare_hj   7118\n"
     ]
    }
   ],
   "source": [
    "print_null_count(is_pivot_pd_copy, ['EarningsPerShare_hj'])"
   ]
  },
  {
   "cell_type": "code",
   "execution_count": null,
   "metadata": {},
   "outputs": [
    {
     "name": "stdout",
     "output_type": "stream",
     "text": [
      "WeightedAverageNumberOfSharesOutstandingBasic   42196\n",
      "WeightedAverageNumberOfDilutedSharesOutstanding   42425\n"
     ]
    }
   ],
   "source": [
    "print_null_count(is_pivot_pd_copy, ['WeightedAverageNumberOfSharesOutstandingBasic','WeightedAverageNumberOfDilutedSharesOutstanding'])"
   ]
  },
  {
   "cell_type": "code",
   "execution_count": null,
   "metadata": {},
   "outputs": [],
   "source": [
    "is_pivot_pd_copy['SharesOutstanding_hj'] = None\n",
    "\n",
    "copy_if_not_empty(is_pivot_pd_copy, 'WeightedAverageNumberOfSharesOutstandingBasic', 'WeightedAverageNumberOfSharesOutstandingBasic')\n",
    "copy_if_not_empty(is_pivot_pd_copy, 'WeightedAverageNumberOfDilutedSharesOutstanding', 'WeightedAverageNumberOfDilutedSharesOutstanding')\n",
    "\n",
    "copy_if_not_empty(is_pivot_pd_copy, 'WeightedAverageNumberOfSharesOutstandingBasic', 'SharesOutstanding_hj')\n",
    "copy_if_not_empty(is_pivot_pd_copy, 'WeightedAverageNumberOfDilutedSharesOutstanding', 'SharesOutstanding_hj')"
   ]
  },
  {
   "cell_type": "code",
   "execution_count": null,
   "metadata": {},
   "outputs": [
    {
     "name": "stdout",
     "output_type": "stream",
     "text": [
      "SharesOutstanding_hj   40992\n"
     ]
    }
   ],
   "source": [
    "print_null_count(is_pivot_pd_copy, ['SharesOutstanding_hj'])"
   ]
  },
  {
   "cell_type": "markdown",
   "metadata": {},
   "source": [
    "### NetIncome"
   ]
  },
  {
   "cell_type": "code",
   "execution_count": null,
   "metadata": {},
   "outputs": [
    {
     "name": "stdout",
     "output_type": "stream",
     "text": [
      "NetIncomeLoss   15061\n",
      "NetIncomeLossAvailableToCommonStockholdersBasic   91942\n",
      "ProfitLoss   76502\n"
     ]
    }
   ],
   "source": [
    "print_null_count(is_pivot_pd_copy, [ 'NetIncomeLoss', 'NetIncomeLossAvailableToCommonStockholdersBasic', 'ProfitLoss'])"
   ]
  },
  {
   "cell_type": "code",
   "execution_count": null,
   "metadata": {},
   "outputs": [],
   "source": [
    "is_pivot_pd_copy['NetIncomeLoss_hj'] = None\n",
    "\n",
    "copy_if_not_empty(is_pivot_pd_copy, 'cpy_NetIncomeLoss', 'NetIncomeLoss')\n",
    "copy_if_not_empty(is_pivot_pd_copy, 'cpy_NetIncomeLossAvailableToCommonStockholdersBasic', 'NetIncomeLossAvailableToCommonStockholdersBasic')\n",
    "copy_if_not_empty(is_pivot_pd_copy, 'cpy_NetIncomeLossAllocatedToLimitedPartners', 'NetIncomeLossAllocatedToLimitedPartners')\n",
    "copy_if_not_empty(is_pivot_pd_copy, 'cpy_ProfitLoss', 'ProfitLoss')\n",
    "\n",
    "\n",
    "copy_if_not_empty(is_pivot_pd_copy, 'NetIncomeLoss', 'NetIncomeLoss_hj')\n",
    "copy_if_not_empty(is_pivot_pd_copy, 'NetIncomeLossAvailableToCommonStockholdersBasic', 'NetIncomeLoss_hj')\n",
    "copy_if_not_empty(is_pivot_pd_copy, 'NetIncomeLossAllocatedToLimitedPartners', 'NetIncomeLoss_hj')\n",
    "copy_if_not_empty(is_pivot_pd_copy, 'ProfitLoss', 'NetIncomeLoss_hj')"
   ]
  },
  {
   "cell_type": "code",
   "execution_count": null,
   "metadata": {},
   "outputs": [
    {
     "name": "stdout",
     "output_type": "stream",
     "text": [
      "NetIncomeLoss_hj   629\n",
      "NetIncomeLoss   15040\n",
      "ProfitLoss   76479\n"
     ]
    }
   ],
   "source": [
    "print_null_count(is_pivot_pd_copy, [ 'NetIncomeLoss_hj', 'NetIncomeLoss', 'ProfitLoss'])"
   ]
  },
  {
   "cell_type": "markdown",
   "metadata": {},
   "source": [
    "### NetSales / Revenues"
   ]
  },
  {
   "cell_type": "code",
   "execution_count": null,
   "metadata": {},
   "outputs": [
    {
     "name": "stdout",
     "output_type": "stream",
     "text": [
      "Revenues   72902\n",
      "SalesRevenueNet   85755\n",
      "RevenueFromContractWithCustomerExcludingAssessedTax   105867\n",
      "RevenueFromContractWithCustomerIncludingAssessedTax   112745\n"
     ]
    }
   ],
   "source": [
    "print_null_count(is_pivot_pd_copy, [ \n",
    "    'Revenues',\n",
    "    'SalesRevenueNet',\n",
    "    'RevenueFromContractWithCustomerExcludingAssessedTax', # Sales\n",
    "    'RevenueFromContractWithCustomerIncludingAssessedTax', # Sales\n",
    "])"
   ]
  },
  {
   "cell_type": "code",
   "execution_count": null,
   "metadata": {},
   "outputs": [],
   "source": [
    "is_pivot_pd_copy['Revenues_hj'] = None\n",
    "\n",
    "copy_if_not_empty(is_pivot_pd_copy, 'cpy_Revenues', 'Revenues')\n",
    "copy_if_not_empty(is_pivot_pd_copy, 'cpy_SalesRevenueNet', 'SalesRevenueNet')\n",
    "copy_if_not_empty(is_pivot_pd_copy, 'cpy_RevenueFromContractWithCustomerExcludingAssessedTax', 'RevenueFromContractWithCustomerExcludingAssessedTax')\n",
    "copy_if_not_empty(is_pivot_pd_copy, 'cpy_RevenueFromContractWithCustomerIncludingAssessedTax', 'RevenueFromContractWithCustomerIncludingAssessedTax')\n",
    "#copy_if_not_empty(is_pivot_pd_copy, 'cpy_RevenuesExcludingInterestAndDividends', 'RevenuesExcludingInterestAndDividends')\n",
    "\n",
    "copy_if_not_empty(is_pivot_pd_copy, 'Revenues', 'Revenues_hj')\n",
    "copy_if_not_empty(is_pivot_pd_copy, 'SalesRevenueNet', 'Revenues_hj')\n",
    "copy_if_not_empty(is_pivot_pd_copy, 'RevenueFromContractWithCustomerExcludingAssessedTax', 'Revenues_hj')\n",
    "copy_if_not_empty(is_pivot_pd_copy, 'RevenueFromContractWithCustomerIncludingAssessedTax', 'Revenues_hj')\n",
    "copy_if_not_empty(is_pivot_pd_copy, 'RevenuesExcludingInterestAndDividends', 'Revenues_hj')\n",
    "copy_if_not_empty(is_pivot_pd_copy, 'RegulatedAndUnregulatedOperatingRevenue', 'Revenues_hj')"
   ]
  },
  {
   "cell_type": "code",
   "execution_count": null,
   "metadata": {},
   "outputs": [],
   "source": [
    "# some companies provide NonInterestIncome and InterestAndDividendIncomeOperating instead of a Revenue\n",
    "sum_into_empty_target(is_pivot_pd_copy,  \n",
    "                      'InterestAndDividendIncomeOperating',\n",
    "                      'NoninterestIncome',\n",
    "                      'Revenues_hj')\n",
    "\n",
    "sum_into_empty_target(is_pivot_pd_copy,  \n",
    "                      'InterestIncomeExpenseNet',\n",
    "                      'NoninterestIncome',\n",
    "                      'Revenues_hj')"
   ]
  },
  {
   "cell_type": "code",
   "execution_count": null,
   "metadata": {},
   "outputs": [
    {
     "name": "stdout",
     "output_type": "stream",
     "text": [
      "Revenues_hj   19707\n"
     ]
    }
   ],
   "source": [
    "print_null_count(is_pivot_pd_copy, [ 'Revenues_hj'])"
   ]
  },
  {
   "cell_type": "markdown",
   "metadata": {},
   "source": [
    "### CostOfSales"
   ]
  },
  {
   "cell_type": "code",
   "execution_count": null,
   "metadata": {},
   "outputs": [
    {
     "name": "stdout",
     "output_type": "stream",
     "text": [
      "CostOfGoodsAndServicesSold   92883\n",
      "CostOfGoodsSold   92137\n",
      "CostOfRevenue   97325\n",
      "CostOfServices   106637\n"
     ]
    }
   ],
   "source": [
    "print_null_count(is_pivot_pd_copy, [ \n",
    "    'CostOfGoodsAndServicesSold',\n",
    "    'CostOfGoodsSold',\n",
    "    'CostOfRevenue',\n",
    "    'CostOfServices',\n",
    "])"
   ]
  },
  {
   "cell_type": "code",
   "execution_count": null,
   "metadata": {},
   "outputs": [],
   "source": [
    "is_pivot_pd_copy['CostOfRevenue_hj'] = None\n",
    "\n",
    "copy_if_not_empty(is_pivot_pd_copy, 'cpy_CostOfGoodsAndServicesSold', 'CostOfGoodsAndServicesSold')\n",
    "copy_if_not_empty(is_pivot_pd_copy, 'cpy_CostOfGoodsSold', 'CostOfGoodsSold')\n",
    "copy_if_not_empty(is_pivot_pd_copy, 'cpy_CostOfRevenue', 'CostOfRevenue')\n",
    "copy_if_not_empty(is_pivot_pd_copy, 'cpy_CostOfServices', 'CostOfServices')\n",
    "\n",
    "copy_if_not_empty(is_pivot_pd_copy, 'CostOfRevenue', 'CostOfRevenue_hj')\n",
    "copy_if_not_empty(is_pivot_pd_copy, 'CostOfGoodsAndServicesSold', 'CostOfRevenue_hj')\n",
    "\n",
    "sum_into_empty_target(is_pivot_pd_copy,  \n",
    "                      'CostOfGoodsSold',\n",
    "                      'CostOfServices',\n",
    "                      'CostOfRevenue_hj')\n",
    "\n",
    "copy_if_not_empty(is_pivot_pd_copy, 'CostOfGoodsSold', 'CostOfRevenue_hj')\n",
    "copy_if_not_empty(is_pivot_pd_copy, 'CostOfServices', 'CostOfRevenue_hj')"
   ]
  },
  {
   "cell_type": "code",
   "execution_count": null,
   "metadata": {},
   "outputs": [
    {
     "name": "stdout",
     "output_type": "stream",
     "text": [
      "CostOfRevenue_hj   52428\n"
     ]
    }
   ],
   "source": [
    "print_null_count(is_pivot_pd_copy, ['CostOfRevenue_hj'])"
   ]
  },
  {
   "cell_type": "markdown",
   "metadata": {},
   "source": [
    "### OperatingIncomeLoss"
   ]
  },
  {
   "cell_type": "code",
   "execution_count": null,
   "metadata": {},
   "outputs": [
    {
     "name": "stdout",
     "output_type": "stream",
     "text": [
      "OperatingIncomeLoss   28969\n",
      "IncomeLossFromContinuingOperationsBeforeIncomeTaxesMinorityInterestAndIncomeLossFromEquityMethodInvestments   59865\n",
      "IncomeLossFromContinuingOperationsBeforeIncomeTaxesExtraordinaryItemsNoncontrollingInterest   70481\n"
     ]
    }
   ],
   "source": [
    "print_null_count(is_pivot_pd_copy, ['OperatingIncomeLoss',\n",
    "                                   'IncomeLossFromContinuingOperationsBeforeIncomeTaxesMinorityInterestAndIncomeLossFromEquityMethodInvestments',\n",
    "                                   'IncomeLossFromContinuingOperationsBeforeIncomeTaxesExtraordinaryItemsNoncontrollingInterest'])"
   ]
  },
  {
   "cell_type": "code",
   "execution_count": null,
   "metadata": {},
   "outputs": [],
   "source": [
    "is_pivot_pd_copy['OperatingIncomeLoss_hj'] = None\n",
    "\n",
    "copy_if_not_empty(is_pivot_pd_copy, 'cpy_OperatingIncomeLoss', 'OperatingIncomeLoss')\n",
    "copy_if_not_empty(is_pivot_pd_copy, 'cpy_IncomeLossFromContinuingOperationsBeforeIncomeTaxesMinorityInterestAndIncomeLossFromEquityMethodInvestments', 'IncomeLossFromContinuingOperationsBeforeIncomeTaxesMinorityInterestAndIncomeLossFromEquityMethodInvestments')\n",
    "copy_if_not_empty(is_pivot_pd_copy, 'cpy_IncomeLossFromContinuingOperationsBeforeIncomeTaxesExtraordinaryItemsNoncontrollingInterest', 'IncomeLossFromContinuingOperationsBeforeIncomeTaxesExtraordinaryItemsNoncontrollingInterest')\n",
    "\n",
    "copy_if_not_empty(is_pivot_pd_copy, 'OperatingIncomeLoss', 'OperatingIncomeLoss_hj')\n",
    "copy_if_not_empty(is_pivot_pd_copy, 'IncomeLossFromContinuingOperationsBeforeIncomeTaxesMinorityInterestAndIncomeLossFromEquityMethodInvestments', 'OperatingIncomeLoss_hj')\n",
    "copy_if_not_empty(is_pivot_pd_copy, 'IncomeLossFromContinuingOperationsBeforeIncomeTaxesExtraordinaryItemsNoncontrollingInterest', 'OperatingIncomeLoss_hj')"
   ]
  },
  {
   "cell_type": "code",
   "execution_count": null,
   "metadata": {},
   "outputs": [
    {
     "name": "stdout",
     "output_type": "stream",
     "text": [
      "OperatingIncomeLoss_hj   4110\n"
     ]
    }
   ],
   "source": [
    "print_null_count(is_pivot_pd_copy, ['OperatingIncomeLoss_hj'])"
   ]
  },
  {
   "cell_type": "markdown",
   "metadata": {},
   "source": [
    "### Other"
   ]
  },
  {
   "cell_type": "code",
   "execution_count": null,
   "metadata": {},
   "outputs": [],
   "source": [
    "copy_if_not_empty(is_pivot_pd_copy, 'cpy_CostsAndExpenses', 'CostsAndExpenses')\n",
    "copy_if_not_empty(is_pivot_pd_copy, 'cpy_GrossProfit', 'GrossProfit')"
   ]
  },
  {
   "cell_type": "markdown",
   "metadata": {},
   "source": [
    "#### Save"
   ]
  },
  {
   "cell_type": "code",
   "execution_count": null,
   "metadata": {},
   "outputs": [],
   "source": [
    "is_pivot_pd_copy[[\"cik\",\"ticker\", \"adsh\",\"period\",\"form\", \"qtrs\",\"fp\",\n",
    "                    'Revenues_hj',\n",
    "                    'CostOfRevenue_hj',\n",
    "                    'GrossProfit',\n",
    "                    'OperatingIncomeLoss_hj',\n",
    "                    'CostsAndExpenses',\n",
    "                    'NetIncomeLoss_hj', 'NetIncomeLoss', 'ProfitLoss',\n",
    "                    'SharesOutstanding_hj',\n",
    "                    'EarningsPerShare_hj'\n",
    "                 ]] \\\n",
    "                  .to_csv(all_processed_folder + \"is_not_cleaned.csv\", index=False)"
   ]
  },
  {
   "cell_type": "markdown",
   "metadata": {},
   "source": [
    "## XX_Trials"
   ]
  },
  {
   "cell_type": "code",
   "execution_count": null,
   "metadata": {},
   "outputs": [],
   "source": []
  }
 ],
 "metadata": {
  "kernelspec": {
   "display_name": "Python 3",
   "language": "python",
   "name": "python3"
  }
 },
 "nbformat": 4,
 "nbformat_minor": 4
}
