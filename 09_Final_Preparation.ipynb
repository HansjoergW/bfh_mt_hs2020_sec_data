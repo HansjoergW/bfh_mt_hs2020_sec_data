{
 "cells": [
  {
   "cell_type": "code",
   "execution_count": null,
   "metadata": {},
   "outputs": [],
   "source": [
    "# default_exp final"
   ]
  },
  {
   "cell_type": "code",
   "execution_count": null,
   "metadata": {},
   "outputs": [],
   "source": [
    "#hide\n",
    "from nbdev.showdoc import *"
   ]
  },
  {
   "cell_type": "code",
   "execution_count": null,
   "metadata": {},
   "outputs": [],
   "source": [
    "#hide\n",
    "# nbdev function - ensures that changed libraries from the project are reloaded\n",
    "%load_ext autoreload\n",
    "%autoreload 2"
   ]
  },
  {
   "cell_type": "markdown",
   "metadata": {},
   "source": [
    "# Final preparations"
   ]
  },
  {
   "cell_type": "code",
   "execution_count": null,
   "metadata": {},
   "outputs": [],
   "source": [
    "# imports\n",
    "from bfh_mt_hs2020_sec_data.core import * \n",
    "from pathlib import Path\n",
    "from typing import List, Tuple, Union, Set\n",
    "import glob\n",
    "\n",
    "import pandas as pd\n",
    "import numpy as np\n",
    "\n",
    "import shutil          # provides high level file operations\n",
    "import time            # used to measure execution time\n",
    "import os\n",
    "import sys\n",
    "\n",
    "import matplotlib.pyplot as plt\n",
    "import seaborn as sns; sns.set()\n",
    "\n",
    "from yahoo_historical import Fetcher\n",
    "import yfinance as yf"
   ]
  },
  {
   "cell_type": "code",
   "execution_count": null,
   "metadata": {},
   "outputs": [],
   "source": [
    "all_data_local_folder = \"./data/\"\n",
    "stock_data_folder = \"D:/data/stocks/sec/\"\n",
    "training_set_folder = \"D:/data/mt/\"\n",
    "\n",
    "join_group = [\"cik\",\"ticker\",\"adsh\",\"period\",\"filed\",\"form\",\"fp\"]"
   ]
  },
  {
   "cell_type": "markdown",
   "metadata": {},
   "source": [
    "## 00_Tools"
   ]
  },
  {
   "cell_type": "code",
   "execution_count": null,
   "metadata": {},
   "outputs": [],
   "source": [
    "def load_sec_features():\n",
    "    return pd.read_csv(all_data_local_folder + \"07_all_features_complete_corrected.csv\", header = 0)"
   ]
  },
  {
   "cell_type": "code",
   "execution_count": null,
   "metadata": {},
   "outputs": [],
   "source": [
    "def read_additional_info() -> pd.DataFrame:\n",
    "    df =  pd.read_csv(all_data_local_folder + \"08_add_ticker_info.csv\", sep=',', encoding='utf-8', header=0)\n",
    "    df =  df[df.message.isna()]\n",
    "    return df.reset_index(drop=True)"
   ]
  },
  {
   "cell_type": "code",
   "execution_count": null,
   "metadata": {},
   "outputs": [],
   "source": [
    "# create a list with all stockdata files\n",
    "def get_stock_data_files() -> List[str]:\n",
    "    return glob.glob(stock_data_folder + \"**/*_processed.csv\",recursive = True)"
   ]
  },
  {
   "cell_type": "code",
   "execution_count": null,
   "metadata": {},
   "outputs": [],
   "source": [
    "def get_ticker_from_filename(filename: str) -> str:\n",
    "    return filename[len(stock_data_folder) + 2 : -14]"
   ]
  },
  {
   "cell_type": "markdown",
   "metadata": {},
   "source": [
    "## 01_additional company information"
   ]
  },
  {
   "cell_type": "markdown",
   "metadata": {},
   "source": [
    "### Sector and Industries\n",
    "Important features are the industry and the sector a company works in and in order to use these during training, wie have to one-hot-encode them.\n",
    "There are about 12 different sectors and about 142 different industries in the data."
   ]
  },
  {
   "cell_type": "code",
   "execution_count": null,
   "metadata": {},
   "outputs": [
    {
     "name": "stdout",
     "output_type": "stream",
     "text": [
      "length of dataset:            2065\n",
      "number of unique sectors:     12\n",
      "number of unique industries:  142\n"
     ]
    }
   ],
   "source": [
    "add_info = read_additional_info()\n",
    "print(\"length of dataset:           \", add_info.shape[0])\n",
    "print(\"number of unique sectors:    \", len(add_info.sector.unique()))\n",
    "print(\"number of unique industries: \",len(add_info.industry.unique()))"
   ]
  },
  {
   "cell_type": "code",
   "execution_count": null,
   "metadata": {},
   "outputs": [],
   "source": [
    "add_info['sector'] = add_info.sector.str.replace(' ','')\n",
    "add_info = pd.concat([add_info, pd.get_dummies(add_info.sector, prefix='sec_')], axis=1)"
   ]
  },
  {
   "cell_type": "markdown",
   "metadata": {},
   "source": [
    "it doesn't make sense to hot encode all 140 industries, we will only use industries which appear more than 20 times in the data (at least in one percent of the data). Othe industries will be set to \"other\""
   ]
  },
  {
   "cell_type": "code",
   "execution_count": null,
   "metadata": {},
   "outputs": [],
   "source": [
    "add_info['industry'] = add_info.industry.str.replace(' ','')\n",
    "add_info['industry'] = add_info.industry.str.replace('&','')\n",
    "add_info['industry'] = add_info.industry.str.replace('—','')"
   ]
  },
  {
   "cell_type": "code",
   "execution_count": null,
   "metadata": {},
   "outputs": [],
   "source": [
    "df_industries = add_info.industry.value_counts()\n",
    "df_relevant_industries = df_industries[df_industries > 20].index.tolist() # create a list with industries that appear at least 20 times in the data\n",
    "add_info.loc[~add_info.industry.isin(df_relevant_industries),'industry'] = \"Other\""
   ]
  },
  {
   "cell_type": "code",
   "execution_count": null,
   "metadata": {},
   "outputs": [
    {
     "data": {
      "text/plain": [
       "(2065, 47)"
      ]
     },
     "execution_count": null,
     "metadata": {},
     "output_type": "execute_result"
    }
   ],
   "source": [
    "add_info = pd.concat([add_info, pd.get_dummies(add_info.industry, prefix='ind_')], axis=1)\n",
    "add_info.shape"
   ]
  },
  {
   "cell_type": "markdown",
   "metadata": {},
   "source": [
    "### Market Capitalization\n",
    "We will use the Market Capitalization to rank the companies and then create features like top 10, top 100, top 200, ..."
   ]
  },
  {
   "cell_type": "code",
   "execution_count": null,
   "metadata": {},
   "outputs": [],
   "source": [
    "add_info['marketCap_rank'] = add_info.marketCap.rank(ascending=False)"
   ]
  },
  {
   "cell_type": "code",
   "execution_count": null,
   "metadata": {},
   "outputs": [
    {
     "data": {
      "text/plain": [
       "(2065, 56)"
      ]
     },
     "execution_count": null,
     "metadata": {},
     "output_type": "execute_result"
    }
   ],
   "source": [
    "add_info['mc_top10'] = 0.0\n",
    "add_info['mc_top20'] = 0.0\n",
    "add_info['mc_top30'] = 0.0\n",
    "add_info['mc_top50'] = 0.0\n",
    "add_info['mc_top100'] = 0.0\n",
    "add_info['mc_top200'] = 0.0\n",
    "add_info['mc_top500'] = 0.0\n",
    "add_info['mc_top1000'] = 0.0\n",
    "\n",
    "add_info.loc[add_info.marketCap_rank <=   10, 'mc_top10']   = 1.0\n",
    "add_info.loc[add_info.marketCap_rank <=   20, 'mc_top20']   = 1.0\n",
    "add_info.loc[add_info.marketCap_rank <=   30, 'mc_top30']   = 1.0\n",
    "add_info.loc[add_info.marketCap_rank <=   50, 'mc_top50']   = 1.0\n",
    "add_info.loc[add_info.marketCap_rank <=  100, 'mc_top100']  = 1.0\n",
    "add_info.loc[add_info.marketCap_rank <=  200, 'mc_top200']  = 1.0\n",
    "add_info.loc[add_info.marketCap_rank <=  500, 'mc_top500']  = 1.0\n",
    "add_info.loc[add_info.marketCap_rank <= 1000, 'mc_top1000'] = 1.0\n",
    "\n",
    "add_info.shape"
   ]
  },
  {
   "cell_type": "markdown",
   "metadata": {},
   "source": [
    "### Drop unnecessary columns and save"
   ]
  },
  {
   "cell_type": "code",
   "execution_count": null,
   "metadata": {},
   "outputs": [],
   "source": [
    "add_info = add_info.drop(['message', 'marketCap_rank', 'sector', 'industry'], axis=1)\n",
    "add_info.to_csv(all_data_local_folder + '09_add_ticker_info_features.csv', header=True, index=False)"
   ]
  },
  {
   "cell_type": "markdown",
   "metadata": {},
   "source": [
    "## 02_Company Reports"
   ]
  },
  {
   "cell_type": "code",
   "execution_count": null,
   "metadata": {},
   "outputs": [],
   "source": [
    "df_sec = load_sec_features()"
   ]
  },
  {
   "cell_type": "markdown",
   "metadata": {},
   "source": [
    "### Check Ticker and CIK in 07_all_features_complete_corrected.csv\n",
    "it could be that the same Ticker-Symbol is used for several CIKs. This could happen, if a company is delisted or if companies are part of a holding. However, we have to ensure that the mapping between the ticker and cik we are using is unambiguous."
   ]
  },
  {
   "cell_type": "code",
   "execution_count": null,
   "metadata": {},
   "outputs": [],
   "source": [
    "df_ciktik = df_sec[['cik','ticker']]\n",
    "df_ciktik_unique = df_ciktik.drop_duplicates()"
   ]
  },
  {
   "cell_type": "code",
   "execution_count": null,
   "metadata": {},
   "outputs": [
    {
     "data": {
      "text/plain": [
       "1    3050\n",
       "Name: ticker, dtype: int64"
      ]
     },
     "execution_count": null,
     "metadata": {},
     "output_type": "execute_result"
    }
   ],
   "source": [
    "df_cik_to_tickers = df_ciktik_unique['ticker'].value_counts()\n",
    "# this shows how often a ticker is is used for how many ciks\n",
    "# what we would want to see is one row starting with \"1\".  \n",
    "# If there multiple rows, wie now that there are tickers which seem to be used for different ciks.\n",
    "df_cik_to_tickers.value_counts() "
   ]
  },
  {
   "cell_type": "code",
   "execution_count": null,
   "metadata": {},
   "outputs": [
    {
     "data": {
      "text/plain": [
       "[]"
      ]
     },
     "execution_count": null,
     "metadata": {},
     "output_type": "execute_result"
    }
   ],
   "source": [
    "used_mulitple_times = df_cik_to_tickers[df_cik_to_tickers > 1].index.to_list()\n",
    "used_mulitple_times"
   ]
  },
  {
   "cell_type": "code",
   "execution_count": null,
   "metadata": {},
   "outputs": [
    {
     "data": {
      "text/html": [
       "<div>\n",
       "<style scoped>\n",
       "    .dataframe tbody tr th:only-of-type {\n",
       "        vertical-align: middle;\n",
       "    }\n",
       "\n",
       "    .dataframe tbody tr th {\n",
       "        vertical-align: top;\n",
       "    }\n",
       "\n",
       "    .dataframe thead th {\n",
       "        text-align: right;\n",
       "    }\n",
       "</style>\n",
       "<table border=\"1\" class=\"dataframe\">\n",
       "  <thead>\n",
       "    <tr style=\"text-align: right;\">\n",
       "      <th></th>\n",
       "      <th>cik</th>\n",
       "      <th>ticker</th>\n",
       "    </tr>\n",
       "  </thead>\n",
       "  <tbody>\n",
       "  </tbody>\n",
       "</table>\n",
       "</div>"
      ],
      "text/plain": [
       "Empty DataFrame\n",
       "Columns: [cik, ticker]\n",
       "Index: []"
      ]
     },
     "execution_count": null,
     "metadata": {},
     "output_type": "execute_result"
    }
   ],
   "source": [
    "df_ciktik_unique[df_ciktik_unique.ticker.isin(used_mulitple_times)].sort_values('ticker')"
   ]
  },
  {
   "cell_type": "markdown",
   "metadata": {},
   "source": [
    "### add one hot_encoding for financial period"
   ]
  },
  {
   "cell_type": "code",
   "execution_count": null,
   "metadata": {},
   "outputs": [
    {
     "data": {
      "text/plain": [
       "(94599, 58)"
      ]
     },
     "execution_count": null,
     "metadata": {},
     "output_type": "execute_result"
    }
   ],
   "source": [
    "df_sec = pd.concat([df_sec, pd.get_dummies(df_sec.fp, prefix='fp_')], axis=1)\n",
    "df_sec.shape"
   ]
  },
  {
   "cell_type": "code",
   "execution_count": null,
   "metadata": {},
   "outputs": [],
   "source": [
    "df_sec.to_csv(all_data_local_folder + '09_company_reports.csv', header=True, index=False)"
   ]
  },
  {
   "cell_type": "markdown",
   "metadata": {},
   "source": [
    "## 05_Check completeness of data\n",
    "there are now 3 datasets with features\n",
    "- 07_all_feature_complete.csv contains comparable data from the business reports\n",
    "- [ticker]_processed.csv contain the historical stockdata\n",
    "- 09_add_ticker_info_features.csv contains additional information for a company\n",
    "\n",
    "for the training, we can only use the data of companies that are present in all 3 datasets "
   ]
  },
  {
   "cell_type": "code",
   "execution_count": null,
   "metadata": {},
   "outputs": [],
   "source": [
    "sd_files = get_stock_data_files()\n",
    "ticker_sd_files = [get_ticker_from_filename(x) for x in sd_files]"
   ]
  },
  {
   "cell_type": "code",
   "execution_count": null,
   "metadata": {},
   "outputs": [
    {
     "name": "stdout",
     "output_type": "stream",
     "text": [
      "2065\n",
      "3050\n",
      "2294\n"
     ]
    }
   ],
   "source": [
    "set_ticker_add_info = set(add_info.ticker.unique())\n",
    "set_ticker_df_sec = set(df_sec.ticker.unique())\n",
    "set_ticker_sd = set(ticker_sd_files)\n",
    "\n",
    "print(len(set_ticker_add_info))\n",
    "print(len(set_ticker_df_sec))\n",
    "print(len(set_ticker_sd))"
   ]
  },
  {
   "cell_type": "code",
   "execution_count": null,
   "metadata": {},
   "outputs": [
    {
     "data": {
      "text/plain": [
       "2053"
      ]
     },
     "execution_count": null,
     "metadata": {},
     "output_type": "execute_result"
    }
   ],
   "source": [
    "# define which tickers are present in all 3 datasets\n",
    "intersected = set_ticker_add_info.intersection(set_ticker_df_sec).intersection(set_ticker_sd)\n",
    "len(intersected)"
   ]
  },
  {
   "cell_type": "markdown",
   "metadata": {},
   "source": [
    "### save/copy data of companies present in all 3 datasets to a special folder"
   ]
  },
  {
   "cell_type": "code",
   "execution_count": null,
   "metadata": {},
   "outputs": [],
   "source": [
    "add_info_cleaned = add_info[add_info.ticker.isin(intersected)].sort_values('ticker')\n",
    "add_info_cleaned.to_csv(training_set_folder + \"company_info.csv\", header=True, index=False)"
   ]
  },
  {
   "cell_type": "code",
   "execution_count": null,
   "metadata": {},
   "outputs": [],
   "source": [
    "df_sec_cleaned = df_sec[df_sec.ticker.isin(intersected)].sort_values(['ticker','period'])\n",
    "df_sec_cleaned.to_csv(training_set_folder + \"company_reports.csv\", header=True, index=False)"
   ]
  },
  {
   "cell_type": "code",
   "execution_count": null,
   "metadata": {},
   "outputs": [],
   "source": [
    "import shutil\n",
    "import string\n",
    "for char in string.ascii_uppercase:\n",
    "    folder = training_set_folder + \"stocks/\" + char + \"/\"\n",
    "    directory = os.path.dirname(folder)\n",
    "    if not os.path.exists(directory):\n",
    "        os.makedirs(directory)\n",
    "        \n",
    "for file in sd_files:\n",
    "    ticker = get_ticker_from_filename(file)\n",
    "    if ticker in intersected:\n",
    "        shutil.copy(file, training_set_folder + \"stocks/\" + ticker[0] + \"/\" + ticker +\".csv\")"
   ]
  },
  {
   "cell_type": "markdown",
   "metadata": {},
   "source": [
    "## 06_Combine Stockdata into a single dataset\n",
    "In order to be able to normalize the stockdata, we need to have them all in a single dataset. <br>\n",
    "Sice we don't know how we will use them, we store the data with spark as a parquet dataset and a pure csv dataset."
   ]
  },
  {
   "cell_type": "code",
   "execution_count": null,
   "metadata": {},
   "outputs": [
    {
     "data": {
      "text/html": [
       "\n",
       "            <div>\n",
       "                <p><b>SparkSession - in-memory</b></p>\n",
       "                \n",
       "        <div>\n",
       "            <p><b>SparkContext</b></p>\n",
       "\n",
       "            <p><a href=\"http://192.168.0.163:4040\">Spark UI</a></p>\n",
       "\n",
       "            <dl>\n",
       "              <dt>Version</dt>\n",
       "                <dd><code>v2.4.5</code></dd>\n",
       "              <dt>Master</dt>\n",
       "                <dd><code>local[*]</code></dd>\n",
       "              <dt>AppName</dt>\n",
       "                <dd><code>default</code></dd>\n",
       "            </dl>\n",
       "        </div>\n",
       "        \n",
       "            </div>\n",
       "        "
      ],
      "text/plain": [
       "<pyspark.sql.session.SparkSession at 0x1d58170b908>"
      ]
     },
     "execution_count": null,
     "metadata": {},
     "output_type": "execute_result"
    }
   ],
   "source": [
    "# init Spark\n",
    "spark = get_spark_session() # Session anlegen\n",
    "spark # display the moste important information of the session"
   ]
  },
  {
   "cell_type": "code",
   "execution_count": null,
   "metadata": {},
   "outputs": [],
   "source": [
    "start = time.time()\n",
    "df_all = spark.read.csv(training_set_folder + \"stocks/*/*\", header=True, dateFormat=\"yyyy-MM-dd\")"
   ]
  },
  {
   "cell_type": "code",
   "execution_count": null,
   "metadata": {},
   "outputs": [],
   "source": [
    "from pyspark.sql.functions import col\n",
    "df_all_partioned = df_all.repartition(16, col(\"ticker\"))\n",
    "df_all_partioned.write.parquet(training_set_folder + \"/all_stock_data\")"
   ]
  },
  {
   "cell_type": "code",
   "execution_count": null,
   "metadata": {},
   "outputs": [],
   "source": [
    "pd_df = df_all.toPandas()"
   ]
  },
  {
   "cell_type": "code",
   "execution_count": null,
   "metadata": {},
   "outputs": [],
   "source": [
    "pd_df.sort_values(['ticker','Date']).to_csv(training_set_folder + \"all_stock_data.csv\", header=True, index=False)"
   ]
  },
  {
   "cell_type": "code",
   "execution_count": null,
   "metadata": {},
   "outputs": [],
   "source": [
    "spark.stop()"
   ]
  },
  {
   "cell_type": "markdown",
   "metadata": {},
   "source": [
    "## XX_Trials"
   ]
  },
  {
   "cell_type": "code",
   "execution_count": null,
   "metadata": {},
   "outputs": [
    {
     "name": "stdout",
     "output_type": "stream",
     "text": [
      "12\n",
      "142\n"
     ]
    }
   ],
   "source": [
    "print(len(add_info.sector.unique()))\n",
    "print(len(add_info.industry.unique()))"
   ]
  },
  {
   "cell_type": "code",
   "execution_count": null,
   "metadata": {},
   "outputs": [
    {
     "data": {
      "text/plain": [
       "FinancialServices        375\n",
       "Industrials              324\n",
       "Technology               293\n",
       "Healthcare               264\n",
       "ConsumerCyclical         235\n",
       "RealEstate               131\n",
       "Energy                   115\n",
       "ConsumerDefensive        102\n",
       "BasicMaterials            85\n",
       "CommunicationServices     81\n",
       "Utilities                 54\n",
       "IndustrialGoods            1\n",
       "Name: sector, dtype: int64"
      ]
     },
     "execution_count": null,
     "metadata": {},
     "output_type": "execute_result"
    }
   ],
   "source": [
    "add_info.sector.value_counts()"
   ]
  },
  {
   "cell_type": "code",
   "execution_count": null,
   "metadata": {},
   "outputs": [
    {
     "data": {
      "text/plain": [
       "['Other',\n",
       " 'BanksRegional',\n",
       " 'Biotechnology',\n",
       " 'SoftwareApplication',\n",
       " 'SpecialtyIndustrialMachinery',\n",
       " 'OilGasEP',\n",
       " 'Semiconductors',\n",
       " 'MedicalDevices',\n",
       " 'InformationTechnologyServices',\n",
       " 'PackagedFoods',\n",
       " 'InsurancePropertyCasualty',\n",
       " 'SpecialtyChemicals',\n",
       " 'SoftwareInfrastructure',\n",
       " 'MedicalInstrumentsSupplies',\n",
       " 'AutoParts',\n",
       " 'CommunicationEquipment',\n",
       " 'SpecialtyRetail',\n",
       " 'AssetManagement',\n",
       " 'DiagnosticsResearch',\n",
       " 'ElectronicComponents',\n",
       " 'AerospaceDefense',\n",
       " 'Restaurants',\n",
       " 'OilGasEquipmentServices',\n",
       " 'ScientificTechnicalInstruments',\n",
       " 'CreditServices',\n",
       " 'OilGasMidstream',\n",
       " 'SpecialtyBusinessServices',\n",
       " 'ApparelRetail',\n",
       " 'SemiconductorEquipmentMaterials']"
      ]
     },
     "execution_count": null,
     "metadata": {},
     "output_type": "execute_result"
    }
   ],
   "source": [
    "industries = add_info.industry.value_counts()\n",
    "industries[industries > 20].index.tolist()"
   ]
  },
  {
   "cell_type": "code",
   "execution_count": null,
   "metadata": {},
   "outputs": [
    {
     "data": {
      "text/html": [
       "<div>\n",
       "<style scoped>\n",
       "    .dataframe tbody tr th:only-of-type {\n",
       "        vertical-align: middle;\n",
       "    }\n",
       "\n",
       "    .dataframe tbody tr th {\n",
       "        vertical-align: top;\n",
       "    }\n",
       "\n",
       "    .dataframe thead th {\n",
       "        text-align: right;\n",
       "    }\n",
       "</style>\n",
       "<table border=\"1\" class=\"dataframe\">\n",
       "  <thead>\n",
       "    <tr style=\"text-align: right;\">\n",
       "      <th></th>\n",
       "      <th>ticker</th>\n",
       "      <th>sector</th>\n",
       "      <th>industry</th>\n",
       "      <th>marketCap</th>\n",
       "      <th>sharesOutstanding</th>\n",
       "      <th>message</th>\n",
       "      <th>sec__BasicMaterials</th>\n",
       "      <th>sec__CommunicationServices</th>\n",
       "      <th>sec__ConsumerCyclical</th>\n",
       "      <th>sec__ConsumerDefensive</th>\n",
       "      <th>...</th>\n",
       "      <th>ind__SpecialtyRetail</th>\n",
       "      <th>marketCap_rank</th>\n",
       "      <th>mc_top10</th>\n",
       "      <th>mc_top20</th>\n",
       "      <th>mc_top30</th>\n",
       "      <th>mc_top50</th>\n",
       "      <th>mc_top100</th>\n",
       "      <th>mc_top200</th>\n",
       "      <th>mc_top500</th>\n",
       "      <th>mc_top1000</th>\n",
       "    </tr>\n",
       "  </thead>\n",
       "  <tbody>\n",
       "    <tr>\n",
       "      <th>2</th>\n",
       "      <td>AAPL</td>\n",
       "      <td>Technology</td>\n",
       "      <td>Other</td>\n",
       "      <td>2.081190e+12</td>\n",
       "      <td>1.710250e+10</td>\n",
       "      <td>NaN</td>\n",
       "      <td>0</td>\n",
       "      <td>0</td>\n",
       "      <td>0</td>\n",
       "      <td>0</td>\n",
       "      <td>...</td>\n",
       "      <td>0</td>\n",
       "      <td>1.0</td>\n",
       "      <td>1.0</td>\n",
       "      <td>1.0</td>\n",
       "      <td>1.0</td>\n",
       "      <td>1.0</td>\n",
       "      <td>1.0</td>\n",
       "      <td>1.0</td>\n",
       "      <td>1.0</td>\n",
       "      <td>1.0</td>\n",
       "    </tr>\n",
       "    <tr>\n",
       "      <th>1951</th>\n",
       "      <td>MSFT</td>\n",
       "      <td>Technology</td>\n",
       "      <td>SoftwareInfrastructure</td>\n",
       "      <td>1.612352e+12</td>\n",
       "      <td>7.560500e+09</td>\n",
       "      <td>NaN</td>\n",
       "      <td>0</td>\n",
       "      <td>0</td>\n",
       "      <td>0</td>\n",
       "      <td>0</td>\n",
       "      <td>...</td>\n",
       "      <td>0</td>\n",
       "      <td>2.0</td>\n",
       "      <td>1.0</td>\n",
       "      <td>1.0</td>\n",
       "      <td>1.0</td>\n",
       "      <td>1.0</td>\n",
       "      <td>1.0</td>\n",
       "      <td>1.0</td>\n",
       "      <td>1.0</td>\n",
       "      <td>1.0</td>\n",
       "    </tr>\n",
       "    <tr>\n",
       "      <th>914</th>\n",
       "      <td>AMZN</td>\n",
       "      <td>ConsumerCyclical</td>\n",
       "      <td>Other</td>\n",
       "      <td>1.563667e+12</td>\n",
       "      <td>5.008900e+08</td>\n",
       "      <td>NaN</td>\n",
       "      <td>0</td>\n",
       "      <td>0</td>\n",
       "      <td>1</td>\n",
       "      <td>0</td>\n",
       "      <td>...</td>\n",
       "      <td>0</td>\n",
       "      <td>3.0</td>\n",
       "      <td>1.0</td>\n",
       "      <td>1.0</td>\n",
       "      <td>1.0</td>\n",
       "      <td>1.0</td>\n",
       "      <td>1.0</td>\n",
       "      <td>1.0</td>\n",
       "      <td>1.0</td>\n",
       "      <td>1.0</td>\n",
       "    </tr>\n",
       "    <tr>\n",
       "      <th>203</th>\n",
       "      <td>FB</td>\n",
       "      <td>CommunicationServices</td>\n",
       "      <td>Other</td>\n",
       "      <td>7.791497e+11</td>\n",
       "      <td>2.403970e+09</td>\n",
       "      <td>NaN</td>\n",
       "      <td>0</td>\n",
       "      <td>1</td>\n",
       "      <td>0</td>\n",
       "      <td>0</td>\n",
       "      <td>...</td>\n",
       "      <td>0</td>\n",
       "      <td>4.0</td>\n",
       "      <td>1.0</td>\n",
       "      <td>1.0</td>\n",
       "      <td>1.0</td>\n",
       "      <td>1.0</td>\n",
       "      <td>1.0</td>\n",
       "      <td>1.0</td>\n",
       "      <td>1.0</td>\n",
       "      <td>1.0</td>\n",
       "    </tr>\n",
       "    <tr>\n",
       "      <th>834</th>\n",
       "      <td>TSLA</td>\n",
       "      <td>ConsumerCyclical</td>\n",
       "      <td>Other</td>\n",
       "      <td>5.782101e+11</td>\n",
       "      <td>9.479010e+08</td>\n",
       "      <td>NaN</td>\n",
       "      <td>0</td>\n",
       "      <td>0</td>\n",
       "      <td>1</td>\n",
       "      <td>0</td>\n",
       "      <td>...</td>\n",
       "      <td>0</td>\n",
       "      <td>5.0</td>\n",
       "      <td>1.0</td>\n",
       "      <td>1.0</td>\n",
       "      <td>1.0</td>\n",
       "      <td>1.0</td>\n",
       "      <td>1.0</td>\n",
       "      <td>1.0</td>\n",
       "      <td>1.0</td>\n",
       "      <td>1.0</td>\n",
       "    </tr>\n",
       "    <tr>\n",
       "      <th>61</th>\n",
       "      <td>V</td>\n",
       "      <td>FinancialServices</td>\n",
       "      <td>CreditServices</td>\n",
       "      <td>4.546376e+11</td>\n",
       "      <td>1.695680e+09</td>\n",
       "      <td>NaN</td>\n",
       "      <td>0</td>\n",
       "      <td>0</td>\n",
       "      <td>0</td>\n",
       "      <td>0</td>\n",
       "      <td>...</td>\n",
       "      <td>0</td>\n",
       "      <td>6.0</td>\n",
       "      <td>1.0</td>\n",
       "      <td>1.0</td>\n",
       "      <td>1.0</td>\n",
       "      <td>1.0</td>\n",
       "      <td>1.0</td>\n",
       "      <td>1.0</td>\n",
       "      <td>1.0</td>\n",
       "      <td>1.0</td>\n",
       "    </tr>\n",
       "    <tr>\n",
       "      <th>1699</th>\n",
       "      <td>WMT</td>\n",
       "      <td>ConsumerDefensive</td>\n",
       "      <td>Other</td>\n",
       "      <td>4.159056e+11</td>\n",
       "      <td>2.829290e+09</td>\n",
       "      <td>NaN</td>\n",
       "      <td>0</td>\n",
       "      <td>0</td>\n",
       "      <td>0</td>\n",
       "      <td>1</td>\n",
       "      <td>...</td>\n",
       "      <td>0</td>\n",
       "      <td>7.0</td>\n",
       "      <td>1.0</td>\n",
       "      <td>1.0</td>\n",
       "      <td>1.0</td>\n",
       "      <td>1.0</td>\n",
       "      <td>1.0</td>\n",
       "      <td>1.0</td>\n",
       "      <td>1.0</td>\n",
       "      <td>1.0</td>\n",
       "    </tr>\n",
       "    <tr>\n",
       "      <th>1480</th>\n",
       "      <td>JNJ</td>\n",
       "      <td>Healthcare</td>\n",
       "      <td>Other</td>\n",
       "      <td>4.026470e+11</td>\n",
       "      <td>2.632540e+09</td>\n",
       "      <td>NaN</td>\n",
       "      <td>0</td>\n",
       "      <td>0</td>\n",
       "      <td>0</td>\n",
       "      <td>0</td>\n",
       "      <td>...</td>\n",
       "      <td>0</td>\n",
       "      <td>8.0</td>\n",
       "      <td>1.0</td>\n",
       "      <td>1.0</td>\n",
       "      <td>1.0</td>\n",
       "      <td>1.0</td>\n",
       "      <td>1.0</td>\n",
       "      <td>1.0</td>\n",
       "      <td>1.0</td>\n",
       "      <td>1.0</td>\n",
       "    </tr>\n",
       "    <tr>\n",
       "      <th>740</th>\n",
       "      <td>JPM</td>\n",
       "      <td>FinancialServices</td>\n",
       "      <td>Other</td>\n",
       "      <td>3.644428e+11</td>\n",
       "      <td>3.048200e+09</td>\n",
       "      <td>NaN</td>\n",
       "      <td>0</td>\n",
       "      <td>0</td>\n",
       "      <td>0</td>\n",
       "      <td>0</td>\n",
       "      <td>...</td>\n",
       "      <td>0</td>\n",
       "      <td>9.0</td>\n",
       "      <td>1.0</td>\n",
       "      <td>1.0</td>\n",
       "      <td>1.0</td>\n",
       "      <td>1.0</td>\n",
       "      <td>1.0</td>\n",
       "      <td>1.0</td>\n",
       "      <td>1.0</td>\n",
       "      <td>1.0</td>\n",
       "    </tr>\n",
       "    <tr>\n",
       "      <th>1132</th>\n",
       "      <td>PG</td>\n",
       "      <td>ConsumerDefensive</td>\n",
       "      <td>Other</td>\n",
       "      <td>3.384916e+11</td>\n",
       "      <td>2.479610e+09</td>\n",
       "      <td>NaN</td>\n",
       "      <td>0</td>\n",
       "      <td>0</td>\n",
       "      <td>0</td>\n",
       "      <td>1</td>\n",
       "      <td>...</td>\n",
       "      <td>0</td>\n",
       "      <td>10.0</td>\n",
       "      <td>1.0</td>\n",
       "      <td>1.0</td>\n",
       "      <td>1.0</td>\n",
       "      <td>1.0</td>\n",
       "      <td>1.0</td>\n",
       "      <td>1.0</td>\n",
       "      <td>1.0</td>\n",
       "      <td>1.0</td>\n",
       "    </tr>\n",
       "    <tr>\n",
       "      <th>983</th>\n",
       "      <td>MA</td>\n",
       "      <td>FinancialServices</td>\n",
       "      <td>CreditServices</td>\n",
       "      <td>3.264132e+11</td>\n",
       "      <td>9.884700e+08</td>\n",
       "      <td>NaN</td>\n",
       "      <td>0</td>\n",
       "      <td>0</td>\n",
       "      <td>0</td>\n",
       "      <td>0</td>\n",
       "      <td>...</td>\n",
       "      <td>0</td>\n",
       "      <td>11.0</td>\n",
       "      <td>0.0</td>\n",
       "      <td>1.0</td>\n",
       "      <td>1.0</td>\n",
       "      <td>1.0</td>\n",
       "      <td>1.0</td>\n",
       "      <td>1.0</td>\n",
       "      <td>1.0</td>\n",
       "      <td>1.0</td>\n",
       "    </tr>\n",
       "    <tr>\n",
       "      <th>476</th>\n",
       "      <td>NVDA</td>\n",
       "      <td>Technology</td>\n",
       "      <td>Semiconductors</td>\n",
       "      <td>3.222081e+11</td>\n",
       "      <td>6.190000e+08</td>\n",
       "      <td>NaN</td>\n",
       "      <td>0</td>\n",
       "      <td>0</td>\n",
       "      <td>0</td>\n",
       "      <td>0</td>\n",
       "      <td>...</td>\n",
       "      <td>0</td>\n",
       "      <td>12.0</td>\n",
       "      <td>0.0</td>\n",
       "      <td>1.0</td>\n",
       "      <td>1.0</td>\n",
       "      <td>1.0</td>\n",
       "      <td>1.0</td>\n",
       "      <td>1.0</td>\n",
       "      <td>1.0</td>\n",
       "      <td>1.0</td>\n",
       "    </tr>\n",
       "    <tr>\n",
       "      <th>1183</th>\n",
       "      <td>UNH</td>\n",
       "      <td>Healthcare</td>\n",
       "      <td>Other</td>\n",
       "      <td>3.198191e+11</td>\n",
       "      <td>9.488210e+08</td>\n",
       "      <td>NaN</td>\n",
       "      <td>0</td>\n",
       "      <td>0</td>\n",
       "      <td>0</td>\n",
       "      <td>0</td>\n",
       "      <td>...</td>\n",
       "      <td>0</td>\n",
       "      <td>13.0</td>\n",
       "      <td>0.0</td>\n",
       "      <td>1.0</td>\n",
       "      <td>1.0</td>\n",
       "      <td>1.0</td>\n",
       "      <td>1.0</td>\n",
       "      <td>1.0</td>\n",
       "      <td>1.0</td>\n",
       "      <td>1.0</td>\n",
       "    </tr>\n",
       "    <tr>\n",
       "      <th>1344</th>\n",
       "      <td>DIS</td>\n",
       "      <td>CommunicationServices</td>\n",
       "      <td>Other</td>\n",
       "      <td>3.181375e+11</td>\n",
       "      <td>1.807060e+09</td>\n",
       "      <td>NaN</td>\n",
       "      <td>0</td>\n",
       "      <td>1</td>\n",
       "      <td>0</td>\n",
       "      <td>0</td>\n",
       "      <td>...</td>\n",
       "      <td>0</td>\n",
       "      <td>14.0</td>\n",
       "      <td>0.0</td>\n",
       "      <td>1.0</td>\n",
       "      <td>1.0</td>\n",
       "      <td>1.0</td>\n",
       "      <td>1.0</td>\n",
       "      <td>1.0</td>\n",
       "      <td>1.0</td>\n",
       "      <td>1.0</td>\n",
       "    </tr>\n",
       "  </tbody>\n",
       "</table>\n",
       "<p>14 rows × 56 columns</p>\n",
       "</div>"
      ],
      "text/plain": [
       "     ticker                 sector                industry     marketCap  \\\n",
       "2      AAPL             Technology                   Other  2.081190e+12   \n",
       "1951   MSFT             Technology  SoftwareInfrastructure  1.612352e+12   \n",
       "914    AMZN       ConsumerCyclical                   Other  1.563667e+12   \n",
       "203      FB  CommunicationServices                   Other  7.791497e+11   \n",
       "834    TSLA       ConsumerCyclical                   Other  5.782101e+11   \n",
       "61        V      FinancialServices          CreditServices  4.546376e+11   \n",
       "1699    WMT      ConsumerDefensive                   Other  4.159056e+11   \n",
       "1480    JNJ             Healthcare                   Other  4.026470e+11   \n",
       "740     JPM      FinancialServices                   Other  3.644428e+11   \n",
       "1132     PG      ConsumerDefensive                   Other  3.384916e+11   \n",
       "983      MA      FinancialServices          CreditServices  3.264132e+11   \n",
       "476    NVDA             Technology          Semiconductors  3.222081e+11   \n",
       "1183    UNH             Healthcare                   Other  3.198191e+11   \n",
       "1344    DIS  CommunicationServices                   Other  3.181375e+11   \n",
       "\n",
       "      sharesOutstanding message  sec__BasicMaterials  \\\n",
       "2          1.710250e+10     NaN                    0   \n",
       "1951       7.560500e+09     NaN                    0   \n",
       "914        5.008900e+08     NaN                    0   \n",
       "203        2.403970e+09     NaN                    0   \n",
       "834        9.479010e+08     NaN                    0   \n",
       "61         1.695680e+09     NaN                    0   \n",
       "1699       2.829290e+09     NaN                    0   \n",
       "1480       2.632540e+09     NaN                    0   \n",
       "740        3.048200e+09     NaN                    0   \n",
       "1132       2.479610e+09     NaN                    0   \n",
       "983        9.884700e+08     NaN                    0   \n",
       "476        6.190000e+08     NaN                    0   \n",
       "1183       9.488210e+08     NaN                    0   \n",
       "1344       1.807060e+09     NaN                    0   \n",
       "\n",
       "      sec__CommunicationServices  sec__ConsumerCyclical  \\\n",
       "2                              0                      0   \n",
       "1951                           0                      0   \n",
       "914                            0                      1   \n",
       "203                            1                      0   \n",
       "834                            0                      1   \n",
       "61                             0                      0   \n",
       "1699                           0                      0   \n",
       "1480                           0                      0   \n",
       "740                            0                      0   \n",
       "1132                           0                      0   \n",
       "983                            0                      0   \n",
       "476                            0                      0   \n",
       "1183                           0                      0   \n",
       "1344                           1                      0   \n",
       "\n",
       "      sec__ConsumerDefensive  ...  ind__SpecialtyRetail  marketCap_rank  \\\n",
       "2                          0  ...                     0             1.0   \n",
       "1951                       0  ...                     0             2.0   \n",
       "914                        0  ...                     0             3.0   \n",
       "203                        0  ...                     0             4.0   \n",
       "834                        0  ...                     0             5.0   \n",
       "61                         0  ...                     0             6.0   \n",
       "1699                       1  ...                     0             7.0   \n",
       "1480                       0  ...                     0             8.0   \n",
       "740                        0  ...                     0             9.0   \n",
       "1132                       1  ...                     0            10.0   \n",
       "983                        0  ...                     0            11.0   \n",
       "476                        0  ...                     0            12.0   \n",
       "1183                       0  ...                     0            13.0   \n",
       "1344                       0  ...                     0            14.0   \n",
       "\n",
       "      mc_top10  mc_top20  mc_top30  mc_top50  mc_top100  mc_top200  mc_top500  \\\n",
       "2          1.0       1.0       1.0       1.0        1.0        1.0        1.0   \n",
       "1951       1.0       1.0       1.0       1.0        1.0        1.0        1.0   \n",
       "914        1.0       1.0       1.0       1.0        1.0        1.0        1.0   \n",
       "203        1.0       1.0       1.0       1.0        1.0        1.0        1.0   \n",
       "834        1.0       1.0       1.0       1.0        1.0        1.0        1.0   \n",
       "61         1.0       1.0       1.0       1.0        1.0        1.0        1.0   \n",
       "1699       1.0       1.0       1.0       1.0        1.0        1.0        1.0   \n",
       "1480       1.0       1.0       1.0       1.0        1.0        1.0        1.0   \n",
       "740        1.0       1.0       1.0       1.0        1.0        1.0        1.0   \n",
       "1132       1.0       1.0       1.0       1.0        1.0        1.0        1.0   \n",
       "983        0.0       1.0       1.0       1.0        1.0        1.0        1.0   \n",
       "476        0.0       1.0       1.0       1.0        1.0        1.0        1.0   \n",
       "1183       0.0       1.0       1.0       1.0        1.0        1.0        1.0   \n",
       "1344       0.0       1.0       1.0       1.0        1.0        1.0        1.0   \n",
       "\n",
       "      mc_top1000  \n",
       "2            1.0  \n",
       "1951         1.0  \n",
       "914          1.0  \n",
       "203          1.0  \n",
       "834          1.0  \n",
       "61           1.0  \n",
       "1699         1.0  \n",
       "1480         1.0  \n",
       "740          1.0  \n",
       "1132         1.0  \n",
       "983          1.0  \n",
       "476          1.0  \n",
       "1183         1.0  \n",
       "1344         1.0  \n",
       "\n",
       "[14 rows x 56 columns]"
      ]
     },
     "execution_count": null,
     "metadata": {},
     "output_type": "execute_result"
    }
   ],
   "source": [
    "add_info[add_info.marketCap_rank < 15].sort_values('marketCap_rank')"
   ]
  },
  {
   "cell_type": "code",
   "execution_count": null,
   "metadata": {},
   "outputs": [],
   "source": [
    "industries = add_info.industry.unique()"
   ]
  },
  {
   "cell_type": "code",
   "execution_count": null,
   "metadata": {},
   "outputs": [],
   "source": [
    "reit_list = list(filter(lambda k: 'REIT' in k, industries))\n",
    "real_list = list(filter(lambda k: 'RealEstate' in k, industries))\n",
    "gasoil_list = list(filter(lambda k: 'Gas' in k, industries))\n",
    "health_list = list(filter(lambda k: 'Health' in k, industries))\n",
    "insurance_list = list(filter(lambda k: 'Insurance' in k, industries))\n",
    "rest = set(industries) - set(reit_list) - set(gasoil_list) - set(real_list) - set(health_list) - set(insurance_list)"
   ]
  },
  {
   "cell_type": "code",
   "execution_count": null,
   "metadata": {},
   "outputs": [
    {
     "name": "stdout",
     "output_type": "stream",
     "text": [
      "9\n",
      "7\n",
      "3\n",
      "3\n",
      "6\n",
      "115\n",
      "{'CapitalMarkets', 'ApparelManufacturing', 'FoodDistribution', 'Airlines', 'AutoTruckDealerships', 'DiversifiedMachinery', 'BuildingProductsEquipment', 'Semiconductors', 'LumberWoodProduction', 'Entertainment', 'ResidentialConstruction', 'Lodging', 'Tobacco', 'DrugManufacturersSpecialtyGeneric', 'RecreationalVehicles', 'MortgageFinance', 'InformationTechnologyServices', 'AgriculturalInputs', 'Steel', 'MedicalCareFacilities', 'ElectronicComponents', 'Gold', 'SoftwareApplication', 'UtilitiesRegulatedWater', 'Leisure', 'MarineShipping', 'TravelServices', 'SpecialtyRetail', 'FarmHeavyConstructionMachinery', 'AutoParts', 'ApparelRetail', 'FinancialConglomerates', 'SpecialtyIndustrialMachinery', 'Railroads', 'BeveragesBrewers', 'AirportsAirServices', 'Confectioners', 'TelecomServices', 'Chemicals', 'AssetManagement', 'InternetContentInformation', 'Broadcasting', 'HomeImprovementRetail', 'WasteManagement', 'PaperPaperProducts', 'ShellCompanies', 'LuxuryGoods', 'UtilitiesIndependentPowerProducers', 'CreditServices', 'OtherIndustrialMetalsMining', 'ConsumerElectronics', 'Conglomerates', 'PackagedFoods', 'Restaurants', 'SpecialtyBusinessServices', 'ComputerHardware', 'ElectronicsComputerDistribution', 'AdvertisingAgencies', 'ToolsAccessories', 'ScientificTechnicalInstruments', 'FootwearAccessories', 'ThermalCoal', 'DiagnosticsResearch', 'PharmaceuticalRetailers', 'PackagingContainers', 'SecurityProtectionServices', 'Publishing', 'Trucking', 'DrugManufacturersGeneral', 'ElectricalEquipmentParts', 'Furnishings,FixturesAppliances', 'InternetRetail', 'CommunicationEquipment', 'GroceryStores', 'TextileManufacturing', 'RentalLeasingServices', 'BusinessEquipmentSupplies', 'AutoManufacturers', 'PersonalServices', 'HouseholdPersonalProducts', 'BeveragesWineriesDistilleries', 'Biotechnology', 'StaffingEmploymentServices', 'SemiconductorEquipmentMaterials', 'Solar', 'MetalFabrication', 'CokingCoal', 'ConsultingServices', 'ElectronicGamingMultimedia', 'UtilitiesDiversified', 'IntegratedFreightLogistics', 'UtilitiesRegulatedElectric', 'DiscountStores', 'BeveragesNon-Alcoholic', 'EducationTrainingServices', 'MedicalInstrumentsSupplies', 'Copper', 'DepartmentStores', 'PollutionTreatmentControls', 'BuildingMaterials', 'AerospaceDefense', 'Aluminum', 'BanksRegional', 'EngineeringConstruction', 'UtilitiesRenewable', 'Uranium', 'SoftwareInfrastructure', 'SpecialtyChemicals', 'MedicalDevices', 'MedicalDistribution', 'FarmProducts', 'FinancialDataStockExchanges', 'IndustrialDistribution', 'BanksDiversified', 'ResortsCasinos'}\n"
     ]
    }
   ],
   "source": [
    "print(len(reit_list))\n",
    "print(len(gasoil_list))\n",
    "print(len(real_list))\n",
    "print(len(health_list))\n",
    "print(len(insurance_list))\n",
    "print(len(rest))\n",
    "print(rest)"
   ]
  },
  {
   "cell_type": "code",
   "execution_count": null,
   "metadata": {},
   "outputs": [
    {
     "data": {
      "text/html": [
       "<div>\n",
       "<style scoped>\n",
       "    .dataframe tbody tr th:only-of-type {\n",
       "        vertical-align: middle;\n",
       "    }\n",
       "\n",
       "    .dataframe tbody tr th {\n",
       "        vertical-align: top;\n",
       "    }\n",
       "\n",
       "    .dataframe thead th {\n",
       "        text-align: right;\n",
       "    }\n",
       "</style>\n",
       "<table border=\"1\" class=\"dataframe\">\n",
       "  <thead>\n",
       "    <tr style=\"text-align: right;\">\n",
       "      <th></th>\n",
       "      <th>ticker</th>\n",
       "      <th>sector</th>\n",
       "      <th>industry</th>\n",
       "      <th>marketCap</th>\n",
       "      <th>sharesOutstanding</th>\n",
       "      <th>message</th>\n",
       "    </tr>\n",
       "  </thead>\n",
       "  <tbody>\n",
       "    <tr>\n",
       "      <th>0</th>\n",
       "      <td>AAL</td>\n",
       "      <td>Industrials</td>\n",
       "      <td>Airlines</td>\n",
       "      <td>1.041370e+10</td>\n",
       "      <td>6.107740e+08</td>\n",
       "      <td>NaN</td>\n",
       "    </tr>\n",
       "    <tr>\n",
       "      <th>1</th>\n",
       "      <td>AAOI</td>\n",
       "      <td>Technology</td>\n",
       "      <td>Semiconductors</td>\n",
       "      <td>1.782953e+08</td>\n",
       "      <td>2.297620e+07</td>\n",
       "      <td>NaN</td>\n",
       "    </tr>\n",
       "    <tr>\n",
       "      <th>2</th>\n",
       "      <td>AAPL</td>\n",
       "      <td>Technology</td>\n",
       "      <td>Consumer Electronics</td>\n",
       "      <td>2.081190e+12</td>\n",
       "      <td>1.710250e+10</td>\n",
       "      <td>NaN</td>\n",
       "    </tr>\n",
       "    <tr>\n",
       "      <th>3</th>\n",
       "      <td>AAME</td>\n",
       "      <td>Financial Services</td>\n",
       "      <td>Insurance—Life</td>\n",
       "      <td>4.634046e+07</td>\n",
       "      <td>2.041430e+07</td>\n",
       "      <td>NaN</td>\n",
       "    </tr>\n",
       "    <tr>\n",
       "      <th>4</th>\n",
       "      <td>AAN</td>\n",
       "      <td>Consumer Cyclical</td>\n",
       "      <td>Specialty Retail</td>\n",
       "      <td>5.985550e+08</td>\n",
       "      <td>3.377850e+07</td>\n",
       "      <td>NaN</td>\n",
       "    </tr>\n",
       "    <tr>\n",
       "      <th>...</th>\n",
       "      <td>...</td>\n",
       "      <td>...</td>\n",
       "      <td>...</td>\n",
       "      <td>...</td>\n",
       "      <td>...</td>\n",
       "      <td>...</td>\n",
       "    </tr>\n",
       "    <tr>\n",
       "      <th>3037</th>\n",
       "      <td>FDP</td>\n",
       "      <td>Consumer Defensive</td>\n",
       "      <td>Farm Products</td>\n",
       "      <td>1.228697e+09</td>\n",
       "      <td>4.736690e+07</td>\n",
       "      <td>NaN</td>\n",
       "    </tr>\n",
       "    <tr>\n",
       "      <th>3039</th>\n",
       "      <td>SCOR</td>\n",
       "      <td>Communication Services</td>\n",
       "      <td>Advertising Agencies</td>\n",
       "      <td>1.805105e+08</td>\n",
       "      <td>7.278650e+07</td>\n",
       "      <td>NaN</td>\n",
       "    </tr>\n",
       "    <tr>\n",
       "      <th>3042</th>\n",
       "      <td>MDRX</td>\n",
       "      <td>Healthcare</td>\n",
       "      <td>Health Information Services</td>\n",
       "      <td>2.265462e+09</td>\n",
       "      <td>1.579820e+08</td>\n",
       "      <td>NaN</td>\n",
       "    </tr>\n",
       "    <tr>\n",
       "      <th>3044</th>\n",
       "      <td>GILD</td>\n",
       "      <td>Healthcare</td>\n",
       "      <td>Drug Manufacturers—General</td>\n",
       "      <td>7.616448e+10</td>\n",
       "      <td>1.253530e+09</td>\n",
       "      <td>NaN</td>\n",
       "    </tr>\n",
       "    <tr>\n",
       "      <th>3046</th>\n",
       "      <td>CACI</td>\n",
       "      <td>Technology</td>\n",
       "      <td>Information Technology Services</td>\n",
       "      <td>6.125142e+09</td>\n",
       "      <td>2.521880e+07</td>\n",
       "      <td>NaN</td>\n",
       "    </tr>\n",
       "  </tbody>\n",
       "</table>\n",
       "<p>2060 rows × 6 columns</p>\n",
       "</div>"
      ],
      "text/plain": [
       "     ticker                  sector                         industry  \\\n",
       "0       AAL             Industrials                         Airlines   \n",
       "1      AAOI              Technology                   Semiconductors   \n",
       "2      AAPL              Technology             Consumer Electronics   \n",
       "3      AAME      Financial Services                   Insurance—Life   \n",
       "4       AAN       Consumer Cyclical                 Specialty Retail   \n",
       "...     ...                     ...                              ...   \n",
       "3037    FDP      Consumer Defensive                    Farm Products   \n",
       "3039   SCOR  Communication Services             Advertising Agencies   \n",
       "3042   MDRX              Healthcare      Health Information Services   \n",
       "3044   GILD              Healthcare       Drug Manufacturers—General   \n",
       "3046   CACI              Technology  Information Technology Services   \n",
       "\n",
       "         marketCap  sharesOutstanding message  \n",
       "0     1.041370e+10       6.107740e+08     NaN  \n",
       "1     1.782953e+08       2.297620e+07     NaN  \n",
       "2     2.081190e+12       1.710250e+10     NaN  \n",
       "3     4.634046e+07       2.041430e+07     NaN  \n",
       "4     5.985550e+08       3.377850e+07     NaN  \n",
       "...            ...                ...     ...  \n",
       "3037  1.228697e+09       4.736690e+07     NaN  \n",
       "3039  1.805105e+08       7.278650e+07     NaN  \n",
       "3042  2.265462e+09       1.579820e+08     NaN  \n",
       "3044  7.616448e+10       1.253530e+09     NaN  \n",
       "3046  6.125142e+09       2.521880e+07     NaN  \n",
       "\n",
       "[2060 rows x 6 columns]"
      ]
     },
     "execution_count": null,
     "metadata": {},
     "output_type": "execute_result"
    }
   ],
   "source": [
    "adf = read_additional_info()\n",
    "adf[adf.message.isna()]"
   ]
  },
  {
   "cell_type": "code",
   "execution_count": null,
   "metadata": {},
   "outputs": [],
   "source": []
  }
 ],
 "metadata": {
  "kernelspec": {
   "display_name": "Python 3",
   "language": "python",
   "name": "python3"
  }
 },
 "nbformat": 4,
 "nbformat_minor": 4
}
