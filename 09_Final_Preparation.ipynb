{
 "cells": [
  {
   "cell_type": "markdown",
   "metadata": {},
   "source": [
    "herausfinden, welche ticker zu welcher cik gehoeren, falls mehrere cicks pro ticker vorhanden sind\n",
    "\n",
    "mit additional daten mixen und features erzeugen\n",
    "z.B to 10 company, top 100, top 200, top 500, top 1000 (basierend auf market cap)\n",
    "\n",
    "\n",
    "day, week, month of fiscalyear wäre evtl. noch sinnvoll, gerade bei den Kursdaten"
   ]
  }
 ],
 "metadata": {
  "kernelspec": {
   "display_name": "Python 3",
   "language": "python",
   "name": "python3"
  }
 },
 "nbformat": 4,
 "nbformat_minor": 4
}
