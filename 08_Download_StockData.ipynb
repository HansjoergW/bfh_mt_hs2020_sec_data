{
 "cells": [
  {
   "cell_type": "code",
   "execution_count": null,
   "metadata": {},
   "outputs": [],
   "source": [
    "# default_exp stockdata"
   ]
  },
  {
   "cell_type": "code",
   "execution_count": null,
   "metadata": {},
   "outputs": [],
   "source": [
    "#hide\n",
    "from nbdev.showdoc import *"
   ]
  },
  {
   "cell_type": "code",
   "execution_count": null,
   "metadata": {},
   "outputs": [],
   "source": [
    "#hide\n",
    "# nbdev function - ensures that changed libraries from the project are reloaded\n",
    "%load_ext autoreload\n",
    "%autoreload 2"
   ]
  },
  {
   "cell_type": "markdown",
   "metadata": {},
   "source": [
    "# Stock"
   ]
  },
  {
   "cell_type": "code",
   "execution_count": null,
   "metadata": {},
   "outputs": [],
   "source": [
    "# imports\n",
    "from bfh_mt_hs2020_sec_data.core import * \n",
    "from pathlib import Path\n",
    "from typing import List, Tuple, Union, Set\n",
    "\n",
    "import pandas as pd\n",
    "\n",
    "import shutil          # provides high level file operations\n",
    "import time            # used to measure execution time\n",
    "import os\n",
    "import sys\n",
    "\n",
    "import matplotlib.pyplot as plt\n",
    "import seaborn as sns; sns.set()\n",
    "\n",
    "from yahoo_historical import Fetcher\n",
    "import yfinance as yf"
   ]
  },
  {
   "cell_type": "code",
   "execution_count": null,
   "metadata": {},
   "outputs": [],
   "source": [
    "all_data_local_folder = \"./data/\"\n",
    "stock_data_folder = \"D:/data/stocks/sec/\"\n",
    "\n",
    "join_group = [\"cik\",\"ticker\",\"adsh\",\"period\",\"filed\",\"form\",\"fp\"]"
   ]
  },
  {
   "cell_type": "markdown",
   "metadata": {},
   "source": [
    "## 00_Tools"
   ]
  },
  {
   "cell_type": "code",
   "execution_count": null,
   "metadata": {},
   "outputs": [],
   "source": [
    "def load_data() -> pd.DataFrame:\n",
    "    df = pd.read_csv(all_data_local_folder + \"complete.csv\")\n",
    "\n",
    "    df.period = pd.to_datetime(df.period)\n",
    "    df.filed = pd.to_datetime(df.filed)\n",
    "    \n",
    "    df.sort_values('period', inplace = True)\n",
    "    df.reset_index(inplace = True)\n",
    "    return df"
   ]
  },
  {
   "cell_type": "code",
   "execution_count": null,
   "metadata": {},
   "outputs": [],
   "source": [
    "def load_cik_ticker() -> pd.DataFrame:\n",
    "    df = pd.read_csv(all_data_local_folder + \"cik_ticker.csv\", sep=\"|\", header = 0)\n",
    "    return df"
   ]
  },
  {
   "cell_type": "markdown",
   "metadata": {},
   "source": [
    "## 01_Load required ticker symbols"
   ]
  },
  {
   "cell_type": "code",
   "execution_count": null,
   "metadata": {},
   "outputs": [],
   "source": [
    "tickers = load_data().ticker.sort_values().unique()\n",
    "print(len(tickers))"
   ]
  },
  {
   "cell_type": "markdown",
   "metadata": {},
   "source": [
    "## 02_Prepare directory structure"
   ]
  },
  {
   "cell_type": "code",
   "execution_count": null,
   "metadata": {},
   "outputs": [],
   "source": [
    "def ensure_dir(file_path:str):\n",
    "    \"\"\" Creates an empty directory if it doesn't exist\n",
    "    \"\"\"\n",
    "    directory = os.path.dirname(file_path)\n",
    "    if not os.path.exists(directory):\n",
    "        print(file_path)\n",
    "        os.makedirs(directory)"
   ]
  },
  {
   "cell_type": "code",
   "execution_count": null,
   "metadata": {},
   "outputs": [],
   "source": [
    "import string\n",
    "\n",
    "def create_dir_structure(folder:str):\n",
    "    \"\"\" Creates the folder and creates also sub-folders ranging from 'A' to 'Z' beneath it.\n",
    "    \"\"\"\n",
    "    ensure_dir(folder)\n",
    "    for char in string.ascii_uppercase:\n",
    "        ensure_dir(stock_data_folder + char + \"/\")"
   ]
  },
  {
   "cell_type": "code",
   "execution_count": null,
   "metadata": {},
   "outputs": [],
   "source": [
    "create_dir_structure(stock_data_folder)"
   ]
  },
  {
   "cell_type": "markdown",
   "metadata": {},
   "source": [
    "## 03_Download historical data\n",
    "Unfortuantely, it is not that easy to get historical data of of companies that are no longer listed or went out of business for what reason ever. So we will only be able to work with companies, which are still in business. That is a problem, since a serious \"survivor\" bias is introduced in the data. It would be important to also have data of \"failed\" companies.\n",
    "\n",
    "We will be using two different libraries to download: yahoo-historical and yfinance. yfinance has the advantage that Open, High, Low and Close can be download \"adjusted\" meaning that splits and payed dividends are taken into consideration. The standard Open, High, Low and Close from yahoo is only adjusted for splits.\n",
    "\n",
    "The code in a Jupyter Notebook cannot be parallelized that easily, therefore there is the \"08_Download_StodkData.py\" Script that implements a parallelized version."
   ]
  },
  {
   "cell_type": "code",
   "execution_count": null,
   "metadata": {},
   "outputs": [],
   "source": [
    "def download_and_store(ticker: str, downloader_function, filename_function):\n",
    "    filename = filename_function(ticker)\n",
    "    \n",
    "    if os.path.isfile(filename):\n",
    "        print(\"skipping: \", ticker)\n",
    "        return\n",
    "\n",
    "    print(\"loading: \", ticker)\n",
    "    try:\n",
    "        data = downloader_function(ticker, 2010)\n",
    "    except Exception as ex:\n",
    "        print(\"failed: \", ticker, \" - \", str(ex))\n",
    "        return\n",
    "\n",
    "    if data.shape[0] > 200:\n",
    "        df.to_csv(filename, sep=',', encoding='utf-8', index=True)\n",
    "    else:\n",
    "        print(\"too short: \", data.shape[0], \" - \", ticker)"
   ]
  },
  {
   "cell_type": "markdown",
   "metadata": {},
   "source": [
    "### functions to download using yahoo_historical package"
   ]
  },
  {
   "cell_type": "code",
   "execution_count": null,
   "metadata": {},
   "outputs": [],
   "source": [
    "def downloadTicker_yahoo_historical(stock:str, startyear:int)->pd.DataFrame:\n",
    "    \"\"\" Download data using yahoo_historical Fetcher class\n",
    "    \"\"\"\n",
    "    stockFetcher = Fetcher(stock,[startyear,1,1],[2020,12,10])\n",
    "    stock_df = stockFetcher.get_historical()\n",
    "    return stock_df\n",
    "\n",
    "def get_filename_yahoo_financials(ticker:str):\n",
    "    return stock_data_folder + ticker[0] + \"/\" + ticker + \".csv\"\n",
    "\n",
    "def serial_download_using_yahoo_financials(tickers: List[str]):\n",
    "    for ticker in tickers:\n",
    "        download_and_store(ticker, downloadTicker_yahoo_historical, get_filename_yahoo_financials)"
   ]
  },
  {
   "cell_type": "markdown",
   "metadata": {},
   "source": [
    "### functions to download using yfinance package"
   ]
  },
  {
   "cell_type": "code",
   "execution_count": null,
   "metadata": {},
   "outputs": [],
   "source": [
    "def downloadTicker_yfinance(stock:str, startyear:int)->pd.DataFrame:\n",
    "    \"\"\" Download data using yfinance package.\n",
    "        it provides the major advantage, that the HOLC can be directly \"adjusted\", meaning they are adapted for splits and dividends.\n",
    "    \"\"\"\n",
    "    stock_df = yf.download(stock,start=str(startyear)+\"-01-01\",end=\"2020-12-10\", progress=False, auto_adjust=True)\n",
    "    return stock_df\n",
    "\n",
    "def get_filename_yfinance(ticker:str):\n",
    "    return stock_data_folder + ticker[0] + \"/\" + ticker + \"_2.csv\"\n",
    "\n",
    "def serial_download_using_yfinance(tickers: List[str]):\n",
    "    for ticker in tickers:\n",
    "        download_and_store(ticker, downloadTicker_yfinance, get_filename_yfinance)"
   ]
  },
  {
   "cell_type": "markdown",
   "metadata": {},
   "source": [
    "### function to check how many historical data could be downloaded"
   ]
  },
  {
   "cell_type": "code",
   "execution_count": null,
   "metadata": {},
   "outputs": [],
   "source": [
    "def count_and_return_missing(tickers:List[str], filename_function)-> List[str]:\n",
    "    missing:List[str] = []\n",
    "    counter_na = 0\n",
    "    counter_ready = 0\n",
    "    for ticker in tickers:\n",
    "        if os.path.isfile(filename_function(ticker)) == False:\n",
    "            counter_na += 1\n",
    "            missing.append(ticker)\n",
    "        else:\n",
    "            counter_ready += 1\n",
    "    print(\"count of missing:    \", counter_na)\n",
    "    print(\"count of downloaded: \", counter_ready)\n",
    "    return missing"
   ]
  },
  {
   "cell_type": "markdown",
   "metadata": {},
   "source": [
    "### download using yahoo_historicals package"
   ]
  },
  {
   "cell_type": "code",
   "execution_count": null,
   "metadata": {},
   "outputs": [],
   "source": [
    "serial_download_using_yahoo_financials(tickers)\n",
    "count_and_return_missing(tickers, get_filename_yahoo_financials)"
   ]
  },
  {
   "cell_type": "markdown",
   "metadata": {},
   "source": [
    "### download using yfinance package"
   ]
  },
  {
   "cell_type": "code",
   "execution_count": null,
   "metadata": {},
   "outputs": [],
   "source": [
    "serial_download_using_yfinance(tickers)\n",
    "count_and_return_missing(tickers, get_filename_yfinance)"
   ]
  },
  {
   "cell_type": "markdown",
   "metadata": {},
   "source": [
    "## 04_Download Additional Data\n",
    "There are some important information which are not available from the SEC data. These are mainly the sector, industry the company is in, as well as the marketCap and the sharesOutstanding. These attributes are downloaded into a separate file.\n",
    "\n",
    "The code in a Jupyter Notebook cannot be parallelized that easily, therefore there is the \"08_Download_StodkData.py\" Script that implements a parallelized version.\n",
    "\n",
    "The data is downloaded from Yahoo Finance. However, Yahoo Finance restricts the number of calls that can be made from one computer within a certain amount of time. If there are too many requests from the same computer, yahoo answers with a HTTP Error 404.  Therefore the code has to be able to be started multiple times and has to keep track of the data that already has been downloaded successfully.\n",
    "\n",
    "In the script \"08_Download_StockData.py\" there is a also a parallelized version of the code"
   ]
  },
  {
   "cell_type": "code",
   "execution_count": null,
   "metadata": {},
   "outputs": [],
   "source": [
    "def get_add_data(ticker:str) -> Dict[str,str]:\n",
    "    \"\"\"\n",
    "    get some additional info using yfinance libary.\n",
    "    if too many requests are made during a certain time, yahoo finance will block and start to answer with a 404.\n",
    "    so it is necessary to keep track of the sucessfully or missing entries\n",
    "    \"\"\"\n",
    "    \n",
    "    try:\n",
    "        print(ticker)\n",
    "        info = yf.Ticker(ticker)\n",
    "        return {'ticker'            : ticker,\n",
    "                'sector'            : info.info['sector'],\n",
    "                'industry'          : info.info['industry'],\n",
    "                'marketCap'         : info.info['marketCap'],\n",
    "                'sharesOutstanding' : info.info['sharesOutstanding'],\n",
    "                'message'           : None}\n",
    "    \n",
    "    except Exception as ex:\n",
    "        msg = str(ex)\n",
    "        if \"404\" in msg:\n",
    "            return None\n",
    "\n",
    "        # ticker information was not found on yahoo, very likely because the company is not listed anymore\n",
    "        return {'ticker'            : ticker,\n",
    "                'sector'            : None,\n",
    "                'industry'          : None,\n",
    "                'marketCap'         : None,\n",
    "                'sharesOutstanding' : None,\n",
    "                'message'           : msg}"
   ]
  },
  {
   "cell_type": "code",
   "execution_count": null,
   "metadata": {},
   "outputs": [],
   "source": [
    "def download_add_info(tickers: List[str]):\n",
    "    \"\"\" serial version of downloading the additional information.\n",
    "    \"\"\"\n",
    "    \n",
    "    start = time.time()\n",
    "    # read the old data\n",
    "    filename = stock_data_folder + \"add_ticker_info.csv\"\n",
    "    current = pd.read_csv(filename, sep=',', encoding='utf-8', header=0)\n",
    "\n",
    "    # figure out, which ticker information hasn't been downloaded already\n",
    "    current_tickers = current.ticker.to_list()\n",
    "    tickers = list(set(tickers) - set(current_tickers))\n",
    "    \n",
    "    # create now\n",
    "    data = pd.DataFrame(columns=['ticker', 'sector', 'industry','marketCap', 'sharesOutstanding','message'],)\n",
    "\n",
    "    list_infos = []\n",
    "    for ticker in tickers:\n",
    "        list_infos.append(get_add_data(ticker))\n",
    "\n",
    "    entries = [x for x in list_infos if x is not None]\n",
    "    print(\"new entries: \", len(entries))\n",
    "\n",
    "    for entry in entries:\n",
    "        data = data.append(entry, ignore_index=True)\n",
    "\n",
    "    data = pd.concat([current, data])\n",
    "\n",
    "    print(data.shape)\n",
    "    print(\"duration: \", time.time() - start)\n",
    "\n",
    "    data.to_csv(stock_data_folder + \"add_ticker_info.csv\", sep=',', encoding='utf-8', index=False)"
   ]
  },
  {
   "cell_type": "code",
   "execution_count": null,
   "metadata": {},
   "outputs": [],
   "source": [
    "download_add_info(ticker)"
   ]
  },
  {
   "cell_type": "markdown",
   "metadata": {},
   "source": [
    "## 05_Feature generation of historical data\n",
    "In order to be able to compare the historical stock price data of different companies, they have to be normalized. \n",
    "- First, Open, High, and Low are compared with the Close price. Second, the Close\n",
    "- Second, the Close price is normalized (divided by) the last Close Price\n",
    "- Third, the volume is normalized by that sharesOutstanding \n",
    "\n",
    "Furthermore, as additional features we will add the percentual change of the close Price and the traded volume.\n",
    "\n",
    "And again, there is also a parallelized version of this code in \"08_Download_StockData.py\""
   ]
  },
  {
   "cell_type": "code",
   "execution_count": null,
   "metadata": {},
   "outputs": [],
   "source": [
    "import glob\n",
    "\n",
    "def get_data_files() -> List[str]:\n",
    "    return glob.glob(stock_data_folder + \"**/*_2.csv\",recursive = True)"
   ]
  },
  {
   "cell_type": "code",
   "execution_count": null,
   "metadata": {},
   "outputs": [],
   "source": [
    "def read_stockdata(filename: str) -> pd.DataFrame:\n",
    "    return pd.read_csv(filename, header = 0, sep=\",\", encoding='utf-8')"
   ]
  },
  {
   "cell_type": "code",
   "execution_count": null,
   "metadata": {},
   "outputs": [],
   "source": [
    "files = get_data_files()\n",
    "len(files)"
   ]
  },
  {
   "cell_type": "code",
   "execution_count": null,
   "metadata": {},
   "outputs": [],
   "source": [
    "df = read_stockdata(files[0])"
   ]
  },
  {
   "cell_type": "code",
   "execution_count": null,
   "metadata": {},
   "outputs": [],
   "source": [
    "df_apple = read_stockdata(stock_data_folder + \"A/AAPL_2.csv\")"
   ]
  },
  {
   "cell_type": "code",
   "execution_count": null,
   "metadata": {},
   "outputs": [],
   "source": [
    "df_apple[-80:-60]"
   ]
  },
  {
   "cell_type": "markdown",
   "metadata": {},
   "source": [
    "## XX_Trials"
   ]
  },
  {
   "cell_type": "code",
   "execution_count": null,
   "metadata": {},
   "outputs": [
    {
     "data": {
      "text/plain": [
       "array(['A', 'AA', 'AAC', ..., 'ZTM', 'ZTS', 'ZUMZ'], dtype=object)"
      ]
     },
     "execution_count": null,
     "metadata": {},
     "output_type": "execute_result"
    }
   ],
   "source": [
    "tickers"
   ]
  },
  {
   "cell_type": "code",
   "execution_count": null,
   "metadata": {},
   "outputs": [
    {
     "data": {
      "text/plain": [
       "Index(['CIK', 'Ticker', 'Name', 'Exchange', 'SIC', 'Business', 'Incorporated',\n",
       "       'IRS'],\n",
       "      dtype='object')"
      ]
     },
     "execution_count": null,
     "metadata": {},
     "output_type": "execute_result"
    }
   ],
   "source": [
    "cik_tick_df = load_cik_ticker()\n",
    "cik_tick_df.columns"
   ]
  },
  {
   "cell_type": "code",
   "execution_count": null,
   "metadata": {},
   "outputs": [
    {
     "data": {
      "text/html": [
       "<div>\n",
       "<style scoped>\n",
       "    .dataframe tbody tr th:only-of-type {\n",
       "        vertical-align: middle;\n",
       "    }\n",
       "\n",
       "    .dataframe tbody tr th {\n",
       "        vertical-align: top;\n",
       "    }\n",
       "\n",
       "    .dataframe thead th {\n",
       "        text-align: right;\n",
       "    }\n",
       "</style>\n",
       "<table border=\"1\" class=\"dataframe\">\n",
       "  <thead>\n",
       "    <tr style=\"text-align: right;\">\n",
       "      <th></th>\n",
       "      <th>CIK</th>\n",
       "      <th>Ticker</th>\n",
       "      <th>Name</th>\n",
       "      <th>Exchange</th>\n",
       "      <th>SIC</th>\n",
       "      <th>Business</th>\n",
       "      <th>Incorporated</th>\n",
       "      <th>IRS</th>\n",
       "    </tr>\n",
       "  </thead>\n",
       "  <tbody>\n",
       "    <tr>\n",
       "      <th>2685</th>\n",
       "      <td>1383701</td>\n",
       "      <td>CNAT</td>\n",
       "      <td>Conatus Pharmaceuticals Inc</td>\n",
       "      <td>NASDAQ</td>\n",
       "      <td>2834.0</td>\n",
       "      <td>CA</td>\n",
       "      <td>DE</td>\n",
       "      <td>203183915.0</td>\n",
       "    </tr>\n",
       "  </tbody>\n",
       "</table>\n",
       "</div>"
      ],
      "text/plain": [
       "          CIK Ticker                         Name Exchange     SIC Business  \\\n",
       "2685  1383701   CNAT  Conatus Pharmaceuticals Inc   NASDAQ  2834.0       CA   \n",
       "\n",
       "     Incorporated          IRS  \n",
       "2685           DE  203183915.0  "
      ]
     },
     "execution_count": null,
     "metadata": {},
     "output_type": "execute_result"
    }
   ],
   "source": [
    "cik_tick_df[cik_tick_df.Ticker == 'CNAT']"
   ]
  },
  {
   "cell_type": "code",
   "execution_count": null,
   "metadata": {},
   "outputs": [],
   "source": [
    "stockFetcher = Fetcher('AAPL',[2010,1,1])\n",
    "stock_df = stockFetcher.get_historical()"
   ]
  },
  {
   "cell_type": "code",
   "execution_count": null,
   "metadata": {},
   "outputs": [
    {
     "data": {
      "text/plain": [
       "(2756, 7)"
      ]
     },
     "execution_count": null,
     "metadata": {},
     "output_type": "execute_result"
    }
   ],
   "source": [
    "stock_df.shape"
   ]
  },
  {
   "cell_type": "code",
   "execution_count": null,
   "metadata": {},
   "outputs": [
    {
     "data": {
      "text/html": [
       "<div>\n",
       "<style scoped>\n",
       "    .dataframe tbody tr th:only-of-type {\n",
       "        vertical-align: middle;\n",
       "    }\n",
       "\n",
       "    .dataframe tbody tr th {\n",
       "        vertical-align: top;\n",
       "    }\n",
       "\n",
       "    .dataframe thead th {\n",
       "        text-align: right;\n",
       "    }\n",
       "</style>\n",
       "<table border=\"1\" class=\"dataframe\">\n",
       "  <thead>\n",
       "    <tr style=\"text-align: right;\">\n",
       "      <th></th>\n",
       "      <th>Date</th>\n",
       "      <th>Open</th>\n",
       "      <th>High</th>\n",
       "      <th>Low</th>\n",
       "      <th>Close</th>\n",
       "      <th>Adj Close</th>\n",
       "      <th>Volume</th>\n",
       "    </tr>\n",
       "  </thead>\n",
       "  <tbody>\n",
       "    <tr>\n",
       "      <th>0</th>\n",
       "      <td>2010-01-04</td>\n",
       "      <td>26.000362</td>\n",
       "      <td>26.177889</td>\n",
       "      <td>25.870815</td>\n",
       "      <td>26.129908</td>\n",
       "      <td>20.155407</td>\n",
       "      <td>10829000</td>\n",
       "    </tr>\n",
       "    <tr>\n",
       "      <th>1</th>\n",
       "      <td>2010-01-05</td>\n",
       "      <td>26.134706</td>\n",
       "      <td>26.134706</td>\n",
       "      <td>25.789249</td>\n",
       "      <td>25.918797</td>\n",
       "      <td>19.992567</td>\n",
       "      <td>10562100</td>\n",
       "    </tr>\n",
       "    <tr>\n",
       "      <th>2</th>\n",
       "      <td>2010-01-06</td>\n",
       "      <td>25.880411</td>\n",
       "      <td>26.096321</td>\n",
       "      <td>25.837231</td>\n",
       "      <td>26.062737</td>\n",
       "      <td>20.103596</td>\n",
       "      <td>11401400</td>\n",
       "    </tr>\n",
       "    <tr>\n",
       "      <th>3</th>\n",
       "      <td>2010-01-07</td>\n",
       "      <td>26.057938</td>\n",
       "      <td>26.283443</td>\n",
       "      <td>25.942785</td>\n",
       "      <td>26.278646</td>\n",
       "      <td>20.270136</td>\n",
       "      <td>12857200</td>\n",
       "    </tr>\n",
       "    <tr>\n",
       "      <th>4</th>\n",
       "      <td>2010-01-08</td>\n",
       "      <td>26.273848</td>\n",
       "      <td>26.508949</td>\n",
       "      <td>26.235464</td>\n",
       "      <td>26.412991</td>\n",
       "      <td>20.373764</td>\n",
       "      <td>12148600</td>\n",
       "    </tr>\n",
       "    <tr>\n",
       "      <th>5</th>\n",
       "      <td>2010-01-11</td>\n",
       "      <td>26.532940</td>\n",
       "      <td>26.619305</td>\n",
       "      <td>26.422586</td>\n",
       "      <td>26.547335</td>\n",
       "      <td>20.477396</td>\n",
       "      <td>10947200</td>\n",
       "    </tr>\n",
       "    <tr>\n",
       "      <th>6</th>\n",
       "      <td>2010-01-12</td>\n",
       "      <td>26.484961</td>\n",
       "      <td>26.652889</td>\n",
       "      <td>26.403395</td>\n",
       "      <td>26.470566</td>\n",
       "      <td>20.418177</td>\n",
       "      <td>10939300</td>\n",
       "    </tr>\n",
       "    <tr>\n",
       "      <th>7</th>\n",
       "      <td>2010-01-13</td>\n",
       "      <td>26.321829</td>\n",
       "      <td>26.648092</td>\n",
       "      <td>26.317030</td>\n",
       "      <td>26.528143</td>\n",
       "      <td>20.612034</td>\n",
       "      <td>10538900</td>\n",
       "    </tr>\n",
       "    <tr>\n",
       "      <th>8</th>\n",
       "      <td>2010-01-14</td>\n",
       "      <td>26.494556</td>\n",
       "      <td>26.686476</td>\n",
       "      <td>26.389000</td>\n",
       "      <td>26.556931</td>\n",
       "      <td>20.634401</td>\n",
       "      <td>8982400</td>\n",
       "    </tr>\n",
       "    <tr>\n",
       "      <th>9</th>\n",
       "      <td>2010-01-15</td>\n",
       "      <td>26.561728</td>\n",
       "      <td>26.662485</td>\n",
       "      <td>26.465769</td>\n",
       "      <td>26.624102</td>\n",
       "      <td>20.686594</td>\n",
       "      <td>16132500</td>\n",
       "    </tr>\n",
       "  </tbody>\n",
       "</table>\n",
       "</div>"
      ],
      "text/plain": [
       "         Date       Open       High        Low      Close  Adj Close    Volume\n",
       "0  2010-01-04  26.000362  26.177889  25.870815  26.129908  20.155407  10829000\n",
       "1  2010-01-05  26.134706  26.134706  25.789249  25.918797  19.992567  10562100\n",
       "2  2010-01-06  25.880411  26.096321  25.837231  26.062737  20.103596  11401400\n",
       "3  2010-01-07  26.057938  26.283443  25.942785  26.278646  20.270136  12857200\n",
       "4  2010-01-08  26.273848  26.508949  26.235464  26.412991  20.373764  12148600\n",
       "5  2010-01-11  26.532940  26.619305  26.422586  26.547335  20.477396  10947200\n",
       "6  2010-01-12  26.484961  26.652889  26.403395  26.470566  20.418177  10939300\n",
       "7  2010-01-13  26.321829  26.648092  26.317030  26.528143  20.612034  10538900\n",
       "8  2010-01-14  26.494556  26.686476  26.389000  26.556931  20.634401   8982400\n",
       "9  2010-01-15  26.561728  26.662485  26.465769  26.624102  20.686594  16132500"
      ]
     },
     "execution_count": null,
     "metadata": {},
     "output_type": "execute_result"
    }
   ],
   "source": [
    "stock_df[:10]"
   ]
  },
  {
   "cell_type": "markdown",
   "metadata": {},
   "source": [
    "https://aroussi.com/post/python-yahoo-finance"
   ]
  },
  {
   "cell_type": "code",
   "execution_count": null,
   "metadata": {},
   "outputs": [
    {
     "name": "stdout",
     "output_type": "stream",
     "text": [
      "{'zip': '95014', 'sector': 'Technology', 'fullTimeEmployees': 147000, 'longBusinessSummary': 'Apple Inc. designs, manufactures, and markets smartphones, personal computers, tablets, wearables, and accessories worldwide. It also sells various related services. The company offers iPhone, a line of smartphones; Mac, a line of personal computers; iPad, a line of multi-purpose tablets; and wearables, home, and accessories comprising AirPods, Apple TV, Apple Watch, Beats products, HomePod, iPod touch, and other Apple-branded and third-party accessories. It also provides AppleCare support services; cloud services store services; and operates various platforms, including the App Store, that allow customers to discover and download applications and digital content, such as books, music, video, games, and podcasts. In addition, the company offers various services, such as Apple Arcade, a game subscription service; Apple Music, which offers users a curated listening experience with on-demand radio stations; Apple News+, a subscription news and magazine service; Apple TV+, which offers exclusive original content; Apple Card, a co-branded credit card; and Apple Pay, a cashless payment service, as well as licenses its intellectual property. The company serves consumers, and small and mid-sized businesses; and the education, enterprise, and government markets. It sells and delivers third-party applications for its products through the App Store. The company also sells its products through its retail and online stores, and direct sales force; and third-party cellular network carriers, wholesalers, retailers, and resellers. Apple Inc. was founded in 1977 and is headquartered in Cupertino, California.', 'city': 'Cupertino', 'phone': '408-996-1010', 'state': 'CA', 'country': 'United States', 'companyOfficers': [], 'website': 'http://www.apple.com', 'maxAge': 1, 'address1': 'One Apple Park Way', 'industry': 'Consumer Electronics', 'previousClose': 123.24, 'regularMarketOpen': 122.43, 'twoHundredDayAverage': 108.05752, 'trailingAnnualDividendYield': 0.0064508277, 'payoutRatio': 0.24239999, 'volume24Hr': None, 'regularMarketDayHigh': 122.76, 'navPrice': None, 'averageDailyVolume10Day': 87060985, 'totalAssets': None, 'regularMarketPreviousClose': 123.24, 'fiftyDayAverage': 117.944115, 'trailingAnnualDividendRate': 0.795, 'open': 122.43, 'toCurrency': None, 'averageVolume10days': 87060985, 'expireDate': None, 'yield': None, 'algorithm': None, 'dividendRate': 0.82, 'exDividendDate': 1604620800, 'beta': 1.297637, 'circulatingSupply': None, 'startDate': None, 'regularMarketDayLow': 120.55, 'priceHint': 2, 'currency': 'USD', 'trailingPE': 37.32012, 'regularMarketVolume': 81462378, 'lastMarket': None, 'maxSupply': None, 'openInterest': None, 'marketCap': 2081190313984, 'volumeAllCurrencies': None, 'strikePrice': None, 'averageVolume': 125250132, 'priceToSalesTrailing12Months': 7.5813355, 'dayLow': 120.55, 'ask': 122.19, 'ytdReturn': None, 'askSize': 800, 'volume': 81462378, 'fiftyTwoWeekHigh': 137.98, 'forwardPE': 28.270208, 'fromCurrency': None, 'fiveYearAvgDividendYield': 1.49, 'fiftyTwoWeekLow': 53.1525, 'bid': 122.17, 'tradeable': False, 'dividendYield': 0.0067000003, 'bidSize': 900, 'dayHigh': 122.76, 'exchange': 'NMS', 'shortName': 'Apple Inc.', 'longName': 'Apple Inc.', 'exchangeTimezoneName': 'America/New_York', 'exchangeTimezoneShortName': 'EST', 'isEsgPopulated': False, 'gmtOffSetMilliseconds': '-18000000', 'quoteType': 'EQUITY', 'symbol': 'AAPL', 'messageBoardId': 'finmb_24937', 'market': 'us_market', 'annualHoldingsTurnover': None, 'enterpriseToRevenue': 7.695, 'beta3Year': None, 'profitMargins': 0.20914, 'enterpriseToEbitda': 27.313, '52WeekChange': 0.7495892, 'morningStarRiskRating': None, 'forwardEps': 4.33, 'revenueQuarterlyGrowth': None, 'sharesOutstanding': 17102499840, 'fundInceptionDate': None, 'annualReportExpenseRatio': None, 'bookValue': 3.849, 'sharesShort': 89985311, 'sharesPercentSharesOut': 0.0053, 'fundFamily': None, 'lastFiscalYearEnd': 1601078400, 'heldPercentInstitutions': 0.59731996, 'netIncomeToCommon': 57410998272, 'trailingEps': 3.28, 'lastDividendValue': 0.205, 'SandP52WeekChange': 0.14789832, 'priceToBook': 31.803066, 'heldPercentInsiders': 0.00066, 'nextFiscalYearEnd': 1664150400, 'mostRecentQuarter': 1601078400, 'shortRatio': 0.82, 'sharesShortPreviousMonthDate': 1604016000, 'floatShares': 16984630180, 'enterpriseValue': 2112525565952, 'threeYearAverageReturn': None, 'lastSplitDate': 1598832000, 'lastSplitFactor': '4:1', 'legalType': None, 'lastDividendDate': 1604620800, 'morningStarOverallRating': None, 'earningsQuarterlyGrowth': -0.074, 'dateShortInterest': 1606694400, 'pegRatio': 2.46, 'lastCapGain': None, 'shortPercentOfFloat': 0.0053, 'sharesShortPriorMonth': 80528396, 'impliedSharesOutstanding': None, 'category': None, 'fiveYearAverageReturn': None, 'regularMarketPrice': 122.43, 'logo_url': 'https://logo.clearbit.com/apple.com'}\n"
     ]
    }
   ],
   "source": [
    "import yfinance as yf\n",
    "msft = yf.Ticker(\"AAPL\")\n",
    "print(msft.info)"
   ]
  },
  {
   "cell_type": "code",
   "execution_count": null,
   "metadata": {},
   "outputs": [
    {
     "data": {
      "text/html": [
       "<div>\n",
       "<style scoped>\n",
       "    .dataframe tbody tr th:only-of-type {\n",
       "        vertical-align: middle;\n",
       "    }\n",
       "\n",
       "    .dataframe tbody tr th {\n",
       "        vertical-align: top;\n",
       "    }\n",
       "\n",
       "    .dataframe thead th {\n",
       "        text-align: right;\n",
       "    }\n",
       "</style>\n",
       "<table border=\"1\" class=\"dataframe\">\n",
       "  <thead>\n",
       "    <tr style=\"text-align: right;\">\n",
       "      <th></th>\n",
       "      <th>Open</th>\n",
       "      <th>High</th>\n",
       "      <th>Low</th>\n",
       "      <th>Close</th>\n",
       "      <th>Adj Close</th>\n",
       "      <th>Volume</th>\n",
       "    </tr>\n",
       "    <tr>\n",
       "      <th>Date</th>\n",
       "      <th></th>\n",
       "      <th></th>\n",
       "      <th></th>\n",
       "      <th></th>\n",
       "      <th></th>\n",
       "      <th></th>\n",
       "    </tr>\n",
       "  </thead>\n",
       "  <tbody>\n",
       "  </tbody>\n",
       "</table>\n",
       "</div>"
      ],
      "text/plain": [
       "Empty DataFrame\n",
       "Columns: [Open, High, Low, Close, Adj Close, Volume]\n",
       "Index: []"
      ]
     },
     "execution_count": null,
     "metadata": {},
     "output_type": "execute_result"
    }
   ],
   "source": [
    "msft.get_balance_sheet()"
   ]
  },
  {
   "cell_type": "code",
   "execution_count": null,
   "metadata": {},
   "outputs": [
    {
     "name": "stdout",
     "output_type": "stream",
     "text": [
      "Technology\n",
      "Software—Infrastructure\n",
      "1612352192512\n",
      "7560500224\n"
     ]
    }
   ],
   "source": [
    "print(msft.info['sector'])\n",
    "print(msft.info['industry'])\n",
    "print(msft.info['marketCap'])\n",
    "print(msft.info['sharesOutstanding'])\n"
   ]
  },
  {
   "cell_type": "code",
   "execution_count": null,
   "metadata": {},
   "outputs": [
    {
     "name": "stdout",
     "output_type": "stream",
     "text": [
      "[*********************100%***********************]  2 of 2 completed\n"
     ]
    }
   ],
   "source": [
    "\n",
    "data = yf.download(\"SPY AAPL\", start=\"2017-01-01\", end=\"2017-04-30\", )\n"
   ]
  },
  {
   "cell_type": "code",
   "execution_count": null,
   "metadata": {},
   "outputs": [
    {
     "data": {
      "text/html": [
       "<div>\n",
       "<style scoped>\n",
       "    .dataframe tbody tr th:only-of-type {\n",
       "        vertical-align: middle;\n",
       "    }\n",
       "\n",
       "    .dataframe tbody tr th {\n",
       "        vertical-align: top;\n",
       "    }\n",
       "\n",
       "    .dataframe thead tr th {\n",
       "        text-align: left;\n",
       "    }\n",
       "\n",
       "    .dataframe thead tr:last-of-type th {\n",
       "        text-align: right;\n",
       "    }\n",
       "</style>\n",
       "<table border=\"1\" class=\"dataframe\">\n",
       "  <thead>\n",
       "    <tr>\n",
       "      <th></th>\n",
       "      <th colspan=\"2\" halign=\"left\">Adj Close</th>\n",
       "      <th colspan=\"2\" halign=\"left\">Close</th>\n",
       "      <th colspan=\"2\" halign=\"left\">High</th>\n",
       "      <th colspan=\"2\" halign=\"left\">Low</th>\n",
       "      <th colspan=\"2\" halign=\"left\">Open</th>\n",
       "      <th colspan=\"2\" halign=\"left\">Volume</th>\n",
       "    </tr>\n",
       "    <tr>\n",
       "      <th></th>\n",
       "      <th>AAPL</th>\n",
       "      <th>SPY</th>\n",
       "      <th>AAPL</th>\n",
       "      <th>SPY</th>\n",
       "      <th>AAPL</th>\n",
       "      <th>SPY</th>\n",
       "      <th>AAPL</th>\n",
       "      <th>SPY</th>\n",
       "      <th>AAPL</th>\n",
       "      <th>SPY</th>\n",
       "      <th>AAPL</th>\n",
       "      <th>SPY</th>\n",
       "    </tr>\n",
       "    <tr>\n",
       "      <th>Date</th>\n",
       "      <th></th>\n",
       "      <th></th>\n",
       "      <th></th>\n",
       "      <th></th>\n",
       "      <th></th>\n",
       "      <th></th>\n",
       "      <th></th>\n",
       "      <th></th>\n",
       "      <th></th>\n",
       "      <th></th>\n",
       "      <th></th>\n",
       "      <th></th>\n",
       "    </tr>\n",
       "  </thead>\n",
       "  <tbody>\n",
       "    <tr>\n",
       "      <th>2017-01-03</th>\n",
       "      <td>27.277639</td>\n",
       "      <td>209.785889</td>\n",
       "      <td>29.037500</td>\n",
       "      <td>225.240005</td>\n",
       "      <td>29.082500</td>\n",
       "      <td>225.830002</td>\n",
       "      <td>28.690001</td>\n",
       "      <td>223.880005</td>\n",
       "      <td>28.950001</td>\n",
       "      <td>225.039993</td>\n",
       "      <td>115127600</td>\n",
       "      <td>91366500</td>\n",
       "    </tr>\n",
       "    <tr>\n",
       "      <th>2017-01-04</th>\n",
       "      <td>27.247108</td>\n",
       "      <td>211.033981</td>\n",
       "      <td>29.004999</td>\n",
       "      <td>226.580002</td>\n",
       "      <td>29.127501</td>\n",
       "      <td>226.750000</td>\n",
       "      <td>28.937500</td>\n",
       "      <td>225.610001</td>\n",
       "      <td>28.962500</td>\n",
       "      <td>225.619995</td>\n",
       "      <td>84472400</td>\n",
       "      <td>78744400</td>\n",
       "    </tr>\n",
       "    <tr>\n",
       "      <th>2017-01-05</th>\n",
       "      <td>27.385668</td>\n",
       "      <td>210.866318</td>\n",
       "      <td>29.152500</td>\n",
       "      <td>226.399994</td>\n",
       "      <td>29.215000</td>\n",
       "      <td>226.580002</td>\n",
       "      <td>28.952499</td>\n",
       "      <td>225.479996</td>\n",
       "      <td>28.980000</td>\n",
       "      <td>226.270004</td>\n",
       "      <td>88774400</td>\n",
       "      <td>78379000</td>\n",
       "    </tr>\n",
       "    <tr>\n",
       "      <th>2017-01-06</th>\n",
       "      <td>27.690971</td>\n",
       "      <td>211.620728</td>\n",
       "      <td>29.477501</td>\n",
       "      <td>227.210007</td>\n",
       "      <td>29.540001</td>\n",
       "      <td>227.750000</td>\n",
       "      <td>29.117500</td>\n",
       "      <td>225.899994</td>\n",
       "      <td>29.195000</td>\n",
       "      <td>226.529999</td>\n",
       "      <td>127007600</td>\n",
       "      <td>71559900</td>\n",
       "    </tr>\n",
       "    <tr>\n",
       "      <th>2017-01-09</th>\n",
       "      <td>27.944603</td>\n",
       "      <td>210.922211</td>\n",
       "      <td>29.747499</td>\n",
       "      <td>226.460007</td>\n",
       "      <td>29.857500</td>\n",
       "      <td>227.070007</td>\n",
       "      <td>29.485001</td>\n",
       "      <td>226.419998</td>\n",
       "      <td>29.487499</td>\n",
       "      <td>226.910004</td>\n",
       "      <td>134247600</td>\n",
       "      <td>46939700</td>\n",
       "    </tr>\n",
       "    <tr>\n",
       "      <th>...</th>\n",
       "      <td>...</td>\n",
       "      <td>...</td>\n",
       "      <td>...</td>\n",
       "      <td>...</td>\n",
       "      <td>...</td>\n",
       "      <td>...</td>\n",
       "      <td>...</td>\n",
       "      <td>...</td>\n",
       "      <td>...</td>\n",
       "      <td>...</td>\n",
       "      <td>...</td>\n",
       "      <td>...</td>\n",
       "    </tr>\n",
       "    <tr>\n",
       "      <th>2017-04-24</th>\n",
       "      <td>33.879871</td>\n",
       "      <td>221.858353</td>\n",
       "      <td>35.910000</td>\n",
       "      <td>237.169998</td>\n",
       "      <td>35.987499</td>\n",
       "      <td>237.410004</td>\n",
       "      <td>35.794998</td>\n",
       "      <td>234.559998</td>\n",
       "      <td>35.875000</td>\n",
       "      <td>237.179993</td>\n",
       "      <td>68537200</td>\n",
       "      <td>119209900</td>\n",
       "    </tr>\n",
       "    <tr>\n",
       "      <th>2017-04-25</th>\n",
       "      <td>34.089794</td>\n",
       "      <td>223.149246</td>\n",
       "      <td>36.132500</td>\n",
       "      <td>238.550003</td>\n",
       "      <td>36.224998</td>\n",
       "      <td>238.949997</td>\n",
       "      <td>35.967499</td>\n",
       "      <td>237.809998</td>\n",
       "      <td>35.977501</td>\n",
       "      <td>237.910004</td>\n",
       "      <td>75486000</td>\n",
       "      <td>76698300</td>\n",
       "    </tr>\n",
       "    <tr>\n",
       "      <th>2017-04-26</th>\n",
       "      <td>33.889301</td>\n",
       "      <td>223.008942</td>\n",
       "      <td>35.919998</td>\n",
       "      <td>238.399994</td>\n",
       "      <td>36.150002</td>\n",
       "      <td>239.529999</td>\n",
       "      <td>35.845001</td>\n",
       "      <td>238.350006</td>\n",
       "      <td>36.117500</td>\n",
       "      <td>238.509995</td>\n",
       "      <td>80164800</td>\n",
       "      <td>84702500</td>\n",
       "    </tr>\n",
       "    <tr>\n",
       "      <th>2017-04-27</th>\n",
       "      <td>33.915257</td>\n",
       "      <td>223.196014</td>\n",
       "      <td>35.947498</td>\n",
       "      <td>238.600006</td>\n",
       "      <td>36.040001</td>\n",
       "      <td>238.949997</td>\n",
       "      <td>35.827499</td>\n",
       "      <td>237.979996</td>\n",
       "      <td>35.980000</td>\n",
       "      <td>238.770004</td>\n",
       "      <td>56985200</td>\n",
       "      <td>57410300</td>\n",
       "    </tr>\n",
       "    <tr>\n",
       "      <th>2017-04-28</th>\n",
       "      <td>33.882225</td>\n",
       "      <td>222.709595</td>\n",
       "      <td>35.912498</td>\n",
       "      <td>238.080002</td>\n",
       "      <td>36.075001</td>\n",
       "      <td>238.929993</td>\n",
       "      <td>35.817501</td>\n",
       "      <td>237.929993</td>\n",
       "      <td>36.022499</td>\n",
       "      <td>238.899994</td>\n",
       "      <td>83441600</td>\n",
       "      <td>63532800</td>\n",
       "    </tr>\n",
       "  </tbody>\n",
       "</table>\n",
       "<p>81 rows × 12 columns</p>\n",
       "</div>"
      ],
      "text/plain": [
       "            Adj Close                  Close                   High  \\\n",
       "                 AAPL         SPY       AAPL         SPY       AAPL   \n",
       "Date                                                                  \n",
       "2017-01-03  27.277639  209.785889  29.037500  225.240005  29.082500   \n",
       "2017-01-04  27.247108  211.033981  29.004999  226.580002  29.127501   \n",
       "2017-01-05  27.385668  210.866318  29.152500  226.399994  29.215000   \n",
       "2017-01-06  27.690971  211.620728  29.477501  227.210007  29.540001   \n",
       "2017-01-09  27.944603  210.922211  29.747499  226.460007  29.857500   \n",
       "...               ...         ...        ...         ...        ...   \n",
       "2017-04-24  33.879871  221.858353  35.910000  237.169998  35.987499   \n",
       "2017-04-25  34.089794  223.149246  36.132500  238.550003  36.224998   \n",
       "2017-04-26  33.889301  223.008942  35.919998  238.399994  36.150002   \n",
       "2017-04-27  33.915257  223.196014  35.947498  238.600006  36.040001   \n",
       "2017-04-28  33.882225  222.709595  35.912498  238.080002  36.075001   \n",
       "\n",
       "                              Low                   Open              \\\n",
       "                   SPY       AAPL         SPY       AAPL         SPY   \n",
       "Date                                                                   \n",
       "2017-01-03  225.830002  28.690001  223.880005  28.950001  225.039993   \n",
       "2017-01-04  226.750000  28.937500  225.610001  28.962500  225.619995   \n",
       "2017-01-05  226.580002  28.952499  225.479996  28.980000  226.270004   \n",
       "2017-01-06  227.750000  29.117500  225.899994  29.195000  226.529999   \n",
       "2017-01-09  227.070007  29.485001  226.419998  29.487499  226.910004   \n",
       "...                ...        ...         ...        ...         ...   \n",
       "2017-04-24  237.410004  35.794998  234.559998  35.875000  237.179993   \n",
       "2017-04-25  238.949997  35.967499  237.809998  35.977501  237.910004   \n",
       "2017-04-26  239.529999  35.845001  238.350006  36.117500  238.509995   \n",
       "2017-04-27  238.949997  35.827499  237.979996  35.980000  238.770004   \n",
       "2017-04-28  238.929993  35.817501  237.929993  36.022499  238.899994   \n",
       "\n",
       "               Volume             \n",
       "                 AAPL        SPY  \n",
       "Date                              \n",
       "2017-01-03  115127600   91366500  \n",
       "2017-01-04   84472400   78744400  \n",
       "2017-01-05   88774400   78379000  \n",
       "2017-01-06  127007600   71559900  \n",
       "2017-01-09  134247600   46939700  \n",
       "...               ...        ...  \n",
       "2017-04-24   68537200  119209900  \n",
       "2017-04-25   75486000   76698300  \n",
       "2017-04-26   80164800   84702500  \n",
       "2017-04-27   56985200   57410300  \n",
       "2017-04-28   83441600   63532800  \n",
       "\n",
       "[81 rows x 12 columns]"
      ]
     },
     "execution_count": null,
     "metadata": {},
     "output_type": "execute_result"
    }
   ],
   "source": [
    "data"
   ]
  },
  {
   "cell_type": "code",
   "execution_count": null,
   "metadata": {},
   "outputs": [
    {
     "name": "stdout",
     "output_type": "stream",
     "text": [
      "[*********************100%***********************]  1 of 1 completed\n",
      "\n",
      "1 Failed download:\n",
      "- AAC: No data found, symbol may be delisted\n"
     ]
    },
    {
     "data": {
      "text/html": [
       "<div>\n",
       "<style scoped>\n",
       "    .dataframe tbody tr th:only-of-type {\n",
       "        vertical-align: middle;\n",
       "    }\n",
       "\n",
       "    .dataframe tbody tr th {\n",
       "        vertical-align: top;\n",
       "    }\n",
       "\n",
       "    .dataframe thead th {\n",
       "        text-align: right;\n",
       "    }\n",
       "</style>\n",
       "<table border=\"1\" class=\"dataframe\">\n",
       "  <thead>\n",
       "    <tr style=\"text-align: right;\">\n",
       "      <th></th>\n",
       "      <th>Open</th>\n",
       "      <th>High</th>\n",
       "      <th>Low</th>\n",
       "      <th>Close</th>\n",
       "      <th>Adj Close</th>\n",
       "      <th>Volume</th>\n",
       "    </tr>\n",
       "    <tr>\n",
       "      <th>Date</th>\n",
       "      <th></th>\n",
       "      <th></th>\n",
       "      <th></th>\n",
       "      <th></th>\n",
       "      <th></th>\n",
       "      <th></th>\n",
       "    </tr>\n",
       "  </thead>\n",
       "  <tbody>\n",
       "  </tbody>\n",
       "</table>\n",
       "</div>"
      ],
      "text/plain": [
       "Empty DataFrame\n",
       "Columns: [Open, High, Low, Close, Adj Close, Volume]\n",
       "Index: []"
      ]
     },
     "execution_count": null,
     "metadata": {},
     "output_type": "execute_result"
    }
   ],
   "source": [
    "data = yf.download(\"AAC\", start=\"2010-01-01\", end=\"2020-12-11\")\n",
    "data"
   ]
  },
  {
   "cell_type": "code",
   "execution_count": null,
   "metadata": {},
   "outputs": [
    {
     "ename": "HTTPError",
     "evalue": "HTTP Error 404: Not Found",
     "output_type": "error",
     "traceback": [
      "\u001b[1;31m---------------------------------------------------------------------------\u001b[0m",
      "\u001b[1;31mHTTPError\u001b[0m                                 Traceback (most recent call last)",
      "\u001b[1;32m<ipython-input-29-a7635d9b1a89>\u001b[0m in \u001b[0;36m<module>\u001b[1;34m\u001b[0m\n\u001b[0;32m      1\u001b[0m \u001b[0maacob\u001b[0m \u001b[1;33m=\u001b[0m \u001b[0myf\u001b[0m\u001b[1;33m.\u001b[0m\u001b[0mTicker\u001b[0m\u001b[1;33m(\u001b[0m\u001b[1;34m\"AAC\"\u001b[0m\u001b[1;33m)\u001b[0m\u001b[1;33m\u001b[0m\u001b[1;33m\u001b[0m\u001b[0m\n\u001b[1;32m----> 2\u001b[1;33m \u001b[0maacob\u001b[0m\u001b[1;33m.\u001b[0m\u001b[0minfo\u001b[0m\u001b[1;33m\u001b[0m\u001b[1;33m\u001b[0m\u001b[0m\n\u001b[0m",
      "\u001b[1;32mC:\\ieu\\Anaconda3\\envs\\spark\\lib\\site-packages\\yfinance\\ticker.py\u001b[0m in \u001b[0;36minfo\u001b[1;34m(self)\u001b[0m\n\u001b[0;32m    136\u001b[0m     \u001b[1;33m@\u001b[0m\u001b[0mproperty\u001b[0m\u001b[1;33m\u001b[0m\u001b[1;33m\u001b[0m\u001b[0m\n\u001b[0;32m    137\u001b[0m     \u001b[1;32mdef\u001b[0m \u001b[0minfo\u001b[0m\u001b[1;33m(\u001b[0m\u001b[0mself\u001b[0m\u001b[1;33m)\u001b[0m\u001b[1;33m:\u001b[0m\u001b[1;33m\u001b[0m\u001b[1;33m\u001b[0m\u001b[0m\n\u001b[1;32m--> 138\u001b[1;33m         \u001b[1;32mreturn\u001b[0m \u001b[0mself\u001b[0m\u001b[1;33m.\u001b[0m\u001b[0mget_info\u001b[0m\u001b[1;33m(\u001b[0m\u001b[1;33m)\u001b[0m\u001b[1;33m\u001b[0m\u001b[1;33m\u001b[0m\u001b[0m\n\u001b[0m\u001b[0;32m    139\u001b[0m \u001b[1;33m\u001b[0m\u001b[0m\n\u001b[0;32m    140\u001b[0m     \u001b[1;33m@\u001b[0m\u001b[0mproperty\u001b[0m\u001b[1;33m\u001b[0m\u001b[1;33m\u001b[0m\u001b[0m\n",
      "\u001b[1;32mC:\\ieu\\Anaconda3\\envs\\spark\\lib\\site-packages\\yfinance\\base.py\u001b[0m in \u001b[0;36mget_info\u001b[1;34m(self, proxy, as_dict, *args, **kwargs)\u001b[0m\n\u001b[0;32m    444\u001b[0m \u001b[1;33m\u001b[0m\u001b[0m\n\u001b[0;32m    445\u001b[0m     \u001b[1;32mdef\u001b[0m \u001b[0mget_info\u001b[0m\u001b[1;33m(\u001b[0m\u001b[0mself\u001b[0m\u001b[1;33m,\u001b[0m \u001b[0mproxy\u001b[0m\u001b[1;33m=\u001b[0m\u001b[1;32mNone\u001b[0m\u001b[1;33m,\u001b[0m \u001b[0mas_dict\u001b[0m\u001b[1;33m=\u001b[0m\u001b[1;32mFalse\u001b[0m\u001b[1;33m,\u001b[0m \u001b[1;33m*\u001b[0m\u001b[0margs\u001b[0m\u001b[1;33m,\u001b[0m \u001b[1;33m**\u001b[0m\u001b[0mkwargs\u001b[0m\u001b[1;33m)\u001b[0m\u001b[1;33m:\u001b[0m\u001b[1;33m\u001b[0m\u001b[1;33m\u001b[0m\u001b[0m\n\u001b[1;32m--> 446\u001b[1;33m         \u001b[0mself\u001b[0m\u001b[1;33m.\u001b[0m\u001b[0m_get_fundamentals\u001b[0m\u001b[1;33m(\u001b[0m\u001b[0mproxy\u001b[0m\u001b[1;33m)\u001b[0m\u001b[1;33m\u001b[0m\u001b[1;33m\u001b[0m\u001b[0m\n\u001b[0m\u001b[0;32m    447\u001b[0m         \u001b[0mdata\u001b[0m \u001b[1;33m=\u001b[0m \u001b[0mself\u001b[0m\u001b[1;33m.\u001b[0m\u001b[0m_info\u001b[0m\u001b[1;33m\u001b[0m\u001b[1;33m\u001b[0m\u001b[0m\n\u001b[0;32m    448\u001b[0m         \u001b[1;32mif\u001b[0m \u001b[0mas_dict\u001b[0m\u001b[1;33m:\u001b[0m\u001b[1;33m\u001b[0m\u001b[1;33m\u001b[0m\u001b[0m\n",
      "\u001b[1;32mC:\\ieu\\Anaconda3\\envs\\spark\\lib\\site-packages\\yfinance\\base.py\u001b[0m in \u001b[0;36m_get_fundamentals\u001b[1;34m(self, kind, proxy)\u001b[0m\n\u001b[0;32m    283\u001b[0m         \u001b[1;31m# holders\u001b[0m\u001b[1;33m\u001b[0m\u001b[1;33m\u001b[0m\u001b[1;33m\u001b[0m\u001b[0m\n\u001b[0;32m    284\u001b[0m         \u001b[0murl\u001b[0m \u001b[1;33m=\u001b[0m \u001b[1;34m\"{}/{}/holders\"\u001b[0m\u001b[1;33m.\u001b[0m\u001b[0mformat\u001b[0m\u001b[1;33m(\u001b[0m\u001b[0mself\u001b[0m\u001b[1;33m.\u001b[0m\u001b[0m_scrape_url\u001b[0m\u001b[1;33m,\u001b[0m \u001b[0mself\u001b[0m\u001b[1;33m.\u001b[0m\u001b[0mticker\u001b[0m\u001b[1;33m)\u001b[0m\u001b[1;33m\u001b[0m\u001b[1;33m\u001b[0m\u001b[0m\n\u001b[1;32m--> 285\u001b[1;33m         \u001b[0mholders\u001b[0m \u001b[1;33m=\u001b[0m \u001b[0m_pd\u001b[0m\u001b[1;33m.\u001b[0m\u001b[0mread_html\u001b[0m\u001b[1;33m(\u001b[0m\u001b[0murl\u001b[0m\u001b[1;33m)\u001b[0m\u001b[1;33m\u001b[0m\u001b[1;33m\u001b[0m\u001b[0m\n\u001b[0m\u001b[0;32m    286\u001b[0m \u001b[1;33m\u001b[0m\u001b[0m\n\u001b[0;32m    287\u001b[0m         \u001b[1;32mif\u001b[0m \u001b[0mlen\u001b[0m\u001b[1;33m(\u001b[0m\u001b[0mholders\u001b[0m\u001b[1;33m)\u001b[0m\u001b[1;33m>=\u001b[0m\u001b[1;36m3\u001b[0m\u001b[1;33m:\u001b[0m\u001b[1;33m\u001b[0m\u001b[1;33m\u001b[0m\u001b[0m\n",
      "\u001b[1;32mC:\\ieu\\Anaconda3\\envs\\spark\\lib\\site-packages\\pandas\\io\\html.py\u001b[0m in \u001b[0;36mread_html\u001b[1;34m(io, match, flavor, header, index_col, skiprows, attrs, parse_dates, thousands, encoding, decimal, converters, na_values, keep_default_na, displayed_only)\u001b[0m\n\u001b[0;32m   1098\u001b[0m         \u001b[0mna_values\u001b[0m\u001b[1;33m=\u001b[0m\u001b[0mna_values\u001b[0m\u001b[1;33m,\u001b[0m\u001b[1;33m\u001b[0m\u001b[1;33m\u001b[0m\u001b[0m\n\u001b[0;32m   1099\u001b[0m         \u001b[0mkeep_default_na\u001b[0m\u001b[1;33m=\u001b[0m\u001b[0mkeep_default_na\u001b[0m\u001b[1;33m,\u001b[0m\u001b[1;33m\u001b[0m\u001b[1;33m\u001b[0m\u001b[0m\n\u001b[1;32m-> 1100\u001b[1;33m         \u001b[0mdisplayed_only\u001b[0m\u001b[1;33m=\u001b[0m\u001b[0mdisplayed_only\u001b[0m\u001b[1;33m,\u001b[0m\u001b[1;33m\u001b[0m\u001b[1;33m\u001b[0m\u001b[0m\n\u001b[0m\u001b[0;32m   1101\u001b[0m     )\n",
      "\u001b[1;32mC:\\ieu\\Anaconda3\\envs\\spark\\lib\\site-packages\\pandas\\io\\html.py\u001b[0m in \u001b[0;36m_parse\u001b[1;34m(flavor, io, match, attrs, encoding, displayed_only, **kwargs)\u001b[0m\n\u001b[0;32m    893\u001b[0m \u001b[1;33m\u001b[0m\u001b[0m\n\u001b[0;32m    894\u001b[0m         \u001b[1;32mtry\u001b[0m\u001b[1;33m:\u001b[0m\u001b[1;33m\u001b[0m\u001b[1;33m\u001b[0m\u001b[0m\n\u001b[1;32m--> 895\u001b[1;33m             \u001b[0mtables\u001b[0m \u001b[1;33m=\u001b[0m \u001b[0mp\u001b[0m\u001b[1;33m.\u001b[0m\u001b[0mparse_tables\u001b[0m\u001b[1;33m(\u001b[0m\u001b[1;33m)\u001b[0m\u001b[1;33m\u001b[0m\u001b[1;33m\u001b[0m\u001b[0m\n\u001b[0m\u001b[0;32m    896\u001b[0m         \u001b[1;32mexcept\u001b[0m \u001b[0mValueError\u001b[0m \u001b[1;32mas\u001b[0m \u001b[0mcaught\u001b[0m\u001b[1;33m:\u001b[0m\u001b[1;33m\u001b[0m\u001b[1;33m\u001b[0m\u001b[0m\n\u001b[0;32m    897\u001b[0m             \u001b[1;31m# if `io` is an io-like object, check if it's seekable\u001b[0m\u001b[1;33m\u001b[0m\u001b[1;33m\u001b[0m\u001b[1;33m\u001b[0m\u001b[0m\n",
      "\u001b[1;32mC:\\ieu\\Anaconda3\\envs\\spark\\lib\\site-packages\\pandas\\io\\html.py\u001b[0m in \u001b[0;36mparse_tables\u001b[1;34m(self)\u001b[0m\n\u001b[0;32m    211\u001b[0m         \u001b[0mlist\u001b[0m \u001b[0mof\u001b[0m \u001b[0mparsed\u001b[0m \u001b[1;33m(\u001b[0m\u001b[0mheader\u001b[0m\u001b[1;33m,\u001b[0m \u001b[0mbody\u001b[0m\u001b[1;33m,\u001b[0m \u001b[0mfooter\u001b[0m\u001b[1;33m)\u001b[0m \u001b[0mtuples\u001b[0m \u001b[1;32mfrom\u001b[0m \u001b[0mtables\u001b[0m\u001b[1;33m.\u001b[0m\u001b[1;33m\u001b[0m\u001b[1;33m\u001b[0m\u001b[0m\n\u001b[0;32m    212\u001b[0m         \"\"\"\n\u001b[1;32m--> 213\u001b[1;33m         \u001b[0mtables\u001b[0m \u001b[1;33m=\u001b[0m \u001b[0mself\u001b[0m\u001b[1;33m.\u001b[0m\u001b[0m_parse_tables\u001b[0m\u001b[1;33m(\u001b[0m\u001b[0mself\u001b[0m\u001b[1;33m.\u001b[0m\u001b[0m_build_doc\u001b[0m\u001b[1;33m(\u001b[0m\u001b[1;33m)\u001b[0m\u001b[1;33m,\u001b[0m \u001b[0mself\u001b[0m\u001b[1;33m.\u001b[0m\u001b[0mmatch\u001b[0m\u001b[1;33m,\u001b[0m \u001b[0mself\u001b[0m\u001b[1;33m.\u001b[0m\u001b[0mattrs\u001b[0m\u001b[1;33m)\u001b[0m\u001b[1;33m\u001b[0m\u001b[1;33m\u001b[0m\u001b[0m\n\u001b[0m\u001b[0;32m    214\u001b[0m         \u001b[1;32mreturn\u001b[0m \u001b[1;33m(\u001b[0m\u001b[0mself\u001b[0m\u001b[1;33m.\u001b[0m\u001b[0m_parse_thead_tbody_tfoot\u001b[0m\u001b[1;33m(\u001b[0m\u001b[0mtable\u001b[0m\u001b[1;33m)\u001b[0m \u001b[1;32mfor\u001b[0m \u001b[0mtable\u001b[0m \u001b[1;32min\u001b[0m \u001b[0mtables\u001b[0m\u001b[1;33m)\u001b[0m\u001b[1;33m\u001b[0m\u001b[1;33m\u001b[0m\u001b[0m\n\u001b[0;32m    215\u001b[0m \u001b[1;33m\u001b[0m\u001b[0m\n",
      "\u001b[1;32mC:\\ieu\\Anaconda3\\envs\\spark\\lib\\site-packages\\pandas\\io\\html.py\u001b[0m in \u001b[0;36m_build_doc\u001b[1;34m(self)\u001b[0m\n\u001b[0;32m    731\u001b[0m                     \u001b[1;32mpass\u001b[0m\u001b[1;33m\u001b[0m\u001b[1;33m\u001b[0m\u001b[0m\n\u001b[0;32m    732\u001b[0m             \u001b[1;32melse\u001b[0m\u001b[1;33m:\u001b[0m\u001b[1;33m\u001b[0m\u001b[1;33m\u001b[0m\u001b[0m\n\u001b[1;32m--> 733\u001b[1;33m                 \u001b[1;32mraise\u001b[0m \u001b[0me\u001b[0m\u001b[1;33m\u001b[0m\u001b[1;33m\u001b[0m\u001b[0m\n\u001b[0m\u001b[0;32m    734\u001b[0m         \u001b[1;32melse\u001b[0m\u001b[1;33m:\u001b[0m\u001b[1;33m\u001b[0m\u001b[1;33m\u001b[0m\u001b[0m\n\u001b[0;32m    735\u001b[0m             \u001b[1;32mif\u001b[0m \u001b[1;32mnot\u001b[0m \u001b[0mhasattr\u001b[0m\u001b[1;33m(\u001b[0m\u001b[0mr\u001b[0m\u001b[1;33m,\u001b[0m \u001b[1;34m\"text_content\"\u001b[0m\u001b[1;33m)\u001b[0m\u001b[1;33m:\u001b[0m\u001b[1;33m\u001b[0m\u001b[1;33m\u001b[0m\u001b[0m\n",
      "\u001b[1;32mC:\\ieu\\Anaconda3\\envs\\spark\\lib\\site-packages\\pandas\\io\\html.py\u001b[0m in \u001b[0;36m_build_doc\u001b[1;34m(self)\u001b[0m\n\u001b[0;32m    712\u001b[0m         \u001b[1;32mtry\u001b[0m\u001b[1;33m:\u001b[0m\u001b[1;33m\u001b[0m\u001b[1;33m\u001b[0m\u001b[0m\n\u001b[0;32m    713\u001b[0m             \u001b[1;32mif\u001b[0m \u001b[0mis_url\u001b[0m\u001b[1;33m(\u001b[0m\u001b[0mself\u001b[0m\u001b[1;33m.\u001b[0m\u001b[0mio\u001b[0m\u001b[1;33m)\u001b[0m\u001b[1;33m:\u001b[0m\u001b[1;33m\u001b[0m\u001b[1;33m\u001b[0m\u001b[0m\n\u001b[1;32m--> 714\u001b[1;33m                 \u001b[1;32mwith\u001b[0m \u001b[0murlopen\u001b[0m\u001b[1;33m(\u001b[0m\u001b[0mself\u001b[0m\u001b[1;33m.\u001b[0m\u001b[0mio\u001b[0m\u001b[1;33m)\u001b[0m \u001b[1;32mas\u001b[0m \u001b[0mf\u001b[0m\u001b[1;33m:\u001b[0m\u001b[1;33m\u001b[0m\u001b[1;33m\u001b[0m\u001b[0m\n\u001b[0m\u001b[0;32m    715\u001b[0m                     \u001b[0mr\u001b[0m \u001b[1;33m=\u001b[0m \u001b[0mparse\u001b[0m\u001b[1;33m(\u001b[0m\u001b[0mf\u001b[0m\u001b[1;33m,\u001b[0m \u001b[0mparser\u001b[0m\u001b[1;33m=\u001b[0m\u001b[0mparser\u001b[0m\u001b[1;33m)\u001b[0m\u001b[1;33m\u001b[0m\u001b[1;33m\u001b[0m\u001b[0m\n\u001b[0;32m    716\u001b[0m             \u001b[1;32melse\u001b[0m\u001b[1;33m:\u001b[0m\u001b[1;33m\u001b[0m\u001b[1;33m\u001b[0m\u001b[0m\n",
      "\u001b[1;32mC:\\ieu\\Anaconda3\\envs\\spark\\lib\\site-packages\\pandas\\io\\common.py\u001b[0m in \u001b[0;36murlopen\u001b[1;34m(*args, **kwargs)\u001b[0m\n\u001b[0;32m    139\u001b[0m     \u001b[1;32mimport\u001b[0m \u001b[0murllib\u001b[0m\u001b[1;33m.\u001b[0m\u001b[0mrequest\u001b[0m\u001b[1;33m\u001b[0m\u001b[1;33m\u001b[0m\u001b[0m\n\u001b[0;32m    140\u001b[0m \u001b[1;33m\u001b[0m\u001b[0m\n\u001b[1;32m--> 141\u001b[1;33m     \u001b[1;32mreturn\u001b[0m \u001b[0murllib\u001b[0m\u001b[1;33m.\u001b[0m\u001b[0mrequest\u001b[0m\u001b[1;33m.\u001b[0m\u001b[0murlopen\u001b[0m\u001b[1;33m(\u001b[0m\u001b[1;33m*\u001b[0m\u001b[0margs\u001b[0m\u001b[1;33m,\u001b[0m \u001b[1;33m**\u001b[0m\u001b[0mkwargs\u001b[0m\u001b[1;33m)\u001b[0m\u001b[1;33m\u001b[0m\u001b[1;33m\u001b[0m\u001b[0m\n\u001b[0m\u001b[0;32m    142\u001b[0m \u001b[1;33m\u001b[0m\u001b[0m\n\u001b[0;32m    143\u001b[0m \u001b[1;33m\u001b[0m\u001b[0m\n",
      "\u001b[1;32mC:\\ieu\\Anaconda3\\envs\\spark\\lib\\urllib\\request.py\u001b[0m in \u001b[0;36murlopen\u001b[1;34m(url, data, timeout, cafile, capath, cadefault, context)\u001b[0m\n\u001b[0;32m    220\u001b[0m     \u001b[1;32melse\u001b[0m\u001b[1;33m:\u001b[0m\u001b[1;33m\u001b[0m\u001b[1;33m\u001b[0m\u001b[0m\n\u001b[0;32m    221\u001b[0m         \u001b[0mopener\u001b[0m \u001b[1;33m=\u001b[0m \u001b[0m_opener\u001b[0m\u001b[1;33m\u001b[0m\u001b[1;33m\u001b[0m\u001b[0m\n\u001b[1;32m--> 222\u001b[1;33m     \u001b[1;32mreturn\u001b[0m \u001b[0mopener\u001b[0m\u001b[1;33m.\u001b[0m\u001b[0mopen\u001b[0m\u001b[1;33m(\u001b[0m\u001b[0murl\u001b[0m\u001b[1;33m,\u001b[0m \u001b[0mdata\u001b[0m\u001b[1;33m,\u001b[0m \u001b[0mtimeout\u001b[0m\u001b[1;33m)\u001b[0m\u001b[1;33m\u001b[0m\u001b[1;33m\u001b[0m\u001b[0m\n\u001b[0m\u001b[0;32m    223\u001b[0m \u001b[1;33m\u001b[0m\u001b[0m\n\u001b[0;32m    224\u001b[0m \u001b[1;32mdef\u001b[0m \u001b[0minstall_opener\u001b[0m\u001b[1;33m(\u001b[0m\u001b[0mopener\u001b[0m\u001b[1;33m)\u001b[0m\u001b[1;33m:\u001b[0m\u001b[1;33m\u001b[0m\u001b[1;33m\u001b[0m\u001b[0m\n",
      "\u001b[1;32mC:\\ieu\\Anaconda3\\envs\\spark\\lib\\urllib\\request.py\u001b[0m in \u001b[0;36mopen\u001b[1;34m(self, fullurl, data, timeout)\u001b[0m\n\u001b[0;32m    529\u001b[0m         \u001b[1;32mfor\u001b[0m \u001b[0mprocessor\u001b[0m \u001b[1;32min\u001b[0m \u001b[0mself\u001b[0m\u001b[1;33m.\u001b[0m\u001b[0mprocess_response\u001b[0m\u001b[1;33m.\u001b[0m\u001b[0mget\u001b[0m\u001b[1;33m(\u001b[0m\u001b[0mprotocol\u001b[0m\u001b[1;33m,\u001b[0m \u001b[1;33m[\u001b[0m\u001b[1;33m]\u001b[0m\u001b[1;33m)\u001b[0m\u001b[1;33m:\u001b[0m\u001b[1;33m\u001b[0m\u001b[1;33m\u001b[0m\u001b[0m\n\u001b[0;32m    530\u001b[0m             \u001b[0mmeth\u001b[0m \u001b[1;33m=\u001b[0m \u001b[0mgetattr\u001b[0m\u001b[1;33m(\u001b[0m\u001b[0mprocessor\u001b[0m\u001b[1;33m,\u001b[0m \u001b[0mmeth_name\u001b[0m\u001b[1;33m)\u001b[0m\u001b[1;33m\u001b[0m\u001b[1;33m\u001b[0m\u001b[0m\n\u001b[1;32m--> 531\u001b[1;33m             \u001b[0mresponse\u001b[0m \u001b[1;33m=\u001b[0m \u001b[0mmeth\u001b[0m\u001b[1;33m(\u001b[0m\u001b[0mreq\u001b[0m\u001b[1;33m,\u001b[0m \u001b[0mresponse\u001b[0m\u001b[1;33m)\u001b[0m\u001b[1;33m\u001b[0m\u001b[1;33m\u001b[0m\u001b[0m\n\u001b[0m\u001b[0;32m    532\u001b[0m \u001b[1;33m\u001b[0m\u001b[0m\n\u001b[0;32m    533\u001b[0m         \u001b[1;32mreturn\u001b[0m \u001b[0mresponse\u001b[0m\u001b[1;33m\u001b[0m\u001b[1;33m\u001b[0m\u001b[0m\n",
      "\u001b[1;32mC:\\ieu\\Anaconda3\\envs\\spark\\lib\\urllib\\request.py\u001b[0m in \u001b[0;36mhttp_response\u001b[1;34m(self, request, response)\u001b[0m\n\u001b[0;32m    639\u001b[0m         \u001b[1;32mif\u001b[0m \u001b[1;32mnot\u001b[0m \u001b[1;33m(\u001b[0m\u001b[1;36m200\u001b[0m \u001b[1;33m<=\u001b[0m \u001b[0mcode\u001b[0m \u001b[1;33m<\u001b[0m \u001b[1;36m300\u001b[0m\u001b[1;33m)\u001b[0m\u001b[1;33m:\u001b[0m\u001b[1;33m\u001b[0m\u001b[1;33m\u001b[0m\u001b[0m\n\u001b[0;32m    640\u001b[0m             response = self.parent.error(\n\u001b[1;32m--> 641\u001b[1;33m                 'http', request, response, code, msg, hdrs)\n\u001b[0m\u001b[0;32m    642\u001b[0m \u001b[1;33m\u001b[0m\u001b[0m\n\u001b[0;32m    643\u001b[0m         \u001b[1;32mreturn\u001b[0m \u001b[0mresponse\u001b[0m\u001b[1;33m\u001b[0m\u001b[1;33m\u001b[0m\u001b[0m\n",
      "\u001b[1;32mC:\\ieu\\Anaconda3\\envs\\spark\\lib\\urllib\\request.py\u001b[0m in \u001b[0;36merror\u001b[1;34m(self, proto, *args)\u001b[0m\n\u001b[0;32m    567\u001b[0m         \u001b[1;32mif\u001b[0m \u001b[0mhttp_err\u001b[0m\u001b[1;33m:\u001b[0m\u001b[1;33m\u001b[0m\u001b[1;33m\u001b[0m\u001b[0m\n\u001b[0;32m    568\u001b[0m             \u001b[0margs\u001b[0m \u001b[1;33m=\u001b[0m \u001b[1;33m(\u001b[0m\u001b[0mdict\u001b[0m\u001b[1;33m,\u001b[0m \u001b[1;34m'default'\u001b[0m\u001b[1;33m,\u001b[0m \u001b[1;34m'http_error_default'\u001b[0m\u001b[1;33m)\u001b[0m \u001b[1;33m+\u001b[0m \u001b[0morig_args\u001b[0m\u001b[1;33m\u001b[0m\u001b[1;33m\u001b[0m\u001b[0m\n\u001b[1;32m--> 569\u001b[1;33m             \u001b[1;32mreturn\u001b[0m \u001b[0mself\u001b[0m\u001b[1;33m.\u001b[0m\u001b[0m_call_chain\u001b[0m\u001b[1;33m(\u001b[0m\u001b[1;33m*\u001b[0m\u001b[0margs\u001b[0m\u001b[1;33m)\u001b[0m\u001b[1;33m\u001b[0m\u001b[1;33m\u001b[0m\u001b[0m\n\u001b[0m\u001b[0;32m    570\u001b[0m \u001b[1;33m\u001b[0m\u001b[0m\n\u001b[0;32m    571\u001b[0m \u001b[1;31m# XXX probably also want an abstract factory that knows when it makes\u001b[0m\u001b[1;33m\u001b[0m\u001b[1;33m\u001b[0m\u001b[1;33m\u001b[0m\u001b[0m\n",
      "\u001b[1;32mC:\\ieu\\Anaconda3\\envs\\spark\\lib\\urllib\\request.py\u001b[0m in \u001b[0;36m_call_chain\u001b[1;34m(self, chain, kind, meth_name, *args)\u001b[0m\n\u001b[0;32m    501\u001b[0m         \u001b[1;32mfor\u001b[0m \u001b[0mhandler\u001b[0m \u001b[1;32min\u001b[0m \u001b[0mhandlers\u001b[0m\u001b[1;33m:\u001b[0m\u001b[1;33m\u001b[0m\u001b[1;33m\u001b[0m\u001b[0m\n\u001b[0;32m    502\u001b[0m             \u001b[0mfunc\u001b[0m \u001b[1;33m=\u001b[0m \u001b[0mgetattr\u001b[0m\u001b[1;33m(\u001b[0m\u001b[0mhandler\u001b[0m\u001b[1;33m,\u001b[0m \u001b[0mmeth_name\u001b[0m\u001b[1;33m)\u001b[0m\u001b[1;33m\u001b[0m\u001b[1;33m\u001b[0m\u001b[0m\n\u001b[1;32m--> 503\u001b[1;33m             \u001b[0mresult\u001b[0m \u001b[1;33m=\u001b[0m \u001b[0mfunc\u001b[0m\u001b[1;33m(\u001b[0m\u001b[1;33m*\u001b[0m\u001b[0margs\u001b[0m\u001b[1;33m)\u001b[0m\u001b[1;33m\u001b[0m\u001b[1;33m\u001b[0m\u001b[0m\n\u001b[0m\u001b[0;32m    504\u001b[0m             \u001b[1;32mif\u001b[0m \u001b[0mresult\u001b[0m \u001b[1;32mis\u001b[0m \u001b[1;32mnot\u001b[0m \u001b[1;32mNone\u001b[0m\u001b[1;33m:\u001b[0m\u001b[1;33m\u001b[0m\u001b[1;33m\u001b[0m\u001b[0m\n\u001b[0;32m    505\u001b[0m                 \u001b[1;32mreturn\u001b[0m \u001b[0mresult\u001b[0m\u001b[1;33m\u001b[0m\u001b[1;33m\u001b[0m\u001b[0m\n",
      "\u001b[1;32mC:\\ieu\\Anaconda3\\envs\\spark\\lib\\urllib\\request.py\u001b[0m in \u001b[0;36mhttp_error_default\u001b[1;34m(self, req, fp, code, msg, hdrs)\u001b[0m\n\u001b[0;32m    647\u001b[0m \u001b[1;32mclass\u001b[0m \u001b[0mHTTPDefaultErrorHandler\u001b[0m\u001b[1;33m(\u001b[0m\u001b[0mBaseHandler\u001b[0m\u001b[1;33m)\u001b[0m\u001b[1;33m:\u001b[0m\u001b[1;33m\u001b[0m\u001b[1;33m\u001b[0m\u001b[0m\n\u001b[0;32m    648\u001b[0m     \u001b[1;32mdef\u001b[0m \u001b[0mhttp_error_default\u001b[0m\u001b[1;33m(\u001b[0m\u001b[0mself\u001b[0m\u001b[1;33m,\u001b[0m \u001b[0mreq\u001b[0m\u001b[1;33m,\u001b[0m \u001b[0mfp\u001b[0m\u001b[1;33m,\u001b[0m \u001b[0mcode\u001b[0m\u001b[1;33m,\u001b[0m \u001b[0mmsg\u001b[0m\u001b[1;33m,\u001b[0m \u001b[0mhdrs\u001b[0m\u001b[1;33m)\u001b[0m\u001b[1;33m:\u001b[0m\u001b[1;33m\u001b[0m\u001b[1;33m\u001b[0m\u001b[0m\n\u001b[1;32m--> 649\u001b[1;33m         \u001b[1;32mraise\u001b[0m \u001b[0mHTTPError\u001b[0m\u001b[1;33m(\u001b[0m\u001b[0mreq\u001b[0m\u001b[1;33m.\u001b[0m\u001b[0mfull_url\u001b[0m\u001b[1;33m,\u001b[0m \u001b[0mcode\u001b[0m\u001b[1;33m,\u001b[0m \u001b[0mmsg\u001b[0m\u001b[1;33m,\u001b[0m \u001b[0mhdrs\u001b[0m\u001b[1;33m,\u001b[0m \u001b[0mfp\u001b[0m\u001b[1;33m)\u001b[0m\u001b[1;33m\u001b[0m\u001b[1;33m\u001b[0m\u001b[0m\n\u001b[0m\u001b[0;32m    650\u001b[0m \u001b[1;33m\u001b[0m\u001b[0m\n\u001b[0;32m    651\u001b[0m \u001b[1;32mclass\u001b[0m \u001b[0mHTTPRedirectHandler\u001b[0m\u001b[1;33m(\u001b[0m\u001b[0mBaseHandler\u001b[0m\u001b[1;33m)\u001b[0m\u001b[1;33m:\u001b[0m\u001b[1;33m\u001b[0m\u001b[1;33m\u001b[0m\u001b[0m\n",
      "\u001b[1;31mHTTPError\u001b[0m: HTTP Error 404: Not Found"
     ]
    }
   ],
   "source": [
    "aacob = yf.Ticker(\"AAC\")\n",
    "aacob.info"
   ]
  },
  {
   "cell_type": "markdown",
   "metadata": {},
   "source": [
    "quotes for delisted companies\n",
    "\n",
    "https://www.quantshare.com/item-81-historical-quotes-for-delisted-us-stocks\n",
    "https://money.stackexchange.com/questions/18723/how-to-find-historical-stock-price-for-a-de-listed-or-defunct-company"
   ]
  }
 ],
 "metadata": {
  "kernelspec": {
   "display_name": "Python 3",
   "language": "python",
   "name": "python3"
  }
 },
 "nbformat": 4,
 "nbformat_minor": 4
}
