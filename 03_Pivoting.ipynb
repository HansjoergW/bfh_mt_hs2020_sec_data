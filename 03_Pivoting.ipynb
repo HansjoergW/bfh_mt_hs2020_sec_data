{
 "cells": [
  {
   "cell_type": "code",
   "execution_count": null,
   "metadata": {},
   "outputs": [],
   "source": [
    "# default_exp pivoting"
   ]
  },
  {
   "cell_type": "code",
   "execution_count": null,
   "metadata": {},
   "outputs": [],
   "source": [
    "#hide\n",
    "from nbdev.showdoc import *"
   ]
  },
  {
   "cell_type": "code",
   "execution_count": null,
   "metadata": {},
   "outputs": [],
   "source": [
    "#hide\n",
    "# stellt sicher, dass beim verändern der core library diese wieder neu geladen wird\n",
    "%load_ext autoreload\n",
    "%autoreload 2"
   ]
  },
  {
   "cell_type": "markdown",
   "metadata": {},
   "source": [
    "# pivoting"
   ]
  },
  {
   "cell_type": "markdown",
   "metadata": {},
   "source": [
    "Um was gehts\n",
    "- Wie sollen die Daten aufbereitet werden, so dass wir möglichst gut ergänzen können?\n",
    "- möghlichst wenig daten?\n",
    "- möglichst alle notwendigen Informationen\n",
    "- möglichst ideal gruppiert\n",
    "\n",
    "Idee:\n",
    "mehrere pivotierte Tabellen (immer pro Statement typ)\n",
    "- 1. mit Werten\n",
    "- 2. mit Statement\n",
    "- 3. mit Zeile im Statement\n",
    "\n",
    "Alle Sätze separat ablegen.. \n",
    "vorerst alle Attribute mitnehmen, die existieren\n",
    "\n",
    "Statement types\n",
    "\n",
    "- IS: IncomeStatement\n",
    "- CF: CashFlow\n",
    "- BS: BalanceSheet\n",
    "- CI: Comprehensive Income\n",
    "- EQ: Equity\n",
    "- CP: CoverPage\n",
    "- UN: Unclassifiable Statement\n",
    "\n",
    "Erwartete  Grössen:\n",
    "-   IS   4559669\n",
    "-   CF   4435322\n",
    "-   BS   4821120\n",
    "-   CI    850503\n",
    "-   EQ    899115\n",
    "-   CP     13408\n",
    "-   UN     71711"
   ]
  },
  {
   "cell_type": "markdown",
   "metadata": {},
   "source": [
    "## Basic Settings"
   ]
  },
  {
   "cell_type": "code",
   "execution_count": null,
   "metadata": {},
   "outputs": [],
   "source": [
    "# imports\n",
    "from bfh_mt_hs2020_sec_data.core import get_spark_session # initialze spark\n",
    "from pathlib import Path\n",
    "from typing import List, Tuple, Union, Set\n",
    "from pyspark.sql.dataframe import DataFrame\n",
    "from pyspark.sql.functions import col\n",
    "\n",
    "import pandas as pd\n",
    "\n",
    "import shutil          # provides high level file operations\n",
    "import time            # used to measure execution time\n",
    "import os\n",
    "import sys"
   ]
  },
  {
   "cell_type": "code",
   "execution_count": null,
   "metadata": {},
   "outputs": [],
   "source": [
    "all_filtered_folder        = \"D:/data/parq_filtered\"\n",
    "all_pivot_selected_folder  = \"D:/data/parq_pivot_select\"\n",
    "all_pivoted_folder         = \"D:/data/parq_pivot_split\""
   ]
  },
  {
   "cell_type": "code",
   "execution_count": null,
   "metadata": {},
   "outputs": [
    {
     "data": {
      "text/html": [
       "\n",
       "            <div>\n",
       "                <p><b>SparkSession - in-memory</b></p>\n",
       "                \n",
       "        <div>\n",
       "            <p><b>SparkContext</b></p>\n",
       "\n",
       "            <p><a href=\"http://192.168.0.163:4041\">Spark UI</a></p>\n",
       "\n",
       "            <dl>\n",
       "              <dt>Version</dt>\n",
       "                <dd><code>v2.4.5</code></dd>\n",
       "              <dt>Master</dt>\n",
       "                <dd><code>local[*]</code></dd>\n",
       "              <dt>AppName</dt>\n",
       "                <dd><code>default</code></dd>\n",
       "            </dl>\n",
       "        </div>\n",
       "        \n",
       "            </div>\n",
       "        "
      ],
      "text/plain": [
       "<pyspark.sql.session.SparkSession at 0x1301a7121c8>"
      ]
     },
     "execution_count": null,
     "metadata": {},
     "output_type": "execute_result"
    }
   ],
   "source": [
    "# init Spark\n",
    "spark = get_spark_session() # Session anlegen\n",
    "spark # display the moste important information of the session"
   ]
  },
  {
   "cell_type": "markdown",
   "metadata": {},
   "source": [
    "## 01_Load Data"
   ]
  },
  {
   "cell_type": "markdown",
   "metadata": {},
   "source": [
    "**only execute if necessary**"
   ]
  },
  {
   "cell_type": "code",
   "execution_count": null,
   "metadata": {},
   "outputs": [],
   "source": [
    "df_all = spark.read.parquet(all_filtered_folder).cache()"
   ]
  },
  {
   "cell_type": "code",
   "execution_count": null,
   "metadata": {},
   "outputs": [
    {
     "name": "stdout",
     "output_type": "stream",
     "text": [
      "Entries:  15_650_848\n",
      "duration:  96.77243518829346\n"
     ]
    }
   ],
   "source": [
    "# Expected Amount of Data\n",
    "# Entries:  15_650_848\n",
    "# duration:  66 sec\n",
    "\n",
    "# load all data into memory\n",
    "start = time.time()\n",
    "print(\"Entries: \", \"{:_}\".format(df_all.count())) # loading all dataset into memory\n",
    "duration = time.time() - start\n",
    "print(\"duration: \", duration)"
   ]
  },
  {
   "cell_type": "code",
   "execution_count": null,
   "metadata": {},
   "outputs": [
    {
     "name": "stdout",
     "output_type": "stream",
     "text": [
      "   stmt     count\n",
      "0    IS   4559669\n",
      "1  None  15650848\n",
      "2    UN     71711\n",
      "3    CF   4435322\n",
      "4    CP     13408\n",
      "5    BS   4821120\n",
      "6    CI    850503\n",
      "7    EQ    899115\n"
     ]
    }
   ],
   "source": [
    "p_df_prim_fin_rep_count = df_all.cube('stmt').count().toPandas()\n",
    "print(p_df_prim_fin_rep_count)"
   ]
  },
  {
   "cell_type": "markdown",
   "metadata": {},
   "source": [
    "## 02_Select"
   ]
  },
  {
   "cell_type": "markdown",
   "metadata": {},
   "source": [
    "only keep relevant columns"
   ]
  },
  {
   "cell_type": "markdown",
   "metadata": {},
   "source": [
    "**only execute if necessary**"
   ]
  },
  {
   "cell_type": "code",
   "execution_count": null,
   "metadata": {},
   "outputs": [],
   "source": [
    "df_all_selected = df_all.select([\"stmt\",\"cik\",\"ticker\", \"adsh\",\"period\",\"form\",\"tag\",\"value\",\"report\", \"line\", \"fp\", \"uom\"])"
   ]
  },
  {
   "cell_type": "code",
   "execution_count": null,
   "metadata": {},
   "outputs": [],
   "source": [
    "shutil.rmtree(all_pivot_selected_folder,  ignore_errors=True)\n",
    "df_all_selected.write.parquet(all_pivot_selected_folder)"
   ]
  },
  {
   "cell_type": "code",
   "execution_count": null,
   "metadata": {},
   "outputs": [],
   "source": [
    "# produziert 1.5 GB CSV Datei unkomprimiert\n",
    "# df_all_selected.toPandas().to_csv(\"./data/pivot_select.csv\",index=False,header=True)"
   ]
  },
  {
   "cell_type": "markdown",
   "metadata": {},
   "source": [
    "## 03_Pivoting"
   ]
  },
  {
   "cell_type": "code",
   "execution_count": null,
   "metadata": {},
   "outputs": [],
   "source": [
    "df_all_selected = spark.read.parquet(all_pivot_selected_folder).cache()"
   ]
  },
  {
   "cell_type": "code",
   "execution_count": null,
   "metadata": {},
   "outputs": [
    {
     "name": "stdout",
     "output_type": "stream",
     "text": [
      "Entries:  15_650_848\n",
      "duration:  16.718958616256714\n"
     ]
    }
   ],
   "source": [
    "# Expected Amount of Data\n",
    "# Entries:  15_650_848\n",
    "# duration:  23 sec\n",
    "\n",
    "# load all data into memory\n",
    "start = time.time()\n",
    "print(\"Entries: \", \"{:_}\".format(df_all_selected.count())) # loading all dataset into memory\n",
    "duration = time.time() - start\n",
    "print(\"duration: \", duration)"
   ]
  },
  {
   "cell_type": "code",
   "execution_count": null,
   "metadata": {},
   "outputs": [],
   "source": [
    "pivot_attrs = ['value', 'report', 'line']\n",
    "\n",
    "def pivot_statement(all_data_df, statement:str):\n",
    "    all_stmt_data = all_data_df.where(\"stmt == '\" + statement + \"'\").cache()\n",
    "    \n",
    "    shutil.rmtree(all_pivoted_folder + \"/\" + statement,  ignore_errors=True)\n",
    "    \n",
    "    grouped_df = all_stmt_data.groupby([\"cik\",\"ticker\",\"adsh\",\"form\",\"period\",\"fp\"])\n",
    "    \n",
    "    for attr in pivot_attrs:\n",
    "        pivoted_df = grouped_df.pivot(\"tag\").max(attr)\n",
    "        pivoted_df.repartition(1).write.parquet(all_pivoted_folder + \"/\" + statement + \"/\" + attr)\n",
    "        \n",
    "    all_stmt_data.unpersist()"
   ]
  },
  {
   "cell_type": "code",
   "execution_count": null,
   "metadata": {},
   "outputs": [],
   "source": [
    "def pivot_statements(all_data_df, statements):\n",
    "    for stmt in statements:\n",
    "        print (stmt)\n",
    "        pivot_statement(all_data_df, statement=stmt)"
   ]
  },
  {
   "cell_type": "markdown",
   "metadata": {},
   "source": [
    "## 99_Execution"
   ]
  },
  {
   "cell_type": "code",
   "execution_count": null,
   "metadata": {},
   "outputs": [
    {
     "name": "stdout",
     "output_type": "stream",
     "text": [
      "UN\n"
     ]
    },
    {
     "ename": "AttributeError",
     "evalue": "'GroupedData' object has no attribute 'unpersist'",
     "output_type": "error",
     "traceback": [
      "\u001b[1;31m---------------------------------------------------------------------------\u001b[0m",
      "\u001b[1;31mAttributeError\u001b[0m                            Traceback (most recent call last)",
      "\u001b[1;32m<ipython-input-24-9fa5a6da2002>\u001b[0m in \u001b[0;36m<module>\u001b[1;34m\u001b[0m\n\u001b[0;32m      1\u001b[0m \u001b[1;31m#statements = ['IS','CF','CP','BS','CI','EQ','UN']\u001b[0m\u001b[1;33m\u001b[0m\u001b[1;33m\u001b[0m\u001b[1;33m\u001b[0m\u001b[0m\n\u001b[0;32m      2\u001b[0m \u001b[0mstatements\u001b[0m \u001b[1;33m=\u001b[0m \u001b[1;33m[\u001b[0m\u001b[1;34m'UN'\u001b[0m\u001b[1;33m]\u001b[0m\u001b[1;33m\u001b[0m\u001b[1;33m\u001b[0m\u001b[0m\n\u001b[1;32m----> 3\u001b[1;33m \u001b[0mpivot_statements\u001b[0m\u001b[1;33m(\u001b[0m\u001b[0mdf_all_selected\u001b[0m\u001b[1;33m,\u001b[0m \u001b[0mstatements\u001b[0m\u001b[1;33m)\u001b[0m\u001b[1;33m\u001b[0m\u001b[1;33m\u001b[0m\u001b[0m\n\u001b[0m",
      "\u001b[1;32m<ipython-input-23-60c8245c9b0c>\u001b[0m in \u001b[0;36mpivot_statements\u001b[1;34m(all_data_df, statements)\u001b[0m\n\u001b[0;32m      2\u001b[0m     \u001b[1;32mfor\u001b[0m \u001b[0mstmt\u001b[0m \u001b[1;32min\u001b[0m \u001b[0mstatements\u001b[0m\u001b[1;33m:\u001b[0m\u001b[1;33m\u001b[0m\u001b[1;33m\u001b[0m\u001b[0m\n\u001b[0;32m      3\u001b[0m         \u001b[0mprint\u001b[0m \u001b[1;33m(\u001b[0m\u001b[0mstmt\u001b[0m\u001b[1;33m)\u001b[0m\u001b[1;33m\u001b[0m\u001b[1;33m\u001b[0m\u001b[0m\n\u001b[1;32m----> 4\u001b[1;33m         \u001b[0mpivot_statement\u001b[0m\u001b[1;33m(\u001b[0m\u001b[0mall_data_df\u001b[0m\u001b[1;33m,\u001b[0m \u001b[0mstatement\u001b[0m\u001b[1;33m=\u001b[0m\u001b[0mstmt\u001b[0m\u001b[1;33m)\u001b[0m\u001b[1;33m\u001b[0m\u001b[1;33m\u001b[0m\u001b[0m\n\u001b[0m",
      "\u001b[1;32m<ipython-input-22-3ad694a058d5>\u001b[0m in \u001b[0;36mpivot_statement\u001b[1;34m(all_data_df, statement)\u001b[0m\n\u001b[0;32m     12\u001b[0m         \u001b[0mpivoted_df\u001b[0m\u001b[1;33m.\u001b[0m\u001b[0mrepartition\u001b[0m\u001b[1;33m(\u001b[0m\u001b[1;36m1\u001b[0m\u001b[1;33m)\u001b[0m\u001b[1;33m.\u001b[0m\u001b[0mwrite\u001b[0m\u001b[1;33m.\u001b[0m\u001b[0mparquet\u001b[0m\u001b[1;33m(\u001b[0m\u001b[0mall_pivoted_folder\u001b[0m \u001b[1;33m+\u001b[0m \u001b[1;34m\"/\"\u001b[0m \u001b[1;33m+\u001b[0m \u001b[0mstatement\u001b[0m \u001b[1;33m+\u001b[0m \u001b[1;34m\"/\"\u001b[0m \u001b[1;33m+\u001b[0m \u001b[0mattr\u001b[0m\u001b[1;33m)\u001b[0m\u001b[1;33m\u001b[0m\u001b[1;33m\u001b[0m\u001b[0m\n\u001b[0;32m     13\u001b[0m \u001b[1;33m\u001b[0m\u001b[0m\n\u001b[1;32m---> 14\u001b[1;33m     \u001b[0mgrouped_df\u001b[0m\u001b[1;33m.\u001b[0m\u001b[0munpersist\u001b[0m\u001b[1;33m(\u001b[0m\u001b[1;33m)\u001b[0m\u001b[1;33m\u001b[0m\u001b[1;33m\u001b[0m\u001b[0m\n\u001b[0m",
      "\u001b[1;31mAttributeError\u001b[0m: 'GroupedData' object has no attribute 'unpersist'"
     ]
    }
   ],
   "source": [
    "#statements = ['IS','CF','CP','BS','CI','EQ','UN']\n",
    "statements = ['UN']\n",
    "pivot_statements(df_all_selected, statements)"
   ]
  },
  {
   "cell_type": "code",
   "execution_count": null,
   "metadata": {},
   "outputs": [],
   "source": [
    "spark.stop()"
   ]
  },
  {
   "cell_type": "code",
   "execution_count": null,
   "metadata": {},
   "outputs": [],
   "source": [
    "df_all_selected.where(\"stmt = 'UN'\").select(\"cik\",\"ticker\",\"adsh\",\"form\",\"period\",\"fp\").show()"
   ]
  },
  {
   "cell_type": "code",
   "execution_count": null,
   "metadata": {},
   "outputs": [],
   "source": []
  }
 ],
 "metadata": {
  "kernelspec": {
   "display_name": "Python 3",
   "language": "python",
   "name": "python3"
  }
 },
 "nbformat": 4,
 "nbformat_minor": 4
}
