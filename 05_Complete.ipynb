{
 "cells": [
  {
   "cell_type": "code",
   "execution_count": null,
   "metadata": {},
   "outputs": [],
   "source": [
    "# default_exp complete"
   ]
  },
  {
   "cell_type": "code",
   "execution_count": null,
   "metadata": {},
   "outputs": [],
   "source": [
    "#hide\n",
    "from nbdev.showdoc import *"
   ]
  },
  {
   "cell_type": "code",
   "execution_count": null,
   "metadata": {},
   "outputs": [],
   "source": [
    "#hide\n",
    "# stellt sicher, dass beim verändern der core library diese wieder neu geladen wird\n",
    "%load_ext autoreload\n",
    "%autoreload 2"
   ]
  },
  {
   "cell_type": "markdown",
   "metadata": {},
   "source": [
    "# Complete"
   ]
  },
  {
   "cell_type": "markdown",
   "metadata": {},
   "source": [
    "## Basic Settings"
   ]
  },
  {
   "cell_type": "code",
   "execution_count": null,
   "metadata": {},
   "outputs": [],
   "source": [
    "# imports\n",
    "from bfh_mt_hs2020_sec_data.core import * \n",
    "from pathlib import Path\n",
    "from typing import List, Tuple, Union, Set\n",
    "\n",
    "import pandas as pd\n",
    "\n",
    "import shutil          # provides high level file operations\n",
    "import time            # used to measure execution time\n",
    "import os\n",
    "import sys\n",
    "\n",
    "import matplotlib.pyplot as plt\n",
    "import seaborn as sns; sns.set()"
   ]
  },
  {
   "cell_type": "code",
   "execution_count": null,
   "metadata": {},
   "outputs": [],
   "source": [
    "all_processed_folder       = \"D:/data_mt/04_unified/\"\n",
    "all_completed_folder       = \"D:/data_mt/05_completed/\"\n",
    "\n",
    "all_data_local_folder = \"./data/\"\n",
    "\n",
    "pivot_group = [\"cik\",\"ticker\",\"adsh\",\"period\",\"filed\",\"form\",\"qtrs\",\"fp\"]\n",
    "analyze_fields = [\"value_count\",\"null_count\",\"difference\"]"
   ]
  },
  {
   "cell_type": "markdown",
   "metadata": {},
   "source": [
    "## 00_Tools"
   ]
  },
  {
   "cell_type": "code",
   "execution_count": null,
   "metadata": {},
   "outputs": [],
   "source": [
    "def count_null(df: pd.DataFrame):\n",
    "    columns = list(df.columns)\n",
    "    value_cols = set(columns) -  set(pivot_group)\n",
    "    value_cols = value_cols -  set(analyze_fields)\n",
    "    \n",
    "    df['value_count'] = df[value_cols].notnull().sum(axis=1)\n",
    "    df['null_count'] = df[value_cols].isnull().sum(axis=1)\n",
    "    \n",
    "    print(\"lines with missing values: \", df[df.null_count > 0].shape[0])"
   ]
  },
  {
   "cell_type": "code",
   "execution_count": null,
   "metadata": {},
   "outputs": [],
   "source": [
    "def load_data(stmt:str) -> pd.DataFrame:\n",
    "    df = pd.read_csv(all_processed_folder + \"04_\" + stmt + \"_unified.csv\")\n",
    "    df.period = pd.to_datetime(df.period)\n",
    "    df.filed = pd.to_datetime(df.filed)\n",
    "    \n",
    "    return df"
   ]
  },
  {
   "cell_type": "code",
   "execution_count": null,
   "metadata": {},
   "outputs": [],
   "source": [
    "def check_number_of_reports(df: pd.DataFrame):\n",
    "    \"\"\"\n",
    "    check if there is only one entry per report (unique adsh)\n",
    "    \"\"\"\n",
    "    print(\"is there just one report per ADSH: \", len(df.adsh.unique()) == df.shape[0])"
   ]
  },
  {
   "cell_type": "code",
   "execution_count": null,
   "metadata": {},
   "outputs": [],
   "source": [
    "def missing_value_report(df: pd.DataFrame):\n",
    "    df_missing = df[df.null_count > 0]\n",
    "    print(df_missing.shape[0])\n",
    "    sns.catplot(x='null_count', kind='count', data=df_missing)"
   ]
  },
  {
   "cell_type": "markdown",
   "metadata": {},
   "source": [
    "## 01_Complete BS"
   ]
  },
  {
   "cell_type": "markdown",
   "metadata": {},
   "source": [
    "### load data"
   ]
  },
  {
   "cell_type": "code",
   "execution_count": null,
   "metadata": {},
   "outputs": [
    {
     "name": "stdout",
     "output_type": "stream",
     "text": [
      "lines with missing values:  1301\n"
     ]
    }
   ],
   "source": [
    "bs_df = load_data(\"bs\")\n",
    "count_null(bs_df)"
   ]
  },
  {
   "cell_type": "code",
   "execution_count": null,
   "metadata": {},
   "outputs": [
    {
     "data": {
      "text/plain": [
       "(116519, 18)"
      ]
     },
     "execution_count": null,
     "metadata": {},
     "output_type": "execute_result"
    }
   ],
   "source": [
    "bs_df.shape"
   ]
  },
  {
   "cell_type": "code",
   "execution_count": null,
   "metadata": {},
   "outputs": [
    {
     "name": "stdout",
     "output_type": "stream",
     "text": [
      "is there just one report per ADSH:  True\n"
     ]
    }
   ],
   "source": [
    "check_number_of_reports(bs_df)"
   ]
  },
  {
   "cell_type": "markdown",
   "metadata": {},
   "source": [
    "### complete missing Equity"
   ]
  },
  {
   "cell_type": "code",
   "execution_count": null,
   "metadata": {},
   "outputs": [],
   "source": [
    "# complete c_Equity = Assets - Liabilities\n",
    "do_set_equity = (bs_df.c_Equity.isnull()  & bs_df.Assets.notnull() & bs_df.Liabilities.notnull())\n",
    "bs_df.loc[do_set_equity, 'c_Equity'] = bs_df.loc[do_set_equity, 'Assets'] - bs_df.loc[do_set_equity, 'Liabilities']"
   ]
  },
  {
   "cell_type": "code",
   "execution_count": null,
   "metadata": {},
   "outputs": [
    {
     "name": "stdout",
     "output_type": "stream",
     "text": [
      "lines with missing values:  559\n"
     ]
    }
   ],
   "source": [
    "count_null(bs_df)"
   ]
  },
  {
   "cell_type": "markdown",
   "metadata": {},
   "source": [
    "### complete missing liabilities"
   ]
  },
  {
   "cell_type": "code",
   "execution_count": null,
   "metadata": {},
   "outputs": [],
   "source": [
    "do_set_liab = (bs_df.Assets.notnull()  & bs_df.c_Equity.notnull()  & bs_df.Liabilities.isnull() & bs_df.LiabilitiesCurrent.isnull() & bs_df.LiabilitiesNoncurrent.isnull())\n",
    "bs_df.loc[do_set_liab, 'Liabilities'] = bs_df.loc[do_set_liab, 'Assets'] - bs_df.loc[do_set_liab, 'c_Equity']\n",
    "bs_df.loc[do_set_liab, 'LiabilitiesCurrent'] = bs_df.loc[do_set_liab, 'Liabilities']\n",
    "bs_df.loc[do_set_liab, 'LiabilitiesNoncurrent'] = 0.0"
   ]
  },
  {
   "cell_type": "code",
   "execution_count": null,
   "metadata": {},
   "outputs": [
    {
     "name": "stdout",
     "output_type": "stream",
     "text": [
      "lines with missing values:  282\n"
     ]
    }
   ],
   "source": [
    "count_null(bs_df)"
   ]
  },
  {
   "cell_type": "markdown",
   "metadata": {},
   "source": [
    "### complete missing assets"
   ]
  },
  {
   "cell_type": "code",
   "execution_count": null,
   "metadata": {},
   "outputs": [],
   "source": [
    "do_set_liab = (bs_df.Liabilities.notnull()  & bs_df.c_Equity.notnull()  & bs_df.Assets.isnull() & bs_df.AssetsCurrent.isnull() & bs_df.AssetsNoncurrent.isnull())\n",
    "bs_df.loc[do_set_liab, 'Assets'] = bs_df.loc[do_set_liab, 'Liabilities'] + bs_df.loc[do_set_liab, 'c_Equity']\n",
    "bs_df.loc[do_set_liab, 'AssetsCurrent'] = bs_df.loc[do_set_liab, 'Liabilities']\n",
    "bs_df.loc[do_set_liab, 'AssetsNoncurrent'] = 0.0"
   ]
  },
  {
   "cell_type": "code",
   "execution_count": null,
   "metadata": {},
   "outputs": [
    {
     "name": "stdout",
     "output_type": "stream",
     "text": [
      "lines with missing values:  274\n"
     ]
    }
   ],
   "source": [
    "count_null(bs_df)"
   ]
  },
  {
   "cell_type": "markdown",
   "metadata": {},
   "source": [
    "### save"
   ]
  },
  {
   "cell_type": "code",
   "execution_count": null,
   "metadata": {},
   "outputs": [
    {
     "data": {
      "text/plain": [
       "'./data/05_bs_completed.csv'"
      ]
     },
     "execution_count": null,
     "metadata": {},
     "output_type": "execute_result"
    }
   ],
   "source": [
    "fields_to_drop = set(analyze_fields).intersection(set(bs_df.columns))\n",
    "bs_df.drop(columns=fields_to_drop).to_csv(all_completed_folder + \"05_bs_completed.csv\", index=False)\n",
    "\n",
    "# make copy to directory under git control\n",
    "shutil.copy(all_completed_folder + \"05_bs_completed.csv\", all_data_local_folder + \"05_bs_completed.csv\")"
   ]
  },
  {
   "cell_type": "markdown",
   "metadata": {},
   "source": [
    "## 02_Complete CF"
   ]
  },
  {
   "cell_type": "markdown",
   "metadata": {},
   "source": [
    "### load data"
   ]
  },
  {
   "cell_type": "code",
   "execution_count": null,
   "metadata": {},
   "outputs": [
    {
     "name": "stdout",
     "output_type": "stream",
     "text": [
      "lines with missing values:  8631\n"
     ]
    }
   ],
   "source": [
    "cf_df = load_data(\"cf\")\n",
    "count_null(cf_df)"
   ]
  },
  {
   "cell_type": "code",
   "execution_count": null,
   "metadata": {},
   "outputs": [
    {
     "data": {
      "text/plain": [
       "(116187, 16)"
      ]
     },
     "execution_count": null,
     "metadata": {},
     "output_type": "execute_result"
    }
   ],
   "source": [
    "cf_df.shape"
   ]
  },
  {
   "cell_type": "code",
   "execution_count": null,
   "metadata": {},
   "outputs": [
    {
     "name": "stdout",
     "output_type": "stream",
     "text": [
      "is there just one report per ADSH:  True\n"
     ]
    }
   ],
   "source": [
    "check_number_of_reports(cf_df)"
   ]
  },
  {
   "cell_type": "markdown",
   "metadata": {},
   "source": [
    "### complete CashIncreaseDecrease"
   ]
  },
  {
   "cell_type": "code",
   "execution_count": null,
   "metadata": {},
   "outputs": [],
   "source": [
    "# per definition CashIncreaseDecrease = NetCashProvidedByUsedInOperatingActivities + NetCashProvidedByUsedInInvestingActivities + NetCashProvidedByUsedInFinancingActivities\n",
    "do_set_cshinc = (cf_df.c_CashIncreaseDecrease.isnull()  & cf_df.c_CashFromOperating.notnull()  & \n",
    "                 cf_df.c_CashFromInvesting.notnull() & cf_df.c_CashFromFinancing.notnull())\n",
    "cf_df.loc[do_set_cshinc, 'c_CashIncreaseDecrease'] = cf_df.loc[do_set_cshinc, 'c_CashFromOperating'] \\\n",
    "                                                    + cf_df.loc[do_set_cshinc, 'c_CashFromInvesting'] \\\n",
    "                                                    + cf_df.loc[do_set_cshinc, 'c_CashFromFinancing'] "
   ]
  },
  {
   "cell_type": "code",
   "execution_count": null,
   "metadata": {},
   "outputs": [
    {
     "name": "stdout",
     "output_type": "stream",
     "text": [
      "lines with missing values:  377\n"
     ]
    }
   ],
   "source": [
    "count_null(cf_df)"
   ]
  },
  {
   "cell_type": "markdown",
   "metadata": {},
   "source": [
    "### complete c_CashFromOperating"
   ]
  },
  {
   "cell_type": "code",
   "execution_count": null,
   "metadata": {},
   "outputs": [],
   "source": [
    "# per definition CashIncreaseDecrease = CashFromOperating + CashFromInvesting + CashFromFinancing\n",
    "# hence CashFromOperating = CashIncreaseDecrease - (CashFromInvesting + CashFromFinancing)\n",
    "do_set_netop = (cf_df.c_CashIncreaseDecrease.notnull()  & cf_df.c_CashFromOperating.isnull()  & \n",
    "                 cf_df.c_CashFromInvesting.notnull() & cf_df.c_CashFromFinancing.notnull())\n",
    "cf_df.loc[do_set_netop, 'c_CashFromOperating'] = cf_df.loc[do_set_netop, 'c_CashIncreaseDecrease'] \\\n",
    "                                                 - (cf_df.loc[do_set_netop, 'c_CashFromInvesting']  + cf_df.loc[do_set_netop, 'c_CashFromFinancing'] )"
   ]
  },
  {
   "cell_type": "code",
   "execution_count": null,
   "metadata": {},
   "outputs": [
    {
     "name": "stdout",
     "output_type": "stream",
     "text": [
      "lines with missing values:  312\n"
     ]
    }
   ],
   "source": [
    "count_null(cf_df)"
   ]
  },
  {
   "cell_type": "markdown",
   "metadata": {},
   "source": [
    "### invert values for c_PaymentsOfDividendsTotal and c_PaymentsForRepurchaseOfStockTotal\n",
    "Since PaymentsOfDividends and PaymentsForRepurchaseOfStock are outflowing, they appear with a negative number. However, it more intuitiv if have them as positive values"
   ]
  },
  {
   "cell_type": "code",
   "execution_count": null,
   "metadata": {},
   "outputs": [],
   "source": [
    "cf_df.c_PaymentsOfDividendsTotal = - cf_df.c_PaymentsOfDividendsTotal\n",
    "cf_df.c_PaymentsForRepurchaseOfStockTotal = - cf_df.c_PaymentsForRepurchaseOfStockTotal"
   ]
  },
  {
   "cell_type": "markdown",
   "metadata": {},
   "source": [
    "### save"
   ]
  },
  {
   "cell_type": "code",
   "execution_count": null,
   "metadata": {},
   "outputs": [
    {
     "data": {
      "text/plain": [
       "'./data/05_cf_completed.csv'"
      ]
     },
     "execution_count": null,
     "metadata": {},
     "output_type": "execute_result"
    }
   ],
   "source": [
    "fields_to_drop = set(analyze_fields).intersection(set(cf_df.columns))\n",
    "cf_df.drop(columns=fields_to_drop).to_csv(all_completed_folder + \"05_cf_completed.csv\", index=False)\n",
    "\n",
    "# make copy to directory under git control\n",
    "shutil.copy(all_completed_folder + \"05_cf_completed.csv\", all_data_local_folder + \"05_cf_completed.csv\")"
   ]
  },
  {
   "cell_type": "markdown",
   "metadata": {},
   "source": [
    "## 02_Complete IS"
   ]
  },
  {
   "cell_type": "markdown",
   "metadata": {},
   "source": [
    "### load data"
   ]
  },
  {
   "cell_type": "code",
   "execution_count": null,
   "metadata": {},
   "outputs": [
    {
     "name": "stdout",
     "output_type": "stream",
     "text": [
      "lines with missing values:  116275\n"
     ]
    }
   ],
   "source": [
    "is_df = load_data(\"is\")\n",
    "count_null(is_df)"
   ]
  },
  {
   "cell_type": "code",
   "execution_count": null,
   "metadata": {},
   "outputs": [
    {
     "data": {
      "text/plain": [
       "(116298, 17)"
      ]
     },
     "execution_count": null,
     "metadata": {},
     "output_type": "execute_result"
    }
   ],
   "source": [
    "is_df.shape"
   ]
  },
  {
   "cell_type": "code",
   "execution_count": null,
   "metadata": {},
   "outputs": [
    {
     "name": "stdout",
     "output_type": "stream",
     "text": [
      "is there just one report per ADSH:  True\n"
     ]
    }
   ],
   "source": [
    "check_number_of_reports(is_df)"
   ]
  },
  {
   "cell_type": "markdown",
   "metadata": {},
   "source": [
    "### complete GrossProfit"
   ]
  },
  {
   "cell_type": "code",
   "execution_count": null,
   "metadata": {},
   "outputs": [],
   "source": [
    "# per definition Grossprofit = Revenues - CostOfRevenue\n",
    "do_set_grossp = (is_df.c_Revenues.notnull()  & is_df.c_CostOfRevenue.notnull()  & is_df.GrossProfit.isnull())\n",
    "is_df.loc[do_set_grossp, 'GrossProfit'] = is_df.loc[do_set_grossp, 'c_Revenues'] - is_df.loc[do_set_grossp, 'c_CostOfRevenue']"
   ]
  },
  {
   "cell_type": "code",
   "execution_count": null,
   "metadata": {},
   "outputs": [],
   "source": [
    "# per definition: grossprofit - opexpenses = op-income -> grossprofit = opincome + opexpenses\n",
    "do_set_grossp1 = (is_df.OperatingExpenses.notnull()  & is_df.c_OperatingIncomeLoss.notnull()  & is_df.GrossProfit.isnull())\n",
    "is_df.loc[do_set_grossp1, 'GrossProfit'] = is_df.loc[do_set_grossp1, 'c_OperatingIncomeLoss'] + is_df.loc[do_set_grossp1, 'OperatingExpenses']"
   ]
  },
  {
   "cell_type": "markdown",
   "metadata": {},
   "source": [
    "### complete Revenues"
   ]
  },
  {
   "cell_type": "code",
   "execution_count": null,
   "metadata": {},
   "outputs": [],
   "source": [
    "# per definition Grossprofit = Revenues - CostOfRevenue -> Revenues = Grossprofit + CostOfRevenue\n",
    "do_set_rev = (is_df.c_Revenues.isnull()  & is_df.c_CostOfRevenue.notnull()  & is_df.GrossProfit.notnull())\n",
    "is_df.loc[do_set_rev, 'c_Revenues'] = is_df.loc[do_set_rev, 'c_CostOfRevenue'] + is_df.loc[do_set_rev, 'GrossProfit']\n",
    "set_to_zero_if_null(is_df,'c_Revenues')"
   ]
  },
  {
   "cell_type": "markdown",
   "metadata": {},
   "source": [
    "### complete CostOfRevenue"
   ]
  },
  {
   "cell_type": "code",
   "execution_count": null,
   "metadata": {},
   "outputs": [],
   "source": [
    "# per definition Grossprofit = Revenues - CostOfRevenue -> CostOfRevenue = Revenues - Grossprofit\n",
    "do_set_cstrev = (is_df.c_Revenues.notnull()  & is_df.c_CostOfRevenue.isnull()  & is_df.GrossProfit.notnull())\n",
    "is_df.loc[do_set_cstrev, 'c_CostOfRevenue'] = is_df.loc[do_set_cstrev, 'c_Revenues'] - is_df.loc[do_set_cstrev, 'GrossProfit']"
   ]
  },
  {
   "cell_type": "markdown",
   "metadata": {},
   "source": [
    "### complete OperatingIncomeLoss"
   ]
  },
  {
   "cell_type": "code",
   "execution_count": null,
   "metadata": {},
   "outputs": [],
   "source": [
    "# per definition: opIncomeLoss = grossprofit - opexpenses\n",
    "do_set_opinc = (is_df.OperatingExpenses.notnull()  & is_df.GrossProfit.notnull()  & is_df.c_OperatingIncomeLoss.isnull())\n",
    "is_df.loc[do_set_opinc, 'c_OperatingIncomeLoss'] = is_df.loc[do_set_opinc, 'GrossProfit'] - is_df.loc[do_set_opinc, 'OperatingExpenses']"
   ]
  },
  {
   "cell_type": "code",
   "execution_count": null,
   "metadata": {},
   "outputs": [
    {
     "data": {
      "text/plain": [
       "4251"
      ]
     },
     "execution_count": null,
     "metadata": {},
     "output_type": "execute_result"
    }
   ],
   "source": [
    "(is_df.c_OperatingIncomeLoss.isnull()).sum()"
   ]
  },
  {
   "cell_type": "markdown",
   "metadata": {},
   "source": [
    "### estimate c_OperatingIncomeLoss based on GrossProfit and NetIncomeLoss"
   ]
  },
  {
   "cell_type": "code",
   "execution_count": null,
   "metadata": {},
   "outputs": [],
   "source": [
    "# if OperatingIncomeLoss is not set, we can try to estimate it based on the average compared to GrossProfit and NetIncomeLoss\n",
    "\n",
    "# based on existing c_OperatingIncomeLoss Values, we calculate the average c_OperatingIncomeLoss between GrossProfit and NetIncomeLoss (in percent)\n",
    "#  we may only consider entries where NetIncomeLoss isn't equal to GrossProfit. since this would cause a division by zero\n",
    "calc_mean_opinc_avg = (is_df.GrossProfit.notnull()  & is_df.c_NetIncomeLoss.notnull()  & is_df.c_OperatingIncomeLoss.notnull() & (is_df.c_NetIncomeLoss != is_df.GrossProfit))\n",
    "selected_cols = is_df[calc_mean_opinc_avg][['c_NetIncomeLoss','GrossProfit','c_OperatingIncomeLoss']].copy()\n",
    "\n",
    "avg_opinc = ((selected_cols.GrossProfit-selected_cols.c_OperatingIncomeLoss)/(selected_cols.GrossProfit-selected_cols.c_NetIncomeLoss)).mean()\n",
    "\n",
    "# if we have grossprofit and c_NetIncomeLoss, we try estimate OperatingIncomeLoss based on the average position\n",
    "do_updated_opinc = (is_df.GrossProfit.notnull() & is_df.c_OperatingIncomeLoss.isnull() & is_df.c_NetIncomeLoss.notnull())\n",
    "\n",
    "is_df.loc[do_updated_opinc,'c_OperatingIncomeLoss'] = is_df.loc[do_updated_opinc,'GrossProfit'] \\\n",
    "                                    - avg_opinc * (is_df.loc[do_updated_opinc,'GrossProfit'] - is_df.loc[do_updated_opinc,'c_NetIncomeLoss'])"
   ]
  },
  {
   "cell_type": "code",
   "execution_count": null,
   "metadata": {},
   "outputs": [
    {
     "data": {
      "text/plain": [
       "3944"
      ]
     },
     "execution_count": null,
     "metadata": {},
     "output_type": "execute_result"
    }
   ],
   "source": [
    "(is_df.c_OperatingIncomeLoss.isnull()).sum()"
   ]
  },
  {
   "cell_type": "markdown",
   "metadata": {},
   "source": [
    "### estimate c_OperatingIncomeLoss based on Revenues and NetIncomeLoss"
   ]
  },
  {
   "cell_type": "code",
   "execution_count": null,
   "metadata": {},
   "outputs": [],
   "source": [
    "# if OperatingIncomeLoss is not set, we can try to estimate it based on the average compared to Revenues and NetIncomeLoss\n",
    "\n",
    "# based on existing c_OperatingIncomeLoss Values, we calculate the average c_OperatingIncomeLoss between Revenue and NetIncomeLoss (in percent)\n",
    "calc_mean_opinc_avg = ((is_df.c_Revenues > 0.0)  & (is_df.c_NetIncomeLoss.notnull()  & is_df.c_OperatingIncomeLoss.notnull()))\n",
    "selected_cols = is_df[calc_mean_opinc_avg][['c_NetIncomeLoss','c_Revenues','c_OperatingIncomeLoss']].copy()\n",
    "\n",
    "avg_opinc = ((selected_cols.c_Revenues-selected_cols.c_OperatingIncomeLoss)/(selected_cols.c_Revenues-selected_cols.c_NetIncomeLoss)).mean()\n",
    "\n",
    "# if we have revenue and c_NetIncomeLoss, we try estimate OperatingIncomeLoss based on the average position\n",
    "do_updated_opinc = (is_df.c_Revenues.notnull() & is_df.c_OperatingIncomeLoss.isnull() & is_df.c_NetIncomeLoss.notnull())\n",
    "\n",
    "is_df.loc[do_updated_opinc,'c_OperatingIncomeLoss'] = is_df.loc[do_updated_opinc,'c_Revenues'] \\\n",
    "                                    - avg_opinc * (is_df.loc[do_updated_opinc,'c_Revenues'] - is_df.loc[do_updated_opinc,'c_NetIncomeLoss'])"
   ]
  },
  {
   "cell_type": "code",
   "execution_count": null,
   "metadata": {},
   "outputs": [
    {
     "data": {
      "text/plain": [
       "297"
      ]
     },
     "execution_count": null,
     "metadata": {},
     "output_type": "execute_result"
    }
   ],
   "source": [
    "(is_df.c_OperatingIncomeLoss.isnull()).sum()"
   ]
  },
  {
   "cell_type": "markdown",
   "metadata": {},
   "source": [
    "### estimate GrossProfit based on Revenue and OperatingIncomeLoss"
   ]
  },
  {
   "cell_type": "code",
   "execution_count": null,
   "metadata": {},
   "outputs": [],
   "source": [
    "# if Grossprofit is not set, we can try to estimate it based on the average compared to reveneue and operatingIncomeLoss\n",
    "\n",
    "# based on existing GrossProfit Values, we calculate the average grossprofit between Revenue and OperatingIncome (in percent)\n",
    "calc_mean_gp_selection = ((is_df.c_Revenues > 0.0)  & (is_df.GrossProfit.notnull()  & is_df.c_OperatingIncomeLoss.notnull()))\n",
    "selected_cols = is_df[calc_mean_gp_selection][['c_Revenues','GrossProfit','c_OperatingIncomeLoss']].copy()\n",
    "\n",
    "avg_gross = ((selected_cols.c_Revenues-selected_cols.GrossProfit)/(selected_cols.c_Revenues-selected_cols.c_OperatingIncomeLoss)).mean()\n",
    "\n",
    "# if we have revenue and operatingincome, we try estimate grossprofit based on the average position\n",
    "do_updated_grossprofit = (is_df.c_Revenues.notnull() & is_df.c_OperatingIncomeLoss.notnull() & is_df.GrossProfit.isnull())\n",
    "\n",
    "is_df.loc[do_updated_grossprofit,'GrossProfit'] = is_df.loc[do_updated_grossprofit,'c_Revenues'] \\\n",
    "                                    - avg_gross * (is_df.loc[do_updated_grossprofit,'c_Revenues'] - is_df.loc[do_updated_grossprofit,'c_OperatingIncomeLoss'])"
   ]
  },
  {
   "cell_type": "code",
   "execution_count": null,
   "metadata": {},
   "outputs": [
    {
     "data": {
      "text/plain": [
       "879"
      ]
     },
     "execution_count": null,
     "metadata": {},
     "output_type": "execute_result"
    }
   ],
   "source": [
    "(is_df.c_Revenues.isnull() | is_df.GrossProfit.isnull() | is_df.c_OperatingIncomeLoss.isnull() | is_df.c_NetIncomeLoss.isnull()).sum()"
   ]
  },
  {
   "cell_type": "code",
   "execution_count": null,
   "metadata": {},
   "outputs": [],
   "source": [
    "fields = list(pivot_group)\n",
    "fields.extend(['c_Revenues','GrossProfit','c_OperatingIncomeLoss','c_NetIncomeLoss'])"
   ]
  },
  {
   "cell_type": "markdown",
   "metadata": {},
   "source": [
    "### save"
   ]
  },
  {
   "cell_type": "code",
   "execution_count": null,
   "metadata": {},
   "outputs": [
    {
     "data": {
      "text/plain": [
       "'./data/05_is_completed.csv'"
      ]
     },
     "execution_count": null,
     "metadata": {},
     "output_type": "execute_result"
    }
   ],
   "source": [
    "is_df[fields].to_csv(all_completed_folder + \"05_is_completed.csv\", index=False)\n",
    "\n",
    "# make copy to directory under git control\n",
    "shutil.copy(all_completed_folder + \"05_is_completed.csv\", all_data_local_folder + \"05_is_completed.csv\")"
   ]
  },
  {
   "cell_type": "markdown",
   "metadata": {},
   "source": [
    "## XX_Trials"
   ]
  },
  {
   "cell_type": "code",
   "execution_count": null,
   "metadata": {},
   "outputs": [],
   "source": [
    "is_df[((is_df.c_Revenues.notnull() & is_df.GrossProfit.notnull() & is_df.c_OperatingIncomeLoss.isnull() & is_df.c_NetIncomeLoss.notnull() ))] \\\n",
    "  [['cik','adsh','c_Revenues','GrossProfit','c_OperatingIncomeLoss', 'c_NetIncomeLoss', 'OperatingExpenses','CostsAndExpenses']] #721"
   ]
  },
  {
   "cell_type": "code",
   "execution_count": null,
   "metadata": {},
   "outputs": [],
   "source": [
    "is_df[((is_df.c_Revenues.isnull() | is_df.GrossProfit.isnull() | is_df.c_OperatingIncomeLoss.isnull() | is_df.c_NetIncomeLoss.isnull() ))] \\\n",
    "  [['cik','adsh','c_Revenues','GrossProfit','c_OperatingIncomeLoss', 'c_NetIncomeLoss', 'OperatingExpenses','CostsAndExpenses']] #721"
   ]
  },
  {
   "cell_type": "code",
   "execution_count": null,
   "metadata": {},
   "outputs": [],
   "source": [
    "is_df[((is_df.CostsAndExpenses.notnull() & is_df.GrossProfit.isnull() & is_df.c_OperatingIncomeLoss.isnull()))][['cik','adsh','CostsAndExpenses', 'OperatingExpenses','GrossProfit','c_OperatingIncomeLoss']] #721\n",
    "#is_df[((is_df.OperatingExpenses.notnull() & is_df.GrossProfit.isnull() & is_df.c_OperatingIncomeLoss.notnull()))][['cik','adsh','OperatingExpenses','GrossProfit','c_OperatingIncomeLoss']] #11618"
   ]
  },
  {
   "cell_type": "code",
   "execution_count": null,
   "metadata": {},
   "outputs": [],
   "source": [
    "is_df.isnull().sum(axis=0)"
   ]
  },
  {
   "cell_type": "code",
   "execution_count": null,
   "metadata": {},
   "outputs": [],
   "source": [
    "is_df.adsh.value_counts()"
   ]
  },
  {
   "cell_type": "code",
   "execution_count": null,
   "metadata": {},
   "outputs": [],
   "source": [
    "missing_value_report(cf_df)"
   ]
  },
  {
   "cell_type": "code",
   "execution_count": null,
   "metadata": {},
   "outputs": [
    {
     "data": {
      "text/plain": [
       "True"
      ]
     },
     "execution_count": null,
     "metadata": {},
     "output_type": "execute_result"
    }
   ],
   "source": [
    "len(bs_df.adsh.unique()) == bs_df.shape[0]"
   ]
  },
  {
   "cell_type": "code",
   "execution_count": null,
   "metadata": {},
   "outputs": [],
   "source": [
    "cf_df.dtypes"
   ]
  },
  {
   "cell_type": "code",
   "execution_count": null,
   "metadata": {},
   "outputs": [
    {
     "data": {
      "text/plain": [
       "0"
      ]
     },
     "execution_count": null,
     "metadata": {},
     "output_type": "execute_result"
    }
   ],
   "source": [
    "sum(bs_df.qtrs>0)"
   ]
  },
  {
   "cell_type": "code",
   "execution_count": null,
   "metadata": {},
   "outputs": [],
   "source": [
    "df = cf_df[(cf_df.null_count == 4)]\n",
    "print(df.shape[0])\n",
    "print(df.ticker.value_counts())"
   ]
  },
  {
   "cell_type": "code",
   "execution_count": null,
   "metadata": {},
   "outputs": [
    {
     "data": {
      "text/plain": [
       "Index(['cik', 'ticker', 'adsh', 'period', 'filed', 'form', 'qtrs', 'fp',\n",
       "       'c_CashIncreaseDecrease', 'c_CashFromOperating', 'c_CashFromInvesting',\n",
       "       'c_CashFromFinancing', 'c_PaymentsOfDividendsTotal',\n",
       "       'c_PaymentsForRepurchaseOfStockTotal', 'value_count', 'null_count'],\n",
       "      dtype='object')"
      ]
     },
     "execution_count": null,
     "metadata": {},
     "output_type": "execute_result"
    }
   ],
   "source": [
    "cf_df.columns"
   ]
  },
  {
   "cell_type": "code",
   "execution_count": null,
   "metadata": {},
   "outputs": [
    {
     "name": "stdout",
     "output_type": "stream",
     "text": [
      "312\n",
      "0\n",
      "0\n"
     ]
    }
   ],
   "source": [
    "print(cf_df.c_CashFromOperating.isnull().sum())\n",
    "print(cf_df.c_CashFromInvesting.isnull().sum())\n",
    "print(cf_df.c_CashFromFinancing.isnull().sum())"
   ]
  },
  {
   "cell_type": "code",
   "execution_count": null,
   "metadata": {},
   "outputs": [],
   "source": []
  }
 ],
 "metadata": {
  "kernelspec": {
   "display_name": "Python 3",
   "language": "python",
   "name": "python3"
  }
 },
 "nbformat": 4,
 "nbformat_minor": 4
}
