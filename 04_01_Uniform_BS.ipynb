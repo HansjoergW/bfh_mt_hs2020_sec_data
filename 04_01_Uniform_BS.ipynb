{
 "cells": [
  {
   "cell_type": "code",
   "execution_count": null,
   "metadata": {},
   "outputs": [],
   "source": [
    "# default_exp uniformbs"
   ]
  },
  {
   "cell_type": "code",
   "execution_count": null,
   "metadata": {},
   "outputs": [],
   "source": [
    "#hide\n",
    "from nbdev.showdoc import *"
   ]
  },
  {
   "cell_type": "code",
   "execution_count": null,
   "metadata": {},
   "outputs": [
    {
     "name": "stdout",
     "output_type": "stream",
     "text": [
      "The autoreload extension is already loaded. To reload it, use:\n",
      "  %reload_ext autoreload\n"
     ]
    }
   ],
   "source": [
    "#hide\n",
    "# stellt sicher, dass beim verändern der core library diese wieder neu geladen wird\n",
    "%load_ext autoreload\n",
    "%autoreload 2"
   ]
  },
  {
   "cell_type": "markdown",
   "metadata": {},
   "source": [
    "# Uniform BS"
   ]
  },
  {
   "cell_type": "markdown",
   "metadata": {},
   "source": [
    "## Basic Settings"
   ]
  },
  {
   "cell_type": "code",
   "execution_count": null,
   "metadata": {},
   "outputs": [],
   "source": [
    "# imports\n",
    "from bfh_mt_hs2020_sec_data.core import * \n",
    "from pathlib import Path\n",
    "from typing import List, Tuple, Union, Set\n",
    "from pyspark.sql.dataframe import DataFrame\n",
    "from pyspark.sql.functions import col\n",
    "\n",
    "import pandas as pd\n",
    "\n",
    "import shutil          # provides high level file operations\n",
    "import time            # used to measure execution time\n",
    "import os\n",
    "import sys"
   ]
  },
  {
   "cell_type": "code",
   "execution_count": null,
   "metadata": {},
   "outputs": [],
   "source": [
    "all_pivot_selected_folder  = \"D:/data_mt/03_1_selected_pivot_cols_parquet\" \n",
    "all_pivoted_folder         = \"D:/data_mt/03_2_split_pivot_parquet\"         \n",
    "all_processed_folder       = \"D:/data_mt/04_unified/\"\n",
    "\n",
    "col_list =    [\"stmt\",\"cik\",\"ticker\", \"adsh\",\"period\",\"filed\", \"form\",\"tag\",\"value\",\"report\", \"line\", \"fp\", \"uom\"]\n",
    "pivot_group = [\"cik\",\"ticker\",\"adsh\",\"form\",\"period\",\"filed\",\"fp\", \"qtrs\"]"
   ]
  },
  {
   "cell_type": "code",
   "execution_count": null,
   "metadata": {},
   "outputs": [
    {
     "data": {
      "text/html": [
       "\n",
       "            <div>\n",
       "                <p><b>SparkSession - in-memory</b></p>\n",
       "                \n",
       "        <div>\n",
       "            <p><b>SparkContext</b></p>\n",
       "\n",
       "            <p><a href=\"http://192.168.0.163:4040\">Spark UI</a></p>\n",
       "\n",
       "            <dl>\n",
       "              <dt>Version</dt>\n",
       "                <dd><code>v2.4.5</code></dd>\n",
       "              <dt>Master</dt>\n",
       "                <dd><code>local[*]</code></dd>\n",
       "              <dt>AppName</dt>\n",
       "                <dd><code>default</code></dd>\n",
       "            </dl>\n",
       "        </div>\n",
       "        \n",
       "            </div>\n",
       "        "
      ],
      "text/plain": [
       "<pyspark.sql.session.SparkSession at 0x1a6db98f788>"
      ]
     },
     "execution_count": null,
     "metadata": {},
     "output_type": "execute_result"
    }
   ],
   "source": [
    "# init Spark\n",
    "spark = get_spark_session() # Session anlegen\n",
    "spark # display the moste important information of the session"
   ]
  },
  {
   "cell_type": "markdown",
   "metadata": {},
   "source": [
    "## 00_Raw_data"
   ]
  },
  {
   "cell_type": "code",
   "execution_count": null,
   "metadata": {},
   "outputs": [],
   "source": [
    "# loading the complete unpivoted dataset - if it is needed for debbuging\n",
    "df_all_selected = spark.read.parquet(all_pivot_selected_folder).cache()"
   ]
  },
  {
   "cell_type": "code",
   "execution_count": null,
   "metadata": {},
   "outputs": [],
   "source": [
    "# it happens sometimes, that the data could not be associated with a right sheet (bs, is, cf, ..). in this cases, the data can appea under \"UN\"\n",
    "# so if expected information cannot be found in the appropriate statement, we have to look in the un statement\n",
    "un_pivot_value = load_data(all_pivoted_folder, spark, \"UN\", \"value\")\n",
    "un_pivot_value = un_pivot_value.where(\"qtrs==0\")\n",
    "un_pivot_pd = un_pivot_value.toPandas()"
   ]
  },
  {
   "cell_type": "code",
   "execution_count": null,
   "metadata": {},
   "outputs": [
    {
     "data": {
      "text/plain": [
       "(2320, 1775)"
      ]
     },
     "execution_count": null,
     "metadata": {},
     "output_type": "execute_result"
    }
   ],
   "source": [
    "un_pivot_pd.shape"
   ]
  },
  {
   "cell_type": "code",
   "execution_count": null,
   "metadata": {},
   "outputs": [],
   "source": [
    "def prepare_un_values(df_to_merge_into, attr_list):\n",
    "    # add possible columns from un set to  cf data with prefix cpy_\n",
    "    attributes = pivot_group[:] # create copy\n",
    "    attributes.extend(attr_list)\n",
    "\n",
    "    un_prepared = un_pivot_pd[attributes].copy()\n",
    "    un_prepared.rename(columns=lambda x: x  if x in pivot_group else (\"cpy_\" + x), inplace=True)\n",
    "\n",
    "    return pd.merge(df_to_merge_into, un_prepared, how='left', on=pivot_group)"
   ]
  },
  {
   "cell_type": "markdown",
   "metadata": {},
   "source": [
    "## 01_Balance_Sheet"
   ]
  },
  {
   "cell_type": "code",
   "execution_count": null,
   "metadata": {},
   "outputs": [
    {
     "data": {
      "text/plain": [
       "(116519, 2069)"
      ]
     },
     "execution_count": null,
     "metadata": {},
     "output_type": "execute_result"
    }
   ],
   "source": [
    "bs_pivot_value = load_data(all_pivoted_folder, spark, \"BS\", \"value\")\n",
    "spark_shape(bs_pivot_value)"
   ]
  },
  {
   "cell_type": "code",
   "execution_count": null,
   "metadata": {},
   "outputs": [],
   "source": [
    "bs_pivot_pd = bs_pivot_value.toPandas()"
   ]
  },
  {
   "cell_type": "code",
   "execution_count": null,
   "metadata": {},
   "outputs": [],
   "source": [
    "bs_pivot_pd_copy = bs_pivot_pd.copy()"
   ]
  },
  {
   "cell_type": "markdown",
   "metadata": {},
   "source": [
    "### Merge Data from \"unknown\" statement"
   ]
  },
  {
   "cell_type": "code",
   "execution_count": null,
   "metadata": {},
   "outputs": [
    {
     "data": {
      "text/plain": [
       "(116519, 2081)"
      ]
     },
     "execution_count": null,
     "metadata": {},
     "output_type": "execute_result"
    }
   ],
   "source": [
    "# merge relevant columns from the UN dataset\n",
    "bs_pivot_pd_copy = prepare_un_values(bs_pivot_pd_copy, [\n",
    "    'AssetsNet',\n",
    "    'Assets',\n",
    "    'AssetsNoncurrent',\n",
    "    'AssetsCurrent',\n",
    "    'Liabilities',\n",
    "    'LiabilitiesNoncurrent',\n",
    "    'LiabilitiesCurrent',\n",
    "    'StockholdersEquity',\n",
    "    'LiabilitiesAndStockholdersEquity',\n",
    "    'RetainedEarningsAccumulatedDeficit',\n",
    "    'PartnersCapital',\n",
    "    'StockholdersEquityIncludingPortionAttributableToNoncontrollingInterest',\n",
    "])\n",
    "bs_pivot_pd_copy.shape"
   ]
  },
  {
   "cell_type": "markdown",
   "metadata": {},
   "source": [
    "### Assets"
   ]
  },
  {
   "cell_type": "code",
   "execution_count": null,
   "metadata": {},
   "outputs": [
    {
     "name": "stdout",
     "output_type": "stream",
     "text": [
      "Assets   452\n",
      "AssetsNoncurrent   110595\n",
      "AssetsCurrent   26704\n"
     ]
    }
   ],
   "source": [
    "print_null_count(bs_pivot_pd_copy, ['Assets','AssetsNoncurrent','AssetsCurrent'])"
   ]
  },
  {
   "cell_type": "code",
   "execution_count": null,
   "metadata": {},
   "outputs": [],
   "source": [
    "# if present, copy data from UN dataset\n",
    "copy_if_not_empty(bs_pivot_pd_copy, 'cpy_AssetsNet', 'AssetsNet')\n",
    "copy_if_not_empty(bs_pivot_pd_copy, 'cpy_Assets', 'Assets')\n",
    "copy_if_not_empty(bs_pivot_pd_copy, 'cpy_AssetsNoncurrent', 'AssetsNoncurrent')\n",
    "copy_if_not_empty(bs_pivot_pd_copy, 'cpy_AssetsCurrent', 'AssetsCurrent')\n",
    "\n",
    "\n",
    "# Sometimes AssetsNet is present instead of Assets, copy its content to Assets\n",
    "copy_if_not_empty(bs_pivot_pd_copy, 'AssetsNet', 'Assets')\n",
    "\n",
    "# if one of the three provided columns is missing, calculate its content based on Assets = AssetsCurrent + AssetsNoncurrent\n",
    "complete_addition(bs_pivot_pd_copy, 'Assets', 'AssetsCurrent', 'AssetsNoncurrent')\n",
    "\n",
    "# if Assets contains data but AssetsCurrent and AssetsNoncurrent are empty, assume that only AssetsCurrent is present\n",
    "# copy value from Assets to AssetsCurrent and set AssetsNoncurrent to 0.0\n",
    "copy_if_not_empty(bs_pivot_pd_copy, 'Assets', 'AssetsCurrent', 'AssetsNoncurrent')\n",
    "\n",
    "# if AssetsCurrent contains data and Assets  and AssetsNoncurrent are empty, assume that only AssetsCurrent is present\n",
    "# copy value from AssetsCurrent to Assets and set AssetsNoncurrent to 0.0\n",
    "copy_if_not_empty(bs_pivot_pd_copy, 'AssetsCurrent', 'Assets', 'AssetsNoncurrent')"
   ]
  },
  {
   "cell_type": "code",
   "execution_count": null,
   "metadata": {},
   "outputs": [
    {
     "name": "stdout",
     "output_type": "stream",
     "text": [
      "Assets   243\n",
      "AssetsNoncurrent   243\n",
      "AssetsCurrent   243\n"
     ]
    }
   ],
   "source": [
    "# check for how many entries Assets, AssetsNoncurrent and AsstesCurrent couldn't be completed\n",
    "print_null_count(bs_pivot_pd_copy, ['Assets','AssetsNoncurrent','AssetsCurrent'])"
   ]
  },
  {
   "cell_type": "markdown",
   "metadata": {},
   "source": [
    "### Liabilities"
   ]
  },
  {
   "cell_type": "code",
   "execution_count": null,
   "metadata": {},
   "outputs": [
    {
     "name": "stdout",
     "output_type": "stream",
     "text": [
      "Liabilities   28633\n",
      "LiabilitiesNoncurrent   102470\n",
      "LiabilitiesCurrent   27067\n"
     ]
    }
   ],
   "source": [
    "print_null_count(bs_pivot_pd_copy, ['Liabilities','LiabilitiesNoncurrent','LiabilitiesCurrent'])"
   ]
  },
  {
   "cell_type": "code",
   "execution_count": null,
   "metadata": {},
   "outputs": [],
   "source": [
    "# if present, copy data from UN dataset\n",
    "copy_if_not_empty(bs_pivot_pd_copy, 'cpy_Liabilities', 'Liabilities')\n",
    "copy_if_not_empty(bs_pivot_pd_copy, 'cpy_LiabilitiesNoncurrent', 'LiabilitiesNoncurrent')\n",
    "copy_if_not_empty(bs_pivot_pd_copy, 'cpy_LiabilitiesCurrent', 'LiabilitiesCurrent')\n",
    "\n",
    "complete_addition(bs_pivot_pd_copy, 'Liabilities', 'LiabilitiesCurrent', 'LiabilitiesNoncurrent')\n",
    "\n",
    "copy_if_not_empty(bs_pivot_pd_copy, 'Liabilities', 'LiabilitiesCurrent', 'LiabilitiesNoncurrent')\n",
    "copy_if_not_empty(bs_pivot_pd_copy, 'LiabilitiesCurrent', 'Liabilities', 'LiabilitiesNoncurrent')"
   ]
  },
  {
   "cell_type": "code",
   "execution_count": null,
   "metadata": {},
   "outputs": [
    {
     "name": "stdout",
     "output_type": "stream",
     "text": [
      "Liabilities   551\n",
      "LiabilitiesNoncurrent   550\n",
      "LiabilitiesCurrent   551\n"
     ]
    }
   ],
   "source": [
    "# check for how many entries we were not able to complete the Liabilities information\n",
    "print_null_count(bs_pivot_pd_copy, ['Liabilities','LiabilitiesNoncurrent','LiabilitiesCurrent'])"
   ]
  },
  {
   "cell_type": "markdown",
   "metadata": {},
   "source": [
    "### Equity\n",
    "In the Equity section of the balance sheet, we are intereste in the StockholdersEquity and the Earnings (Tag. RetainedEarningsAccumulatedDeficit)"
   ]
  },
  {
   "cell_type": "code",
   "execution_count": null,
   "metadata": {},
   "outputs": [
    {
     "name": "stdout",
     "output_type": "stream",
     "text": [
      "StockholdersEquity   10549\n",
      "RetainedEarningsAccumulatedDeficit   9047\n"
     ]
    }
   ],
   "source": [
    "print_null_count(bs_pivot_pd_copy, ['StockholdersEquity','RetainedEarningsAccumulatedDeficit'])"
   ]
  },
  {
   "cell_type": "code",
   "execution_count": null,
   "metadata": {},
   "outputs": [],
   "source": [
    "bs_pivot_pd_copy['c_Equity'] = None\n",
    "bs_pivot_pd_copy['c_RetainedEarnings'] = None\n",
    "\n",
    "copy_if_not_empty(bs_pivot_pd_copy, 'cpy_PartnersCapital', 'PartnersCapital')\n",
    "copy_if_not_empty(bs_pivot_pd_copy, 'cpy_StockholdersEquity', 'StockholdersEquity')\n",
    "copy_if_not_empty(bs_pivot_pd_copy, 'cpy_StockholdersEquityIncludingPortionAttributableToNoncontrollingInterest', 'StockholdersEquityIncludingPortionAttributableToNoncontrollingInterest')\n",
    "copy_if_not_empty(bs_pivot_pd_copy, 'cpy_RetainedEarningsAccumulatedDeficit', 'RetainedEarningsAccumulatedDeficit')\n",
    "\n",
    "copy_if_not_empty(bs_pivot_pd_copy, 'StockholdersEquity', 'c_Equity') \n",
    "\n",
    "# if there is partner capital but no StockholdersEquite, we consider it the same as stockholder equity\n",
    "copy_if_not_empty(bs_pivot_pd_copy, 'PartnersCapital', 'c_Equity') \n",
    "\n",
    "# if there is StockholdersEquityIncludingPortionAttributableToNoncontrollingInterest instead of StockholdersEquity, we use this as StocholdersEquity\n",
    "copy_if_not_empty(bs_pivot_pd_copy, 'StockholdersEquityIncludingPortionAttributableToNoncontrollingInterest', 'c_Equity') \n",
    "\n",
    "# if RetainedEarnings has no value, we set it to zero\n",
    "copy_if_not_empty(bs_pivot_pd_copy, 'RetainedEarningsAccumulatedDeficit', 'c_RetainedEarnings') \n",
    "set_to_zero_if_null(bs_pivot_pd_copy, 'c_RetainedEarnings')"
   ]
  },
  {
   "cell_type": "code",
   "execution_count": null,
   "metadata": {},
   "outputs": [
    {
     "name": "stdout",
     "output_type": "stream",
     "text": [
      "c_Equity   987\n",
      "c_RetainedEarnings   0\n"
     ]
    }
   ],
   "source": [
    "print_null_count(bs_pivot_pd_copy, ['c_Equity','c_RetainedEarnings'])"
   ]
  },
  {
   "cell_type": "markdown",
   "metadata": {},
   "source": [
    "### Save"
   ]
  },
  {
   "cell_type": "code",
   "execution_count": null,
   "metadata": {},
   "outputs": [],
   "source": [
    "bs_pivot_pd_copy[[\"cik\",\"ticker\", \"adsh\",\"period\",\"filed\",\"form\", \"qtrs\",\"fp\",\n",
    "                 'Assets','AssetsNoncurrent', 'AssetsCurrent', \n",
    "                 'Liabilities','LiabilitiesNoncurrent','LiabilitiesCurrent', \n",
    "                 'c_Equity','c_RetainedEarnings']] \\\n",
    "        .to_csv(all_processed_folder + \"04_bs_unified.csv\", index=False)"
   ]
  },
  {
   "cell_type": "code",
   "execution_count": null,
   "metadata": {},
   "outputs": [],
   "source": []
  },
  {
   "cell_type": "code",
   "execution_count": null,
   "metadata": {},
   "outputs": [],
   "source": [
    "spark.stop()"
   ]
  },
  {
   "cell_type": "code",
   "execution_count": null,
   "metadata": {},
   "outputs": [],
   "source": []
  }
 ],
 "metadata": {
  "kernelspec": {
   "display_name": "Python 3",
   "language": "python",
   "name": "python3"
  }
 },
 "nbformat": 4,
 "nbformat_minor": 4
}
